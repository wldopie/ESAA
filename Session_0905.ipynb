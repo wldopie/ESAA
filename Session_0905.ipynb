{
  "nbformat": 4,
  "nbformat_minor": 0,
  "metadata": {
    "colab": {
      "provenance": [],
      "collapsed_sections": [],
      "include_colab_link": true
    },
    "kernelspec": {
      "name": "python3",
      "display_name": "Python 3"
    },
    "language_info": {
      "name": "python"
    }
  },
  "cells": [
    {
      "cell_type": "markdown",
      "metadata": {
        "id": "view-in-github",
        "colab_type": "text"
      },
      "source": [
        "<a href=\"https://colab.research.google.com/github/wldopie/ESAA/blob/main/Session_0905.ipynb\" target=\"_parent\"><img src=\"https://colab.research.google.com/assets/colab-badge.svg\" alt=\"Open In Colab\"/></a>"
      ]
    },
    {
      "cell_type": "markdown",
      "source": [
        "## **| 분류 연습 문제**\n",
        "___\n",
        "출처 : 핸즈온 머신러닝 Ch03 분류 연습문제 1, 2번"
      ],
      "metadata": {
        "id": "zCu72vDHGMHo"
      }
    },
    {
      "cell_type": "code",
      "source": [
        "# import data\n",
        "from sklearn.datasets import fetch_openml\n",
        "mnist = fetch_openml('mnist_784', version = 1, as_frame = False)"
      ],
      "metadata": {
        "id": "tBMD6RMQJcnZ"
      },
      "execution_count": null,
      "outputs": []
    },
    {
      "cell_type": "code",
      "source": [
        "X, y = mnist[\"data\"], mnist[\"target\"]"
      ],
      "metadata": {
        "id": "0acMMz8YKS7v"
      },
      "execution_count": null,
      "outputs": []
    },
    {
      "cell_type": "markdown",
      "source": [
        "### **1. MNIST 데이터셋으로 분류기를 만들어 테스트 세트에서 97% 정확도를 달성해보세요.**\n",
        "___\n",
        "\n",
        "1. `KNeghtborsClassifier`를 사용하는 것을 추천합니다. \n",
        "2. `weights`와 `n_neighbors` 하이퍼 파라미터로 그리드 탐색을 시도하여, 좋은 하이퍼 파라미터 값을 찾아보세요."
      ],
      "metadata": {
        "id": "j3g-_Dq9GiuT"
      }
    },
    {
      "cell_type": "code",
      "execution_count": null,
      "metadata": {
        "id": "188lZyYEGJZ7"
      },
      "outputs": [],
      "source": [
        "# import package\n",
        "from sklearn.neighbors import KNeighborsClassifier\n",
        "from sklearn.model_selection import GridSearchCV\n",
        "from sklearn.metrics import accuracy_score\n",
        "\n",
        "X_train,X_test,y_train,y_test = X[:60000],X[60000:],y[:60000],y[60000:]"
      ]
    },
    {
      "cell_type": "code",
      "source": [
        "# Try GridSearch to optimize hyperparameter\n",
        "param_grid = [{'weights': ['uniform','distance'],'n_neighbors': [3,4,5]}]\n",
        "\n",
        "knn_clf = KNeighborsClassifier()\n",
        "grid_search = GridSearchCV(knn_clf, param_grid, cv=5)\n",
        "grid_search.fit(X_train,y_train)"
      ],
      "metadata": {
        "id": "lXF4M2MdIpKa",
        "colab": {
          "base_uri": "https://localhost:8080/"
        },
        "outputId": "3acb08a8-cdf1-4ac1-bdc0-c6732b834fcf"
      },
      "execution_count": null,
      "outputs": [
        {
          "output_type": "execute_result",
          "data": {
            "text/plain": [
              "GridSearchCV(cv=5, estimator=KNeighborsClassifier(),\n",
              "             param_grid=[{'n_neighbors': [3, 4, 5],\n",
              "                          'weights': ['uniform', 'distance']}])"
            ]
          },
          "metadata": {},
          "execution_count": 8
        }
      ]
    },
    {
      "cell_type": "code",
      "source": [
        "# best hyperparameter\n",
        "grid_search.best_params_"
      ],
      "metadata": {
        "id": "J0NiljKhJJlj",
        "colab": {
          "base_uri": "https://localhost:8080/"
        },
        "outputId": "98891d49-b4f4-4634-de9b-20202558903b"
      },
      "execution_count": null,
      "outputs": [
        {
          "output_type": "execute_result",
          "data": {
            "text/plain": [
              "{'n_neighbors': 4, 'weights': 'distance'}"
            ]
          },
          "metadata": {},
          "execution_count": 9
        }
      ]
    },
    {
      "cell_type": "code",
      "source": [
        "# best score\n",
        "grid_search.best_score_"
      ],
      "metadata": {
        "id": "DPLNro_xJTrx",
        "colab": {
          "base_uri": "https://localhost:8080/"
        },
        "outputId": "74bba00f-3364-4043-a187-8efd895181c1"
      },
      "execution_count": null,
      "outputs": [
        {
          "output_type": "execute_result",
          "data": {
            "text/plain": [
              "0.9716166666666666"
            ]
          },
          "metadata": {},
          "execution_count": 10
        }
      ]
    },
    {
      "cell_type": "code",
      "source": [
        "# model test\n",
        "pred = grid_search.predict(X_test)\n",
        "accuracy_score(y_test,pred)"
      ],
      "metadata": {
        "id": "CVY_c-DMJX70",
        "colab": {
          "base_uri": "https://localhost:8080/"
        },
        "outputId": "df24cb1a-53f1-41c1-bc20-72674ce1d2d0"
      },
      "execution_count": null,
      "outputs": [
        {
          "output_type": "execute_result",
          "data": {
            "text/plain": [
              "0.9714"
            ]
          },
          "metadata": {},
          "execution_count": 11
        }
      ]
    },
    {
      "cell_type": "markdown",
      "source": [
        "### **2. 다음 단계를 따라 인위적으로 훈련 세트를 늘리는 데이터 증식 또는 훈련 세트 확장 기법을 연습해봅시다.**\n",
        "___"
      ],
      "metadata": {
        "id": "-pDjW5XcHPOt"
      }
    },
    {
      "cell_type": "markdown",
      "source": [
        "#### **STEP 1. MNIST 이미지를 (왼, 오른, 위, 아래) 어느 방향으로든 한 픽셀 이동시킬 수 있는 함수를 만들어 보세요.**"
      ],
      "metadata": {
        "id": "_xhEB_KtH47q"
      }
    },
    {
      "cell_type": "code",
      "source": [
        "from scipy.ndimage.interpolation import shift"
      ],
      "metadata": {
        "id": "DKw9INbrJgpv"
      },
      "execution_count": null,
      "outputs": []
    },
    {
      "cell_type": "code",
      "source": [
        "def shift_image(image,dx,dy):\n",
        "  image = image.reshape((28,28))\n",
        "  shift_image = shift(image,[dx,dy],mode='constant')\n",
        "\n",
        "  return shift_image.reshape([-1])"
      ],
      "metadata": {
        "id": "3CLxYCROIAk6"
      },
      "execution_count": null,
      "outputs": []
    },
    {
      "cell_type": "markdown",
      "source": [
        "####  **STEP 2. 앞에서 만든 함수를 이용하여, 훈련 세트에 있는 각 이미지에 대해 네 개의 이동된 복사본(방향마다 한 개씩)을 만들어 훈련 세트에 추가하세요**"
      ],
      "metadata": {
        "id": "AHgSqi-zIBCd"
      }
    },
    {
      "cell_type": "code",
      "source": [
        "X_train_augmented = [image for image in X_train]\n",
        "y_train_augmented = [label for label in y_train]\n",
        "\n",
        "for dx, dy in ((1, 0), (-1, 0), (0, 1), (0, -1)):\n",
        "    for image, label in zip(X_train, y_train):\n",
        "        X_train_augmented.append(shift_image(image, dx, dy))\n",
        "        y_train_augmented.append(label)\n",
        "\n",
        "X_train_augmented = np.array(X_train_augmented)\n",
        "y_train_augmented = np.array(y_train_augmented)"
      ],
      "metadata": {
        "id": "K_vni16VROkI"
      },
      "execution_count": null,
      "outputs": []
    },
    {
      "cell_type": "code",
      "source": [
        "shuffle_idx = np.random.permutation(len(X_train_augmented))\n",
        "X_train_augmented = X_train_augmented[shuffle_idx]\n",
        "y_train_augmented = y_train_augmented[shuffle_idx]"
      ],
      "metadata": {
        "id": "CqzYocPaSUmm"
      },
      "execution_count": null,
      "outputs": []
    },
    {
      "cell_type": "markdown",
      "source": [
        "####  **STEP 3. 위에서 확장한 데이터셋을 이용하여, 1번 문제에서 찾은 최적 모델을 훈련시키고, 테스트 세트에서 정확도를 측정해보세요**"
      ],
      "metadata": {
        "id": "zWozt0n2IJZL"
      }
    },
    {
      "cell_type": "code",
      "source": [
        "knn_clf = KNeighborsClassifier(**grid_search.best_params_)"
      ],
      "metadata": {
        "id": "Yo4H-hTRIW7-"
      },
      "execution_count": null,
      "outputs": []
    },
    {
      "cell_type": "code",
      "source": [
        "knn_clf.fit(X_train_augmented,y_train_augmented)"
      ],
      "metadata": {
        "id": "fVdwwmSYKDmF",
        "colab": {
          "base_uri": "https://localhost:8080/"
        },
        "outputId": "ef9e834f-eec0-463d-ea58-8a442421d26a"
      },
      "execution_count": null,
      "outputs": [
        {
          "output_type": "execute_result",
          "data": {
            "text/plain": [
              "KNeighborsClassifier(n_neighbors=4, weights='distance')"
            ]
          },
          "metadata": {},
          "execution_count": 33
        }
      ]
    },
    {
      "cell_type": "code",
      "source": [
        "pred = knn_clf.predict(X_test)\n",
        "accuracy_score(y_test,pred)"
      ],
      "metadata": {
        "id": "ijlm1VbOKFSN",
        "colab": {
          "base_uri": "https://localhost:8080/"
        },
        "outputId": "f370ebe1-3994-4611-eadb-591d2976d093"
      },
      "execution_count": null,
      "outputs": [
        {
          "output_type": "execute_result",
          "data": {
            "text/plain": [
              "0.9763"
            ]
          },
          "metadata": {},
          "execution_count": 34
        }
      ]
    }
  ]
}