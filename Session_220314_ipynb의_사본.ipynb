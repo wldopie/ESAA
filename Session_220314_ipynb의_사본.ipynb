{
  "nbformat": 4,
  "nbformat_minor": 5,
  "metadata": {
    "colab": {
      "name": "Session_220314 .ipynb의 사본",
      "provenance": [],
      "collapsed_sections": [
        "42f8b2f9",
        "252c43e2",
        "486df8ea",
        "649e89f9",
        "3421e17f",
        "483dd554",
        "2d07be1c",
        "6415f02e",
        "fe043549",
        "cc08f71c",
        "2002cb03",
        "b7109c9f",
        "7d3131b9",
        "7c8c1fc5",
        "5795b4bd",
        "fb24674c",
        "e6e1ae2f",
        "c01f0ecf",
        "3b64a18b",
        "48413134",
        "0a532633",
        "f98713a6",
        "1abc7cc8",
        "0cf413ee",
        "215b6acc",
        "c0cf37e0",
        "c17fb213",
        "8aaab886",
        "66a04e2e",
        "f4427f7f",
        "58be9dd4",
        "7348abd0",
        "538e651c",
        "33c986d9",
        "00eb27c4",
        "928a1a15",
        "5143f7f3",
        "f62551d8",
        "6896e326",
        "aeaf4a7b",
        "3d11451b",
        "a0a45995",
        "7808578f",
        "8e83df46",
        "e67ff31c",
        "ad8821b1",
        "a0c8cbf5",
        "781fa236",
        "9c9bb0f3",
        "7d8dc135",
        "aa340126",
        "6b6d2c84",
        "7be0fe36",
        "a840a88f",
        "c2bd7385",
        "4c70397b",
        "15ba193c",
        "ec828405",
        "d94352b6",
        "7c3a9e32",
        "da9d5eeb",
        "f7b65fd5",
        "2784c996",
        "71a7574c",
        "30f06441",
        "e5737276",
        "5882e36d"
      ],
      "include_colab_link": true
    },
    "language_info": {
      "name": "python"
    },
    "kernelspec": {
      "name": "python3",
      "display_name": "Python 3"
    }
  },
  "cells": [
    {
      "cell_type": "markdown",
      "metadata": {
        "id": "view-in-github",
        "colab_type": "text"
      },
      "source": [
        "<a href=\"https://colab.research.google.com/github/wldopie/ESAA/blob/main/Session_220314_ipynb%EC%9D%98_%EC%82%AC%EB%B3%B8.ipynb\" target=\"_parent\"><img src=\"https://colab.research.google.com/assets/colab-badge.svg\" alt=\"Open In Colab\"/></a>"
      ]
    },
    {
      "cell_type": "markdown",
      "metadata": {
        "id": "bf79c78b"
      },
      "source": [
        "# 100 numpy exercises\n",
        "\n",
        "This is a collection of exercises that have been collected in the numpy mailing list, on stack overflow\n",
        "and in the numpy documentation. The goal of this collection is to offer a quick reference for both old\n",
        "and new users but also to provide a set of exercises for those who teach.\n",
        "\n",
        "\n",
        "If you find an error or think you've a better way to solve some of them, feel\n",
        "free to open an issue at <https://github.com/rougier/numpy-100>."
      ],
      "id": "bf79c78b"
    },
    {
      "cell_type": "markdown",
      "metadata": {
        "id": "8536e059"
      },
      "source": [
        "File automatically generated. See the documentation to update questions/answers/hints programmatically."
      ],
      "id": "8536e059"
    },
    {
      "cell_type": "markdown",
      "metadata": {
        "id": "e16ac60b"
      },
      "source": [
        "Run the `initialize.py` module, then for each question you can query the\n",
        "answer or an hint with `hint(n)` or `answer(n)` for `n` question number."
      ],
      "id": "e16ac60b"
    },
    {
      "cell_type": "code",
      "metadata": {
        "id": "a8453483",
        "colab": {
          "base_uri": "https://localhost:8080/"
        },
        "outputId": "0e9b4a09-6ade-437f-fd97-373abd6d0108"
      },
      "source": [
        "%run initialise.py"
      ],
      "id": "a8453483",
      "execution_count": 1,
      "outputs": [
        {
          "output_type": "stream",
          "name": "stderr",
          "text": [
            "ERROR:root:File `'initialise.py'` not found.\n"
          ]
        }
      ]
    },
    {
      "cell_type": "markdown",
      "metadata": {
        "id": "017db353"
      },
      "source": [
        "#### 1. Import the numpy package under the name `np` (★☆☆)"
      ],
      "id": "017db353"
    },
    {
      "cell_type": "code",
      "metadata": {
        "id": "68182a76"
      },
      "source": [
        "import numpy as np"
      ],
      "id": "68182a76",
      "execution_count": 53,
      "outputs": []
    },
    {
      "cell_type": "markdown",
      "metadata": {
        "id": "46950f4f"
      },
      "source": [
        "#### 2. Print the numpy version and the configuration (★☆☆)"
      ],
      "id": "46950f4f"
    },
    {
      "cell_type": "code",
      "metadata": {
        "id": "2a9f5838",
        "colab": {
          "base_uri": "https://localhost:8080/"
        },
        "outputId": "7995551e-7016-4fb0-fc44-eb8322be0d7e"
      },
      "source": [
        "print(np.__version__)\n",
        "np.show_config()"
      ],
      "id": "2a9f5838",
      "execution_count": 3,
      "outputs": [
        {
          "output_type": "stream",
          "name": "stdout",
          "text": [
            "1.21.5\n",
            "blas_mkl_info:\n",
            "  NOT AVAILABLE\n",
            "blis_info:\n",
            "  NOT AVAILABLE\n",
            "openblas_info:\n",
            "    libraries = ['openblas', 'openblas']\n",
            "    library_dirs = ['/usr/local/lib']\n",
            "    language = c\n",
            "    define_macros = [('HAVE_CBLAS', None)]\n",
            "    runtime_library_dirs = ['/usr/local/lib']\n",
            "blas_opt_info:\n",
            "    libraries = ['openblas', 'openblas']\n",
            "    library_dirs = ['/usr/local/lib']\n",
            "    language = c\n",
            "    define_macros = [('HAVE_CBLAS', None)]\n",
            "    runtime_library_dirs = ['/usr/local/lib']\n",
            "lapack_mkl_info:\n",
            "  NOT AVAILABLE\n",
            "openblas_lapack_info:\n",
            "    libraries = ['openblas', 'openblas']\n",
            "    library_dirs = ['/usr/local/lib']\n",
            "    language = c\n",
            "    define_macros = [('HAVE_CBLAS', None)]\n",
            "    runtime_library_dirs = ['/usr/local/lib']\n",
            "lapack_opt_info:\n",
            "    libraries = ['openblas', 'openblas']\n",
            "    library_dirs = ['/usr/local/lib']\n",
            "    language = c\n",
            "    define_macros = [('HAVE_CBLAS', None)]\n",
            "    runtime_library_dirs = ['/usr/local/lib']\n",
            "Supported SIMD extensions in this NumPy install:\n",
            "    baseline = SSE,SSE2,SSE3\n",
            "    found = SSSE3,SSE41,POPCNT,SSE42,AVX,F16C,FMA3,AVX2\n",
            "    not found = AVX512F,AVX512CD,AVX512_KNL,AVX512_KNM,AVX512_SKX,AVX512_CLX,AVX512_CNL,AVX512_ICL\n"
          ]
        }
      ]
    },
    {
      "cell_type": "markdown",
      "metadata": {
        "id": "e3c20b3d"
      },
      "source": [
        "#### 3. Create a null vector of size 10 (★☆☆)"
      ],
      "id": "e3c20b3d"
    },
    {
      "cell_type": "code",
      "metadata": {
        "id": "8a758bcf",
        "colab": {
          "base_uri": "https://localhost:8080/"
        },
        "outputId": "a195f1d0-e20f-4d41-f4ae-0a447e2da20d"
      },
      "source": [
        "a = np.zeros(10)\n",
        "print(a)"
      ],
      "id": "8a758bcf",
      "execution_count": 4,
      "outputs": [
        {
          "output_type": "stream",
          "name": "stdout",
          "text": [
            "[0. 0. 0. 0. 0. 0. 0. 0. 0. 0.]\n"
          ]
        }
      ]
    },
    {
      "cell_type": "markdown",
      "metadata": {
        "id": "b15a879f"
      },
      "source": [
        "#### 4. How to find the memory size of any array (★☆☆)"
      ],
      "id": "b15a879f"
    },
    {
      "cell_type": "code",
      "metadata": {
        "id": "1cc3cbc5",
        "colab": {
          "base_uri": "https://localhost:8080/"
        },
        "outputId": "741370fd-48e9-4378-ba2d-46089e1ef902"
      },
      "source": [
        "a.itemsize      # itemsize : memory size를 확인할 수 있는 명령어"
      ],
      "id": "1cc3cbc5",
      "execution_count": 6,
      "outputs": [
        {
          "output_type": "execute_result",
          "data": {
            "text/plain": [
              "8"
            ]
          },
          "metadata": {},
          "execution_count": 6
        }
      ]
    },
    {
      "cell_type": "markdown",
      "metadata": {
        "id": "0a708990"
      },
      "source": [
        "#### 5. How to get the documentation of the numpy add function from the command line? (★☆☆)"
      ],
      "id": "0a708990"
    },
    {
      "cell_type": "code",
      "metadata": {
        "id": "477e01f4",
        "colab": {
          "base_uri": "https://localhost:8080/"
        },
        "outputId": "e19c7bd0-773e-4f0a-8165-5132ddbd4154"
      },
      "source": [
        "import numpy; numpy.info(numpy.add)"
      ],
      "id": "477e01f4",
      "execution_count": 7,
      "outputs": [
        {
          "output_type": "stream",
          "name": "stdout",
          "text": [
            "add(x1, x2, /, out=None, *, where=True, casting='same_kind', order='K', dtype=None, subok=True[, signature, extobj])\n",
            "\n",
            "Add arguments element-wise.\n",
            "\n",
            "Parameters\n",
            "----------\n",
            "x1, x2 : array_like\n",
            "    The arrays to be added.\n",
            "    If ``x1.shape != x2.shape``, they must be broadcastable to a common\n",
            "    shape (which becomes the shape of the output).\n",
            "out : ndarray, None, or tuple of ndarray and None, optional\n",
            "    A location into which the result is stored. If provided, it must have\n",
            "    a shape that the inputs broadcast to. If not provided or None,\n",
            "    a freshly-allocated array is returned. A tuple (possible only as a\n",
            "    keyword argument) must have length equal to the number of outputs.\n",
            "where : array_like, optional\n",
            "    This condition is broadcast over the input. At locations where the\n",
            "    condition is True, the `out` array will be set to the ufunc result.\n",
            "    Elsewhere, the `out` array will retain its original value.\n",
            "    Note that if an uninitialized `out` array is created via the default\n",
            "    ``out=None``, locations within it where the condition is False will\n",
            "    remain uninitialized.\n",
            "**kwargs\n",
            "    For other keyword-only arguments, see the\n",
            "    :ref:`ufunc docs <ufuncs.kwargs>`.\n",
            "\n",
            "Returns\n",
            "-------\n",
            "add : ndarray or scalar\n",
            "    The sum of `x1` and `x2`, element-wise.\n",
            "    This is a scalar if both `x1` and `x2` are scalars.\n",
            "\n",
            "Notes\n",
            "-----\n",
            "Equivalent to `x1` + `x2` in terms of array broadcasting.\n",
            "\n",
            "Examples\n",
            "--------\n",
            ">>> np.add(1.0, 4.0)\n",
            "5.0\n",
            ">>> x1 = np.arange(9.0).reshape((3, 3))\n",
            ">>> x2 = np.arange(3.0)\n",
            ">>> np.add(x1, x2)\n",
            "array([[  0.,   2.,   4.],\n",
            "       [  3.,   5.,   7.],\n",
            "       [  6.,   8.,  10.]])\n",
            "\n",
            "The ``+`` operator can be used as a shorthand for ``np.add`` on ndarrays.\n",
            "\n",
            ">>> x1 = np.arange(9.0).reshape((3, 3))\n",
            ">>> x2 = np.arange(3.0)\n",
            ">>> x1 + x2\n",
            "array([[ 0.,  2.,  4.],\n",
            "       [ 3.,  5.,  7.],\n",
            "       [ 6.,  8., 10.]])\n"
          ]
        }
      ]
    },
    {
      "cell_type": "markdown",
      "metadata": {
        "id": "0b16cd77"
      },
      "source": [
        "#### 6. Create a null vector of size 10 but the fifth value which is 1 (★☆☆)"
      ],
      "id": "0b16cd77"
    },
    {
      "cell_type": "code",
      "metadata": {
        "id": "4d9b5975",
        "colab": {
          "base_uri": "https://localhost:8080/"
        },
        "outputId": "a0198d32-9924-40c3-86f0-9c666be2aa29"
      },
      "source": [
        "a = np.zeros(10)\n",
        "a[4]=1      # 5번째 값이므로, index=4\n",
        "print(a)"
      ],
      "id": "4d9b5975",
      "execution_count": 9,
      "outputs": [
        {
          "output_type": "stream",
          "name": "stdout",
          "text": [
            "[0. 0. 0. 0. 1. 0. 0. 0. 0. 0.]\n"
          ]
        }
      ]
    },
    {
      "cell_type": "markdown",
      "metadata": {
        "id": "782d4c77"
      },
      "source": [
        "#### 7. Create a vector with values ranging from 10 to 49 (★☆☆)"
      ],
      "id": "782d4c77"
    },
    {
      "cell_type": "code",
      "metadata": {
        "id": "5dbe1a08",
        "colab": {
          "base_uri": "https://localhost:8080/"
        },
        "outputId": "e61d9060-3597-4a5f-cad1-345e945c547e"
      },
      "source": [
        "a = np.arange(10,50)\n",
        "print(a)"
      ],
      "id": "5dbe1a08",
      "execution_count": 10,
      "outputs": [
        {
          "output_type": "stream",
          "name": "stdout",
          "text": [
            "[10 11 12 13 14 15 16 17 18 19 20 21 22 23 24 25 26 27 28 29 30 31 32 33\n",
            " 34 35 36 37 38 39 40 41 42 43 44 45 46 47 48 49]\n"
          ]
        }
      ]
    },
    {
      "cell_type": "markdown",
      "metadata": {
        "id": "48d48f01"
      },
      "source": [
        "#### 8. **`Reverse`** a vector (first element becomes last) (★☆☆)"
      ],
      "id": "48d48f01"
    },
    {
      "cell_type": "code",
      "metadata": {
        "id": "3ed233e7",
        "colab": {
          "base_uri": "https://localhost:8080/"
        },
        "outputId": "fe212445-3567-4028-9ae8-82996940d87c"
      },
      "source": [
        "a = a[::-1]     # [::-1] : 벡터를 역으로 정렬하는 명령어\n",
        "print(a)"
      ],
      "id": "3ed233e7",
      "execution_count": 11,
      "outputs": [
        {
          "output_type": "stream",
          "name": "stdout",
          "text": [
            "[49 48 47 46 45 44 43 42 41 40 39 38 37 36 35 34 33 32 31 30 29 28 27 26\n",
            " 25 24 23 22 21 20 19 18 17 16 15 14 13 12 11 10]\n"
          ]
        }
      ]
    },
    {
      "cell_type": "markdown",
      "metadata": {
        "id": "4fa39382"
      },
      "source": [
        "#### 9. Create a 3x3 matrix with values ranging from 0 to 8 (★☆☆)"
      ],
      "id": "4fa39382"
    },
    {
      "cell_type": "code",
      "metadata": {
        "id": "c97757ec",
        "colab": {
          "base_uri": "https://localhost:8080/"
        },
        "outputId": "c3085081-2c21-4548-b310-4627d63bac2c"
      },
      "source": [
        "mat = np.arange(9).reshape(3,3)\n",
        "print(mat)"
      ],
      "id": "c97757ec",
      "execution_count": 12,
      "outputs": [
        {
          "output_type": "stream",
          "name": "stdout",
          "text": [
            "[[0 1 2]\n",
            " [3 4 5]\n",
            " [6 7 8]]\n"
          ]
        }
      ]
    },
    {
      "cell_type": "markdown",
      "metadata": {
        "id": "da64551a"
      },
      "source": [
        "#### 10. Find indices of non-zero elements from [1,2,0,0,4,0] (★☆☆)"
      ],
      "id": "da64551a"
    },
    {
      "cell_type": "code",
      "metadata": {
        "id": "327f7adb",
        "colab": {
          "base_uri": "https://localhost:8080/"
        },
        "outputId": "7823c948-2128-43c6-c1dc-569a834af8d3"
      },
      "source": [
        "a = np.nonzero( [1,2,0,0,4,0] )     # np.nonzero() : ndarray에서 0이 아닌 원소들의 index를 출력하는 함수\n",
        "print(a)"
      ],
      "id": "327f7adb",
      "execution_count": 14,
      "outputs": [
        {
          "output_type": "stream",
          "name": "stdout",
          "text": [
            "(array([0, 1, 4]),)\n"
          ]
        }
      ]
    },
    {
      "cell_type": "markdown",
      "metadata": {
        "id": "f89d9c9e"
      },
      "source": [
        "#### 11. Create a 3x3 identity matrix (★☆☆)"
      ],
      "id": "f89d9c9e"
    },
    {
      "cell_type": "code",
      "metadata": {
        "id": "ba625832",
        "colab": {
          "base_uri": "https://localhost:8080/"
        },
        "outputId": "94043c9f-79bb-41ca-a09d-dc0f1a1b938c"
      },
      "source": [
        "a = np.identity(3)     # np.identity(n) = np.eye(n) = n x n identity matrix를 출력하는 함수\n",
        "print(a)"
      ],
      "id": "ba625832",
      "execution_count": 18,
      "outputs": [
        {
          "output_type": "stream",
          "name": "stdout",
          "text": [
            "[[1. 0. 0.]\n",
            " [0. 1. 0.]\n",
            " [0. 0. 1.]]\n"
          ]
        }
      ]
    },
    {
      "cell_type": "markdown",
      "metadata": {
        "id": "7e44c6fa"
      },
      "source": [
        "#### 12. Create a 3x3x3 array with random values (★☆☆)"
      ],
      "id": "7e44c6fa"
    },
    {
      "cell_type": "code",
      "metadata": {
        "id": "1cb3dddf",
        "colab": {
          "base_uri": "https://localhost:8080/"
        },
        "outputId": "233b2e7d-faca-4248-bbb7-15e3f4c703f5"
      },
      "source": [
        "a = np.random.random((3,3,3))     # np.random.random((a,b,...)) : random value를 (a,b,...) shape의 matrix로 출력하는 함수   \n",
        "print(a)"
      ],
      "id": "1cb3dddf",
      "execution_count": 19,
      "outputs": [
        {
          "output_type": "stream",
          "name": "stdout",
          "text": [
            "[[[0.09284427 0.21695242 0.51544489]\n",
            "  [0.17306379 0.71970386 0.23994049]\n",
            "  [0.19294289 0.74900135 0.38209506]]\n",
            "\n",
            " [[0.55737976 0.3134969  0.3375517 ]\n",
            "  [0.09128051 0.19974759 0.34907475]\n",
            "  [0.28679133 0.84762989 0.70637576]]\n",
            "\n",
            " [[0.85257878 0.81243297 0.48177178]\n",
            "  [0.42009343 0.99719946 0.42022242]\n",
            "  [0.41731762 0.00784774 0.58377086]]]\n"
          ]
        }
      ]
    },
    {
      "cell_type": "markdown",
      "metadata": {
        "id": "13c5928c"
      },
      "source": [
        "#### 13. Create a 10x10 array with random values and find the minimum and maximum values (★☆☆)"
      ],
      "id": "13c5928c"
    },
    {
      "cell_type": "code",
      "metadata": {
        "id": "911c9b93",
        "colab": {
          "base_uri": "https://localhost:8080/"
        },
        "outputId": "2f3140cb-f2f7-4b50-d0f6-fc532b59e697"
      },
      "source": [
        "a = np.random.random((10,10))\n",
        "print(a,'\\n')\n",
        "print('maximum value :', a.max())\n",
        "print('minimum value : ', a.min())"
      ],
      "id": "911c9b93",
      "execution_count": 25,
      "outputs": [
        {
          "output_type": "stream",
          "name": "stdout",
          "text": [
            "[[0.38164844 0.8660819  0.47912462 0.45240135 0.4039402  0.35529963\n",
            "  0.33869517 0.20881891 0.71365421 0.28706579]\n",
            " [0.45259975 0.06409073 0.14734166 0.93474348 0.56026581 0.17233854\n",
            "  0.67019709 0.39348823 0.55670891 0.93470392]\n",
            " [0.73061021 0.61220261 0.73867196 0.25653123 0.38046933 0.20625246\n",
            "  0.04575014 0.75721646 0.67668117 0.25313473]\n",
            " [0.60871655 0.82143073 0.08966268 0.64459538 0.03981744 0.54603613\n",
            "  0.58985826 0.58341263 0.84937173 0.94237652]\n",
            " [0.74948172 0.51251003 0.42465674 0.19434961 0.02103929 0.47557932\n",
            "  0.48772781 0.49318828 0.57037421 0.79781862]\n",
            " [0.64996864 0.98912572 0.85408013 0.44838567 0.9689923  0.48867912\n",
            "  0.28791662 0.31152902 0.25701455 0.25625519]\n",
            " [0.58083034 0.31113199 0.09770913 0.82980048 0.45978132 0.32634776\n",
            "  0.16654254 0.69584735 0.81756547 0.98476738]\n",
            " [0.88411937 0.27974053 0.86488118 0.14053729 0.46981501 0.3397268\n",
            "  0.3058439  0.69787155 0.04974407 0.72324539]\n",
            " [0.96072925 0.49534465 0.30928641 0.11139152 0.6512856  0.0877764\n",
            "  0.01402105 0.49133321 0.85261617 0.22574393]\n",
            " [0.57183592 0.12050908 0.02630502 0.50601439 0.00655481 0.59725418\n",
            "  0.16626903 0.42256937 0.31733721 0.20660167]] \n",
            "\n",
            "maximum value : 0.9891257156205429\n",
            "minimum value :  0.0065548105617248\n"
          ]
        }
      ]
    },
    {
      "cell_type": "markdown",
      "metadata": {
        "id": "3fa2e461"
      },
      "source": [
        "#### 14. Create a random vector of size 30 and find the mean value (★☆☆)"
      ],
      "id": "3fa2e461"
    },
    {
      "cell_type": "code",
      "metadata": {
        "id": "323eb38a",
        "colab": {
          "base_uri": "https://localhost:8080/"
        },
        "outputId": "a42c9acd-73a2-4e90-cb9d-912e0f84314d"
      },
      "source": [
        "a = np.random.random(30)\n",
        "print(a, '\\n')\n",
        "print('mean of a :', np.mean(a))     # np.mean() : 평균을 출력하는 함수"
      ],
      "id": "323eb38a",
      "execution_count": 29,
      "outputs": [
        {
          "output_type": "stream",
          "name": "stdout",
          "text": [
            "[0.52246238 0.441498   0.36367383 0.01767438 0.30423377 0.49893101\n",
            " 0.73215808 0.69919018 0.97423683 0.46466368 0.20469756 0.12779946\n",
            " 0.78530867 0.72087709 0.60558745 0.48901498 0.39655726 0.96560388\n",
            " 0.54564871 0.30006276 0.42573385 0.66109817 0.13642151 0.95529111\n",
            " 0.38382522 0.37093995 0.14218113 0.69402949 0.90268944 0.85149129] \n",
            "\n",
            "mean of a : 0.5227860377111107\n"
          ]
        }
      ]
    },
    {
      "cell_type": "markdown",
      "metadata": {
        "id": "73f7a549"
      },
      "source": [
        "#### 15. Create a 2d array with 1 on the border and 0 inside (★☆☆)"
      ],
      "id": "73f7a549"
    },
    {
      "cell_type": "code",
      "metadata": {
        "id": "e3a6807d",
        "colab": {
          "base_uri": "https://localhost:8080/"
        },
        "outputId": "60b84b5a-e79f-46bc-dffe-abfaa0ce5570"
      },
      "source": [
        "def array(a,b):       # 일반화하기 위해 함수로 정의\n",
        "  x = np.ones((a,b))\n",
        "  x[1:-1,1:-1] = 0\n",
        "  return x\n",
        "\n",
        "print(array(11,8))"
      ],
      "id": "e3a6807d",
      "execution_count": 34,
      "outputs": [
        {
          "output_type": "stream",
          "name": "stdout",
          "text": [
            "[[1. 1. 1. 1. 1. 1. 1. 1.]\n",
            " [1. 0. 0. 0. 0. 0. 0. 1.]\n",
            " [1. 0. 0. 0. 0. 0. 0. 1.]\n",
            " [1. 0. 0. 0. 0. 0. 0. 1.]\n",
            " [1. 0. 0. 0. 0. 0. 0. 1.]\n",
            " [1. 0. 0. 0. 0. 0. 0. 1.]\n",
            " [1. 0. 0. 0. 0. 0. 0. 1.]\n",
            " [1. 0. 0. 0. 0. 0. 0. 1.]\n",
            " [1. 0. 0. 0. 0. 0. 0. 1.]\n",
            " [1. 0. 0. 0. 0. 0. 0. 1.]\n",
            " [1. 1. 1. 1. 1. 1. 1. 1.]]\n"
          ]
        }
      ]
    },
    {
      "cell_type": "markdown",
      "metadata": {
        "id": "6d0c506f"
      },
      "source": [
        "#### 16. How to **add a border** (filled with 0's) around an existing array? (★☆☆)"
      ],
      "id": "6d0c506f"
    },
    {
      "cell_type": "code",
      "source": [
        "np.random.random_integers(12)"
      ],
      "metadata": {
        "colab": {
          "base_uri": "https://localhost:8080/"
        },
        "id": "z0S0aRpPZYxq",
        "outputId": "3e824c87-2f3a-4433-ef57-ab4596d17372"
      },
      "id": "z0S0aRpPZYxq",
      "execution_count": 50,
      "outputs": [
        {
          "output_type": "stream",
          "name": "stderr",
          "text": [
            "/usr/local/lib/python3.7/dist-packages/ipykernel_launcher.py:1: DeprecationWarning: This function is deprecated. Please call randint(1, 12 + 1) instead\n",
            "  \"\"\"Entry point for launching an IPython kernel.\n"
          ]
        },
        {
          "output_type": "execute_result",
          "data": {
            "text/plain": [
              "6"
            ]
          },
          "metadata": {},
          "execution_count": 50
        }
      ]
    },
    {
      "cell_type": "code",
      "metadata": {
        "id": "32ffee7b",
        "colab": {
          "base_uri": "https://localhost:8080/"
        },
        "outputId": "8b463824-dceb-460d-d943-a53c7430e7c4"
      },
      "source": [
        "def border_inside(a,b):     # 일반화하기 위해 함수로 정의\n",
        "  array = np.ones((a,b))\n",
        "  array[2:a-1,2:b-1] = 2\n",
        "  array = np.pad(array, pad_width=1, mode='constant', constant_values=0)\n",
        "  return array\n",
        "\n",
        "border_inside(5,7)"
      ],
      "id": "32ffee7b",
      "execution_count": 55,
      "outputs": [
        {
          "output_type": "execute_result",
          "data": {
            "text/plain": [
              "array([[0., 0., 0., 0., 0., 0., 0., 0., 0.],\n",
              "       [0., 1., 1., 1., 1., 1., 1., 1., 0.],\n",
              "       [0., 1., 1., 1., 1., 1., 1., 1., 0.],\n",
              "       [0., 1., 1., 2., 2., 2., 2., 1., 0.],\n",
              "       [0., 1., 1., 2., 2., 2., 2., 1., 0.],\n",
              "       [0., 1., 1., 1., 1., 1., 1., 1., 0.],\n",
              "       [0., 0., 0., 0., 0., 0., 0., 0., 0.]])"
            ]
          },
          "metadata": {},
          "execution_count": 55
        }
      ]
    },
    {
      "cell_type": "markdown",
      "metadata": {
        "id": "d6ad1a9f"
      },
      "source": [
        "#### 17. What is the result of the following expression? (★☆☆)\n",
        "```python\n",
        "0 * np.nan\n",
        "np.nan == np.nan\n",
        "np.inf > np.nan\n",
        "np.nan - np.nan\n",
        "np.nan in set([np.nan])\n",
        "0.3 == 3 * 0.1\n",
        "```"
      ],
      "id": "d6ad1a9f"
    },
    {
      "cell_type": "code",
      "metadata": {
        "id": "ee7ff0f3"
      },
      "source": [
        "# nan\n",
        "# False\n",
        "# False\n",
        "# nan\n",
        "# True\n",
        "# False"
      ],
      "id": "ee7ff0f3",
      "execution_count": 56,
      "outputs": []
    },
    {
      "cell_type": "markdown",
      "metadata": {
        "id": "e3a7ba7f"
      },
      "source": [
        "#### 18. Create a 5x5 matrix with values 1,2,3,4 just below the diagonal (★☆☆)"
      ],
      "id": "e3a7ba7f"
    },
    {
      "cell_type": "code",
      "metadata": {
        "id": "01d8e257",
        "colab": {
          "base_uri": "https://localhost:8080/"
        },
        "outputId": "d81304b7-4f17-4757-f437-2863107a19a8"
      },
      "source": [
        "a = np.array([1,2,3,4])\n",
        "mat = np.diag(a, k=-1)      # np.diag(array, k=0) : k값에 따라 대각선 / 대각선 위 / 대각선 아래에 array가 위치할 수 있도록 하는 함수\n",
        "print(mat)"
      ],
      "id": "01d8e257",
      "execution_count": 59,
      "outputs": [
        {
          "output_type": "stream",
          "name": "stdout",
          "text": [
            "[[0 0 0 0 0]\n",
            " [1 0 0 0 0]\n",
            " [0 2 0 0 0]\n",
            " [0 0 3 0 0]\n",
            " [0 0 0 4 0]]\n"
          ]
        }
      ]
    },
    {
      "cell_type": "markdown",
      "metadata": {
        "id": "6d17ab5d"
      },
      "source": [
        "#### 19. Create a 8x8 matrix and fill it with a checkerboard pattern (★☆☆)"
      ],
      "id": "6d17ab5d"
    },
    {
      "cell_type": "code",
      "metadata": {
        "id": "841373cd",
        "colab": {
          "base_uri": "https://localhost:8080/"
        },
        "outputId": "5875445d-2b25-449b-afa1-0273c39de790"
      },
      "source": [
        "a = np.zeros((8,8))\n",
        "a[1::2,::2]=1       # 홀수번째 row --> [0 1 0 1 0 1 0 1]이 출력되도록 설정\n",
        "a[::2,1::2]=1       # 짝수번째 row --> [1 0 1 0 1 0 1 0]이 출력되도록 설정\n",
        "print(a)"
      ],
      "id": "841373cd",
      "execution_count": 60,
      "outputs": [
        {
          "output_type": "stream",
          "name": "stdout",
          "text": [
            "[[0. 1. 0. 1. 0. 1. 0. 1.]\n",
            " [1. 0. 1. 0. 1. 0. 1. 0.]\n",
            " [0. 1. 0. 1. 0. 1. 0. 1.]\n",
            " [1. 0. 1. 0. 1. 0. 1. 0.]\n",
            " [0. 1. 0. 1. 0. 1. 0. 1.]\n",
            " [1. 0. 1. 0. 1. 0. 1. 0.]\n",
            " [0. 1. 0. 1. 0. 1. 0. 1.]\n",
            " [1. 0. 1. 0. 1. 0. 1. 0.]]\n"
          ]
        }
      ]
    },
    {
      "cell_type": "markdown",
      "metadata": {
        "id": "8837119b"
      },
      "source": [
        "#### 20. Consider a (6,7,8) shape array, what is the index (x,y,z) of the 100th element? (★☆☆)"
      ],
      "id": "8837119b"
    },
    {
      "cell_type": "code",
      "source": [
        "help(np.unravel_index)"
      ],
      "metadata": {
        "colab": {
          "base_uri": "https://localhost:8080/"
        },
        "id": "11eyak1VcNVo",
        "outputId": "49392e2c-47dc-42d6-de40-e1608095cc07"
      },
      "id": "11eyak1VcNVo",
      "execution_count": 66,
      "outputs": [
        {
          "output_type": "stream",
          "name": "stdout",
          "text": [
            "Help on function unravel_index in module numpy:\n",
            "\n",
            "unravel_index(...)\n",
            "    unravel_index(indices, shape, order='C')\n",
            "    \n",
            "    Converts a flat index or array of flat indices into a tuple\n",
            "    of coordinate arrays.\n",
            "    \n",
            "    Parameters\n",
            "    ----------\n",
            "    indices : array_like\n",
            "        An integer array whose elements are indices into the flattened\n",
            "        version of an array of dimensions ``shape``. Before version 1.6.0,\n",
            "        this function accepted just one index value.\n",
            "    shape : tuple of ints\n",
            "        The shape of the array to use for unraveling ``indices``.\n",
            "    \n",
            "        .. versionchanged:: 1.16.0\n",
            "            Renamed from ``dims`` to ``shape``.\n",
            "    \n",
            "    order : {'C', 'F'}, optional\n",
            "        Determines whether the indices should be viewed as indexing in\n",
            "        row-major (C-style) or column-major (Fortran-style) order.\n",
            "    \n",
            "        .. versionadded:: 1.6.0\n",
            "    \n",
            "    Returns\n",
            "    -------\n",
            "    unraveled_coords : tuple of ndarray\n",
            "        Each array in the tuple has the same shape as the ``indices``\n",
            "        array.\n",
            "    \n",
            "    See Also\n",
            "    --------\n",
            "    ravel_multi_index\n",
            "    \n",
            "    Examples\n",
            "    --------\n",
            "    >>> np.unravel_index([22, 41, 37], (7,6))\n",
            "    (array([3, 6, 6]), array([4, 5, 1]))\n",
            "    >>> np.unravel_index([31, 41, 13], (7,6), order='F')\n",
            "    (array([3, 6, 6]), array([4, 5, 1]))\n",
            "    \n",
            "    >>> np.unravel_index(1621, (6,7,8,9))\n",
            "    (3, 1, 4, 1)\n",
            "\n"
          ]
        }
      ]
    },
    {
      "cell_type": "code",
      "metadata": {
        "id": "2c0d16f1",
        "colab": {
          "base_uri": "https://localhost:8080/"
        },
        "outputId": "7ddb5370-3155-410f-938a-cef4e7e484b9"
      },
      "source": [
        "a = np.unravel_index(100,(6,7,8))\n",
        "print(a)"
      ],
      "id": "2c0d16f1",
      "execution_count": 61,
      "outputs": [
        {
          "output_type": "stream",
          "name": "stdout",
          "text": [
            "(1, 5, 4)\n"
          ]
        }
      ]
    },
    {
      "cell_type": "markdown",
      "metadata": {
        "id": "ec788c9f"
      },
      "source": [
        "#### 21. Create a checkerboard 8x8 matrix using the tile function (★☆☆)"
      ],
      "id": "ec788c9f"
    },
    {
      "cell_type": "code",
      "source": [
        "help(np.tile)"
      ],
      "metadata": {
        "colab": {
          "base_uri": "https://localhost:8080/"
        },
        "id": "L_323oZ2b_c1",
        "outputId": "63b085ed-5e97-4fd6-c44c-25ba2c9bdf65"
      },
      "id": "L_323oZ2b_c1",
      "execution_count": 64,
      "outputs": [
        {
          "output_type": "stream",
          "name": "stdout",
          "text": [
            "Help on function tile in module numpy:\n",
            "\n",
            "tile(A, reps)\n",
            "    Construct an array by repeating A the number of times given by reps.\n",
            "    \n",
            "    If `reps` has length ``d``, the result will have dimension of\n",
            "    ``max(d, A.ndim)``.\n",
            "    \n",
            "    If ``A.ndim < d``, `A` is promoted to be d-dimensional by prepending new\n",
            "    axes. So a shape (3,) array is promoted to (1, 3) for 2-D replication,\n",
            "    or shape (1, 1, 3) for 3-D replication. If this is not the desired\n",
            "    behavior, promote `A` to d-dimensions manually before calling this\n",
            "    function.\n",
            "    \n",
            "    If ``A.ndim > d``, `reps` is promoted to `A`.ndim by pre-pending 1's to it.\n",
            "    Thus for an `A` of shape (2, 3, 4, 5), a `reps` of (2, 2) is treated as\n",
            "    (1, 1, 2, 2).\n",
            "    \n",
            "    Note : Although tile may be used for broadcasting, it is strongly\n",
            "    recommended to use numpy's broadcasting operations and functions.\n",
            "    \n",
            "    Parameters\n",
            "    ----------\n",
            "    A : array_like\n",
            "        The input array.\n",
            "    reps : array_like\n",
            "        The number of repetitions of `A` along each axis.\n",
            "    \n",
            "    Returns\n",
            "    -------\n",
            "    c : ndarray\n",
            "        The tiled output array.\n",
            "    \n",
            "    See Also\n",
            "    --------\n",
            "    repeat : Repeat elements of an array.\n",
            "    broadcast_to : Broadcast an array to a new shape\n",
            "    \n",
            "    Examples\n",
            "    --------\n",
            "    >>> a = np.array([0, 1, 2])\n",
            "    >>> np.tile(a, 2)\n",
            "    array([0, 1, 2, 0, 1, 2])\n",
            "    >>> np.tile(a, (2, 2))\n",
            "    array([[0, 1, 2, 0, 1, 2],\n",
            "           [0, 1, 2, 0, 1, 2]])\n",
            "    >>> np.tile(a, (2, 1, 2))\n",
            "    array([[[0, 1, 2, 0, 1, 2]],\n",
            "           [[0, 1, 2, 0, 1, 2]]])\n",
            "    \n",
            "    >>> b = np.array([[1, 2], [3, 4]])\n",
            "    >>> np.tile(b, 2)\n",
            "    array([[1, 2, 1, 2],\n",
            "           [3, 4, 3, 4]])\n",
            "    >>> np.tile(b, (2, 1))\n",
            "    array([[1, 2],\n",
            "           [3, 4],\n",
            "           [1, 2],\n",
            "           [3, 4]])\n",
            "    \n",
            "    >>> c = np.array([1,2,3,4])\n",
            "    >>> np.tile(c,(4,1))\n",
            "    array([[1, 2, 3, 4],\n",
            "           [1, 2, 3, 4],\n",
            "           [1, 2, 3, 4],\n",
            "           [1, 2, 3, 4]])\n",
            "\n"
          ]
        }
      ]
    },
    {
      "cell_type": "code",
      "metadata": {
        "id": "0a4f919f",
        "colab": {
          "base_uri": "https://localhost:8080/"
        },
        "outputId": "5f62cd0f-a756-484e-aa2a-1df454b96277"
      },
      "source": [
        "print(np.tile([[0,1],[1,0]],(4,4)))"
      ],
      "id": "0a4f919f",
      "execution_count": 62,
      "outputs": [
        {
          "output_type": "stream",
          "name": "stdout",
          "text": [
            "[[0 1 0 1 0 1 0 1]\n",
            " [1 0 1 0 1 0 1 0]\n",
            " [0 1 0 1 0 1 0 1]\n",
            " [1 0 1 0 1 0 1 0]\n",
            " [0 1 0 1 0 1 0 1]\n",
            " [1 0 1 0 1 0 1 0]\n",
            " [0 1 0 1 0 1 0 1]\n",
            " [1 0 1 0 1 0 1 0]]\n"
          ]
        }
      ]
    },
    {
      "cell_type": "markdown",
      "metadata": {
        "id": "391791e0"
      },
      "source": [
        "#### 22. Normalize a 5x5 random matrix (★☆☆)"
      ],
      "id": "391791e0"
    },
    {
      "cell_type": "code",
      "metadata": {
        "id": "f6533d39",
        "colab": {
          "base_uri": "https://localhost:8080/"
        },
        "outputId": "6c9c8115-cbcf-4c57-b135-d7a1010f0e00"
      },
      "source": [
        "a = np.random.random((5,5))\n",
        "a = (a-np.mean(a))/(np.std(a))      # Normalization\n",
        "print(a)"
      ],
      "id": "f6533d39",
      "execution_count": 65,
      "outputs": [
        {
          "output_type": "stream",
          "name": "stdout",
          "text": [
            "[[ 1.33585144  0.09897106  0.24085344 -0.80180134 -1.29514655]\n",
            " [ 1.46137561  0.86202045 -1.22183607 -1.147908   -0.51894772]\n",
            " [ 1.52943144  1.32464992 -0.03895847 -0.83758955  1.32316818]\n",
            " [-1.44382859 -0.56201422  0.14454342  1.55529335 -0.74991044]\n",
            " [ 0.17086648 -0.88915547  0.82185055 -0.18290876 -1.17887017]]\n"
          ]
        }
      ]
    },
    {
      "cell_type": "markdown",
      "metadata": {
        "id": "1e74d39e"
      },
      "source": [
        "#### 23. Create a custom dtype that describes a color as four unsigned bytes (RGBA) (★☆☆)"
      ],
      "id": "1e74d39e"
    },
    {
      "cell_type": "code",
      "metadata": {
        "id": "3f639d33",
        "colab": {
          "base_uri": "https://localhost:8080/"
        },
        "outputId": "025078d3-6fb4-400b-92ff-a11b3453a086"
      },
      "source": [
        "color = np.dtype([(\"r\",np.ubyte),(\"g\",np.ubyte),(\"b\",np.ubyte),(\"a\",np.ubyte)])     # np.dtype() : Datatype을 customizing하는 함수\n",
        "print(color)"
      ],
      "id": "3f639d33",
      "execution_count": 67,
      "outputs": [
        {
          "output_type": "stream",
          "name": "stdout",
          "text": [
            "[('r', 'u1'), ('g', 'u1'), ('b', 'u1'), ('a', 'u1')]\n"
          ]
        }
      ]
    },
    {
      "cell_type": "markdown",
      "metadata": {
        "id": "78250c14"
      },
      "source": [
        "#### 24. Multiply a 5x3 matrix by a 3x2 matrix (real matrix product) (★☆☆)"
      ],
      "id": "78250c14"
    },
    {
      "cell_type": "code",
      "metadata": {
        "id": "9fe729cb",
        "colab": {
          "base_uri": "https://localhost:8080/"
        },
        "outputId": "2968363b-d573-4384-f175-7d0f1f8ec194"
      },
      "source": [
        "a = np.random.random((5,3))\n",
        "b = np.random.random((3,2))\n",
        "print(np.dot(a,b))      # result = 5x2 matrix"
      ],
      "id": "9fe729cb",
      "execution_count": 69,
      "outputs": [
        {
          "output_type": "stream",
          "name": "stdout",
          "text": [
            "[[1.28308795 0.55700137]\n",
            " [1.89152804 0.88767501]\n",
            " [0.89806598 0.43405281]\n",
            " [0.56495234 0.28255006]\n",
            " [0.97007563 0.41966713]]\n"
          ]
        }
      ]
    },
    {
      "cell_type": "markdown",
      "metadata": {
        "id": "51898680"
      },
      "source": [
        "#### 25. Given a 1D array, negate all elements which are between 3 and 8, in place. (★☆☆)"
      ],
      "id": "51898680"
    },
    {
      "cell_type": "code",
      "metadata": {
        "id": "51c90f2d",
        "colab": {
          "base_uri": "https://localhost:8080/"
        },
        "outputId": "88ec95ec-1267-475b-8b20-436ab6080a38"
      },
      "source": [
        "a = np.arange(20)\n",
        "a[(a > 3) & (a < 8)] *= -1      # 3과 8 사이에 있는 숫자들을 모두 음수화하도록 boolean indexing.\n",
        "print(a)"
      ],
      "id": "51c90f2d",
      "execution_count": 71,
      "outputs": [
        {
          "output_type": "stream",
          "name": "stdout",
          "text": [
            "[ 0  1  2  3 -4 -5 -6 -7  8  9 10 11 12 13 14 15 16 17 18 19]\n"
          ]
        }
      ]
    },
    {
      "cell_type": "markdown",
      "metadata": {
        "id": "89e78048"
      },
      "source": [
        "#### 26. What is the output of the following script? (★☆☆)\n",
        "```python\n",
        "# Author: Jake VanderPlas\n",
        "\n",
        "print(sum(range(5),-1))\n",
        "from numpy import *\n",
        "print(sum(range(5),-1))\n",
        "```"
      ],
      "id": "89e78048"
    },
    {
      "cell_type": "code",
      "metadata": {
        "id": "b62e9d1c"
      },
      "source": [
        "# 9\n",
        "# 10\n",
        "# 일반 sum함수는 -1이 연산에 포함되는데, np.sum함수는 -1이 연산에 포함되지 않고 이니셜포인트 역할을 한다."
      ],
      "id": "b62e9d1c",
      "execution_count": 72,
      "outputs": []
    },
    {
      "cell_type": "markdown",
      "metadata": {
        "id": "ebd10810"
      },
      "source": [
        "#### 27. Consider an integer vector Z, which of these expressions are legal? (★☆☆)\n",
        "```python\n",
        "Z**Z\n",
        "2 << Z >> 2\n",
        "Z <- Z\n",
        "1j*Z\n",
        "Z/1/1\n",
        "Z<Z>Z\n",
        "```"
      ],
      "id": "ebd10810"
    },
    {
      "cell_type": "code",
      "metadata": {
        "id": "6ada209f",
        "colab": {
          "base_uri": "https://localhost:8080/"
        },
        "outputId": "e2a186f8-73b3-497c-fe05-d54b4577e744"
      },
      "source": [
        "Z = np.random.randint(20)\n",
        "print(Z**Z)\n",
        "print(2 << Z >> 2)\n",
        "print(Z <- Z)\n",
        "print(1j*Z)\n",
        "print(Z/1/1)\n",
        "print(Z<Z>Z)      # value error\n",
        "\n",
        "# Z<Z>Z : illegal, 나머지는 legal"
      ],
      "id": "6ada209f",
      "execution_count": 85,
      "outputs": [
        {
          "output_type": "stream",
          "name": "stdout",
          "text": [
            "1\n",
            "0\n",
            "False\n",
            "0j\n",
            "0.0\n",
            "False\n"
          ]
        }
      ]
    },
    {
      "cell_type": "markdown",
      "metadata": {
        "id": "c0e940f8"
      },
      "source": [
        "#### 28. What are the result of the following expressions? (★☆☆)\n",
        "```python\n",
        "np.array(0) / np.array(0)\n",
        "np.array(0) // np.array(0)\n",
        "np.array([np.nan]).astype(int).astype(float)\n",
        "```"
      ],
      "id": "c0e940f8"
    },
    {
      "cell_type": "code",
      "metadata": {
        "id": "820dc7a5",
        "colab": {
          "base_uri": "https://localhost:8080/"
        },
        "outputId": "692febd5-aeac-41c7-eee0-7fc93991760b"
      },
      "source": [
        "print(np.array(0) / np.array(0))\n",
        "print(np.array(0) // np.array(0))\n",
        "print(np.array([np.nan]).astype(int).astype(float))\n",
        "\n",
        "# nan\n",
        "# 0\n",
        "# [-9.22337204e+18]"
      ],
      "id": "820dc7a5",
      "execution_count": 86,
      "outputs": [
        {
          "output_type": "stream",
          "name": "stdout",
          "text": [
            "nan\n",
            "0\n",
            "[-9.22337204e+18]\n"
          ]
        },
        {
          "output_type": "stream",
          "name": "stderr",
          "text": [
            "/usr/local/lib/python3.7/dist-packages/ipykernel_launcher.py:1: RuntimeWarning: invalid value encountered in true_divide\n",
            "  \"\"\"Entry point for launching an IPython kernel.\n",
            "/usr/local/lib/python3.7/dist-packages/ipykernel_launcher.py:2: RuntimeWarning: divide by zero encountered in floor_divide\n",
            "  \n"
          ]
        }
      ]
    },
    {
      "cell_type": "markdown",
      "metadata": {
        "id": "22713c3f"
      },
      "source": [
        "#### 29. How to round away from zero a float array ? (★☆☆)"
      ],
      "id": "22713c3f"
    },
    {
      "cell_type": "code",
      "metadata": {
        "id": "a3e05c29",
        "colab": {
          "base_uri": "https://localhost:8080/"
        },
        "outputId": "7d0c414e-4ab6-47cf-c06a-98757bb9d823"
      },
      "source": [
        "a = np.random.random((10))\n",
        "print(np.round(a))      # np.round(array, decimals=1) : array를 반올림하는 함수"
      ],
      "id": "a3e05c29",
      "execution_count": 94,
      "outputs": [
        {
          "output_type": "stream",
          "name": "stdout",
          "text": [
            "[0. 0. 0. 0. 0. 0. 1. 0. 0. 1.]\n"
          ]
        }
      ]
    },
    {
      "cell_type": "markdown",
      "metadata": {
        "id": "f1ae2c2d"
      },
      "source": [
        "#### 30. How to find **`common values`** between two arrays? (★☆☆)"
      ],
      "id": "f1ae2c2d"
    },
    {
      "cell_type": "code",
      "metadata": {
        "id": "6801c73d",
        "colab": {
          "base_uri": "https://localhost:8080/"
        },
        "outputId": "6b99ca39-15b3-4038-90f7-094584adb254"
      },
      "source": [
        "a = np.arange(10)\n",
        "b = np.arange(20)\n",
        "intersect = np.intersect1d(a,b)\n",
        "print(intersect)"
      ],
      "id": "6801c73d",
      "execution_count": 95,
      "outputs": [
        {
          "output_type": "stream",
          "name": "stdout",
          "text": [
            "[0 1 2 3 4 5 6 7 8 9]\n"
          ]
        }
      ]
    },
    {
      "cell_type": "markdown",
      "metadata": {
        "id": "34a7bdee"
      },
      "source": [
        "#### 31. How to ignore all numpy warnings (not recommended)? (★☆☆)"
      ],
      "id": "34a7bdee"
    },
    {
      "cell_type": "code",
      "metadata": {
        "id": "befc60d1"
      },
      "source": [
        "defaults = np.seterr(all=\"ignore\")\n",
        "_ = np.seterr(**defaults)"
      ],
      "id": "befc60d1",
      "execution_count": 96,
      "outputs": []
    },
    {
      "cell_type": "markdown",
      "metadata": {
        "id": "37bc0973"
      },
      "source": [
        "#### 32. Is the following expressions true? (★☆☆)\n",
        "```python\n",
        "np.sqrt(-1) == np.emath.sqrt(-1)\n",
        "```"
      ],
      "id": "37bc0973"
    },
    {
      "cell_type": "code",
      "metadata": {
        "id": "c70cbabe",
        "colab": {
          "base_uri": "https://localhost:8080/"
        },
        "outputId": "e409e9be-77b8-46a5-e4b6-5222d5a63f7d"
      },
      "source": [
        "np.sqrt(-1) == np.emath.sqrt(-1)\n",
        "\n",
        "# False"
      ],
      "id": "c70cbabe",
      "execution_count": 97,
      "outputs": [
        {
          "output_type": "stream",
          "name": "stderr",
          "text": [
            "/usr/local/lib/python3.7/dist-packages/ipykernel_launcher.py:1: RuntimeWarning: invalid value encountered in sqrt\n",
            "  \"\"\"Entry point for launching an IPython kernel.\n"
          ]
        },
        {
          "output_type": "execute_result",
          "data": {
            "text/plain": [
              "False"
            ]
          },
          "metadata": {},
          "execution_count": 97
        }
      ]
    },
    {
      "cell_type": "markdown",
      "metadata": {
        "id": "129c342d"
      },
      "source": [
        "#### 33. How to get the dates of yesterday, today and tomorrow? (★☆☆)"
      ],
      "id": "129c342d"
    },
    {
      "cell_type": "code",
      "metadata": {
        "id": "8ba1badb",
        "colab": {
          "base_uri": "https://localhost:8080/"
        },
        "outputId": "0f6e7907-ae13-459d-d81e-30d694872af9"
      },
      "source": [
        "today = np.datetime64('today')\n",
        "yesterday = today - np.timedelta64(1)\n",
        "tomorrow = today + np.timedelta64(1)\n",
        "\n",
        "print(yesterday)\n",
        "print(today)\n",
        "print(tomorrow)"
      ],
      "id": "8ba1badb",
      "execution_count": 105,
      "outputs": [
        {
          "output_type": "stream",
          "name": "stdout",
          "text": [
            "2022-03-13\n",
            "2022-03-14\n",
            "2022-03-15\n"
          ]
        }
      ]
    }
  ]
}