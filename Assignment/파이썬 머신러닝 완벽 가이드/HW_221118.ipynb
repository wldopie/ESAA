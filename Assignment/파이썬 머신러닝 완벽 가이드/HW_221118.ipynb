{
  "nbformat": 4,
  "nbformat_minor": 0,
  "metadata": {
    "colab": {
      "provenance": [],
      "mount_file_id": "1Z8bZT-rJUfr1DN2KAK3rPW5QKcEsh2l0",
      "authorship_tag": "ABX9TyOfCOtC2LrEZu/Jiv8p0a3t",
      "include_colab_link": true
    },
    "kernelspec": {
      "name": "python3",
      "display_name": "Python 3"
    },
    "language_info": {
      "name": "python"
    }
  },
  "cells": [
    {
      "cell_type": "markdown",
      "metadata": {
        "id": "view-in-github",
        "colab_type": "text"
      },
      "source": [
        "<a href=\"https://colab.research.google.com/github/wldopie/ESAA/blob/main/HW_221118.ipynb\" target=\"_parent\"><img src=\"https://colab.research.google.com/assets/colab-badge.svg\" alt=\"Open In Colab\"/></a>"
      ]
    },
    {
      "cell_type": "markdown",
      "source": [
        "## **9.8 파이썬 추천 시스템 패키지 - Surprise**\n",
        "\n",
        "\n",
        "---\n",
        "\n"
      ],
      "metadata": {
        "id": "W7-1xYBk_-Q8"
      }
    },
    {
      "cell_type": "markdown",
      "source": [
        "### **9.8.1 Surprise 패키지 소개**\n",
        "  - Surprise\n",
        "    - 파이썬 기반의 추천 시스템 구축을 위한 전용 패키지 중 하나\n",
        "\n",
        "  - Surprise 패키지의 주요 장점\n",
        "    - 다양한 추천 알고리즘, 예를 들어 사용자 또는 아이템 기반 최근접 이웃 협업 필터링, SVD, SVD++, NMF 기반의 잠재 요인 협업 필터링을 쉽게 적용해 추천 시스템을 구축할 수 있다.\n",
        "    - Surprise의 핵심 API는 사이킷런의 핵심 API와 유사한 API명으로 작성되었다."
      ],
      "metadata": {
        "id": "rmTtKOVkAByy"
      }
    },
    {
      "cell_type": "markdown",
      "source": [
        "---"
      ],
      "metadata": {
        "id": "NLrlIoxuAT7g"
      }
    },
    {
      "cell_type": "markdown",
      "source": [
        "### **9.8.2 Surprise를 이용한 추천 시스템 구축**\n",
        "  - 추천 데이터를 학습용과 테스트용 데이터 세트로 분리한 뒤, SVD 행렬 분해를 통한 잠재 요인 협업 필터링을 수행한다."
      ],
      "metadata": {
        "id": "-1485znQAGHS"
      }
    },
    {
      "cell_type": "code",
      "source": [
        "!pip install surprise"
      ],
      "metadata": {
        "colab": {
          "base_uri": "https://localhost:8080/"
        },
        "id": "KKtice5OJKl8",
        "outputId": "eecad8a3-ee09-4e4a-ed73-ce9159b8b250"
      },
      "execution_count": 1,
      "outputs": [
        {
          "output_type": "stream",
          "name": "stdout",
          "text": [
            "Looking in indexes: https://pypi.org/simple, https://us-python.pkg.dev/colab-wheels/public/simple/\n",
            "Collecting surprise\n",
            "  Downloading surprise-0.1-py2.py3-none-any.whl (1.8 kB)\n",
            "Collecting scikit-surprise\n",
            "  Downloading scikit-surprise-1.1.1.tar.gz (11.8 MB)\n",
            "\u001b[K     |████████████████████████████████| 11.8 MB 6.6 MB/s \n",
            "\u001b[?25hRequirement already satisfied: joblib>=0.11 in /usr/local/lib/python3.7/dist-packages (from scikit-surprise->surprise) (1.2.0)\n",
            "Requirement already satisfied: numpy>=1.11.2 in /usr/local/lib/python3.7/dist-packages (from scikit-surprise->surprise) (1.21.6)\n",
            "Requirement already satisfied: scipy>=1.0.0 in /usr/local/lib/python3.7/dist-packages (from scikit-surprise->surprise) (1.7.3)\n",
            "Requirement already satisfied: six>=1.10.0 in /usr/local/lib/python3.7/dist-packages (from scikit-surprise->surprise) (1.15.0)\n",
            "Building wheels for collected packages: scikit-surprise\n",
            "  Building wheel for scikit-surprise (setup.py) ... \u001b[?25l\u001b[?25hdone\n",
            "  Created wheel for scikit-surprise: filename=scikit_surprise-1.1.1-cp37-cp37m-linux_x86_64.whl size=1633966 sha256=c2fa8cc48cbb417029f7c98e9661e86156a87942ffe79def14d5f97a9890c17a\n",
            "  Stored in directory: /root/.cache/pip/wheels/76/44/74/b498c42be47b2406bd27994e16c5188e337c657025ab400c1c\n",
            "Successfully built scikit-surprise\n",
            "Installing collected packages: scikit-surprise, surprise\n",
            "Successfully installed scikit-surprise-1.1.1 surprise-0.1\n"
          ]
        }
      ]
    },
    {
      "cell_type": "code",
      "execution_count": 2,
      "metadata": {
        "id": "ogZ81oJv31N0"
      },
      "outputs": [],
      "source": [
        "from surprise import SVD\n",
        "from surprise import Dataset\n",
        "from surprise import accuracy\n",
        "from surprise.model_selection import train_test_split"
      ]
    },
    {
      "cell_type": "markdown",
      "source": [
        "  - `Surprise`는 Movies Lens 데이터 세트의 사용자-영화 평점 데이터 포맷과 같이 userID, movieID, rating과 같은 `주요 데이터가 Row 레벨 형태로 돼있는 포멧의 데이터만 처리`한다.\n",
        "\n",
        "  - Surprise는 무비렌즈 사이트에서 제공하는 과거 버전의 데이터 세트를 가져오는 API를 제공한다.\n",
        "\n",
        "  - `Surprise Dataset 클래스`의 `load_builtin()`은 무비렌즈 사이트에서 제공하는 과거 버전 데이터 세트인 'ml-100k' 또는 'ml-1m' 데이터를 아카이브 사이트로부터 내려받아 로컬 디렉토리에 저장한 뒤 데이터를 로딩한다."
      ],
      "metadata": {
        "id": "k1GgwNfPJmqy"
      }
    },
    {
      "cell_type": "code",
      "source": [
        "data = Dataset.load_builtin('ml-100k')\n",
        "# 수행 시마다 동일하게 데이터를 분할하기 위해 random_state 값 부여\n",
        "trainset, testset = train_test_split(data, test_size = .25, random_state = 0)"
      ],
      "metadata": {
        "colab": {
          "base_uri": "https://localhost:8080/"
        },
        "id": "0_W0UvZKJ5kc",
        "outputId": "639befe9-cbc6-4b67-e909-e4329a465558"
      },
      "execution_count": 3,
      "outputs": [
        {
          "output_type": "stream",
          "name": "stdout",
          "text": [
            "Dataset ml-100k could not be found. Do you want to download it? [Y/n] Y\n",
            "Trying to download dataset from http://files.grouplens.org/datasets/movielens/ml-100k.zip...\n",
            "Done! Dataset ml-100k has been saved to /root/.surprise_data/ml-100k\n"
          ]
        }
      ]
    },
    {
      "cell_type": "markdown",
      "source": [
        "  - Surprise에서 사용하는 'ml-100k' 데이터 세트는 앞 예제에서 지금까지 사용한 movies.csv, ratings.csv 파일과는 차이가 있다.\n",
        "  - 직접 내려받은 `movies.csv`, `ratings.csv`는 `최근 영화에 대한 평점 정보`를 가지고 있지만, Surprise가 내려받은 `ml-100k`, `ml-1m`은 `과거 버전의 데이터 세트`이다. `최신 데이터 세트`인 ratings.csv의 경우 `CSV 파일`이지만, `과거 버전의 데이터` 파일은 분리 문자가 `탭(\\t) 문자`이다.\n",
        "\n",
        "  - Surprise에 사용자-아이템 평점 데이터를 적용할 때 주의할 점은 무비렌즈 사이트에서 내려받은 데이터 파일과 동일하고 로우 레벨의 사용자-아이템 평점 데이터를 그대로 적용해야 한다는 것이다. \n",
        "  - Surprise는 자체적으로 로우 레벨의 데이터를 칼럼 레벨의 데이터로 변경하므로, 원본인 로우 레벨의 사용자-아이템 평점 데이터를 데이터 세트로 적용해야 한다."
      ],
      "metadata": {
        "id": "ZHn7k9ZvKyzE"
      }
    },
    {
      "cell_type": "markdown",
      "source": [
        "  - 이제 SVD로 잠재 요인 협업 필터링을 수행해보자. "
      ],
      "metadata": {
        "id": "ivQbdqrSLdAy"
      }
    },
    {
      "cell_type": "code",
      "source": [
        "algo = SVD()\n",
        "algo.fit(trainset)"
      ],
      "metadata": {
        "colab": {
          "base_uri": "https://localhost:8080/"
        },
        "id": "ECoDwi6WLhFx",
        "outputId": "5c11a1ae-0e96-44a2-fa86-6476925fb105"
      },
      "execution_count": 4,
      "outputs": [
        {
          "output_type": "execute_result",
          "data": {
            "text/plain": [
              "<surprise.prediction_algorithms.matrix_factorization.SVD at 0x7f419bf93350>"
            ]
          },
          "metadata": {},
          "execution_count": 4
        }
      ]
    },
    {
      "cell_type": "markdown",
      "source": [
        "  - 학습된 추천 알고리즘을 기반으로 테스트 데이터 세트에 대해 추천을 수행한다.\n",
        "  - `Surprise`에서 `추천을 예측`하는 메서드\n",
        "    1. `test()`\n",
        "      - `사용자-아이템 평점 데이터 세트 전체에 대해서 추천을 예측`하는 메서드\n",
        "      - 즉, 입력된 데이터 세트에 대해 추천 데이터 세트를 만들어줌\n",
        "    2. `predict()`\n",
        "      - `개별 사용자와 영화에 대한 추천 평점`을 반환"
      ],
      "metadata": {
        "id": "25TqgB_nLwA_"
      }
    },
    {
      "cell_type": "code",
      "source": [
        "# test()를 활용한 추천 예측\n",
        "predictions = algo.test( testset )\n",
        "print('prediction type :', type(predictions), 'size :', len(predictions))\n",
        "print('prediction 결과의 최초 5개 추출')\n",
        "predictions[:5]"
      ],
      "metadata": {
        "colab": {
          "base_uri": "https://localhost:8080/"
        },
        "id": "rpMlbBedMIHV",
        "outputId": "74238ee4-0490-4fd7-8f1f-6434c2937063"
      },
      "execution_count": 5,
      "outputs": [
        {
          "output_type": "stream",
          "name": "stdout",
          "text": [
            "prediction type : <class 'list'> size : 25000\n",
            "prediction 결과의 최초 5개 추출\n"
          ]
        },
        {
          "output_type": "execute_result",
          "data": {
            "text/plain": [
              "[Prediction(uid='120', iid='282', r_ui=4.0, est=3.3820728133375066, details={'was_impossible': False}),\n",
              " Prediction(uid='882', iid='291', r_ui=4.0, est=3.87654957154176, details={'was_impossible': False}),\n",
              " Prediction(uid='535', iid='507', r_ui=5.0, est=4.0549332793627615, details={'was_impossible': False}),\n",
              " Prediction(uid='697', iid='244', r_ui=5.0, est=3.7894127593906255, details={'was_impossible': False}),\n",
              " Prediction(uid='751', iid='385', r_ui=4.0, est=3.628442242489633, details={'was_impossible': False})]"
            ]
          },
          "metadata": {},
          "execution_count": 5
        }
      ]
    },
    {
      "cell_type": "markdown",
      "source": [
        "  - SVD 알고리즘 객체의 test(데이터 세트) 메서드의 호출 결과는 파이썬 리스트이며, 크기는 입력 인자 데이터 세트의 크기와 같은 25000개이다.\n",
        "  - 호출 결과로 반환된 리스트 객체는 25000개의 Prediction 객체를 내부에 가지고 있다.\n",
        "    - `Prediction `객체는 `Surprise 패키지에서 제공하는 데이터 타입`이며, 아래의 데이터들을 `튜플 형태`로 가지고 있다.\n",
        "      - uid : 개별 사용자 아이디\n",
        "      - iid : 영화 아이디\n",
        "      - r_ui : 실제 평점 정보\n",
        "      - details : 내부 처리 시 추천 예측을 할 수 없는 경우 로그용으로 데이터를 남기는 데 사용되며, 'was_impossible'이 True이면 예측값을 생성할 수 없는 데이터라는 의미\n",
        "\n",
        "  - 리스트 객체 내에 내포된 Prediction 객체의 uid, iid, r_ui, est 등의 속성에 접근하려면 객체명.uid와 같은 형식으로 가능하다."
      ],
      "metadata": {
        "id": "WRMG6hBvMjMg"
      }
    },
    {
      "cell_type": "code",
      "source": [
        "[ (pred.uid, pred.iid, pred.est) for pred in predictions[:3]] "
      ],
      "metadata": {
        "colab": {
          "base_uri": "https://localhost:8080/"
        },
        "id": "8xt7QJwBNKaP",
        "outputId": "8c68eec2-ffa8-453a-a9fe-85f54e706614"
      },
      "execution_count": 6,
      "outputs": [
        {
          "output_type": "execute_result",
          "data": {
            "text/plain": [
              "[('120', '282', 3.3820728133375066),\n",
              " ('882', '291', 3.87654957154176),\n",
              " ('535', '507', 4.0549332793627615)]"
            ]
          },
          "metadata": {},
          "execution_count": 6
        }
      ]
    },
    {
      "cell_type": "markdown",
      "source": [
        "  - 이번에는 `Surprise 패키지`의 다른 추천 예측 메서드인 `predict()`를 이용해 `추천 예측`을 해보자.\n",
        "  - predict()는 개별 사용자의 아이템에 대한 추천 평점을 예측해 준다.\n",
        "  - 인자로 `개별 사용자 아이디`, `아이템 아이디를 입력`하면 `추천 예측 평점을 포함한 정보`를 반환한다."
      ],
      "metadata": {
        "id": "V7jZbVC5Neqf"
      }
    },
    {
      "cell_type": "code",
      "source": [
        "# 사용자 아이디, 아이템 아이디는 문자열로 입력\n",
        "uid = str(196)\n",
        "iid = str(302)\n",
        "pred = algo.predict(uid, iid)\n",
        "print(pred)"
      ],
      "metadata": {
        "colab": {
          "base_uri": "https://localhost:8080/"
        },
        "id": "5KhhRFMnNycV",
        "outputId": "f2580401-c745-4e82-d714-2f26d0488113"
      },
      "execution_count": 7,
      "outputs": [
        {
          "output_type": "stream",
          "name": "stdout",
          "text": [
            "user: 196        item: 302        r_ui = None   est = 4.32   {'was_impossible': False}\n"
          ]
        }
      ]
    },
    {
      "cell_type": "markdown",
      "source": [
        "  - 이처럼 `predict()`는 `개별 사용자와 아이템 정보`를 입력하면 `추천 예측 평점을 est로 반환`한다.\n",
        "  - `test()` 메서드는 `입력 데이터 세트의 모든 사용자와 아이템`에 대해서 `predict()를 반복적으로 수행`한 결과와 같다."
      ],
      "metadata": {
        "id": "QbsEiajsOBht"
      }
    },
    {
      "cell_type": "markdown",
      "source": [
        "  - 테스트 데이터 세트를 이용해 추천 예측 평점과 실제 평점과의 차이를 평가해 보자.\n",
        "  - `Surprise의 accuracy` 모듈은 RMSE, MSE 등의 방법으로 `추천 시스템의 성능 평가 정보를 제공`한다. "
      ],
      "metadata": {
        "id": "tDK_UdUEOSmC"
      }
    },
    {
      "cell_type": "code",
      "source": [
        "accuracy.rmse(predictions)"
      ],
      "metadata": {
        "colab": {
          "base_uri": "https://localhost:8080/"
        },
        "id": "hpOTK5-GOcjO",
        "outputId": "97d833fa-6afb-4867-a2a8-516816c66d47"
      },
      "execution_count": 8,
      "outputs": [
        {
          "output_type": "stream",
          "name": "stdout",
          "text": [
            "RMSE: 0.9478\n"
          ]
        },
        {
          "output_type": "execute_result",
          "data": {
            "text/plain": [
              "0.9477654838166572"
            ]
          },
          "metadata": {},
          "execution_count": 8
        }
      ]
    },
    {
      "cell_type": "markdown",
      "source": [
        "---"
      ],
      "metadata": {
        "id": "Av7t6tlSAV02"
      }
    },
    {
      "cell_type": "markdown",
      "source": [
        "### **9.8.3 Surprise 주요 모듈 소개**"
      ],
      "metadata": {
        "id": "Fg4SYvwrAMWU"
      }
    },
    {
      "cell_type": "markdown",
      "source": [
        "#### [Dataset]\n",
        "  - Surprise는 user_id, item_id, rating 데이터가 로우 레벨로 된 데이터 세트만 적용할 수 있다.\n",
        "  - Surprise의 API 명\n",
        "    1. `Dataset.load_builtin()` : 무비렌즈 아카이브 FTP 서버에서 무비렌즈 데이터를 내려받는다.\n",
        "    2. `Dataset.load_from_file(file_path, reader)` : OS 파일에서 데이터를 로딩할 때 사용한다.\n",
        "    3. `Dataset.load_from_df(df, reader)` : 판다스의 DataFrame에서 데이터를 로딩한다.\n"
      ],
      "metadata": {
        "id": "zBsa_HIWAS7Y"
      }
    },
    {
      "cell_type": "markdown",
      "source": [
        "#### [OS 파일 데이터를 Surprise 데이터 세트로 로딩]\n",
        "  - Dataset.load_from_file API를 이용해 지정된 디렉터리에 있는 사용자-아이템 평점 데이터를 로딩해보자.\n",
        "  - 먼저 Surprise에 OS 파일을 로딩할 때 주의할 점은 로딩되는 데이터 파일에 칼럼명을 가지는 헤더 문자열이 있으면 안 된다는 것이다.\n",
        "  - 따라서 판다스 DataFrame의 to_csv() 함수를 이용해 ratings.csv 파일의 헤더를 삭제하고 새로운 파일인 ratings_noh.csv로 저장한다."
      ],
      "metadata": {
        "id": "tXDUbN4dAaGo"
      }
    },
    {
      "cell_type": "code",
      "source": [
        "import pandas as pd\n",
        "\n",
        "ratings = pd.read_csv('ratings.csv')\n",
        "# ratings_noh.csv 파일로 업로드 시 인덱스와 헤더를 모두 제거한 새로운 파일 생성\n",
        "ratings.to_csv('ratings_noh.csv', index = False, header = False)"
      ],
      "metadata": {
        "id": "lORczHaiAgmX"
      },
      "execution_count": 9,
      "outputs": []
    },
    {
      "cell_type": "markdown",
      "source": [
        "  - 이제 ratings_noh.csv를 DataSet 모듈의 load_from_file()을 이용해 DataSet으로 로드해보자.\n",
        "  - 먼저 Dataset.load_from_file()을 적용하기 전에 `Reader 클래스`를 이용해 `데이터 파일의 파싱 포맷을 정의`해야 한다.\n",
        "  - 지금 로딩하려는 `ratings_noh.csv`는 `칼럼 헤더가 없고`, `4개의 칼럼이 콤마로만 분리`돼 있다. 이 4개의 칼럼이 사용자 아이디, 아이템 아이디, 평점, 타임스탬프임을 로딩할 때 알려줘야 한다."
      ],
      "metadata": {
        "id": "18JmGvw8bO-y"
      }
    },
    {
      "cell_type": "code",
      "source": [
        "from surprise import Reader\n",
        "\n",
        "reader = Reader(line_format = 'user item rating timestamp', sep = ',', rating_scale = (0.5, 5))\n",
        "data = Dataset.load_from_file('ratings_noh.csv', reader = reader)"
      ],
      "metadata": {
        "id": "ANfDIKUzboM-"
      },
      "execution_count": 10,
      "outputs": []
    },
    {
      "cell_type": "markdown",
      "source": [
        "  - `Reader 클래스`의 주요 생성 `파라미터`\n",
        "    - `line_format` : 칼럼을 순서대로 나열, `입력된 문자열을 공백으로 분리`해 칼럼으로 인식\n",
        "    - `sep` : 칼럼을 분리하는 `분리자`, 디폴트는 \\t\n",
        "    - `rating_scale` : `평점 값의 최소 ~ 최대` 평점을 설정, 디폴트는 (1, 5)"
      ],
      "metadata": {
        "id": "Cr6cUK16b74T"
      }
    },
    {
      "cell_type": "markdown",
      "source": [
        "  - 이제 SVD 행렬 분해 기법을 이용해 추천을 예측해 보자."
      ],
      "metadata": {
        "id": "ifvqyddicTXh"
      }
    },
    {
      "cell_type": "code",
      "source": [
        "trainset, testset = train_test_split(data, test_size = .25, random_state = 0)\n",
        "\n",
        "# 수행 시마다 동일한 결과를 도출하기 위해 random_state 설정\n",
        "algo = SVD(n_factors = 50, random_state = 0)\n",
        "\n",
        "# 학습 데이터 세트로 학습하고 나서 테스트 데이터 세트로 평점 예측 후 RMSE 평가\n",
        "algo.fit(trainset)\n",
        "predictions = algo.test( testset )\n",
        "accuracy.rmse(predictions)"
      ],
      "metadata": {
        "colab": {
          "base_uri": "https://localhost:8080/"
        },
        "id": "1uwt2462cWng",
        "outputId": "30acc9cc-b9b2-421e-d169-f52a66ae69b0"
      },
      "execution_count": 11,
      "outputs": [
        {
          "output_type": "stream",
          "name": "stdout",
          "text": [
            "RMSE: 0.8682\n"
          ]
        },
        {
          "output_type": "execute_result",
          "data": {
            "text/plain": [
              "0.8681952927143516"
            ]
          },
          "metadata": {},
          "execution_count": 11
        }
      ]
    },
    {
      "cell_type": "markdown",
      "source": [
        "#### [판다스 DataFrame에서 Surprise 데이터 세트로 로딩]\n",
        "  - 판다스의 DataFrame에서 Surprise 데이터 세트로 로딩할 때 주의할 점은 DataFrame 역시 사용자 아이디, 아이템 아이디, 평점 칼럼 순서를 지켜야 한다는 것이다."
      ],
      "metadata": {
        "id": "_xmH24vDAiDA"
      }
    },
    {
      "cell_type": "code",
      "source": [
        "import pandas as pd\n",
        "from surprise import Reader, Dataset\n",
        "\n",
        "ratings = pd.read_csv('ratings.csv')\n",
        "reader = Reader(rating_scale = (0.5, 5.0))\n",
        "\n",
        "# ratings DataFrame에서 칼럼은 사용자 아이디, 아이템 아이디, 평점 순\n",
        "data = Dataset.load_from_df(ratings[['userId', 'movieId', 'rating']], reader)\n",
        "trainset, testset = train_test_split(data, test_size = .25, random_state = 0)\n",
        "\n",
        "algo = SVD(n_factors = 50, random_state = 0)\n",
        "algo.fit(trainset)\n",
        "predictions = algo.test( testset )\n",
        "accuracy.rmse(predictions)"
      ],
      "metadata": {
        "colab": {
          "base_uri": "https://localhost:8080/"
        },
        "id": "9CGBbO1qAlDN",
        "outputId": "406523af-7bdb-4552-b99d-33ce58ccf068"
      },
      "execution_count": 12,
      "outputs": [
        {
          "output_type": "stream",
          "name": "stdout",
          "text": [
            "RMSE: 0.8682\n"
          ]
        },
        {
          "output_type": "execute_result",
          "data": {
            "text/plain": [
              "0.8681952927143516"
            ]
          },
          "metadata": {},
          "execution_count": 12
        }
      ]
    },
    {
      "cell_type": "markdown",
      "source": [
        "---"
      ],
      "metadata": {
        "id": "1il4xpTuApph"
      }
    },
    {
      "cell_type": "markdown",
      "source": [
        "### **9.8.4 Surprise 추천 알고리즘 클래스**\n",
        "  - `Surprise`에서 추천 예측을 위해 자주 사용되는 `추천 알고리즘 클래스`\n",
        "    1. `SVD` : 행렬 분해를 통핸 잠재 요인 협업 필터링을 위한 SVD 알고리즘\n",
        "    2. `KNNBasic` : 최근접 이웃 협업 필터링을 위한 KNN 알고리즘\n",
        "    3. `BaselineOnly` : 사용자 Bias와 아이템 Bias를 감안한 SGD 베이스라인 알고리즘\n",
        "\n",
        "  - SVD 클래스의 입력 파라미터\n",
        "    - n_factors : 잠재 요인 K의 개수. 커질수록 정확도가 높아질 수 있으나, 과적합 문제가 발생할 수 있음\n",
        "    - n_epochs : SGD(확률적 경사하강법) 수행 시 반복 횟수\n",
        "    - biased : 베이스라인 사용자 편향 적용 여부 \n",
        "\n"
      ],
      "metadata": {
        "id": "Jyil0di2AqJn"
      }
    },
    {
      "cell_type": "markdown",
      "source": [
        "---"
      ],
      "metadata": {
        "id": "Fc_zCoWPAyDa"
      }
    },
    {
      "cell_type": "markdown",
      "source": [
        "### **9.8.5 베이스라인 평점**\n",
        "  - `베이스라인 평점`(Baseline Rating)\n",
        "    - `개인의 성향을 반영`해 아이템 평가에 `편향성(bias) 요소를 반영`하여 `평점을 부과`하는 것\n",
        "\n",
        "  - `베이스라인 평점`은 `전체 평균 평점` + `사용자 편향 점수` + `아이템 편향 점수` 공식으로 계산된다.\n",
        "    - 전체 평균 평점 : 모든 사용자의 아이템에 대한 평점을 평균한 값\n",
        "    - 사용자 편향 점수 : 사용자별 아이템 평점 평균 값 - 전체 평균 평점\n",
        "    - 아이템 편향 점수 : 아이템별 평점 평균 값 - 전체 평균 평점"
      ],
      "metadata": {
        "id": "-2MMVOaZAvOc"
      }
    },
    {
      "cell_type": "markdown",
      "source": [
        "---"
      ],
      "metadata": {
        "id": "Z2NL5zSeAzUb"
      }
    },
    {
      "cell_type": "markdown",
      "source": [
        "### **9.8.6 교차 검증과 하이퍼 파라미터 튜닝**\n",
        "  - `Surprise`는 `교차 검증`과 `하이퍼 파라미터 튜닝`을 위해 사이킷런과 유사한 `cross_validate()`와 `GridSearchCV 클래스`를 제공한다."
      ],
      "metadata": {
        "id": "KKmR2MdMA0EW"
      }
    },
    {
      "cell_type": "code",
      "source": [
        "from surprise.model_selection import cross_validate\n",
        "\n",
        "# 판다스 DataFrame에서 Surprise 데이터 세트로 데이터 로딩\n",
        "ratings = pd.read_csv('ratings.csv')    # reading data in pandas df\n",
        "reader = Reader(rating_scale = (0.5, 5.0))\n",
        "data = Dataset.load_from_df(ratings[['userId', 'movieId', 'rating']], reader)\n",
        "\n",
        "algo = SVD(random_state = 0)\n",
        "cross_validate(algo, data, measures = ['RMSE', 'MAE'], cv = 5, verbose = True)"
      ],
      "metadata": {
        "colab": {
          "base_uri": "https://localhost:8080/"
        },
        "id": "Y_DfHQFnAt8P",
        "outputId": "8b471fa2-e38a-433d-a84d-068004bc6278"
      },
      "execution_count": 13,
      "outputs": [
        {
          "output_type": "stream",
          "name": "stdout",
          "text": [
            "Evaluating RMSE, MAE of algorithm SVD on 5 split(s).\n",
            "\n",
            "                  Fold 1  Fold 2  Fold 3  Fold 4  Fold 5  Mean    Std     \n",
            "RMSE (testset)    0.8755  0.8780  0.8680  0.8710  0.8685  0.8722  0.0039  \n",
            "MAE (testset)     0.6737  0.6741  0.6688  0.6688  0.6676  0.6706  0.0027  \n",
            "Fit time          6.39    5.13    5.20    5.11    5.21    5.41    0.49    \n",
            "Test time         0.15    0.15    0.14    0.20    0.15    0.16    0.02    \n"
          ]
        },
        {
          "output_type": "execute_result",
          "data": {
            "text/plain": [
              "{'test_rmse': array([0.87550506, 0.87796888, 0.86799422, 0.87099571, 0.86852108]),\n",
              " 'test_mae': array([0.67367264, 0.67413459, 0.66880902, 0.66879766, 0.66758562]),\n",
              " 'fit_time': (6.3927130699157715,\n",
              "  5.129431247711182,\n",
              "  5.198467254638672,\n",
              "  5.106042861938477,\n",
              "  5.206355571746826),\n",
              " 'test_time': (0.15335726737976074,\n",
              "  0.15206027030944824,\n",
              "  0.14131641387939453,\n",
              "  0.19565606117248535,\n",
              "  0.14890599250793457)}"
            ]
          },
          "metadata": {},
          "execution_count": 13
        }
      ]
    },
    {
      "cell_type": "markdown",
      "source": [
        "  - cross_validate()는 위의 출력 결과와 같이 폴드별 성능 평가 수치와 전체 폴드의 평균 성능 평가 수치를 함께 보여준다."
      ],
      "metadata": {
        "id": "BbNSdVECgocA"
      }
    },
    {
      "cell_type": "markdown",
      "source": [
        "  - `Surprise의 GridSearchCV`도 사이킷런의 GridSearchCV와 유사하게 `교차 검증을 통한 하이퍼 파라미터 최적화`를 수행한다.\n",
        "  - `SVD`의 경우 주로 `SGD의 반복 횟수`를 지정하는 `n_epochs`와 `SVD의 잠재 요인 K의 크기`를 지정하는 `n_factors`를 튜닝한다."
      ],
      "metadata": {
        "id": "iKiQGldAguzM"
      }
    },
    {
      "cell_type": "code",
      "source": [
        "from surprise.model_selection import GridSearchCV\n",
        "\n",
        "# 최적화할 파라미터를 딕셔너리 형태로 지정\n",
        "param_grid = {'n_epochs' : [20, 40, 60], 'n_factors' : [50, 100, 200]}\n",
        "\n",
        "# CV를 3개 폴드 세트로 지정, 성능 평가는 rmse, mae로 수행하도록 GridSearchCV 구성\n",
        "gs = GridSearchCV(SVD, param_grid, measures = ['rmse', 'mae'], cv = 3)\n",
        "gs.fit(data)\n",
        "\n",
        "# 최고 RMSE Evaluation 점수와 그때의 하이퍼 파라미터\n",
        "print(gs.best_score['rmse'])\n",
        "print(gs.best_params['rmse'])"
      ],
      "metadata": {
        "colab": {
          "base_uri": "https://localhost:8080/"
        },
        "id": "7ESLtRb4hEbi",
        "outputId": "33ca681a-e554-4114-96c6-918a25a00d58"
      },
      "execution_count": 14,
      "outputs": [
        {
          "output_type": "stream",
          "name": "stdout",
          "text": [
            "0.8767605383916356\n",
            "{'n_epochs': 20, 'n_factors': 50}\n"
          ]
        }
      ]
    },
    {
      "cell_type": "markdown",
      "source": [
        "  - 'n_epochs' : , 'n_factors' : 일 때 3개 폴드의 검증 데이터 세트에서 최적 RMSE가 로 도출되었다."
      ],
      "metadata": {
        "id": "tRpMHO1bhjOs"
      }
    },
    {
      "cell_type": "markdown",
      "source": [
        "---"
      ],
      "metadata": {
        "id": "gTTKj9gGA8Kv"
      }
    },
    {
      "cell_type": "markdown",
      "source": [
        "### **9.8.7 Surprise를 이용한 개인화 영화 추천 시스템 구축**\n",
        "  - Surprise를 이용해 잠재 요인 협업 필터링 기반의 개인화된 영화 추천을 구현해 보자.\n",
        "  - `Surprise` 패키지로 `학습된 추천 알고리즘을 기반`으로 특정 사용자가 `아직 평점을 매기지 않은 영화 중`에서 `개인 취향에 가장 적절한 영화를 추천`해 보자.\n",
        "  - 이번 예제에서는 ratings.csv 데이터를 학습 데이터와 테스트 데이터로 분리하지 않고 전체를 학습 데이터로 사용한다.\n",
        "    - 그런데 Surprise는 데이터 세트를 train_test_split()을 이용해 내부에서 사용하는 TrainSet 클래스 객체로 변환하지 않으면 fit()을 통해 학습할 수 없다."
      ],
      "metadata": {
        "id": "7QqJF9bJA3wY"
      }
    },
    {
      "cell_type": "code",
      "source": [
        "# 다음 코드는 train_test_split()으로 분리되지 않는 데이터 세트에 fit()을 호출해 오류가 발생한다.\n",
        "data = Dataset.load_from_df(ratings[['userId', 'movieId', 'rating']], reader)\n",
        "algo = SVD(n_factors = 50, random_state = 0)\n",
        "algo.fit(data)"
      ],
      "metadata": {
        "colab": {
          "base_uri": "https://localhost:8080/",
          "height": 305
        },
        "id": "AcqiX6U2A7ip",
        "outputId": "1504b9f2-9563-4d03-a1e8-9a1bbf601cf0"
      },
      "execution_count": 16,
      "outputs": [
        {
          "output_type": "error",
          "ename": "AttributeError",
          "evalue": "ignored",
          "traceback": [
            "\u001b[0;31m---------------------------------------------------------------------------\u001b[0m",
            "\u001b[0;31mAttributeError\u001b[0m                            Traceback (most recent call last)",
            "\u001b[0;32m<ipython-input-16-9cacd02f892d>\u001b[0m in \u001b[0;36m<module>\u001b[0;34m\u001b[0m\n\u001b[1;32m      2\u001b[0m \u001b[0mdata\u001b[0m \u001b[0;34m=\u001b[0m \u001b[0mDataset\u001b[0m\u001b[0;34m.\u001b[0m\u001b[0mload_from_df\u001b[0m\u001b[0;34m(\u001b[0m\u001b[0mratings\u001b[0m\u001b[0;34m[\u001b[0m\u001b[0;34m[\u001b[0m\u001b[0;34m'userId'\u001b[0m\u001b[0;34m,\u001b[0m \u001b[0;34m'movieId'\u001b[0m\u001b[0;34m,\u001b[0m \u001b[0;34m'rating'\u001b[0m\u001b[0;34m]\u001b[0m\u001b[0;34m]\u001b[0m\u001b[0;34m,\u001b[0m \u001b[0mreader\u001b[0m\u001b[0;34m)\u001b[0m\u001b[0;34m\u001b[0m\u001b[0;34m\u001b[0m\u001b[0m\n\u001b[1;32m      3\u001b[0m \u001b[0malgo\u001b[0m \u001b[0;34m=\u001b[0m \u001b[0mSVD\u001b[0m\u001b[0;34m(\u001b[0m\u001b[0mn_factors\u001b[0m \u001b[0;34m=\u001b[0m \u001b[0;36m50\u001b[0m\u001b[0;34m,\u001b[0m \u001b[0mrandom_state\u001b[0m \u001b[0;34m=\u001b[0m \u001b[0;36m0\u001b[0m\u001b[0;34m)\u001b[0m\u001b[0;34m\u001b[0m\u001b[0;34m\u001b[0m\u001b[0m\n\u001b[0;32m----> 4\u001b[0;31m \u001b[0malgo\u001b[0m\u001b[0;34m.\u001b[0m\u001b[0mfit\u001b[0m\u001b[0;34m(\u001b[0m\u001b[0mdata\u001b[0m\u001b[0;34m)\u001b[0m\u001b[0;34m\u001b[0m\u001b[0;34m\u001b[0m\u001b[0m\n\u001b[0m",
            "\u001b[0;32m/usr/local/lib/python3.7/dist-packages/surprise/prediction_algorithms/matrix_factorization.pyx\u001b[0m in \u001b[0;36msurprise.prediction_algorithms.matrix_factorization.SVD.fit\u001b[0;34m()\u001b[0m\n",
            "\u001b[0;32m/usr/local/lib/python3.7/dist-packages/surprise/prediction_algorithms/matrix_factorization.pyx\u001b[0m in \u001b[0;36msurprise.prediction_algorithms.matrix_factorization.SVD.sgd\u001b[0;34m()\u001b[0m\n",
            "\u001b[0;31mAttributeError\u001b[0m: 'DatasetAutoFolds' object has no attribute 'global_mean'"
          ]
        }
      ]
    },
    {
      "cell_type": "markdown",
      "source": [
        "  - `데이터 세트 전체를 학습 데이터`로 사용하려면, `DatasetAutoFolds` 클래스를 이용하면 된다.\n",
        "  - `DatasetAutoFolds` 객체를 생성한 뒤, `build_full_trainset()` 메서드를 호출하면 `전체 데이터를 학습 데이터 세트`로 만들 수 있다."
      ],
      "metadata": {
        "id": "xCGDx7M7eXga"
      }
    },
    {
      "cell_type": "code",
      "source": [
        "from surprise.dataset import DatasetAutoFolds\n",
        "\n",
        "reader = Reader(line_format = 'user item rating timestamp', sep = ',', rating_scale = (0.5, 5))\n",
        "# DatasetAutoFolds 클래스를 ratings_noh.csv 파일 기반으로 생성\n",
        "data_folds = DatasetAutoFolds(ratings_file = 'ratings_noh.csv', reader = reader)\n",
        "\n",
        "# 전체 데이터를 학습 데이터로 생성함\n",
        "trainset = data_folds.build_full_trainset()"
      ],
      "metadata": {
        "id": "EmZ4OwFXefpA"
      },
      "execution_count": 17,
      "outputs": []
    },
    {
      "cell_type": "markdown",
      "source": [
        "  - DatasetAutoFolds의 build_full_trainset() 메서드를 이용해 생성된 학습 데이터를 기반으로 학습을 수행한 뒤, 특정 사용자에 영화를 추천하기 위해 아직 보지 않은 영화 목록을 확인해 보자."
      ],
      "metadata": {
        "id": "_tqE7uoifPIP"
      }
    },
    {
      "cell_type": "code",
      "source": [
        "algo = SVD(n_epochs = 20, n_factors = 50, random_state = 0)\n",
        "algo.fit(trainset)"
      ],
      "metadata": {
        "colab": {
          "base_uri": "https://localhost:8080/"
        },
        "id": "MzaMG43QfVpn",
        "outputId": "eadcbc62-6611-4f4a-e1ae-f34e0893e5d6"
      },
      "execution_count": 18,
      "outputs": [
        {
          "output_type": "execute_result",
          "data": {
            "text/plain": [
              "<surprise.prediction_algorithms.matrix_factorization.SVD at 0x7f419e2bd490>"
            ]
          },
          "metadata": {},
          "execution_count": 18
        }
      ]
    },
    {
      "cell_type": "markdown",
      "source": [
        "  - 특정 사용자는 userId = 9인 사용자로 지정한다.\n",
        "  - userId 9가 아직 평점을 매기지 않은 영화를 movieId 42로 선정한 뒤, 예측 평점을 계산해보자."
      ],
      "metadata": {
        "id": "Q6kPs0NyfbI4"
      }
    },
    {
      "cell_type": "code",
      "source": [
        "# 영화에 대한 상세 속성 정보 DataFrame 로딩\n",
        "movies = pd.read_csv('movies.csv')\n",
        "\n",
        "# userId = 9의 movieId 데이터를 추출해 movieId = 42 데이터가 있는지 확인\n",
        "movieIds = ratings[ratings['userId'] == 9]['movieId']\n",
        "\n",
        "if movieIds[movieIds == 42].count() == 0:\n",
        "  print('사용자 아이디 9는 영화 아이디 42의 평점 없음')\n",
        "\n",
        "print(movies[movies['movieId'] == 42])"
      ],
      "metadata": {
        "colab": {
          "base_uri": "https://localhost:8080/"
        },
        "id": "kERxNZEPfjA2",
        "outputId": "6663f0f0-c44f-4c75-a4c5-4105e87d902f"
      },
      "execution_count": 19,
      "outputs": [
        {
          "output_type": "stream",
          "name": "stdout",
          "text": [
            "사용자 아이디 9는 영화 아이디 42의 평점 없음\n",
            "    movieId                   title              genres\n",
            "38       42  Dead Presidents (1995)  Action|Crime|Drama\n"
          ]
        }
      ]
    },
    {
      "cell_type": "markdown",
      "source": [
        "  - `movieId 42`인 영화에 대해서 `userId 9` 사용자의 추천 `예상 평점`은 `predict()` 메서드를 이용하면 된다.\n",
        "  - 학습된 `SVD 객체`에서 `predict()` 메서드 내에 `userId와 movieId 값을 입력`해주면 된다. 단, 이 값은 `모두 문자열` 값이어야 한다."
      ],
      "metadata": {
        "id": "ujkxQDGagD6e"
      }
    },
    {
      "cell_type": "code",
      "source": [
        "uid = str(9)\n",
        "iid = str(42)\n",
        "\n",
        "pred = algo.predict(uid, iid, verbose = True)"
      ],
      "metadata": {
        "colab": {
          "base_uri": "https://localhost:8080/"
        },
        "id": "apMvGSNef_05",
        "outputId": "daa22fa4-8139-495c-db4d-16135cc55ab1"
      },
      "execution_count": 20,
      "outputs": [
        {
          "output_type": "stream",
          "name": "stdout",
          "text": [
            "user: 9          item: 42         r_ui = None   est = 3.13   {'was_impossible': False}\n"
          ]
        }
      ]
    },
    {
      "cell_type": "markdown",
      "source": [
        "  - 추천 예측 평점은 3.13이다."
      ],
      "metadata": {
        "id": "sq8R_75agZCk"
      }
    },
    {
      "cell_type": "markdown",
      "source": [
        "  - 이제 사용자가 평점을 매기지 않은 전체 영화를 추출한 뒤, 예측 평점 순으로 영화를 추천해 보자."
      ],
      "metadata": {
        "id": "DqVMgLFPghsF"
      }
    },
    {
      "cell_type": "code",
      "source": [
        "def get_unseen_surprise(ratings, movies, userId):\n",
        "  # 입력값으로 들어온 userId에 해당하는 사용자가 평점을 매긴 모든 영화를 리스트로 생성\n",
        "  seen_movies = ratings[ratings['userId'] == userId]['movieId'].tolist()\n",
        "\n",
        "  # 모든 영화의 movieId를 리스트로 생성\n",
        "  total_movies = movies['movieId'].tolist()\n",
        "\n",
        "  # 모든 영화의 movieId 중 이미 평점을 매긴 영화의 movieId를 제외한 후 리스트로 생성\n",
        "  unseen_movies = [movie for movie in total_movies if movie not in seen_movies]\n",
        "  print('평점 매긴 영화 수 :', len(seen_movies), '추천 대상 영화 수 :', len(unseen_movies),\n",
        "        '전체 영화 수 :', len(total_movies))\n",
        "  \n",
        "  return unseen_movies\n",
        "\n",
        "unseen_movies = get_unseen_surprise(ratings, movies, 9)"
      ],
      "metadata": {
        "colab": {
          "base_uri": "https://localhost:8080/"
        },
        "id": "WagSrsEfgXwq",
        "outputId": "c65ce9b4-a946-4fb5-d727-ab37ae6824bf"
      },
      "execution_count": 21,
      "outputs": [
        {
          "output_type": "stream",
          "name": "stdout",
          "text": [
            "평점 매긴 영화 수 : 46 추천 대상 영화 수 : 9696 전체 영화 수 : 9742\n"
          ]
        }
      ]
    },
    {
      "cell_type": "markdown",
      "source": [
        "  - 9번 사용자는 전체 9742개 중 46개의 영화에만 평점을 매겼으므로, 추천 대상 영화는 9696개이다. \n",
        "  - 이 중 앞에서 학습된 추천 알고리즘 클래스인 SVD를 이용해 높은 예측 평점을 가진 순으로 영화를 추천해 보자.\n",
        "  - `recomm_movie_by_surprise()` 함수는 `인자`로 `학습이 완료된 추천 알고리즘 객체`, `추천 대상 사용자 아이디`, `추천 대상 영화의 리스트 객체`, `추천 상위 N개 개수`를 받는다."
      ],
      "metadata": {
        "id": "AAvbcSUChPKR"
      }
    },
    {
      "cell_type": "code",
      "source": [
        "def recomm_movie_by_surprise(algo, userId, unseen_movies, top_n = 10):\n",
        "  # 알고리즘 객체의 predict() 메서드를 평점이 없는 영화에 반복 수행한 후 결과를 list 객체로 저장\n",
        "  predictions = [algo.predict(str(userId), str(movieId)) for movieId in unseen_movies]\n",
        "\n",
        "  # predictions list 객체는 surprise의 Predictions 객체를 원소로 가지고 있음\n",
        "  # [Predictions(uid = '9', iid = '1', est = 3.69), Prediction(uid = '9', iid = '2', est = 2.98),,,]\n",
        "\n",
        "  # 이를 est 값으로 정렬하기 위해서 아래의 sortkey_est 함수를 정의함\n",
        "  # sortkey_est 함수는 list 객체의 sort() 함수의 키 값으로 사용되어 정렬 수행\n",
        "  def sortkey_est(pred):\n",
        "    return pred.est\n",
        "\n",
        "  # sortkey_est() 반환값의 내림 차순으로 정렬 수행하고 top_n개의 최상위 값 추출\n",
        "  predictions.sort(key = sortkey_est, reverse = True)\n",
        "  top_predictions = predictions[:top_n]\n",
        "\n",
        "  # top_n으로 추출된 영화의 정보 추출. 영화 아이디, 추천 예상 평점, 제목 추출\n",
        "  top_movie_ids = [ int(pred.iid) for pred in top_predictions ]\n",
        "  top_movie_rating = [ pred.est for pred in top_predictions ]\n",
        "  top_movie_titles = movies[movies.movieId.isin(top_movie_ids)]['title']\n",
        "\n",
        "  top_movie_preds = [ (id, title, rating) for id, title, rating in\n",
        "                     zip(top_movie_ids, top_movie_titles, top_movie_rating) ]\n",
        "\n",
        "  return top_movie_preds\n",
        "\n",
        "unseen_movies = get_unseen_surprise(ratings, movies, 9)\n",
        "top_movie_preds = recomm_movie_by_surprise(algo, 9, unseen_movies, top_n = 10)\n",
        "\n",
        "print('##### Top-10 추천 영화 리스트 #####')\n",
        "for top_movie in top_movie_preds:\n",
        "  print(top_movie[1], \":\", top_movie[2])"
      ],
      "metadata": {
        "colab": {
          "base_uri": "https://localhost:8080/"
        },
        "id": "hfAAdd7-hMv1",
        "outputId": "1d121fe7-a4e5-4182-c0d6-baa4ed15c3e2"
      },
      "execution_count": 23,
      "outputs": [
        {
          "output_type": "stream",
          "name": "stdout",
          "text": [
            "평점 매긴 영화 수 : 46 추천 대상 영화 수 : 9696 전체 영화 수 : 9742\n",
            "##### Top-10 추천 영화 리스트 #####\n",
            "Usual Suspects, The (1995) : 4.306302135700814\n",
            "Star Wars: Episode IV - A New Hope (1977) : 4.281663842987387\n",
            "Pulp Fiction (1994) : 4.278152632122759\n",
            "Silence of the Lambs, The (1991) : 4.226073566460876\n",
            "Godfather, The (1972) : 4.1918097904381995\n",
            "Streetcar Named Desire, A (1951) : 4.154746591122658\n",
            "Star Wars: Episode V - The Empire Strikes Back (1980) : 4.122016128534504\n",
            "Star Wars: Episode VI - Return of the Jedi (1983) : 4.108009609093436\n",
            "Goodfellas (1990) : 4.083464936588478\n",
            "Glory (1989) : 4.07887165526957\n"
          ]
        }
      ]
    },
    {
      "cell_type": "markdown",
      "source": [
        "  - 이처럼 Surprise 패키지는 복잡한 알고리즘을 직접 구현하지 않고도 쉽고 간결한 API를 이용해 파이썬 기반에서 추천 시스템을 구축할 수 있도록 한다."
      ],
      "metadata": {
        "id": "tmlbJQ9RjGHf"
      }
    }
  ]
}
