{
  "nbformat": 4,
  "nbformat_minor": 0,
  "metadata": {
    "colab": {
      "name": "HW_220527.ipynb",
      "provenance": [],
      "authorship_tag": "ABX9TyOMGfwN97fR/nk6BIq8nZhO",
      "include_colab_link": true
    },
    "kernelspec": {
      "name": "python3",
      "display_name": "Python 3"
    },
    "language_info": {
      "name": "python"
    }
  },
  "cells": [
    {
      "cell_type": "markdown",
      "metadata": {
        "id": "view-in-github",
        "colab_type": "text"
      },
      "source": [
        "<a href=\"https://colab.research.google.com/github/wldopie/ESAA/blob/main/HW_220527.ipynb\" target=\"_parent\"><img src=\"https://colab.research.google.com/assets/colab-badge.svg\" alt=\"Open In Colab\"/></a>"
      ]
    },
    {
      "cell_type": "markdown",
      "source": [
        "### **06. 규제 선형 모델 - 릿지, 라쏘, 엘라스틱넷**"
      ],
      "metadata": {
        "id": "LYUDQLdoB13L"
      }
    },
    {
      "cell_type": "markdown",
      "source": [
        "#### **a. 규제 선형 모델의 개요**\n",
        "  - 좋은 회귀 모델은, 적절히 데이터에 적합하면서도 회귀 계수가 기하급수적으로 커지는 것을 제어할 수 있어야 한다.\n",
        "  - 따라서, 비용 함수는 RSS 최소화 방법과 회귀 계수 값이 커지지 않는 방법이 서로 균형을 이루어야 한다.\n",
        "$$비용 함수 목표 = Min(RSS(W) + alpha *∥W∥_{2}^2)$$\n",
        "    - alpha : 학습 데이터 적합 정도와 회귀 계수 값의 크기를 제어하는 튜닝 파라미터\n",
        "    - alpha를 0에서부터 지속적으로 값을 증가시키면, 회귀 계수 값을 크기를 감소시킬 수 있다.\n",
        "  - 이처럼 비용 함수에 alpha 값으로 페널티를 부여해 회귀 계수 값의 크기를 감소시켜 과적합을 개선하는 방식을 규제(Regularization)라고 부른다.\n",
        "    - `L2 규제` : `W의 제곱에 페널티를 부여`하는 방식\n",
        "      - `릿지(Ridge) 회귀`\n",
        "    - `L1 규제` : `W의 절댓값에 대해 페널티를 부여`하는 방식으로, 영향력이 크지 않은 회귀 계수 값을 0으로 변환\n",
        "      - `라쏘(Lasso) 회귀`\n",
        "\n"
      ],
      "metadata": {
        "id": "yKoqmQOQB-Az"
      }
    },
    {
      "cell_type": "markdown",
      "source": [
        "#### **b. 릿지 회귀**\n",
        "  - `Ridge 클래스`를 이용해 릿지 회귀를 구현\n",
        "    - 주요 생성 파라미터는 `alpha`로, 이는 릿지 회귀의 alpha `L2 규제 계수`에 해당한다."
      ],
      "metadata": {
        "id": "uhdXCOMxCBQY"
      }
    },
    {
      "cell_type": "markdown",
      "source": [
        "> 보스턴 주택 가격을 Ridge 클래스를 이용해 다시 예측하고, 예측 성능을 cross_val_score()로 평가해보자."
      ],
      "metadata": {
        "id": "10gc52HcmM0p"
      }
    },
    {
      "cell_type": "code",
      "source": [
        "import numpy as np\n",
        "import matplotlib.pyplot as plt\n",
        "import pandas as pd\n",
        "import seaborn as sns\n",
        "from scipy import stats\n",
        "from sklearn.datasets import load_boston\n",
        "%matplotlib inline\n",
        "\n",
        "# boston 데이터 셋 로드\n",
        "boston = load_boston()\n",
        "\n",
        "# boston 데이터 셋을 DataFrame으로 변환\n",
        "bostonDF = pd.DataFrame(boston.data, columns = boston.feature_names)\n",
        "\n",
        "# boston dataset의 target 배열은 주택 가격\n",
        "# 이를 PRICE 칼럼으로 DataFrame에 추가\n",
        "bostonDF['PRICE'] = boston.target\n",
        "\n",
        "from sklearn.model_selection import train_test_split\n",
        "from sklearn.linear_model import LinearRegression\n",
        "from sklearn.metrics import mean_squared_error, r2_score\n",
        "\n",
        "y_target = bostonDF['PRICE']\n",
        "X_data = bostonDF.drop(['PRICE'], axis = 1, inplace = False)"
      ],
      "metadata": {
        "colab": {
          "base_uri": "https://localhost:8080/"
        },
        "id": "AqAu0OPRm08p",
        "outputId": "dffdb05f-d710-4672-b16b-bd3f9863dc74"
      },
      "execution_count": 1,
      "outputs": [
        {
          "output_type": "stream",
          "name": "stderr",
          "text": [
            "/usr/local/lib/python3.7/dist-packages/sklearn/utils/deprecation.py:87: FutureWarning: Function load_boston is deprecated; `load_boston` is deprecated in 1.0 and will be removed in 1.2.\n",
            "\n",
            "    The Boston housing prices dataset has an ethical problem. You can refer to\n",
            "    the documentation of this function for further details.\n",
            "\n",
            "    The scikit-learn maintainers therefore strongly discourage the use of this\n",
            "    dataset unless the purpose of the code is to study and educate about\n",
            "    ethical issues in data science and machine learning.\n",
            "\n",
            "    In this special case, you can fetch the dataset from the original\n",
            "    source::\n",
            "\n",
            "        import pandas as pd\n",
            "        import numpy as np\n",
            "\n",
            "\n",
            "        data_url = \"http://lib.stat.cmu.edu/datasets/boston\"\n",
            "        raw_df = pd.read_csv(data_url, sep=\"\\s+\", skiprows=22, header=None)\n",
            "        data = np.hstack([raw_df.values[::2, :], raw_df.values[1::2, :2]])\n",
            "        target = raw_df.values[1::2, 2]\n",
            "\n",
            "    Alternative datasets include the California housing dataset (i.e.\n",
            "    :func:`~sklearn.datasets.fetch_california_housing`) and the Ames housing\n",
            "    dataset. You can load the datasets as follows::\n",
            "\n",
            "        from sklearn.datasets import fetch_california_housing\n",
            "        housing = fetch_california_housing()\n",
            "\n",
            "    for the California housing dataset and::\n",
            "\n",
            "        from sklearn.datasets import fetch_openml\n",
            "        housing = fetch_openml(name=\"house_prices\", as_frame=True)\n",
            "\n",
            "    for the Ames housing dataset.\n",
            "    \n",
            "  warnings.warn(msg, category=FutureWarning)\n"
          ]
        }
      ]
    },
    {
      "cell_type": "code",
      "source": [
        "from sklearn.linear_model import Ridge\n",
        "from sklearn.model_selection import cross_val_score\n",
        "\n",
        "# alpha = 10으로 설정해 릿지 회귀 수행\n",
        "ridge = Ridge(alpha = 10)\n",
        "neg_mse_scores = cross_val_score(ridge, X_data, y_target, scoring = 'neg_mean_squared_error', cv = 5)\n",
        "rmse_scores = np.sqrt(-1 * neg_mse_scores)\n",
        "avg_rmse = np.mean(rmse_scores)\n",
        "\n",
        "print(' 5 folds의 개별 Negative MSE scores:', np.round(neg_mse_scores, 3))\n",
        "print(' 5 folds의 개별 RMSE scores:', np.round(rmse_scores, 3))\n",
        "print(' 5 folds의 개별 평균 RMSE: {0:.3f}'.format(avg_rmse))"
      ],
      "metadata": {
        "colab": {
          "base_uri": "https://localhost:8080/"
        },
        "id": "6rqlSdJ2COl8",
        "outputId": "ead77dbf-8388-4b18-b390-d52cc64eb57f"
      },
      "execution_count": 2,
      "outputs": [
        {
          "output_type": "stream",
          "name": "stdout",
          "text": [
            " 5 folds의 개별 Negative MSE scores: [-11.422 -24.294 -28.144 -74.599 -28.517]\n",
            " 5 folds의 개별 RMSE scores: [3.38  4.929 5.305 8.637 5.34 ]\n",
            " 5 folds의 개별 평균 RMSE: 5.518\n"
          ]
        }
      ]
    },
    {
      "cell_type": "markdown",
      "source": [
        "  - `릿지`의 5개 폴드 세트의 `평균 RMSE`가 `5.518`이다. 앞 예제의 규제가 없는 `LinearRegression의 RMSE 평균`인 `5.829`보다 더 뛰어난 예측 성능을 보인다."
      ],
      "metadata": {
        "id": "HJNYDlLvn8FB"
      }
    },
    {
      "cell_type": "markdown",
      "source": [
        "> 이번에는 릿지의 alpha 값을 0, 0.1, 1, 10, 100으로 변화시키면서 RMSE와 회귀 계수 값의 변화를 살펴보자. alpha 값을 변화하면서 RMSE 값과 각 피처의 회귀 계수를 시각화하고, DataFrame에 저장한다."
      ],
      "metadata": {
        "id": "DRUWKjE-oXyt"
      }
    },
    {
      "cell_type": "code",
      "source": [
        "# 릿지에 사용될 alpha 파라미터의 값을 정리\n",
        "alphas = [0, 0.1, 1, 10, 100]\n",
        "\n",
        "# alphas list 값을 반복하면서 alpha에 따른 평균 rmse를 구함\n",
        "for alpha in alphas :\n",
        "  ridge = Ridge(alpha = alpha)\n",
        "\n",
        "  # cross_val_score를 이용해 5 폴드의 평균 RMSE를 계산\n",
        "  neg_mse_scores = cross_val_score(ridge, X_data, y_target, scoring = 'neg_mean_squared_error', cv = 5)\n",
        "  avg_rmse = np.mean(np.sqrt(-1 * neg_mse_scores))\n",
        "  print('alpha {0} 일 때 5 folds의 평균 RMSE : {1:.3f}'.format(alpha, avg_rmse))"
      ],
      "metadata": {
        "colab": {
          "base_uri": "https://localhost:8080/"
        },
        "id": "9gmOxSXXolhM",
        "outputId": "8b5b202c-4d41-451d-8ad0-43654e3c0890"
      },
      "execution_count": 3,
      "outputs": [
        {
          "output_type": "stream",
          "name": "stdout",
          "text": [
            "alpha 0 일 때 5 folds의 평균 RMSE : 5.829\n",
            "alpha 0.1 일 때 5 folds의 평균 RMSE : 5.788\n",
            "alpha 1 일 때 5 folds의 평균 RMSE : 5.653\n",
            "alpha 10 일 때 5 folds의 평균 RMSE : 5.518\n",
            "alpha 100 일 때 5 folds의 평균 RMSE : 5.330\n"
          ]
        }
      ]
    },
    {
      "cell_type": "markdown",
      "source": [
        "  - `alpha = 100`일 때, 평균 RMSE가 `5.330`으로 가장 좋다. "
      ],
      "metadata": {
        "id": "IyDwxH8JpUCU"
      }
    },
    {
      "cell_type": "markdown",
      "source": [
        "> 이번에는 alpha 값의 변화에 따른 피처의 회귀 계수 값을 가로 막대 그래프로 시각화해보자. "
      ],
      "metadata": {
        "id": "XJt75scMpZY-"
      }
    },
    {
      "cell_type": "code",
      "source": [
        "# 각 alpha에 따른 회귀 계수 값을 시각화하기 위해 5개의 열로 된 맷플롯립 축 생성\n",
        "fig, axs = plt.subplots(figsize = (18, 6), nrows = 1, ncols = 5)\n",
        "# 각 alpha에 따른 회귀 계수 값을 데이터로 저장하기 위한 DataFrame 생성\n",
        "coeff_df = pd.DataFrame()\n",
        "\n",
        "# alpha 리스트 값을 차례로 입력해 회귀 계수 값 시각화 및 데이터 저장. pos는 axis의 위치 지정\n",
        "for pos, alpha in enumerate(alphas):\n",
        "  ridge = Ridge(alpha = alpha)\n",
        "  ridge.fit(X_data, y_target)\n",
        "  # alpha에 따른 피처별로 회귀 계수를 Series로 변환하고 이를 DataFrame의 칼럼으로 추가\n",
        "  coeff = pd.Series(data = ridge.coef_, index = X_data.columns)\n",
        "  colname = 'alpha:'+str(alpha)\n",
        "  coeff_df[colname] = coeff\n",
        "  # 막대 그래프로 각 alpha 값에서의 회귀 계수를 시각화, 회귀 계수 값이 높은 순으로 표현\n",
        "  coeff = coeff.sort_values(ascending = False)\n",
        "  axs[pos].set_title(colname)\n",
        "  axs[pos].set_xlim(-3,6)\n",
        "  sns.barplot(x = coeff.values, y = coeff.index, ax = axs[pos])\n",
        "\n",
        "# for문 바깥에서 맷플롯립의 show 호출 및 alpha에 따른 피처별 회귀 계수를 DataFrame으로 표시\n",
        "plt.show()"
      ],
      "metadata": {
        "colab": {
          "base_uri": "https://localhost:8080/",
          "height": 390
        },
        "id": "IAOuPtnVpTVK",
        "outputId": "8cfcfe89-e995-434a-f237-b80f6a5da6f0"
      },
      "execution_count": 4,
      "outputs": [
        {
          "output_type": "display_data",
          "data": {
            "text/plain": [
              "<Figure size 1296x432 with 5 Axes>"
            ],
            "image/png": "[encoded data removed]"
          },
          "metadata": {
            "needs_background": "light"
          }
        }
      ]
    },
    {
      "cell_type": "markdown",
      "source": [
        "  - alpha 값을 계속 증가시킬수록, 회귀 계수 값은 지속적으로 작아진다. 특히 NOX 피처의 경우, alpha 값을 계속 증가시킴에 따라 회귀 계수가 크게 작아지고 있다."
      ],
      "metadata": {
        "id": "sx1nrpbxqt7E"
      }
    },
    {
      "cell_type": "markdown",
      "source": [
        "> DataFrame에 저장된 alpha 값의 변화에 따른 릿지 회귀 계수 값을 구해보자."
      ],
      "metadata": {
        "id": "tTFM843Pq6N4"
      }
    },
    {
      "cell_type": "code",
      "source": [
        "ridge_alphas = [0, 0.1, 1, 10, 100]\n",
        "sort_column = 'alpha:' + str(ridge_alphas[0])\n",
        "coeff_df.sort_values(by = sort_column, ascending = False)"
      ],
      "metadata": {
        "colab": {
          "base_uri": "https://localhost:8080/",
          "height": 457
        },
        "id": "XaxJtIk1qsmc",
        "outputId": "c2da26cc-04af-44e5-857a-b21c8bd53f96"
      },
      "execution_count": 5,
      "outputs": [
        {
          "output_type": "execute_result",
          "data": {
            "text/plain": [
              "           alpha:0  alpha:0.1    alpha:1  alpha:10  alpha:100\n",
              "RM        3.809865   3.818233   3.854000  3.702272   2.334536\n",
              "CHAS      2.686734   2.670019   2.552393  1.952021   0.638335\n",
              "RAD       0.306049   0.303515   0.290142  0.279596   0.315358\n",
              "ZN        0.046420   0.046572   0.047443  0.049579   0.054496\n",
              "INDUS     0.020559   0.015999  -0.008805 -0.042962  -0.052826\n",
              "B         0.009312   0.009368   0.009673  0.010037   0.009393\n",
              "AGE       0.000692  -0.000269  -0.005415 -0.010707   0.001212\n",
              "TAX      -0.012335  -0.012421  -0.012912 -0.013993  -0.015856\n",
              "CRIM     -0.108011  -0.107474  -0.104595 -0.101435  -0.102202\n",
              "LSTAT    -0.524758  -0.525966  -0.533343 -0.559366  -0.660764\n",
              "PTRATIO  -0.952747  -0.940759  -0.876074 -0.797945  -0.829218\n",
              "DIS      -1.475567  -1.459626  -1.372654 -1.248808  -1.153390\n",
              "NOX     -17.766611 -16.684645 -10.777015 -2.371619  -0.262847"
            ],
            "text/html": [
              "\n",
              "  <div id=\"df-a6a73a7d-9a82-422d-ad1d-bf819a18fe65\">\n",
              "    <div class=\"colab-df-container\">\n",
              "      <div>\n",
              "<style scoped>\n",
              "    .dataframe tbody tr th:only-of-type {\n",
              "        vertical-align: middle;\n",
              "    }\n",
              "\n",
              "    .dataframe tbody tr th {\n",
              "        vertical-align: top;\n",
              "    }\n",
              "\n",
              "    .dataframe thead th {\n",
              "        text-align: right;\n",
              "    }\n",
              "</style>\n",
              "<table border=\"1\" class=\"dataframe\">\n",
              "  <thead>\n",
              "    <tr style=\"text-align: right;\">\n",
              "      <th></th>\n",
              "      <th>alpha:0</th>\n",
              "      <th>alpha:0.1</th>\n",
              "      <th>alpha:1</th>\n",
              "      <th>alpha:10</th>\n",
              "      <th>alpha:100</th>\n",
              "    </tr>\n",
              "  </thead>\n",
              "  <tbody>\n",
              "    <tr>\n",
              "      <th>RM</th>\n",
              "      <td>3.809865</td>\n",
              "      <td>3.818233</td>\n",
              "      <td>3.854000</td>\n",
              "      <td>3.702272</td>\n",
              "      <td>2.334536</td>\n",
              "    </tr>\n",
              "    <tr>\n",
              "      <th>CHAS</th>\n",
              "      <td>2.686734</td>\n",
              "      <td>2.670019</td>\n",
              "      <td>2.552393</td>\n",
              "      <td>1.952021</td>\n",
              "      <td>0.638335</td>\n",
              "    </tr>\n",
              "    <tr>\n",
              "      <th>RAD</th>\n",
              "      <td>0.306049</td>\n",
              "      <td>0.303515</td>\n",
              "      <td>0.290142</td>\n",
              "      <td>0.279596</td>\n",
              "      <td>0.315358</td>\n",
              "    </tr>\n",
              "    <tr>\n",
              "      <th>ZN</th>\n",
              "      <td>0.046420</td>\n",
              "      <td>0.046572</td>\n",
              "      <td>0.047443</td>\n",
              "      <td>0.049579</td>\n",
              "      <td>0.054496</td>\n",
              "    </tr>\n",
              "    <tr>\n",
              "      <th>INDUS</th>\n",
              "      <td>0.020559</td>\n",
              "      <td>0.015999</td>\n",
              "      <td>-0.008805</td>\n",
              "      <td>-0.042962</td>\n",
              "      <td>-0.052826</td>\n",
              "    </tr>\n",
              "    <tr>\n",
              "      <th>B</th>\n",
              "      <td>0.009312</td>\n",
              "      <td>0.009368</td>\n",
              "      <td>0.009673</td>\n",
              "      <td>0.010037</td>\n",
              "      <td>0.009393</td>\n",
              "    </tr>\n",
              "    <tr>\n",
              "      <th>AGE</th>\n",
              "      <td>0.000692</td>\n",
              "      <td>-0.000269</td>\n",
              "      <td>-0.005415</td>\n",
              "      <td>-0.010707</td>\n",
              "      <td>0.001212</td>\n",
              "    </tr>\n",
              "    <tr>\n",
              "      <th>TAX</th>\n",
              "      <td>-0.012335</td>\n",
              "      <td>-0.012421</td>\n",
              "      <td>-0.012912</td>\n",
              "      <td>-0.013993</td>\n",
              "      <td>-0.015856</td>\n",
              "    </tr>\n",
              "    <tr>\n",
              "      <th>CRIM</th>\n",
              "      <td>-0.108011</td>\n",
              "      <td>-0.107474</td>\n",
              "      <td>-0.104595</td>\n",
              "      <td>-0.101435</td>\n",
              "      <td>-0.102202</td>\n",
              "    </tr>\n",
              "    <tr>\n",
              "      <th>LSTAT</th>\n",
              "      <td>-0.524758</td>\n",
              "      <td>-0.525966</td>\n",
              "      <td>-0.533343</td>\n",
              "      <td>-0.559366</td>\n",
              "      <td>-0.660764</td>\n",
              "    </tr>\n",
              "    <tr>\n",
              "      <th>PTRATIO</th>\n",
              "      <td>-0.952747</td>\n",
              "      <td>-0.940759</td>\n",
              "      <td>-0.876074</td>\n",
              "      <td>-0.797945</td>\n",
              "      <td>-0.829218</td>\n",
              "    </tr>\n",
              "    <tr>\n",
              "      <th>DIS</th>\n",
              "      <td>-1.475567</td>\n",
              "      <td>-1.459626</td>\n",
              "      <td>-1.372654</td>\n",
              "      <td>-1.248808</td>\n",
              "      <td>-1.153390</td>\n",
              "    </tr>\n",
              "    <tr>\n",
              "      <th>NOX</th>\n",
              "      <td>-17.766611</td>\n",
              "      <td>-16.684645</td>\n",
              "      <td>-10.777015</td>\n",
              "      <td>-2.371619</td>\n",
              "      <td>-0.262847</td>\n",
              "    </tr>\n",
              "  </tbody>\n",
              "</table>\n",
              "</div>\n",
              "      <button class=\"colab-df-convert\" onclick=\"convertToInteractive('df-a6a73a7d-9a82-422d-ad1d-bf819a18fe65')\"\n",
              "              title=\"Convert this dataframe to an interactive table.\"\n",
              "              style=\"display:none;\">\n",
              "        \n",
              "  <svg xmlns=\"http://www.w3.org/2000/svg\" height=\"24px\"viewBox=\"0 0 24 24\"\n",
              "       width=\"24px\">\n",
              "    <path d=\"M0 0h24v24H0V0z\" fill=\"none\"/>\n",
              "    <path d=\"M18.56 5.44l.94 2.06.94-2.06 2.06-.94-2.06-.94-.94-2.06-.94 2.06-2.06.94zm-11 1L8.5 8.5l.94-2.06 2.06-.94-2.06-.94L8.5 2.5l-.94 2.06-2.06.94zm10 10l.94 2.06.94-2.06 2.06-.94-2.06-.94-.94-2.06-.94 2.06-2.06.94z\"/><path d=\"M17.41 7.96l-1.37-1.37c-.4-.4-.92-.59-1.43-.59-.52 0-1.04.2-1.43.59L10.3 9.45l-7.72 7.72c-.78.78-.78 2.05 0 2.83L4 21.41c.39.39.9.59 1.41.59.51 0 1.02-.2 1.41-.59l7.78-7.78 2.81-2.81c.8-.78.8-2.07 0-2.86zM5.41 20L4 18.59l7.72-7.72 1.47 1.35L5.41 20z\"/>\n",
              "  </svg>\n",
              "      </button>\n",
              "      \n",
              "  <style>\n",
              "    .colab-df-container {\n",
              "      display:flex;\n",
              "      flex-wrap:wrap;\n",
              "      gap: 12px;\n",
              "    }\n",
              "\n",
              "    .colab-df-convert {\n",
              "      background-color: #E8F0FE;\n",
              "      border: none;\n",
              "      border-radius: 50%;\n",
              "      cursor: pointer;\n",
              "      display: none;\n",
              "      fill: #1967D2;\n",
              "      height: 32px;\n",
              "      padding: 0 0 0 0;\n",
              "      width: 32px;\n",
              "    }\n",
              "\n",
              "    .colab-df-convert:hover {\n",
              "      background-color: #E2EBFA;\n",
              "      box-shadow: 0px 1px 2px rgba(60, 64, 67, 0.3), 0px 1px 3px 1px rgba(60, 64, 67, 0.15);\n",
              "      fill: #174EA6;\n",
              "    }\n",
              "\n",
              "    [theme=dark] .colab-df-convert {\n",
              "      background-color: #3B4455;\n",
              "      fill: #D2E3FC;\n",
              "    }\n",
              "\n",
              "    [theme=dark] .colab-df-convert:hover {\n",
              "      background-color: #434B5C;\n",
              "      box-shadow: 0px 1px 3px 1px rgba(0, 0, 0, 0.15);\n",
              "      filter: drop-shadow(0px 1px 2px rgba(0, 0, 0, 0.3));\n",
              "      fill: #FFFFFF;\n",
              "    }\n",
              "  </style>\n",
              "\n",
              "      <script>\n",
              "        const buttonEl =\n",
              "          document.querySelector('#df-a6a73a7d-9a82-422d-ad1d-bf819a18fe65 button.colab-df-convert');\n",
              "        buttonEl.style.display =\n",
              "          google.colab.kernel.accessAllowed ? 'block' : 'none';\n",
              "\n",
              "        async function convertToInteractive(key) {\n",
              "          const element = document.querySelector('#df-a6a73a7d-9a82-422d-ad1d-bf819a18fe65');\n",
              "          const dataTable =\n",
              "            await google.colab.kernel.invokeFunction('convertToInteractive',\n",
              "                                                     [key], {});\n",
              "          if (!dataTable) return;\n",
              "\n",
              "          const docLinkHtml = 'Like what you see? Visit the ' +\n",
              "            '<a target=\"_blank\" href=https://colab.research.google.com/notebooks/data_table.ipynb>data table notebook</a>'\n",
              "            + ' to learn more about interactive tables.';\n",
              "          element.innerHTML = '';\n",
              "          dataTable['output_type'] = 'display_data';\n",
              "          await google.colab.output.renderOutput(dataTable, element);\n",
              "          const docLink = document.createElement('div');\n",
              "          docLink.innerHTML = docLinkHtml;\n",
              "          element.appendChild(docLink);\n",
              "        }\n",
              "      </script>\n",
              "    </div>\n",
              "  </div>\n",
              "  "
            ]
          },
          "metadata": {},
          "execution_count": 5
        }
      ]
    },
    {
      "cell_type": "markdown",
      "source": [
        "  - alpha 값이 증가하면서 회귀 계수가 지속적으로 작아지고 있음을 알 수 있다. 하지만 릿지 회귀의 경우, 회귀 계수를 0으로 만들지는 않는다."
      ],
      "metadata": {
        "id": "3mTA8Vq9rVYx"
      }
    },
    {
      "cell_type": "markdown",
      "source": [
        "#### **c. 라쏘 회귀**\n",
        "  - W의 절댓값에 페널티를 부여하는 L1 규제를 선형 회귀에 적용한 모델\n",
        "$$비용 함수 목표 = Min(RSS(W) + alpha * ∥W∥_{1})$$\n",
        "  - L2 규제가 회귀 계수를 감소시키는 반면, L1 규제는 불필요한 회귀 계수를 0으로 만들고 제거한다.\n",
        "  - `Lasso 클래스`를 이용해 라쏘 회귀를 구현\n",
        "    - 주요 생성 파라미터는 `alpha`로, 이는 릿지 회귀의 alpha `L1 규제 계수`에 해당한다."
      ],
      "metadata": {
        "id": "HWD1hvA3CGmf"
      }
    },
    {
      "cell_type": "code",
      "execution_count": 6,
      "metadata": {
        "id": "SGz4uum3_2T-"
      },
      "outputs": [],
      "source": [
        "from sklearn.linear_model import Lasso, ElasticNet\n",
        "\n",
        "# alpha값에 따른 회귀 모델의 폴드 평균 RMSE를 출력하고 회귀 계수값들을 DataFrame으로 반환 \n",
        "def get_linear_reg_eval(model_name, params=None, X_data_n=None, y_target_n=None, \n",
        "                        verbose=True, return_coeff=True):\n",
        "    coeff_df = pd.DataFrame()\n",
        "    if verbose : print('####### ', model_name , '#######')\n",
        "    for param in params:\n",
        "        if model_name =='Ridge': model = Ridge(alpha = param)\n",
        "        elif model_name =='Lasso': model = Lasso(alpha = param)\n",
        "        elif model_name =='ElasticNet': model = ElasticNet(alpha = param, l1_ratio = 0.7)\n",
        "        neg_mse_scores = cross_val_score(model, X_data_n, y_target_n, scoring = \"neg_mean_squared_error\", cv = 5)\n",
        "        avg_rmse = np.mean(np.sqrt(-1 * neg_mse_scores))\n",
        "        print('alpha {0}일 때 5 폴드 세트의 평균 RMSE : {1:.3f} '.format(param, avg_rmse))\n",
        "        # cross_val_score는 evaluation metric만 반환하므로 모델을 다시 학습하여 회귀 계수 추출\n",
        "        \n",
        "        model.fit(X_data_n , y_target_n)\n",
        "        if return_coeff:\n",
        "            # alpha에 따른 피처별 회귀 계수를 Series로 변환하고 이를 DataFrame의 컬럼으로 추가. \n",
        "            coeff = pd.Series(data = model.coef_ , index = X_data_n.columns )\n",
        "            colname ='alpha : ' + str(param)\n",
        "            coeff_df[colname] = coeff\n",
        "    \n",
        "    return coeff_df\n",
        "# end of get_linear_regre_eval"
      ]
    },
    {
      "cell_type": "code",
      "source": [
        "# 라쏘에 사용될 alpha 파라미터의 값을 정의하고, get_linear_reg_eval() 함수 호출\n",
        "lasso_alphas = [0.07, 0.1, 0.5, 1, 3]\n",
        "coeff_lasso_df = get_linear_reg_eval('Lasso', params = lasso_alphas, X_data_n = X_data, y_target_n = y_target)"
      ],
      "metadata": {
        "colab": {
          "base_uri": "https://localhost:8080/"
        },
        "id": "pKBiN4bGuTLn",
        "outputId": "a58e1eef-4913-4962-afb0-43a39bd5562a"
      },
      "execution_count": 7,
      "outputs": [
        {
          "output_type": "stream",
          "name": "stdout",
          "text": [
            "#######  Lasso #######\n",
            "alpha 0.07일 때 5 폴드 세트의 평균 RMSE : 5.612 \n",
            "alpha 0.1일 때 5 폴드 세트의 평균 RMSE : 5.615 \n",
            "alpha 0.5일 때 5 폴드 세트의 평균 RMSE : 5.669 \n",
            "alpha 1일 때 5 폴드 세트의 평균 RMSE : 5.776 \n",
            "alpha 3일 때 5 폴드 세트의 평균 RMSE : 6.189 \n"
          ]
        }
      ]
    },
    {
      "cell_type": "markdown",
      "source": [
        "  - `alpha = 0.07`일 때 `가장 좋은 평균 RMSE`를 보여준다. 앞의 릿지 평균 5.518보다는 약간 떨어지는 수치지만, LinearRegression 평균인 5.829보다는 향상되었다. "
      ],
      "metadata": {
        "id": "arxEhV8Quqti"
      }
    },
    {
      "cell_type": "code",
      "source": [
        "# 반환된 coeff_lasso_df를 첫번째 Column 순으로 내림차순 정렬해 회귀계수 DataFrame 출력\n",
        "sort_column = 'alpha : '+ str(lasso_alphas[0])\n",
        "coeff_lasso_df.sort_values(by = sort_column, ascending = False)"
      ],
      "metadata": {
        "colab": {
          "base_uri": "https://localhost:8080/",
          "height": 457
        },
        "id": "_4vCWoJbvWeC",
        "outputId": "f197bd4a-eb58-4b87-90d7-0d8321dbb91b"
      },
      "execution_count": 8,
      "outputs": [
        {
          "output_type": "execute_result",
          "data": {
            "text/plain": [
              "         alpha : 0.07  alpha : 0.1  alpha : 0.5  alpha : 1  alpha : 3\n",
              "RM           3.789725     3.703202     2.498212   0.949811   0.000000\n",
              "CHAS         1.434343     0.955190     0.000000   0.000000   0.000000\n",
              "RAD          0.270936     0.274707     0.277451   0.264206   0.061864\n",
              "ZN           0.049059     0.049211     0.049544   0.049165   0.037231\n",
              "B            0.010248     0.010249     0.009469   0.008247   0.006510\n",
              "NOX         -0.000000    -0.000000    -0.000000  -0.000000   0.000000\n",
              "AGE         -0.011706    -0.010037     0.003604   0.020910   0.042495\n",
              "TAX         -0.014290    -0.014570    -0.015442  -0.015212  -0.008602\n",
              "INDUS       -0.042120    -0.036619    -0.005253  -0.000000  -0.000000\n",
              "CRIM        -0.098193    -0.097894    -0.083289  -0.063437  -0.000000\n",
              "LSTAT       -0.560431    -0.568769    -0.656290  -0.761115  -0.807679\n",
              "PTRATIO     -0.765107    -0.770654    -0.758752  -0.722966  -0.265072\n",
              "DIS         -1.176583    -1.160538    -0.936605  -0.668790  -0.000000"
            ],
            "text/html": [
              "\n",
              "  <div id=\"df-93750f97-7e10-4e79-8d3a-d12c0449a8e4\">\n",
              "    <div class=\"colab-df-container\">\n",
              "      <div>\n",
              "<style scoped>\n",
              "    .dataframe tbody tr th:only-of-type {\n",
              "        vertical-align: middle;\n",
              "    }\n",
              "\n",
              "    .dataframe tbody tr th {\n",
              "        vertical-align: top;\n",
              "    }\n",
              "\n",
              "    .dataframe thead th {\n",
              "        text-align: right;\n",
              "    }\n",
              "</style>\n",
              "<table border=\"1\" class=\"dataframe\">\n",
              "  <thead>\n",
              "    <tr style=\"text-align: right;\">\n",
              "      <th></th>\n",
              "      <th>alpha : 0.07</th>\n",
              "      <th>alpha : 0.1</th>\n",
              "      <th>alpha : 0.5</th>\n",
              "      <th>alpha : 1</th>\n",
              "      <th>alpha : 3</th>\n",
              "    </tr>\n",
              "  </thead>\n",
              "  <tbody>\n",
              "    <tr>\n",
              "      <th>RM</th>\n",
              "      <td>3.789725</td>\n",
              "      <td>3.703202</td>\n",
              "      <td>2.498212</td>\n",
              "      <td>0.949811</td>\n",
              "      <td>0.000000</td>\n",
              "    </tr>\n",
              "    <tr>\n",
              "      <th>CHAS</th>\n",
              "      <td>1.434343</td>\n",
              "      <td>0.955190</td>\n",
              "      <td>0.000000</td>\n",
              "      <td>0.000000</td>\n",
              "      <td>0.000000</td>\n",
              "    </tr>\n",
              "    <tr>\n",
              "      <th>RAD</th>\n",
              "      <td>0.270936</td>\n",
              "      <td>0.274707</td>\n",
              "      <td>0.277451</td>\n",
              "      <td>0.264206</td>\n",
              "      <td>0.061864</td>\n",
              "    </tr>\n",
              "    <tr>\n",
              "      <th>ZN</th>\n",
              "      <td>0.049059</td>\n",
              "      <td>0.049211</td>\n",
              "      <td>0.049544</td>\n",
              "      <td>0.049165</td>\n",
              "      <td>0.037231</td>\n",
              "    </tr>\n",
              "    <tr>\n",
              "      <th>B</th>\n",
              "      <td>0.010248</td>\n",
              "      <td>0.010249</td>\n",
              "      <td>0.009469</td>\n",
              "      <td>0.008247</td>\n",
              "      <td>0.006510</td>\n",
              "    </tr>\n",
              "    <tr>\n",
              "      <th>NOX</th>\n",
              "      <td>-0.000000</td>\n",
              "      <td>-0.000000</td>\n",
              "      <td>-0.000000</td>\n",
              "      <td>-0.000000</td>\n",
              "      <td>0.000000</td>\n",
              "    </tr>\n",
              "    <tr>\n",
              "      <th>AGE</th>\n",
              "      <td>-0.011706</td>\n",
              "      <td>-0.010037</td>\n",
              "      <td>0.003604</td>\n",
              "      <td>0.020910</td>\n",
              "      <td>0.042495</td>\n",
              "    </tr>\n",
              "    <tr>\n",
              "      <th>TAX</th>\n",
              "      <td>-0.014290</td>\n",
              "      <td>-0.014570</td>\n",
              "      <td>-0.015442</td>\n",
              "      <td>-0.015212</td>\n",
              "      <td>-0.008602</td>\n",
              "    </tr>\n",
              "    <tr>\n",
              "      <th>INDUS</th>\n",
              "      <td>-0.042120</td>\n",
              "      <td>-0.036619</td>\n",
              "      <td>-0.005253</td>\n",
              "      <td>-0.000000</td>\n",
              "      <td>-0.000000</td>\n",
              "    </tr>\n",
              "    <tr>\n",
              "      <th>CRIM</th>\n",
              "      <td>-0.098193</td>\n",
              "      <td>-0.097894</td>\n",
              "      <td>-0.083289</td>\n",
              "      <td>-0.063437</td>\n",
              "      <td>-0.000000</td>\n",
              "    </tr>\n",
              "    <tr>\n",
              "      <th>LSTAT</th>\n",
              "      <td>-0.560431</td>\n",
              "      <td>-0.568769</td>\n",
              "      <td>-0.656290</td>\n",
              "      <td>-0.761115</td>\n",
              "      <td>-0.807679</td>\n",
              "    </tr>\n",
              "    <tr>\n",
              "      <th>PTRATIO</th>\n",
              "      <td>-0.765107</td>\n",
              "      <td>-0.770654</td>\n",
              "      <td>-0.758752</td>\n",
              "      <td>-0.722966</td>\n",
              "      <td>-0.265072</td>\n",
              "    </tr>\n",
              "    <tr>\n",
              "      <th>DIS</th>\n",
              "      <td>-1.176583</td>\n",
              "      <td>-1.160538</td>\n",
              "      <td>-0.936605</td>\n",
              "      <td>-0.668790</td>\n",
              "      <td>-0.000000</td>\n",
              "    </tr>\n",
              "  </tbody>\n",
              "</table>\n",
              "</div>\n",
              "      <button class=\"colab-df-convert\" onclick=\"convertToInteractive('df-93750f97-7e10-4e79-8d3a-d12c0449a8e4')\"\n",
              "              title=\"Convert this dataframe to an interactive table.\"\n",
              "              style=\"display:none;\">\n",
              "        \n",
              "  <svg xmlns=\"http://www.w3.org/2000/svg\" height=\"24px\"viewBox=\"0 0 24 24\"\n",
              "       width=\"24px\">\n",
              "    <path d=\"M0 0h24v24H0V0z\" fill=\"none\"/>\n",
              "    <path d=\"M18.56 5.44l.94 2.06.94-2.06 2.06-.94-2.06-.94-.94-2.06-.94 2.06-2.06.94zm-11 1L8.5 8.5l.94-2.06 2.06-.94-2.06-.94L8.5 2.5l-.94 2.06-2.06.94zm10 10l.94 2.06.94-2.06 2.06-.94-2.06-.94-.94-2.06-.94 2.06-2.06.94z\"/><path d=\"M17.41 7.96l-1.37-1.37c-.4-.4-.92-.59-1.43-.59-.52 0-1.04.2-1.43.59L10.3 9.45l-7.72 7.72c-.78.78-.78 2.05 0 2.83L4 21.41c.39.39.9.59 1.41.59.51 0 1.02-.2 1.41-.59l7.78-7.78 2.81-2.81c.8-.78.8-2.07 0-2.86zM5.41 20L4 18.59l7.72-7.72 1.47 1.35L5.41 20z\"/>\n",
              "  </svg>\n",
              "      </button>\n",
              "      \n",
              "  <style>\n",
              "    .colab-df-container {\n",
              "      display:flex;\n",
              "      flex-wrap:wrap;\n",
              "      gap: 12px;\n",
              "    }\n",
              "\n",
              "    .colab-df-convert {\n",
              "      background-color: #E8F0FE;\n",
              "      border: none;\n",
              "      border-radius: 50%;\n",
              "      cursor: pointer;\n",
              "      display: none;\n",
              "      fill: #1967D2;\n",
              "      height: 32px;\n",
              "      padding: 0 0 0 0;\n",
              "      width: 32px;\n",
              "    }\n",
              "\n",
              "    .colab-df-convert:hover {\n",
              "      background-color: #E2EBFA;\n",
              "      box-shadow: 0px 1px 2px rgba(60, 64, 67, 0.3), 0px 1px 3px 1px rgba(60, 64, 67, 0.15);\n",
              "      fill: #174EA6;\n",
              "    }\n",
              "\n",
              "    [theme=dark] .colab-df-convert {\n",
              "      background-color: #3B4455;\n",
              "      fill: #D2E3FC;\n",
              "    }\n",
              "\n",
              "    [theme=dark] .colab-df-convert:hover {\n",
              "      background-color: #434B5C;\n",
              "      box-shadow: 0px 1px 3px 1px rgba(0, 0, 0, 0.15);\n",
              "      filter: drop-shadow(0px 1px 2px rgba(0, 0, 0, 0.3));\n",
              "      fill: #FFFFFF;\n",
              "    }\n",
              "  </style>\n",
              "\n",
              "      <script>\n",
              "        const buttonEl =\n",
              "          document.querySelector('#df-93750f97-7e10-4e79-8d3a-d12c0449a8e4 button.colab-df-convert');\n",
              "        buttonEl.style.display =\n",
              "          google.colab.kernel.accessAllowed ? 'block' : 'none';\n",
              "\n",
              "        async function convertToInteractive(key) {\n",
              "          const element = document.querySelector('#df-93750f97-7e10-4e79-8d3a-d12c0449a8e4');\n",
              "          const dataTable =\n",
              "            await google.colab.kernel.invokeFunction('convertToInteractive',\n",
              "                                                     [key], {});\n",
              "          if (!dataTable) return;\n",
              "\n",
              "          const docLinkHtml = 'Like what you see? Visit the ' +\n",
              "            '<a target=\"_blank\" href=https://colab.research.google.com/notebooks/data_table.ipynb>data table notebook</a>'\n",
              "            + ' to learn more about interactive tables.';\n",
              "          element.innerHTML = '';\n",
              "          dataTable['output_type'] = 'display_data';\n",
              "          await google.colab.output.renderOutput(dataTable, element);\n",
              "          const docLink = document.createElement('div');\n",
              "          docLink.innerHTML = docLinkHtml;\n",
              "          element.appendChild(docLink);\n",
              "        }\n",
              "      </script>\n",
              "    </div>\n",
              "  </div>\n",
              "  "
            ]
          },
          "metadata": {},
          "execution_count": 8
        }
      ]
    },
    {
      "cell_type": "markdown",
      "source": [
        "  - alpha가 증가함에 따라 일부 피처의 회귀 계수는 아예 0이 된다. NOX 속성은 alpha = 0.07일 때부터 회귀 계수가 0이며, alpha를 증가시키면서 INDUS, CHAS와 같은 속성의 회귀 계수가 0으로 바뀐다."
      ],
      "metadata": {
        "id": "IF8R-Ii-vnuI"
      }
    },
    {
      "cell_type": "markdown",
      "source": [
        "#### **d. 엘라스틱넷 회귀**\n",
        "  - `L2 규제와 L1 규제를 결합`한 회귀\n",
        "$$비용 함수 목표 = Min(RSS(W) + alpha2 * ∥W∥_{2}^2 + alpha1 * ∥W∥_{1})$$\n",
        "  - 라쏘 회귀가 회귀 계수를 0으로 만드는 성향이 강한데, 이를 완화하기 위해 L2 규제를 라쏘 회귀에 추가한 것이다. \n",
        "  - 단점 : 수행시간이 상대적으로 오래 걸린다.\n",
        "  - `ElasticNet`으로 엘라스틱넷을 구현\n",
        "    - 주요 생성 파라미터 : alpha, l1_ratio\n",
        "      - `엘라스틱넷의 규제`를 `a*L1 + b*L2`로 정의할 때, \n",
        "        - `alpha` : `a+b`\n",
        "        - `l1_ratio` : `a / (a+b)`\n"
      ],
      "metadata": {
        "id": "9Sec888zCSv1"
      }
    },
    {
      "cell_type": "code",
      "source": [
        "# 엘라스틱넷에 사용될 alpha 파라미터의 값들을 정의하고 get_linear_reg_eval() 함수 호출\n",
        "# l1_ratio는 0.7로 고정\n",
        "elastic_alphas = [0.07, 0.1, 0.5, 1, 3]\n",
        "coeff_elastic_df = get_linear_reg_eval('ElasticNet', params = elastic_alphas, X_data_n = X_data, y_target_n = y_target)"
      ],
      "metadata": {
        "colab": {
          "base_uri": "https://localhost:8080/"
        },
        "id": "JqAond4OCWFv",
        "outputId": "9418f353-81cf-422f-bb3d-c6be37694784"
      },
      "execution_count": 9,
      "outputs": [
        {
          "output_type": "stream",
          "name": "stdout",
          "text": [
            "#######  ElasticNet #######\n",
            "alpha 0.07일 때 5 폴드 세트의 평균 RMSE : 5.542 \n",
            "alpha 0.1일 때 5 폴드 세트의 평균 RMSE : 5.526 \n",
            "alpha 0.5일 때 5 폴드 세트의 평균 RMSE : 5.467 \n",
            "alpha 1일 때 5 폴드 세트의 평균 RMSE : 5.597 \n",
            "alpha 3일 때 5 폴드 세트의 평균 RMSE : 6.068 \n"
          ]
        }
      ]
    },
    {
      "cell_type": "markdown",
      "source": [
        "  - alpha = 0.5일 때 RMSE가 5.467로 가장 좋은 예측 성능을 보인다."
      ],
      "metadata": {
        "id": "eeJpIR_X1vny"
      }
    },
    {
      "cell_type": "code",
      "source": [
        "# 반환된 coeff_elastic_df를 첫 번째 칼럼순으로 내림차순 정렬해 회귀계수 DataFrame 출력\n",
        "sort_column = 'alpha : ' + str(elastic_alphas[0])\n",
        "coeff_elastic_df.sort_values(by = sort_column, ascending = False)"
      ],
      "metadata": {
        "colab": {
          "base_uri": "https://localhost:8080/",
          "height": 457
        },
        "id": "taFI3GkE0olP",
        "outputId": "7c6653a5-a74f-4299-e3df-5785245984c0"
      },
      "execution_count": 10,
      "outputs": [
        {
          "output_type": "execute_result",
          "data": {
            "text/plain": [
              "         alpha : 0.07  alpha : 0.1  alpha : 0.5  alpha : 1  alpha : 3\n",
              "RM           3.574162     3.414154     1.918419   0.938789   0.000000\n",
              "CHAS         1.330724     0.979706     0.000000   0.000000   0.000000\n",
              "RAD          0.278880     0.283443     0.300761   0.289299   0.146846\n",
              "ZN           0.050107     0.050617     0.052878   0.052136   0.038268\n",
              "B            0.010122     0.010067     0.009114   0.008320   0.007020\n",
              "AGE         -0.010116    -0.008276     0.007760   0.020348   0.043446\n",
              "TAX         -0.014522    -0.014814    -0.016046  -0.016218  -0.011417\n",
              "INDUS       -0.044855    -0.042719    -0.023252  -0.000000  -0.000000\n",
              "CRIM        -0.099468    -0.099213    -0.089070  -0.073577  -0.019058\n",
              "NOX         -0.175072    -0.000000    -0.000000  -0.000000  -0.000000\n",
              "LSTAT       -0.574822    -0.587702    -0.693861  -0.760457  -0.800368\n",
              "PTRATIO     -0.779498    -0.784725    -0.790969  -0.738672  -0.423065\n",
              "DIS         -1.189438    -1.173647    -0.975902  -0.725174  -0.031208"
            ],
            "text/html": [
              "\n",
              "  <div id=\"df-f4d8dca4-d8f9-4cf2-badf-ea9b0048bfc1\">\n",
              "    <div class=\"colab-df-container\">\n",
              "      <div>\n",
              "<style scoped>\n",
              "    .dataframe tbody tr th:only-of-type {\n",
              "        vertical-align: middle;\n",
              "    }\n",
              "\n",
              "    .dataframe tbody tr th {\n",
              "        vertical-align: top;\n",
              "    }\n",
              "\n",
              "    .dataframe thead th {\n",
              "        text-align: right;\n",
              "    }\n",
              "</style>\n",
              "<table border=\"1\" class=\"dataframe\">\n",
              "  <thead>\n",
              "    <tr style=\"text-align: right;\">\n",
              "      <th></th>\n",
              "      <th>alpha : 0.07</th>\n",
              "      <th>alpha : 0.1</th>\n",
              "      <th>alpha : 0.5</th>\n",
              "      <th>alpha : 1</th>\n",
              "      <th>alpha : 3</th>\n",
              "    </tr>\n",
              "  </thead>\n",
              "  <tbody>\n",
              "    <tr>\n",
              "      <th>RM</th>\n",
              "      <td>3.574162</td>\n",
              "      <td>3.414154</td>\n",
              "      <td>1.918419</td>\n",
              "      <td>0.938789</td>\n",
              "      <td>0.000000</td>\n",
              "    </tr>\n",
              "    <tr>\n",
              "      <th>CHAS</th>\n",
              "      <td>1.330724</td>\n",
              "      <td>0.979706</td>\n",
              "      <td>0.000000</td>\n",
              "      <td>0.000000</td>\n",
              "      <td>0.000000</td>\n",
              "    </tr>\n",
              "    <tr>\n",
              "      <th>RAD</th>\n",
              "      <td>0.278880</td>\n",
              "      <td>0.283443</td>\n",
              "      <td>0.300761</td>\n",
              "      <td>0.289299</td>\n",
              "      <td>0.146846</td>\n",
              "    </tr>\n",
              "    <tr>\n",
              "      <th>ZN</th>\n",
              "      <td>0.050107</td>\n",
              "      <td>0.050617</td>\n",
              "      <td>0.052878</td>\n",
              "      <td>0.052136</td>\n",
              "      <td>0.038268</td>\n",
              "    </tr>\n",
              "    <tr>\n",
              "      <th>B</th>\n",
              "      <td>0.010122</td>\n",
              "      <td>0.010067</td>\n",
              "      <td>0.009114</td>\n",
              "      <td>0.008320</td>\n",
              "      <td>0.007020</td>\n",
              "    </tr>\n",
              "    <tr>\n",
              "      <th>AGE</th>\n",
              "      <td>-0.010116</td>\n",
              "      <td>-0.008276</td>\n",
              "      <td>0.007760</td>\n",
              "      <td>0.020348</td>\n",
              "      <td>0.043446</td>\n",
              "    </tr>\n",
              "    <tr>\n",
              "      <th>TAX</th>\n",
              "      <td>-0.014522</td>\n",
              "      <td>-0.014814</td>\n",
              "      <td>-0.016046</td>\n",
              "      <td>-0.016218</td>\n",
              "      <td>-0.011417</td>\n",
              "    </tr>\n",
              "    <tr>\n",
              "      <th>INDUS</th>\n",
              "      <td>-0.044855</td>\n",
              "      <td>-0.042719</td>\n",
              "      <td>-0.023252</td>\n",
              "      <td>-0.000000</td>\n",
              "      <td>-0.000000</td>\n",
              "    </tr>\n",
              "    <tr>\n",
              "      <th>CRIM</th>\n",
              "      <td>-0.099468</td>\n",
              "      <td>-0.099213</td>\n",
              "      <td>-0.089070</td>\n",
              "      <td>-0.073577</td>\n",
              "      <td>-0.019058</td>\n",
              "    </tr>\n",
              "    <tr>\n",
              "      <th>NOX</th>\n",
              "      <td>-0.175072</td>\n",
              "      <td>-0.000000</td>\n",
              "      <td>-0.000000</td>\n",
              "      <td>-0.000000</td>\n",
              "      <td>-0.000000</td>\n",
              "    </tr>\n",
              "    <tr>\n",
              "      <th>LSTAT</th>\n",
              "      <td>-0.574822</td>\n",
              "      <td>-0.587702</td>\n",
              "      <td>-0.693861</td>\n",
              "      <td>-0.760457</td>\n",
              "      <td>-0.800368</td>\n",
              "    </tr>\n",
              "    <tr>\n",
              "      <th>PTRATIO</th>\n",
              "      <td>-0.779498</td>\n",
              "      <td>-0.784725</td>\n",
              "      <td>-0.790969</td>\n",
              "      <td>-0.738672</td>\n",
              "      <td>-0.423065</td>\n",
              "    </tr>\n",
              "    <tr>\n",
              "      <th>DIS</th>\n",
              "      <td>-1.189438</td>\n",
              "      <td>-1.173647</td>\n",
              "      <td>-0.975902</td>\n",
              "      <td>-0.725174</td>\n",
              "      <td>-0.031208</td>\n",
              "    </tr>\n",
              "  </tbody>\n",
              "</table>\n",
              "</div>\n",
              "      <button class=\"colab-df-convert\" onclick=\"convertToInteractive('df-f4d8dca4-d8f9-4cf2-badf-ea9b0048bfc1')\"\n",
              "              title=\"Convert this dataframe to an interactive table.\"\n",
              "              style=\"display:none;\">\n",
              "        \n",
              "  <svg xmlns=\"http://www.w3.org/2000/svg\" height=\"24px\"viewBox=\"0 0 24 24\"\n",
              "       width=\"24px\">\n",
              "    <path d=\"M0 0h24v24H0V0z\" fill=\"none\"/>\n",
              "    <path d=\"M18.56 5.44l.94 2.06.94-2.06 2.06-.94-2.06-.94-.94-2.06-.94 2.06-2.06.94zm-11 1L8.5 8.5l.94-2.06 2.06-.94-2.06-.94L8.5 2.5l-.94 2.06-2.06.94zm10 10l.94 2.06.94-2.06 2.06-.94-2.06-.94-.94-2.06-.94 2.06-2.06.94z\"/><path d=\"M17.41 7.96l-1.37-1.37c-.4-.4-.92-.59-1.43-.59-.52 0-1.04.2-1.43.59L10.3 9.45l-7.72 7.72c-.78.78-.78 2.05 0 2.83L4 21.41c.39.39.9.59 1.41.59.51 0 1.02-.2 1.41-.59l7.78-7.78 2.81-2.81c.8-.78.8-2.07 0-2.86zM5.41 20L4 18.59l7.72-7.72 1.47 1.35L5.41 20z\"/>\n",
              "  </svg>\n",
              "      </button>\n",
              "      \n",
              "  <style>\n",
              "    .colab-df-container {\n",
              "      display:flex;\n",
              "      flex-wrap:wrap;\n",
              "      gap: 12px;\n",
              "    }\n",
              "\n",
              "    .colab-df-convert {\n",
              "      background-color: #E8F0FE;\n",
              "      border: none;\n",
              "      border-radius: 50%;\n",
              "      cursor: pointer;\n",
              "      display: none;\n",
              "      fill: #1967D2;\n",
              "      height: 32px;\n",
              "      padding: 0 0 0 0;\n",
              "      width: 32px;\n",
              "    }\n",
              "\n",
              "    .colab-df-convert:hover {\n",
              "      background-color: #E2EBFA;\n",
              "      box-shadow: 0px 1px 2px rgba(60, 64, 67, 0.3), 0px 1px 3px 1px rgba(60, 64, 67, 0.15);\n",
              "      fill: #174EA6;\n",
              "    }\n",
              "\n",
              "    [theme=dark] .colab-df-convert {\n",
              "      background-color: #3B4455;\n",
              "      fill: #D2E3FC;\n",
              "    }\n",
              "\n",
              "    [theme=dark] .colab-df-convert:hover {\n",
              "      background-color: #434B5C;\n",
              "      box-shadow: 0px 1px 3px 1px rgba(0, 0, 0, 0.15);\n",
              "      filter: drop-shadow(0px 1px 2px rgba(0, 0, 0, 0.3));\n",
              "      fill: #FFFFFF;\n",
              "    }\n",
              "  </style>\n",
              "\n",
              "      <script>\n",
              "        const buttonEl =\n",
              "          document.querySelector('#df-f4d8dca4-d8f9-4cf2-badf-ea9b0048bfc1 button.colab-df-convert');\n",
              "        buttonEl.style.display =\n",
              "          google.colab.kernel.accessAllowed ? 'block' : 'none';\n",
              "\n",
              "        async function convertToInteractive(key) {\n",
              "          const element = document.querySelector('#df-f4d8dca4-d8f9-4cf2-badf-ea9b0048bfc1');\n",
              "          const dataTable =\n",
              "            await google.colab.kernel.invokeFunction('convertToInteractive',\n",
              "                                                     [key], {});\n",
              "          if (!dataTable) return;\n",
              "\n",
              "          const docLinkHtml = 'Like what you see? Visit the ' +\n",
              "            '<a target=\"_blank\" href=https://colab.research.google.com/notebooks/data_table.ipynb>data table notebook</a>'\n",
              "            + ' to learn more about interactive tables.';\n",
              "          element.innerHTML = '';\n",
              "          dataTable['output_type'] = 'display_data';\n",
              "          await google.colab.output.renderOutput(dataTable, element);\n",
              "          const docLink = document.createElement('div');\n",
              "          docLink.innerHTML = docLinkHtml;\n",
              "          element.appendChild(docLink);\n",
              "        }\n",
              "      </script>\n",
              "    </div>\n",
              "  </div>\n",
              "  "
            ]
          },
          "metadata": {},
          "execution_count": 10
        }
      ]
    },
    {
      "cell_type": "markdown",
      "source": [
        "  - alpha 값에 따른 피처들의 회귀 계수들 값이 라쏘보다는 상대적으로 0이 되는 값이 적음을 알 수 있다."
      ],
      "metadata": {
        "id": "hgbrRHvk1zqi"
      }
    },
    {
      "cell_type": "markdown",
      "source": [
        "#### **e. 선형 회귀 모델을 위한 데이터 변환**\n",
        "  - 선형 회귀 모델은 피처값과 타깃값의 분포가 정규 분포인 것을 매우 선호한다.\n",
        "    - 특히 타깃값의 경우, 분포가 치우친 왜곡된 형태의 분포도일 경우 예측 성능에 부정적인 영향을 미친다.\n",
        "  - 따라서 선형 회귀 모델을 적용하기 전, 먼저 데이터에 대한 스케일링 / 정규화 작업을 수행하는 것이 일반적이다. \n",
        "    - 피처 데이터 세트\n",
        "      - 1. StandardScaler 클래스를 이용해 평균이 0, 분산이 1인 표준 정규 분포랄 가진 데이터 세트로 변환, MinMaxScaler 클래스를 이용해 최솟값이 0이고 최댓값이 1인 값으로 정규화를 수행한다.\n",
        "      - 2. 스케일링 / 정규화를 수행한 데이터 세트에 다시 다항 특성을 적용하여 변환한다.\n",
        "      - 3. 원래 값에 log 함수를 적용하여 정규 분포에 가까운 형태로 값이 분포되게 한다. 실제 선형 회귀에서 로그 변환이 가장 많이 사용된다.\n",
        "\n",
        "    - 타깃 데이터 세트\n",
        "      - 일반적으로 로그 변환을 적용한다. "
      ],
      "metadata": {
        "id": "qq5dV4rCCWdk"
      }
    },
    {
      "cell_type": "code",
      "source": [
        "# method는 표준 정규 분포 변환(Standard), 최댓값/최솟값 정규화(MinMax), 로그변환(Log) 결정\n",
        "# p_degree는 다항식 특성을 추가할 때 적용, p_degree는 2 이상 부여하지 않음\n",
        "from sklearn.preprocessing import StandardScaler, MinMaxScaler, PolynomialFeatures\n",
        "\n",
        "def get_scaled_data(method = 'None', p_degree = None, input_data = None):\n",
        "  if method == 'Standard':\n",
        "    scaled_data = StandardScaler().fit_transform(input_data)\n",
        "  elif method == 'MinMax':\n",
        "    scaled_data = MinMaxScaler().fit_transform(input_data)\n",
        "  elif method == 'Log':\n",
        "    scaled_data = np.log1p(input_data)\n",
        "  else:\n",
        "    scaled_data = input_data\n",
        "\n",
        "  if p_degree != None:\n",
        "    scaled_data = PolynomialFeatures(degree = p_degree, include_bias = False).fit_transform(scaled_data)\n",
        "\n",
        "  return scaled_data"
      ],
      "metadata": {
        "id": "I1A--7BuCc8Q"
      },
      "execution_count": 11,
      "outputs": []
    },
    {
      "cell_type": "markdown",
      "source": [
        "> 이제 Ridge 클래스의 alpha 값을 변화시키면서 피처 데이터 세트를 여러 가지 방법으로 변환한 데이터 세트를 입력 받을 경우, RMSE 값이 어떻게 변하는지 살펴보자. "
      ],
      "metadata": {
        "id": "5w7bYIS44l5r"
      }
    },
    {
      "cell_type": "code",
      "source": [
        "# Ridge의 alpha 값을 다르게 적용하고, 다양한 데이터 변환 방법에 따른 RMSE 추출\n",
        "alphas = [0.1, 1, 10, 100]\n",
        "\n",
        "# 5개 방식으로 변환. 먼저 원본 그대로, 표준정규분포, 표준정규분포 + 다항식 특성\n",
        "# 최대/최소 정규화, 최대/최소 정규화 + 다항식 특성, 로그 변환\n",
        "scale_methods = [(None, None), ('Standard', None), ('Standard', 2), \n",
        "                ('MinMax', None), ('MinMax', 2), ('Log', None)]\n",
        "\n",
        "for scale_method in scale_methods:\n",
        "  X_data_scaled = get_scaled_data(method = scale_method[0], p_degree = scale_method[1],\n",
        "                                  input_data = X_data)\n",
        "  print('\\n## 변환 유형: {0}, Polynomial Degree: {1}'.format(scale_method[0], scale_method[1]))\n",
        "  get_linear_reg_eval('Ridge', params = alphas, X_data_n = X_data_scaled, y_target_n = y_target, verbose = False, return_coeff = False)"
      ],
      "metadata": {
        "colab": {
          "base_uri": "https://localhost:8080/"
        },
        "id": "07zkAgG44xcZ",
        "outputId": "13ca2823-ee05-48c3-a5e3-5e262bda8f9a"
      },
      "execution_count": 12,
      "outputs": [
        {
          "output_type": "stream",
          "name": "stdout",
          "text": [
            "\n",
            "## 변환 유형: None, Polynomial Degree: None\n",
            "alpha 0.1일 때 5 폴드 세트의 평균 RMSE : 5.788 \n",
            "alpha 1일 때 5 폴드 세트의 평균 RMSE : 5.653 \n",
            "alpha 10일 때 5 폴드 세트의 평균 RMSE : 5.518 \n",
            "alpha 100일 때 5 폴드 세트의 평균 RMSE : 5.330 \n",
            "\n",
            "## 변환 유형: Standard, Polynomial Degree: None\n",
            "alpha 0.1일 때 5 폴드 세트의 평균 RMSE : 5.826 \n",
            "alpha 1일 때 5 폴드 세트의 평균 RMSE : 5.803 \n",
            "alpha 10일 때 5 폴드 세트의 평균 RMSE : 5.637 \n",
            "alpha 100일 때 5 폴드 세트의 평균 RMSE : 5.421 \n",
            "\n",
            "## 변환 유형: Standard, Polynomial Degree: 2\n",
            "alpha 0.1일 때 5 폴드 세트의 평균 RMSE : 8.827 \n",
            "alpha 1일 때 5 폴드 세트의 평균 RMSE : 6.871 \n",
            "alpha 10일 때 5 폴드 세트의 평균 RMSE : 5.485 \n",
            "alpha 100일 때 5 폴드 세트의 평균 RMSE : 4.634 \n",
            "\n",
            "## 변환 유형: MinMax, Polynomial Degree: None\n",
            "alpha 0.1일 때 5 폴드 세트의 평균 RMSE : 5.764 \n",
            "alpha 1일 때 5 폴드 세트의 평균 RMSE : 5.465 \n",
            "alpha 10일 때 5 폴드 세트의 평균 RMSE : 5.754 \n",
            "alpha 100일 때 5 폴드 세트의 평균 RMSE : 7.635 \n",
            "\n",
            "## 변환 유형: MinMax, Polynomial Degree: 2\n",
            "alpha 0.1일 때 5 폴드 세트의 평균 RMSE : 5.298 \n",
            "alpha 1일 때 5 폴드 세트의 평균 RMSE : 4.323 \n",
            "alpha 10일 때 5 폴드 세트의 평균 RMSE : 5.185 \n",
            "alpha 100일 때 5 폴드 세트의 평균 RMSE : 6.538 \n",
            "\n",
            "## 변환 유형: Log, Polynomial Degree: None\n",
            "alpha 0.1일 때 5 폴드 세트의 평균 RMSE : 4.770 \n",
            "alpha 1일 때 5 폴드 세트의 평균 RMSE : 4.676 \n",
            "alpha 10일 때 5 폴드 세트의 평균 RMSE : 4.836 \n",
            "alpha 100일 때 5 폴드 세트의 평균 RMSE : 6.241 \n"
          ]
        }
      ]
    },
    {
      "cell_type": "markdown",
      "source": [
        "  - 표준 정규 분포와 최솟값/최댓값 정규화로 피처 데이터 세트를 변경해도 성능상의 개선은 없다. 반면 로그 변환을 보면 alpha가 0.1, 1, 10인 경우에 모두 좋은 성능 향상이 있음을 알 수 있다."
      ],
      "metadata": {
        "id": "nAehQJpk6U42"
      }
    },
    {
      "cell_type": "markdown",
      "source": [
        "---"
      ],
      "metadata": {
        "id": "HPJF4x-qv2yC"
      }
    },
    {
      "cell_type": "markdown",
      "source": [
        "### **07. 로지스틱 회귀**\n",
        "  - 선형 회귀 방식을 분류에 적용한 알고리즘\n",
        "  - 시그모이드(Sigmoid) 함수의 최적선을 찾고, 이 시그모이드 함수의 반환 값을 확률로 간주해 확률에 따라 분류를 결정\n",
        "$$sigmoid = y = \\frac {1} {1 + e^{-x}}$$\n",
        "  - y값은 항상 0과 1 사이의 값을 반환\n",
        "  - 로지스틱 회귀는 이처럼 선형 회귀 방식을 기반으로 하되, 시그모이드 함수를 이용해 분류를 수행하는 회귀이다.\n"
      ],
      "metadata": {
        "id": "nTJpg79WCdTA"
      }
    },
    {
      "cell_type": "markdown",
      "source": [
        "> 이제 위스콘신 유방암 데이터 세트를 이용해 로지스틱 회귀로 암 여부를 판단해보자."
      ],
      "metadata": {
        "id": "-bXbu-796jYK"
      }
    },
    {
      "cell_type": "code",
      "source": [
        "import pandas as pd\n",
        "import matplotlib.pyplot as plt\n",
        "%matplotlib inline\n",
        "\n",
        "from sklearn.datasets import load_breast_cancer\n",
        "from sklearn.linear_model import LogisticRegression\n",
        "\n",
        "cancer = load_breast_cancer()"
      ],
      "metadata": {
        "id": "Xncs6Ztg6nFf"
      },
      "execution_count": 13,
      "outputs": []
    },
    {
      "cell_type": "code",
      "source": [
        "from sklearn.preprocessing import StandardScaler\n",
        "from sklearn.model_selection import train_test_split\n",
        "\n",
        "# StandardScaler()로 평균 0, 분산 1로 피처 데이터 분포도 변환\n",
        "scaler = StandardScaler()\n",
        "data_scaled = scaler.fit_transform(cancer.data)\n",
        "\n",
        "X_train, X_test, y_train, y_test = train_test_split(data_scaled, cancer.target, test_size = 0.3, random_state = 0)"
      ],
      "metadata": {
        "id": "lqGc6sVX60Dz"
      },
      "execution_count": 14,
      "outputs": []
    },
    {
      "cell_type": "markdown",
      "source": [
        "> 이제 로지스틱 회귀를 이용해 학습 및 예측을 수행하고, 정확도와 ROC-AUC 값을 구해보자."
      ],
      "metadata": {
        "id": "3bR41ng27QFh"
      }
    },
    {
      "cell_type": "code",
      "source": [
        "from sklearn.metrics import accuracy_score, roc_auc_score\n",
        "\n",
        "# 로지스틱 회귀를 이용해 학습 및 예측 수행\n",
        "lr_clf = LogisticRegression()\n",
        "lr_clf.fit(X_train, y_train)\n",
        "lr_preds = lr_clf.predict(X_test)\n",
        "\n",
        "# 정확도와 ROC-AUC 측정\n",
        "print('accuracy: {0:.3f}'.format(accuracy_score(y_test, lr_preds)))\n",
        "print('roc_auc: {0:.3f}'.format(roc_auc_score(y_test, lr_preds)))"
      ],
      "metadata": {
        "colab": {
          "base_uri": "https://localhost:8080/"
        },
        "id": "Mx42FHdz7Uai",
        "outputId": "6319aff1-5285-4692-8ade-d03c56d62342"
      },
      "execution_count": 15,
      "outputs": [
        {
          "output_type": "stream",
          "name": "stdout",
          "text": [
            "accuracy: 0.977\n",
            "roc_auc: 0.972\n"
          ]
        }
      ]
    },
    {
      "cell_type": "markdown",
      "source": [
        "  - 정확도는 약 0.977, ROC-AUC가 약 0.972이다."
      ],
      "metadata": {
        "id": "NYRAqq7F7uiU"
      }
    },
    {
      "cell_type": "markdown",
      "source": [
        "> GridSearchCV를 이용해 위스콘신 데이터 세트에서 penalty, C 하이퍼 파라미터를 최적화해보자."
      ],
      "metadata": {
        "id": "iqdL9a_W76TI"
      }
    },
    {
      "cell_type": "code",
      "source": [
        "from sklearn.model_selection import GridSearchCV\n",
        "\n",
        "params = { 'penalty' : ['l2', 'l1'],\n",
        "          'C' : [0.01, 0.1, 1, 1, 5, 10]}\n",
        "\n",
        "grid_clf = GridSearchCV(lr_clf, param_grid = params, scoring = 'accuracy', cv = 3)\n",
        "grid_clf.fit(data_scaled, cancer.target)\n",
        "print('최적 하이퍼 파라미터:{0}, 최적 평균 정확도:{1:.3f}'.format(grid_clf.best_params_, grid_clf.best_score_))"
      ],
      "metadata": {
        "colab": {
          "base_uri": "https://localhost:8080/"
        },
        "id": "dxIhnGPE7uBc",
        "outputId": "fb4e71ed-8f43-4ba3-e43f-04814543c22e"
      },
      "execution_count": 16,
      "outputs": [
        {
          "output_type": "stream",
          "name": "stdout",
          "text": [
            "최적 하이퍼 파라미터:{'C': 1, 'penalty': 'l2'}, 최적 평균 정확도:0.975\n"
          ]
        },
        {
          "output_type": "stream",
          "name": "stderr",
          "text": [
            "/usr/local/lib/python3.7/dist-packages/sklearn/model_selection/_validation.py:372: FitFailedWarning: \n",
            "18 fits failed out of a total of 36.\n",
            "The score on these train-test partitions for these parameters will be set to nan.\n",
            "If these failures are not expected, you can try to debug them by setting error_score='raise'.\n",
            "\n",
            "Below are more details about the failures:\n",
            "--------------------------------------------------------------------------------\n",
            "18 fits failed with the following error:\n",
            "Traceback (most recent call last):\n",
            "  File \"/usr/local/lib/python3.7/dist-packages/sklearn/model_selection/_validation.py\", line 680, in _fit_and_score\n",
            "    estimator.fit(X_train, y_train, **fit_params)\n",
            "  File \"/usr/local/lib/python3.7/dist-packages/sklearn/linear_model/_logistic.py\", line 1461, in fit\n",
            "    solver = _check_solver(self.solver, self.penalty, self.dual)\n",
            "  File \"/usr/local/lib/python3.7/dist-packages/sklearn/linear_model/_logistic.py\", line 449, in _check_solver\n",
            "    % (solver, penalty)\n",
            "ValueError: Solver lbfgs supports only 'l2' or 'none' penalties, got l1 penalty.\n",
            "\n",
            "  warnings.warn(some_fits_failed_message, FitFailedWarning)\n",
            "/usr/local/lib/python3.7/dist-packages/sklearn/model_selection/_search.py:972: UserWarning: One or more of the test scores are non-finite: [0.94555834        nan 0.97364708        nan 0.97539218        nan\n",
            " 0.97539218        nan 0.97011974        nan 0.96661097        nan]\n",
            "  category=UserWarning,\n"
          ]
        }
      ]
    },
    {
      "cell_type": "markdown",
      "source": [
        "  - 로지스틱 회귀는 가볍고 빠르지만, 이진 분류 예측 성능도 뛰어나다. 이 때문에 로지스틱 회귀를 이진 분류의 기본 모델로 사용하는 경우가 많다. 또한, 로지스틱 회귀는 희소한 데이터 세트 분류에도 뛰어난 성능을 보여 텍스트 분류에서도 자주 사용된다."
      ],
      "metadata": {
        "id": "POeov6ap8j5m"
      }
    },
    {
      "cell_type": "markdown",
      "source": [
        "---"
      ],
      "metadata": {
        "id": "2FQ4Uze3v6m4"
      }
    },
    {
      "cell_type": "markdown",
      "source": [
        "### **08. 회귀 트리**\n",
        "  - `리프 노드에 속한 데이터 값의 평균값`을 구해 `회귀 예측값을 계산`하는 방식\n",
        "  - 결정 트리, 랜덤 포레스트, GBM, XGBoost, LightGBM을 수행할 수 있는 Estimator 제공\n",
        "    - Decision Tree : DecisionTreeRegressor / DecisionTreeClassifier\n",
        "    - Gradient Boosting : GradientBoostingRegressor / GradientBoostingClassifier\n",
        "    - XGBoost : XGBRegressor / XGBClassifier\n",
        "    - LightGBM : LGBMRegressor / LGBMClassifier"
      ],
      "metadata": {
        "id": "KDRnWYmXCiIJ"
      }
    },
    {
      "cell_type": "markdown",
      "source": [
        "> 사이킷런의 랜덤 포레스트 회귀 트리인 RandomForestRegressor를 이용해 앞의 선형 회귀에서 다룬 보스턴 주택 가격 예측을 수행해보자."
      ],
      "metadata": {
        "id": "KO5PLk2d8xtF"
      }
    },
    {
      "cell_type": "code",
      "source": [
        "from sklearn.datasets import load_boston\n",
        "from sklearn.model_selection import cross_val_score\n",
        "from sklearn.ensemble import RandomForestRegressor\n",
        "import pandas as pd\n",
        "import numpy as np\n",
        "\n",
        "# 보스턴 데이터 세트 로드\n",
        "boston = load_boston()\n",
        "bostonDF = pd.DataFrame(boston.data, columns = boston.feature_names)\n",
        "\n",
        "bostonDF['PRICE'] = boston.target\n",
        "y_target = bostonDF['PRICE']\n",
        "x_data = bostonDF.drop(['PRICE'], axis = 1, inplace = False)\n",
        "\n",
        "rf = RandomForestRegressor(random_state = 0, n_estimators = 1000)\n",
        "neg_mse_scores = cross_val_score(rf, X_data, y_target, scoring = 'neg_mean_squared_error', cv = 5)\n",
        "rmse_scores = np.sqrt(-1 * neg_mse_scores)\n",
        "avg_rmse = np.mean(rmse_scores)\n",
        "\n",
        "print(' 5 교차 검증의 개별 Negative MSE scores:', np.round(neg_mse_scores, 2))\n",
        "print(' 5 교차 검증의 개별 RMSE scores:', np.round(rmse_scores, 2))\n",
        "print(' 5 교차 검증의 평균 RMSE : {0:.3f}'.format(avg_rmse))"
      ],
      "metadata": {
        "colab": {
          "base_uri": "https://localhost:8080/"
        },
        "id": "w06y4H6XCl_D",
        "outputId": "f68cfa54-d4bb-4be5-ac99-537921c3e135"
      },
      "execution_count": 17,
      "outputs": [
        {
          "output_type": "stream",
          "name": "stderr",
          "text": [
            "/usr/local/lib/python3.7/dist-packages/sklearn/utils/deprecation.py:87: FutureWarning: Function load_boston is deprecated; `load_boston` is deprecated in 1.0 and will be removed in 1.2.\n",
            "\n",
            "    The Boston housing prices dataset has an ethical problem. You can refer to\n",
            "    the documentation of this function for further details.\n",
            "\n",
            "    The scikit-learn maintainers therefore strongly discourage the use of this\n",
            "    dataset unless the purpose of the code is to study and educate about\n",
            "    ethical issues in data science and machine learning.\n",
            "\n",
            "    In this special case, you can fetch the dataset from the original\n",
            "    source::\n",
            "\n",
            "        import pandas as pd\n",
            "        import numpy as np\n",
            "\n",
            "\n",
            "        data_url = \"http://lib.stat.cmu.edu/datasets/boston\"\n",
            "        raw_df = pd.read_csv(data_url, sep=\"\\s+\", skiprows=22, header=None)\n",
            "        data = np.hstack([raw_df.values[::2, :], raw_df.values[1::2, :2]])\n",
            "        target = raw_df.values[1::2, 2]\n",
            "\n",
            "    Alternative datasets include the California housing dataset (i.e.\n",
            "    :func:`~sklearn.datasets.fetch_california_housing`) and the Ames housing\n",
            "    dataset. You can load the datasets as follows::\n",
            "\n",
            "        from sklearn.datasets import fetch_california_housing\n",
            "        housing = fetch_california_housing()\n",
            "\n",
            "    for the California housing dataset and::\n",
            "\n",
            "        from sklearn.datasets import fetch_openml\n",
            "        housing = fetch_openml(name=\"house_prices\", as_frame=True)\n",
            "\n",
            "    for the Ames housing dataset.\n",
            "    \n",
            "  warnings.warn(msg, category=FutureWarning)\n"
          ]
        },
        {
          "output_type": "stream",
          "name": "stdout",
          "text": [
            " 5 교차 검증의 개별 Negative MSE scores: [ -7.88 -13.14 -20.57 -46.23 -18.88]\n",
            " 5 교차 검증의 개별 RMSE scores: [2.81 3.63 4.54 6.8  4.34]\n",
            " 5 교차 검증의 평균 RMSE : 4.423\n"
          ]
        }
      ]
    },
    {
      "cell_type": "markdown",
      "source": [
        "> 이번에는 결정 트리, GBM, XGBoost, LightGBM의 Regressor를 모두 이용해 보스턴 주택 가격 예측을 수행해보자. "
      ],
      "metadata": {
        "id": "GE6iuoYW-E8C"
      }
    },
    {
      "cell_type": "code",
      "source": [
        "def get_model_cv_prediction(model, X_data, y_target):\n",
        "  neg_mse_scores = cross_val_score(model, X_data, y_target, scoring = 'neg_mean_squared_error', cv = 5)\n",
        "  rmse_scores = np.sqrt(-1 * neg_mse_scores)\n",
        "  avg_rmse = np.mean(rmse_scores)\n",
        "  print('#####', model.__class__.__name__, '#####')\n",
        "  print(' 5 교차 검증의 평균 RMSE : {0:.3f}'.format(avg_rmse))"
      ],
      "metadata": {
        "id": "_HNUo9K7-EtL"
      },
      "execution_count": 18,
      "outputs": []
    },
    {
      "cell_type": "code",
      "source": [
        "from sklearn.tree import DecisionTreeRegressor\n",
        "from sklearn.ensemble import GradientBoostingRegressor\n",
        "from xgboost import XGBRegressor\n",
        "from lightgbm import LGBMRegressor\n",
        "\n",
        "dt_reg = DecisionTreeRegressor(random_state = 0, max_depth = 4)\n",
        "rf_reg = RandomForestRegressor(random_state = 0, n_estimators = 1000)\n",
        "gb_reg = GradientBoostingRegressor(random_state = 0, n_estimators = 1000)\n",
        "xgb_reg = XGBRegressor(n_estimators = 1000)\n",
        "lgb_reg = LGBMRegressor(n_estimators = 1000)\n",
        "\n",
        "# 트리 기반의 회귀 모델을 반복하면서 평가 수행\n",
        "models = [dt_reg, rf_reg, gb_reg, xgb_reg, lgb_reg]\n",
        "for model in models:\n",
        "  get_model_cv_prediction(model, X_data, y_target)"
      ],
      "metadata": {
        "colab": {
          "base_uri": "https://localhost:8080/"
        },
        "id": "APPrubkF99hf",
        "outputId": "87e8c3cf-dac3-4883-9aa7-b7cefb2339db"
      },
      "execution_count": 19,
      "outputs": [
        {
          "output_type": "stream",
          "name": "stdout",
          "text": [
            "##### DecisionTreeRegressor #####\n",
            " 5 교차 검증의 평균 RMSE : 5.978\n",
            "##### RandomForestRegressor #####\n",
            " 5 교차 검증의 평균 RMSE : 4.423\n",
            "##### GradientBoostingRegressor #####\n",
            " 5 교차 검증의 평균 RMSE : 4.269\n",
            "[02:23:06] WARNING: /workspace/src/objective/regression_obj.cu:152: reg:linear is now deprecated in favor of reg:squarederror.\n",
            "[02:23:07] WARNING: /workspace/src/objective/regression_obj.cu:152: reg:linear is now deprecated in favor of reg:squarederror.\n",
            "[02:23:07] WARNING: /workspace/src/objective/regression_obj.cu:152: reg:linear is now deprecated in favor of reg:squarederror.\n",
            "[02:23:07] WARNING: /workspace/src/objective/regression_obj.cu:152: reg:linear is now deprecated in favor of reg:squarederror.\n",
            "[02:23:08] WARNING: /workspace/src/objective/regression_obj.cu:152: reg:linear is now deprecated in favor of reg:squarederror.\n",
            "##### XGBRegressor #####\n",
            " 5 교차 검증의 평균 RMSE : 4.089\n",
            "##### LGBMRegressor #####\n",
            " 5 교차 검증의 평균 RMSE : 4.646\n"
          ]
        }
      ]
    },
    {
      "cell_type": "markdown",
      "source": [
        "  - XGBoost의 평균 RMSE가 4.089로 성능이 가장 좋다."
      ],
      "metadata": {
        "id": "cfTAFv6R_Zuf"
      }
    },
    {
      "cell_type": "markdown",
      "source": [
        "> feature_importances_를 이용해 보스턴 주택 가격 모델의 피처별 중요도를 시각화해보자."
      ],
      "metadata": {
        "id": "lOqbTBjd_Qgi"
      }
    },
    {
      "cell_type": "code",
      "source": [
        "import seaborn as sns\n",
        "%matplotlib inline\n",
        "\n",
        "rf_reg = RandomForestRegressor(n_estimators = 1000)\n",
        "\n",
        "# 앞 예제에서 만들어진 X_data, y_target 데이터 세트를 적용해 학습\n",
        "rf_reg.fit(X_data, y_target)\n",
        "\n",
        "feature_series = pd.Series(data = rf_reg.feature_importances_, index = X_data.columns)\n",
        "feature_series = feature_series.sort_values(ascending = False)\n",
        "sns.barplot(x = feature_series, y = feature_series.index)"
      ],
      "metadata": {
        "colab": {
          "base_uri": "https://localhost:8080/",
          "height": 283
        },
        "id": "2B1pxInN_J9p",
        "outputId": "6f6a91f5-51d3-4ab9-881e-196cae6e97e8"
      },
      "execution_count": 20,
      "outputs": [
        {
          "output_type": "execute_result",
          "data": {
            "text/plain": [
              "<matplotlib.axes._subplots.AxesSubplot at 0x7fce98f49850>"
            ]
          },
          "metadata": {},
          "execution_count": 20
        },
        {
          "output_type": "display_data",
          "data": {
            "text/plain": [
              "<Figure size 432x288 with 1 Axes>"
            ],
            "image/png": "[encoded data removed]"
          },
          "metadata": {
            "needs_background": "light"
          }
        }
      ]
    },
    {
      "cell_type": "markdown",
      "source": [
        "  - RM과 LSTAT이 주택 가격에 영향을 미치는 가장 중요한 변수이다."
      ],
      "metadata": {
        "id": "jH4_8KWTxvfx"
      }
    },
    {
      "cell_type": "markdown",
      "source": [
        "> 이번에는 회귀 트리 Regressor가 어떻게 예측값을 판단하는지 선형 회귀와 비교해 시각화해보자. 결정 트리의 하이퍼 파라미터인 max_depth의 크기를 변화시키면서 어떻게 회귀 트리 예측선이 변화하는지 살펴보자."
      ],
      "metadata": {
        "id": "OceHeJmfx6O8"
      }
    },
    {
      "cell_type": "code",
      "source": [
        "# RM고 PRICE 칼럼만 추출\n",
        "bostonDF_sample = bostonDF[['RM', 'PRICE']]\n",
        "# 보스턴 데이터 세트의 개수를 100개만 샘플링\n",
        "bostonDF_sample = bostonDF_sample.sample(n = 100, random_state = 0)\n",
        "print(bostonDF_sample.shape)\n",
        "plt.figure()\n",
        "plt.scatter(bostonDF_sample.RM, bostonDF_sample.PRICE, c = 'darkorange')"
      ],
      "metadata": {
        "colab": {
          "base_uri": "https://localhost:8080/",
          "height": 301
        },
        "id": "RhekocKU_5la",
        "outputId": "f22b1416-1d99-4a56-b062-b2121cf9da6b"
      },
      "execution_count": 23,
      "outputs": [
        {
          "output_type": "stream",
          "name": "stdout",
          "text": [
            "(100, 2)\n"
          ]
        },
        {
          "output_type": "execute_result",
          "data": {
            "text/plain": [
              "<matplotlib.collections.PathCollection at 0x7fce8d857910>"
            ]
          },
          "metadata": {},
          "execution_count": 23
        },
        {
          "output_type": "display_data",
          "data": {
            "text/plain": [
              "<Figure size 432x288 with 1 Axes>"
            ],
            "image/png": "[encoded data removed]"
          },
          "metadata": {
            "needs_background": "light"
          }
        }
      ]
    },
    {
      "cell_type": "markdown",
      "source": [
        "> 다음으로 데이터 세트에 대해 LinearRegression과 DecisionTreeRegressor를 max_depth를 각각 2, 7로 해서 학습해보자. 이렇게 학습된 Regressor에 RM 값을 4.5~8.5까지의 100개의 테스트 데이터 세트로 제공했을 때 예측값을 구해보자."
      ],
      "metadata": {
        "id": "YkkNLBnPzjSw"
      }
    },
    {
      "cell_type": "code",
      "source": [
        "import numpy as np\n",
        "from sklearn.linear_model import LinearRegression\n",
        "\n",
        "# 선형 회귀와 결정 트리 기반의 Regressor 생성. DecisionTreeRegressor의 max_depth는 각각 2, 7\n",
        "lr_reg = LinearRegression()\n",
        "rf_reg2 = DecisionTreeRegressor(max_depth = 2)\n",
        "rf_reg7 = DecisionTreeRegressor(max_depth = 7)\n",
        "\n",
        "# 실제 예측을 적용할 테스트용 데이터 세트를 4.5 ~ 8.5까지의 100개 데이터 세트로 생성\n",
        "X_test = np.arange(4.5, 8.5, 0.04).reshape(-1, 1)\n",
        "\n",
        "# 보스턴 주택 가격 데이터에서 시각화를 위해 피처는 RM만, 그리고 결정 데이터만 PRICE 추출\n",
        "X_feature = bostonDF_sample['RM'].values.reshape(-1, 1)\n",
        "y_target = bostonDF_sample['PRICE'].values.reshape(-1, 1)\n",
        "\n",
        "# 학습과 예측 수행\n",
        "lr_reg.fit(X_feature, y_target)\n",
        "rf_reg2.fit(X_feature, y_target)\n",
        "rf_reg7.fit(X_feature, y_target)\n",
        "\n",
        "pred_lr = lr_reg.predict(X_test)\n",
        "pred_rf2 = rf_reg2.predict(X_test)\n",
        "pred_rf7 = rf_reg7.predict(X_test)"
      ],
      "metadata": {
        "id": "pRYvzl1hyUCz"
      },
      "execution_count": 26,
      "outputs": []
    },
    {
      "cell_type": "markdown",
      "source": [
        "> LinearRegression과 DecisionTreeRegressor의 max_depth를 각각 2, 7로 해서 학습된 Regressor에서 예측한 Price 회귀선을 그려보자."
      ],
      "metadata": {
        "id": "t5cIykKo0110"
      }
    },
    {
      "cell_type": "code",
      "source": [
        "fig, (ax1, ax2, ax3) = plt.subplots(figsize = (14, 4), ncols = 3)\n",
        "\n",
        "# X축 값을 4.5 ~ 8.5로 변환하며 입력했을 때 선형 회귀와 결정 트리 회귀 예측선 시각화\n",
        "# 선형 회귀로 학습된 모델 회귀 예측선\n",
        "ax1.set_title('Linear Regression')\n",
        "ax1.scatter(bostonDF_sample.RM, bostonDF_sample.PRICE, c = 'darkorange')\n",
        "ax1.plot(X_test, pred_lr, label = 'linear', linewidth = 2)\n",
        "\n",
        "# DecisionTreeRegressor의 max_depth를 2로 했을 때 회귀 예측선\n",
        "ax2.set_title('Decision Tree Regression: \\n max_depth = 2')\n",
        "ax2.scatter(bostonDF_sample.RM, bostonDF_sample.PRICE, c = 'darkorange')\n",
        "ax2.plot(X_test, pred_rf2, label = 'max_depth : 2', linewidth = 2)\n",
        "\n",
        "# DecisionTreeRegressor의 max_depth를 7로 했을 때 회귀 예측선\n",
        "ax3.set_title('Decision Tree Regression: \\n max_depth = 7')\n",
        "ax3.scatter(bostonDF_sample.RM, bostonDF_sample.PRICE, c = 'darkorange')\n",
        "ax3.plot(X_test, pred_rf7, label = 'max_depth : 7', linewidth = 2)"
      ],
      "metadata": {
        "colab": {
          "base_uri": "https://localhost:8080/",
          "height": 314
        },
        "id": "7CjZcBfm0xwp",
        "outputId": "91313b7d-e3af-4697-a2f8-f8287894031a"
      },
      "execution_count": 28,
      "outputs": [
        {
          "output_type": "execute_result",
          "data": {
            "text/plain": [
              "[<matplotlib.lines.Line2D at 0x7fce8d1baf90>]"
            ]
          },
          "metadata": {},
          "execution_count": 28
        },
        {
          "output_type": "display_data",
          "data": {
            "text/plain": [
              "<Figure size 1008x288 with 3 Axes>"
            ],
            "image/png": "[encoded data removed]"
          },
          "metadata": {
            "needs_background": "light"
          }
        }
      ]
    },
    {
      "cell_type": "markdown",
      "source": [
        "  - 선형 회귀는 직선으로 예측 회귀선을 표현하는 데 반해, 회귀 트리의 경우 분할되는 데이터 지점에 따라 브랜치를 만들면서 계단 형태로 회귀선을 만든다. DecisionTreeRegressor의 max_depth = 7인 경우에는 과적합이 되기 쉬운 모델이 되었음을 알 수 있다."
      ],
      "metadata": {
        "id": "QzvWw-xS2UtL"
      }
    }
  ]
}
