{
  "nbformat": 4,
  "nbformat_minor": 0,
  "metadata": {
    "colab": {
      "provenance": [],
      "authorship_tag": "ABX9TyOo1LkySZ3F9XV8L8UekEx3",
      "include_colab_link": true
    },
    "kernelspec": {
      "name": "python3",
      "display_name": "Python 3"
    },
    "language_info": {
      "name": "python"
    }
  },
  "cells": [
    {
      "cell_type": "markdown",
      "metadata": {
        "id": "view-in-github",
        "colab_type": "text"
      },
      "source": [
        "<a href=\"https://colab.research.google.com/github/wldopie/ESAA/blob/main/HW_221114.ipynb\" target=\"_parent\"><img src=\"https://colab.research.google.com/assets/colab-badge.svg\" alt=\"Open In Colab\"/></a>"
      ]
    },
    {
      "cell_type": "markdown",
      "source": [
        "## **9.5 콘텐츠 기반 필터링 실습 - TMDB 5000 영화 데이터 세트**\n",
        "  - 유명한 영화 데이터 정보 사이트인 IMDB의 많은 영화 중 주요 5000개 영화에 대한 메타 정보를 새롭게 가공해 캐글에서 제공하는 데이터 세트\n",
        "  - 이 TMDB 5000 데이터 세트에 기반해 콘텐츠 기반 필터링을 수행해보자.\n",
        "\n",
        "---\n",
        "\n"
      ],
      "metadata": {
        "id": "IUfGPgBt3R1m"
      }
    },
    {
      "cell_type": "markdown",
      "source": [
        "### **9.5.1 장르 속성을 이용한 영화 콘텐츠 기반 필터링**\n",
        "  - 콘텐츠 기반 필터링\n",
        "    - 사용자가 특정 영화를 감상하고 그 영화를 좋아했다면, 그 영화와 비슷한 특성/속성, 구성 요소 등을 가진 다른 영화를 추천하는 것\n",
        "    - 영화(또는 상품/서비스)간의 유사성을 판단하는 기준이 영화를 구성하는 다양한 콘텐츠(장르, 감독, 배우, 평점, 키워드, 영화 설명)를 기반으로 하는 방식\n",
        "\n",
        "  - 콘텐츠 기반 필터링 추천 시스템을 영화를 선택하는 데 중요한 요소인 장르 속성을 기반으로 만들어 보자.\n",
        "\n",
        "  - 장르 칼럼 값의 유사도를 비교한 뒤, 그중 높은 평점을 가지는 영화를 추천하는 방식이다."
      ],
      "metadata": {
        "id": "T3jR027g3aJ1"
      }
    },
    {
      "cell_type": "markdown",
      "source": [
        "---"
      ],
      "metadata": {
        "id": "2TEDF02hBBqW"
      }
    },
    {
      "cell_type": "markdown",
      "source": [
        "### **9.5.2 데이터 로딩 및 가공**"
      ],
      "metadata": {
        "id": "zAOjyBY63fm0"
      }
    },
    {
      "cell_type": "code",
      "execution_count": 2,
      "metadata": {
        "colab": {
          "base_uri": "https://localhost:8080/",
          "height": 250
        },
        "id": "kck4JuYD3GFF",
        "outputId": "a8fdf8df-c09b-4d4d-9fc7-1a84f7fa32cd"
      },
      "outputs": [
        {
          "output_type": "stream",
          "name": "stdout",
          "text": [
            "(4803, 20)\n"
          ]
        },
        {
          "output_type": "execute_result",
          "data": {
            "text/plain": [
              "      budget                                             genres  \\\n",
              "0  237000000  [{\"id\": 28, \"name\": \"Action\"}, {\"id\": 12, \"nam...   \n",
              "\n",
              "                      homepage     id  \\\n",
              "0  http://www.avatarmovie.com/  19995   \n",
              "\n",
              "                                            keywords original_language  \\\n",
              "0  [{\"id\": 1463, \"name\": \"culture clash\"}, {\"id\":...                en   \n",
              "\n",
              "  original_title                                           overview  \\\n",
              "0         Avatar  In the 22nd century, a paraplegic Marine is di...   \n",
              "\n",
              "   popularity                               production_companies  \\\n",
              "0  150.437577  [{\"name\": \"Ingenious Film Partners\", \"id\": 289...   \n",
              "\n",
              "                                production_countries release_date     revenue  \\\n",
              "0  [{\"iso_3166_1\": \"US\", \"name\": \"United States o...   2009-12-10  2787965087   \n",
              "\n",
              "   runtime                                   spoken_languages    status  \\\n",
              "0    162.0  [{\"iso_639_1\": \"en\", \"name\": \"English\"}, {\"iso...  Released   \n",
              "\n",
              "                       tagline   title  vote_average  vote_count  \n",
              "0  Enter the World of Pandora.  Avatar           7.2       11800  "
            ],
            "text/html": [
              "\n",
              "  <div id=\"df-1af111ed-4bb3-47f4-93e9-f582707f082a\">\n",
              "    <div class=\"colab-df-container\">\n",
              "      <div>\n",
              "<style scoped>\n",
              "    .dataframe tbody tr th:only-of-type {\n",
              "        vertical-align: middle;\n",
              "    }\n",
              "\n",
              "    .dataframe tbody tr th {\n",
              "        vertical-align: top;\n",
              "    }\n",
              "\n",
              "    .dataframe thead th {\n",
              "        text-align: right;\n",
              "    }\n",
              "</style>\n",
              "<table border=\"1\" class=\"dataframe\">\n",
              "  <thead>\n",
              "    <tr style=\"text-align: right;\">\n",
              "      <th></th>\n",
              "      <th>budget</th>\n",
              "      <th>genres</th>\n",
              "      <th>homepage</th>\n",
              "      <th>id</th>\n",
              "      <th>keywords</th>\n",
              "      <th>original_language</th>\n",
              "      <th>original_title</th>\n",
              "      <th>overview</th>\n",
              "      <th>popularity</th>\n",
              "      <th>production_companies</th>\n",
              "      <th>production_countries</th>\n",
              "      <th>release_date</th>\n",
              "      <th>revenue</th>\n",
              "      <th>runtime</th>\n",
              "      <th>spoken_languages</th>\n",
              "      <th>status</th>\n",
              "      <th>tagline</th>\n",
              "      <th>title</th>\n",
              "      <th>vote_average</th>\n",
              "      <th>vote_count</th>\n",
              "    </tr>\n",
              "  </thead>\n",
              "  <tbody>\n",
              "    <tr>\n",
              "      <th>0</th>\n",
              "      <td>237000000</td>\n",
              "      <td>[{\"id\": 28, \"name\": \"Action\"}, {\"id\": 12, \"nam...</td>\n",
              "      <td>http://www.avatarmovie.com/</td>\n",
              "      <td>19995</td>\n",
              "      <td>[{\"id\": 1463, \"name\": \"culture clash\"}, {\"id\":...</td>\n",
              "      <td>en</td>\n",
              "      <td>Avatar</td>\n",
              "      <td>In the 22nd century, a paraplegic Marine is di...</td>\n",
              "      <td>150.437577</td>\n",
              "      <td>[{\"name\": \"Ingenious Film Partners\", \"id\": 289...</td>\n",
              "      <td>[{\"iso_3166_1\": \"US\", \"name\": \"United States o...</td>\n",
              "      <td>2009-12-10</td>\n",
              "      <td>2787965087</td>\n",
              "      <td>162.0</td>\n",
              "      <td>[{\"iso_639_1\": \"en\", \"name\": \"English\"}, {\"iso...</td>\n",
              "      <td>Released</td>\n",
              "      <td>Enter the World of Pandora.</td>\n",
              "      <td>Avatar</td>\n",
              "      <td>7.2</td>\n",
              "      <td>11800</td>\n",
              "    </tr>\n",
              "  </tbody>\n",
              "</table>\n",
              "</div>\n",
              "      <button class=\"colab-df-convert\" onclick=\"convertToInteractive('df-1af111ed-4bb3-47f4-93e9-f582707f082a')\"\n",
              "              title=\"Convert this dataframe to an interactive table.\"\n",
              "              style=\"display:none;\">\n",
              "        \n",
              "  <svg xmlns=\"http://www.w3.org/2000/svg\" height=\"24px\"viewBox=\"0 0 24 24\"\n",
              "       width=\"24px\">\n",
              "    <path d=\"M0 0h24v24H0V0z\" fill=\"none\"/>\n",
              "    <path d=\"M18.56 5.44l.94 2.06.94-2.06 2.06-.94-2.06-.94-.94-2.06-.94 2.06-2.06.94zm-11 1L8.5 8.5l.94-2.06 2.06-.94-2.06-.94L8.5 2.5l-.94 2.06-2.06.94zm10 10l.94 2.06.94-2.06 2.06-.94-2.06-.94-.94-2.06-.94 2.06-2.06.94z\"/><path d=\"M17.41 7.96l-1.37-1.37c-.4-.4-.92-.59-1.43-.59-.52 0-1.04.2-1.43.59L10.3 9.45l-7.72 7.72c-.78.78-.78 2.05 0 2.83L4 21.41c.39.39.9.59 1.41.59.51 0 1.02-.2 1.41-.59l7.78-7.78 2.81-2.81c.8-.78.8-2.07 0-2.86zM5.41 20L4 18.59l7.72-7.72 1.47 1.35L5.41 20z\"/>\n",
              "  </svg>\n",
              "      </button>\n",
              "      \n",
              "  <style>\n",
              "    .colab-df-container {\n",
              "      display:flex;\n",
              "      flex-wrap:wrap;\n",
              "      gap: 12px;\n",
              "    }\n",
              "\n",
              "    .colab-df-convert {\n",
              "      background-color: #E8F0FE;\n",
              "      border: none;\n",
              "      border-radius: 50%;\n",
              "      cursor: pointer;\n",
              "      display: none;\n",
              "      fill: #1967D2;\n",
              "      height: 32px;\n",
              "      padding: 0 0 0 0;\n",
              "      width: 32px;\n",
              "    }\n",
              "\n",
              "    .colab-df-convert:hover {\n",
              "      background-color: #E2EBFA;\n",
              "      box-shadow: 0px 1px 2px rgba(60, 64, 67, 0.3), 0px 1px 3px 1px rgba(60, 64, 67, 0.15);\n",
              "      fill: #174EA6;\n",
              "    }\n",
              "\n",
              "    [theme=dark] .colab-df-convert {\n",
              "      background-color: #3B4455;\n",
              "      fill: #D2E3FC;\n",
              "    }\n",
              "\n",
              "    [theme=dark] .colab-df-convert:hover {\n",
              "      background-color: #434B5C;\n",
              "      box-shadow: 0px 1px 3px 1px rgba(0, 0, 0, 0.15);\n",
              "      filter: drop-shadow(0px 1px 2px rgba(0, 0, 0, 0.3));\n",
              "      fill: #FFFFFF;\n",
              "    }\n",
              "  </style>\n",
              "\n",
              "      <script>\n",
              "        const buttonEl =\n",
              "          document.querySelector('#df-1af111ed-4bb3-47f4-93e9-f582707f082a button.colab-df-convert');\n",
              "        buttonEl.style.display =\n",
              "          google.colab.kernel.accessAllowed ? 'block' : 'none';\n",
              "\n",
              "        async function convertToInteractive(key) {\n",
              "          const element = document.querySelector('#df-1af111ed-4bb3-47f4-93e9-f582707f082a');\n",
              "          const dataTable =\n",
              "            await google.colab.kernel.invokeFunction('convertToInteractive',\n",
              "                                                     [key], {});\n",
              "          if (!dataTable) return;\n",
              "\n",
              "          const docLinkHtml = 'Like what you see? Visit the ' +\n",
              "            '<a target=\"_blank\" href=https://colab.research.google.com/notebooks/data_table.ipynb>data table notebook</a>'\n",
              "            + ' to learn more about interactive tables.';\n",
              "          element.innerHTML = '';\n",
              "          dataTable['output_type'] = 'display_data';\n",
              "          await google.colab.output.renderOutput(dataTable, element);\n",
              "          const docLink = document.createElement('div');\n",
              "          docLink.innerHTML = docLinkHtml;\n",
              "          element.appendChild(docLink);\n",
              "        }\n",
              "      </script>\n",
              "    </div>\n",
              "  </div>\n",
              "  "
            ]
          },
          "metadata": {},
          "execution_count": 2
        }
      ],
      "source": [
        "import pandas as pd\n",
        "import numpy as np\n",
        "import warnings; warnings.filterwarnings('ignore')\n",
        "\n",
        "movies = pd.read_csv('/content/tmdb_5000_movies.csv')\n",
        "print(movies.shape)\n",
        "movies.head(1)"
      ]
    },
    {
      "cell_type": "markdown",
      "source": [
        "  - 영화 제목, 개요, 인기도, 평점 등 영화에 대한 다양한 메타 정보를 가지고 있다.\n",
        "  - 이 중 콘텐츠 기반 필터링 추천 분석에 사용할 `주요 칼럼만 추출`해 새롭게 DataFrame으로 만들어 보자.\n",
        "    - 주요 칼럼은 `id`, 영화제목 `title`, 영화 장르 `genres`, 평균 평점인 `vote_average`, 평점 투표 수인 `vote_count`, 영화의 인기도인 `popularity`, 영화를 설명하는 주요 키워드인 `keywords`, 영화에 대한 개요 설명인 `overview`이다."
      ],
      "metadata": {
        "id": "tmWQZXiBC0_I"
      }
    },
    {
      "cell_type": "code",
      "source": [
        "movies_df = movies[['id', 'title', 'genres', 'vote_average', 'vote_count', \n",
        "                    'popularity', 'keywords', 'overview']]"
      ],
      "metadata": {
        "id": "eKQqHMQfDOZh"
      },
      "execution_count": 3,
      "outputs": []
    },
    {
      "cell_type": "markdown",
      "source": [
        "  - genres, keywords 등과 같은 칼럼을 보면 파이썬 리스트 내부어 여러 개의 딕셔너리가 있는 형태의 문자열로 표기되어 있다. 이는 한꺼번에 여러 개의 값을 표현하기 위한 표기 방식이다.\n",
        "  - 해당 칼럼들이 DataFrame으로 만들어질 때 단순히 문자열 형태로 로딩되므로, 이 칼럼을 가공하지 않고는 필요한 정보를 추출할 수가 없다. \n",
        "  - 따라서 해당 칼럼들이 어떤 형태로 되어 있는지 확인해 보자."
      ],
      "metadata": {
        "id": "ch-If78hDdIJ"
      }
    },
    {
      "cell_type": "code",
      "source": [
        "pd.set_option('max_colwidth', 100)\n",
        "movies_df[['genres', 'keywords']][:1]"
      ],
      "metadata": {
        "colab": {
          "base_uri": "https://localhost:8080/",
          "height": 159
        },
        "id": "MCP7Wf9KDuBB",
        "outputId": "18a3d678-7e69-4310-d1b9-9ca1f0f2f775"
      },
      "execution_count": 4,
      "outputs": [
        {
          "output_type": "execute_result",
          "data": {
            "text/plain": [
              "                                                                                                genres  \\\n",
              "0  [{\"id\": 28, \"name\": \"Action\"}, {\"id\": 12, \"name\": \"Adventure\"}, {\"id\": 14, \"name\": \"Fantasy\"}, {...   \n",
              "\n",
              "                                                                                              keywords  \n",
              "0  [{\"id\": 1463, \"name\": \"culture clash\"}, {\"id\": 2964, \"name\": \"future\"}, {\"id\": 3386, \"name\": \"sp...  "
            ],
            "text/html": [
              "\n",
              "  <div id=\"df-50418ff3-b184-4586-b718-d50899c13894\">\n",
              "    <div class=\"colab-df-container\">\n",
              "      <div>\n",
              "<style scoped>\n",
              "    .dataframe tbody tr th:only-of-type {\n",
              "        vertical-align: middle;\n",
              "    }\n",
              "\n",
              "    .dataframe tbody tr th {\n",
              "        vertical-align: top;\n",
              "    }\n",
              "\n",
              "    .dataframe thead th {\n",
              "        text-align: right;\n",
              "    }\n",
              "</style>\n",
              "<table border=\"1\" class=\"dataframe\">\n",
              "  <thead>\n",
              "    <tr style=\"text-align: right;\">\n",
              "      <th></th>\n",
              "      <th>genres</th>\n",
              "      <th>keywords</th>\n",
              "    </tr>\n",
              "  </thead>\n",
              "  <tbody>\n",
              "    <tr>\n",
              "      <th>0</th>\n",
              "      <td>[{\"id\": 28, \"name\": \"Action\"}, {\"id\": 12, \"name\": \"Adventure\"}, {\"id\": 14, \"name\": \"Fantasy\"}, {...</td>\n",
              "      <td>[{\"id\": 1463, \"name\": \"culture clash\"}, {\"id\": 2964, \"name\": \"future\"}, {\"id\": 3386, \"name\": \"sp...</td>\n",
              "    </tr>\n",
              "  </tbody>\n",
              "</table>\n",
              "</div>\n",
              "      <button class=\"colab-df-convert\" onclick=\"convertToInteractive('df-50418ff3-b184-4586-b718-d50899c13894')\"\n",
              "              title=\"Convert this dataframe to an interactive table.\"\n",
              "              style=\"display:none;\">\n",
              "        \n",
              "  <svg xmlns=\"http://www.w3.org/2000/svg\" height=\"24px\"viewBox=\"0 0 24 24\"\n",
              "       width=\"24px\">\n",
              "    <path d=\"M0 0h24v24H0V0z\" fill=\"none\"/>\n",
              "    <path d=\"M18.56 5.44l.94 2.06.94-2.06 2.06-.94-2.06-.94-.94-2.06-.94 2.06-2.06.94zm-11 1L8.5 8.5l.94-2.06 2.06-.94-2.06-.94L8.5 2.5l-.94 2.06-2.06.94zm10 10l.94 2.06.94-2.06 2.06-.94-2.06-.94-.94-2.06-.94 2.06-2.06.94z\"/><path d=\"M17.41 7.96l-1.37-1.37c-.4-.4-.92-.59-1.43-.59-.52 0-1.04.2-1.43.59L10.3 9.45l-7.72 7.72c-.78.78-.78 2.05 0 2.83L4 21.41c.39.39.9.59 1.41.59.51 0 1.02-.2 1.41-.59l7.78-7.78 2.81-2.81c.8-.78.8-2.07 0-2.86zM5.41 20L4 18.59l7.72-7.72 1.47 1.35L5.41 20z\"/>\n",
              "  </svg>\n",
              "      </button>\n",
              "      \n",
              "  <style>\n",
              "    .colab-df-container {\n",
              "      display:flex;\n",
              "      flex-wrap:wrap;\n",
              "      gap: 12px;\n",
              "    }\n",
              "\n",
              "    .colab-df-convert {\n",
              "      background-color: #E8F0FE;\n",
              "      border: none;\n",
              "      border-radius: 50%;\n",
              "      cursor: pointer;\n",
              "      display: none;\n",
              "      fill: #1967D2;\n",
              "      height: 32px;\n",
              "      padding: 0 0 0 0;\n",
              "      width: 32px;\n",
              "    }\n",
              "\n",
              "    .colab-df-convert:hover {\n",
              "      background-color: #E2EBFA;\n",
              "      box-shadow: 0px 1px 2px rgba(60, 64, 67, 0.3), 0px 1px 3px 1px rgba(60, 64, 67, 0.15);\n",
              "      fill: #174EA6;\n",
              "    }\n",
              "\n",
              "    [theme=dark] .colab-df-convert {\n",
              "      background-color: #3B4455;\n",
              "      fill: #D2E3FC;\n",
              "    }\n",
              "\n",
              "    [theme=dark] .colab-df-convert:hover {\n",
              "      background-color: #434B5C;\n",
              "      box-shadow: 0px 1px 3px 1px rgba(0, 0, 0, 0.15);\n",
              "      filter: drop-shadow(0px 1px 2px rgba(0, 0, 0, 0.3));\n",
              "      fill: #FFFFFF;\n",
              "    }\n",
              "  </style>\n",
              "\n",
              "      <script>\n",
              "        const buttonEl =\n",
              "          document.querySelector('#df-50418ff3-b184-4586-b718-d50899c13894 button.colab-df-convert');\n",
              "        buttonEl.style.display =\n",
              "          google.colab.kernel.accessAllowed ? 'block' : 'none';\n",
              "\n",
              "        async function convertToInteractive(key) {\n",
              "          const element = document.querySelector('#df-50418ff3-b184-4586-b718-d50899c13894');\n",
              "          const dataTable =\n",
              "            await google.colab.kernel.invokeFunction('convertToInteractive',\n",
              "                                                     [key], {});\n",
              "          if (!dataTable) return;\n",
              "\n",
              "          const docLinkHtml = 'Like what you see? Visit the ' +\n",
              "            '<a target=\"_blank\" href=https://colab.research.google.com/notebooks/data_table.ipynb>data table notebook</a>'\n",
              "            + ' to learn more about interactive tables.';\n",
              "          element.innerHTML = '';\n",
              "          dataTable['output_type'] = 'display_data';\n",
              "          await google.colab.output.renderOutput(dataTable, element);\n",
              "          const docLink = document.createElement('div');\n",
              "          docLink.innerHTML = docLinkHtml;\n",
              "          element.appendChild(docLink);\n",
              "        }\n",
              "      </script>\n",
              "    </div>\n",
              "  </div>\n",
              "  "
            ]
          },
          "metadata": {},
          "execution_count": 4
        }
      ]
    },
    {
      "cell_type": "markdown",
      "source": [
        "  - 위와 같이 genres 칼럼은 여러 개의 개별 장르 데이터를 가지고 있고, 이 개별 장르의 명칭은 딕셔너리의 키인 'name'으로 추출할 수 있다.\n",
        "  - genres 칼럼의 문자열을 분해해서 개별 장르를 파이썬 리스트 객체로 추출해보자.\n",
        "  - 파이썬 `ast 모듈`의 `literal_eval()` 함수를 이용하면 이 문자열을 `문자열이 의미하는 list[dict1, dict2]` 객체로 만들 수 있다."
      ],
      "metadata": {
        "id": "wF3YHzXcD0cx"
      }
    },
    {
      "cell_type": "code",
      "source": [
        "from ast import literal_eval\n",
        "movies_df['genres'] = movies_df['genres'].apply(literal_eval)\n",
        "movies_df['keywords'] = movies_df['keywords'].apply(literal_eval)"
      ],
      "metadata": {
        "id": "LlkUW77YEU2n"
      },
      "execution_count": 5,
      "outputs": []
    },
    {
      "cell_type": "markdown",
      "source": [
        "  - 이제 `genres 칼럼`에서 ['Action', 'Adventure']와 같은 `장르명만 리스트 객체로 추출`해보자."
      ],
      "metadata": {
        "id": "UwcdF9qzEgqp"
      }
    },
    {
      "cell_type": "code",
      "source": [
        "movies_df['genres'] = movies_df['genres'].apply(lambda x : [ y['name'] for y in x])\n",
        "movies_df['keywords'] = movies_df['keywords'].apply(lambda x : [ y['name'] for y in x])\n",
        "movies_df[['genres', 'keywords']][:1]"
      ],
      "metadata": {
        "colab": {
          "base_uri": "https://localhost:8080/",
          "height": 142
        },
        "id": "lLofeC59ExU5",
        "outputId": "dd261792-01f1-4483-c402-6644f669974e"
      },
      "execution_count": 6,
      "outputs": [
        {
          "output_type": "execute_result",
          "data": {
            "text/plain": [
              "                                          genres  \\\n",
              "0  [Action, Adventure, Fantasy, Science Fiction]   \n",
              "\n",
              "                                                                                              keywords  \n",
              "0  [culture clash, future, space war, space colony, society, space travel, futuristic, romance, spa...  "
            ],
            "text/html": [
              "\n",
              "  <div id=\"df-4cd49ed7-6439-47d2-a5d7-2f5ad31f56be\">\n",
              "    <div class=\"colab-df-container\">\n",
              "      <div>\n",
              "<style scoped>\n",
              "    .dataframe tbody tr th:only-of-type {\n",
              "        vertical-align: middle;\n",
              "    }\n",
              "\n",
              "    .dataframe tbody tr th {\n",
              "        vertical-align: top;\n",
              "    }\n",
              "\n",
              "    .dataframe thead th {\n",
              "        text-align: right;\n",
              "    }\n",
              "</style>\n",
              "<table border=\"1\" class=\"dataframe\">\n",
              "  <thead>\n",
              "    <tr style=\"text-align: right;\">\n",
              "      <th></th>\n",
              "      <th>genres</th>\n",
              "      <th>keywords</th>\n",
              "    </tr>\n",
              "  </thead>\n",
              "  <tbody>\n",
              "    <tr>\n",
              "      <th>0</th>\n",
              "      <td>[Action, Adventure, Fantasy, Science Fiction]</td>\n",
              "      <td>[culture clash, future, space war, space colony, society, space travel, futuristic, romance, spa...</td>\n",
              "    </tr>\n",
              "  </tbody>\n",
              "</table>\n",
              "</div>\n",
              "      <button class=\"colab-df-convert\" onclick=\"convertToInteractive('df-4cd49ed7-6439-47d2-a5d7-2f5ad31f56be')\"\n",
              "              title=\"Convert this dataframe to an interactive table.\"\n",
              "              style=\"display:none;\">\n",
              "        \n",
              "  <svg xmlns=\"http://www.w3.org/2000/svg\" height=\"24px\"viewBox=\"0 0 24 24\"\n",
              "       width=\"24px\">\n",
              "    <path d=\"M0 0h24v24H0V0z\" fill=\"none\"/>\n",
              "    <path d=\"M18.56 5.44l.94 2.06.94-2.06 2.06-.94-2.06-.94-.94-2.06-.94 2.06-2.06.94zm-11 1L8.5 8.5l.94-2.06 2.06-.94-2.06-.94L8.5 2.5l-.94 2.06-2.06.94zm10 10l.94 2.06.94-2.06 2.06-.94-2.06-.94-.94-2.06-.94 2.06-2.06.94z\"/><path d=\"M17.41 7.96l-1.37-1.37c-.4-.4-.92-.59-1.43-.59-.52 0-1.04.2-1.43.59L10.3 9.45l-7.72 7.72c-.78.78-.78 2.05 0 2.83L4 21.41c.39.39.9.59 1.41.59.51 0 1.02-.2 1.41-.59l7.78-7.78 2.81-2.81c.8-.78.8-2.07 0-2.86zM5.41 20L4 18.59l7.72-7.72 1.47 1.35L5.41 20z\"/>\n",
              "  </svg>\n",
              "      </button>\n",
              "      \n",
              "  <style>\n",
              "    .colab-df-container {\n",
              "      display:flex;\n",
              "      flex-wrap:wrap;\n",
              "      gap: 12px;\n",
              "    }\n",
              "\n",
              "    .colab-df-convert {\n",
              "      background-color: #E8F0FE;\n",
              "      border: none;\n",
              "      border-radius: 50%;\n",
              "      cursor: pointer;\n",
              "      display: none;\n",
              "      fill: #1967D2;\n",
              "      height: 32px;\n",
              "      padding: 0 0 0 0;\n",
              "      width: 32px;\n",
              "    }\n",
              "\n",
              "    .colab-df-convert:hover {\n",
              "      background-color: #E2EBFA;\n",
              "      box-shadow: 0px 1px 2px rgba(60, 64, 67, 0.3), 0px 1px 3px 1px rgba(60, 64, 67, 0.15);\n",
              "      fill: #174EA6;\n",
              "    }\n",
              "\n",
              "    [theme=dark] .colab-df-convert {\n",
              "      background-color: #3B4455;\n",
              "      fill: #D2E3FC;\n",
              "    }\n",
              "\n",
              "    [theme=dark] .colab-df-convert:hover {\n",
              "      background-color: #434B5C;\n",
              "      box-shadow: 0px 1px 3px 1px rgba(0, 0, 0, 0.15);\n",
              "      filter: drop-shadow(0px 1px 2px rgba(0, 0, 0, 0.3));\n",
              "      fill: #FFFFFF;\n",
              "    }\n",
              "  </style>\n",
              "\n",
              "      <script>\n",
              "        const buttonEl =\n",
              "          document.querySelector('#df-4cd49ed7-6439-47d2-a5d7-2f5ad31f56be button.colab-df-convert');\n",
              "        buttonEl.style.display =\n",
              "          google.colab.kernel.accessAllowed ? 'block' : 'none';\n",
              "\n",
              "        async function convertToInteractive(key) {\n",
              "          const element = document.querySelector('#df-4cd49ed7-6439-47d2-a5d7-2f5ad31f56be');\n",
              "          const dataTable =\n",
              "            await google.colab.kernel.invokeFunction('convertToInteractive',\n",
              "                                                     [key], {});\n",
              "          if (!dataTable) return;\n",
              "\n",
              "          const docLinkHtml = 'Like what you see? Visit the ' +\n",
              "            '<a target=\"_blank\" href=https://colab.research.google.com/notebooks/data_table.ipynb>data table notebook</a>'\n",
              "            + ' to learn more about interactive tables.';\n",
              "          element.innerHTML = '';\n",
              "          dataTable['output_type'] = 'display_data';\n",
              "          await google.colab.output.renderOutput(dataTable, element);\n",
              "          const docLink = document.createElement('div');\n",
              "          docLink.innerHTML = docLinkHtml;\n",
              "          element.appendChild(docLink);\n",
              "        }\n",
              "      </script>\n",
              "    </div>\n",
              "  </div>\n",
              "  "
            ]
          },
          "metadata": {},
          "execution_count": 6
        }
      ]
    },
    {
      "cell_type": "markdown",
      "source": [
        "---"
      ],
      "metadata": {
        "id": "Ij6BnrnuBCgt"
      }
    },
    {
      "cell_type": "markdown",
      "source": [
        "### **9.5.3 장르 콘텐츠 유사도 측정**\n",
        "  - `장르별 유사도를 측정`하는 방법\n",
        "    - `genres를 문자열로 변경`한 뒤, 이를 `CountVectorizer로 피처 벡터화한 행렬 데이터` 값을 `코사인 유사도로 비교`하는 것\n",
        "\n",
        "  - genres 칼럼을 기반으로 한 콘텐츠 기반 필터링 구현 단계\n",
        "    1. 문자열로 변환된 genres 칼럼을 Count 기반으로 피처 벡터화 변환한다.\n",
        "    2. genres 문자열을 피처 벡터화 행렬로 변환한 데이터 세트를 코사인 유사도를 통해 비교한다. 이를 위해 데이터 세트의 레코드별로 타 레코드와 장르에서 코사인 유사도 값을 가지는 객체를 생성한다.\n",
        "    3. 장르 유사도가 높은 영화 중에 평점이 높은 순으로 영화를 추천한다."
      ],
      "metadata": {
        "id": "iZRsLd-H3i7o"
      }
    },
    {
      "cell_type": "markdown",
      "source": [
        "  - 먼저 `genres 칼럼을 문자열로 변환`한 뒤, 사이킷런의 `CountVectorizer를 이용해 피처 벡터 행렬`로 만든다.\n",
        "  \n",
        "  - 리스트 객체 값으로 구성된 genres 칼럼을 `apply(lambda x : (' ').join(x))를 적용`해 `개별 요소를 공백 문자로 구분하는 문자열로 변환`해 별도의 칼럼인 genres_listeral 칼럼으로 저장한다."
      ],
      "metadata": {
        "id": "m8ED-JflFmgd"
      }
    },
    {
      "cell_type": "code",
      "source": [
        "from sklearn.feature_extraction.text import CountVectorizer\n",
        "\n",
        "# CountVectorizer를 적용하기 위해 공백문자로 word 단위가 구분되는 문자열로 변환\n",
        "movies_df['genres_literal'] = movies_df['genres'].apply(lambda x : (' ').join(x))\n",
        "count_vect = CountVectorizer(min_df = 0, ngram_range = (1, 2))\n",
        "genre_mat = count_vect.fit_transform(movies_df['genres_literal'])\n",
        "print(genre_mat.shape)"
      ],
      "metadata": {
        "colab": {
          "base_uri": "https://localhost:8080/"
        },
        "id": "FoMbuU6N3mNL",
        "outputId": "fbf026e5-4cf0-443d-8f8a-455beecec517"
      },
      "execution_count": 7,
      "outputs": [
        {
          "output_type": "stream",
          "name": "stdout",
          "text": [
            "(4803, 276)\n"
          ]
        }
      ]
    },
    {
      "cell_type": "markdown",
      "source": [
        "  - CountVectorizer로 변환해 4803개의 레코드와 276개의 개별 단어 피처로 구성된 피처 벡터 행렬이 만들어졌다.\n",
        "  \n",
        "  - 이렇게 생성된 피처 벡터 행렬에 사이킷런의 `cosine_similarity()`를 이용해 `코사인 유사도를 계산`한다."
      ],
      "metadata": {
        "id": "WqXLPsbaGRxK"
      }
    },
    {
      "cell_type": "code",
      "source": [
        "from sklearn.metrics.pairwise import cosine_similarity\n",
        "\n",
        "genre_sim = cosine_similarity(genre_mat, genre_mat)\n",
        "print(genre_sim.shape)\n",
        "print(genre_sim[:1])"
      ],
      "metadata": {
        "colab": {
          "base_uri": "https://localhost:8080/"
        },
        "id": "RvPVZ_Emo-Dt",
        "outputId": "67cb8fad-5101-44ab-bb2f-3e04fbbb26d0"
      },
      "execution_count": 8,
      "outputs": [
        {
          "output_type": "stream",
          "name": "stdout",
          "text": [
            "(4803, 4803)\n",
            "[[1.         0.59628479 0.4472136  ... 0.         0.         0.        ]]\n"
          ]
        }
      ]
    },
    {
      "cell_type": "markdown",
      "source": [
        "  - movies_df를 장르 기준으로 콘텐츠 기반 필터링을 수행하려면 movies_df의 개별 레코드에 대해서 `가장 장르 유사도가 높은 순으로 다른 레코드를 추출`해야 하는데, 이를 위해 앞에서 생성한 genre_sim 객체를 이용한다.\n",
        "  - `genre_sim 객체의 기준 행별`로 `비교 대상이 되는 행의 유사도 값이 높은 순으로 정렬`된 행렬의 `위치 인덱스 값`을 추출한다. \n",
        "    - `argsort()[:, ::-1]`을 이용하면 유사도가 높은 순으로 정리된 genre_sim 객체의 비교 행 위치 인덱스 값을 간편하게 얻을 수 있다."
      ],
      "metadata": {
        "id": "7kKdQis_pmn8"
      }
    },
    {
      "cell_type": "code",
      "source": [
        "genre_sim_sorted_ind = genre_sim.argsort()[:, ::-1]\n",
        "print(genre_sim_sorted_ind[:1])"
      ],
      "metadata": {
        "colab": {
          "base_uri": "https://localhost:8080/"
        },
        "id": "eGACddd2qGvC",
        "outputId": "7a0a3c4f-386b-4687-ef06-eea30bc78f1b"
      },
      "execution_count": 9,
      "outputs": [
        {
          "output_type": "stream",
          "name": "stdout",
          "text": [
            "[[   0 3494  813 ... 3038 3037 2401]]\n"
          ]
        }
      ]
    },
    {
      "cell_type": "markdown",
      "source": [
        "  - 0번 레코드의 경우, 자신인 0번 레코드를 제외하면 3494번 레코드가 가장 유사도가 높고, 그 다음이 813번 레코드이며, 가장 유사도가 낮은 레코드는 2401번 레코드라는 뜻이다."
      ],
      "metadata": {
        "id": "S_p4R2iIqjOO"
      }
    },
    {
      "cell_type": "markdown",
      "source": [
        "---"
      ],
      "metadata": {
        "id": "gy5m2FmsBDZt"
      }
    },
    {
      "cell_type": "markdown",
      "source": [
        "### **9.5.4 장르 콘텐츠 필터링을 이용한 영화 추천**\n",
        "  - 이제 `장르 유사도에 따라 영화를 추천하는 함수`를 생성해보자.\n"
      ],
      "metadata": {
        "id": "nlqf85eY3nbu"
      }
    },
    {
      "cell_type": "code",
      "source": [
        "def find_sim_movie(df, sorted_ind, title_name, top_n = 10):\n",
        "  # 인자로 입력된 movies_df DataFrame에서 'title' 칼럼이 입력된 title_name 값인 DataFrame 추출\n",
        "  title_movie = df[df['title'] == title_name]\n",
        "\n",
        "  # title_named을 가진 DataFrame의 index 객체를 ndarray로 반환하고\n",
        "  # sorted_ind 인자로 입력된 genre_sim_sorted_ind 객체에서 유사도 순으로 top_n개의 index 추출\n",
        "  title_index = title_movie.index.values\n",
        "  similar_indexes = sorted_ind[title_index, :(top_n)]\n",
        "\n",
        "  # 추출된 top_n index 출력, top_n index는 2차원 데이터\n",
        "  # DataFrame에서 index로 사용하기 위해서 1차원 array로 변경\n",
        "  print(similar_indexes)\n",
        "  similar_indexes = similar_indexes.reshape(-1)\n",
        "\n",
        "  return df.iloc[similar_indexes]"
      ],
      "metadata": {
        "id": "Jw4XA4AB3qO4"
      },
      "execution_count": 10,
      "outputs": []
    },
    {
      "cell_type": "markdown",
      "source": [
        "  - `find_sim_movie()` 함수를 이용해 영화 `'대부'와 장르별로 유사한 영화 10개`를 추천해 보자."
      ],
      "metadata": {
        "id": "_LjPCl2QrbBu"
      }
    },
    {
      "cell_type": "code",
      "source": [
        "similar_movies = find_sim_movie(movies_df, genre_sim_sorted_ind, 'The Godfather', 10)\n",
        "similar_movies[['title', 'vote_average']]"
      ],
      "metadata": {
        "colab": {
          "base_uri": "https://localhost:8080/",
          "height": 381
        },
        "id": "5xVDY5TSrZ1K",
        "outputId": "a8aee31f-f32e-4bf8-e31d-d9b2276e9543"
      },
      "execution_count": 11,
      "outputs": [
        {
          "output_type": "stream",
          "name": "stdout",
          "text": [
            "[[2731 1243 3636 1946 2640 4065 1847 4217  883 3866]]\n"
          ]
        },
        {
          "output_type": "execute_result",
          "data": {
            "text/plain": [
              "                                               title  vote_average\n",
              "2731                          The Godfather: Part II           8.3\n",
              "1243                                    Mean Streets           7.2\n",
              "3636                                   Light Sleeper           5.7\n",
              "1946  The Bad Lieutenant: Port of Call - New Orleans           6.0\n",
              "2640         Things to Do in Denver When You're Dead           6.7\n",
              "4065                                      Mi America           0.0\n",
              "1847                                      GoodFellas           8.2\n",
              "4217                                            Kids           6.8\n",
              "883                              Catch Me If You Can           7.7\n",
              "3866                                     City of God           8.1"
            ],
            "text/html": [
              "\n",
              "  <div id=\"df-2df52b93-009d-49ec-9717-d60c9a3a15fd\">\n",
              "    <div class=\"colab-df-container\">\n",
              "      <div>\n",
              "<style scoped>\n",
              "    .dataframe tbody tr th:only-of-type {\n",
              "        vertical-align: middle;\n",
              "    }\n",
              "\n",
              "    .dataframe tbody tr th {\n",
              "        vertical-align: top;\n",
              "    }\n",
              "\n",
              "    .dataframe thead th {\n",
              "        text-align: right;\n",
              "    }\n",
              "</style>\n",
              "<table border=\"1\" class=\"dataframe\">\n",
              "  <thead>\n",
              "    <tr style=\"text-align: right;\">\n",
              "      <th></th>\n",
              "      <th>title</th>\n",
              "      <th>vote_average</th>\n",
              "    </tr>\n",
              "  </thead>\n",
              "  <tbody>\n",
              "    <tr>\n",
              "      <th>2731</th>\n",
              "      <td>The Godfather: Part II</td>\n",
              "      <td>8.3</td>\n",
              "    </tr>\n",
              "    <tr>\n",
              "      <th>1243</th>\n",
              "      <td>Mean Streets</td>\n",
              "      <td>7.2</td>\n",
              "    </tr>\n",
              "    <tr>\n",
              "      <th>3636</th>\n",
              "      <td>Light Sleeper</td>\n",
              "      <td>5.7</td>\n",
              "    </tr>\n",
              "    <tr>\n",
              "      <th>1946</th>\n",
              "      <td>The Bad Lieutenant: Port of Call - New Orleans</td>\n",
              "      <td>6.0</td>\n",
              "    </tr>\n",
              "    <tr>\n",
              "      <th>2640</th>\n",
              "      <td>Things to Do in Denver When You're Dead</td>\n",
              "      <td>6.7</td>\n",
              "    </tr>\n",
              "    <tr>\n",
              "      <th>4065</th>\n",
              "      <td>Mi America</td>\n",
              "      <td>0.0</td>\n",
              "    </tr>\n",
              "    <tr>\n",
              "      <th>1847</th>\n",
              "      <td>GoodFellas</td>\n",
              "      <td>8.2</td>\n",
              "    </tr>\n",
              "    <tr>\n",
              "      <th>4217</th>\n",
              "      <td>Kids</td>\n",
              "      <td>6.8</td>\n",
              "    </tr>\n",
              "    <tr>\n",
              "      <th>883</th>\n",
              "      <td>Catch Me If You Can</td>\n",
              "      <td>7.7</td>\n",
              "    </tr>\n",
              "    <tr>\n",
              "      <th>3866</th>\n",
              "      <td>City of God</td>\n",
              "      <td>8.1</td>\n",
              "    </tr>\n",
              "  </tbody>\n",
              "</table>\n",
              "</div>\n",
              "      <button class=\"colab-df-convert\" onclick=\"convertToInteractive('df-2df52b93-009d-49ec-9717-d60c9a3a15fd')\"\n",
              "              title=\"Convert this dataframe to an interactive table.\"\n",
              "              style=\"display:none;\">\n",
              "        \n",
              "  <svg xmlns=\"http://www.w3.org/2000/svg\" height=\"24px\"viewBox=\"0 0 24 24\"\n",
              "       width=\"24px\">\n",
              "    <path d=\"M0 0h24v24H0V0z\" fill=\"none\"/>\n",
              "    <path d=\"M18.56 5.44l.94 2.06.94-2.06 2.06-.94-2.06-.94-.94-2.06-.94 2.06-2.06.94zm-11 1L8.5 8.5l.94-2.06 2.06-.94-2.06-.94L8.5 2.5l-.94 2.06-2.06.94zm10 10l.94 2.06.94-2.06 2.06-.94-2.06-.94-.94-2.06-.94 2.06-2.06.94z\"/><path d=\"M17.41 7.96l-1.37-1.37c-.4-.4-.92-.59-1.43-.59-.52 0-1.04.2-1.43.59L10.3 9.45l-7.72 7.72c-.78.78-.78 2.05 0 2.83L4 21.41c.39.39.9.59 1.41.59.51 0 1.02-.2 1.41-.59l7.78-7.78 2.81-2.81c.8-.78.8-2.07 0-2.86zM5.41 20L4 18.59l7.72-7.72 1.47 1.35L5.41 20z\"/>\n",
              "  </svg>\n",
              "      </button>\n",
              "      \n",
              "  <style>\n",
              "    .colab-df-container {\n",
              "      display:flex;\n",
              "      flex-wrap:wrap;\n",
              "      gap: 12px;\n",
              "    }\n",
              "\n",
              "    .colab-df-convert {\n",
              "      background-color: #E8F0FE;\n",
              "      border: none;\n",
              "      border-radius: 50%;\n",
              "      cursor: pointer;\n",
              "      display: none;\n",
              "      fill: #1967D2;\n",
              "      height: 32px;\n",
              "      padding: 0 0 0 0;\n",
              "      width: 32px;\n",
              "    }\n",
              "\n",
              "    .colab-df-convert:hover {\n",
              "      background-color: #E2EBFA;\n",
              "      box-shadow: 0px 1px 2px rgba(60, 64, 67, 0.3), 0px 1px 3px 1px rgba(60, 64, 67, 0.15);\n",
              "      fill: #174EA6;\n",
              "    }\n",
              "\n",
              "    [theme=dark] .colab-df-convert {\n",
              "      background-color: #3B4455;\n",
              "      fill: #D2E3FC;\n",
              "    }\n",
              "\n",
              "    [theme=dark] .colab-df-convert:hover {\n",
              "      background-color: #434B5C;\n",
              "      box-shadow: 0px 1px 3px 1px rgba(0, 0, 0, 0.15);\n",
              "      filter: drop-shadow(0px 1px 2px rgba(0, 0, 0, 0.3));\n",
              "      fill: #FFFFFF;\n",
              "    }\n",
              "  </style>\n",
              "\n",
              "      <script>\n",
              "        const buttonEl =\n",
              "          document.querySelector('#df-2df52b93-009d-49ec-9717-d60c9a3a15fd button.colab-df-convert');\n",
              "        buttonEl.style.display =\n",
              "          google.colab.kernel.accessAllowed ? 'block' : 'none';\n",
              "\n",
              "        async function convertToInteractive(key) {\n",
              "          const element = document.querySelector('#df-2df52b93-009d-49ec-9717-d60c9a3a15fd');\n",
              "          const dataTable =\n",
              "            await google.colab.kernel.invokeFunction('convertToInteractive',\n",
              "                                                     [key], {});\n",
              "          if (!dataTable) return;\n",
              "\n",
              "          const docLinkHtml = 'Like what you see? Visit the ' +\n",
              "            '<a target=\"_blank\" href=https://colab.research.google.com/notebooks/data_table.ipynb>data table notebook</a>'\n",
              "            + ' to learn more about interactive tables.';\n",
              "          element.innerHTML = '';\n",
              "          dataTable['output_type'] = 'display_data';\n",
              "          await google.colab.output.renderOutput(dataTable, element);\n",
              "          const docLink = document.createElement('div');\n",
              "          docLink.innerHTML = docLinkHtml;\n",
              "          element.appendChild(docLink);\n",
              "        }\n",
              "      </script>\n",
              "    </div>\n",
              "  </div>\n",
              "  "
            ]
          },
          "metadata": {},
          "execution_count": 11
        }
      ]
    },
    {
      "cell_type": "markdown",
      "source": [
        "  - 대부 2편, 좋은 친구들 등 대부를 재미있게 봤다면 추천해야 할 영화도 있지만, 낯선 영화도 많다.\n",
        "  - 라이트 슬리퍼, Mi America, Kids 등 대부를 좋아하는 고객에게 섣불리 추천하기에는 이해하기 어려운 영화도 있다. 따라서 개선이 필요하다."
      ],
      "metadata": {
        "id": "lAndUT2irtBD"
      }
    },
    {
      "cell_type": "markdown",
      "source": [
        "  - 이번에는 더 많은 후보군을 선정한 뒤, `영화의 평점에 따라 필터링해서 최종 추천`하는 방식으로 변경해 보자.\n",
        "  - 이를 위해 vote_average 값을 이용한다.\n",
        "    - vote_average의 경우, 평가에 참여한 관객의 수에 따라 매우 왜곡된 데이터를 가질 수 있으므로 이를 확인하기 위해 `sort_values()`를 이용해 `평점('vote_average')을 오름차순으로 정렬`해서 10개만 출력해보자."
      ],
      "metadata": {
        "id": "pZL98wXur5qj"
      }
    },
    {
      "cell_type": "code",
      "source": [
        "movies_df[['title', 'vote_average', 'vote_count']].sort_values('vote_average', ascending = False)[:10]"
      ],
      "metadata": {
        "colab": {
          "base_uri": "https://localhost:8080/",
          "height": 363
        },
        "id": "TpwJxGCbrmKV",
        "outputId": "26899b3d-e931-4b3e-82df-fed1cda058e4"
      },
      "execution_count": 12,
      "outputs": [
        {
          "output_type": "execute_result",
          "data": {
            "text/plain": [
              "                         title  vote_average  vote_count\n",
              "3519          Stiff Upper Lips          10.0           1\n",
              "4247     Me You and Five Bucks          10.0           2\n",
              "4045     Dancer, Texas Pop. 81          10.0           1\n",
              "4662            Little Big Top          10.0           1\n",
              "3992                 Sardaarji           9.5           2\n",
              "2386            One Man's Hero           9.3           2\n",
              "2970        There Goes My Baby           8.5           2\n",
              "1881  The Shawshank Redemption           8.5        8205\n",
              "2796     The Prisoner of Zenda           8.4          11\n",
              "3337             The Godfather           8.4        5893"
            ],
            "text/html": [
              "\n",
              "  <div id=\"df-bfcefa8f-6055-43d8-b09a-b14bc549404f\">\n",
              "    <div class=\"colab-df-container\">\n",
              "      <div>\n",
              "<style scoped>\n",
              "    .dataframe tbody tr th:only-of-type {\n",
              "        vertical-align: middle;\n",
              "    }\n",
              "\n",
              "    .dataframe tbody tr th {\n",
              "        vertical-align: top;\n",
              "    }\n",
              "\n",
              "    .dataframe thead th {\n",
              "        text-align: right;\n",
              "    }\n",
              "</style>\n",
              "<table border=\"1\" class=\"dataframe\">\n",
              "  <thead>\n",
              "    <tr style=\"text-align: right;\">\n",
              "      <th></th>\n",
              "      <th>title</th>\n",
              "      <th>vote_average</th>\n",
              "      <th>vote_count</th>\n",
              "    </tr>\n",
              "  </thead>\n",
              "  <tbody>\n",
              "    <tr>\n",
              "      <th>3519</th>\n",
              "      <td>Stiff Upper Lips</td>\n",
              "      <td>10.0</td>\n",
              "      <td>1</td>\n",
              "    </tr>\n",
              "    <tr>\n",
              "      <th>4247</th>\n",
              "      <td>Me You and Five Bucks</td>\n",
              "      <td>10.0</td>\n",
              "      <td>2</td>\n",
              "    </tr>\n",
              "    <tr>\n",
              "      <th>4045</th>\n",
              "      <td>Dancer, Texas Pop. 81</td>\n",
              "      <td>10.0</td>\n",
              "      <td>1</td>\n",
              "    </tr>\n",
              "    <tr>\n",
              "      <th>4662</th>\n",
              "      <td>Little Big Top</td>\n",
              "      <td>10.0</td>\n",
              "      <td>1</td>\n",
              "    </tr>\n",
              "    <tr>\n",
              "      <th>3992</th>\n",
              "      <td>Sardaarji</td>\n",
              "      <td>9.5</td>\n",
              "      <td>2</td>\n",
              "    </tr>\n",
              "    <tr>\n",
              "      <th>2386</th>\n",
              "      <td>One Man's Hero</td>\n",
              "      <td>9.3</td>\n",
              "      <td>2</td>\n",
              "    </tr>\n",
              "    <tr>\n",
              "      <th>2970</th>\n",
              "      <td>There Goes My Baby</td>\n",
              "      <td>8.5</td>\n",
              "      <td>2</td>\n",
              "    </tr>\n",
              "    <tr>\n",
              "      <th>1881</th>\n",
              "      <td>The Shawshank Redemption</td>\n",
              "      <td>8.5</td>\n",
              "      <td>8205</td>\n",
              "    </tr>\n",
              "    <tr>\n",
              "      <th>2796</th>\n",
              "      <td>The Prisoner of Zenda</td>\n",
              "      <td>8.4</td>\n",
              "      <td>11</td>\n",
              "    </tr>\n",
              "    <tr>\n",
              "      <th>3337</th>\n",
              "      <td>The Godfather</td>\n",
              "      <td>8.4</td>\n",
              "      <td>5893</td>\n",
              "    </tr>\n",
              "  </tbody>\n",
              "</table>\n",
              "</div>\n",
              "      <button class=\"colab-df-convert\" onclick=\"convertToInteractive('df-bfcefa8f-6055-43d8-b09a-b14bc549404f')\"\n",
              "              title=\"Convert this dataframe to an interactive table.\"\n",
              "              style=\"display:none;\">\n",
              "        \n",
              "  <svg xmlns=\"http://www.w3.org/2000/svg\" height=\"24px\"viewBox=\"0 0 24 24\"\n",
              "       width=\"24px\">\n",
              "    <path d=\"M0 0h24v24H0V0z\" fill=\"none\"/>\n",
              "    <path d=\"M18.56 5.44l.94 2.06.94-2.06 2.06-.94-2.06-.94-.94-2.06-.94 2.06-2.06.94zm-11 1L8.5 8.5l.94-2.06 2.06-.94-2.06-.94L8.5 2.5l-.94 2.06-2.06.94zm10 10l.94 2.06.94-2.06 2.06-.94-2.06-.94-.94-2.06-.94 2.06-2.06.94z\"/><path d=\"M17.41 7.96l-1.37-1.37c-.4-.4-.92-.59-1.43-.59-.52 0-1.04.2-1.43.59L10.3 9.45l-7.72 7.72c-.78.78-.78 2.05 0 2.83L4 21.41c.39.39.9.59 1.41.59.51 0 1.02-.2 1.41-.59l7.78-7.78 2.81-2.81c.8-.78.8-2.07 0-2.86zM5.41 20L4 18.59l7.72-7.72 1.47 1.35L5.41 20z\"/>\n",
              "  </svg>\n",
              "      </button>\n",
              "      \n",
              "  <style>\n",
              "    .colab-df-container {\n",
              "      display:flex;\n",
              "      flex-wrap:wrap;\n",
              "      gap: 12px;\n",
              "    }\n",
              "\n",
              "    .colab-df-convert {\n",
              "      background-color: #E8F0FE;\n",
              "      border: none;\n",
              "      border-radius: 50%;\n",
              "      cursor: pointer;\n",
              "      display: none;\n",
              "      fill: #1967D2;\n",
              "      height: 32px;\n",
              "      padding: 0 0 0 0;\n",
              "      width: 32px;\n",
              "    }\n",
              "\n",
              "    .colab-df-convert:hover {\n",
              "      background-color: #E2EBFA;\n",
              "      box-shadow: 0px 1px 2px rgba(60, 64, 67, 0.3), 0px 1px 3px 1px rgba(60, 64, 67, 0.15);\n",
              "      fill: #174EA6;\n",
              "    }\n",
              "\n",
              "    [theme=dark] .colab-df-convert {\n",
              "      background-color: #3B4455;\n",
              "      fill: #D2E3FC;\n",
              "    }\n",
              "\n",
              "    [theme=dark] .colab-df-convert:hover {\n",
              "      background-color: #434B5C;\n",
              "      box-shadow: 0px 1px 3px 1px rgba(0, 0, 0, 0.15);\n",
              "      filter: drop-shadow(0px 1px 2px rgba(0, 0, 0, 0.3));\n",
              "      fill: #FFFFFF;\n",
              "    }\n",
              "  </style>\n",
              "\n",
              "      <script>\n",
              "        const buttonEl =\n",
              "          document.querySelector('#df-bfcefa8f-6055-43d8-b09a-b14bc549404f button.colab-df-convert');\n",
              "        buttonEl.style.display =\n",
              "          google.colab.kernel.accessAllowed ? 'block' : 'none';\n",
              "\n",
              "        async function convertToInteractive(key) {\n",
              "          const element = document.querySelector('#df-bfcefa8f-6055-43d8-b09a-b14bc549404f');\n",
              "          const dataTable =\n",
              "            await google.colab.kernel.invokeFunction('convertToInteractive',\n",
              "                                                     [key], {});\n",
              "          if (!dataTable) return;\n",
              "\n",
              "          const docLinkHtml = 'Like what you see? Visit the ' +\n",
              "            '<a target=\"_blank\" href=https://colab.research.google.com/notebooks/data_table.ipynb>data table notebook</a>'\n",
              "            + ' to learn more about interactive tables.';\n",
              "          element.innerHTML = '';\n",
              "          dataTable['output_type'] = 'display_data';\n",
              "          await google.colab.output.renderOutput(dataTable, element);\n",
              "          const docLink = document.createElement('div');\n",
              "          docLink.innerHTML = docLinkHtml;\n",
              "          element.appendChild(docLink);\n",
              "        }\n",
              "      </script>\n",
              "    </div>\n",
              "  </div>\n",
              "  "
            ]
          },
          "metadata": {},
          "execution_count": 12
        }
      ]
    },
    {
      "cell_type": "markdown",
      "source": [
        "  - 이렇듯 왜곡된 평점 데이터를 보완할 수 있도록 평점에 평가 횟수를 반영할 수 있는 새로운 평가 방식이 필요하다.\n",
        "  - 이를 위해 IMDB에서는 평가 횟수에 대한 가중치가 부여된 평점 방식을 사용하며, 가중 평점의 공식은 다음과 같다.\n",
        "![1.PNG](data:image/png;base64,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) "
      ],
      "metadata": {
        "id": "zsOZRFMGsiTz"
      }
    },
    {
      "cell_type": "markdown",
      "source": [
        "  - 각 변수의 의미는 다음과 같다.\n",
        "    - v : 개별 영화에 평점을 투표한 횟수(`vote_count`)\n",
        "    - m : 평점을 부여하기 위한 최소 투표 횟수\n",
        "    - R : 개별 영화에 대한 평균 평점(`vote_average`)\n",
        "    - C : 전체 영화에 대한 평균 평점(`vote_average.mean()`)"
      ],
      "metadata": {
        "id": "PB4FfR5ss2hA"
      }
    },
    {
      "cell_type": "code",
      "source": [
        "C = movies_df['vote_average'].mean()\n",
        "m = movies_df['vote_count'].quantile(0.6)\n",
        "print('C :', round(C, 3), 'm :', round(m, 3))"
      ],
      "metadata": {
        "colab": {
          "base_uri": "https://localhost:8080/"
        },
        "id": "36qps_qcsd3Z",
        "outputId": "601ef04f-f73f-4e32-fe07-02b05af746c9"
      },
      "execution_count": 13,
      "outputs": [
        {
          "output_type": "stream",
          "name": "stdout",
          "text": [
            "C : 6.092 m : 370.2\n"
          ]
        }
      ]
    },
    {
      "cell_type": "markdown",
      "source": [
        "  - 이제 기존 평점을 새로운 가중 평점으로 변경하는 함수를 생성하고, 이를 이용해 새로운 평점 정보인 'vote_weighted' 값을 만들어 보자."
      ],
      "metadata": {
        "id": "MNFuRxfutcnO"
      }
    },
    {
      "cell_type": "code",
      "source": [
        "percentile = 0.6\n",
        "m = movies_df['vote_count'].quantile(percentile)\n",
        "C = movies_df['vote_average'].mean()\n",
        "\n",
        "def weighted_vote_average(record):\n",
        "  v = record['vote_count']\n",
        "  R = record['vote_average']\n",
        "\n",
        "  return ( (v/(v+m)) * R ) + ( (m/(m+v)) * C )\n",
        "\n",
        "movies_df['weighted_vote'] = movies_df.apply(weighted_vote_average, axis = 1) "
      ],
      "metadata": {
        "id": "PLh-XvHytY6v"
      },
      "execution_count": 18,
      "outputs": []
    },
    {
      "cell_type": "code",
      "source": [
        "movies_df[['title', 'vote_average', 'weighted_vote', 'vote_count']].sort_values('weighted_vote', ascending = False)[:10]"
      ],
      "metadata": {
        "colab": {
          "base_uri": "https://localhost:8080/",
          "height": 363
        },
        "id": "Dd-0zs_At4ML",
        "outputId": "0f007854-af7b-4aaa-fc19-2e32ace1ce30"
      },
      "execution_count": 19,
      "outputs": [
        {
          "output_type": "execute_result",
          "data": {
            "text/plain": [
              "                         title  vote_average  weighted_vote  vote_count\n",
              "1881  The Shawshank Redemption           8.5       8.396052        8205\n",
              "3337             The Godfather           8.4       8.263591        5893\n",
              "662                 Fight Club           8.3       8.216455        9413\n",
              "3232              Pulp Fiction           8.3       8.207102        8428\n",
              "65             The Dark Knight           8.2       8.136930       12002\n",
              "1818          Schindler's List           8.3       8.126069        4329\n",
              "3865                  Whiplash           8.3       8.123248        4254\n",
              "809               Forrest Gump           8.2       8.105954        7927\n",
              "2294             Spirited Away           8.3       8.105867        3840\n",
              "2731    The Godfather: Part II           8.3       8.079586        3338"
            ],
            "text/html": [
              "\n",
              "  <div id=\"df-786cdde1-0e69-4cbe-a227-2aabfa5e2d89\">\n",
              "    <div class=\"colab-df-container\">\n",
              "      <div>\n",
              "<style scoped>\n",
              "    .dataframe tbody tr th:only-of-type {\n",
              "        vertical-align: middle;\n",
              "    }\n",
              "\n",
              "    .dataframe tbody tr th {\n",
              "        vertical-align: top;\n",
              "    }\n",
              "\n",
              "    .dataframe thead th {\n",
              "        text-align: right;\n",
              "    }\n",
              "</style>\n",
              "<table border=\"1\" class=\"dataframe\">\n",
              "  <thead>\n",
              "    <tr style=\"text-align: right;\">\n",
              "      <th></th>\n",
              "      <th>title</th>\n",
              "      <th>vote_average</th>\n",
              "      <th>weighted_vote</th>\n",
              "      <th>vote_count</th>\n",
              "    </tr>\n",
              "  </thead>\n",
              "  <tbody>\n",
              "    <tr>\n",
              "      <th>1881</th>\n",
              "      <td>The Shawshank Redemption</td>\n",
              "      <td>8.5</td>\n",
              "      <td>8.396052</td>\n",
              "      <td>8205</td>\n",
              "    </tr>\n",
              "    <tr>\n",
              "      <th>3337</th>\n",
              "      <td>The Godfather</td>\n",
              "      <td>8.4</td>\n",
              "      <td>8.263591</td>\n",
              "      <td>5893</td>\n",
              "    </tr>\n",
              "    <tr>\n",
              "      <th>662</th>\n",
              "      <td>Fight Club</td>\n",
              "      <td>8.3</td>\n",
              "      <td>8.216455</td>\n",
              "      <td>9413</td>\n",
              "    </tr>\n",
              "    <tr>\n",
              "      <th>3232</th>\n",
              "      <td>Pulp Fiction</td>\n",
              "      <td>8.3</td>\n",
              "      <td>8.207102</td>\n",
              "      <td>8428</td>\n",
              "    </tr>\n",
              "    <tr>\n",
              "      <th>65</th>\n",
              "      <td>The Dark Knight</td>\n",
              "      <td>8.2</td>\n",
              "      <td>8.136930</td>\n",
              "      <td>12002</td>\n",
              "    </tr>\n",
              "    <tr>\n",
              "      <th>1818</th>\n",
              "      <td>Schindler's List</td>\n",
              "      <td>8.3</td>\n",
              "      <td>8.126069</td>\n",
              "      <td>4329</td>\n",
              "    </tr>\n",
              "    <tr>\n",
              "      <th>3865</th>\n",
              "      <td>Whiplash</td>\n",
              "      <td>8.3</td>\n",
              "      <td>8.123248</td>\n",
              "      <td>4254</td>\n",
              "    </tr>\n",
              "    <tr>\n",
              "      <th>809</th>\n",
              "      <td>Forrest Gump</td>\n",
              "      <td>8.2</td>\n",
              "      <td>8.105954</td>\n",
              "      <td>7927</td>\n",
              "    </tr>\n",
              "    <tr>\n",
              "      <th>2294</th>\n",
              "      <td>Spirited Away</td>\n",
              "      <td>8.3</td>\n",
              "      <td>8.105867</td>\n",
              "      <td>3840</td>\n",
              "    </tr>\n",
              "    <tr>\n",
              "      <th>2731</th>\n",
              "      <td>The Godfather: Part II</td>\n",
              "      <td>8.3</td>\n",
              "      <td>8.079586</td>\n",
              "      <td>3338</td>\n",
              "    </tr>\n",
              "  </tbody>\n",
              "</table>\n",
              "</div>\n",
              "      <button class=\"colab-df-convert\" onclick=\"convertToInteractive('df-786cdde1-0e69-4cbe-a227-2aabfa5e2d89')\"\n",
              "              title=\"Convert this dataframe to an interactive table.\"\n",
              "              style=\"display:none;\">\n",
              "        \n",
              "  <svg xmlns=\"http://www.w3.org/2000/svg\" height=\"24px\"viewBox=\"0 0 24 24\"\n",
              "       width=\"24px\">\n",
              "    <path d=\"M0 0h24v24H0V0z\" fill=\"none\"/>\n",
              "    <path d=\"M18.56 5.44l.94 2.06.94-2.06 2.06-.94-2.06-.94-.94-2.06-.94 2.06-2.06.94zm-11 1L8.5 8.5l.94-2.06 2.06-.94-2.06-.94L8.5 2.5l-.94 2.06-2.06.94zm10 10l.94 2.06.94-2.06 2.06-.94-2.06-.94-.94-2.06-.94 2.06-2.06.94z\"/><path d=\"M17.41 7.96l-1.37-1.37c-.4-.4-.92-.59-1.43-.59-.52 0-1.04.2-1.43.59L10.3 9.45l-7.72 7.72c-.78.78-.78 2.05 0 2.83L4 21.41c.39.39.9.59 1.41.59.51 0 1.02-.2 1.41-.59l7.78-7.78 2.81-2.81c.8-.78.8-2.07 0-2.86zM5.41 20L4 18.59l7.72-7.72 1.47 1.35L5.41 20z\"/>\n",
              "  </svg>\n",
              "      </button>\n",
              "      \n",
              "  <style>\n",
              "    .colab-df-container {\n",
              "      display:flex;\n",
              "      flex-wrap:wrap;\n",
              "      gap: 12px;\n",
              "    }\n",
              "\n",
              "    .colab-df-convert {\n",
              "      background-color: #E8F0FE;\n",
              "      border: none;\n",
              "      border-radius: 50%;\n",
              "      cursor: pointer;\n",
              "      display: none;\n",
              "      fill: #1967D2;\n",
              "      height: 32px;\n",
              "      padding: 0 0 0 0;\n",
              "      width: 32px;\n",
              "    }\n",
              "\n",
              "    .colab-df-convert:hover {\n",
              "      background-color: #E2EBFA;\n",
              "      box-shadow: 0px 1px 2px rgba(60, 64, 67, 0.3), 0px 1px 3px 1px rgba(60, 64, 67, 0.15);\n",
              "      fill: #174EA6;\n",
              "    }\n",
              "\n",
              "    [theme=dark] .colab-df-convert {\n",
              "      background-color: #3B4455;\n",
              "      fill: #D2E3FC;\n",
              "    }\n",
              "\n",
              "    [theme=dark] .colab-df-convert:hover {\n",
              "      background-color: #434B5C;\n",
              "      box-shadow: 0px 1px 3px 1px rgba(0, 0, 0, 0.15);\n",
              "      filter: drop-shadow(0px 1px 2px rgba(0, 0, 0, 0.3));\n",
              "      fill: #FFFFFF;\n",
              "    }\n",
              "  </style>\n",
              "\n",
              "      <script>\n",
              "        const buttonEl =\n",
              "          document.querySelector('#df-786cdde1-0e69-4cbe-a227-2aabfa5e2d89 button.colab-df-convert');\n",
              "        buttonEl.style.display =\n",
              "          google.colab.kernel.accessAllowed ? 'block' : 'none';\n",
              "\n",
              "        async function convertToInteractive(key) {\n",
              "          const element = document.querySelector('#df-786cdde1-0e69-4cbe-a227-2aabfa5e2d89');\n",
              "          const dataTable =\n",
              "            await google.colab.kernel.invokeFunction('convertToInteractive',\n",
              "                                                     [key], {});\n",
              "          if (!dataTable) return;\n",
              "\n",
              "          const docLinkHtml = 'Like what you see? Visit the ' +\n",
              "            '<a target=\"_blank\" href=https://colab.research.google.com/notebooks/data_table.ipynb>data table notebook</a>'\n",
              "            + ' to learn more about interactive tables.';\n",
              "          element.innerHTML = '';\n",
              "          dataTable['output_type'] = 'display_data';\n",
              "          await google.colab.output.renderOutput(dataTable, element);\n",
              "          const docLink = document.createElement('div');\n",
              "          docLink.innerHTML = docLinkHtml;\n",
              "          element.appendChild(docLink);\n",
              "        }\n",
              "      </script>\n",
              "    </div>\n",
              "  </div>\n",
              "  "
            ]
          },
          "metadata": {},
          "execution_count": 19
        }
      ]
    },
    {
      "cell_type": "markdown",
      "source": [
        "  - 이제 새롭게 정의된 평점 기준에 따라 영화를 추천해 보자.\n",
        "  - 장르 유사성이 높은 영화를 top_n의 2배수만큼 후보군으로 선정한 뒤에, weighted_vote 칼럼 값이 높은 순으로 top_n만큼 추출하는 방식으로 find_sim_movie() 함수를 변경한다.\n",
        "  - find_sim_movie()를 이용해 다시 한 번 '대부'와 유사한 영화를 콘텐츠 기반 필터링 방식으로 추천해보자."
      ],
      "metadata": {
        "id": "rHCpZNFKuwNU"
      }
    },
    {
      "cell_type": "code",
      "source": [
        "def find_sim_movie(df, sorted_ind, title_name, top_n = 10):\n",
        "  title_movie = df[df['title'] == title_name]\n",
        "  title_index = title_movie.index.values\n",
        "\n",
        "  # top_n의 2배에 해당하는 장르 유사성이 높은 인덱스 추출\n",
        "  similar_indexes = sorted_ind[title_index, :(top_n * 2)]\n",
        "  similar_indexes = similar_indexes.reshape(-1)\n",
        "  # 기준 영화 인덱스는 제외\n",
        "  similar_indexes = similar_indexes[similar_indexes != title_index]\n",
        "\n",
        "  # top_n의 2배에 해당하는 후보군에서 weighted_vote가 높은 순으로 top_n만큼 추출\n",
        "  return df.iloc[similar_indexes].sort_values('weighted_vote', ascending = False)[:top_n]\n",
        "\n",
        "similar_movies = find_sim_movie(movies_df, genre_sim_sorted_ind, 'The Godfather', 10)\n",
        "similar_movies[['title', 'vote_average', 'weighted_vote']]"
      ],
      "metadata": {
        "colab": {
          "base_uri": "https://localhost:8080/",
          "height": 363
        },
        "id": "wbVUrwJ6uHMO",
        "outputId": "29dd9331-6d44-48af-c313-691433ba4eb3"
      },
      "execution_count": 20,
      "outputs": [
        {
          "output_type": "execute_result",
          "data": {
            "text/plain": [
              "                            title  vote_average  weighted_vote\n",
              "2731       The Godfather: Part II           8.3       8.079586\n",
              "1847                   GoodFellas           8.2       7.976937\n",
              "3866                  City of God           8.1       7.759693\n",
              "1663  Once Upon a Time in America           8.2       7.657811\n",
              "883           Catch Me If You Can           7.7       7.557097\n",
              "281             American Gangster           7.4       7.141396\n",
              "4041              This Is England           7.4       6.739664\n",
              "1149              American Hustle           6.8       6.717525\n",
              "1243                 Mean Streets           7.2       6.626569\n",
              "2839                     Rounders           6.9       6.530427"
            ],
            "text/html": [
              "\n",
              "  <div id=\"df-2bcc7624-4308-45e4-b04e-2196d57b2352\">\n",
              "    <div class=\"colab-df-container\">\n",
              "      <div>\n",
              "<style scoped>\n",
              "    .dataframe tbody tr th:only-of-type {\n",
              "        vertical-align: middle;\n",
              "    }\n",
              "\n",
              "    .dataframe tbody tr th {\n",
              "        vertical-align: top;\n",
              "    }\n",
              "\n",
              "    .dataframe thead th {\n",
              "        text-align: right;\n",
              "    }\n",
              "</style>\n",
              "<table border=\"1\" class=\"dataframe\">\n",
              "  <thead>\n",
              "    <tr style=\"text-align: right;\">\n",
              "      <th></th>\n",
              "      <th>title</th>\n",
              "      <th>vote_average</th>\n",
              "      <th>weighted_vote</th>\n",
              "    </tr>\n",
              "  </thead>\n",
              "  <tbody>\n",
              "    <tr>\n",
              "      <th>2731</th>\n",
              "      <td>The Godfather: Part II</td>\n",
              "      <td>8.3</td>\n",
              "      <td>8.079586</td>\n",
              "    </tr>\n",
              "    <tr>\n",
              "      <th>1847</th>\n",
              "      <td>GoodFellas</td>\n",
              "      <td>8.2</td>\n",
              "      <td>7.976937</td>\n",
              "    </tr>\n",
              "    <tr>\n",
              "      <th>3866</th>\n",
              "      <td>City of God</td>\n",
              "      <td>8.1</td>\n",
              "      <td>7.759693</td>\n",
              "    </tr>\n",
              "    <tr>\n",
              "      <th>1663</th>\n",
              "      <td>Once Upon a Time in America</td>\n",
              "      <td>8.2</td>\n",
              "      <td>7.657811</td>\n",
              "    </tr>\n",
              "    <tr>\n",
              "      <th>883</th>\n",
              "      <td>Catch Me If You Can</td>\n",
              "      <td>7.7</td>\n",
              "      <td>7.557097</td>\n",
              "    </tr>\n",
              "    <tr>\n",
              "      <th>281</th>\n",
              "      <td>American Gangster</td>\n",
              "      <td>7.4</td>\n",
              "      <td>7.141396</td>\n",
              "    </tr>\n",
              "    <tr>\n",
              "      <th>4041</th>\n",
              "      <td>This Is England</td>\n",
              "      <td>7.4</td>\n",
              "      <td>6.739664</td>\n",
              "    </tr>\n",
              "    <tr>\n",
              "      <th>1149</th>\n",
              "      <td>American Hustle</td>\n",
              "      <td>6.8</td>\n",
              "      <td>6.717525</td>\n",
              "    </tr>\n",
              "    <tr>\n",
              "      <th>1243</th>\n",
              "      <td>Mean Streets</td>\n",
              "      <td>7.2</td>\n",
              "      <td>6.626569</td>\n",
              "    </tr>\n",
              "    <tr>\n",
              "      <th>2839</th>\n",
              "      <td>Rounders</td>\n",
              "      <td>6.9</td>\n",
              "      <td>6.530427</td>\n",
              "    </tr>\n",
              "  </tbody>\n",
              "</table>\n",
              "</div>\n",
              "      <button class=\"colab-df-convert\" onclick=\"convertToInteractive('df-2bcc7624-4308-45e4-b04e-2196d57b2352')\"\n",
              "              title=\"Convert this dataframe to an interactive table.\"\n",
              "              style=\"display:none;\">\n",
              "        \n",
              "  <svg xmlns=\"http://www.w3.org/2000/svg\" height=\"24px\"viewBox=\"0 0 24 24\"\n",
              "       width=\"24px\">\n",
              "    <path d=\"M0 0h24v24H0V0z\" fill=\"none\"/>\n",
              "    <path d=\"M18.56 5.44l.94 2.06.94-2.06 2.06-.94-2.06-.94-.94-2.06-.94 2.06-2.06.94zm-11 1L8.5 8.5l.94-2.06 2.06-.94-2.06-.94L8.5 2.5l-.94 2.06-2.06.94zm10 10l.94 2.06.94-2.06 2.06-.94-2.06-.94-.94-2.06-.94 2.06-2.06.94z\"/><path d=\"M17.41 7.96l-1.37-1.37c-.4-.4-.92-.59-1.43-.59-.52 0-1.04.2-1.43.59L10.3 9.45l-7.72 7.72c-.78.78-.78 2.05 0 2.83L4 21.41c.39.39.9.59 1.41.59.51 0 1.02-.2 1.41-.59l7.78-7.78 2.81-2.81c.8-.78.8-2.07 0-2.86zM5.41 20L4 18.59l7.72-7.72 1.47 1.35L5.41 20z\"/>\n",
              "  </svg>\n",
              "      </button>\n",
              "      \n",
              "  <style>\n",
              "    .colab-df-container {\n",
              "      display:flex;\n",
              "      flex-wrap:wrap;\n",
              "      gap: 12px;\n",
              "    }\n",
              "\n",
              "    .colab-df-convert {\n",
              "      background-color: #E8F0FE;\n",
              "      border: none;\n",
              "      border-radius: 50%;\n",
              "      cursor: pointer;\n",
              "      display: none;\n",
              "      fill: #1967D2;\n",
              "      height: 32px;\n",
              "      padding: 0 0 0 0;\n",
              "      width: 32px;\n",
              "    }\n",
              "\n",
              "    .colab-df-convert:hover {\n",
              "      background-color: #E2EBFA;\n",
              "      box-shadow: 0px 1px 2px rgba(60, 64, 67, 0.3), 0px 1px 3px 1px rgba(60, 64, 67, 0.15);\n",
              "      fill: #174EA6;\n",
              "    }\n",
              "\n",
              "    [theme=dark] .colab-df-convert {\n",
              "      background-color: #3B4455;\n",
              "      fill: #D2E3FC;\n",
              "    }\n",
              "\n",
              "    [theme=dark] .colab-df-convert:hover {\n",
              "      background-color: #434B5C;\n",
              "      box-shadow: 0px 1px 3px 1px rgba(0, 0, 0, 0.15);\n",
              "      filter: drop-shadow(0px 1px 2px rgba(0, 0, 0, 0.3));\n",
              "      fill: #FFFFFF;\n",
              "    }\n",
              "  </style>\n",
              "\n",
              "      <script>\n",
              "        const buttonEl =\n",
              "          document.querySelector('#df-2bcc7624-4308-45e4-b04e-2196d57b2352 button.colab-df-convert');\n",
              "        buttonEl.style.display =\n",
              "          google.colab.kernel.accessAllowed ? 'block' : 'none';\n",
              "\n",
              "        async function convertToInteractive(key) {\n",
              "          const element = document.querySelector('#df-2bcc7624-4308-45e4-b04e-2196d57b2352');\n",
              "          const dataTable =\n",
              "            await google.colab.kernel.invokeFunction('convertToInteractive',\n",
              "                                                     [key], {});\n",
              "          if (!dataTable) return;\n",
              "\n",
              "          const docLinkHtml = 'Like what you see? Visit the ' +\n",
              "            '<a target=\"_blank\" href=https://colab.research.google.com/notebooks/data_table.ipynb>data table notebook</a>'\n",
              "            + ' to learn more about interactive tables.';\n",
              "          element.innerHTML = '';\n",
              "          dataTable['output_type'] = 'display_data';\n",
              "          await google.colab.output.renderOutput(dataTable, element);\n",
              "          const docLink = document.createElement('div');\n",
              "          docLink.innerHTML = docLinkHtml;\n",
              "          element.appendChild(docLink);\n",
              "        }\n",
              "      </script>\n",
              "    </div>\n",
              "  </div>\n",
              "  "
            ]
          },
          "metadata": {},
          "execution_count": 20
        }
      ]
    },
    {
      "cell_type": "markdown",
      "source": [
        "  - 이전에 비해 훨씬 나은 영화가 추천됐음을 확인할 수 있다."
      ],
      "metadata": {
        "id": "ik3gTpO2vuCw"
      }
    }
  ]
}
