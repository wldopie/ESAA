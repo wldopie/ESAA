{
  "nbformat": 4,
  "nbformat_minor": 0,
  "metadata": {
    "colab": {
      "provenance": [],
      "mount_file_id": "1_LkeZ_B5mjmlLfLMoBOtzXhksR5KxTQq",
      "authorship_tag": "ABX9TyO/1ovwu1JJMtssxeKYrjjA",
      "include_colab_link": true
    },
    "kernelspec": {
      "name": "python3",
      "display_name": "Python 3"
    },
    "language_info": {
      "name": "python"
    }
  },
  "cells": [
    {
      "cell_type": "markdown",
      "metadata": {
        "id": "view-in-github",
        "colab_type": "text"
      },
      "source": [
        "<a href=\"https://colab.research.google.com/github/wldopie/ESAA/blob/main/HW_221104.ipynb\" target=\"_parent\"><img src=\"https://colab.research.google.com/assets/colab-badge.svg\" alt=\"Open In Colab\"/></a>"
      ]
    },
    {
      "cell_type": "markdown",
      "source": [
        "## **8.6 토픽 모델링(Topic Modeling) - 20 뉴스그룹**"
      ],
      "metadata": {
        "id": "cAzgB08GLTLp"
      }
    },
    {
      "cell_type": "markdown",
      "source": [
        "  - `토픽 모델링`\n",
        "    - 문서 집합에 숨어 있는 주제를 찾아내는 것\n",
        "\n",
        "  - 머신러닝 기반의 토픽 모델링을 적용해 숨어 있는 중요 주제를 효과적으로 찾아낼 수 있다.\n",
        "\n",
        "  - 머신러닝 기반의 토픽 모델은 숨겨진 `주제를 효과적으로 표현할 수 있는 중심 단어`를 함축적으로 추출한다.\n",
        "\n",
        "  - 토픽 모델링에 자주 사용되는 기법\n",
        "    - `LSA`(Latent Semantic Analysis)\n",
        "    - `LDA`(Latent Dirichlet Allocation)\n",
        "      - 이 절에서는 LDA만을 이용해 토픽 모델링을 수행\n",
        "\n",
        "  - 텍스트 분류에서 소개한 20 뉴스그룹 데이터 세트를 이용해 토픽 모델링을 진행한다. 20개의 주제 중 모토사이클, 야구, 그래픽스, 윈도우, 중동, 기독교, 전자공학, 의학의 8개 주제를 추출하고, 이들 텍스트에 LDA 기반의 토픽 모델링을 적용해 본다.\n",
        "\n",
        "  - 사이킷런은 `LDA 기반의 토픽 모델링`을 `LatentDirichletAllocation` 클래스로 제공한다.\n",
        "\n",
        "  - 먼저 LDA 토픽 모델링을 위해 fetch_20newsgroups() API는 categories 파라미터를 통해 필요한 주제만 필터링해 추출하고, 추출된 텍스트를 Count 기반으로 벡터화 변환한다. LDA는 Count 기반의 벡터화만 사용한다.\n",
        "\n",
        "  - max_features = 1000으로 word 피처의 개수를 제한하고, ngram_range는 (1,2)로 설정하고 피처 벡터화 변환한다."
      ],
      "metadata": {
        "id": "8HcMJKH5DSOb"
      }
    },
    {
      "cell_type": "code",
      "execution_count": 2,
      "metadata": {
        "id": "z7jlAf7wXyno",
        "colab": {
          "base_uri": "https://localhost:8080/"
        },
        "outputId": "f44a60dd-6671-4c0b-ea22-5603107e6c75"
      },
      "outputs": [
        {
          "output_type": "stream",
          "name": "stdout",
          "text": [
            "CountVectorizer Shape : (7862, 1000)\n"
          ]
        }
      ],
      "source": [
        "from sklearn.datasets import fetch_20newsgroups\n",
        "from sklearn.feature_extraction.text import CountVectorizer\n",
        "from sklearn.decomposition import LatentDirichletAllocation\n",
        "\n",
        "# 모토사이클, 야구, 그래픽스, 윈도우즈, 중동, 기독교, 전자공학, 의학 8개 주제를 추출\n",
        "cats = ['rec.motorcycles', 'rec.sport.baseball', 'comp.graphics', 'comp.windows.x',\n",
        "        'talk.politics.mideast', 'soc.religion.christian', 'sci.electronics', 'sci.med']\n",
        "\n",
        "# 위에서 cats 변수로 기재된 카테고리만 추출, fetch_20newsgroups()의 categories에 cats 입력\n",
        "news_df = fetch_20newsgroups(subset = 'all', remove = ('headers', 'footers', 'quotes'),\n",
        "                             categories = cats, random_state = 0)\n",
        "\n",
        "# LDA는 Count 기반의 벡터화만 적용\n",
        "count_vect = CountVectorizer(max_df = 0.95, max_features = 1000, min_df = 2,\n",
        "                             stop_words = 'english', ngram_range = (1,2))\n",
        "feat_vect = count_vect.fit_transform(news_df.data)\n",
        "\n",
        "print('CountVectorizer Shape :', feat_vect.shape)"
      ]
    },
    {
      "cell_type": "markdown",
      "source": [
        "  - CountVectorizer 객체 변수인 feat_vect 모두 7862개의 문서가 1000개의 피처로 구성된 행렬 데이터이다.\n",
        "  - 이렇게 `피처 벡터화된 데이터 세트`를 기반으로 `LDA 토픽 모델링`을 수행한다.\n",
        "  - 토픽의 개수는 위와 동일하게 8개로 정하고, LatentDirichletAllocation 클래스의 n_components 파라미터를 이용해 이 토픽 개수를 조정한다."
      ],
      "metadata": {
        "id": "-YREjs_QFu7J"
      }
    },
    {
      "cell_type": "code",
      "source": [
        "lda = LatentDirichletAllocation(n_components = 8, random_state = 0)\n",
        "lda.fit(feat_vect)"
      ],
      "metadata": {
        "colab": {
          "base_uri": "https://localhost:8080/"
        },
        "id": "PH13njnSGGlu",
        "outputId": "c44fc676-28c3-4543-a5b6-42332db5a47e"
      },
      "execution_count": 3,
      "outputs": [
        {
          "output_type": "execute_result",
          "data": {
            "text/plain": [
              "LatentDirichletAllocation(n_components=8, random_state=0)"
            ]
          },
          "metadata": {},
          "execution_count": 3
        }
      ]
    },
    {
      "cell_type": "markdown",
      "source": [
        "  - `LatentDirichletAllocation.fit(데이터 세트)`을 수행하면 LatentDirichletAllocation 객체는 `components_` 속성값을 갖는다.\n",
        "  - `components_`는 개별 토픽별로 각 `word 피처가 얼마나 많이 그 토픽에 할당됐는지`에 대한 수치를 나타낸다.\n",
        "  - `높은 값일수록` 해당 word 피처는 그 `토픽의 중심 word`가 된다.\n",
        "  - components_의 형태와 속성값을 확인해 보자."
      ],
      "metadata": {
        "id": "J8j9T_-nGO_c"
      }
    },
    {
      "cell_type": "code",
      "source": [
        "print(lda.components_.shape)\n",
        "lda.components_"
      ],
      "metadata": {
        "colab": {
          "base_uri": "https://localhost:8080/"
        },
        "id": "e2wGYaqIGgcu",
        "outputId": "bc5d9e40-e4b8-425b-cbca-3935ff8e20b6"
      },
      "execution_count": 4,
      "outputs": [
        {
          "output_type": "stream",
          "name": "stdout",
          "text": [
            "(8, 1000)\n"
          ]
        },
        {
          "output_type": "execute_result",
          "data": {
            "text/plain": [
              "array([[3.60992018e+01, 1.35626798e+02, 2.15751867e+01, ...,\n",
              "        3.02911688e+01, 8.66830093e+01, 6.79285199e+01],\n",
              "       [1.25199920e-01, 1.44401815e+01, 1.25045596e-01, ...,\n",
              "        1.81506995e+02, 1.25097844e-01, 9.39593286e+01],\n",
              "       [3.34762663e+02, 1.25176265e-01, 1.46743299e+02, ...,\n",
              "        1.25105772e-01, 3.63689741e+01, 1.25025218e-01],\n",
              "       ...,\n",
              "       [3.60204965e+01, 2.08640688e+01, 4.29606813e+00, ...,\n",
              "        1.45056650e+01, 8.33854413e+00, 1.55690009e+01],\n",
              "       [1.25128711e-01, 1.25247756e-01, 1.25005143e-01, ...,\n",
              "        9.17278769e+01, 1.25177668e-01, 3.74575887e+01],\n",
              "       [5.49258690e+01, 4.47009532e+00, 9.88524814e+00, ...,\n",
              "        4.87048440e+01, 1.25034678e-01, 1.25074632e-01]])"
            ]
          },
          "metadata": {},
          "execution_count": 4
        }
      ]
    },
    {
      "cell_type": "markdown",
      "source": [
        "  - 8개의 토픽별로 1000개의 word 피처가 해당 토픽별로 연관도 값을 갖는다.\n",
        "  - 즉, components_ array의 0번째 row, 10번째 col에 있는 값은 Topic #0에 대해서 피처 벡터화된 행렬에서 10번째 칼럼에 해당하는 피처가 Topic #0에 연관되는 수치 값을 가지고 있다.\n",
        "  - `display_topics()` 함수를 만들어 각 `토픽별로 연관도가 높은 순으로 word를 나열`해 보자."
      ],
      "metadata": {
        "id": "t7H1S1V2GpHj"
      }
    },
    {
      "cell_type": "code",
      "source": [
        "def display_topics(model, feature_names, no_top_words):\n",
        "  for topic_index, topic in enumerate(model.components_):\n",
        "    print('Topic #', topic_index)\n",
        "\n",
        "    # components_ array에서 가장 값이 큰 순으로 정렬했을 때, 그 값의 array 인덱스를 반환\n",
        "    topic_word_indexes = topic.argsort()[::-1]\n",
        "    top_indexes = topic_word_indexes[:no_top_words]\n",
        "\n",
        "    # top_indexes 대상인 인덱스별로 feature_names에 해당하는 word feature 추출 후 join으로 concat\n",
        "    feature_concat = ' '.join([feature_names[i] for i in top_indexes])\n",
        "    print(feature_concat)\n",
        "\n",
        "# ContVectorizer 객체 내의 전체 word의 명칭을 get_features_names()를 통해 추출\n",
        "feature_names = count_vect.get_feature_names()\n",
        "\n",
        "# 토픽별 가장 연관도가 높은 word를 15개만 추출\n",
        "display_topics(lda, feature_names, 15)"
      ],
      "metadata": {
        "colab": {
          "base_uri": "https://localhost:8080/"
        },
        "id": "xqCeOAvoHI5H",
        "outputId": "cd4b0e67-0ce9-47ef-cb68-6d574cdd9f78"
      },
      "execution_count": 5,
      "outputs": [
        {
          "output_type": "stream",
          "name": "stdout",
          "text": [
            "Topic # 0\n",
            "year 10 game medical health team 12 20 disease cancer 1993 games years patients good\n",
            "Topic # 1\n",
            "don just like know people said think time ve didn right going say ll way\n",
            "Topic # 2\n",
            "image file jpeg program gif images output format files color entry 00 use bit 03\n",
            "Topic # 3\n",
            "like know don think use does just good time book read information people used post\n",
            "Topic # 4\n",
            "armenian israel armenians jews turkish people israeli jewish government war dos dos turkey arab armenia 000\n",
            "Topic # 5\n",
            "edu com available graphics ftp data pub motif mail widget software mit information version sun\n",
            "Topic # 6\n",
            "god people jesus church believe christ does christian say think christians bible faith sin life\n",
            "Topic # 7\n",
            "use dos thanks windows using window does display help like problem server need know run\n"
          ]
        },
        {
          "output_type": "stream",
          "name": "stderr",
          "text": [
            "/usr/local/lib/python3.7/dist-packages/sklearn/utils/deprecation.py:87: FutureWarning: Function get_feature_names is deprecated; get_feature_names is deprecated in 1.0 and will be removed in 1.2. Please use get_feature_names_out instead.\n",
            "  warnings.warn(msg, category=FutureWarning)\n"
          ]
        }
      ]
    },
    {
      "cell_type": "markdown",
      "source": [
        "  - 20 뉴스그룹에서 모토사이클, 야구, 그래픽스, 윈도우즈, 중동, 기독교, 전자공학, 의학 8개를 주제로 추출했는데, 8개의 토픽으로 모델링이 잘 됐는지 확인해 보자."
      ],
      "metadata": {
        "id": "o_0EUrXnH2xC"
      }
    },
    {
      "cell_type": "markdown",
      "source": [
        "---"
      ],
      "metadata": {
        "id": "Zwtw2z_cLejM"
      }
    },
    {
      "cell_type": "markdown",
      "source": [
        "## **8.8 문서 유사도**"
      ],
      "metadata": {
        "id": "sEEbpDrTLfIL"
      }
    },
    {
      "cell_type": "markdown",
      "source": [
        "### **a. 문서 유사도 측정 방법 - 코사인 유사도**"
      ],
      "metadata": {
        "id": "Un_u63EkLpki"
      }
    },
    {
      "cell_type": "markdown",
      "source": [
        "  - `코사인 유사도(Cosine Similarity)`\n",
        "    - 벡터와 벡터 간의 유사도를 비교할 때, 벡터의 크기보다는 `벡터의 상호 방향성이 얼마나 유사한지`에 기반\n",
        "    - `두 벡터 사이의 사잇각`을 구해서 얼마나 유사한지 수치로 적용한 것"
      ],
      "metadata": {
        "id": "4gXP3oE-I4mP"
      }
    },
    {
      "cell_type": "markdown",
      "source": [
        "### **b. 두 벡터 사잇각**"
      ],
      "metadata": {
        "id": "aSPGLAWBLvil"
      }
    },
    {
      "cell_type": "markdown",
      "source": [
        "  - 두 벡터 사잇각\n",
        "    - 유사하거나 관련이 없거나 아예 반대 관계가 될 수 있다.\n",
        "    \n",
        "    ![1.PNG](data:image/png;base64,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)"
      ],
      "metadata": {
        "id": "r9wztrAtJKZv"
      }
    },
    {
      "cell_type": "markdown",
      "source": [
        "  - 두 벡터 A와 B의 내적 값\n",
        "\n",
        "![2.PNG](data:image/png;base64,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)"
      ],
      "metadata": {
        "id": "DxcqxvL2JacU"
      }
    },
    {
      "cell_type": "markdown",
      "source": [
        "  - 유사도 cosθ\n",
        "\n",
        "![3.PNG](data:image/png;base64,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)"
      ],
      "metadata": {
        "id": "1xfY1J6CJ4Je"
      }
    },
    {
      "cell_type": "markdown",
      "source": [
        "  - `코사인 유사도`가 `문서의 유사도 비교에 가장 많이 사용`되는 이유\n",
        "    1. 문서를 피처 벡터화 변환하면 차원이 매우 많은 희소 행렬이 되기 쉽다.\n",
        "      - 이러한 희소 행렬 기반에서 문서와 문서 벡터 간의 크기에 기반한 유사도 지표는 정확도가 떨어지기 쉽다.\n",
        "    2. 문서가 매우 긴 경우, 단어의 빈도수도 더 많을 것이기 때문에 이러한 빈도수에만 기반해서는 공정한 비교를 할 수 없다.\n",
        "\n",
        "  - 간단한 문서에 대해 서로 간의 문서 유사도를 코사인 유사도 기반으로 구해보자.\n",
        "\n",
        "  - 먼저 두 개의 넘파이 배열에 대한 `코사인 유사도`를 구하는 `cos_similarity() 함수`를 작성한다."
      ],
      "metadata": {
        "id": "d0Gc39sKKSTv"
      }
    },
    {
      "cell_type": "code",
      "source": [
        "import numpy as np\n",
        "\n",
        "def cos_similarity(v1, v2):\n",
        "  dot_product = np.dot(v1, v2)\n",
        "  l2_norm = (np.sqrt(sum(np.square(v1))) * np.sqrt(sum(np.square(v2))))\n",
        "  similarity = dot_product / l2_norm\n",
        "\n",
        "  return similarity"
      ],
      "metadata": {
        "id": "cLZ6XLAGKr9h"
      },
      "execution_count": 9,
      "outputs": []
    },
    {
      "cell_type": "markdown",
      "source": [
        "  - doc_list로 정의된 3개의 간단한 문서의 유사도를 비교하기 위해 이 문서를 TF-IDF로 벡터화된 행렬로 변환한다."
      ],
      "metadata": {
        "id": "pHX5tDdcLGwW"
      }
    },
    {
      "cell_type": "code",
      "source": [
        "from sklearn.feature_extraction.text import TfidfVectorizer\n",
        "\n",
        "doc_list = ['if you take the blue pill, the story ends',\n",
        "            'if you take the red pill, you stay in Wonderland',\n",
        "            'if you take the red pill, I show you how deep the rabbit hole goes']\n",
        "\n",
        "tfidf_vect_simple = TfidfVectorizer()\n",
        "feature_vect_simple = tfidf_vect_simple.fit_transform(doc_list)\n",
        "\n",
        "print(feature_vect_simple.shape)"
      ],
      "metadata": {
        "colab": {
          "base_uri": "https://localhost:8080/"
        },
        "id": "gvpgnXeoLMJB",
        "outputId": "de16bb1b-0cf3-4243-bce3-09ea7039976b"
      },
      "execution_count": 10,
      "outputs": [
        {
          "output_type": "stream",
          "name": "stdout",
          "text": [
            "(3, 18)\n"
          ]
        }
      ]
    },
    {
      "cell_type": "markdown",
      "source": [
        "  - 반환된 행렬은 희소 행렬이므로, 앞에서 작성한 cos_similarity() 함수의 인자인 array로 만들기 위해 밀집 행렬로 변환한 뒤 다시 각각을 배열로 변환한다."
      ],
      "metadata": {
        "id": "13h_n_HBLnfO"
      }
    },
    {
      "cell_type": "code",
      "source": [
        "# TfidfVectorizer로 transform()한 결과는 희소 행렬이므로, 밀집 행렬로 변환\n",
        "feature_vect_dense = feature_vect_simple.todense()\n",
        "\n",
        "# 첫 번째 문장과 두 번째 문장의 피처 벡터 추출\n",
        "vect1 = np.array(feature_vect_dense[0]).reshape(-1,)\n",
        "vect2 = np.array(feature_vect_dense[1]).reshape(-1,)\n",
        "\n",
        "# 첫 번째 문장과 두 번째 문장의 피처 벡터로 두 개 문장의 코사인 유사도 추출\n",
        "similarity_simple = cos_similarity(vect1, vect2)\n",
        "\n",
        "print('문장 1, 문장 2 Cosine 유사도: {0:.3f}'.format(similarity_simple))"
      ],
      "metadata": {
        "colab": {
          "base_uri": "https://localhost:8080/"
        },
        "id": "N-sqzDDbLmCh",
        "outputId": "5cd91cea-5659-4b7d-bc90-5cbe80f1f086"
      },
      "execution_count": 11,
      "outputs": [
        {
          "output_type": "stream",
          "name": "stdout",
          "text": [
            "문장 1, 문장 2 Cosine 유사도: 0.402\n"
          ]
        }
      ]
    },
    {
      "cell_type": "markdown",
      "source": [
        "  - 첫 번째 문장과 두 번재 문장의 코사인 유사도는 0.402이다.\n",
        "  - 다음으로 첫 번째와 세 번째, 두 번째와 세 번째 문장의 유사도도 각각 측정해보자."
      ],
      "metadata": {
        "id": "oEXeNm9MMQ_b"
      }
    },
    {
      "cell_type": "code",
      "source": [
        "# 첫 번째 문장과 세 번째 문장의 피처 벡터 추출 및 코사인 유사도 추출\n",
        "vect1 = np.array(feature_vect_dense[0]).reshape(-1,)\n",
        "vect3 = np.array(feature_vect_dense[2]).reshape(-1,)\n",
        "similarity_simple = cos_similarity(vect1, vect3)\n",
        "\n",
        "print('문장 1, 문장 3 Cosine 유사도: {0:.3f}'.format(similarity_simple))\n",
        "\n",
        "# 두 번째 문장과 세 번째 문장의 피처 벡터 추출 및 코사인 유사도 추출\n",
        "vect2 = np.array(feature_vect_dense[1]).reshape(-1,)\n",
        "vect3 = np.array(feature_vect_dense[2]).reshape(-1,)\n",
        "similarity_simple = cos_similarity(vect2, vect3)\n",
        "\n",
        "print('문장 2, 문장 3 Cosine 유사도: {0:.3f}'.format(similarity_simple))"
      ],
      "metadata": {
        "colab": {
          "base_uri": "https://localhost:8080/"
        },
        "id": "ip43gQqPMW3T",
        "outputId": "82aed7de-3268-442d-9e2c-786936d4ae02"
      },
      "execution_count": 13,
      "outputs": [
        {
          "output_type": "stream",
          "name": "stdout",
          "text": [
            "문장 1, 문장 3 Cosine 유사도: 0.404\n",
            "문장 2, 문장 3 Cosine 유사도: 0.456\n"
          ]
        }
      ]
    },
    {
      "cell_type": "markdown",
      "source": [
        "  - 사이킷런은 `코사인 유사도`를 측정하기 위해 `sklearn.metrics.pairwise.cosine_similarity API를 제공`한다.\n",
        "  - 이번에는 이를 이용해 앞의 예제의 문서 유사도를 측정해 보자.\n",
        "  - `cosine_similarity()` 함수는 `두 개의 입력 파라미터`를 입력받는다.\n",
        "    - `첫 번째` 파라미터는 `비교 기준이 되는 문서의 피처 행렬`\n",
        "    - `두 번째` 파라미터는 `비교되는 문서의 피처 행렬`\n",
        "\n",
        "  - `cosine_similarity()`는 `희소 행렬`, `밀집 행렬 모두가 가능`하며, `행렬 또는 배열 모두 가능`하다. 따라서 앞에서 만든 cos_similarity() 함수와 같이 `별도의 변환 작업이 필요하지 않다`.\n",
        "\n",
        "  - 첫 번째 문서와 비교해 바로 자신 문서인 첫 번째 문서, 두 번째 문서, 세 번째 문서의 유사도를 측정해 보자."
      ],
      "metadata": {
        "id": "XH3jac5EMyBx"
      }
    },
    {
      "cell_type": "code",
      "source": [
        "from sklearn.metrics.pairwise import cosine_similarity\n",
        "\n",
        "similarity_simple_pair = cosine_similarity(feature_vect_simple[0], feature_vect_simple)\n",
        "print(similarity_simple_pair)"
      ],
      "metadata": {
        "colab": {
          "base_uri": "https://localhost:8080/"
        },
        "id": "5J23JR7MNyxZ",
        "outputId": "36ac2c38-702d-49e4-a27a-cc9d98fbf249"
      },
      "execution_count": 14,
      "outputs": [
        {
          "output_type": "stream",
          "name": "stdout",
          "text": [
            "[[1.         0.40207758 0.40425045]]\n"
          ]
        }
      ]
    },
    {
      "cell_type": "markdown",
      "source": [
        "  - cosine_similarity()는 쌍으로 코사인 유사도 값을 제공한다.\n",
        "  - 모든 개별 문서에 쌍으로(pair) 코사인 유사도 값을 계산해 보자."
      ],
      "metadata": {
        "id": "8fJD4u5bOB8a"
      }
    },
    {
      "cell_type": "code",
      "source": [
        "similarity_simple_pair = cosine_similarity(feature_vect_simple, feature_vect_simple)\n",
        "print(similarity_simple_pair)\n",
        "print('Shape :', similarity_simple_pair.shape)"
      ],
      "metadata": {
        "colab": {
          "base_uri": "https://localhost:8080/"
        },
        "id": "sfQXCfKPOHTU",
        "outputId": "1599343c-6f76-44f0-c657-1377934e34d8"
      },
      "execution_count": 16,
      "outputs": [
        {
          "output_type": "stream",
          "name": "stdout",
          "text": [
            "[[1.         0.40207758 0.40425045]\n",
            " [0.40207758 1.         0.45647296]\n",
            " [0.40425045 0.45647296 1.        ]]\n",
            "Shape : (3, 3)\n"
          ]
        }
      ]
    },
    {
      "cell_type": "markdown",
      "source": [
        "### **c. Opinion Review 데이터 세트를 이용한 문서 유사도 측정**"
      ],
      "metadata": {
        "id": "_Hn2gAaQLxar"
      }
    },
    {
      "cell_type": "markdown",
      "source": [
        "  - 문서 군집화에서 사용한 Opinion Review 데이터 세트를 이용해 이들 문서 간의 유사도를 측정해보자."
      ],
      "metadata": {
        "id": "RtjdQN_FOX6l"
      }
    },
    {
      "cell_type": "code",
      "source": [
        "from nltk.stem import WordNetLemmatizer\n",
        "import nltk\n",
        "import string\n",
        "\n",
        "remove_punct_dict = dict((ord(punct), None) for punct in string.punctuation)\n",
        "lemmar = WordNetLemmatizer()\n",
        "\n",
        "def LemTokens(tokens):\n",
        "    return [lemmar.lemmatize(token) for token in tokens]\n",
        "\n",
        "def LemNormalize(text):\n",
        "    return LemTokens(nltk.word_tokenize(text.lower().translate(remove_punct_dict)))"
      ],
      "metadata": {
        "id": "3B7ugIbURr1s"
      },
      "execution_count": 20,
      "outputs": []
    },
    {
      "cell_type": "code",
      "source": [
        "from google.colab import drive\n",
        "drive.mount('/content/drive')"
      ],
      "metadata": {
        "colab": {
          "base_uri": "https://localhost:8080/"
        },
        "id": "TCkWkWBKUBsR",
        "outputId": "036dc692-790a-43c6-9a6c-f0f00fcdc769"
      },
      "execution_count": 29,
      "outputs": [
        {
          "output_type": "stream",
          "name": "stdout",
          "text": [
            "Drive already mounted at /content/drive; to attempt to forcibly remount, call drive.mount(\"/content/drive\", force_remount=True).\n"
          ]
        }
      ]
    },
    {
      "cell_type": "code",
      "source": [
        "import pandas as pd\n",
        "import glob, os\n",
        "from sklearn.feature_extraction.text import TfidfVectorizer\n",
        "from sklearn.cluster import KMeans\n",
        "\n",
        "path = r'/content/drive/MyDrive/topics'\n",
        "all_files = glob.glob(os.path.join(path, '*.data'))\n",
        "filename_list = []\n",
        "opinion_text = []\n",
        "\n",
        "for file_ in all_files:\n",
        "    df = pd.read_table(file_,index_col=None, header=0,encoding='latin1')\n",
        "    filename_ = file_.split('\\\\')[-1]\n",
        "    filename = filename_.split('.')[0]\n",
        "    filename_list.append(filename)\n",
        "    opinion_text.append(df.to_string())\n",
        "\n",
        "document_df = pd.DataFrame({'filename':filename_list, 'opinion_text':opinion_text})\n",
        "\n",
        "tfidf_vect = TfidfVectorizer(tokenizer=LemNormalize, stop_words='english',\n",
        "                             ngram_range=(1,2), min_df=0.05, max_df=0.85)\n",
        "feature_vect = tfidf_vect.fit_transform(document_df['opinion_text'])\n",
        "\n",
        "km_cluster = KMeans(n_clusters=3, max_iter=10000, random_state=0)\n",
        "km_cluster.fit(feature_vect)\n",
        "cluster_label = km_cluster.labels_\n",
        "cluster_centers = km_cluster.cluster_centers_\n",
        "document_df['cluster_label'] = cluster_label"
      ],
      "metadata": {
        "colab": {
          "base_uri": "https://localhost:8080/"
        },
        "id": "v8iWG-e0OcE9",
        "outputId": "d0b6a60b-644f-470a-87ae-7895e53c8ef1"
      },
      "execution_count": 28,
      "outputs": [
        {
          "output_type": "stream",
          "name": "stderr",
          "text": [
            "/usr/local/lib/python3.7/dist-packages/sklearn/feature_extraction/text.py:401: UserWarning: Your stop_words may be inconsistent with your preprocessing. Tokenizing the stop words generated tokens ['ha', 'le', 'u', 'wa'] not in stop_words.\n",
            "  % sorted(inconsistent)\n"
          ]
        }
      ]
    },
    {
      "cell_type": "markdown",
      "source": [
        "  - 이전 절에서 해당 문서의 군집화는 전자제품, 호텔, 자동차를 주제로 군집화되었다. \n",
        "  - 이 중 `호텔을 주제로 군집화된 문서`를 이용해 특정 문서와 `다른 문서 간의 유사도`를 알아보자.\n",
        "  - 문서를 피처 벡터화해 변환한 데이터를 cosine_similarity()를 이용해 상호 비교해 유사도를 확인해보자.\n",
        "    - 이를 위해 `호텔을 주제로 군집화된 데이터를 먼저 추출`하고, 이 데이터에 해당하는 `TfidfVectorizer의 데이터를 추출`한다.\n",
        "    - 즉, document_df에서 먼저 `호텔로 군집화된 문서의 인덱스를 추출`한 다음, 이렇게 추출된 `인덱스를 그대로 이용`해 TfidfVectorizer 객체 변수인 `feature_vect에서 호텔로 군집화된 문서의 피처 벡터를 추출`한다."
      ],
      "metadata": {
        "id": "wmDjTMuhUJS3"
      }
    },
    {
      "cell_type": "code",
      "source": [
        "from sklearn.metrics.pairwise import cosine_similarity\n",
        "\n",
        "# cluster_label = 1인 데이터는 호텔로 군집화된 데이터, DataFrame에서 해당 인덱스를 추출\n",
        "hotel_indexes = document_df[document_df['cluster_label'] == 1].index\n",
        "print('호텔로 군집화된 문서들의 DataFrame Index:', hotel_indexes)\n",
        "\n",
        "# 호텔로 군집화된 데이터 중 첫 번째 문서를 추출해 파일명 표시\n",
        "comparison_docname = document_df.iloc[hotel_indexes[0]]['filename']\n",
        "print('##### 비교 기준 문서명', comparison_docname, '와 타 문서 유사도 #####')\n",
        "\n",
        "''' document_df에서 추출한 Index 객체를 feature_vect로 입력해 호텔 군집화된 feature_vect 추출\n",
        "이를 이용해 호텔로 군집화된 문서 중 첫 번째 문서와 다른 문서 간의 코사인 유사도 측정.'''\n",
        "\n",
        "similarity_pair = cosine_similarity(feature_vect[hotel_indexes[0]], feature_vect[hotel_indexes])\n",
        "print(similarity_pair)"
      ],
      "metadata": {
        "colab": {
          "base_uri": "https://localhost:8080/"
        },
        "id": "RBuLqDp2U8ss",
        "outputId": "bbff7045-6a94-4898-e5dc-6c5f20fdb247"
      },
      "execution_count": 30,
      "outputs": [
        {
          "output_type": "stream",
          "name": "stdout",
          "text": [
            "호텔로 군집화된 문서들의 DataFrame Index: Int64Index([3, 9, 10, 12, 15, 16, 18, 21, 27, 31, 33, 35, 39, 42, 44, 49], dtype='int64')\n",
            "##### 비교 기준 문서명 /content/drive/MyDrive/topics/bathroom_bestwestern_hotel_sfo 와 타 문서 유사도 #####\n",
            "[[1.         0.32619948 0.51442299 0.1386783  0.05221059 0.06193118\n",
            "  0.09518068 0.0430688  0.05846178 0.11282857 0.13989623 0.06189595\n",
            "  0.38038865 0.03638665 0.11742762 0.07049362]]\n"
          ]
        }
      ]
    },
    {
      "cell_type": "markdown",
      "source": [
        "  - 단순히 숫자로만 표시해서는 직관적으로 문서가 어느 정도의 유사도를 가지는지 이해하기 어려울 수 있으므로, 첫 번째 문서와 다른 문서 간에 유사도가 높은 순으로 이를 정렬하고 시각화해 보자."
      ],
      "metadata": {
        "id": "HBHPOvNWWC9y"
      }
    },
    {
      "cell_type": "code",
      "source": [
        "import seaborn as sns\n",
        "import numpy as np\n",
        "import matplotlib.pyplot as plt\n",
        "%matplotlib inline\n",
        "\n",
        "# 첫 번째 문서와 타 문서 간 유사도가 큰 순으로 정렬한 인덱스를 추출하되, 자기 자신은 제외\n",
        "sorted_index = similarity_pair.argsort()[:, ::-1]\n",
        "sorted_index = sorted_index[:, 1:]\n",
        "\n",
        "# 유사도가 큰 순으로 hotel_indexes를 추출해 재정렬\n",
        "hotel_sorted_indexes = hotel_indexes[sorted_index.reshape(-1)]\n",
        "\n",
        "# 유사도가 큰 순으로 유사도 값을 재정렬하되, 자기 자신은 제외 \n",
        "hotel_1_sim_value = np.sort(similarity_pair.reshape(-1))[::-1]\n",
        "hotel_1_sim_value = hotel_1_sim_value[1:]\n",
        "\n",
        "# 유사도가 큰 순으로 정렬된 인덱스와 유사도 값을 이용해 파일명과 유사도 값을 막대 그래프로 시각화\n",
        "hotel_1_sim_df = pd.DataFrame()\n",
        "hotel_1_sim_df['filename'] = document_df.iloc[hotel_sorted_indexes]['filename']\n",
        "hotel_1_sim_df['similarity'] = hotel_1_sim_value\n",
        "\n",
        "sns.barplot(x = 'similarity', y = 'filename', data = hotel_1_sim_df)\n",
        "plt.title(comparison_docname)"
      ],
      "metadata": {
        "colab": {
          "base_uri": "https://localhost:8080/",
          "height": 290
        },
        "id": "j_woTQL_WKDS",
        "outputId": "9f42f28a-455f-4799-fb75-d10e4d2baf61"
      },
      "execution_count": 31,
      "outputs": [
        {
          "output_type": "execute_result",
          "data": {
            "text/plain": [
              "Text(0.5, 1.0, '/content/drive/MyDrive/topics/bathroom_bestwestern_hotel_sfo')"
            ]
          },
          "metadata": {},
          "execution_count": 31
        },
        {
          "output_type": "display_data",
          "data": {
            "text/plain": [
              "<Figure size 432x288 with 1 Axes>"
            ],
            "image/png": "[encoded data removed]"
          },
          "metadata": {
            "needs_background": "light"
          }
        }
      ]
    },
    {
      "cell_type": "markdown",
      "source": [
        "  - `bathroom_bestwestern_hotel_sfo`와 가장 `비슷한 문서는 room_holiday_inn_london`이며, 약 `0.572의 코사인 유사도 값`을 나타낸다."
      ],
      "metadata": {
        "id": "cNibqf9OY1Y5"
      }
    },
    {
      "cell_type": "markdown",
      "source": [
        "---"
      ],
      "metadata": {
        "id": "pbUVZdzfL5HR"
      }
    },
    {
      "cell_type": "markdown",
      "source": [
        "## **8.9 한글 텍스트 처리 - 네이버 영화 평점 감성 분석**"
      ],
      "metadata": {
        "id": "87x3daVNL5nh"
      }
    },
    {
      "cell_type": "markdown",
      "source": [
        "### **a. 한글 NLP 처리의 어려움**"
      ],
      "metadata": {
        "id": "74mFkpKUL9QF"
      }
    },
    {
      "cell_type": "markdown",
      "source": [
        "  - 일반적으로 `한글 언어 처리`는 '`띄어쓰기`'와 '`다양한 조사`' 때문에 영어 등의 라틴어 처리보다 어렵다.\n",
        "    - 한글은 띄어쓰기를 잘못하면 의미가 왜곡되어 전달될 수 있어 주의가 필요하다.\n",
        "    - 조사는 주어나 목적어를 위해 추가되는데, 워낙 경우의 수가 많아 어근 추출(Stemming/Lemmatization) 등의 전처리 시 제거하기가 까다롭다."
      ],
      "metadata": {
        "id": "mAZpGkiDZDEH"
      }
    },
    {
      "cell_type": "markdown",
      "source": [
        "### **b. KoNLPy 소개**"
      ],
      "metadata": {
        "id": "p0leB8VOL_Xd"
      }
    },
    {
      "cell_type": "markdown",
      "source": [
        "  - KoNLPy\n",
        "    - 파이썬의 대표적인 한글 형태소 패키지\n",
        "    - 형태소\n",
        "      - 단어로서 의미를 가지는 최소 단위\n",
        "    - 형태소 분석(Morphological analysis)\n",
        "      - 말뭉치를 이러한 형태소 어근 단위로 쪼개고 각 형태소에 품사 태깅(POS tagging)을 부착하는 작업"
      ],
      "metadata": {
        "id": "uFjc6Ar0ZjcX"
      }
    },
    {
      "cell_type": "markdown",
      "source": [
        "### **c. 데이터 로딩**"
      ],
      "metadata": {
        "id": "HYc3qPdCMCR6"
      }
    },
    {
      "cell_type": "code",
      "source": [
        "!pip install konlpy"
      ],
      "metadata": {
        "colab": {
          "base_uri": "https://localhost:8080/"
        },
        "id": "WEdbjS3bMKxz",
        "outputId": "447ddaca-20d7-4e25-b422-3cf1b5176096"
      },
      "execution_count": 35,
      "outputs": [
        {
          "output_type": "stream",
          "name": "stdout",
          "text": [
            "Looking in indexes: https://pypi.org/simple, https://us-python.pkg.dev/colab-wheels/public/simple/\n",
            "Collecting konlpy\n",
            "  Downloading konlpy-0.6.0-py2.py3-none-any.whl (19.4 MB)\n",
            "\u001b[2K     \u001b[90m━━━━━━━━━━━━━━━━━━━━━━━━━━━━━━━━━━━━━━━━\u001b[0m \u001b[32m19.4/19.4 MB\u001b[0m \u001b[31m14.6 MB/s\u001b[0m eta \u001b[36m0:00:00\u001b[0m\n",
            "\u001b[?25hRequirement already satisfied: lxml>=4.1.0 in /usr/local/lib/python3.7/dist-packages (from konlpy) (4.9.1)\n",
            "Requirement already satisfied: numpy>=1.6 in /usr/local/lib/python3.7/dist-packages (from konlpy) (1.21.6)\n",
            "Collecting JPype1>=0.7.0\n",
            "  Downloading JPype1-1.4.1-cp37-cp37m-manylinux_2_12_x86_64.manylinux2010_x86_64.whl (465 kB)\n",
            "\u001b[2K     \u001b[90m━━━━━━━━━━━━━━━━━━━━━━━━━━━━━━━━━━━━━━\u001b[0m \u001b[32m465.3/465.3 kB\u001b[0m \u001b[31m32.9 MB/s\u001b[0m eta \u001b[36m0:00:00\u001b[0m\n",
            "\u001b[?25hRequirement already satisfied: typing-extensions in /usr/local/lib/python3.7/dist-packages (from JPype1>=0.7.0->konlpy) (4.1.1)\n",
            "Requirement already satisfied: packaging in /usr/local/lib/python3.7/dist-packages (from JPype1>=0.7.0->konlpy) (21.3)\n",
            "Requirement already satisfied: pyparsing!=3.0.5,>=2.0.2 in /usr/local/lib/python3.7/dist-packages (from packaging->JPype1>=0.7.0->konlpy) (3.0.9)\n",
            "Installing collected packages: JPype1, konlpy\n",
            "Successfully installed JPype1-1.4.1 konlpy-0.6.0\n",
            "\u001b[33mWARNING: Running pip as the 'root' user can result in broken permissions and conflicting behaviour with the system package manager. It is recommended to use a virtual environment instead: https://pip.pypa.io/warnings/venv\u001b[0m\u001b[33m\n",
            "\u001b[0m"
          ]
        }
      ]
    },
    {
      "cell_type": "code",
      "source": [
        "import pandas as pd\n",
        "\n",
        "train_df = pd.read_csv('ratings_train.txt', sep = '\\t')\n",
        "train_df.head(3)"
      ],
      "metadata": {
        "colab": {
          "base_uri": "https://localhost:8080/",
          "height": 143
        },
        "id": "6MMRrDVNdSQ7",
        "outputId": "de0145ed-c207-4760-a723-935834a178de"
      },
      "execution_count": 36,
      "outputs": [
        {
          "output_type": "execute_result",
          "data": {
            "text/plain": [
              "         id                           document  label\n",
              "0   9976970                아 더빙.. 진짜 짜증나네요 목소리      0\n",
              "1   3819312  흠...포스터보고 초딩영화줄....오버연기조차 가볍지 않구나      1\n",
              "2  10265843                  너무재밓었다그래서보는것을추천한다      0"
            ],
            "text/html": [
              "\n",
              "  <div id=\"df-53c7a673-4482-49b0-bda8-921f3d19237e\">\n",
              "    <div class=\"colab-df-container\">\n",
              "      <div>\n",
              "<style scoped>\n",
              "    .dataframe tbody tr th:only-of-type {\n",
              "        vertical-align: middle;\n",
              "    }\n",
              "\n",
              "    .dataframe tbody tr th {\n",
              "        vertical-align: top;\n",
              "    }\n",
              "\n",
              "    .dataframe thead th {\n",
              "        text-align: right;\n",
              "    }\n",
              "</style>\n",
              "<table border=\"1\" class=\"dataframe\">\n",
              "  <thead>\n",
              "    <tr style=\"text-align: right;\">\n",
              "      <th></th>\n",
              "      <th>id</th>\n",
              "      <th>document</th>\n",
              "      <th>label</th>\n",
              "    </tr>\n",
              "  </thead>\n",
              "  <tbody>\n",
              "    <tr>\n",
              "      <th>0</th>\n",
              "      <td>9976970</td>\n",
              "      <td>아 더빙.. 진짜 짜증나네요 목소리</td>\n",
              "      <td>0</td>\n",
              "    </tr>\n",
              "    <tr>\n",
              "      <th>1</th>\n",
              "      <td>3819312</td>\n",
              "      <td>흠...포스터보고 초딩영화줄....오버연기조차 가볍지 않구나</td>\n",
              "      <td>1</td>\n",
              "    </tr>\n",
              "    <tr>\n",
              "      <th>2</th>\n",
              "      <td>10265843</td>\n",
              "      <td>너무재밓었다그래서보는것을추천한다</td>\n",
              "      <td>0</td>\n",
              "    </tr>\n",
              "  </tbody>\n",
              "</table>\n",
              "</div>\n",
              "      <button class=\"colab-df-convert\" onclick=\"convertToInteractive('df-53c7a673-4482-49b0-bda8-921f3d19237e')\"\n",
              "              title=\"Convert this dataframe to an interactive table.\"\n",
              "              style=\"display:none;\">\n",
              "        \n",
              "  <svg xmlns=\"http://www.w3.org/2000/svg\" height=\"24px\"viewBox=\"0 0 24 24\"\n",
              "       width=\"24px\">\n",
              "    <path d=\"M0 0h24v24H0V0z\" fill=\"none\"/>\n",
              "    <path d=\"M18.56 5.44l.94 2.06.94-2.06 2.06-.94-2.06-.94-.94-2.06-.94 2.06-2.06.94zm-11 1L8.5 8.5l.94-2.06 2.06-.94-2.06-.94L8.5 2.5l-.94 2.06-2.06.94zm10 10l.94 2.06.94-2.06 2.06-.94-2.06-.94-.94-2.06-.94 2.06-2.06.94z\"/><path d=\"M17.41 7.96l-1.37-1.37c-.4-.4-.92-.59-1.43-.59-.52 0-1.04.2-1.43.59L10.3 9.45l-7.72 7.72c-.78.78-.78 2.05 0 2.83L4 21.41c.39.39.9.59 1.41.59.51 0 1.02-.2 1.41-.59l7.78-7.78 2.81-2.81c.8-.78.8-2.07 0-2.86zM5.41 20L4 18.59l7.72-7.72 1.47 1.35L5.41 20z\"/>\n",
              "  </svg>\n",
              "      </button>\n",
              "      \n",
              "  <style>\n",
              "    .colab-df-container {\n",
              "      display:flex;\n",
              "      flex-wrap:wrap;\n",
              "      gap: 12px;\n",
              "    }\n",
              "\n",
              "    .colab-df-convert {\n",
              "      background-color: #E8F0FE;\n",
              "      border: none;\n",
              "      border-radius: 50%;\n",
              "      cursor: pointer;\n",
              "      display: none;\n",
              "      fill: #1967D2;\n",
              "      height: 32px;\n",
              "      padding: 0 0 0 0;\n",
              "      width: 32px;\n",
              "    }\n",
              "\n",
              "    .colab-df-convert:hover {\n",
              "      background-color: #E2EBFA;\n",
              "      box-shadow: 0px 1px 2px rgba(60, 64, 67, 0.3), 0px 1px 3px 1px rgba(60, 64, 67, 0.15);\n",
              "      fill: #174EA6;\n",
              "    }\n",
              "\n",
              "    [theme=dark] .colab-df-convert {\n",
              "      background-color: #3B4455;\n",
              "      fill: #D2E3FC;\n",
              "    }\n",
              "\n",
              "    [theme=dark] .colab-df-convert:hover {\n",
              "      background-color: #434B5C;\n",
              "      box-shadow: 0px 1px 3px 1px rgba(0, 0, 0, 0.15);\n",
              "      filter: drop-shadow(0px 1px 2px rgba(0, 0, 0, 0.3));\n",
              "      fill: #FFFFFF;\n",
              "    }\n",
              "  </style>\n",
              "\n",
              "      <script>\n",
              "        const buttonEl =\n",
              "          document.querySelector('#df-53c7a673-4482-49b0-bda8-921f3d19237e button.colab-df-convert');\n",
              "        buttonEl.style.display =\n",
              "          google.colab.kernel.accessAllowed ? 'block' : 'none';\n",
              "\n",
              "        async function convertToInteractive(key) {\n",
              "          const element = document.querySelector('#df-53c7a673-4482-49b0-bda8-921f3d19237e');\n",
              "          const dataTable =\n",
              "            await google.colab.kernel.invokeFunction('convertToInteractive',\n",
              "                                                     [key], {});\n",
              "          if (!dataTable) return;\n",
              "\n",
              "          const docLinkHtml = 'Like what you see? Visit the ' +\n",
              "            '<a target=\"_blank\" href=https://colab.research.google.com/notebooks/data_table.ipynb>data table notebook</a>'\n",
              "            + ' to learn more about interactive tables.';\n",
              "          element.innerHTML = '';\n",
              "          dataTable['output_type'] = 'display_data';\n",
              "          await google.colab.output.renderOutput(dataTable, element);\n",
              "          const docLink = document.createElement('div');\n",
              "          docLink.innerHTML = docLinkHtml;\n",
              "          element.appendChild(docLink);\n",
              "        }\n",
              "      </script>\n",
              "    </div>\n",
              "  </div>\n",
              "  "
            ]
          },
          "metadata": {},
          "execution_count": 36
        }
      ]
    },
    {
      "cell_type": "markdown",
      "source": [
        "  - 학습 데이터 세트의 0과 1의 Label 값 비율을 살펴보자.\n",
        "  - 1이 긍정, 0이 부정 감성이다."
      ],
      "metadata": {
        "id": "DQfdPypgdvqk"
      }
    },
    {
      "cell_type": "code",
      "source": [
        "train_df['label'].value_counts()"
      ],
      "metadata": {
        "colab": {
          "base_uri": "https://localhost:8080/"
        },
        "id": "wkjIKQkUdzSw",
        "outputId": "c2c51537-2649-4230-aa13-ad33a4abb964"
      },
      "execution_count": 37,
      "outputs": [
        {
          "output_type": "execute_result",
          "data": {
            "text/plain": [
              "0    75173\n",
              "1    74827\n",
              "Name: label, dtype: int64"
            ]
          },
          "metadata": {},
          "execution_count": 37
        }
      ]
    },
    {
      "cell_type": "markdown",
      "source": [
        "  - 0과 1의 비율이 한쪽으로 치우치지 않고 균등하다.\n",
        "  - train_df의 경우 리뷰 텍스트를 가지는 document 칼럼에 Null이 일부 존재하므로 이 값은 공백으로 변환한다.\n",
        "  - 문자가 아닌 숫자의 경우, 단어적인 의미로 부족하므로 파이썬의 정규 표현식 모듈인 re를 이용해 이 역시 공백으로 변환한다.\n",
        "  - 테스트 데이터 세트의 경우도 파일을 로딩하고 동일한 데이터 가공을 수행한다."
      ],
      "metadata": {
        "id": "ZYbHUg3pd4-l"
      }
    },
    {
      "cell_type": "code",
      "source": [
        "import re\n",
        "\n",
        "train_df = train_df.fillna(' ')\n",
        "# 정규 표현식을 이용해 숫자를 공백으로 변경 (정규 표현식으로 \\d는 숫자를 의미)\n",
        "train_df['document'] = train_df['document'].apply(lambda x : re.sub(r'\\d+', ' ', x))\n",
        "\n",
        "# 테스트 데이터 세트를 로딩하고 동일하게 Null 및 숫자를 공백으로 변환\n",
        "test_df = pd.read_csv('ratings_test.txt', sep = '\\t')\n",
        "test_df = test_df.fillna(' ')\n",
        "test_df['document'] = test_df['document'].apply(lambda x : re.sub(r'\\d+', ' ', x))\n",
        "\n",
        "# id 칼럼 삭제 수행\n",
        "train_df.drop('id', axis = 1, inplace = True)\n",
        "test_df.drop('id', axis = 1, inplace = True)"
      ],
      "metadata": {
        "id": "cFX3yS23d1PP"
      },
      "execution_count": 38,
      "outputs": []
    },
    {
      "cell_type": "markdown",
      "source": [
        "  - 이제 TF-IDF 방식으로 단어를 벡터화할 텐데, 먼저 각 문장을 `한글 형태소 분석`을 통해 `형태소 단어로 토큰화`한다.\n",
        "  - `한글 형태소 엔진`은 SNS 분석에 적합한 `Twitter 클래스`를 이용한다.\n",
        "  - `Twitter` 객체의 `morphs() 메서드`를 이용하면 입력 인자로 들어온 `문장을 형태소 단어 형태로 토큰화`해 list 객체로 반환한다.\n",
        "  - `문장을 형태소 단어 형태로 반환`하는 별도의 tokenizer 함수를 `tw_tokenizer()`라는 이름으로 생성한다."
      ],
      "metadata": {
        "id": "QauwX70HemRt"
      }
    },
    {
      "cell_type": "code",
      "source": [
        "from konlpy.tag import Twitter\n",
        "\n",
        "twitter = Twitter()\n",
        "def tw_tokenizer(text):\n",
        "  # 입력 인자로 들어온 텍스트를 형태소 단어로 토큰화해 리스트 형태로 반환\n",
        "  tokens_ko = twitter.morphs(text)\n",
        "  return tokens_ko"
      ],
      "metadata": {
        "colab": {
          "base_uri": "https://localhost:8080/"
        },
        "id": "eMV4JZchejj1",
        "outputId": "074437fa-c7b8-40d9-ee2b-fb7f86d508e7"
      },
      "execution_count": 39,
      "outputs": [
        {
          "output_type": "stream",
          "name": "stderr",
          "text": [
            "/usr/local/lib/python3.7/dist-packages/konlpy/tag/_okt.py:17: UserWarning: \"Twitter\" has changed to \"Okt\" since KoNLPy v0.4.5.\n",
            "  warn('\"Twitter\" has changed to \"Okt\" since KoNLPy v0.4.5.')\n"
          ]
        }
      ]
    },
    {
      "cell_type": "markdown",
      "source": [
        "  - 사이킷런의 TfidfVectorizer를 이용해 TF-IDF 피처 모델을 생성한다."
      ],
      "metadata": {
        "id": "fj5CidVnfJQ5"
      }
    },
    {
      "cell_type": "code",
      "source": [
        "from sklearn.feature_extraction.text import TfidfVectorizer\n",
        "from sklearn.linear_model import LogisticRegression\n",
        "from sklearn.model_selection import GridSearchCV\n",
        "\n",
        "# Twitter 객체의 morphs() 객체를 이용한 tokenizer를 이용, ngram_range는 (1, 2)\n",
        "tfidf_vect = TfidfVectorizer(tokenizer = tw_tokenizer, ngram_range = (1, 2), min_df = 3, max_df = 0.9)\n",
        "tfidf_vect.fit(train_df['document'])\n",
        "tfidf_matrix_train = tfidf_vect.transform(train_df['document'])"
      ],
      "metadata": {
        "colab": {
          "base_uri": "https://localhost:8080/"
        },
        "id": "xCKu2ujBfIPl",
        "outputId": "497acc58-36f7-4cfe-cbc5-2c30c27f6106"
      },
      "execution_count": 40,
      "outputs": [
        {
          "output_type": "stream",
          "name": "stderr",
          "text": [
            "/usr/local/lib/python3.7/dist-packages/sklearn/feature_extraction/text.py:517: UserWarning: The parameter 'token_pattern' will not be used since 'tokenizer' is not None'\n",
            "  \"The parameter 'token_pattern' will not be used\"\n"
          ]
        }
      ]
    },
    {
      "cell_type": "markdown",
      "source": [
        "  - 로지스틱 회귀를 이용해 분류 기반의 감성 분석을 수행한다. 로지스틱 회귀의 하이퍼 파라미터 C의 최적화를 위해 GridSearchCV를 이용한다."
      ],
      "metadata": {
        "id": "2-NsZs56fjOA"
      }
    },
    {
      "cell_type": "code",
      "source": [
        "# 로지스틱 회귀를 이용해 감성 분석 분류 수행\n",
        "lg_clf = LogisticRegression(random_state = 0)\n",
        "\n",
        "# 파라미터 C 최적화를 위해 GridSearchCV를 이용\n",
        "params = {'C' : [1, 3.5, 4.5, 5.5, 10]}\n",
        "\n",
        "grid_cv = GridSearchCV(lg_clf, param_grid = params, cv = 3, scoring = 'accuracy', verbose = -1)\n",
        "grid_cv.fit(tfidf_matrix_train, train_df['label'])\n",
        "\n",
        "print(grid_cv.best_params_, round(grid_cv.best_score_, 4))"
      ],
      "metadata": {
        "colab": {
          "base_uri": "https://localhost:8080/"
        },
        "id": "fqPEdZAYfift",
        "outputId": "4b97acfc-7702-4367-cd26-5af4fce2a008"
      },
      "execution_count": 41,
      "outputs": [
        {
          "output_type": "stream",
          "name": "stderr",
          "text": [
            "/usr/local/lib/python3.7/dist-packages/sklearn/linear_model/_logistic.py:818: ConvergenceWarning: lbfgs failed to converge (status=1):\n",
            "STOP: TOTAL NO. of ITERATIONS REACHED LIMIT.\n",
            "\n",
            "Increase the number of iterations (max_iter) or scale the data as shown in:\n",
            "    https://scikit-learn.org/stable/modules/preprocessing.html\n",
            "Please also refer to the documentation for alternative solver options:\n",
            "    https://scikit-learn.org/stable/modules/linear_model.html#logistic-regression\n",
            "  extra_warning_msg=_LOGISTIC_SOLVER_CONVERGENCE_MSG,\n",
            "/usr/local/lib/python3.7/dist-packages/sklearn/linear_model/_logistic.py:818: ConvergenceWarning: lbfgs failed to converge (status=1):\n",
            "STOP: TOTAL NO. of ITERATIONS REACHED LIMIT.\n",
            "\n",
            "Increase the number of iterations (max_iter) or scale the data as shown in:\n",
            "    https://scikit-learn.org/stable/modules/preprocessing.html\n",
            "Please also refer to the documentation for alternative solver options:\n",
            "    https://scikit-learn.org/stable/modules/linear_model.html#logistic-regression\n",
            "  extra_warning_msg=_LOGISTIC_SOLVER_CONVERGENCE_MSG,\n",
            "/usr/local/lib/python3.7/dist-packages/sklearn/linear_model/_logistic.py:818: ConvergenceWarning: lbfgs failed to converge (status=1):\n",
            "STOP: TOTAL NO. of ITERATIONS REACHED LIMIT.\n",
            "\n",
            "Increase the number of iterations (max_iter) or scale the data as shown in:\n",
            "    https://scikit-learn.org/stable/modules/preprocessing.html\n",
            "Please also refer to the documentation for alternative solver options:\n",
            "    https://scikit-learn.org/stable/modules/linear_model.html#logistic-regression\n",
            "  extra_warning_msg=_LOGISTIC_SOLVER_CONVERGENCE_MSG,\n",
            "/usr/local/lib/python3.7/dist-packages/sklearn/linear_model/_logistic.py:818: ConvergenceWarning: lbfgs failed to converge (status=1):\n",
            "STOP: TOTAL NO. of ITERATIONS REACHED LIMIT.\n",
            "\n",
            "Increase the number of iterations (max_iter) or scale the data as shown in:\n",
            "    https://scikit-learn.org/stable/modules/preprocessing.html\n",
            "Please also refer to the documentation for alternative solver options:\n",
            "    https://scikit-learn.org/stable/modules/linear_model.html#logistic-regression\n",
            "  extra_warning_msg=_LOGISTIC_SOLVER_CONVERGENCE_MSG,\n",
            "/usr/local/lib/python3.7/dist-packages/sklearn/linear_model/_logistic.py:818: ConvergenceWarning: lbfgs failed to converge (status=1):\n",
            "STOP: TOTAL NO. of ITERATIONS REACHED LIMIT.\n",
            "\n",
            "Increase the number of iterations (max_iter) or scale the data as shown in:\n",
            "    https://scikit-learn.org/stable/modules/preprocessing.html\n",
            "Please also refer to the documentation for alternative solver options:\n",
            "    https://scikit-learn.org/stable/modules/linear_model.html#logistic-regression\n",
            "  extra_warning_msg=_LOGISTIC_SOLVER_CONVERGENCE_MSG,\n",
            "/usr/local/lib/python3.7/dist-packages/sklearn/linear_model/_logistic.py:818: ConvergenceWarning: lbfgs failed to converge (status=1):\n",
            "STOP: TOTAL NO. of ITERATIONS REACHED LIMIT.\n",
            "\n",
            "Increase the number of iterations (max_iter) or scale the data as shown in:\n",
            "    https://scikit-learn.org/stable/modules/preprocessing.html\n",
            "Please also refer to the documentation for alternative solver options:\n",
            "    https://scikit-learn.org/stable/modules/linear_model.html#logistic-regression\n",
            "  extra_warning_msg=_LOGISTIC_SOLVER_CONVERGENCE_MSG,\n",
            "/usr/local/lib/python3.7/dist-packages/sklearn/linear_model/_logistic.py:818: ConvergenceWarning: lbfgs failed to converge (status=1):\n",
            "STOP: TOTAL NO. of ITERATIONS REACHED LIMIT.\n",
            "\n",
            "Increase the number of iterations (max_iter) or scale the data as shown in:\n",
            "    https://scikit-learn.org/stable/modules/preprocessing.html\n",
            "Please also refer to the documentation for alternative solver options:\n",
            "    https://scikit-learn.org/stable/modules/linear_model.html#logistic-regression\n",
            "  extra_warning_msg=_LOGISTIC_SOLVER_CONVERGENCE_MSG,\n",
            "/usr/local/lib/python3.7/dist-packages/sklearn/linear_model/_logistic.py:818: ConvergenceWarning: lbfgs failed to converge (status=1):\n",
            "STOP: TOTAL NO. of ITERATIONS REACHED LIMIT.\n",
            "\n",
            "Increase the number of iterations (max_iter) or scale the data as shown in:\n",
            "    https://scikit-learn.org/stable/modules/preprocessing.html\n",
            "Please also refer to the documentation for alternative solver options:\n",
            "    https://scikit-learn.org/stable/modules/linear_model.html#logistic-regression\n",
            "  extra_warning_msg=_LOGISTIC_SOLVER_CONVERGENCE_MSG,\n",
            "/usr/local/lib/python3.7/dist-packages/sklearn/linear_model/_logistic.py:818: ConvergenceWarning: lbfgs failed to converge (status=1):\n",
            "STOP: TOTAL NO. of ITERATIONS REACHED LIMIT.\n",
            "\n",
            "Increase the number of iterations (max_iter) or scale the data as shown in:\n",
            "    https://scikit-learn.org/stable/modules/preprocessing.html\n",
            "Please also refer to the documentation for alternative solver options:\n",
            "    https://scikit-learn.org/stable/modules/linear_model.html#logistic-regression\n",
            "  extra_warning_msg=_LOGISTIC_SOLVER_CONVERGENCE_MSG,\n",
            "/usr/local/lib/python3.7/dist-packages/sklearn/linear_model/_logistic.py:818: ConvergenceWarning: lbfgs failed to converge (status=1):\n",
            "STOP: TOTAL NO. of ITERATIONS REACHED LIMIT.\n",
            "\n",
            "Increase the number of iterations (max_iter) or scale the data as shown in:\n",
            "    https://scikit-learn.org/stable/modules/preprocessing.html\n",
            "Please also refer to the documentation for alternative solver options:\n",
            "    https://scikit-learn.org/stable/modules/linear_model.html#logistic-regression\n",
            "  extra_warning_msg=_LOGISTIC_SOLVER_CONVERGENCE_MSG,\n",
            "/usr/local/lib/python3.7/dist-packages/sklearn/linear_model/_logistic.py:818: ConvergenceWarning: lbfgs failed to converge (status=1):\n",
            "STOP: TOTAL NO. of ITERATIONS REACHED LIMIT.\n",
            "\n",
            "Increase the number of iterations (max_iter) or scale the data as shown in:\n",
            "    https://scikit-learn.org/stable/modules/preprocessing.html\n",
            "Please also refer to the documentation for alternative solver options:\n",
            "    https://scikit-learn.org/stable/modules/linear_model.html#logistic-regression\n",
            "  extra_warning_msg=_LOGISTIC_SOLVER_CONVERGENCE_MSG,\n",
            "/usr/local/lib/python3.7/dist-packages/sklearn/linear_model/_logistic.py:818: ConvergenceWarning: lbfgs failed to converge (status=1):\n",
            "STOP: TOTAL NO. of ITERATIONS REACHED LIMIT.\n",
            "\n",
            "Increase the number of iterations (max_iter) or scale the data as shown in:\n",
            "    https://scikit-learn.org/stable/modules/preprocessing.html\n",
            "Please also refer to the documentation for alternative solver options:\n",
            "    https://scikit-learn.org/stable/modules/linear_model.html#logistic-regression\n",
            "  extra_warning_msg=_LOGISTIC_SOLVER_CONVERGENCE_MSG,\n"
          ]
        },
        {
          "output_type": "stream",
          "name": "stdout",
          "text": [
            "{'C': 3.5} 0.8593\n"
          ]
        },
        {
          "output_type": "stream",
          "name": "stderr",
          "text": [
            "/usr/local/lib/python3.7/dist-packages/sklearn/linear_model/_logistic.py:818: ConvergenceWarning: lbfgs failed to converge (status=1):\n",
            "STOP: TOTAL NO. of ITERATIONS REACHED LIMIT.\n",
            "\n",
            "Increase the number of iterations (max_iter) or scale the data as shown in:\n",
            "    https://scikit-learn.org/stable/modules/preprocessing.html\n",
            "Please also refer to the documentation for alternative solver options:\n",
            "    https://scikit-learn.org/stable/modules/linear_model.html#logistic-regression\n",
            "  extra_warning_msg=_LOGISTIC_SOLVER_CONVERGENCE_MSG,\n"
          ]
        }
      ]
    },
    {
      "cell_type": "markdown",
      "source": [
        "  - C가 3.5일 때 최고 0.8593의 정확도를 보인다. \n",
        "  - 이제 테스트 데이터를 이용해 최종 감성 분석 예측을 수행해보자.\n",
        "  - `테스트 세트를 이용해 예측`할 때는, `학습할 때 적용한 TfidfVectorizer를 그대로 사용`해야 한다. 그래야만 학습 시 설정된 TfidfVectorizer의 피처 개수와 테스트 데이터를 TfidfVectorizer로 변환할 피처 개수가 같아진다."
      ],
      "metadata": {
        "id": "rNzq0v8UgA5H"
      }
    },
    {
      "cell_type": "code",
      "source": [
        "from sklearn.metrics import accuracy_score\n",
        "\n",
        "# 학습 데이터를 적용한 TfidfVectorizer를 이용해 테스트 데이터를 TF-IDF 값으로 피처 변환\n",
        "tfidf_matrix_test = tfidf_vect.transform(test_df['document'])\n",
        "\n",
        "# classifier는 GridSearchCV에서 최적 파라미터로 학습된 classifier를 그대로 이용\n",
        "best_estimator = grid_cv.best_estimator_\n",
        "preds = best_estimator.predict(tfidf_matrix_test)\n",
        "\n",
        "print('Logistic Regression 정확도:', accuracy_score(test_df['label'], preds))"
      ],
      "metadata": {
        "colab": {
          "base_uri": "https://localhost:8080/"
        },
        "id": "iKFxFpVnf_pX",
        "outputId": "3e5dc2ca-e084-4fc5-82b9-9c0347a0f8b8"
      },
      "execution_count": 42,
      "outputs": [
        {
          "output_type": "stream",
          "name": "stdout",
          "text": [
            "Logistic Regression 정확도: 0.86186\n"
          ]
        }
      ]
    }
  ]
}
