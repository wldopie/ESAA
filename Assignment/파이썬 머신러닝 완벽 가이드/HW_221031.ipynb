{
  "nbformat": 4,
  "nbformat_minor": 0,
  "metadata": {
    "colab": {
      "provenance": [],
      "authorship_tag": "ABX9TyM8PIrNZBQI8lX7cFYHJqsI",
      "include_colab_link": true
    },
    "kernelspec": {
      "name": "python3",
      "display_name": "Python 3"
    },
    "language_info": {
      "name": "python"
    }
  },
  "cells": [
    {
      "cell_type": "markdown",
      "metadata": {
        "id": "view-in-github",
        "colab_type": "text"
      },
      "source": [
        "<a href=\"https://colab.research.google.com/github/wldopie/ESAA/blob/main/HW_221031.ipynb\" target=\"_parent\"><img src=\"https://colab.research.google.com/assets/colab-badge.svg\" alt=\"Open In Colab\"/></a>"
      ]
    },
    {
      "cell_type": "markdown",
      "source": [
        "## **8.5 감성 분석**"
      ],
      "metadata": {
        "id": "azDJc8yMTTH-"
      }
    },
    {
      "cell_type": "markdown",
      "source": [
        "### **a. 감성 분석 소개**\n",
        "  - 감성 분석\n",
        "    - 문서의 주관적인 감성/의견/감정/기분 등을 파악하기 위한 방법으로 소셜 미디어, 여론조사, 온라인 리뷰, 피드백 등 다양한 분야에서 활용\n",
        "    - 문서 내 텍스트가 나타내는 여러 가지 주관적인 단어와 문맥을 기반으로 감성 수치를 계산하는 방법을 이용\n",
        "    - 감성 지수는 긍정 감정 지수와 부정 감정 지수로 구성되며, 이들 지수를 합산해 긍정 감성 또는 부정 감성을 결정\n",
        "    - 감성 분석은 지도학습과 비지도학습 방식으로 구분\n",
        "      - 지도학습 : 학습 데이터와 타깃 레이블 값을 기반으로 감성 분석 학습을 수행한 뒤 이를 기반으로 다른 데이터의 감성 분석을 예측하는 방법으로, 일반적인 텍스트 기반의 분류와 거의 동일\n",
        "      - 비지도학습 : '`Lexicon`'이라는 일종의 감성 어휘 사전을 이용"
      ],
      "metadata": {
        "id": "NG0QkRqXTb1w"
      }
    },
    {
      "cell_type": "markdown",
      "source": [
        "### **b. `지도학습 기반` 감성 분석 실습 - IMDB 영화평**\n",
        "  - 영화평의 텍스트를 분석해 감성 분석 결과가 긍정 또는 부정인지를 예측하는 모델을 생성해보자."
      ],
      "metadata": {
        "id": "uvAC6iv8Th8E"
      }
    },
    {
      "cell_type": "code",
      "execution_count": 2,
      "metadata": {
        "colab": {
          "base_uri": "https://localhost:8080/",
          "height": 143
        },
        "id": "GOO-rlv5SqLn",
        "outputId": "e1fd69e9-a2c5-4318-bd47-5d65adb92bf0"
      },
      "outputs": [
        {
          "output_type": "execute_result",
          "data": {
            "text/plain": [
              "         id  sentiment                                             review\n",
              "0  \"5814_8\"          1  \"With all this stuff going down at the moment ...\n",
              "1  \"2381_9\"          1  \"\\\"The Classic War of the Worlds\\\" by Timothy ...\n",
              "2  \"7759_3\"          0  \"The film starts with a manager (Nicholas Bell..."
            ],
            "text/html": [
              "\n",
              "  <div id=\"df-2cfc21e3-803a-4ebd-b601-ade40c5f8dbb\">\n",
              "    <div class=\"colab-df-container\">\n",
              "      <div>\n",
              "<style scoped>\n",
              "    .dataframe tbody tr th:only-of-type {\n",
              "        vertical-align: middle;\n",
              "    }\n",
              "\n",
              "    .dataframe tbody tr th {\n",
              "        vertical-align: top;\n",
              "    }\n",
              "\n",
              "    .dataframe thead th {\n",
              "        text-align: right;\n",
              "    }\n",
              "</style>\n",
              "<table border=\"1\" class=\"dataframe\">\n",
              "  <thead>\n",
              "    <tr style=\"text-align: right;\">\n",
              "      <th></th>\n",
              "      <th>id</th>\n",
              "      <th>sentiment</th>\n",
              "      <th>review</th>\n",
              "    </tr>\n",
              "  </thead>\n",
              "  <tbody>\n",
              "    <tr>\n",
              "      <th>0</th>\n",
              "      <td>\"5814_8\"</td>\n",
              "      <td>1</td>\n",
              "      <td>\"With all this stuff going down at the moment ...</td>\n",
              "    </tr>\n",
              "    <tr>\n",
              "      <th>1</th>\n",
              "      <td>\"2381_9\"</td>\n",
              "      <td>1</td>\n",
              "      <td>\"\\\"The Classic War of the Worlds\\\" by Timothy ...</td>\n",
              "    </tr>\n",
              "    <tr>\n",
              "      <th>2</th>\n",
              "      <td>\"7759_3\"</td>\n",
              "      <td>0</td>\n",
              "      <td>\"The film starts with a manager (Nicholas Bell...</td>\n",
              "    </tr>\n",
              "  </tbody>\n",
              "</table>\n",
              "</div>\n",
              "      <button class=\"colab-df-convert\" onclick=\"convertToInteractive('df-2cfc21e3-803a-4ebd-b601-ade40c5f8dbb')\"\n",
              "              title=\"Convert this dataframe to an interactive table.\"\n",
              "              style=\"display:none;\">\n",
              "        \n",
              "  <svg xmlns=\"http://www.w3.org/2000/svg\" height=\"24px\"viewBox=\"0 0 24 24\"\n",
              "       width=\"24px\">\n",
              "    <path d=\"M0 0h24v24H0V0z\" fill=\"none\"/>\n",
              "    <path d=\"M18.56 5.44l.94 2.06.94-2.06 2.06-.94-2.06-.94-.94-2.06-.94 2.06-2.06.94zm-11 1L8.5 8.5l.94-2.06 2.06-.94-2.06-.94L8.5 2.5l-.94 2.06-2.06.94zm10 10l.94 2.06.94-2.06 2.06-.94-2.06-.94-.94-2.06-.94 2.06-2.06.94z\"/><path d=\"M17.41 7.96l-1.37-1.37c-.4-.4-.92-.59-1.43-.59-.52 0-1.04.2-1.43.59L10.3 9.45l-7.72 7.72c-.78.78-.78 2.05 0 2.83L4 21.41c.39.39.9.59 1.41.59.51 0 1.02-.2 1.41-.59l7.78-7.78 2.81-2.81c.8-.78.8-2.07 0-2.86zM5.41 20L4 18.59l7.72-7.72 1.47 1.35L5.41 20z\"/>\n",
              "  </svg>\n",
              "      </button>\n",
              "      \n",
              "  <style>\n",
              "    .colab-df-container {\n",
              "      display:flex;\n",
              "      flex-wrap:wrap;\n",
              "      gap: 12px;\n",
              "    }\n",
              "\n",
              "    .colab-df-convert {\n",
              "      background-color: #E8F0FE;\n",
              "      border: none;\n",
              "      border-radius: 50%;\n",
              "      cursor: pointer;\n",
              "      display: none;\n",
              "      fill: #1967D2;\n",
              "      height: 32px;\n",
              "      padding: 0 0 0 0;\n",
              "      width: 32px;\n",
              "    }\n",
              "\n",
              "    .colab-df-convert:hover {\n",
              "      background-color: #E2EBFA;\n",
              "      box-shadow: 0px 1px 2px rgba(60, 64, 67, 0.3), 0px 1px 3px 1px rgba(60, 64, 67, 0.15);\n",
              "      fill: #174EA6;\n",
              "    }\n",
              "\n",
              "    [theme=dark] .colab-df-convert {\n",
              "      background-color: #3B4455;\n",
              "      fill: #D2E3FC;\n",
              "    }\n",
              "\n",
              "    [theme=dark] .colab-df-convert:hover {\n",
              "      background-color: #434B5C;\n",
              "      box-shadow: 0px 1px 3px 1px rgba(0, 0, 0, 0.15);\n",
              "      filter: drop-shadow(0px 1px 2px rgba(0, 0, 0, 0.3));\n",
              "      fill: #FFFFFF;\n",
              "    }\n",
              "  </style>\n",
              "\n",
              "      <script>\n",
              "        const buttonEl =\n",
              "          document.querySelector('#df-2cfc21e3-803a-4ebd-b601-ade40c5f8dbb button.colab-df-convert');\n",
              "        buttonEl.style.display =\n",
              "          google.colab.kernel.accessAllowed ? 'block' : 'none';\n",
              "\n",
              "        async function convertToInteractive(key) {\n",
              "          const element = document.querySelector('#df-2cfc21e3-803a-4ebd-b601-ade40c5f8dbb');\n",
              "          const dataTable =\n",
              "            await google.colab.kernel.invokeFunction('convertToInteractive',\n",
              "                                                     [key], {});\n",
              "          if (!dataTable) return;\n",
              "\n",
              "          const docLinkHtml = 'Like what you see? Visit the ' +\n",
              "            '<a target=\"_blank\" href=https://colab.research.google.com/notebooks/data_table.ipynb>data table notebook</a>'\n",
              "            + ' to learn more about interactive tables.';\n",
              "          element.innerHTML = '';\n",
              "          dataTable['output_type'] = 'display_data';\n",
              "          await google.colab.output.renderOutput(dataTable, element);\n",
              "          const docLink = document.createElement('div');\n",
              "          docLink.innerHTML = docLinkHtml;\n",
              "          element.appendChild(docLink);\n",
              "        }\n",
              "      </script>\n",
              "    </div>\n",
              "  </div>\n",
              "  "
            ]
          },
          "metadata": {},
          "execution_count": 2
        }
      ],
      "source": [
        "import pandas as pd\n",
        "\n",
        "review_df = pd.read_csv('labeledTrainData.tsv', header = 0, sep = '\\t', quoting = 3)\n",
        "review_df.head(3)"
      ]
    },
    {
      "cell_type": "markdown",
      "source": [
        "  - id : 각 데이터의 id\n",
        "  - sentiment : 영화평의 Sentiment 결과 값(Target Label). 1은 긍정적 평가, 0은 부정적 평가를 의미\n",
        "  - review : 영화평의 텍스트"
      ],
      "metadata": {
        "id": "iFYmnthZJPze"
      }
    },
    {
      "cell_type": "markdown",
      "source": [
        "  - 텍스트가 어떻게 구성돼 있는지 review 칼럼의 텍스트 값을 하나만 살펴보자."
      ],
      "metadata": {
        "id": "BYnE4P8GJ-9p"
      }
    },
    {
      "cell_type": "code",
      "source": [
        "print(review_df['review'][0])"
      ],
      "metadata": {
        "colab": {
          "base_uri": "https://localhost:8080/"
        },
        "id": "vTy34PArJdbF",
        "outputId": "25528f21-f235-46d8-9db1-e25da57d1285"
      },
      "execution_count": 3,
      "outputs": [
        {
          "output_type": "stream",
          "name": "stdout",
          "text": [
            "\"With all this stuff going down at the moment with MJ i've started listening to his music, watching the odd documentary here and there, watched The Wiz and watched Moonwalker again. Maybe i just want to get a certain insight into this guy who i thought was really cool in the eighties just to maybe make up my mind whether he is guilty or innocent. Moonwalker is part biography, part feature film which i remember going to see at the cinema when it was originally released. Some of it has subtle messages about MJ's feeling towards the press and also the obvious message of drugs are bad m'kay.<br /><br />Visually impressive but of course this is all about Michael Jackson so unless you remotely like MJ in anyway then you are going to hate this and find it boring. Some may call MJ an egotist for consenting to the making of this movie BUT MJ and most of his fans would say that he made it for the fans which if true is really nice of him.<br /><br />The actual feature film bit when it finally starts is only on for 20 minutes or so excluding the Smooth Criminal sequence and Joe Pesci is convincing as a psychopathic all powerful drug lord. Why he wants MJ dead so bad is beyond me. Because MJ overheard his plans? Nah, Joe Pesci's character ranted that he wanted people to know it is he who is supplying drugs etc so i dunno, maybe he just hates MJ's music.<br /><br />Lots of cool things in this like MJ turning into a car and a robot and the whole Speed Demon sequence. Also, the director must have had the patience of a saint when it came to filming the kiddy Bad sequence as usually directors hate working with one kid let alone a whole bunch of them performing a complex dance scene.<br /><br />Bottom line, this movie is for people who like MJ on one level or another (which i think is most people). If not, then stay away. It does try and give off a wholesome message and ironically MJ's bestest buddy in this movie is a girl! Michael Jackson is truly one of the most talented people ever to grace this planet but is he guilty? Well, with all the attention i've gave this subject....hmmm well i don't know because people can be different behind closed doors, i know this for a fact. He is either an extremely nice but stupid guy or one of the most sickest liars. I hope he is not the latter.\"\n"
          ]
        }
      ]
    },
    {
      "cell_type": "markdown",
      "source": [
        "  - HTML 형식에서 추출해 `<br />` 태그가 여전히 존재한다. replace()를 str에 적용해 `<br />` 태그를 `공백으로 모두 변경`한다.\n",
        "  - 또한 `영어가 아닌 숫자/특수문자` 역시 Sentiment를 위한 피처로는 별 의미가 없으므로 이들도 모두 `공란으로 변경`한다.\n",
        "    - `정규 표현식을 이용`해 숫자/특수문자를 찾고 이를 변환한다.\n",
        "    - 파이썬의 re 모듈은 편리하게 정규 표현식을 지원한다.\n",
        "    - `re.sub('[^a-zA-Z]', '', x)`는 영어 대/소문자가 아닌 `모든 문자를 찾아서 공란으로 변경`"
      ],
      "metadata": {
        "id": "h8pXULFMJq1F"
      }
    },
    {
      "cell_type": "code",
      "source": [
        "import re\n",
        "\n",
        "# <br> html 태그는 replace 함수로 공백으로 변환\n",
        "review_df['review'] = review_df['review'].str.replace('<br />', ' ')\n",
        "\n",
        "# 파이썬의 정규 표현식 모듈인 re를 이용해 영어 문자열이 아닌 문자는 모두 공백으로 변환\n",
        "review_df['review'] = review_df['review'].apply(lambda x : re.sub(\"[^a-zA-Z]\", \" \", x))"
      ],
      "metadata": {
        "id": "hOt0Dlw2Kc-S"
      },
      "execution_count": 4,
      "outputs": []
    },
    {
      "cell_type": "markdown",
      "source": [
        "  - 결정 값 클래스인 sentiment 칼럼을 별도로 추출해 `결정 값 데이터 세트`를 만들고, 원본 데이터 세트에서 id와 sentiment 칼럼을 삭제해 `피처 데이터 세트`를 생성한다.\n",
        "  - 그리고 train_test_split()을 이용해 학습용과 테스트용 데이터 세트로 분리한다."
      ],
      "metadata": {
        "id": "AzqVmjbyKz72"
      }
    },
    {
      "cell_type": "code",
      "source": [
        "from sklearn.model_selection import train_test_split\n",
        "\n",
        "class_df = review_df['sentiment']\n",
        "feature_df = review_df.drop(['id', 'sentiment'], axis = 1, inplace = False)\n",
        "\n",
        "X_train, X_test, y_train, y_test = train_test_split(feature_df, class_df, test_size = 0.3,\n",
        "                                                    random_state = 156)\n",
        "\n",
        "X_train.shape, X_test.shape"
      ],
      "metadata": {
        "colab": {
          "base_uri": "https://localhost:8080/"
        },
        "id": "8wEf5klcLNDo",
        "outputId": "13c782f6-3949-41a0-cb04-9c7c7bb66dd6"
      },
      "execution_count": 7,
      "outputs": [
        {
          "output_type": "execute_result",
          "data": {
            "text/plain": [
              "((17500, 1), (7500, 1))"
            ]
          },
          "metadata": {},
          "execution_count": 7
        }
      ]
    },
    {
      "cell_type": "markdown",
      "source": [
        "- 이제 감상평 `텍스트를 피처 벡터화`한 후에, ML 알고리즘을 적용해 `예측 성능을 측정`해보자. \n",
        "- 앞에서 설명한 Pipeline 객체를 이용해 이 두가지를 한꺼번에 수행한다.\n",
        "- 먼저 `Count 벡터화`를 이용해 예측 성능을 측정하고, 다음으로 `TF-IDF 벡터화`를 적용해보자. \n",
        "- Classifier는 `LogisticRegression`을 이용하며, 예측 성능 평가는 이진 분류임을 고려해 테스트 데이터 세트의 `정확도와 ROC-AUC를 모두 측정`한다."
      ],
      "metadata": {
        "id": "vzcIosK_Lm4Y"
      }
    },
    {
      "cell_type": "code",
      "source": [
        "from sklearn.feature_extraction.text import CountVectorizer, TfidfVectorizer\n",
        "from sklearn.pipeline import Pipeline\n",
        "from sklearn.linear_model import LogisticRegression\n",
        "from sklearn.metrics import accuracy_score, roc_auc_score\n",
        "\n",
        "# 스톱 워드는 English, filtering, ngram은 (1, 2)로 설정해 CountVectorization 수행\n",
        "# LogisticRegression의 C는 10으로 설정\n",
        "pipeline = Pipeline([\n",
        "    ('cnt_vect', CountVectorizer(stop_words = 'english', ngram_range = (1,2))),\n",
        "    ('lr_clf', LogisticRegression(C = 10))\n",
        "])\n",
        "\n",
        "# Pipeline 객체를 이용해 fit(), predict()로 학습/예측 수행\n",
        "# predict_proba()는 roc_auc 때문에 수행\n",
        "pipeline.fit(X_train['review'], y_train)\n",
        "pred = pipeline.predict(X_test['review'])\n",
        "pred_probs = pipeline.predict_proba(X_test['review'])[:, 1]\n",
        "\n",
        "print('예측 정확도는 {0:.4f}, ROC-AUC는 {1:.4f}'.format(accuracy_score(y_test, pred),\n",
        "                                                 roc_auc_score(y_test, pred_probs)))"
      ],
      "metadata": {
        "colab": {
          "base_uri": "https://localhost:8080/"
        },
        "id": "4v5G9epxL9y_",
        "outputId": "af26d42e-702a-4122-ef3e-aa5928692014"
      },
      "execution_count": 9,
      "outputs": [
        {
          "output_type": "stream",
          "name": "stderr",
          "text": [
            "/usr/local/lib/python3.7/dist-packages/sklearn/linear_model/_logistic.py:818: ConvergenceWarning: lbfgs failed to converge (status=1):\n",
            "STOP: TOTAL NO. of ITERATIONS REACHED LIMIT.\n",
            "\n",
            "Increase the number of iterations (max_iter) or scale the data as shown in:\n",
            "    https://scikit-learn.org/stable/modules/preprocessing.html\n",
            "Please also refer to the documentation for alternative solver options:\n",
            "    https://scikit-learn.org/stable/modules/linear_model.html#logistic-regression\n",
            "  extra_warning_msg=_LOGISTIC_SOLVER_CONVERGENCE_MSG,\n"
          ]
        },
        {
          "output_type": "stream",
          "name": "stdout",
          "text": [
            "예측 정확도는 0.8860, ROC-AUC는 0.9503\n"
          ]
        }
      ]
    },
    {
      "cell_type": "markdown",
      "source": [
        "  - 다음으로 TF-IDF 벡터화를 적용해 다시 예측 성능을 측정해보자."
      ],
      "metadata": {
        "id": "3g5TWTb1Ni9i"
      }
    },
    {
      "cell_type": "code",
      "source": [
        "# 스톱 워드는 english, filtering, ngram은 (1, 2)로 설정해 TF-IDF 벡터화 수행\n",
        "# LogisticRegression의 C는 10으로 설정\n",
        "pipeline = Pipeline([\n",
        "    ('tfidf_vect', TfidfVectorizer(stop_words = 'english', ngram_range = (1, 2))),\n",
        "    ('lr_clf', LogisticRegression(C = 10))\n",
        "])\n",
        "\n",
        "pipeline.fit(X_train['review'], y_train)\n",
        "pred = pipeline.predict(X_test['review'])\n",
        "pred_probs = pipeline.predict_proba(X_test['review'])[:, 1]\n",
        "\n",
        "print('예측 정확도는 {0:.4f}, ROC-AUC는 {1:.4f}'.format(accuracy_score(y_test, pred),\n",
        "                                                 roc_auc_score(y_test, pred_probs)))"
      ],
      "metadata": {
        "colab": {
          "base_uri": "https://localhost:8080/"
        },
        "id": "-NcResYINmCu",
        "outputId": "191019c8-747c-474d-87bd-4288156924d8"
      },
      "execution_count": 10,
      "outputs": [
        {
          "output_type": "stream",
          "name": "stdout",
          "text": [
            "예측 정확도는 0.8936, ROC-AUC는 0.9598\n"
          ]
        }
      ]
    },
    {
      "cell_type": "markdown",
      "source": [
        "  - TF-IDF 기반 피처 벡터화의 예측 성능이 조금 더 나은 것을 확인할 수 있다."
      ],
      "metadata": {
        "id": "iBuwstsiOay2"
      }
    },
    {
      "cell_type": "markdown",
      "source": [
        "### **c. `비지도학습 기반` 감성 분석 소개**\n",
        "  - 많은 감성 분석용 데이터는 결정된 레이블 값을 가지고 있지 않으므로, 이러한 경우 `Lexicon`을 이용해 `비지도학습 감성 분석`을 진행한다.\n",
        "  - `Lexicon`은 감성만을 분석하기 위해 지원하는 `감성 어휘 사전`이다.\n",
        "    - 감성 지수 : 긍정 감성 또는 부정 감성의 정도를 의미하는 수치\n",
        "    - 감성 지수는 단어의 위치나 주변 단어, 문맥, POS(Part of Speech) 등을 참고해 결정\n",
        "  - `감성 사전`을 구현한 대표격은 `NLTK 패키지`\n",
        "    - NLTK는 많은 서브 모듈을 가지고 있으며, 그 중 감성 사진인 Lexicon 모듈도 포함되어 있다."
      ],
      "metadata": {
        "id": "sRt6fTAJTssV"
      }
    },
    {
      "cell_type": "markdown",
      "source": [
        "  - 감성 사전을 좀 더 상세히 이해하기 위해 `NLP` 패키지의 `WordNet`을 먼저 알아보자.\n",
        "    - WordNet 모듈은 단순한 어휘 사전이 아닌, 시맨틱 분석을 제공하는 어휘 사전\n",
        "    - 여기서 시맨틱은 간단히 표현하면 '문맥상의 의미'이다.\n",
        "    - NLP 패키지는 시맨틱을 프로그램적으로 인터페이스할 수 있는 다양한 방법을 제공\n",
        "\n",
        "  - 이처럼 WordNet은 다양한 상황에서 같은 어휘라도 다르게 사용되는 어휘의 시맨틱 정보를 제공하며, 이를 위해 각각의 품사로 구성된 개별 단어를 Synset(Sets of cognitive synonyms)이라는 개념을 이용해 표현한다. Synset은 단순한 하나의 단어가 아니라 그 단어가 가지는 문맥, 시맨틱 정보를 제공하는 WordNet의 핵심 개념이다.\n",
        "\n",
        "  - NLTK의 감성 사전은 예측 성능이 그리 좋지 못하다는 단점이 있기 때문에, 실제 업무의 적용은 NLTK 패키지가 아닌 다른 감성 사전을 적용하는 것이 일반적이다. NLTK를 포함한 `대표적인 감성 사전`은 다음과 같다.\n",
        "    - `SentiWordNet` : NLTK 패키지의 WordNet과 유사하게 감성 단어 전용의 WordNet을 구현한 것. WordNet의 Synset 개념을 감성 분석에 적용한 것. WordNet의 Synset별로 3가지 감성 점수를 할당하는데, 긍정 감성 지수, 부정 감성 지수, 객관성 지수가 그것. \n",
        "    - `VADER` : 주로 소셜 미디어의 텍스트에 대한 감성 분석을 제공하기 위한 패키지. 뛰어난 감성 분석 결과를 제공하며, 비교적 빠른 수행 시간을 보장해 대용량 텍스트 데이터에 잘 사용되는 패키지.\n",
        "    - `Pattern` : 예측 성능 측면에서 가장 주목받는 패키지. 현재 기준으로 파이썬 3.x 버전에서 호환이 되지 않고, 파이썬 2.x 버전에서만 동작."
      ],
      "metadata": {
        "id": "gBryj7VQPgLA"
      }
    },
    {
      "cell_type": "markdown",
      "source": [
        "### **d. SentiWordNet을 이용한 감성 분석**\n",
        "  1. WordNet Synset과 SentiWordNet SentiSynset 클래스의 이해"
      ],
      "metadata": {
        "id": "6CB2SzsFTw_t"
      }
    },
    {
      "cell_type": "markdown",
      "source": [
        "  - SentiWordNet은 WordNet 기반의 synset을 이용하므로, 먼저 synset에 대한 개념을 이해한 후에 SentiWordNet을 살펴보자.\n",
        "  - WordNet을 이용하기 위해서는 NLTK를 셋업한 후에, WordNet 서브패키지와 데이터 세트를 내려받아야 한다."
      ],
      "metadata": {
        "id": "Wq8u9zTAROMx"
      }
    },
    {
      "cell_type": "code",
      "source": [
        "import nltk\n",
        "nltk.download('all')"
      ],
      "metadata": {
        "colab": {
          "base_uri": "https://localhost:8080/"
        },
        "id": "WGjMGZAwTu9a",
        "outputId": "ea9e6c35-7075-4f6d-8550-fa1603e501b8"
      },
      "execution_count": 11,
      "outputs": [
        {
          "output_type": "stream",
          "name": "stderr",
          "text": [
            "[nltk_data] Downloading collection 'all'\n",
            "[nltk_data]    | \n",
            "[nltk_data]    | Downloading package abc to /root/nltk_data...\n",
            "[nltk_data]    |   Unzipping corpora/abc.zip.\n",
            "[nltk_data]    | Downloading package alpino to /root/nltk_data...\n",
            "[nltk_data]    |   Unzipping corpora/alpino.zip.\n",
            "[nltk_data]    | Downloading package averaged_perceptron_tagger to\n",
            "[nltk_data]    |     /root/nltk_data...\n",
            "[nltk_data]    |   Unzipping taggers/averaged_perceptron_tagger.zip.\n",
            "[nltk_data]    | Downloading package averaged_perceptron_tagger_ru to\n",
            "[nltk_data]    |     /root/nltk_data...\n",
            "[nltk_data]    |   Unzipping\n",
            "[nltk_data]    |       taggers/averaged_perceptron_tagger_ru.zip.\n",
            "[nltk_data]    | Downloading package basque_grammars to\n",
            "[nltk_data]    |     /root/nltk_data...\n",
            "[nltk_data]    |   Unzipping grammars/basque_grammars.zip.\n",
            "[nltk_data]    | Downloading package biocreative_ppi to\n",
            "[nltk_data]    |     /root/nltk_data...\n",
            "[nltk_data]    |   Unzipping corpora/biocreative_ppi.zip.\n",
            "[nltk_data]    | Downloading package bllip_wsj_no_aux to\n",
            "[nltk_data]    |     /root/nltk_data...\n",
            "[nltk_data]    |   Unzipping models/bllip_wsj_no_aux.zip.\n",
            "[nltk_data]    | Downloading package book_grammars to\n",
            "[nltk_data]    |     /root/nltk_data...\n",
            "[nltk_data]    |   Unzipping grammars/book_grammars.zip.\n",
            "[nltk_data]    | Downloading package brown to /root/nltk_data...\n",
            "[nltk_data]    |   Unzipping corpora/brown.zip.\n",
            "[nltk_data]    | Downloading package brown_tei to /root/nltk_data...\n",
            "[nltk_data]    |   Unzipping corpora/brown_tei.zip.\n",
            "[nltk_data]    | Downloading package cess_cat to /root/nltk_data...\n",
            "[nltk_data]    |   Unzipping corpora/cess_cat.zip.\n",
            "[nltk_data]    | Downloading package cess_esp to /root/nltk_data...\n",
            "[nltk_data]    |   Unzipping corpora/cess_esp.zip.\n",
            "[nltk_data]    | Downloading package chat80 to /root/nltk_data...\n",
            "[nltk_data]    |   Unzipping corpora/chat80.zip.\n",
            "[nltk_data]    | Downloading package city_database to\n",
            "[nltk_data]    |     /root/nltk_data...\n",
            "[nltk_data]    |   Unzipping corpora/city_database.zip.\n",
            "[nltk_data]    | Downloading package cmudict to /root/nltk_data...\n",
            "[nltk_data]    |   Unzipping corpora/cmudict.zip.\n",
            "[nltk_data]    | Downloading package comparative_sentences to\n",
            "[nltk_data]    |     /root/nltk_data...\n",
            "[nltk_data]    |   Unzipping corpora/comparative_sentences.zip.\n",
            "[nltk_data]    | Downloading package comtrans to /root/nltk_data...\n",
            "[nltk_data]    | Downloading package conll2000 to /root/nltk_data...\n",
            "[nltk_data]    |   Unzipping corpora/conll2000.zip.\n",
            "[nltk_data]    | Downloading package conll2002 to /root/nltk_data...\n",
            "[nltk_data]    |   Unzipping corpora/conll2002.zip.\n",
            "[nltk_data]    | Downloading package conll2007 to /root/nltk_data...\n",
            "[nltk_data]    | Downloading package crubadan to /root/nltk_data...\n",
            "[nltk_data]    |   Unzipping corpora/crubadan.zip.\n",
            "[nltk_data]    | Downloading package dependency_treebank to\n",
            "[nltk_data]    |     /root/nltk_data...\n",
            "[nltk_data]    |   Unzipping corpora/dependency_treebank.zip.\n",
            "[nltk_data]    | Downloading package dolch to /root/nltk_data...\n",
            "[nltk_data]    |   Unzipping corpora/dolch.zip.\n",
            "[nltk_data]    | Downloading package europarl_raw to\n",
            "[nltk_data]    |     /root/nltk_data...\n",
            "[nltk_data]    |   Unzipping corpora/europarl_raw.zip.\n",
            "[nltk_data]    | Downloading package extended_omw to\n",
            "[nltk_data]    |     /root/nltk_data...\n",
            "[nltk_data]    | Downloading package floresta to /root/nltk_data...\n",
            "[nltk_data]    |   Unzipping corpora/floresta.zip.\n",
            "[nltk_data]    | Downloading package framenet_v15 to\n",
            "[nltk_data]    |     /root/nltk_data...\n",
            "[nltk_data]    |   Unzipping corpora/framenet_v15.zip.\n",
            "[nltk_data]    | Downloading package framenet_v17 to\n",
            "[nltk_data]    |     /root/nltk_data...\n",
            "[nltk_data]    |   Unzipping corpora/framenet_v17.zip.\n",
            "[nltk_data]    | Downloading package gazetteers to /root/nltk_data...\n",
            "[nltk_data]    |   Unzipping corpora/gazetteers.zip.\n",
            "[nltk_data]    | Downloading package genesis to /root/nltk_data...\n",
            "[nltk_data]    |   Unzipping corpora/genesis.zip.\n",
            "[nltk_data]    | Downloading package gutenberg to /root/nltk_data...\n",
            "[nltk_data]    |   Unzipping corpora/gutenberg.zip.\n",
            "[nltk_data]    | Downloading package ieer to /root/nltk_data...\n",
            "[nltk_data]    |   Unzipping corpora/ieer.zip.\n",
            "[nltk_data]    | Downloading package inaugural to /root/nltk_data...\n",
            "[nltk_data]    |   Unzipping corpora/inaugural.zip.\n",
            "[nltk_data]    | Downloading package indian to /root/nltk_data...\n",
            "[nltk_data]    |   Unzipping corpora/indian.zip.\n",
            "[nltk_data]    | Downloading package jeita to /root/nltk_data...\n",
            "[nltk_data]    | Downloading package kimmo to /root/nltk_data...\n",
            "[nltk_data]    |   Unzipping corpora/kimmo.zip.\n",
            "[nltk_data]    | Downloading package knbc to /root/nltk_data...\n",
            "[nltk_data]    | Downloading package large_grammars to\n",
            "[nltk_data]    |     /root/nltk_data...\n",
            "[nltk_data]    |   Unzipping grammars/large_grammars.zip.\n",
            "[nltk_data]    | Downloading package lin_thesaurus to\n",
            "[nltk_data]    |     /root/nltk_data...\n",
            "[nltk_data]    |   Unzipping corpora/lin_thesaurus.zip.\n",
            "[nltk_data]    | Downloading package mac_morpho to /root/nltk_data...\n",
            "[nltk_data]    |   Unzipping corpora/mac_morpho.zip.\n",
            "[nltk_data]    | Downloading package machado to /root/nltk_data...\n",
            "[nltk_data]    | Downloading package masc_tagged to /root/nltk_data...\n",
            "[nltk_data]    | Downloading package maxent_ne_chunker to\n",
            "[nltk_data]    |     /root/nltk_data...\n",
            "[nltk_data]    |   Unzipping chunkers/maxent_ne_chunker.zip.\n",
            "[nltk_data]    | Downloading package maxent_treebank_pos_tagger to\n",
            "[nltk_data]    |     /root/nltk_data...\n",
            "[nltk_data]    |   Unzipping taggers/maxent_treebank_pos_tagger.zip.\n",
            "[nltk_data]    | Downloading package moses_sample to\n",
            "[nltk_data]    |     /root/nltk_data...\n",
            "[nltk_data]    |   Unzipping models/moses_sample.zip.\n",
            "[nltk_data]    | Downloading package movie_reviews to\n",
            "[nltk_data]    |     /root/nltk_data...\n",
            "[nltk_data]    |   Unzipping corpora/movie_reviews.zip.\n",
            "[nltk_data]    | Downloading package mte_teip5 to /root/nltk_data...\n",
            "[nltk_data]    |   Unzipping corpora/mte_teip5.zip.\n",
            "[nltk_data]    | Downloading package mwa_ppdb to /root/nltk_data...\n",
            "[nltk_data]    |   Unzipping misc/mwa_ppdb.zip.\n",
            "[nltk_data]    | Downloading package names to /root/nltk_data...\n",
            "[nltk_data]    |   Unzipping corpora/names.zip.\n",
            "[nltk_data]    | Downloading package nombank.1.0 to /root/nltk_data...\n",
            "[nltk_data]    | Downloading package nonbreaking_prefixes to\n",
            "[nltk_data]    |     /root/nltk_data...\n",
            "[nltk_data]    |   Unzipping corpora/nonbreaking_prefixes.zip.\n",
            "[nltk_data]    | Downloading package nps_chat to /root/nltk_data...\n",
            "[nltk_data]    |   Unzipping corpora/nps_chat.zip.\n",
            "[nltk_data]    | Downloading package omw to /root/nltk_data...\n",
            "[nltk_data]    | Downloading package omw-1.4 to /root/nltk_data...\n",
            "[nltk_data]    | Downloading package opinion_lexicon to\n",
            "[nltk_data]    |     /root/nltk_data...\n",
            "[nltk_data]    |   Unzipping corpora/opinion_lexicon.zip.\n",
            "[nltk_data]    | Downloading package panlex_swadesh to\n",
            "[nltk_data]    |     /root/nltk_data...\n",
            "[nltk_data]    | Downloading package paradigms to /root/nltk_data...\n",
            "[nltk_data]    |   Unzipping corpora/paradigms.zip.\n",
            "[nltk_data]    | Downloading package pe08 to /root/nltk_data...\n",
            "[nltk_data]    |   Unzipping corpora/pe08.zip.\n",
            "[nltk_data]    | Downloading package perluniprops to\n",
            "[nltk_data]    |     /root/nltk_data...\n",
            "[nltk_data]    |   Unzipping misc/perluniprops.zip.\n",
            "[nltk_data]    | Downloading package pil to /root/nltk_data...\n",
            "[nltk_data]    |   Unzipping corpora/pil.zip.\n",
            "[nltk_data]    | Downloading package pl196x to /root/nltk_data...\n",
            "[nltk_data]    |   Unzipping corpora/pl196x.zip.\n",
            "[nltk_data]    | Downloading package porter_test to /root/nltk_data...\n",
            "[nltk_data]    |   Unzipping stemmers/porter_test.zip.\n",
            "[nltk_data]    | Downloading package ppattach to /root/nltk_data...\n",
            "[nltk_data]    |   Unzipping corpora/ppattach.zip.\n",
            "[nltk_data]    | Downloading package problem_reports to\n",
            "[nltk_data]    |     /root/nltk_data...\n",
            "[nltk_data]    |   Unzipping corpora/problem_reports.zip.\n",
            "[nltk_data]    | Downloading package product_reviews_1 to\n",
            "[nltk_data]    |     /root/nltk_data...\n",
            "[nltk_data]    |   Unzipping corpora/product_reviews_1.zip.\n",
            "[nltk_data]    | Downloading package product_reviews_2 to\n",
            "[nltk_data]    |     /root/nltk_data...\n",
            "[nltk_data]    |   Unzipping corpora/product_reviews_2.zip.\n",
            "[nltk_data]    | Downloading package propbank to /root/nltk_data...\n",
            "[nltk_data]    | Downloading package pros_cons to /root/nltk_data...\n",
            "[nltk_data]    |   Unzipping corpora/pros_cons.zip.\n",
            "[nltk_data]    | Downloading package ptb to /root/nltk_data...\n",
            "[nltk_data]    |   Unzipping corpora/ptb.zip.\n",
            "[nltk_data]    | Downloading package punkt to /root/nltk_data...\n",
            "[nltk_data]    |   Unzipping tokenizers/punkt.zip.\n",
            "[nltk_data]    | Downloading package qc to /root/nltk_data...\n",
            "[nltk_data]    |   Unzipping corpora/qc.zip.\n",
            "[nltk_data]    | Downloading package reuters to /root/nltk_data...\n",
            "[nltk_data]    | Downloading package rslp to /root/nltk_data...\n",
            "[nltk_data]    |   Unzipping stemmers/rslp.zip.\n",
            "[nltk_data]    | Downloading package rte to /root/nltk_data...\n",
            "[nltk_data]    |   Unzipping corpora/rte.zip.\n",
            "[nltk_data]    | Downloading package sample_grammars to\n",
            "[nltk_data]    |     /root/nltk_data...\n",
            "[nltk_data]    |   Unzipping grammars/sample_grammars.zip.\n",
            "[nltk_data]    | Downloading package semcor to /root/nltk_data...\n",
            "[nltk_data]    | Downloading package senseval to /root/nltk_data...\n",
            "[nltk_data]    |   Unzipping corpora/senseval.zip.\n",
            "[nltk_data]    | Downloading package sentence_polarity to\n",
            "[nltk_data]    |     /root/nltk_data...\n",
            "[nltk_data]    |   Unzipping corpora/sentence_polarity.zip.\n",
            "[nltk_data]    | Downloading package sentiwordnet to\n",
            "[nltk_data]    |     /root/nltk_data...\n",
            "[nltk_data]    |   Unzipping corpora/sentiwordnet.zip.\n",
            "[nltk_data]    | Downloading package shakespeare to /root/nltk_data...\n",
            "[nltk_data]    |   Unzipping corpora/shakespeare.zip.\n",
            "[nltk_data]    | Downloading package sinica_treebank to\n",
            "[nltk_data]    |     /root/nltk_data...\n",
            "[nltk_data]    |   Unzipping corpora/sinica_treebank.zip.\n",
            "[nltk_data]    | Downloading package smultron to /root/nltk_data...\n",
            "[nltk_data]    |   Unzipping corpora/smultron.zip.\n",
            "[nltk_data]    | Downloading package snowball_data to\n",
            "[nltk_data]    |     /root/nltk_data...\n",
            "[nltk_data]    | Downloading package spanish_grammars to\n",
            "[nltk_data]    |     /root/nltk_data...\n",
            "[nltk_data]    |   Unzipping grammars/spanish_grammars.zip.\n",
            "[nltk_data]    | Downloading package state_union to /root/nltk_data...\n",
            "[nltk_data]    |   Unzipping corpora/state_union.zip.\n",
            "[nltk_data]    | Downloading package stopwords to /root/nltk_data...\n",
            "[nltk_data]    |   Unzipping corpora/stopwords.zip.\n",
            "[nltk_data]    | Downloading package subjectivity to\n",
            "[nltk_data]    |     /root/nltk_data...\n",
            "[nltk_data]    |   Unzipping corpora/subjectivity.zip.\n",
            "[nltk_data]    | Downloading package swadesh to /root/nltk_data...\n",
            "[nltk_data]    |   Unzipping corpora/swadesh.zip.\n",
            "[nltk_data]    | Downloading package switchboard to /root/nltk_data...\n",
            "[nltk_data]    |   Unzipping corpora/switchboard.zip.\n",
            "[nltk_data]    | Downloading package tagsets to /root/nltk_data...\n",
            "[nltk_data]    |   Unzipping help/tagsets.zip.\n",
            "[nltk_data]    | Downloading package timit to /root/nltk_data...\n",
            "[nltk_data]    |   Unzipping corpora/timit.zip.\n",
            "[nltk_data]    | Downloading package toolbox to /root/nltk_data...\n",
            "[nltk_data]    |   Unzipping corpora/toolbox.zip.\n",
            "[nltk_data]    | Downloading package treebank to /root/nltk_data...\n",
            "[nltk_data]    |   Unzipping corpora/treebank.zip.\n",
            "[nltk_data]    | Downloading package twitter_samples to\n",
            "[nltk_data]    |     /root/nltk_data...\n",
            "[nltk_data]    |   Unzipping corpora/twitter_samples.zip.\n",
            "[nltk_data]    | Downloading package udhr to /root/nltk_data...\n",
            "[nltk_data]    |   Unzipping corpora/udhr.zip.\n",
            "[nltk_data]    | Downloading package udhr2 to /root/nltk_data...\n",
            "[nltk_data]    |   Unzipping corpora/udhr2.zip.\n",
            "[nltk_data]    | Downloading package unicode_samples to\n",
            "[nltk_data]    |     /root/nltk_data...\n",
            "[nltk_data]    |   Unzipping corpora/unicode_samples.zip.\n",
            "[nltk_data]    | Downloading package universal_tagset to\n",
            "[nltk_data]    |     /root/nltk_data...\n",
            "[nltk_data]    |   Unzipping taggers/universal_tagset.zip.\n",
            "[nltk_data]    | Downloading package universal_treebanks_v20 to\n",
            "[nltk_data]    |     /root/nltk_data...\n",
            "[nltk_data]    | Downloading package vader_lexicon to\n",
            "[nltk_data]    |     /root/nltk_data...\n",
            "[nltk_data]    | Downloading package verbnet to /root/nltk_data...\n",
            "[nltk_data]    |   Unzipping corpora/verbnet.zip.\n",
            "[nltk_data]    | Downloading package verbnet3 to /root/nltk_data...\n",
            "[nltk_data]    |   Unzipping corpora/verbnet3.zip.\n",
            "[nltk_data]    | Downloading package webtext to /root/nltk_data...\n",
            "[nltk_data]    |   Unzipping corpora/webtext.zip.\n",
            "[nltk_data]    | Downloading package wmt15_eval to /root/nltk_data...\n",
            "[nltk_data]    |   Unzipping models/wmt15_eval.zip.\n",
            "[nltk_data]    | Downloading package word2vec_sample to\n",
            "[nltk_data]    |     /root/nltk_data...\n",
            "[nltk_data]    |   Unzipping models/word2vec_sample.zip.\n",
            "[nltk_data]    | Downloading package wordnet to /root/nltk_data...\n",
            "[nltk_data]    | Downloading package wordnet2021 to /root/nltk_data...\n",
            "[nltk_data]    | Downloading package wordnet31 to /root/nltk_data...\n",
            "[nltk_data]    | Downloading package wordnet_ic to /root/nltk_data...\n",
            "[nltk_data]    |   Unzipping corpora/wordnet_ic.zip.\n",
            "[nltk_data]    | Downloading package words to /root/nltk_data...\n",
            "[nltk_data]    |   Unzipping corpora/words.zip.\n",
            "[nltk_data]    | Downloading package ycoe to /root/nltk_data...\n",
            "[nltk_data]    |   Unzipping corpora/ycoe.zip.\n",
            "[nltk_data]    | \n",
            "[nltk_data]  Done downloading collection all\n"
          ]
        },
        {
          "output_type": "execute_result",
          "data": {
            "text/plain": [
              "True"
            ]
          },
          "metadata": {},
          "execution_count": 11
        }
      ]
    },
    {
      "cell_type": "markdown",
      "source": [
        "  - NLTK의 모든 데이터 세트를 내려받은 뒤, WordNet 모듈을 임포트해서 'present' 단어에 대한 Synset을 추출해보자.\n",
        "  - WordNet의 `synsets()`는 파라미터로 지정된 단어에 대한 `WordNet에 등재된 모든 Synset 객체를 반환`한다."
      ],
      "metadata": {
        "id": "8o5LLTDCRibH"
      }
    },
    {
      "cell_type": "code",
      "source": [
        "from nltk.corpus import wordnet as wn\n",
        "\n",
        "term = 'present'\n",
        "\n",
        "# 'present'라는 단어로 wordnet의 synsets 생성\n",
        "synsets = wn.synsets(term)\n",
        "print('synsets() 반환 type :', type(synsets))\n",
        "print('synsets() 반환 값 개수 :', len(synsets))\n",
        "print('synsets() 반환 값 :', synsets)"
      ],
      "metadata": {
        "colab": {
          "base_uri": "https://localhost:8080/"
        },
        "id": "ZxFgcrF1SDzW",
        "outputId": "1b7512fd-ec97-421d-a51a-0cc3e74f6aa7"
      },
      "execution_count": 12,
      "outputs": [
        {
          "output_type": "stream",
          "name": "stdout",
          "text": [
            "synsets() 반환 type : <class 'list'>\n",
            "synsets() 반환 값 개수 : 18\n",
            "synsets() 반환 값 : [Synset('present.n.01'), Synset('present.n.02'), Synset('present.n.03'), Synset('show.v.01'), Synset('present.v.02'), Synset('stage.v.01'), Synset('present.v.04'), Synset('present.v.05'), Synset('award.v.01'), Synset('give.v.08'), Synset('deliver.v.01'), Synset('introduce.v.01'), Synset('portray.v.04'), Synset('confront.v.03'), Synset('present.v.12'), Synset('salute.v.06'), Synset('present.a.01'), Synset('present.a.02')]\n"
          ]
        }
      ]
    },
    {
      "cell_type": "markdown",
      "source": [
        "  - 총 18개의 서로 다른 semantic을 가지는 synset 객체가 반환되었다. \n",
        "  - Synset('present.n.01')와 같이 Synset 객체의 파라미터 'present.n.01'은 POS 태그를 나타낸다. 'present.n.01'에서 present는 의미, n은 명사 품사, 01은 present가 명사로서 사지는 의미가 여러 가지 있어 이를 구분하는 인덱스이다."
      ],
      "metadata": {
        "id": "sZLYBeOsScNi"
      }
    },
    {
      "cell_type": "markdown",
      "source": [
        "  - synset 객체가 가지는 여러 가지 속성을 살펴보자."
      ],
      "metadata": {
        "id": "RnYyG3qBSvxd"
      }
    },
    {
      "cell_type": "code",
      "source": [
        "for synset in synsets :\n",
        "  print('##### Synset name :', synset.name(), '#####')\n",
        "  print('POS :', synset.lexname())\n",
        "  print('Definition :', synset.definition())\n",
        "  print('Lemmas :', synset.lemma_names())"
      ],
      "metadata": {
        "colab": {
          "base_uri": "https://localhost:8080/"
        },
        "id": "vLgvA_SLS3kf",
        "outputId": "257e78db-6e81-4ff9-e956-c8ade17e21a9"
      },
      "execution_count": 13,
      "outputs": [
        {
          "output_type": "stream",
          "name": "stdout",
          "text": [
            "##### Synset name : present.n.01 #####\n",
            "POS : noun.time\n",
            "Definition : the period of time that is happening now; any continuous stretch of time including the moment of speech\n",
            "Lemmas : ['present', 'nowadays']\n",
            "##### Synset name : present.n.02 #####\n",
            "POS : noun.possession\n",
            "Definition : something presented as a gift\n",
            "Lemmas : ['present']\n",
            "##### Synset name : present.n.03 #####\n",
            "POS : noun.communication\n",
            "Definition : a verb tense that expresses actions or states at the time of speaking\n",
            "Lemmas : ['present', 'present_tense']\n",
            "##### Synset name : show.v.01 #####\n",
            "POS : verb.perception\n",
            "Definition : give an exhibition of to an interested audience\n",
            "Lemmas : ['show', 'demo', 'exhibit', 'present', 'demonstrate']\n",
            "##### Synset name : present.v.02 #####\n",
            "POS : verb.communication\n",
            "Definition : bring forward and present to the mind\n",
            "Lemmas : ['present', 'represent', 'lay_out']\n",
            "##### Synset name : stage.v.01 #####\n",
            "POS : verb.creation\n",
            "Definition : perform (a play), especially on a stage\n",
            "Lemmas : ['stage', 'present', 'represent']\n",
            "##### Synset name : present.v.04 #####\n",
            "POS : verb.possession\n",
            "Definition : hand over formally\n",
            "Lemmas : ['present', 'submit']\n",
            "##### Synset name : present.v.05 #####\n",
            "POS : verb.stative\n",
            "Definition : introduce\n",
            "Lemmas : ['present', 'pose']\n",
            "##### Synset name : award.v.01 #####\n",
            "POS : verb.possession\n",
            "Definition : give, especially as an honor or reward\n",
            "Lemmas : ['award', 'present']\n",
            "##### Synset name : give.v.08 #####\n",
            "POS : verb.possession\n",
            "Definition : give as a present; make a gift of\n",
            "Lemmas : ['give', 'gift', 'present']\n",
            "##### Synset name : deliver.v.01 #####\n",
            "POS : verb.communication\n",
            "Definition : deliver (a speech, oration, or idea)\n",
            "Lemmas : ['deliver', 'present']\n",
            "##### Synset name : introduce.v.01 #####\n",
            "POS : verb.communication\n",
            "Definition : cause to come to know personally\n",
            "Lemmas : ['introduce', 'present', 'acquaint']\n",
            "##### Synset name : portray.v.04 #####\n",
            "POS : verb.creation\n",
            "Definition : represent abstractly, for example in a painting, drawing, or sculpture\n",
            "Lemmas : ['portray', 'present']\n",
            "##### Synset name : confront.v.03 #####\n",
            "POS : verb.communication\n",
            "Definition : present somebody with something, usually to accuse or criticize\n",
            "Lemmas : ['confront', 'face', 'present']\n",
            "##### Synset name : present.v.12 #####\n",
            "POS : verb.communication\n",
            "Definition : formally present a debutante, a representative of a country, etc.\n",
            "Lemmas : ['present']\n",
            "##### Synset name : salute.v.06 #####\n",
            "POS : verb.communication\n",
            "Definition : recognize with a gesture prescribed by a military regulation; assume a prescribed position\n",
            "Lemmas : ['salute', 'present']\n",
            "##### Synset name : present.a.01 #####\n",
            "POS : adj.all\n",
            "Definition : temporal sense; intermediate between past and future; now existing or happening or in consideration\n",
            "Lemmas : ['present']\n",
            "##### Synset name : present.a.02 #####\n",
            "POS : adj.all\n",
            "Definition : being or existing in a specified place\n",
            "Lemmas : ['present']\n"
          ]
        }
      ]
    },
    {
      "cell_type": "markdown",
      "source": [
        "  - 위와 같이 Synset('present.n.01')과 Synset('present.n.02')는 명사지만 서로 다른 의미를 갖는다. \n",
        "  - 이처럼 synset은 하나의 단어가 가질 수 있는 여러 가지 시맨틱 정보를 개별 클래스로 나타낸 것이다."
      ],
      "metadata": {
        "id": "NW5N6jpKTUKE"
      }
    },
    {
      "cell_type": "markdown",
      "source": [
        "  - WordNet은 어떤 어휘와 다른 어휘 간의 관계를 유사도로 나타낼 수 있다.\n",
        "  - synset 객체는 `단어 간의 유사도`를 나타내기 위해 `path_similarity()` 메서드를 제공한다."
      ],
      "metadata": {
        "id": "sXE5tjO9Tlz7"
      }
    },
    {
      "cell_type": "code",
      "source": [
        "# synset 객체를 단어별로 생성한다.\n",
        "tree = wn.synset('tree.n.01')\n",
        "lion = wn.synset('lion.n.01')\n",
        "tiger = wn.synset('tiger.n.02')\n",
        "cat = wn.synset('cat.n.01')\n",
        "dog = wn.synset('dog.n.01')\n",
        "\n",
        "entities = [tree, lion, tiger, cat, dog]\n",
        "similarities = []\n",
        "entity_names = [entity.name().split('.')[0] for entity in entities]\n",
        "\n",
        "# 단어별 synset을 반복하면서 다른 단어의 synset과 유사도를 측정한다.\n",
        "for entity in entities :\n",
        "  similarity = [round(entity.path_similarity(compared_entity), 2)\n",
        "                for compared_entity in entities]\n",
        "  similarities.append(similarity)\n",
        "\n",
        "# 개별 단어별 synset과 다른 단어의 synset과의 유사도를 DataFrame 형태로 저장한다.\n",
        "similarity_df = pd.DataFrame(similarities, columns = entity_names, index = entity_names)\n",
        "similarity_df"
      ],
      "metadata": {
        "colab": {
          "base_uri": "https://localhost:8080/",
          "height": 206
        },
        "id": "3hb25oKiTvbF",
        "outputId": "d3d10db8-ecde-4233-e71e-fbc62a37a657"
      },
      "execution_count": 14,
      "outputs": [
        {
          "output_type": "execute_result",
          "data": {
            "text/plain": [
              "       tree  lion  tiger   cat   dog\n",
              "tree   1.00  0.07   0.07  0.08  0.12\n",
              "lion   0.07  1.00   0.33  0.25  0.17\n",
              "tiger  0.07  0.33   1.00  0.25  0.17\n",
              "cat    0.08  0.25   0.25  1.00  0.20\n",
              "dog    0.12  0.17   0.17  0.20  1.00"
            ],
            "text/html": [
              "\n",
              "  <div id=\"df-ece8c437-dca7-40ff-a450-52544577ba31\">\n",
              "    <div class=\"colab-df-container\">\n",
              "      <div>\n",
              "<style scoped>\n",
              "    .dataframe tbody tr th:only-of-type {\n",
              "        vertical-align: middle;\n",
              "    }\n",
              "\n",
              "    .dataframe tbody tr th {\n",
              "        vertical-align: top;\n",
              "    }\n",
              "\n",
              "    .dataframe thead th {\n",
              "        text-align: right;\n",
              "    }\n",
              "</style>\n",
              "<table border=\"1\" class=\"dataframe\">\n",
              "  <thead>\n",
              "    <tr style=\"text-align: right;\">\n",
              "      <th></th>\n",
              "      <th>tree</th>\n",
              "      <th>lion</th>\n",
              "      <th>tiger</th>\n",
              "      <th>cat</th>\n",
              "      <th>dog</th>\n",
              "    </tr>\n",
              "  </thead>\n",
              "  <tbody>\n",
              "    <tr>\n",
              "      <th>tree</th>\n",
              "      <td>1.00</td>\n",
              "      <td>0.07</td>\n",
              "      <td>0.07</td>\n",
              "      <td>0.08</td>\n",
              "      <td>0.12</td>\n",
              "    </tr>\n",
              "    <tr>\n",
              "      <th>lion</th>\n",
              "      <td>0.07</td>\n",
              "      <td>1.00</td>\n",
              "      <td>0.33</td>\n",
              "      <td>0.25</td>\n",
              "      <td>0.17</td>\n",
              "    </tr>\n",
              "    <tr>\n",
              "      <th>tiger</th>\n",
              "      <td>0.07</td>\n",
              "      <td>0.33</td>\n",
              "      <td>1.00</td>\n",
              "      <td>0.25</td>\n",
              "      <td>0.17</td>\n",
              "    </tr>\n",
              "    <tr>\n",
              "      <th>cat</th>\n",
              "      <td>0.08</td>\n",
              "      <td>0.25</td>\n",
              "      <td>0.25</td>\n",
              "      <td>1.00</td>\n",
              "      <td>0.20</td>\n",
              "    </tr>\n",
              "    <tr>\n",
              "      <th>dog</th>\n",
              "      <td>0.12</td>\n",
              "      <td>0.17</td>\n",
              "      <td>0.17</td>\n",
              "      <td>0.20</td>\n",
              "      <td>1.00</td>\n",
              "    </tr>\n",
              "  </tbody>\n",
              "</table>\n",
              "</div>\n",
              "      <button class=\"colab-df-convert\" onclick=\"convertToInteractive('df-ece8c437-dca7-40ff-a450-52544577ba31')\"\n",
              "              title=\"Convert this dataframe to an interactive table.\"\n",
              "              style=\"display:none;\">\n",
              "        \n",
              "  <svg xmlns=\"http://www.w3.org/2000/svg\" height=\"24px\"viewBox=\"0 0 24 24\"\n",
              "       width=\"24px\">\n",
              "    <path d=\"M0 0h24v24H0V0z\" fill=\"none\"/>\n",
              "    <path d=\"M18.56 5.44l.94 2.06.94-2.06 2.06-.94-2.06-.94-.94-2.06-.94 2.06-2.06.94zm-11 1L8.5 8.5l.94-2.06 2.06-.94-2.06-.94L8.5 2.5l-.94 2.06-2.06.94zm10 10l.94 2.06.94-2.06 2.06-.94-2.06-.94-.94-2.06-.94 2.06-2.06.94z\"/><path d=\"M17.41 7.96l-1.37-1.37c-.4-.4-.92-.59-1.43-.59-.52 0-1.04.2-1.43.59L10.3 9.45l-7.72 7.72c-.78.78-.78 2.05 0 2.83L4 21.41c.39.39.9.59 1.41.59.51 0 1.02-.2 1.41-.59l7.78-7.78 2.81-2.81c.8-.78.8-2.07 0-2.86zM5.41 20L4 18.59l7.72-7.72 1.47 1.35L5.41 20z\"/>\n",
              "  </svg>\n",
              "      </button>\n",
              "      \n",
              "  <style>\n",
              "    .colab-df-container {\n",
              "      display:flex;\n",
              "      flex-wrap:wrap;\n",
              "      gap: 12px;\n",
              "    }\n",
              "\n",
              "    .colab-df-convert {\n",
              "      background-color: #E8F0FE;\n",
              "      border: none;\n",
              "      border-radius: 50%;\n",
              "      cursor: pointer;\n",
              "      display: none;\n",
              "      fill: #1967D2;\n",
              "      height: 32px;\n",
              "      padding: 0 0 0 0;\n",
              "      width: 32px;\n",
              "    }\n",
              "\n",
              "    .colab-df-convert:hover {\n",
              "      background-color: #E2EBFA;\n",
              "      box-shadow: 0px 1px 2px rgba(60, 64, 67, 0.3), 0px 1px 3px 1px rgba(60, 64, 67, 0.15);\n",
              "      fill: #174EA6;\n",
              "    }\n",
              "\n",
              "    [theme=dark] .colab-df-convert {\n",
              "      background-color: #3B4455;\n",
              "      fill: #D2E3FC;\n",
              "    }\n",
              "\n",
              "    [theme=dark] .colab-df-convert:hover {\n",
              "      background-color: #434B5C;\n",
              "      box-shadow: 0px 1px 3px 1px rgba(0, 0, 0, 0.15);\n",
              "      filter: drop-shadow(0px 1px 2px rgba(0, 0, 0, 0.3));\n",
              "      fill: #FFFFFF;\n",
              "    }\n",
              "  </style>\n",
              "\n",
              "      <script>\n",
              "        const buttonEl =\n",
              "          document.querySelector('#df-ece8c437-dca7-40ff-a450-52544577ba31 button.colab-df-convert');\n",
              "        buttonEl.style.display =\n",
              "          google.colab.kernel.accessAllowed ? 'block' : 'none';\n",
              "\n",
              "        async function convertToInteractive(key) {\n",
              "          const element = document.querySelector('#df-ece8c437-dca7-40ff-a450-52544577ba31');\n",
              "          const dataTable =\n",
              "            await google.colab.kernel.invokeFunction('convertToInteractive',\n",
              "                                                     [key], {});\n",
              "          if (!dataTable) return;\n",
              "\n",
              "          const docLinkHtml = 'Like what you see? Visit the ' +\n",
              "            '<a target=\"_blank\" href=https://colab.research.google.com/notebooks/data_table.ipynb>data table notebook</a>'\n",
              "            + ' to learn more about interactive tables.';\n",
              "          element.innerHTML = '';\n",
              "          dataTable['output_type'] = 'display_data';\n",
              "          await google.colab.output.renderOutput(dataTable, element);\n",
              "          const docLink = document.createElement('div');\n",
              "          docLink.innerHTML = docLinkHtml;\n",
              "          element.appendChild(docLink);\n",
              "        }\n",
              "      </script>\n",
              "    </div>\n",
              "  </div>\n",
              "  "
            ]
          },
          "metadata": {},
          "execution_count": 14
        }
      ]
    },
    {
      "cell_type": "markdown",
      "source": [
        "  - lion은 tree와의 유사도가 0.07로 가장 적고, tiger와는 유사도가 0.33으로 가장 크다."
      ],
      "metadata": {
        "id": "9iAY9JYIUf_s"
      }
    },
    {
      "cell_type": "markdown",
      "source": [
        "  - `SentiWordNet`은 WordNet의 Synset과 유사한 `Senti_Synset 클래스`를 가지고 있다.\n",
        "  - SentiWordNet 모듈의 `senti_synsets()`는 WordNet 모듈이라서 synsets()와 비슷하게 `Senti_Synset 클래스를 리스트 형태로 반환`한다."
      ],
      "metadata": {
        "id": "51UsETmwUssU"
      }
    },
    {
      "cell_type": "code",
      "source": [
        "import nltk\n",
        "from nltk.corpus import sentiwordnet as swn\n",
        "\n",
        "senti_synsets = list(swn.senti_synsets('slow'))\n",
        "print('senti_synsets() 반환 type :', type(senti_synsets))\n",
        "print('senti_synsets() 반환 값 개수 :', len(senti_synsets))\n",
        "print('senti_synsets() 반환 값 :', senti_synsets)"
      ],
      "metadata": {
        "colab": {
          "base_uri": "https://localhost:8080/"
        },
        "id": "Y3wBOXKJU6Yh",
        "outputId": "df847ccd-3825-4646-e6fd-14824d6edf2c"
      },
      "execution_count": 15,
      "outputs": [
        {
          "output_type": "stream",
          "name": "stdout",
          "text": [
            "senti_synsets() 반환 type : <class 'list'>\n",
            "senti_synsets() 반환 값 개수 : 11\n",
            "senti_synsets() 반환 값 : [SentiSynset('decelerate.v.01'), SentiSynset('slow.v.02'), SentiSynset('slow.v.03'), SentiSynset('slow.a.01'), SentiSynset('slow.a.02'), SentiSynset('dense.s.04'), SentiSynset('slow.a.04'), SentiSynset('boring.s.01'), SentiSynset('dull.s.08'), SentiSynset('slowly.r.01'), SentiSynset('behind.r.03')]\n"
          ]
        }
      ]
    },
    {
      "cell_type": "markdown",
      "source": [
        "  - SentiSynset 객체는 단어의 감성을 나타내는 감성 지수와 객관성을 나타내는 객관성 지수를 가지고 있다. 감성 지수는 다시 긍정 감성 지수와 부정 감성 지수로 나뉜다.\n",
        "  - 어떤 단어가 전혀 감성적이지 않으면 객관성 지수는 1, 감성 지수는 모두 0이 된다."
      ],
      "metadata": {
        "id": "WUO3kJCDV9fL"
      }
    },
    {
      "cell_type": "code",
      "source": [
        "import nltk\n",
        "from nltk.corpus import sentiwordnet as swn\n",
        "\n",
        "father = swn.senti_synset('father.n.01')\n",
        "print('father 긍정감성 지수: ', father.pos_score())\n",
        "print('father 부정감성 지수: ', father.neg_score())\n",
        "print('father 객관성 지수: ', father.obj_score())\n",
        "print('\\n')\n",
        "\n",
        "fabulous = swn.senti_synset('fabulous.a.01')\n",
        "print('fabulous 긍정감성 지수: ', fabulous.pos_score())\n",
        "print('fabulous 부정감성 지수: ', fabulous.neg_score())"
      ],
      "metadata": {
        "colab": {
          "base_uri": "https://localhost:8080/"
        },
        "id": "li2EE8tVWIWB",
        "outputId": "8d629d14-394e-4fc0-8f99-529e8ae318d9"
      },
      "execution_count": 17,
      "outputs": [
        {
          "output_type": "stream",
          "name": "stdout",
          "text": [
            "father 긍정감성 지수:  0.0\n",
            "father 부정감성 지수:  0.0\n",
            "father 객관성 지수:  1.0\n",
            "\n",
            "\n",
            "fabulous 긍정감성 지수:  0.875\n",
            "fabulous 부정감성 지수:  0.125\n"
          ]
        }
      ]
    },
    {
      "cell_type": "markdown",
      "source": [
        "  - father는 객관적인 단어로, 객관성 지수가 1.0이고 긍정 감성/부정 감성 지수 모두 0이다.\n",
        "  - 반면 fabulous는 감성 단어로서, 긍정 감성 지수가 0.875이고 부정 감성 지수가 0.125이다."
      ],
      "metadata": {
        "id": "sEIqDd26Wkl-"
      }
    },
    {
      "cell_type": "markdown",
      "source": [
        "  2. SentiWordNet을 이용한 영화 감상평 감성 분석\n",
        "  - 이제 WordNet과 SentiWordNet을 개략적으로 살펴봤으니, 이를 이용해 앞의 예제에서 적용한 `IMDB 영화 감성평 감성 분석`을 `SentiWordNet Lexicon 기반으로 수행`해보자.\n",
        "  - SentiWordNet을 이용해 감성 분석을 수행하는 개략적인 순서는 다음과 같다.\n",
        "      1. 문서(Document)를 문장(Sentence) 단위로 분해\n",
        "      2. 다시 문장을 단어(Word) 단위로 토큰화시키고 품사 태깅\n",
        "      3. 품사 태깅된 단어 기반으로 synset 객체와 senti_synset 객체를 생성\n",
        "      4. Senti_synset에서 긍정 감성/부정 감성 지수를 구하고 이를 모두 합산해 특정 임계치 값 이상일 때 긍정 감성으로, 그렇지 않을 때는 부정 감성으로 결정\n",
        "\n",
        "  - SentiWordNet을 이용하기 위해서 WordNet을 이용해 `문서를 다시 단어로 토큰화`한 뒤, `어근 추출(Lemmatization)`과 `품사 태킹(POS Tagging)`을 적용해야 한다.\n",
        "\n",
        "  - 먼저 품사 태깅을 수행하는 내부 함수를 생성한다."
      ],
      "metadata": {
        "id": "tciyjA2MUA5V"
      }
    },
    {
      "cell_type": "code",
      "source": [
        "from nltk.corpus import wordnet as wn\n",
        "\n",
        "# 간단한 NLTK PennTreebank Tag를 기반으로 WordNet 기반의 품사 Tag로 변환\n",
        "def penn_to_wn(tag):\n",
        "  if tag.startswith('J'):\n",
        "    return wn.ADJ\n",
        "  elif tag.startswith('N'):\n",
        "    return wn.NOUN\n",
        "  elif tag.startswith('R'):\n",
        "    return wn.ADV\n",
        "  elif tag.startswith('V'):\n",
        "    return wn.VERB"
      ],
      "metadata": {
        "id": "PmVkltLQUqgb"
      },
      "execution_count": 18,
      "outputs": []
    },
    {
      "cell_type": "markdown",
      "source": [
        "  - 이제 문서를 문장 -> 단어 토큰 -> 품사 태깅 후에 SentiSynset 클래스를 생성하고 Polarity Score를 합산하는 함수를 생성한다. \n",
        "  - 각 단어의 긍정 감성 지수와 부정 감성 지수를 모두 합한 총 감성 지수가 0 이상일 경우 긍정 감성, 그렇지 않을 경우 부정 감성으로 예측한다."
      ],
      "metadata": {
        "id": "q9Qhx8F3YTNQ"
      }
    },
    {
      "cell_type": "code",
      "source": [
        "from nltk.stem import WordNetLemmatizer\n",
        "from nltk.corpus import sentiwordnet as swn\n",
        "from nltk import sent_tokenize, word_tokenize, pos_tag\n",
        "\n",
        "def swn_polarity(text):\n",
        "  # 감성 지수 초기화\n",
        "  sentiment = 0.0\n",
        "  tokens_count = 0\n",
        "\n",
        "  lemmatizer = WordNetLemmatizer()\n",
        "  raw_sentences = sent_tokenize(text)\n",
        "  # 분해된 문장별로 단어 토큰 -> 품사 태깅 후에 SentiSynset 생성 -> 감성 지수 합산\n",
        "  for raw_sentence in raw_sentences:\n",
        "    # NLTK 기반의 품사 태깅 문장 추출\n",
        "    tagged_sentence = pos_tag(word_tokenize(raw_sentence))\n",
        "    for word, tag in tagged_sentence:\n",
        "\n",
        "      # WordNet 기반 품사 태깅과 어근 추출\n",
        "      wn_tag = penn_to_wn(tag)\n",
        "      if wn_tag not in (wn.NOUN, wn.ADJ, wn.ADV):\n",
        "        continue\n",
        "      lemma = lemmatizer.lemmatize(word, pos = wn_tag)\n",
        "      if not lemma:\n",
        "        continue\n",
        "\n",
        "      # 어근을 추출한 단어와 WordNet 기반 품사 태깅을 입력해 Synset 객체를 생성\n",
        "      synsets = wn.synsets(lemma, pos = wn_tag)\n",
        "      if not synsets:\n",
        "        continue\n",
        "      \n",
        "      # sentiwordnet의 감성 단어 분석으로 감성 synset 추출\n",
        "      # 모든 단어에 대해 긍정 감성 지수는 +로, 부정 감성 지수는 -로 합산해 감성 지수 계산\n",
        "      synset = synsets[0]\n",
        "      swn_synset = swn.senti_synset(synset.name())\n",
        "      sentiment += (swn_synset.pos_score() - swn_synset.neg_score())\n",
        "      tokens_count += 1\n",
        "\n",
        "  if not tokens_count:\n",
        "    return 0\n",
        "\n",
        "  # 총 score가 0 이상일 경우 긍정(Positive) 1, 그렇지 않을 경우 부정(Negative) 0 반환\n",
        "  if sentiment >= 0:\n",
        "    return 1\n",
        "\n",
        "  return 0"
      ],
      "metadata": {
        "id": "6-PTLfCSZlg0"
      },
      "execution_count": 19,
      "outputs": []
    },
    {
      "cell_type": "markdown",
      "source": [
        "  - 이렇게 생성한 swn_polarity(text) 함수를 IMDB 감상평의 개별 문서에 적용해 긍정 및 부정 감성을 예측해보자. \n",
        "  - 판다스의 apply lambda 구문을 이용해 swn_polarity(text)를 개별 감상평 텍스트에 적용한다.\n",
        "  - 지도학습에서 사용한 review_df를 그대로 사용하며, review_df의 새로운 칼럼으로 '`preds`'를 추가해 이 칼럼에 `swn_polarity(text)로 반환된 감성 평가를 담는다`.\n",
        "  - 그리고 실제 감성 평가인 '`sentiment`' 칼럼과 `swn_polarity(text)로 반환된 결과`의 `정확도`, `정밀도`, `재현율` 값을 모두 측정해본다."
      ],
      "metadata": {
        "id": "VsvjLvyVbI9b"
      }
    },
    {
      "cell_type": "code",
      "source": [
        "review_df['preds'] = review_df['review'].apply(lambda x : swn_polarity(x))\n",
        "y_target = review_df['sentiment'].values\n",
        "preds = review_df['preds'].values"
      ],
      "metadata": {
        "id": "SEsC3RDMbwtt"
      },
      "execution_count": 20,
      "outputs": []
    },
    {
      "cell_type": "markdown",
      "source": [
        "  - SentiWordNet의 감성 분석 예측 성능을 살펴보자."
      ],
      "metadata": {
        "id": "thiU8RUZcC4p"
      }
    },
    {
      "cell_type": "code",
      "source": [
        "from sklearn.metrics import accuracy_score, confusion_matrix, precision_score\n",
        "from sklearn.metrics import recall_score, f1_score, roc_auc_score\n",
        "import numpy as np\n",
        "\n",
        "print(confusion_matrix(y_target, preds))\n",
        "print('정확도 :', np.round(accuracy_score(y_target, preds), 4))\n",
        "print('정밀도 :', np.round(precision_score(y_target, preds), 4))\n",
        "print('재현율 :', np.round(recall_score(y_target, preds), 4))"
      ],
      "metadata": {
        "colab": {
          "base_uri": "https://localhost:8080/"
        },
        "id": "uE2EZka6cFZ2",
        "outputId": "0f4a6bb9-5a13-42ba-f9fd-ab7bfb70de79"
      },
      "execution_count": 21,
      "outputs": [
        {
          "output_type": "stream",
          "name": "stdout",
          "text": [
            "[[7668 4832]\n",
            " [3636 8864]]\n",
            "정확도 : 0.6613\n",
            "정밀도 : 0.6472\n",
            "재현율 : 0.7091\n"
          ]
        }
      ]
    },
    {
      "cell_type": "markdown",
      "source": [
        "  - 정확도가 약 66.13%, 재현율이 약 70.91%로 전반적인 성능 평가 지표는 그닥 만족스럽지 않은 수치이다."
      ],
      "metadata": {
        "id": "YzQKGwmscgLh"
      }
    },
    {
      "cell_type": "markdown",
      "source": [
        "### **e. VADER를 이용한 감성 분석**\n",
        "  - VADER\n",
        "    - `소셜 미디어의 감성 분석 용도`로 만들어진 룰 기반의 Lexicon\n",
        "    - `SentimentIntensityAnalyzer` 클래스를 이용해 쉽게 `감성 분석을 제공`"
      ],
      "metadata": {
        "id": "hSsbDp53U4yN"
      }
    },
    {
      "cell_type": "code",
      "source": [
        "from nltk.sentiment.vader import SentimentIntensityAnalyzer\n",
        "\n",
        "senti_analyzer = SentimentIntensityAnalyzer()\n",
        "senti_scores = senti_analyzer.polarity_scores(review_df['review'][0])\n",
        "print(senti_scores)"
      ],
      "metadata": {
        "colab": {
          "base_uri": "https://localhost:8080/"
        },
        "id": "Id_i6mdOU7ir",
        "outputId": "6ec60169-f8f4-421a-b5a9-3ba5529598ca"
      },
      "execution_count": 22,
      "outputs": [
        {
          "output_type": "stream",
          "name": "stdout",
          "text": [
            "{'neg': 0.13, 'neu': 0.743, 'pos': 0.127, 'compound': -0.7943}\n"
          ]
        }
      ]
    },
    {
      "cell_type": "markdown",
      "source": [
        "  - VADER를 이용한 감성 분석\n",
        "    1. SentimentIntensityAnalyzer 객체를 생성한 뒤, 문서별로 `polarity_scores()` 메서드를 호출해 `감성 점수`를 구한다.\n",
        "    2. 해당 문서의 감성 점수가 특정 임계값 이상이면 긍정, 그렇지 않으면 부정으로 판단한다.\n",
        "\n",
        "  - SentimentIntensityAnalyzer 객체의 `polarity_scores()` 메서드는 딕셔너리 형태의 `감성 점수를 반환`한다.\n",
        "    - `neg`는 `부정 감성` 지수, `neu`는 `중립적인 감성` 지수, `pos`는 `긍정 감성` 지수, `compound`는 neg, neu, pos score를 `적절히 조합해 -1에서 1 사이의 감성 지수`를 표현한 값\n",
        "    - `compound score`를 기반으로 부정 감성 또는 긍정 감성 여부를 결정\n",
        "      - 보통 `0.1 이상이면 긍정` 감성, `그 이하이면 부정` 감성으로 판단하나 상황에 따라 임계값을 적절히 조정해 예측 성능을 조절 "
      ],
      "metadata": {
        "id": "NOhfuWa3du-5"
      }
    },
    {
      "cell_type": "markdown",
      "source": [
        "  - VADER를 이용해 IMDB의 감성 분석을 수행하기에 앞서, vader_polarity() 함수를 새롭게 생성한다.\n",
        "  - `vader_polarity()` 함수는 입력 `파라미터`로 `영화 감상평 텍스트`와 `긍정/부정을 결정하는 임곗값`을 가지며, SentimentIntensityAnalyzer 객체의 `polarity_scores()` 메서드를 호출해 `감성 결과를 반환`한다."
      ],
      "metadata": {
        "id": "n66QTcVPkYr2"
      }
    },
    {
      "cell_type": "code",
      "source": [
        "def vader_polarity(review, threshold = 0.1):\n",
        "  analyzer = SentimentIntensityAnalyzer()\n",
        "  scores = analyzer.polarity_scores(review)\n",
        "\n",
        "  # compound 값에 기반해 threshold 입력값보다 크면 1, 그렇지 않으면 0을 반환\n",
        "  agg_score = scores['compound']\n",
        "  final_sentiment = 1 if agg_score >= threshold else 0\n",
        "  return final_sentiment\n",
        "\n",
        "# apply lambda 식을 이용해 레코드별로 vader_polarity()를 수행하고 결과를 'vader_preds'에 저장\n",
        "review_df['vader_preds'] = review_df['review'].apply(lambda x : vader_polarity(x, 0.1))\n",
        "y_target = review_df['sentiment'].values\n",
        "vader_preds = review_df['vader_preds'].values\n",
        "\n",
        "print(confusion_matrix(y_target, vader_preds))\n",
        "print('정확도 :', np.round(accuracy_score(y_target, vader_preds), 4))\n",
        "print('정밀도 :', np.round(precision_score(y_target, vader_preds), 4))\n",
        "print('재현율 :', np.round(recall_score(y_target, vader_preds), 4))"
      ],
      "metadata": {
        "colab": {
          "base_uri": "https://localhost:8080/"
        },
        "id": "OcbtSmkOeUCz",
        "outputId": "51395eb2-88f4-4a03-88ac-ac972b719e1e"
      },
      "execution_count": 23,
      "outputs": [
        {
          "output_type": "stream",
          "name": "stdout",
          "text": [
            "[[ 6747  5753]\n",
            " [ 1858 10642]]\n",
            "정확도 : 0.6956\n",
            "정밀도 : 0.6491\n",
            "재현율 : 0.8514\n"
          ]
        }
      ]
    },
    {
      "cell_type": "markdown",
      "source": [
        "  - 정확도가 SentiWordNet에 비해 향상되었고, 특히 재현율은 약 85.14%로 매우 크게 향상되었다. \n",
        "  - 다음은 SentiWordNet과 VADER의 IMDB 영화 감상평을 기반으로 지금까지 수행한 감성 분석 평가 지표 수치 결과를 나열한 것이다."
      ],
      "metadata": {
        "id": "tCoGQ-dklcRc"
      }
    },
    {
      "cell_type": "markdown",
      "source": [
        "![캡처.PNG](data:image/png;base64,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)"
      ],
      "metadata": {
        "id": "ru2sssH_lp78"
      }
    }
  ]
}
