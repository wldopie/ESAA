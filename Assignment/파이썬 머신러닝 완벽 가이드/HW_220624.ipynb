{
  "nbformat": 4,
  "nbformat_minor": 0,
  "metadata": {
    "colab": {
      "name": "HW_220624.ipynb",
      "provenance": [],
      "authorship_tag": "ABX9TyMNUDbVGHnKaffKKWq6f1XH",
      "include_colab_link": true
    },
    "kernelspec": {
      "name": "python3",
      "display_name": "Python 3"
    },
    "language_info": {
      "name": "python"
    }
  },
  "cells": [
    {
      "cell_type": "markdown",
      "metadata": {
        "id": "view-in-github",
        "colab_type": "text"
      },
      "source": [
        "<a href=\"https://colab.research.google.com/github/wldopie/ESAA/blob/main/HW_220624.ipynb\" target=\"_parent\"><img src=\"https://colab.research.google.com/assets/colab-badge.svg\" alt=\"Open In Colab\"/></a>"
      ]
    },
    {
      "cell_type": "markdown",
      "source": [
        "## **Chap 07. 군집화**"
      ],
      "metadata": {
        "id": "dhYh9z-lLPmP"
      }
    },
    {
      "cell_type": "markdown",
      "source": [
        "### **01. K-평균 알고리즘 이해**\n",
        "  - K-평균은 군집화에서 가장 일반적으로 사용되는 알고리즘\n",
        "  - 정의\n",
        "    - 군집 중심점(centroid)이라는 특정한 임의의 지점을 선택해 해당 중심에 가장 가까운 포인트들을 선택하는 군집화 기법\n",
        "\n",
        "  - 프로세스\n",
        "\n",
        "    1. 먼저 군집화의 기준이 되는 중심을 구성하려는 군집화 개수만큼 임의의 위치에 가져다 놓는다. 전체 데이터를 2개로 군집화하려면, 2개의 중심을 임의의 위치에 가져다 놓는다. (초기화 알고리즘으로 적합한 위치에 중심점을 가져다 놓는 것이 가장 이상적)\n",
        "    2. 각 데이터는 가장 가까운 곳에 위치한 중심점에 소속된다. 위 그림에서는 A, B 데이터가 같은 중심점에 소속되며, C,E,F 데이터가 같은 중심점에 소속된다.\n",
        "    3. 이렇게 소속이 결정되면 군집 중심점을 소속된 데이터의 평균 중심으로 이동한다. 위 그림에서는 A, B 데이터 포인트의 평균 위치로 중심점이 이동했고, 다른 중심점 역시 C,E,F 데이터 포인트의 평균 위치로 이동했다. \n",
        "    4. 중심점이 이동했기 때문에 각 데이터는 기존에 속한 중심점보다 더 가까운 중심점이 있다면 해당 중심점으로 다시 소속을 변경한다. 위 그림에서는 C 데이터가 기존의 중심점보다 더 가까운 중심점으로 변경되었다.\n",
        "    5. 다시 중심을 소속된 데이터의 평균 중심으로 이동한다. 위 그림에서는 데이터 C가 중심 소속이 변경되면서 두 개의 중심이 모두 이동한다.\n",
        "    6. 중심점을 이동했는데 데이터의 중심점 소속 변경이 없다면 군집화를 종료한다. 그렇지 않다면 다시 4번의 과정을 가쳐 소속을 변경하고 이 과정을 반복한다.\n",
        "  \n",
        "  - K-평균의 장점\n",
        "    - 일반적인 군집화에서 가장 많이 활용되는 알고리즘\n",
        "    - 알고리즘이 쉽고 간결\n",
        "  \n",
        "  - K-평균의 단점\n",
        "    - 거리 기반 알고리즘으로 속성의 개수가 매우 많을 경우 군집화 정확도가 떨어짐 (이를 위해 PCA로 차원 감소를 적용해야 할 수도 있음)\n",
        "    - 반복을 수행하는데, 반복 횟수가 많을 경우 수행 시간이 매우 느림\n",
        "    - 몇 개의 군집(cluster)을 선택해야 할 지 가이드하기 어려움"
      ],
      "metadata": {
        "id": "Kr3jQFG2LUAv"
      }
    },
    {
      "cell_type": "markdown",
      "source": [
        "#### a. 사이킷런 KMeans 클래스 소개\n",
        "  - 주요 파라미터\n",
        "    - `n_clusters`\n",
        "      - 군집화할 개수, 즉 군집 중심점의 개수 \n",
        "    - `init`\n",
        "      - 초기에 군집 중심점의 좌표를 설정할 방식\n",
        "      - 보통은 임의로 중심을 설정하지 않고 k-means++ 방식으로 최초 설정\n",
        "    - `max_iter`\n",
        "      - 최대 반복 횟수\n",
        "      - 이 횟수 이전에 모든 데이터의 중심점 이동이 없으면 종료\n",
        "\n",
        "  - 주요 속성 정보\n",
        "    - 사이킷런의 비지도학습 클래스와 마찬가지로 fit() 또는 fit_transform() 메서드를 이용해 수행\n",
        "    - `labels_`\n",
        "      - 각 데이터 포인트가 속한 군집 중심점 레이블\n",
        "    - `cluster_centers_`\n",
        "      - 각 군집 중심점 좌표(shape = [군집 개수, 피처 개수])\n",
        "      - 이를 이용하면 군집 중심점 좌표가 어디인지 시각화 가능"
      ],
      "metadata": {
        "id": "FoS64PKlLZ4p"
      }
    },
    {
      "cell_type": "markdown",
      "source": [
        "#### b. K-평균을 이용한 붓꽃 데이터 세트 군집화"
      ],
      "metadata": {
        "id": "NwaTwvJFLc-F"
      }
    },
    {
      "cell_type": "code",
      "source": [
        "from sklearn.preprocessing import scale\n",
        "from sklearn.datasets import load_iris\n",
        "from sklearn.cluster import KMeans\n",
        "import matplotlib.pyplot as plt\n",
        "import numpy as np\n",
        "import pandas as pd\n",
        "%matplotlib inline\n",
        "\n",
        "iris = load_iris()\n",
        "# 더 편리한 데이터 핸들링을 위해 DataFrame으로 변환\n",
        "irisDF = pd.DataFrame(data = iris.data, columns = ['sepal_length', 'sepal_width', 'petal_length', 'petal_width'])\n",
        "irisDF.head()"
      ],
      "metadata": {
        "colab": {
          "base_uri": "https://localhost:8080/",
          "height": 206
        },
        "id": "P3Nz6YSgLfwO",
        "outputId": "c7290096-8253-445f-84bf-97aa48f3596f"
      },
      "execution_count": 3,
      "outputs": [
        {
          "output_type": "execute_result",
          "data": {
            "text/plain": [
              "   sepal_length  sepal_width  petal_length  petal_width\n",
              "0           5.1          3.5           1.4          0.2\n",
              "1           4.9          3.0           1.4          0.2\n",
              "2           4.7          3.2           1.3          0.2\n",
              "3           4.6          3.1           1.5          0.2\n",
              "4           5.0          3.6           1.4          0.2"
            ],
            "text/html": [
              "\n",
              "  <div id=\"df-16064419-c977-4f21-b62c-659a07ab6fbe\">\n",
              "    <div class=\"colab-df-container\">\n",
              "      <div>\n",
              "<style scoped>\n",
              "    .dataframe tbody tr th:only-of-type {\n",
              "        vertical-align: middle;\n",
              "    }\n",
              "\n",
              "    .dataframe tbody tr th {\n",
              "        vertical-align: top;\n",
              "    }\n",
              "\n",
              "    .dataframe thead th {\n",
              "        text-align: right;\n",
              "    }\n",
              "</style>\n",
              "<table border=\"1\" class=\"dataframe\">\n",
              "  <thead>\n",
              "    <tr style=\"text-align: right;\">\n",
              "      <th></th>\n",
              "      <th>sepal_length</th>\n",
              "      <th>sepal_width</th>\n",
              "      <th>petal_length</th>\n",
              "      <th>petal_width</th>\n",
              "    </tr>\n",
              "  </thead>\n",
              "  <tbody>\n",
              "    <tr>\n",
              "      <th>0</th>\n",
              "      <td>5.1</td>\n",
              "      <td>3.5</td>\n",
              "      <td>1.4</td>\n",
              "      <td>0.2</td>\n",
              "    </tr>\n",
              "    <tr>\n",
              "      <th>1</th>\n",
              "      <td>4.9</td>\n",
              "      <td>3.0</td>\n",
              "      <td>1.4</td>\n",
              "      <td>0.2</td>\n",
              "    </tr>\n",
              "    <tr>\n",
              "      <th>2</th>\n",
              "      <td>4.7</td>\n",
              "      <td>3.2</td>\n",
              "      <td>1.3</td>\n",
              "      <td>0.2</td>\n",
              "    </tr>\n",
              "    <tr>\n",
              "      <th>3</th>\n",
              "      <td>4.6</td>\n",
              "      <td>3.1</td>\n",
              "      <td>1.5</td>\n",
              "      <td>0.2</td>\n",
              "    </tr>\n",
              "    <tr>\n",
              "      <th>4</th>\n",
              "      <td>5.0</td>\n",
              "      <td>3.6</td>\n",
              "      <td>1.4</td>\n",
              "      <td>0.2</td>\n",
              "    </tr>\n",
              "  </tbody>\n",
              "</table>\n",
              "</div>\n",
              "      <button class=\"colab-df-convert\" onclick=\"convertToInteractive('df-16064419-c977-4f21-b62c-659a07ab6fbe')\"\n",
              "              title=\"Convert this dataframe to an interactive table.\"\n",
              "              style=\"display:none;\">\n",
              "        \n",
              "  <svg xmlns=\"http://www.w3.org/2000/svg\" height=\"24px\"viewBox=\"0 0 24 24\"\n",
              "       width=\"24px\">\n",
              "    <path d=\"M0 0h24v24H0V0z\" fill=\"none\"/>\n",
              "    <path d=\"M18.56 5.44l.94 2.06.94-2.06 2.06-.94-2.06-.94-.94-2.06-.94 2.06-2.06.94zm-11 1L8.5 8.5l.94-2.06 2.06-.94-2.06-.94L8.5 2.5l-.94 2.06-2.06.94zm10 10l.94 2.06.94-2.06 2.06-.94-2.06-.94-.94-2.06-.94 2.06-2.06.94z\"/><path d=\"M17.41 7.96l-1.37-1.37c-.4-.4-.92-.59-1.43-.59-.52 0-1.04.2-1.43.59L10.3 9.45l-7.72 7.72c-.78.78-.78 2.05 0 2.83L4 21.41c.39.39.9.59 1.41.59.51 0 1.02-.2 1.41-.59l7.78-7.78 2.81-2.81c.8-.78.8-2.07 0-2.86zM5.41 20L4 18.59l7.72-7.72 1.47 1.35L5.41 20z\"/>\n",
              "  </svg>\n",
              "      </button>\n",
              "      \n",
              "  <style>\n",
              "    .colab-df-container {\n",
              "      display:flex;\n",
              "      flex-wrap:wrap;\n",
              "      gap: 12px;\n",
              "    }\n",
              "\n",
              "    .colab-df-convert {\n",
              "      background-color: #E8F0FE;\n",
              "      border: none;\n",
              "      border-radius: 50%;\n",
              "      cursor: pointer;\n",
              "      display: none;\n",
              "      fill: #1967D2;\n",
              "      height: 32px;\n",
              "      padding: 0 0 0 0;\n",
              "      width: 32px;\n",
              "    }\n",
              "\n",
              "    .colab-df-convert:hover {\n",
              "      background-color: #E2EBFA;\n",
              "      box-shadow: 0px 1px 2px rgba(60, 64, 67, 0.3), 0px 1px 3px 1px rgba(60, 64, 67, 0.15);\n",
              "      fill: #174EA6;\n",
              "    }\n",
              "\n",
              "    [theme=dark] .colab-df-convert {\n",
              "      background-color: #3B4455;\n",
              "      fill: #D2E3FC;\n",
              "    }\n",
              "\n",
              "    [theme=dark] .colab-df-convert:hover {\n",
              "      background-color: #434B5C;\n",
              "      box-shadow: 0px 1px 3px 1px rgba(0, 0, 0, 0.15);\n",
              "      filter: drop-shadow(0px 1px 2px rgba(0, 0, 0, 0.3));\n",
              "      fill: #FFFFFF;\n",
              "    }\n",
              "  </style>\n",
              "\n",
              "      <script>\n",
              "        const buttonEl =\n",
              "          document.querySelector('#df-16064419-c977-4f21-b62c-659a07ab6fbe button.colab-df-convert');\n",
              "        buttonEl.style.display =\n",
              "          google.colab.kernel.accessAllowed ? 'block' : 'none';\n",
              "\n",
              "        async function convertToInteractive(key) {\n",
              "          const element = document.querySelector('#df-16064419-c977-4f21-b62c-659a07ab6fbe');\n",
              "          const dataTable =\n",
              "            await google.colab.kernel.invokeFunction('convertToInteractive',\n",
              "                                                     [key], {});\n",
              "          if (!dataTable) return;\n",
              "\n",
              "          const docLinkHtml = 'Like what you see? Visit the ' +\n",
              "            '<a target=\"_blank\" href=https://colab.research.google.com/notebooks/data_table.ipynb>data table notebook</a>'\n",
              "            + ' to learn more about interactive tables.';\n",
              "          element.innerHTML = '';\n",
              "          dataTable['output_type'] = 'display_data';\n",
              "          await google.colab.output.renderOutput(dataTable, element);\n",
              "          const docLink = document.createElement('div');\n",
              "          docLink.innerHTML = docLinkHtml;\n",
              "          element.appendChild(docLink);\n",
              "        }\n",
              "      </script>\n",
              "    </div>\n",
              "  </div>\n",
              "  "
            ]
          },
          "metadata": {},
          "execution_count": 3
        }
      ]
    },
    {
      "cell_type": "markdown",
      "source": [
        "> 붓꽃 데이터 세트를 3개 그룹으로 군집화해보자. "
      ],
      "metadata": {
        "id": "5QyChTgqQm84"
      }
    },
    {
      "cell_type": "code",
      "source": [
        "kmeans = KMeans(n_clusters = 3, init = 'k-means++', max_iter = 300, random_state = 0)\n",
        "kmeans.fit(irisDF)"
      ],
      "metadata": {
        "colab": {
          "base_uri": "https://localhost:8080/"
        },
        "id": "UdwASbgiQroD",
        "outputId": "6b326bf4-e021-4467-99f8-10a727a8bb71"
      },
      "execution_count": 4,
      "outputs": [
        {
          "output_type": "execute_result",
          "data": {
            "text/plain": [
              "KMeans(n_clusters=3, random_state=0)"
            ]
          },
          "metadata": {},
          "execution_count": 4
        }
      ]
    },
    {
      "cell_type": "code",
      "source": [
        "# kmeans의 labels_를 이용해 각 데이터가 어떤 중심에 속하는지 확인\n",
        "print(kmeans.labels_)"
      ],
      "metadata": {
        "colab": {
          "base_uri": "https://localhost:8080/"
        },
        "id": "fFqjo1SwQ0pp",
        "outputId": "b2edf8ef-b30c-4f4a-b138-e2fff30f8e4f"
      },
      "execution_count": 5,
      "outputs": [
        {
          "output_type": "stream",
          "name": "stdout",
          "text": [
            "[1 1 1 1 1 1 1 1 1 1 1 1 1 1 1 1 1 1 1 1 1 1 1 1 1 1 1 1 1 1 1 1 1 1 1 1 1\n",
            " 1 1 1 1 1 1 1 1 1 1 1 1 1 0 0 2 0 0 0 0 0 0 0 0 0 0 0 0 0 0 0 0 0 0 0 0 0\n",
            " 0 0 0 2 0 0 0 0 0 0 0 0 0 0 0 0 0 0 0 0 0 0 0 0 0 0 2 0 2 2 2 2 0 2 2 2 2\n",
            " 2 2 0 0 2 2 2 2 0 2 0 2 0 2 2 0 0 2 2 2 2 2 0 2 2 2 2 0 2 2 2 0 2 2 2 0 2\n",
            " 2 0]\n"
          ]
        }
      ]
    },
    {
      "cell_type": "markdown",
      "source": [
        "> 실제 붓꽃 품종 분류 값과 얼마나 차이가 나는지 확인해보자."
      ],
      "metadata": {
        "id": "vjiX73iDRDB6"
      }
    },
    {
      "cell_type": "code",
      "source": [
        "irisDF['target'] = iris.target\n",
        "irisDF['cluster'] = kmeans.labels_\n",
        "iris_result = irisDF.groupby(['target', 'cluster'])['sepal_length'].count()\n",
        "print(iris_result)"
      ],
      "metadata": {
        "colab": {
          "base_uri": "https://localhost:8080/"
        },
        "id": "0PLPC4nNRGyb",
        "outputId": "fa492319-16a1-4ae5-dc24-e870f891a8e8"
      },
      "execution_count": 6,
      "outputs": [
        {
          "output_type": "stream",
          "name": "stdout",
          "text": [
            "target  cluster\n",
            "0       1          50\n",
            "1       0          48\n",
            "        2           2\n",
            "2       0          14\n",
            "        2          36\n",
            "Name: sepal_length, dtype: int64\n"
          ]
        }
      ]
    },
    {
      "cell_type": "markdown",
      "source": [
        "  - 타깃값이 0인 데이터는 모두 1번 군집으로 잘 그루핑되었다.\n",
        "  - 타깃값이 1인 데이터는 2개만 2번 군집으로 그루핑되고, 나머지는 모두 0번 군집으로 그루핑되었다.\n",
        "  - 타깃값이 2인 데이터는 0번 군집에 14개, 2번 군집에 36개로 분산돼 그루핑되었다."
      ],
      "metadata": {
        "id": "zV1E2aNrRYzf"
      }
    },
    {
      "cell_type": "markdown",
      "source": [
        "> 이번에는 붓꽃 데이터 세트의 군집화를 시각화해보자. 2차원 평면상에서 개별 데이터의 군집화를 시각적으로 표현하기 위해, 붓꽃 데이터 세트의 속성을 4개에서 2개로 차원 축소한 뒤에 표현해보자."
      ],
      "metadata": {
        "id": "x-ZQY4xqRk_c"
      }
    },
    {
      "cell_type": "code",
      "source": [
        "from sklearn.decomposition import PCA\n",
        "\n",
        "pca = PCA(n_components = 2)\n",
        "pca_transformed = pca.fit_transform(iris.data)\n",
        "\n",
        "irisDF['pca_x'] = pca_transformed[:, 0]\n",
        "irisDF['pca_y'] = pca_transformed[:, 1]\n",
        "irisDF.head()"
      ],
      "metadata": {
        "colab": {
          "base_uri": "https://localhost:8080/",
          "height": 206
        },
        "id": "vvd9opj1Rn5N",
        "outputId": "709f7b70-070b-4353-a0a7-05424907301c"
      },
      "execution_count": 7,
      "outputs": [
        {
          "output_type": "execute_result",
          "data": {
            "text/plain": [
              "   sepal_length  sepal_width  petal_length  petal_width  target  cluster  \\\n",
              "0           5.1          3.5           1.4          0.2       0        1   \n",
              "1           4.9          3.0           1.4          0.2       0        1   \n",
              "2           4.7          3.2           1.3          0.2       0        1   \n",
              "3           4.6          3.1           1.5          0.2       0        1   \n",
              "4           5.0          3.6           1.4          0.2       0        1   \n",
              "\n",
              "      pca_x     pca_y  \n",
              "0 -2.684126  0.319397  \n",
              "1 -2.714142 -0.177001  \n",
              "2 -2.888991 -0.144949  \n",
              "3 -2.745343 -0.318299  \n",
              "4 -2.728717  0.326755  "
            ],
            "text/html": [
              "\n",
              "  <div id=\"df-068ddf95-d1ad-4219-b108-393cef4d3146\">\n",
              "    <div class=\"colab-df-container\">\n",
              "      <div>\n",
              "<style scoped>\n",
              "    .dataframe tbody tr th:only-of-type {\n",
              "        vertical-align: middle;\n",
              "    }\n",
              "\n",
              "    .dataframe tbody tr th {\n",
              "        vertical-align: top;\n",
              "    }\n",
              "\n",
              "    .dataframe thead th {\n",
              "        text-align: right;\n",
              "    }\n",
              "</style>\n",
              "<table border=\"1\" class=\"dataframe\">\n",
              "  <thead>\n",
              "    <tr style=\"text-align: right;\">\n",
              "      <th></th>\n",
              "      <th>sepal_length</th>\n",
              "      <th>sepal_width</th>\n",
              "      <th>petal_length</th>\n",
              "      <th>petal_width</th>\n",
              "      <th>target</th>\n",
              "      <th>cluster</th>\n",
              "      <th>pca_x</th>\n",
              "      <th>pca_y</th>\n",
              "    </tr>\n",
              "  </thead>\n",
              "  <tbody>\n",
              "    <tr>\n",
              "      <th>0</th>\n",
              "      <td>5.1</td>\n",
              "      <td>3.5</td>\n",
              "      <td>1.4</td>\n",
              "      <td>0.2</td>\n",
              "      <td>0</td>\n",
              "      <td>1</td>\n",
              "      <td>-2.684126</td>\n",
              "      <td>0.319397</td>\n",
              "    </tr>\n",
              "    <tr>\n",
              "      <th>1</th>\n",
              "      <td>4.9</td>\n",
              "      <td>3.0</td>\n",
              "      <td>1.4</td>\n",
              "      <td>0.2</td>\n",
              "      <td>0</td>\n",
              "      <td>1</td>\n",
              "      <td>-2.714142</td>\n",
              "      <td>-0.177001</td>\n",
              "    </tr>\n",
              "    <tr>\n",
              "      <th>2</th>\n",
              "      <td>4.7</td>\n",
              "      <td>3.2</td>\n",
              "      <td>1.3</td>\n",
              "      <td>0.2</td>\n",
              "      <td>0</td>\n",
              "      <td>1</td>\n",
              "      <td>-2.888991</td>\n",
              "      <td>-0.144949</td>\n",
              "    </tr>\n",
              "    <tr>\n",
              "      <th>3</th>\n",
              "      <td>4.6</td>\n",
              "      <td>3.1</td>\n",
              "      <td>1.5</td>\n",
              "      <td>0.2</td>\n",
              "      <td>0</td>\n",
              "      <td>1</td>\n",
              "      <td>-2.745343</td>\n",
              "      <td>-0.318299</td>\n",
              "    </tr>\n",
              "    <tr>\n",
              "      <th>4</th>\n",
              "      <td>5.0</td>\n",
              "      <td>3.6</td>\n",
              "      <td>1.4</td>\n",
              "      <td>0.2</td>\n",
              "      <td>0</td>\n",
              "      <td>1</td>\n",
              "      <td>-2.728717</td>\n",
              "      <td>0.326755</td>\n",
              "    </tr>\n",
              "  </tbody>\n",
              "</table>\n",
              "</div>\n",
              "      <button class=\"colab-df-convert\" onclick=\"convertToInteractive('df-068ddf95-d1ad-4219-b108-393cef4d3146')\"\n",
              "              title=\"Convert this dataframe to an interactive table.\"\n",
              "              style=\"display:none;\">\n",
              "        \n",
              "  <svg xmlns=\"http://www.w3.org/2000/svg\" height=\"24px\"viewBox=\"0 0 24 24\"\n",
              "       width=\"24px\">\n",
              "    <path d=\"M0 0h24v24H0V0z\" fill=\"none\"/>\n",
              "    <path d=\"M18.56 5.44l.94 2.06.94-2.06 2.06-.94-2.06-.94-.94-2.06-.94 2.06-2.06.94zm-11 1L8.5 8.5l.94-2.06 2.06-.94-2.06-.94L8.5 2.5l-.94 2.06-2.06.94zm10 10l.94 2.06.94-2.06 2.06-.94-2.06-.94-.94-2.06-.94 2.06-2.06.94z\"/><path d=\"M17.41 7.96l-1.37-1.37c-.4-.4-.92-.59-1.43-.59-.52 0-1.04.2-1.43.59L10.3 9.45l-7.72 7.72c-.78.78-.78 2.05 0 2.83L4 21.41c.39.39.9.59 1.41.59.51 0 1.02-.2 1.41-.59l7.78-7.78 2.81-2.81c.8-.78.8-2.07 0-2.86zM5.41 20L4 18.59l7.72-7.72 1.47 1.35L5.41 20z\"/>\n",
              "  </svg>\n",
              "      </button>\n",
              "      \n",
              "  <style>\n",
              "    .colab-df-container {\n",
              "      display:flex;\n",
              "      flex-wrap:wrap;\n",
              "      gap: 12px;\n",
              "    }\n",
              "\n",
              "    .colab-df-convert {\n",
              "      background-color: #E8F0FE;\n",
              "      border: none;\n",
              "      border-radius: 50%;\n",
              "      cursor: pointer;\n",
              "      display: none;\n",
              "      fill: #1967D2;\n",
              "      height: 32px;\n",
              "      padding: 0 0 0 0;\n",
              "      width: 32px;\n",
              "    }\n",
              "\n",
              "    .colab-df-convert:hover {\n",
              "      background-color: #E2EBFA;\n",
              "      box-shadow: 0px 1px 2px rgba(60, 64, 67, 0.3), 0px 1px 3px 1px rgba(60, 64, 67, 0.15);\n",
              "      fill: #174EA6;\n",
              "    }\n",
              "\n",
              "    [theme=dark] .colab-df-convert {\n",
              "      background-color: #3B4455;\n",
              "      fill: #D2E3FC;\n",
              "    }\n",
              "\n",
              "    [theme=dark] .colab-df-convert:hover {\n",
              "      background-color: #434B5C;\n",
              "      box-shadow: 0px 1px 3px 1px rgba(0, 0, 0, 0.15);\n",
              "      filter: drop-shadow(0px 1px 2px rgba(0, 0, 0, 0.3));\n",
              "      fill: #FFFFFF;\n",
              "    }\n",
              "  </style>\n",
              "\n",
              "      <script>\n",
              "        const buttonEl =\n",
              "          document.querySelector('#df-068ddf95-d1ad-4219-b108-393cef4d3146 button.colab-df-convert');\n",
              "        buttonEl.style.display =\n",
              "          google.colab.kernel.accessAllowed ? 'block' : 'none';\n",
              "\n",
              "        async function convertToInteractive(key) {\n",
              "          const element = document.querySelector('#df-068ddf95-d1ad-4219-b108-393cef4d3146');\n",
              "          const dataTable =\n",
              "            await google.colab.kernel.invokeFunction('convertToInteractive',\n",
              "                                                     [key], {});\n",
              "          if (!dataTable) return;\n",
              "\n",
              "          const docLinkHtml = 'Like what you see? Visit the ' +\n",
              "            '<a target=\"_blank\" href=https://colab.research.google.com/notebooks/data_table.ipynb>data table notebook</a>'\n",
              "            + ' to learn more about interactive tables.';\n",
              "          element.innerHTML = '';\n",
              "          dataTable['output_type'] = 'display_data';\n",
              "          await google.colab.output.renderOutput(dataTable, element);\n",
              "          const docLink = document.createElement('div');\n",
              "          docLink.innerHTML = docLinkHtml;\n",
              "          element.appendChild(docLink);\n",
              "        }\n",
              "      </script>\n",
              "    </div>\n",
              "  </div>\n",
              "  "
            ]
          },
          "metadata": {},
          "execution_count": 7
        }
      ]
    },
    {
      "cell_type": "code",
      "source": [
        "# 군집 값이 0, 1, 2인 경우마다 별도의 인덱스로 추출\n",
        "marker0_ind = irisDF[irisDF['cluster'] == 0].index\n",
        "marker1_ind = irisDF[irisDF['cluster'] == 1].index\n",
        "marker2_ind = irisDF[irisDF['cluster'] == 2].index\n",
        "\n",
        "# 군집 값 0, 1, 2에 해당하는 인덱스로 각 군집 레벨의 pca_x, pca_y 값 추출\n",
        "plt.scatter(x = irisDF.loc[marker0_ind, 'pca_x'], y = irisDF.loc[marker0_ind, 'pca_y'], marker = 'o')\n",
        "plt.scatter(x = irisDF.loc[marker1_ind, 'pca_x'], y = irisDF.loc[marker1_ind, 'pca_y'], marker = 's')\n",
        "plt.scatter(x = irisDF.loc[marker2_ind, 'pca_x'], y = irisDF.loc[marker2_ind, 'pca_y'], marker = '^')\n",
        "\n",
        "plt.xlabel('PCA 1')\n",
        "plt.ylabel('PCA 2')\n",
        "plt.title('3 Clusters Visualization by 2 PCA components')\n",
        "plt.show()"
      ],
      "metadata": {
        "colab": {
          "base_uri": "https://localhost:8080/",
          "height": 295
        },
        "id": "gc-ec1xASChy",
        "outputId": "052be872-b70f-4ed9-fb81-63abd07ceb25"
      },
      "execution_count": 8,
      "outputs": [
        {
          "output_type": "display_data",
          "data": {
            "text/plain": [
              "<Figure size 432x288 with 1 Axes>"
            ],
            "image/png": "[encoded data removed]"
          },
          "metadata": {
            "needs_background": "light"
          }
        }
      ]
    },
    {
      "cell_type": "markdown",
      "source": [
        "  - Cluster 1을 나타내는 네모는 명확히 다른 군집과 잘 분리되었다.\n",
        "  - Cluster 0을 나타내는 동그라미와 Cluster 2를 나타내는 세모는 상당 수준 분리되어 있지만, 네모만큼 명확하게는 분리되어 있지 않다."
      ],
      "metadata": {
        "id": "f_r0qgq0Ssy6"
      }
    },
    {
      "cell_type": "markdown",
      "source": [
        "#### c. 군집화 알고리즘 테스트를 위한 데이터 생성\n",
        "  - 군집화용 데이터 생성기 - `make_blobs()`, `make_classification()`\n",
        "    - `make_blobs()`\n",
        "      - 주요 파라미터\n",
        "        - n_samples\n",
        "          - 생성할 총 데이터의 개수, 디폴트는 100\n",
        "        - n_features\n",
        "          - 데이터의 피처 개수\n",
        "        - centers\n",
        "          - int로 설정하면 군집의 개수\n",
        "          - ndarray로 설정할 경우 개별 군집 중심점의 좌표를 의미\n",
        "        - cluster_std\n",
        "          - 생성될 군집 데이터의 표준 편차"
      ],
      "metadata": {
        "id": "2u7Y5so7LhdN"
      }
    },
    {
      "cell_type": "code",
      "source": [
        "import numpy as np\n",
        "import matplotlib.pyplot as plt\n",
        "from sklearn.cluster import KMeans\n",
        "from sklearn.datasets import make_blobs\n",
        "%matplotlib inline\n",
        "\n",
        "X,y = make_blobs(n_samples = 200, n_features = 2, centers = 3, cluster_std = 0.8, random_state = 0)\n",
        "print(X.shape, y.shape)\n",
        "\n",
        "# y target 값의 분포를 확인\n",
        "unique, counts = np.unique(y, return_counts = True)\n",
        "print(unique, counts)"
      ],
      "metadata": {
        "colab": {
          "base_uri": "https://localhost:8080/"
        },
        "id": "fCSWVlx-Lj1c",
        "outputId": "6b541ad3-38d0-45ea-da4e-90009d081d05"
      },
      "execution_count": 10,
      "outputs": [
        {
          "output_type": "stream",
          "name": "stdout",
          "text": [
            "(200, 2) (200,)\n",
            "[0 1 2] [67 67 66]\n"
          ]
        }
      ]
    },
    {
      "cell_type": "code",
      "source": [
        "import pandas as pd\n",
        "\n",
        "clusterDF = pd.DataFrame(data = X, columns = ['ftr1', 'ftr2'])\n",
        "clusterDF['target'] = y\n",
        "clusterDF.head()"
      ],
      "metadata": {
        "colab": {
          "base_uri": "https://localhost:8080/",
          "height": 206
        },
        "id": "gev3P3A6dZxM",
        "outputId": "4d7bff97-9c1a-4468-83df-8413180b2163"
      },
      "execution_count": 11,
      "outputs": [
        {
          "output_type": "execute_result",
          "data": {
            "text/plain": [
              "       ftr1      ftr2  target\n",
              "0 -1.692427  3.622025       2\n",
              "1  0.697940  4.428867       0\n",
              "2  1.100228  4.606317       0\n",
              "3 -1.448724  3.384245       2\n",
              "4  1.214861  5.364896       0"
            ],
            "text/html": [
              "\n",
              "  <div id=\"df-f9cebf4b-01b5-48ad-b6c7-7e47f069b983\">\n",
              "    <div class=\"colab-df-container\">\n",
              "      <div>\n",
              "<style scoped>\n",
              "    .dataframe tbody tr th:only-of-type {\n",
              "        vertical-align: middle;\n",
              "    }\n",
              "\n",
              "    .dataframe tbody tr th {\n",
              "        vertical-align: top;\n",
              "    }\n",
              "\n",
              "    .dataframe thead th {\n",
              "        text-align: right;\n",
              "    }\n",
              "</style>\n",
              "<table border=\"1\" class=\"dataframe\">\n",
              "  <thead>\n",
              "    <tr style=\"text-align: right;\">\n",
              "      <th></th>\n",
              "      <th>ftr1</th>\n",
              "      <th>ftr2</th>\n",
              "      <th>target</th>\n",
              "    </tr>\n",
              "  </thead>\n",
              "  <tbody>\n",
              "    <tr>\n",
              "      <th>0</th>\n",
              "      <td>-1.692427</td>\n",
              "      <td>3.622025</td>\n",
              "      <td>2</td>\n",
              "    </tr>\n",
              "    <tr>\n",
              "      <th>1</th>\n",
              "      <td>0.697940</td>\n",
              "      <td>4.428867</td>\n",
              "      <td>0</td>\n",
              "    </tr>\n",
              "    <tr>\n",
              "      <th>2</th>\n",
              "      <td>1.100228</td>\n",
              "      <td>4.606317</td>\n",
              "      <td>0</td>\n",
              "    </tr>\n",
              "    <tr>\n",
              "      <th>3</th>\n",
              "      <td>-1.448724</td>\n",
              "      <td>3.384245</td>\n",
              "      <td>2</td>\n",
              "    </tr>\n",
              "    <tr>\n",
              "      <th>4</th>\n",
              "      <td>1.214861</td>\n",
              "      <td>5.364896</td>\n",
              "      <td>0</td>\n",
              "    </tr>\n",
              "  </tbody>\n",
              "</table>\n",
              "</div>\n",
              "      <button class=\"colab-df-convert\" onclick=\"convertToInteractive('df-f9cebf4b-01b5-48ad-b6c7-7e47f069b983')\"\n",
              "              title=\"Convert this dataframe to an interactive table.\"\n",
              "              style=\"display:none;\">\n",
              "        \n",
              "  <svg xmlns=\"http://www.w3.org/2000/svg\" height=\"24px\"viewBox=\"0 0 24 24\"\n",
              "       width=\"24px\">\n",
              "    <path d=\"M0 0h24v24H0V0z\" fill=\"none\"/>\n",
              "    <path d=\"M18.56 5.44l.94 2.06.94-2.06 2.06-.94-2.06-.94-.94-2.06-.94 2.06-2.06.94zm-11 1L8.5 8.5l.94-2.06 2.06-.94-2.06-.94L8.5 2.5l-.94 2.06-2.06.94zm10 10l.94 2.06.94-2.06 2.06-.94-2.06-.94-.94-2.06-.94 2.06-2.06.94z\"/><path d=\"M17.41 7.96l-1.37-1.37c-.4-.4-.92-.59-1.43-.59-.52 0-1.04.2-1.43.59L10.3 9.45l-7.72 7.72c-.78.78-.78 2.05 0 2.83L4 21.41c.39.39.9.59 1.41.59.51 0 1.02-.2 1.41-.59l7.78-7.78 2.81-2.81c.8-.78.8-2.07 0-2.86zM5.41 20L4 18.59l7.72-7.72 1.47 1.35L5.41 20z\"/>\n",
              "  </svg>\n",
              "      </button>\n",
              "      \n",
              "  <style>\n",
              "    .colab-df-container {\n",
              "      display:flex;\n",
              "      flex-wrap:wrap;\n",
              "      gap: 12px;\n",
              "    }\n",
              "\n",
              "    .colab-df-convert {\n",
              "      background-color: #E8F0FE;\n",
              "      border: none;\n",
              "      border-radius: 50%;\n",
              "      cursor: pointer;\n",
              "      display: none;\n",
              "      fill: #1967D2;\n",
              "      height: 32px;\n",
              "      padding: 0 0 0 0;\n",
              "      width: 32px;\n",
              "    }\n",
              "\n",
              "    .colab-df-convert:hover {\n",
              "      background-color: #E2EBFA;\n",
              "      box-shadow: 0px 1px 2px rgba(60, 64, 67, 0.3), 0px 1px 3px 1px rgba(60, 64, 67, 0.15);\n",
              "      fill: #174EA6;\n",
              "    }\n",
              "\n",
              "    [theme=dark] .colab-df-convert {\n",
              "      background-color: #3B4455;\n",
              "      fill: #D2E3FC;\n",
              "    }\n",
              "\n",
              "    [theme=dark] .colab-df-convert:hover {\n",
              "      background-color: #434B5C;\n",
              "      box-shadow: 0px 1px 3px 1px rgba(0, 0, 0, 0.15);\n",
              "      filter: drop-shadow(0px 1px 2px rgba(0, 0, 0, 0.3));\n",
              "      fill: #FFFFFF;\n",
              "    }\n",
              "  </style>\n",
              "\n",
              "      <script>\n",
              "        const buttonEl =\n",
              "          document.querySelector('#df-f9cebf4b-01b5-48ad-b6c7-7e47f069b983 button.colab-df-convert');\n",
              "        buttonEl.style.display =\n",
              "          google.colab.kernel.accessAllowed ? 'block' : 'none';\n",
              "\n",
              "        async function convertToInteractive(key) {\n",
              "          const element = document.querySelector('#df-f9cebf4b-01b5-48ad-b6c7-7e47f069b983');\n",
              "          const dataTable =\n",
              "            await google.colab.kernel.invokeFunction('convertToInteractive',\n",
              "                                                     [key], {});\n",
              "          if (!dataTable) return;\n",
              "\n",
              "          const docLinkHtml = 'Like what you see? Visit the ' +\n",
              "            '<a target=\"_blank\" href=https://colab.research.google.com/notebooks/data_table.ipynb>data table notebook</a>'\n",
              "            + ' to learn more about interactive tables.';\n",
              "          element.innerHTML = '';\n",
              "          dataTable['output_type'] = 'display_data';\n",
              "          await google.colab.output.renderOutput(dataTable, element);\n",
              "          const docLink = document.createElement('div');\n",
              "          docLink.innerHTML = docLinkHtml;\n",
              "          element.appendChild(docLink);\n",
              "        }\n",
              "      </script>\n",
              "    </div>\n",
              "  </div>\n",
              "  "
            ]
          },
          "metadata": {},
          "execution_count": 11
        }
      ]
    },
    {
      "cell_type": "markdown",
      "source": [
        "> make_blob()으로 만든 피처 데이터 세트가 어떠한 군집화 분포를 가지고 만들어졌는지 확인해보자. "
      ],
      "metadata": {
        "id": "bPfW_H_CdkOm"
      }
    },
    {
      "cell_type": "code",
      "source": [
        "target_list = np.unique(y)\n",
        "# 각 타깃별 산점도의 마커 값\n",
        "markers = ['o', 's', '^', 'P', 'D', 'H', 'x']\n",
        "\n",
        "# 3개의 군집 영역으로 구분한 데이터 세트를 생성했으므로 target_list는 [0, 1, 2]\n",
        "# target = 0, target = 1, target = 2로 scatter plot을 marker별로 생성\n",
        "for target in target_list:\n",
        "  target_cluster = clusterDF[clusterDF['target'] == target]\n",
        "  plt.scatter(x = target_cluster['ftr1'], y = target_cluster['ftr2'], edgecolor = 'k',\n",
        "              marker = markers[target])\n",
        "  \n",
        "plt.show()  "
      ],
      "metadata": {
        "colab": {
          "base_uri": "https://localhost:8080/",
          "height": 265
        },
        "id": "jcmIHbrGdrKK",
        "outputId": "4afc7f46-c98c-40e6-f1d2-d0fbbdef3d7d"
      },
      "execution_count": 12,
      "outputs": [
        {
          "output_type": "display_data",
          "data": {
            "text/plain": [
              "<Figure size 432x288 with 1 Axes>"
            ],
            "image/png": "[encoded data removed]"
          },
          "metadata": {
            "needs_background": "light"
          }
        }
      ]
    },
    {
      "cell_type": "markdown",
      "source": [
        "> 이번에는 이렇게 만들어진 데이터 세트에 KMeans 군집화를 수행한 뒤에 군집별로 시각화해보자."
      ],
      "metadata": {
        "id": "mjyOzq9jfnuf"
      }
    },
    {
      "cell_type": "code",
      "source": [
        "# KMeans 객체를 이용해 X 데이터를 K-Means 클러스터링 수행\n",
        "kmeans = KMeans(n_clusters = 3, init = 'k-means++', max_iter = 200, random_state = 0)\n",
        "cluster_labels = kmeans.fit_predict(X)\n",
        "clusterDF['kmeans_label'] = cluster_labels\n",
        "\n",
        "# cluster_centers_ 는 개별 클러스터의 중심 위치 좌표 시각화를 위해 추출\n",
        "centers = kmeans.cluster_centers_\n",
        "unique_labels = np.unique(cluster_labels)\n",
        "markers = ['o', 's', '^', 'P', 'D', 'H', 'x']\n",
        "\n",
        "# 군집된 label 유형별로 iteration 하면서 marker 별로 scatter plot 수행\n",
        "for label in unique_labels:\n",
        "  label_cluster = clusterDF[clusterDF['kmeans_label'] == label]\n",
        "  center_x_y = centers[label]\n",
        "  plt.scatter(x = label_cluster['ftr1'], y = label_cluster['ftr2'], edgecolor = 'k',\n",
        "              marker = markers[label])\n",
        "  \n",
        "  # 군집별 중심 위치 좌표 시각화\n",
        "  plt.scatter(x = center_x_y[0], y = center_x_y[1], s = 200, color = 'white',\n",
        "              alpha = 0.9, edgecolor = 'k', marker = markers[label])\n",
        "  plt.scatter(x = center_x_y[0], y = center_x_y[1], s = 70, color = 'white', edgecolor = 'k',\n",
        "              marker = '$%d$' % label)\n",
        "\n",
        "plt.show()"
      ],
      "metadata": {
        "colab": {
          "base_uri": "https://localhost:8080/",
          "height": 265
        },
        "id": "Hus46rfsf-i7",
        "outputId": "022f1a0b-c32d-472c-cb45-75089051d199"
      },
      "execution_count": 14,
      "outputs": [
        {
          "output_type": "display_data",
          "data": {
            "text/plain": [
              "<Figure size 432x288 with 1 Axes>"
            ],
            "image/png": "[encoded data removed]"
          },
          "metadata": {
            "needs_background": "light"
          }
        }
      ]
    },
    {
      "cell_type": "code",
      "source": [
        "print(clusterDF.groupby('target')['kmeans_label'].value_counts())"
      ],
      "metadata": {
        "colab": {
          "base_uri": "https://localhost:8080/"
        },
        "id": "GIlrOxoVhPRE",
        "outputId": "ff8d9d76-5de7-4b20-d9f9-a09d1dfd1095"
      },
      "execution_count": 15,
      "outputs": [
        {
          "output_type": "stream",
          "name": "stdout",
          "text": [
            "target  kmeans_label\n",
            "0       0               66\n",
            "        1                1\n",
            "1       2               67\n",
            "2       1               65\n",
            "        2                1\n",
            "Name: kmeans_label, dtype: int64\n"
          ]
        }
      ]
    },
    {
      "cell_type": "markdown",
      "source": [
        "  - target 0이 cluster label 0으로, target 1이 label 2로, target 2가 label 1로 거의 대부분 잘 매핑되었다."
      ],
      "metadata": {
        "id": "8MpwPfVAhY6D"
      }
    },
    {
      "cell_type": "markdown",
      "source": [
        "---"
      ],
      "metadata": {
        "id": "lix64HUlLxGn"
      }
    },
    {
      "cell_type": "markdown",
      "source": [
        "### **02. 군집 평가(Cluster Evaluation)**"
      ],
      "metadata": {
        "id": "OJpXVPDqLl-D"
      }
    },
    {
      "cell_type": "markdown",
      "source": [
        "#### a. 실루엣 분석의 개요\n",
        "  - 실루엣 분석은 군집화의 성능을 평가하는 대표적인 방법\n",
        "  - 정의\n",
        "    - 각 군집 간의 거리가 얼마나 효율적으로 분리돼 있는지를 나타내는 지표\n",
        "    - 효율적으로 잘 분리되었다는 것은 다른 군집과의 거리는 떨어져 있고, 동일 군집끼리의 데이터는 가깝게 붙어있다는 의미\n",
        "    - 따라서 군집화가 잘 될수록 개별 군집은 비슷한 정도의 여유공간을 가지고 떨어져 있음\n",
        "  \n",
        "  - 실루엣 계수\n",
        "    - 개별 데이터가 가지는 군집화 지표로, 해당 데이터가 같은 군집 내의 데이터와 얼마나 가깝게 군집화돼 있고, 다른 군집에 있는 데이터와는 얼마나 멀리 분리돼 있는지를 나타냄\n",
        "    - 계산\n",
        "      - 해당 데이터 포인트와 같은 군집 내에 있는 다른 데이터 포인트와의 거리를 평균한 값 a(i), 해당 데이터 포인트가 속하지 않은 군집 중 가장 가까운 군집과의 평균 거리 b(i)를 기반으로 계산\n",
        "$$s(i) = \\frac{b(i) - a(i)}{max (a(i),  b(i))}$$\n",
        "      - 실루엣 계수는 -1에서 1 사이의 값을 가지며, 1로 가까워질수록 근처의 군집과 더 멀리 떨어져 있다는 의미\n",
        "\n",
        "  - 좋은 군집화가 되기 위한 조건\n",
        "    - 1. 전체 실루엣 계수의 평균값, 즉 사이킷런의 silhouette_score() 값은 0 ~ 1사이의 값을 가지며, 1에 가까울수록 좋다.\n",
        "    - 2. 하지만 전체 실루엣 계수의 평균값과 더불어 개별 군집의 평균값의 편차가 크지 않아야 한다. 즉, 개별 군집의 실루엣 계수 평균값이 전체 실루엣 계수의 평균값에서 크게 벗어나지 않는 것이 중요하다. 만약 전체 실루엣 계수의 평균값은 높지만, 특정 군집의 실루엣 계수 평균값만 유난히 높고 다른 군집들의 실루엣 계수 평균값은 낮으면 좋은 군집화 조건이 아니다."
      ],
      "metadata": {
        "id": "Nz6d85R0LrgY"
      }
    },
    {
      "cell_type": "markdown",
      "source": [
        "#### b. 붓꽃 데이터 세트를 이용한 군집평가\n",
        "  - `silhouette_samples()`, `silhouette_score()`를 이용"
      ],
      "metadata": {
        "id": "b0Sscqu1Lt6V"
      }
    },
    {
      "cell_type": "code",
      "source": [
        "from sklearn.preprocessing import scale\n",
        "from sklearn.datasets import load_iris\n",
        "from sklearn.cluster import KMeans\n",
        "\n",
        "# 실루엣 분석 평가 지표 값을 구하기 위한 API 추가\n",
        "from sklearn.metrics import silhouette_samples, silhouette_score\n",
        "import matplotlib.pyplot as plt\n",
        "import numpy as np\n",
        "import pandas as pd\n",
        "%matplotlib inline\n",
        "\n",
        "iris = load_iris()\n",
        "feature_names = ['sepal_length', 'sepal_width', 'petal_length', 'petal_width']\n",
        "irisDF = pd.DataFrame(data = iris.data, columns = feature_names)\n",
        "kmeans = KMeans(n_clusters = 3, init = 'k-means++', max_iter = 300, random_state = 0).fit(irisDF)\n",
        "irisDF['cluster'] = kmeans.labels_\n",
        "\n",
        "# iris의 모든 개별 데이터에 실루엣 계수 값을 구함\n",
        "score_samples = silhouette_samples(iris.data, irisDF['cluster'])\n",
        "print('silhouette_samples() return 값의 shape', score_samples.shape)\n",
        "\n",
        "# irisDF에 실루엣 계수 칼럼 추가\n",
        "irisDF['silhouette_coeff'] = score_samples\n",
        "\n",
        "# 모든 데이터의 평균 실루엣 계수 값을 구함\n",
        "average_score = silhouette_score(iris.data, irisDF['cluster'])\n",
        "print('붓꽃 데이터 세트 Silhouette Analysis Score: {0:.3f}'.format(average_score))\n",
        "irisDF.head()"
      ],
      "metadata": {
        "colab": {
          "base_uri": "https://localhost:8080/",
          "height": 243
        },
        "id": "mhgkllOKLp48",
        "outputId": "d2e1c45d-8046-40b7-bd2a-e2954d0428b8"
      },
      "execution_count": 16,
      "outputs": [
        {
          "output_type": "stream",
          "name": "stdout",
          "text": [
            "silhouette_samples() return 값의 shape (150,)\n",
            "붓꽃 데이터 세트 Silhouette Analysis Score: 0.553\n"
          ]
        },
        {
          "output_type": "execute_result",
          "data": {
            "text/plain": [
              "   sepal_length  sepal_width  petal_length  petal_width  cluster  \\\n",
              "0           5.1          3.5           1.4          0.2        1   \n",
              "1           4.9          3.0           1.4          0.2        1   \n",
              "2           4.7          3.2           1.3          0.2        1   \n",
              "3           4.6          3.1           1.5          0.2        1   \n",
              "4           5.0          3.6           1.4          0.2        1   \n",
              "\n",
              "   silhouette_coeff  \n",
              "0          0.852955  \n",
              "1          0.815495  \n",
              "2          0.829315  \n",
              "3          0.805014  \n",
              "4          0.849302  "
            ],
            "text/html": [
              "\n",
              "  <div id=\"df-b8d48ea0-b672-41ac-a8d8-8b40bd956ef6\">\n",
              "    <div class=\"colab-df-container\">\n",
              "      <div>\n",
              "<style scoped>\n",
              "    .dataframe tbody tr th:only-of-type {\n",
              "        vertical-align: middle;\n",
              "    }\n",
              "\n",
              "    .dataframe tbody tr th {\n",
              "        vertical-align: top;\n",
              "    }\n",
              "\n",
              "    .dataframe thead th {\n",
              "        text-align: right;\n",
              "    }\n",
              "</style>\n",
              "<table border=\"1\" class=\"dataframe\">\n",
              "  <thead>\n",
              "    <tr style=\"text-align: right;\">\n",
              "      <th></th>\n",
              "      <th>sepal_length</th>\n",
              "      <th>sepal_width</th>\n",
              "      <th>petal_length</th>\n",
              "      <th>petal_width</th>\n",
              "      <th>cluster</th>\n",
              "      <th>silhouette_coeff</th>\n",
              "    </tr>\n",
              "  </thead>\n",
              "  <tbody>\n",
              "    <tr>\n",
              "      <th>0</th>\n",
              "      <td>5.1</td>\n",
              "      <td>3.5</td>\n",
              "      <td>1.4</td>\n",
              "      <td>0.2</td>\n",
              "      <td>1</td>\n",
              "      <td>0.852955</td>\n",
              "    </tr>\n",
              "    <tr>\n",
              "      <th>1</th>\n",
              "      <td>4.9</td>\n",
              "      <td>3.0</td>\n",
              "      <td>1.4</td>\n",
              "      <td>0.2</td>\n",
              "      <td>1</td>\n",
              "      <td>0.815495</td>\n",
              "    </tr>\n",
              "    <tr>\n",
              "      <th>2</th>\n",
              "      <td>4.7</td>\n",
              "      <td>3.2</td>\n",
              "      <td>1.3</td>\n",
              "      <td>0.2</td>\n",
              "      <td>1</td>\n",
              "      <td>0.829315</td>\n",
              "    </tr>\n",
              "    <tr>\n",
              "      <th>3</th>\n",
              "      <td>4.6</td>\n",
              "      <td>3.1</td>\n",
              "      <td>1.5</td>\n",
              "      <td>0.2</td>\n",
              "      <td>1</td>\n",
              "      <td>0.805014</td>\n",
              "    </tr>\n",
              "    <tr>\n",
              "      <th>4</th>\n",
              "      <td>5.0</td>\n",
              "      <td>3.6</td>\n",
              "      <td>1.4</td>\n",
              "      <td>0.2</td>\n",
              "      <td>1</td>\n",
              "      <td>0.849302</td>\n",
              "    </tr>\n",
              "  </tbody>\n",
              "</table>\n",
              "</div>\n",
              "      <button class=\"colab-df-convert\" onclick=\"convertToInteractive('df-b8d48ea0-b672-41ac-a8d8-8b40bd956ef6')\"\n",
              "              title=\"Convert this dataframe to an interactive table.\"\n",
              "              style=\"display:none;\">\n",
              "        \n",
              "  <svg xmlns=\"http://www.w3.org/2000/svg\" height=\"24px\"viewBox=\"0 0 24 24\"\n",
              "       width=\"24px\">\n",
              "    <path d=\"M0 0h24v24H0V0z\" fill=\"none\"/>\n",
              "    <path d=\"M18.56 5.44l.94 2.06.94-2.06 2.06-.94-2.06-.94-.94-2.06-.94 2.06-2.06.94zm-11 1L8.5 8.5l.94-2.06 2.06-.94-2.06-.94L8.5 2.5l-.94 2.06-2.06.94zm10 10l.94 2.06.94-2.06 2.06-.94-2.06-.94-.94-2.06-.94 2.06-2.06.94z\"/><path d=\"M17.41 7.96l-1.37-1.37c-.4-.4-.92-.59-1.43-.59-.52 0-1.04.2-1.43.59L10.3 9.45l-7.72 7.72c-.78.78-.78 2.05 0 2.83L4 21.41c.39.39.9.59 1.41.59.51 0 1.02-.2 1.41-.59l7.78-7.78 2.81-2.81c.8-.78.8-2.07 0-2.86zM5.41 20L4 18.59l7.72-7.72 1.47 1.35L5.41 20z\"/>\n",
              "  </svg>\n",
              "      </button>\n",
              "      \n",
              "  <style>\n",
              "    .colab-df-container {\n",
              "      display:flex;\n",
              "      flex-wrap:wrap;\n",
              "      gap: 12px;\n",
              "    }\n",
              "\n",
              "    .colab-df-convert {\n",
              "      background-color: #E8F0FE;\n",
              "      border: none;\n",
              "      border-radius: 50%;\n",
              "      cursor: pointer;\n",
              "      display: none;\n",
              "      fill: #1967D2;\n",
              "      height: 32px;\n",
              "      padding: 0 0 0 0;\n",
              "      width: 32px;\n",
              "    }\n",
              "\n",
              "    .colab-df-convert:hover {\n",
              "      background-color: #E2EBFA;\n",
              "      box-shadow: 0px 1px 2px rgba(60, 64, 67, 0.3), 0px 1px 3px 1px rgba(60, 64, 67, 0.15);\n",
              "      fill: #174EA6;\n",
              "    }\n",
              "\n",
              "    [theme=dark] .colab-df-convert {\n",
              "      background-color: #3B4455;\n",
              "      fill: #D2E3FC;\n",
              "    }\n",
              "\n",
              "    [theme=dark] .colab-df-convert:hover {\n",
              "      background-color: #434B5C;\n",
              "      box-shadow: 0px 1px 3px 1px rgba(0, 0, 0, 0.15);\n",
              "      filter: drop-shadow(0px 1px 2px rgba(0, 0, 0, 0.3));\n",
              "      fill: #FFFFFF;\n",
              "    }\n",
              "  </style>\n",
              "\n",
              "      <script>\n",
              "        const buttonEl =\n",
              "          document.querySelector('#df-b8d48ea0-b672-41ac-a8d8-8b40bd956ef6 button.colab-df-convert');\n",
              "        buttonEl.style.display =\n",
              "          google.colab.kernel.accessAllowed ? 'block' : 'none';\n",
              "\n",
              "        async function convertToInteractive(key) {\n",
              "          const element = document.querySelector('#df-b8d48ea0-b672-41ac-a8d8-8b40bd956ef6');\n",
              "          const dataTable =\n",
              "            await google.colab.kernel.invokeFunction('convertToInteractive',\n",
              "                                                     [key], {});\n",
              "          if (!dataTable) return;\n",
              "\n",
              "          const docLinkHtml = 'Like what you see? Visit the ' +\n",
              "            '<a target=\"_blank\" href=https://colab.research.google.com/notebooks/data_table.ipynb>data table notebook</a>'\n",
              "            + ' to learn more about interactive tables.';\n",
              "          element.innerHTML = '';\n",
              "          dataTable['output_type'] = 'display_data';\n",
              "          await google.colab.output.renderOutput(dataTable, element);\n",
              "          const docLink = document.createElement('div');\n",
              "          docLink.innerHTML = docLinkHtml;\n",
              "          element.appendChild(docLink);\n",
              "        }\n",
              "      </script>\n",
              "    </div>\n",
              "  </div>\n",
              "  "
            ]
          },
          "metadata": {},
          "execution_count": 16
        }
      ]
    },
    {
      "cell_type": "markdown",
      "source": [
        "  - 평균 실루엣 계수 값이 약 0.553이다. \n",
        "  - 1번 군집의 경우 0.8 이상의 높은 실루엣 계수 값을 나타내는데, 다른 군집의 경우 실루엣 계수 값이 평균보다 낮기 때문에 위와 같은 결과가 나타난다."
      ],
      "metadata": {
        "id": "PeVv6UiDlcsv"
      }
    },
    {
      "cell_type": "markdown",
      "source": [
        "> 군집별 평균 실루엣 계수 값을 알아보자."
      ],
      "metadata": {
        "id": "2eP4KsL_lrte"
      }
    },
    {
      "cell_type": "code",
      "source": [
        "irisDF.groupby('cluster')['silhouette_coeff'].mean()"
      ],
      "metadata": {
        "colab": {
          "base_uri": "https://localhost:8080/"
        },
        "id": "jLFGghvJluH4",
        "outputId": "1879c16a-ee80-4478-b754-28a609980a9c"
      },
      "execution_count": 17,
      "outputs": [
        {
          "output_type": "execute_result",
          "data": {
            "text/plain": [
              "cluster\n",
              "0    0.417320\n",
              "1    0.798140\n",
              "2    0.451105\n",
              "Name: silhouette_coeff, dtype: float64"
            ]
          },
          "metadata": {},
          "execution_count": 17
        }
      ]
    },
    {
      "cell_type": "markdown",
      "source": [
        "  - 1번 군집은 평균 값이 약 0.80인데 반해, 0번은 약 0.42, 2번은 약 0.45로 상대적으로 평균값이 1번에 비해 낮다."
      ],
      "metadata": {
        "id": "J4nEUca8l1Vy"
      }
    },
    {
      "cell_type": "markdown",
      "source": [
        "#### c. 군집별 평균 실루엣 계수의 시각화를 통한 군집 개수 최적화 방법"
      ],
      "metadata": {
        "id": "r24Y9oxKL11H"
      }
    },
    {
      "cell_type": "code",
      "source": [
        "### 여러개의 클러스터링 갯수를 List로 입력 받아 각각의 실루엣 계수를 면적으로 시각화한 함수 작성\n",
        "def visualize_silhouette(cluster_lists, X_features):     \n",
        "    from sklearn.datasets import make_blobs\n",
        "    from sklearn.cluster import KMeans\n",
        "    from sklearn.metrics import silhouette_samples, silhouette_score\n",
        "\n",
        "    import matplotlib.pyplot as plt\n",
        "    import matplotlib.cm as cm\n",
        "    import math\n",
        "   \n",
        "    # 입력값으로 클러스터링 갯수들을 리스트로 받아서, 각 갯수별로 클러스터링을 적용하고 실루엣 개수를 구함\n",
        "    n_cols = len(cluster_lists)\n",
        "   \n",
        "    # plt.subplots()으로 리스트에 기재된 클러스터링 수만큼의 sub figures를 가지는 axs 생성 \n",
        "    fig, axs = plt.subplots(figsize=(4*n_cols, 4), nrows=1, ncols=n_cols)\n",
        "   \n",
        "    # 리스트에 기재된 클러스터링 갯수들을 차례로 iteration 수행하면서 실루엣 개수 시각화\n",
        "    for ind, n_cluster in enumerate(cluster_lists):\n",
        "       \n",
        "        # KMeans 클러스터링 수행하고, 실루엣 스코어와 개별 데이터의 실루엣 값 계산. \n",
        "        clusterer = KMeans(n_clusters = n_cluster, max_iter=500, random_state=0)\n",
        "        cluster_labels = clusterer.fit_predict(X_features)\n",
        "       \n",
        "        sil_avg = silhouette_score(X_features, cluster_labels)\n",
        "        sil_values = silhouette_samples(X_features, cluster_labels)\n",
        "       \n",
        "        y_lower = 10\n",
        "        axs[ind].set_title('Number of Cluster : '+ str(n_cluster)+'\\n' \\\n",
        "                          'Silhouette Score :' + str(round(sil_avg,3)) )\n",
        "        axs[ind].set_xlabel(\"The silhouette coefficient values\")\n",
        "        axs[ind].set_ylabel(\"Cluster label\")\n",
        "        axs[ind].set_xlim([-0.1, 1])\n",
        "        axs[ind].set_ylim([0, len(X_features) + (n_cluster + 1) * 10])\n",
        "        axs[ind].set_yticks([])  # Clear the yaxis labels / ticks\n",
        "        axs[ind].set_xticks([0, 0.2, 0.4, 0.6, 0.8, 1])\n",
        "       \n",
        "        # 클러스터링 갯수별로 fill_betweenx( )형태의 막대 그래프 표현. \n",
        "        for i in range(n_cluster):\n",
        "            ith_cluster_sil_values = sil_values[cluster_labels==i]\n",
        "            ith_cluster_sil_values.sort()\n",
        "           \n",
        "            size_cluster_i = ith_cluster_sil_values.shape[0]\n",
        "            y_upper = y_lower + size_cluster_i\n",
        "           \n",
        "            color = cm.nipy_spectral(float(i) / n_cluster)\n",
        "            axs[ind].fill_betweenx(np.arange(y_lower, y_upper), 0, ith_cluster_sil_values, \\\n",
        "                                facecolor=color, edgecolor=color, alpha=0.7)\n",
        "            axs[ind].text(-0.05, y_lower + 0.5 * size_cluster_i, str(i))\n",
        "            y_lower = y_upper + 10\n",
        "\n",
        "        axs[ind].axvline(x=sil_avg, color=\"red\", linestyle=\"--\")"
      ],
      "metadata": {
        "id": "_XndIGDPos21"
      },
      "execution_count": 19,
      "outputs": []
    },
    {
      "cell_type": "code",
      "source": [
        "# make_blobs를 통해 군집화를 위한 4개의 군집 중심의 500개 2차원 데이터 세트 생성\n",
        "from sklearn.datasets import make_blobs\n",
        "X, y = make_blobs(n_samples = 500, n_features = 2, centers = 4, cluster_std = 1,\n",
        "                  center_box = (-10.0, 10.0), shuffle = True, random_state = 1)\n",
        "\n",
        "# 군집 개수가 2개, 3개, 4개, 5개일 때의 군집별 실루엣 계수 평균값을 시각화\n",
        "visualize_silhouette([2,3,4,5], X)"
      ],
      "metadata": {
        "colab": {
          "base_uri": "https://localhost:8080/",
          "height": 310
        },
        "id": "F1hmMKG4L5D-",
        "outputId": "da9115a9-25b8-4a6c-899e-b79dbdaacd0a"
      },
      "execution_count": 21,
      "outputs": [
        {
          "output_type": "display_data",
          "data": {
            "text/plain": [
              "<Figure size 1152x288 with 4 Axes>"
            ],
            "image/png": "[encoded data removed]"
          },
          "metadata": {
            "needs_background": "light"
          }
        }
      ]
    },
    {
      "cell_type": "markdown",
      "source": [
        "  - 앞에서 소개한 방와 마찬가지로 4개의 군집일 때 가장 최적임을 알 수 있다. "
      ],
      "metadata": {
        "id": "AO_pcXqopIs8"
      }
    },
    {
      "cell_type": "markdown",
      "source": [
        "> 이번에는 붓꽃 데이터를 이용해 K-평균 수행 시 최적의 군집 개수를 알아보자."
      ],
      "metadata": {
        "id": "Cg6ugVWQpMdb"
      }
    },
    {
      "cell_type": "code",
      "source": [
        "from sklearn.datasets import load_iris\n",
        "iris = load_iris()\n",
        "visualize_silhouette([2,3,4,5], iris.data)"
      ],
      "metadata": {
        "colab": {
          "base_uri": "https://localhost:8080/",
          "height": 310
        },
        "id": "TZCh20TIpQtZ",
        "outputId": "ecf53d0e-1c26-4ff8-b962-f9e69c3b2fb4"
      },
      "execution_count": 22,
      "outputs": [
        {
          "output_type": "display_data",
          "data": {
            "text/plain": [
              "<Figure size 1152x288 with 4 Axes>"
            ],
            "image/png": "[encoded data removed]"
          },
          "metadata": {
            "needs_background": "light"
          }
        }
      ]
    },
    {
      "cell_type": "markdown",
      "source": [
        "  - 붓꽃 데이터를 K-평균으로 군집화할 경우에는 군집 개수를 2개로 하는 것이 가장 좋아보인다.\n",
        "  - 3개의 경우 평균 실루엣 계수 값도 2개보다 작을 뿐더러 1번 군집과 다른 0번, 2번 군집과의 실루엣 계수의 편차가 크다."
      ],
      "metadata": {
        "id": "6Xn6zsLkpncP"
      }
    },
    {
      "cell_type": "markdown",
      "source": [
        "---"
      ],
      "metadata": {
        "id": "qj3x8umeL87G"
      }
    },
    {
      "cell_type": "markdown",
      "source": [
        "### **03. 평균 이동**"
      ],
      "metadata": {
        "id": "Eevf5xxJL9o0"
      }
    },
    {
      "cell_type": "markdown",
      "source": [
        "#### a. 평균 이동(Mean Shift)의 개요\n",
        "  - 정의\n",
        "    - K-평균과 유사하게 중심을 군집의 중심으로 지속적으로 움직이면서 군집화 수행\n",
        "    - K-평균과 달리 평균 이동은 중심을 데이터가 모여 있는 `밀도가 가장 높은 곳으로 이동`시킴\n",
        "    - 가장 집중적으로 데이터가 모여 있어 확률 밀도 함수가 피크인 점을 군집 중심점을오 선정하며, 일반적으로 주어진 모델의 확률 밀도 함수를 찾기 위해 KDE(Kernel Density Estimation)를 이용\n",
        "  \n",
        "  - 장점\n",
        "    - 데이터 세트의 형태를 특정 형태로 가정한다든가, 특정 분포도 기반의 모델로 가정하지 않으므로 좀 더 유연한 군집화가 가능함\n",
        "    - 이상치의 영향력도 적으며, 미리 군집의 개수를 정하지 않아도 됨\n",
        "\n",
        "  - 단점\n",
        "    - 알고리즘의 수행 시간이 오래 걸림\n",
        "    - bandwidth의 크기에 따른 군집화 영향도가 매우 큼\n",
        "\n",
        "  - 프로세스\n",
        "      \n",
        "      1. 개별 데이터들의 특정 반경 내에 주변 데이터를 포함한 데이터 분포도를 KDE 기반의 Mean Shift 알고리즘으로 계산\n",
        "      2. KDE로 계산된 데이터 분포도가 높은 방향으로 데이터 이동\n",
        "      3. 모든 데이터를 1~2까지 수행하면서 데이터를 이동. 개별 데이터들이 군집 중심점으로 모임\n",
        "      4. 지정된 반복 횟수만큼 전체 데이터에 대해서 KDE 기반으로 데이터를 이동시키면서 군집화 수행\n",
        "      5. 개별 데이터들이 모인 중심점을 군집 중심점으로 설정 \n",
        "\n",
        "  - KDE(Kernel Density Estimation)\n",
        "    - 커널 함수를 통해 어떤 변수의 확률 밀도 함수를 추정하는 대표적인 방법\n",
        "    - 개별 관측 데이터에 커널 함수를 적용한 뒤, 이 적용 값을 모두 더한 후 개별 관측 데이터의 건수로 나눠 확률 밀도 함수를 추정하며, 대표적인 커널 함수로서 가우시안 분포 함수가 사용됨\n",
        "    - KDE는 다음과 같은 커널 함수식으로 표현\n",
        "$$KDE = \\frac{1}{n} K_{h}(x-x_{i}) = \\frac{1}{nh}Σ_{i=1}^n K(\\frac{x-x_{i}}{h})$$\n",
        "      - K: 커널 함수\n",
        "      - x: 확률 변숫값\n",
        "      - xi: 관측값\n",
        "      - h: 대역폭\n",
        "  \n",
        "  - 대역폭 h\n",
        "    - KDE 형태를 부드러운 형태로 평활화하는 데 적용되며, h를 어떻게 설정하느냐에 따라 확률 밀도 추정 성능이 크게 좌우됨\n",
        "    - h값이 작으면 과적합(over-fitting)이 쉬움\n",
        "    - h값이 크면 과소적합(under-fitting)이 쉬움 \n",
        "    - 따라서 적절한 KDE의 대역폭 h를 계산하는 것은 KDE 기반의 평균 이동 군집화에서 매우 중요\n",
        "\n",
        "  - `MeanShift` 클래스\n",
        "    - 주요 파라미터 \n",
        "      - `bandwidth`\n",
        "        - KDE의 대역폭 h와 동일\n",
        "      - `estimate_bandwidth()`\n",
        "        - 대역폭 크기 설정이 군집화의 품질에 큰 영향을 미치므로, 최적의 대역폭 계산을 위해 사용되는 함수"
      ],
      "metadata": {
        "id": "VVOy6t-NMATB"
      }
    },
    {
      "cell_type": "code",
      "source": [
        "import numpy as np\n",
        "from sklearn.datasets import make_blobs\n",
        "from sklearn.cluster import MeanShift\n",
        "\n",
        "X, y = make_blobs(n_samples = 200, n_features = 2, centers = 3, cluster_std = 0.7, random_state = 0)\n",
        "\n",
        "meanshift = MeanShift(bandwidth = 0.8)\n",
        "cluster_labels = meanshift.fit_predict(X)\n",
        "print('cluster labels 유형:', np.unique(cluster_labels))"
      ],
      "metadata": {
        "colab": {
          "base_uri": "https://localhost:8080/"
        },
        "id": "OMPYo74zMC5I",
        "outputId": "dff61f85-4b35-4581-8213-561adc1a4e2f"
      },
      "execution_count": 23,
      "outputs": [
        {
          "output_type": "stream",
          "name": "stdout",
          "text": [
            "cluster labels 유형: [0 1 2 3 4 5]\n"
          ]
        }
      ]
    },
    {
      "cell_type": "markdown",
      "source": [
        "  - 군집이 0부터 5까지 총 6개로, 지나치게 세분화돼 군집화되었다."
      ],
      "metadata": {
        "id": "6-yq-NCWu_r1"
      }
    },
    {
      "cell_type": "markdown",
      "source": [
        "> bandwidth를 살짝 높은 1.0으로 해서 MeanShift를 수행해보자."
      ],
      "metadata": {
        "id": "2f0dDNb2vEOK"
      }
    },
    {
      "cell_type": "code",
      "source": [
        "meanshift = MeanShift(bandwidth = 1)\n",
        "cluster_labels = meanshift.fit_predict(X)\n",
        "print('cluster labels 유형:', np.unique(cluster_labels))"
      ],
      "metadata": {
        "colab": {
          "base_uri": "https://localhost:8080/"
        },
        "id": "l7YYVTKXvIsH",
        "outputId": "bcaf3a6b-ea2b-49d3-9325-fc5a7f2d390e"
      },
      "execution_count": 24,
      "outputs": [
        {
          "output_type": "stream",
          "name": "stdout",
          "text": [
            "cluster labels 유형: [0 1 2]\n"
          ]
        }
      ]
    },
    {
      "cell_type": "markdown",
      "source": [
        "  - 3개의 군집으로 잘 군집화되었다."
      ],
      "metadata": {
        "id": "OxE9sFyZvVto"
      }
    },
    {
      "cell_type": "markdown",
      "source": [
        "> MeanShift에서는 bandwidth를 최적화 값으로 설정하는 것이 매우 중요하므로, estimate_bandwidth() 함수를 이용해 최적화된 bandwidth 값을 찾아보자."
      ],
      "metadata": {
        "id": "kKHlG-ijvh2A"
      }
    },
    {
      "cell_type": "code",
      "source": [
        "from sklearn.cluster import estimate_bandwidth\n",
        "\n",
        "bandwidth = estimate_bandwidth(X)\n",
        "print('bandwidth 값:', round(bandwidth, 3))"
      ],
      "metadata": {
        "colab": {
          "base_uri": "https://localhost:8080/"
        },
        "id": "F2E2SOSuvU9C",
        "outputId": "516c954c-b176-4871-92f4-ef010a910213"
      },
      "execution_count": 25,
      "outputs": [
        {
          "output_type": "stream",
          "name": "stdout",
          "text": [
            "bandwidth 값: 1.816\n"
          ]
        }
      ]
    },
    {
      "cell_type": "code",
      "source": [
        "import pandas as pd\n",
        "\n",
        "clusterDF = pd.DataFrame(data = X, columns = ['ftr1', 'ftr2'])\n",
        "clusterDF['target'] = y\n",
        "\n",
        "# estimate_bandwidth()로 최적의 bandwidth 계산\n",
        "best_bandwidth = estimate_bandwidth(X)\n",
        "\n",
        "meanshift = MeanShift(bandwidth = best_bandwidth)\n",
        "cluster_labels = meanshift.fit_predict(X)\n",
        "print('cluster labels 유형:', np.unique(cluster_labels))"
      ],
      "metadata": {
        "colab": {
          "base_uri": "https://localhost:8080/"
        },
        "id": "SdF7_RWFvs0k",
        "outputId": "7a372a7b-8b98-4f0b-948a-1307da295c89"
      },
      "execution_count": 26,
      "outputs": [
        {
          "output_type": "stream",
          "name": "stdout",
          "text": [
            "cluster labels 유형: [0 1 2]\n"
          ]
        }
      ]
    },
    {
      "cell_type": "markdown",
      "source": [
        "> 구성된 3개의 군집을 시각화해보자."
      ],
      "metadata": {
        "id": "ysmnLo41wCD4"
      }
    },
    {
      "cell_type": "code",
      "source": [
        "import matplotlib.pyplot as plt\n",
        "%matplotlib inline\n",
        "\n",
        "clusterDF['meanshift_label'] = cluster_labels\n",
        "centers = meanshift.cluster_centers_\n",
        "unique_labels = np.unique(cluster_labels)\n",
        "markers = ['o', 's', '^', 'x', '*']\n",
        "\n",
        "for label in unique_labels:\n",
        "  label_cluster = clusterDF[clusterDF['meanshift_label'] == label]\n",
        "  center_x_y = centers[label]\n",
        "\n",
        "  # 군집별로 다른 마커로 산점도 적용\n",
        "  plt.scatter(x = label_cluster['ftr1'], y = label_cluster['ftr2'], edgecolor = 'k', marker = markers[label])\n",
        "\n",
        "  # 군집별 중심 표현\n",
        "  plt.scatter(x = center_x_y[0], y = center_x_y[1], s = 200, color = 'gray', alpha = 0.9,\n",
        "              marker = markers[label])\n",
        "  plt.scatter(x = center_x_y[0], y = center_x_y[1], color = 'k', edgecolor = 'k', marker = '$%d$' % label)\n",
        "\n",
        "plt.show()"
      ],
      "metadata": {
        "colab": {
          "base_uri": "https://localhost:8080/",
          "height": 269
        },
        "id": "7pOI4Su1wGEi",
        "outputId": "f099f453-fc44-40ea-d8f3-94b246c3ed64"
      },
      "execution_count": 27,
      "outputs": [
        {
          "output_type": "display_data",
          "data": {
            "text/plain": [
              "<Figure size 432x288 with 1 Axes>"
            ],
            "image/png": "[encoded data removed]"
          },
          "metadata": {
            "needs_background": "light"
          }
        }
      ]
    },
    {
      "cell_type": "markdown",
      "source": [
        "> target 값과 군집 label 값을 비교해보자."
      ],
      "metadata": {
        "id": "a3ZWRBBPw4ZX"
      }
    },
    {
      "cell_type": "code",
      "source": [
        "print(clusterDF.groupby('target')['meanshift_label'].value_counts())"
      ],
      "metadata": {
        "colab": {
          "base_uri": "https://localhost:8080/"
        },
        "id": "Cm9CIQDRw7aF",
        "outputId": "74e114d4-7ae5-4fc0-e109-54b54593bc0d"
      },
      "execution_count": 28,
      "outputs": [
        {
          "output_type": "stream",
          "name": "stdout",
          "text": [
            "target  meanshift_label\n",
            "0       0                  67\n",
            "1       1                  67\n",
            "2       2                  66\n",
            "Name: meanshift_label, dtype: int64\n"
          ]
        }
      ]
    },
    {
      "cell_type": "markdown",
      "source": [
        "  - target 값과 군집 label 값이 1:1로 잘 매칭되었다."
      ],
      "metadata": {
        "id": "zEhfXpubxA6G"
      }
    },
    {
      "cell_type": "markdown",
      "source": [
        "---"
      ],
      "metadata": {
        "id": "97s9Y2i2MFvt"
      }
    },
    {
      "cell_type": "markdown",
      "source": [
        "### **04. GMM(Gaussian Mixture Model)**"
      ],
      "metadata": {
        "id": "IiKEv_aoMGN_"
      }
    },
    {
      "cell_type": "markdown",
      "source": [
        "#### a. GMM(Gaussian Mixture Model) 소개\n",
        "  - 정의\n",
        "    - 군집화를 적용하고자 하는 데이터가 여러 개의 가우시안 분포를 가진 데이터 집합들이 섞여서 생성된 것이라는 가정하에 군집화를 수행하는 방식\n",
        "    - 가령 1000개의 데이터 세트가 있다면 이를 구성하는 여러 개의 정규 분포 곡선을 추출하고, 개별 데이터가 이 중 어떤 정규 분포에 속하는지를 결정하는 방식\n",
        "  - GMM에서의 모수 추정\n",
        "      1. 개별 정규 분포의 평균과 분산\n",
        "      2. 각 데이터가 어떤 정규 분포에 해당되는지의 확률\n",
        "      - 이러한 모수 추정을 위해 GMM은 EM(Expectation and Maximization) 방법을 적용"
      ],
      "metadata": {
        "id": "M4DYcnbQMK4U"
      }
    },
    {
      "cell_type": "markdown",
      "source": [
        "#### b. GMM을 이용한 붓꽃 데이터 세트 군집화"
      ],
      "metadata": {
        "id": "Vi8aC0IZMPab"
      }
    },
    {
      "cell_type": "markdown",
      "source": [
        "> GMM은 확률 기반 군집화이고, K-평균은 거리 기반 군집화이다. 이번에는 붓꽃 데이터 세트로 이 두 가지 방식을 이용해 군집화를 수행한 뒤 양쪽 방식을 비교해보자."
      ],
      "metadata": {
        "id": "3gx2-WsOzdhP"
      }
    },
    {
      "cell_type": "code",
      "source": [
        "from sklearn.datasets import load_iris\n",
        "from sklearn.cluster import KMeans\n",
        "\n",
        "import matplotlib.pyplot as plt\n",
        "import numpy as np\n",
        "import pandas as pd\n",
        "%matplotlib inline\n",
        "\n",
        "iris = load_iris()\n",
        "feature_names = ['sepal_length', 'sepal_width', 'petal_length', 'petal_width']\n",
        "\n",
        "# 좀 더 편리한 데이터 Handling을 위해 DataFrame으로 변환\n",
        "irisDF = pd.DataFrame(data = iris.data, columns = feature_names)\n",
        "irisDF['target'] = iris.target"
      ],
      "metadata": {
        "id": "mEAidXDQMJQ9"
      },
      "execution_count": 29,
      "outputs": []
    },
    {
      "cell_type": "markdown",
      "source": [
        "> GaussianMixture 객체의 n_components를 3으로 설정하고 GaussianMixture로 군집화를 수행해보자. "
      ],
      "metadata": {
        "id": "ckJ-dGk72rCx"
      }
    },
    {
      "cell_type": "code",
      "source": [
        "from sklearn.mixture import GaussianMixture\n",
        "\n",
        "gmm = GaussianMixture(n_components = 3, random_state = 0).fit(iris.data)\n",
        "gmm_cluster_labels = gmm.predict(iris.data)\n",
        "\n",
        "# 군집화 결과를 irisDF의 'gmm_cluster' 칼럼명으로 저장\n",
        "irisDF['gmm_cluster'] = gmm_cluster_labels\n",
        "irisDF['target'] = iris.target\n",
        "\n",
        "# target 값에 따라 gmm_cluster 값이 어떻게 매핑됐는지 확인\n",
        "iris_result = irisDF.groupby(['target'])['gmm_cluster'].value_counts()\n",
        "print(iris_result)"
      ],
      "metadata": {
        "colab": {
          "base_uri": "https://localhost:8080/"
        },
        "id": "xiKs5M-F1_Mu",
        "outputId": "c387ee40-c218-4b5d-c380-83c40ffa0385"
      },
      "execution_count": 33,
      "outputs": [
        {
          "output_type": "stream",
          "name": "stdout",
          "text": [
            "target  gmm_cluster\n",
            "0       0              50\n",
            "1       2              45\n",
            "        1               5\n",
            "2       1              50\n",
            "Name: gmm_cluster, dtype: int64\n"
          ]
        }
      ]
    },
    {
      "cell_type": "markdown",
      "source": [
        "  - target 0은 cluster 0으로, target 2는 cluster 1로 모두 잘 매핑되었다.\n",
        "  - target 1만 cluster 2로 45개, cluster 1로 5개 매핑되었다."
      ],
      "metadata": {
        "id": "I_q4VYEj4-s-"
      }
    },
    {
      "cell_type": "markdown",
      "source": [
        "> 다음은 붓꽃 데이터 세트의 K-평균 군집화를 수행한 결과이다."
      ],
      "metadata": {
        "id": "Hzz7I39a5HMm"
      }
    },
    {
      "cell_type": "code",
      "source": [
        "kmeans = KMeans(n_clusters = 3, init = 'k-means++', max_iter = 300, random_state = 0).fit(iris.data)\n",
        "kmeans_cluster_labels = kmeans.predict(iris.data)\n",
        "irisDF['kmeans_cluster'] = kmeans_cluster_labels\n",
        "iris_result = irisDF.groupby(['target'])['kmeans_cluster'].value_counts()\n",
        "print(iris_result)"
      ],
      "metadata": {
        "colab": {
          "base_uri": "https://localhost:8080/"
        },
        "id": "CF3_fuq-5OIt",
        "outputId": "67158384-b9d2-4cb4-f519-088b18b76ecb"
      },
      "execution_count": 34,
      "outputs": [
        {
          "output_type": "stream",
          "name": "stdout",
          "text": [
            "target  kmeans_cluster\n",
            "0       1                 50\n",
            "1       0                 48\n",
            "        2                  2\n",
            "2       2                 36\n",
            "        0                 14\n",
            "Name: kmeans_cluster, dtype: int64\n"
          ]
        }
      ]
    },
    {
      "cell_type": "markdown",
      "source": [
        "  - 즉, 붓꽃 데이터 세트가 GMM 군집화에 더 효과적이다.\n",
        "  - K-평균은 개별 군집 내의 데이터가 원형으로 흩어져 있는 경우에 매우 효과적으로 군집화가 수행될 수 있다."
      ],
      "metadata": {
        "id": "5eJAF6p45m4R"
      }
    },
    {
      "cell_type": "markdown",
      "source": [
        "#### c. GMM과 K-평균의 비교"
      ],
      "metadata": {
        "id": "oTnUQBW4MT9Q"
      }
    },
    {
      "cell_type": "code",
      "source": [
        "def visualize_cluster_plot(clusterobj, dataframe, label_name, iscenter=True):\n",
        "    \n",
        "    # 군집별 중심 위치: K-Means, Mean Shift 등\n",
        "    if iscenter:\n",
        "        centers = clusterobj.cluster_centers_\n",
        "    \n",
        "    # Cluster 값 종류\n",
        "    unique_labels = np.unique(dataframe[label_name].values)\n",
        "    \n",
        "    markers=['o', 's', '^', 'x', '*']\n",
        "    isNoise=False\n",
        "\n",
        "    for label in unique_labels:\n",
        "        # 군집별 데이터 프레임\n",
        "        label_cluster = dataframe[dataframe[label_name]==label]\n",
        "        \n",
        "        if label == -1:\n",
        "            cluster_legend = 'Noise'\n",
        "            isNoise=True\n",
        "        else:\n",
        "            cluster_legend = 'Cluster '+str(label)\n",
        "        \n",
        "        # 각 군집 시각화\n",
        "        plt.scatter(x=label_cluster['ftr1'], y=label_cluster['ftr2'], s=70,\n",
        "                    edgecolor='k', marker=markers[label], label=cluster_legend)\n",
        "        \n",
        "        # 군집별 중심 위치 시각화\n",
        "        if iscenter:\n",
        "            center_x_y = centers[label]\n",
        "            plt.scatter(x=center_x_y[0], y=center_x_y[1], s=250, color='white',\n",
        "                        alpha=0.9, edgecolor='k', marker=markers[label])\n",
        "            plt.scatter(x=center_x_y[0], y=center_x_y[1], s=70, color='k',\\\n",
        "                        edgecolor='k', marker='$%d$' % label)\n",
        "            \n",
        "    if isNoise:\n",
        "        legend_loc='upper center'\n",
        "    else: \n",
        "        legend_loc='upper right'\n",
        "    \n",
        "    plt.legend(loc=legend_loc)\n",
        "    plt.show()"
      ],
      "metadata": {
        "id": "OuIP40u0MXm2"
      },
      "execution_count": 35,
      "outputs": []
    },
    {
      "cell_type": "code",
      "source": [
        "from sklearn.datasets import make_blobs\n",
        "\n",
        "# make_blobs로 300개 데이터 세트, 3개 군집 세트, cluster_std=0.5\n",
        "X, y = make_blobs(n_samples = 300, n_features = 2, centers = 3, cluster_std = 0.5, random_state = 0)\n",
        "\n",
        "# 길게 늘어난 타원형 데이터 세트를 생성하기 위해 변형하기\n",
        "transformation = [[0.60834549, -0.63667341],[-0.40887718,0.85283229]]\n",
        "X_ansio = np.dot(X, transformation)\n",
        "\n",
        "# feature 데이터 세트와 make_blob의 y 결과값을 데이터프레임으로 저장하기\n",
        "clusterDF = pd.DataFrame(data = X_ansio, columns = ['ftr1','ftr2'])\n",
        "clusterDF['target'] = y\n",
        "\n",
        "# 생성된 데이터 세트를 target별로 다른 마커로 표시해 시각화하기\n",
        "visualize_cluster_plot(None, clusterDF, 'target', iscenter=False)"
      ],
      "metadata": {
        "colab": {
          "base_uri": "https://localhost:8080/",
          "height": 265
        },
        "id": "B_qxHU8H7fND",
        "outputId": "5940ce3c-e46f-407b-efa3-6e60aa17c689"
      },
      "execution_count": 42,
      "outputs": [
        {
          "output_type": "display_data",
          "data": {
            "text/plain": [
              "<Figure size 432x288 with 1 Axes>"
            ],
            "image/png": "[encoded data removed]"
          },
          "metadata": {
            "needs_background": "light"
          }
        }
      ]
    },
    {
      "cell_type": "markdown",
      "source": [
        "> 위와 같은 데이터 세트에서 KMeans가 어떻게 군집화하는지 확인해보자."
      ],
      "metadata": {
        "id": "ZPqnEn4G8v1W"
      }
    },
    {
      "cell_type": "code",
      "source": [
        "# 3개의 군집 기반 Kmeans를 X_aniso 데이터 세트에 적용\n",
        "kmeans = KMeans(3, random_state = 0)\n",
        "kmeans_label = kmeans.fit_predict(X_aniso)\n",
        "clusterDF['kmeans_label'] = kmeans_label\n",
        "\n",
        "visualize_cluster_plot(kmeans, clusterDF, 'kmeans_label', iscenter = True)"
      ],
      "metadata": {
        "colab": {
          "base_uri": "https://localhost:8080/",
          "height": 265
        },
        "id": "0i-OfhiA80k7",
        "outputId": "c9320a93-4990-4cb3-b3cb-5b8789354518"
      },
      "execution_count": 46,
      "outputs": [
        {
          "output_type": "display_data",
          "data": {
            "text/plain": [
              "<Figure size 432x288 with 1 Axes>"
            ],
            "image/png": "[encoded data removed]"
          },
          "metadata": {
            "needs_background": "light"
          }
        }
      ]
    },
    {
      "cell_type": "markdown",
      "source": [
        "  - KMeans로 군집화를 수행할 경우, 주로 원형 영역 위치로 개별 군집화가 되면서 원하는 방향으로 구성되지 않음을 알 수 있다.\n",
        "  - 위와 같이 길쭉한 방향으로 데이터가 밀집해 있을 경우에는 최적의 군집화가 어렵다."
      ],
      "metadata": {
        "id": "_Dv5viE69T5e"
      }
    },
    {
      "cell_type": "markdown",
      "source": [
        "> 다음으로 GMM 기반 군집화를 수행해보자."
      ],
      "metadata": {
        "id": "Cp7OoXCg9d_K"
      }
    },
    {
      "cell_type": "code",
      "source": [
        "# 3개의 n_components 기반 GMM을 X_aniso 데이터 세트에 적용\n",
        "gmm = GaussianMixture(n_components = 3, random_state = 0)\n",
        "gmm_label = gmm.fit(X_aniso).predict(X_aniso)\n",
        "clusterDF['gmm_label'] = gmm_label\n",
        "\n",
        "# GaussianMixture는 cluster_centers_ 속성이 없으므로 iscenter를 False로 설정\n",
        "visualize_cluster_plot(gmm, clusterDF, 'gmm_label', iscenter = False)"
      ],
      "metadata": {
        "colab": {
          "base_uri": "https://localhost:8080/",
          "height": 265
        },
        "id": "GdGO_CIG9gOZ",
        "outputId": "addf1f34-bd88-4d36-e00a-02c2aaec0a28"
      },
      "execution_count": 47,
      "outputs": [
        {
          "output_type": "display_data",
          "data": {
            "text/plain": [
              "<Figure size 432x288 with 1 Axes>"
            ],
            "image/png": "[encoded data removed]"
          },
          "metadata": {
            "needs_background": "light"
          }
        }
      ]
    },
    {
      "cell_type": "markdown",
      "source": [
        "  - 데이터가 분포된 방향에 따라 정확하게 군집화되었다."
      ],
      "metadata": {
        "id": "j9yiK9_U94xM"
      }
    },
    {
      "cell_type": "markdown",
      "source": [
        "> make_blobs()의 target 값과 KMeans, GMM의 군집 label 값을 서로 비교해 위와 같은 데이터 세트에서 얼마만큼의 군집화 효율 차이가 발생하는지 확인해보자."
      ],
      "metadata": {
        "id": "8YzZu6Sn_-QT"
      }
    },
    {
      "cell_type": "code",
      "source": [
        "print('### KMeans Clustering ###')\n",
        "print(clusterDF.groupby('target')['kmeans_label'].value_counts())\n",
        "print(']n ### Gaussian Mixture Clustering ###')\n",
        "print(clusterDF.groupby('target')['gmm_label'].value_counts())"
      ],
      "metadata": {
        "colab": {
          "base_uri": "https://localhost:8080/"
        },
        "id": "OBpAz0kjAJYn",
        "outputId": "c9abf00e-5d8b-4b3c-8d33-2021af076242"
      },
      "execution_count": 48,
      "outputs": [
        {
          "output_type": "stream",
          "name": "stdout",
          "text": [
            "### KMeans Clustering ###\n",
            "target  kmeans_label\n",
            "0       2                73\n",
            "        0                27\n",
            "1       1               100\n",
            "2       0                86\n",
            "        2                14\n",
            "Name: kmeans_label, dtype: int64\n",
            "]n ### Gaussian Mixture Clustering ###\n",
            "target  gmm_label\n",
            "0       2            100\n",
            "1       1            100\n",
            "2       0            100\n",
            "Name: gmm_label, dtype: int64\n"
          ]
        }
      ]
    },
    {
      "cell_type": "markdown",
      "source": [
        "  - KMeans의 경우 군집 1번만 정확히 매핑되었지만, GMM의 경우는 군집이 target과 정확하게 잘 매핑되었다."
      ],
      "metadata": {
        "id": "pJhK8iatAam_"
      }
    },
    {
      "cell_type": "markdown",
      "source": [
        "---"
      ],
      "metadata": {
        "id": "BQPm2GfOMYnO"
      }
    },
    {
      "cell_type": "markdown",
      "source": [
        "### **05. DBSCAN**"
      ],
      "metadata": {
        "id": "NgBkk-NVMZNJ"
      }
    },
    {
      "cell_type": "markdown",
      "source": [
        "#### a. DBSCAN 개요\n",
        "  - 정의\n",
        "    - 밀도 기반 군집화의 대표적인 알고리즘\n",
        "    \n",
        "  - 장점\n",
        "    - 간단하고 직관적인 알고리즘으로 돼있음에도 데이터의 분포가 기하학적으로 복잡한 데이터 세트에도 효과적인 군집화가 가능\n",
        "    - 특정 공간 내에 데이터 밀도 차이를 기반 알고리즘으로 하고 있어서 복잡한 기하학적 분포도를 가진 데이터 세트에 대해서도 군집화를 잘 수행함\n",
        "\n",
        "  - 주요 파라미터\n",
        "    - 입실론 주변 영역(epsilon)\n",
        "      - 개별 데이터를 중심으로 입실론 반경을 가지는 원형의 영역\n",
        "    - 최소 데이터 개수(min points)\n",
        "      - 개별 데이터의 입실론 주변 영역에 포함되는 타 데이터의 개수\n",
        "\n",
        "  - 데이터 포인트\n",
        "    - 입실론 주변 영역 내에 포함되는 최소 데이터 개수를 충족시키는가 아닌가에 따라 데이터 포인트를 다음과 같이 정의함\n",
        "    - 핵심 포인트(Core point)\n",
        "      - 주변 영역 내에 최소 데이터 개수 이상의 타 데이터를 가지고 있을 경우, 해당 데이터를 핵심 포인트라고 함\n",
        "    - 이웃 포인트(Neighbor point)\n",
        "      - 주변 영역 내에 위치한 타 데이터\n",
        "    - 경계 포인트(Border point)\n",
        "      - 주변 영역 내에 최소 데이터 개수 이상의 이웃 포인트를 가지고 있지 않지만 핵심 포인트를 이웃 포인트로 가지고 있는 데이터\n",
        "    - 잡음 포인트(Noise point)\n",
        "      - 최소 데이터 개수 이상의 아웃 포인트를 가지고 있지 않으며, 핵심 포인트도 이웃 포인트도 가지고 있지 않은 데이터\n",
        "  \n",
        "  - `DBSCAN` 클래스\n",
        "    - 주요 파라미터\n",
        "      - `eps`: 입실론 주변 영역의 반경\n",
        "      - `min_samples`: 핵심 포인트가 되기 위해 입실론 주변 영역 내에 포함돼야 할 데이터의 최소 개수\n"
      ],
      "metadata": {
        "id": "WXApwjeQMcQR"
      }
    },
    {
      "cell_type": "markdown",
      "source": [
        "#### b. DBSCAN 적용하기 - 붓꽃 데이터 세트"
      ],
      "metadata": {
        "id": "uoGpAXFzMgBl"
      }
    },
    {
      "cell_type": "code",
      "source": [
        "from sklearn.datasets import load_iris\n",
        "from sklearn.cluster import KMeans\n",
        "\n",
        "import matplotlib.pyplot as plt\n",
        "import numpy as np\n",
        "import pandas as pd\n",
        "%matplotlib inline\n",
        "\n",
        "iris = load_iris()\n",
        "feature_names = ['sepal_length', 'sepal_width', 'petal_length', 'petal_width']\n",
        "\n",
        "# 좀 더 편리한 데이터 Handling을 위해 DataFrame으로 변환\n",
        "irisDF = pd.DataFrame(data = iris.data, columns = feature_names)\n",
        "irisDF['target'] = iris.target"
      ],
      "metadata": {
        "id": "qYERT6A1MeVB"
      },
      "execution_count": 49,
      "outputs": []
    },
    {
      "cell_type": "code",
      "source": [
        "from sklearn.cluster import DBSCAN\n",
        "\n",
        "dbscan = DBSCAN(eps = 0.6, min_samples = 8, metric = 'euclidean')\n",
        "dbscan_labels = dbscan.fit_predict(iris.data)\n",
        "\n",
        "irisDF['dbscan_cluster'] = dbscan_labels\n",
        "irisDF['target'] = iris.target\n",
        "\n",
        "iris_result = irisDF.groupby(['target'])['dbscan_cluster'].value_counts()\n",
        "print(iris_result)"
      ],
      "metadata": {
        "colab": {
          "base_uri": "https://localhost:8080/"
        },
        "id": "tDKqODMHEHtm",
        "outputId": "2217388d-9a6c-4439-b4f3-8d7601509e3e"
      },
      "execution_count": 51,
      "outputs": [
        {
          "output_type": "stream",
          "name": "stdout",
          "text": [
            "target  dbscan_cluster\n",
            "0        0                49\n",
            "        -1                 1\n",
            "1        1                46\n",
            "        -1                 4\n",
            "2        1                42\n",
            "        -1                 8\n",
            "Name: dbscan_cluster, dtype: int64\n"
          ]
        }
      ]
    },
    {
      "cell_type": "markdown",
      "source": [
        "  - -1이 군집 레이블로 있는데, 이는 노이즈에 속하는 군집을 의미한다.\n",
        "  - 따라서 붓꽃 데이터 세트는 DBSCAN에서 0과 1 두 개의 군집으로 군집화되었다."
      ],
      "metadata": {
        "id": "yQtHkv08Egm7"
      }
    },
    {
      "cell_type": "markdown",
      "source": [
        "> DBSCAN으로 군집화 데이터 세트를 2차원 평면에서 표현하기 위해 PCA를 이용해 2개의 피처로 압축 변환한 뒤, 앞 예제에서 사용한 visualize_cluster_plot() 함수를 이용해 시각화해보자."
      ],
      "metadata": {
        "id": "1n5G4jobEuuD"
      }
    },
    {
      "cell_type": "code",
      "source": [
        "from sklearn.decomposition import PCA\n",
        "# 2차원으로 시각화하기 위해 PCA n_components = 2로 피처 데이터 세트 변환\n",
        "pca = PCA(n_components = 2, random_state = 0)\n",
        "pca_transformed = pca.fit_transform(iris.data)\n",
        "\n",
        "# visualize_cluster_2d() 함수는 ftr1, ftr2 칼럼을 좌표에 표현하므로 PCA 변환값을 해당 칼럼으로 생성\n",
        "irisDF['ftr1'] = pca_transformed[:, 0]\n",
        "irisDF['ftr2'] = pca_transformed[:, 1]\n",
        "\n",
        "visualize_cluster_plot(dbscan, irisDF, 'dbscan_cluster', iscenter = False)"
      ],
      "metadata": {
        "colab": {
          "base_uri": "https://localhost:8080/",
          "height": 269
        },
        "id": "OQGalRtcE4HF",
        "outputId": "ea05aba4-0649-46dc-d75c-b60c8e2d7d1e"
      },
      "execution_count": 52,
      "outputs": [
        {
          "output_type": "display_data",
          "data": {
            "text/plain": [
              "<Figure size 432x288 with 1 Axes>"
            ],
            "image/png": "[encoded data removed]"
          },
          "metadata": {
            "needs_background": "light"
          }
        }
      ]
    },
    {
      "cell_type": "markdown",
      "source": [
        "  - 별표로 표현된 값은 모두 노이즈이다. PCA로 2차원으로 표현하면 이상치인 노이즈 데이터가 명확히 드러나는 것을 확인할 수 있다."
      ],
      "metadata": {
        "id": "YZHChKecFbW0"
      }
    },
    {
      "cell_type": "markdown",
      "source": [
        "> eps를 기존의 0.6에서 0.8로 증가시키면 노이즈 데이터 수가 줄어든다. 이를 확인해보자."
      ],
      "metadata": {
        "id": "u3RiassnFxSs"
      }
    },
    {
      "cell_type": "code",
      "source": [
        "from sklearn.cluster import DBSCAN\n",
        "\n",
        "dbscan = DBSCAN(eps = 0.8, min_samples = 8, metric = 'euclidean')\n",
        "dbscan_labels = dbscan.fit_predict(iris.data)\n",
        "\n",
        "irisDF['dbscan_cluster'] = dbscan_labels\n",
        "irisDF['target'] = iris.target\n",
        "\n",
        "iris_result = irisDF.groupby(['target'])['dbscan_cluster'].value_counts()\n",
        "print(iris_result)\n",
        "\n",
        "visualize_cluster_plot(dbscan, irisDF, 'dbscan_cluster', iscenter = False)"
      ],
      "metadata": {
        "colab": {
          "base_uri": "https://localhost:8080/",
          "height": 381
        },
        "id": "BTie6DmcFpwx",
        "outputId": "14b1e3a8-557f-4792-f868-2541b525f77d"
      },
      "execution_count": 54,
      "outputs": [
        {
          "output_type": "stream",
          "name": "stdout",
          "text": [
            "target  dbscan_cluster\n",
            "0        0                50\n",
            "1        1                50\n",
            "2        1                47\n",
            "        -1                 3\n",
            "Name: dbscan_cluster, dtype: int64\n"
          ]
        },
        {
          "output_type": "display_data",
          "data": {
            "text/plain": [
              "<Figure size 432x288 with 1 Axes>"
            ],
            "image/png": "[encoded data removed]"
          },
          "metadata": {
            "needs_background": "light"
          }
        }
      ]
    },
    {
      "cell_type": "markdown",
      "source": [
        "  - 노이즈 군집인 -1이 3개밖에 없다. 기존에 eps가 0.6일 때 노이즈로 분류된 데이터 세트는 eps 반경이 커지면서 Cluster 1에 소속되었다."
      ],
      "metadata": {
        "id": "wQzFqXxkGR4g"
      }
    },
    {
      "cell_type": "markdown",
      "source": [
        "> 이번에는 eps를 기존 0.6으로 유지하고, min_samples를 16으로 늘려보자."
      ],
      "metadata": {
        "id": "KVnjwuxKGdiu"
      }
    },
    {
      "cell_type": "code",
      "source": [
        "dbscan = DBSCAN(eps = 0.6, min_samples = 16, metric = 'euclidean')\n",
        "dbscan_labels = dbscan.fit_predict(iris.data)\n",
        "\n",
        "irisDF['dbscan_cluster'] = dbscan_labels\n",
        "irisDF['target'] = iris.target\n",
        "\n",
        "iris_result = irisDF.groupby(['target'])['dbscan_cluster'].value_counts()\n",
        "print(iris_result)\n",
        "\n",
        "visualize_cluster_plot(dbscan, irisDF, 'dbscan_cluster', iscenter = False)"
      ],
      "metadata": {
        "colab": {
          "base_uri": "https://localhost:8080/",
          "height": 418
        },
        "id": "nbG6WxaPGg5S",
        "outputId": "a0edecf6-5452-4d80-8e23-ebcb04aa2831"
      },
      "execution_count": 56,
      "outputs": [
        {
          "output_type": "stream",
          "name": "stdout",
          "text": [
            "target  dbscan_cluster\n",
            "0        0                48\n",
            "        -1                 2\n",
            "1        1                44\n",
            "        -1                 6\n",
            "2        1                36\n",
            "        -1                14\n",
            "Name: dbscan_cluster, dtype: int64\n"
          ]
        },
        {
          "output_type": "display_data",
          "data": {
            "text/plain": [
              "<Figure size 432x288 with 1 Axes>"
            ],
            "image/png": "[encoded data removed]"
          },
          "metadata": {
            "needs_background": "light"
          }
        }
      ]
    },
    {
      "cell_type": "markdown",
      "source": [
        "  - 노이즈 데이터가 기존보다 많이 증가했다."
      ],
      "metadata": {
        "id": "5pEaPCaxG5ac"
      }
    },
    {
      "cell_type": "markdown",
      "source": [
        "#### c. DBSCAN 적용하기 - make_circles() 데이터 세트"
      ],
      "metadata": {
        "id": "LPFFPMoPMj-H"
      }
    },
    {
      "cell_type": "markdown",
      "source": [
        "> 이번에는 복잡한 기하학적 분포를 가지는 데이터 세트에서 DBSCAN과 타 알고리즘을 비교해보자. "
      ],
      "metadata": {
        "id": "NxJP8Uu6G9su"
      }
    },
    {
      "cell_type": "code",
      "source": [
        "from sklearn.datasets import make_circles\n",
        "\n",
        "X, y = make_circles(n_samples = 1000, shuffle = True, noise = 0.05, random_state = 0, factor = 0.5)\n",
        "clusterDF = pd.DataFrame(data = X, columns = ['ftr1', 'ftr2'])\n",
        "clusterDF['target'] = y\n",
        "\n",
        "visualize_cluster_plot(None, clusterDF, 'target', iscenter = False)"
      ],
      "metadata": {
        "colab": {
          "base_uri": "https://localhost:8080/",
          "height": 265
        },
        "id": "LWuh4hlAMqe4",
        "outputId": "7419bd3a-6250-4f3e-a7c0-a90afada88d0"
      },
      "execution_count": 57,
      "outputs": [
        {
          "output_type": "display_data",
          "data": {
            "text/plain": [
              "<Figure size 432x288 with 1 Axes>"
            ],
            "image/png": "[encoded data removed]"
          },
          "metadata": {
            "needs_background": "light"
          }
        }
      ]
    },
    {
      "cell_type": "markdown",
      "source": [
        "> 먼저 K-평균으로 make_circles() 데이터 세트를 군집화해보자. "
      ],
      "metadata": {
        "id": "YbngDxEuHW8l"
      }
    },
    {
      "cell_type": "code",
      "source": [
        "# KMeans로 make_circles() 데이터 세트를 군집화 수행\n",
        "from sklearn.cluster import KMeans\n",
        "\n",
        "kmeans = KMeans(n_clusters = 2, max_iter = 1000, random_state = 0)\n",
        "kmeans_labels = kmeans.fit_predict(X)\n",
        "clusterDF['kmeans_cluster'] = kmeans_labels\n",
        "\n",
        "visualize_cluster_plot(kmeans, clusterDF, 'kmeans_cluster', iscenter = True)"
      ],
      "metadata": {
        "colab": {
          "base_uri": "https://localhost:8080/",
          "height": 265
        },
        "id": "ZlDOxf8wHT53",
        "outputId": "c64de75e-0d44-46ff-e16a-b233bb0e2c5e"
      },
      "execution_count": 58,
      "outputs": [
        {
          "output_type": "display_data",
          "data": {
            "text/plain": [
              "<Figure size 432x288 with 1 Axes>"
            ],
            "image/png": "[encoded data removed]"
          },
          "metadata": {
            "needs_background": "light"
          }
        }
      ]
    },
    {
      "cell_type": "markdown",
      "source": [
        "  - 위, 아래 군집 중심을 기반으로 위와 아래 절반으로 군집화되었다. 거리 기반 군집화로는 위와 같이 데이터가 특정한 형태로 지속해서 이어지는 부분을 찾아내기 어렵다."
      ],
      "metadata": {
        "id": "USkya_9sH5g-"
      }
    },
    {
      "cell_type": "markdown",
      "source": [
        "> 다음으로는 GMM을 적용해보자."
      ],
      "metadata": {
        "id": "Lwo9StG1IBOx"
      }
    },
    {
      "cell_type": "code",
      "source": [
        "# GMM으로 make_circles() 데이터 세트를 군집화 수행\n",
        "from sklearn.mixture import GaussianMixture\n",
        "\n",
        "gmm = GaussianMixture(n_components = 2, random_state = 0)\n",
        "gmm_label = gmm.fit(X).predict(X)\n",
        "clusterDF['gmm_cluster'] = gmm_label\n",
        "\n",
        "visualize_cluster_plot(gmm, clusterDF, 'gmm_cluster', iscenter = False)"
      ],
      "metadata": {
        "colab": {
          "base_uri": "https://localhost:8080/",
          "height": 265
        },
        "id": "zO5Vjx9UH3Mn",
        "outputId": "ae74e86c-9a5e-49eb-ea45-1de2e76e96fe"
      },
      "execution_count": 59,
      "outputs": [
        {
          "output_type": "display_data",
          "data": {
            "text/plain": [
              "<Figure size 432x288 with 1 Axes>"
            ],
            "image/png": "[encoded data removed]"
          },
          "metadata": {
            "needs_background": "light"
          }
        }
      ]
    },
    {
      "cell_type": "markdown",
      "source": [
        "  - 앞 절의 일렬로 늘어선 데이터 세트에서는 효과적으로 군집화 적용이 가능했으나, 내부와 외부의 원형으로 구성된 더 복잡한 형태의 데이터 세트에서는 군집화가 원하는 방향으로 되지 않았다."
      ],
      "metadata": {
        "id": "KJfPhkMuIT_v"
      }
    },
    {
      "cell_type": "markdown",
      "source": [
        "> 이제 DBSCAN으로 군집화를 적용해보자."
      ],
      "metadata": {
        "id": "rnBrzHdNIdBx"
      }
    },
    {
      "cell_type": "code",
      "source": [
        "# DBSCAN으로 make_circles() 데이터 세트 군집화 수행\n",
        "from sklearn.cluster import DBSCAN\n",
        "\n",
        "dbscan = DBSCAN(eps = 0.2, min_samples = 10, metric = 'euclidean')\n",
        "dbscan_labels = dbscan.fit_predict(X)\n",
        "clusterDF['dbscan_cluster'] = dbscan_labels\n",
        "visualize_cluster_plot(dbscan, clusterDF, 'dbscan_cluster', iscenter = False)"
      ],
      "metadata": {
        "colab": {
          "base_uri": "https://localhost:8080/",
          "height": 265
        },
        "id": "QkIzj_sZIS_t",
        "outputId": "5bf99e5d-dae1-41a1-a6d7-40ce1924e368"
      },
      "execution_count": 60,
      "outputs": [
        {
          "output_type": "display_data",
          "data": {
            "text/plain": [
              "<Figure size 432x288 with 1 Axes>"
            ],
            "image/png": "[encoded data removed]"
          },
          "metadata": {
            "needs_background": "light"
          }
        }
      ]
    },
    {
      "cell_type": "markdown",
      "source": [
        "  - DBSCAN으로 군집화를 적용해 원하는 방향으로 정확히 군집화가 됐음을 알 수 있다."
      ],
      "metadata": {
        "id": "9awqV96GI8zs"
      }
    }
  ]
}
