{
  "nbformat": 4,
  "nbformat_minor": 0,
  "metadata": {
    "colab": {
      "name": "HW_220408.ipynb",
      "provenance": [],
      "collapsed_sections": [],
      "mount_file_id": "1tGFNOXvHYd7LGvUaAefhQXZ3NT-c3sOl",
      "authorship_tag": "ABX9TyPIHokSFJXHHzfui438U0EP",
      "include_colab_link": true
    },
    "kernelspec": {
      "name": "python3",
      "display_name": "Python 3"
    },
    "language_info": {
      "name": "python"
    }
  },
  "cells": [
    {
      "cell_type": "markdown",
      "metadata": {
        "id": "view-in-github",
        "colab_type": "text"
      },
      "source": [
        "<a href=\"https://colab.research.google.com/github/wldopie/ESAA/blob/main/HW_220408.ipynb\" target=\"_parent\"><img src=\"https://colab.research.google.com/assets/colab-badge.svg\" alt=\"Open In Colab\"/></a>"
      ]
    },
    {
      "cell_type": "code",
      "execution_count": null,
      "metadata": {
        "id": "ABlsZoZwDpks"
      },
      "outputs": [],
      "source": [
        "# pg. 241~ 242, 256~263"
      ]
    },
    {
      "cell_type": "markdown",
      "source": [
        "## **12. 시계열 데이터**"
      ],
      "metadata": {
        "id": "Q9Fcs1vrD_uj"
      }
    },
    {
      "cell_type": "markdown",
      "source": [
        "### **12-1. `datetime` 오브젝트**\n",
        "  - `datetime` 라이브러리 : `날짜와 시간을 처리`하는 등 다양한 기능을 제공하는 파이썬 라이브러리\n",
        "    - `date` 오브젝트 : `날짜` 처리\n",
        "    - `time` 오브젝트 : `시간` 처리\n",
        "    - `datetime` 오브젝트 : `날짜와 시간`을 모두 처리"
      ],
      "metadata": {
        "id": "2pCBAy49EF9X"
      }
    },
    {
      "cell_type": "markdown",
      "source": [
        "> **datetime 오브젝트 사용하기**"
      ],
      "metadata": {
        "id": "AolPZkdYGGFf"
      }
    },
    {
      "cell_type": "code",
      "source": [
        "# 1. datetime 오브젝트를 사용하기 위해 datetime 라이브러리를 불러옵니다.\n",
        "from datetime import datetime\n",
        "\n",
        "# 2. now, today 메서드를 사용하면 다음과 같이 현재 시간을 출력할 수 있습니다.\n",
        "now1 = datetime.now()\n",
        "print(now1)\n",
        "\n",
        "now2 = datetime.today()\n",
        "print(now2)"
      ],
      "metadata": {
        "colab": {
          "base_uri": "https://localhost:8080/"
        },
        "id": "dj_SAegoEK9L",
        "outputId": "0403263e-91b9-4a59-de6c-38d56c67d20b"
      },
      "execution_count": 2,
      "outputs": [
        {
          "output_type": "stream",
          "name": "stdout",
          "text": [
            "2022-04-10 06:05:23.596524\n",
            "2022-04-10 06:05:23.598109\n"
          ]
        }
      ]
    },
    {
      "cell_type": "code",
      "source": [
        "# 3. datetime 오브젝트를 생성할 때 시간을 직접 입력하여 인자로 전달할 수도 있습니다.\n",
        "t1 = datetime.now()                           # 현재 시각\n",
        "t2 = datetime(1970, 1, 1)                     # 날짜를 직접 지정\n",
        "t3 = datetime(1970, 12, 12, 13, 24, 34)       # 날짜와 시간을 모두 직접 지정\n",
        "\n",
        "print(t1)\n",
        "print(t2)\n",
        "print(t3)"
      ],
      "metadata": {
        "colab": {
          "base_uri": "https://localhost:8080/"
        },
        "id": "4W3lwjCxE2kY",
        "outputId": "81f27907-ce2e-457a-d6e3-713fb2969184"
      },
      "execution_count": 3,
      "outputs": [
        {
          "output_type": "stream",
          "name": "stdout",
          "text": [
            "2022-04-10 06:06:50.314041\n",
            "1970-01-01 00:00:00\n",
            "1970-12-12 13:24:34\n"
          ]
        }
      ]
    },
    {
      "cell_type": "code",
      "source": [
        "# 4. datetime 오브젝트를 사용해 시간을 계산할 수 있습니다.\n",
        "diff1 = t1 - t2\n",
        "\n",
        "print(diff1)\n",
        "print(type(diff1))\n",
        "\n",
        "diff2 = t2 - t1\n",
        "\n",
        "print(diff2)\n",
        "print(type(diff2))"
      ],
      "metadata": {
        "colab": {
          "base_uri": "https://localhost:8080/"
        },
        "id": "q5ZIqnh7FQgF",
        "outputId": "ee26592f-48ae-45f6-8ff9-0059ff1053a0"
      },
      "execution_count": 4,
      "outputs": [
        {
          "output_type": "stream",
          "name": "stdout",
          "text": [
            "19092 days, 6:06:50.314041\n",
            "<class 'datetime.timedelta'>\n",
            "-19093 days, 17:53:09.685959\n",
            "<class 'datetime.timedelta'>\n"
          ]
        }
      ]
    },
    {
      "cell_type": "markdown",
      "source": [
        "---"
      ],
      "metadata": {
        "id": "UXtojTnUGmtw"
      }
    },
    {
      "cell_type": "markdown",
      "source": [
        "### **12-2. 사례별 시계열 데이터 계산하기**"
      ],
      "metadata": {
        "id": "1lWu6YF8GYic"
      }
    },
    {
      "cell_type": "markdown",
      "source": [
        "> **테슬라 주식 데이터로 시간 계산하기**"
      ],
      "metadata": {
        "id": "cUmFm7ANGdqy"
      }
    },
    {
      "cell_type": "code",
      "source": [
        "import pandas as pd"
      ],
      "metadata": {
        "id": "bu26W8SdG13u"
      },
      "execution_count": 6,
      "outputs": []
    },
    {
      "cell_type": "code",
      "source": [
        "# 1. get_data_quanal 메서드에 TSLA라는 문자열을 전달, 테슬라의 주식 데이터 로딩\n",
        "\n",
        "pd.core.common.is_list_like = pd.api.types.is_list_like\n",
        "import pandas_datareader as pdr\n",
        "\n",
        "# tesla에 데이터프레임 저장\n",
        "tesla = pdr.get_data_quandl('TSLA', api_key = 'kcXBrk8aHUCbeJdAmKgc')\n",
        "\n",
        "# tesla에 저장된 데이터프레임을 파일로 저장\n",
        "tesla.to_csv('tesla_stock_quandl.csv')"
      ],
      "metadata": {
        "id": "By2xMji_GcAZ"
      },
      "execution_count": 17,
      "outputs": []
    },
    {
      "cell_type": "code",
      "source": [
        "# 2. tesla 데이터프레임의 Date 열은 문자열로 저장\n",
        "print(tesla.head())"
      ],
      "metadata": {
        "colab": {
          "base_uri": "https://localhost:8080/"
        },
        "id": "mq2s2lscG0Wy",
        "outputId": "e2fa09b7-e61b-4266-f0bd-23a6a532406a"
      },
      "execution_count": 18,
      "outputs": [
        {
          "output_type": "stream",
          "name": "stdout",
          "text": [
            "              Open    High     Low   Close      Volume  ExDividend  \\\n",
            "Date                                                                 \n",
            "2018-03-27  304.00  304.27  277.18  279.18  13696168.0         0.0   \n",
            "2018-03-26  307.34  307.59  291.36  304.18   8324639.0         0.0   \n",
            "2018-03-23  311.25  311.61  300.45  301.54   6600538.0         0.0   \n",
            "2018-03-22  313.89  318.82  308.18  309.10   4914307.0         0.0   \n",
            "2018-03-21  310.25  322.44  310.19  316.53   5927881.0         0.0   \n",
            "\n",
            "            SplitRatio  AdjOpen  AdjHigh  AdjLow  AdjClose   AdjVolume  \n",
            "Date                                                                    \n",
            "2018-03-27         1.0   304.00   304.27  277.18    279.18  13696168.0  \n",
            "2018-03-26         1.0   307.34   307.59  291.36    304.18   8324639.0  \n",
            "2018-03-23         1.0   311.25   311.61  300.45    301.54   6600538.0  \n",
            "2018-03-22         1.0   313.89   318.82  308.18    309.10   4914307.0  \n",
            "2018-03-21         1.0   310.25   322.44  310.19    316.53   5927881.0  \n"
          ]
        }
      ]
    },
    {
      "cell_type": "code",
      "source": [
        "# 3. Date 열을 Datetime 형으로 변환\n",
        "# read_csv 메서드로 데이터 집합을 불러올 때, parse_dates에 Date 열을 전달\n",
        "tesla = pd.read_csv('tesla_stock_quandl.csv', parse_dates=[0])\n",
        "print(tesla.info())         # Date 열이 datetime 자료형으로 변환"
      ],
      "metadata": {
        "colab": {
          "base_uri": "https://localhost:8080/"
        },
        "id": "1Zsen9d_Iu9g",
        "outputId": "3275a48e-0125-428f-95f6-e250990215d0"
      },
      "execution_count": 19,
      "outputs": [
        {
          "output_type": "stream",
          "name": "stdout",
          "text": [
            "<class 'pandas.core.frame.DataFrame'>\n",
            "RangeIndex: 241 entries, 0 to 240\n",
            "Data columns (total 13 columns):\n",
            " #   Column      Non-Null Count  Dtype         \n",
            "---  ------      --------------  -----         \n",
            " 0   Date        241 non-null    datetime64[ns]\n",
            " 1   Open        241 non-null    float64       \n",
            " 2   High        241 non-null    float64       \n",
            " 3   Low         241 non-null    float64       \n",
            " 4   Close       241 non-null    float64       \n",
            " 5   Volume      241 non-null    float64       \n",
            " 6   ExDividend  241 non-null    float64       \n",
            " 7   SplitRatio  241 non-null    float64       \n",
            " 8   AdjOpen     241 non-null    float64       \n",
            " 9   AdjHigh     241 non-null    float64       \n",
            " 10  AdjLow      241 non-null    float64       \n",
            " 11  AdjClose    241 non-null    float64       \n",
            " 12  AdjVolume   241 non-null    float64       \n",
            "dtypes: datetime64[ns](1), float64(12)\n",
            "memory usage: 24.6 KB\n",
            "None\n"
          ]
        }
      ]
    },
    {
      "cell_type": "code",
      "source": [
        "# 4. dt 접근자를 이용해 2018년 3월의 데이터만을 추출\n",
        "print(tesla.loc[(tesla.Date.dt.year == 2018) & (tesla.Date.dt.month == 3)])"
      ],
      "metadata": {
        "colab": {
          "base_uri": "https://localhost:8080/"
        },
        "id": "_UOxuNI_JLyV",
        "outputId": "67909a6c-1a6d-4837-c660-eaec7e3dc424"
      },
      "execution_count": 28,
      "outputs": [
        {
          "output_type": "stream",
          "name": "stdout",
          "text": [
            "         Date    Open    High       Low   Close      Volume  ExDividend  \\\n",
            "0  2018-03-27  304.00  304.27  277.1800  279.18  13696168.0         0.0   \n",
            "1  2018-03-26  307.34  307.59  291.3600  304.18   8324639.0         0.0   \n",
            "2  2018-03-23  311.25  311.61  300.4500  301.54   6600538.0         0.0   \n",
            "3  2018-03-22  313.89  318.82  308.1800  309.10   4914307.0         0.0   \n",
            "4  2018-03-21  310.25  322.44  310.1900  316.53   5927881.0         0.0   \n",
            "5  2018-03-20  314.87  316.25  308.7600  310.55   4726182.0         0.0   \n",
            "6  2018-03-19  316.50  320.75  309.6700  313.56   7440766.0         0.0   \n",
            "7  2018-03-16  325.96  327.40  319.0700  321.35   6058612.0         0.0   \n",
            "8  2018-03-15  329.38  332.85  321.1000  325.60   6366922.0         0.0   \n",
            "9  2018-03-14  336.76  339.81  323.9300  326.63   7932511.0         0.0   \n",
            "10 2018-03-13  344.92  345.12  336.2635  341.84   5932110.0         0.0   \n",
            "11 2018-03-12  328.61  347.21  326.5000  345.51   8212156.0         0.0   \n",
            "12 2018-03-09  324.10  328.49  322.3700  327.17   5479716.0         0.0   \n",
            "13 2018-03-08  332.86  333.30  326.2740  329.10   3476944.0         0.0   \n",
            "14 2018-03-07  325.44  332.50  321.7400  332.30   5007297.0         0.0   \n",
            "15 2018-03-06  333.75  336.37  327.0300  328.20   4285744.0         0.0   \n",
            "16 2018-03-05  332.39  337.75  329.2929  333.35   3823769.0         0.0   \n",
            "17 2018-03-02  326.98  335.22  322.9700  335.12   5092829.0         0.0   \n",
            "18 2018-03-01  345.01  348.67  330.0700  330.93   6885601.0         0.0   \n",
            "\n",
            "    SplitRatio  AdjOpen  AdjHigh    AdjLow  AdjClose   AdjVolume  \n",
            "0          1.0   304.00   304.27  277.1800    279.18  13696168.0  \n",
            "1          1.0   307.34   307.59  291.3600    304.18   8324639.0  \n",
            "2          1.0   311.25   311.61  300.4500    301.54   6600538.0  \n",
            "3          1.0   313.89   318.82  308.1800    309.10   4914307.0  \n",
            "4          1.0   310.25   322.44  310.1900    316.53   5927881.0  \n",
            "5          1.0   314.87   316.25  308.7600    310.55   4726182.0  \n",
            "6          1.0   316.50   320.75  309.6700    313.56   7440766.0  \n",
            "7          1.0   325.96   327.40  319.0700    321.35   6058612.0  \n",
            "8          1.0   329.38   332.85  321.1000    325.60   6366922.0  \n",
            "9          1.0   336.76   339.81  323.9300    326.63   7932511.0  \n",
            "10         1.0   344.92   345.12  336.2635    341.84   5932110.0  \n",
            "11         1.0   328.61   347.21  326.5000    345.51   8212156.0  \n",
            "12         1.0   324.10   328.49  322.3700    327.17   5479716.0  \n",
            "13         1.0   332.86   333.30  326.2740    329.10   3476944.0  \n",
            "14         1.0   325.44   332.50  321.7400    332.30   5007297.0  \n",
            "15         1.0   333.75   336.37  327.0300    328.20   4285744.0  \n",
            "16         1.0   332.39   337.75  329.2929    333.35   3823769.0  \n",
            "17         1.0   326.98   335.22  322.9700    335.12   5092829.0  \n",
            "18         1.0   345.01   348.67  330.0700    330.93   6885601.0  \n"
          ]
        }
      ]
    },
    {
      "cell_type": "markdown",
      "source": [
        "> **datetime 오브젝트와 인덱스 - `DatetimeIndex`**\n",
        "  - datetime 오브젝트를 인덱스로 설정해 데이터 추출하기\n"
      ],
      "metadata": {
        "id": "tyRVvS88Kd4U"
      }
    },
    {
      "cell_type": "code",
      "source": [
        "# 1. 테슬라 데이터 이용, Date 열을 tesla 데이터프레임의 인덱스로 지정\n",
        "tesla.index = tesla['Date']\n",
        "print(tesla.index)"
      ],
      "metadata": {
        "colab": {
          "base_uri": "https://localhost:8080/"
        },
        "id": "hOhI94FCJmRD",
        "outputId": "014f7854-50b5-4bf9-f7dc-139d6b821a5f"
      },
      "execution_count": 29,
      "outputs": [
        {
          "output_type": "stream",
          "name": "stdout",
          "text": [
            "DatetimeIndex(['2018-03-27', '2018-03-26', '2018-03-23', '2018-03-22',\n",
            "               '2018-03-21', '2018-03-20', '2018-03-19', '2018-03-16',\n",
            "               '2018-03-15', '2018-03-14',\n",
            "               ...\n",
            "               '2017-04-25', '2017-04-24', '2017-04-21', '2017-04-20',\n",
            "               '2017-04-19', '2017-04-18', '2017-04-17', '2017-04-13',\n",
            "               '2017-04-12', '2017-04-11'],\n",
            "              dtype='datetime64[ns]', name='Date', length=241, freq=None)\n"
          ]
        }
      ]
    },
    {
      "cell_type": "code",
      "source": [
        "# 2. datetime 오브젝트를 인덱스로 지정하면 원하는 시간의 데이터를 바로 추출 가능\n",
        "print(tesla['2018'].iloc[:5, :5])"
      ],
      "metadata": {
        "colab": {
          "base_uri": "https://localhost:8080/"
        },
        "id": "VUshBHquKwaV",
        "outputId": "9abcae69-57bb-4ed4-dda0-8fd7ba1ebdf7"
      },
      "execution_count": 31,
      "outputs": [
        {
          "output_type": "stream",
          "name": "stdout",
          "text": [
            "                 Date    Open    High     Low   Close\n",
            "Date                                                 \n",
            "2018-03-27 2018-03-27  304.00  304.27  277.18  279.18\n",
            "2018-03-26 2018-03-26  307.34  307.59  291.36  304.18\n",
            "2018-03-23 2018-03-23  311.25  311.61  300.45  301.54\n",
            "2018-03-22 2018-03-22  313.89  318.82  308.18  309.10\n",
            "2018-03-21 2018-03-21  310.25  322.44  310.19  316.53\n"
          ]
        },
        {
          "output_type": "stream",
          "name": "stderr",
          "text": [
            "/usr/local/lib/python3.7/dist-packages/ipykernel_launcher.py:2: FutureWarning: Indexing a DataFrame with a datetimelike index using a single string to slice the rows, like `frame[string]`, is deprecated and will be removed in a future version. Use `frame.loc[string]` instead.\n",
            "  \n"
          ]
        }
      ]
    },
    {
      "cell_type": "code",
      "source": [
        "# 3. 2018년 3월의 데이터 추출\n",
        "print(tesla['2018-03'].iloc[:, :5])"
      ],
      "metadata": {
        "colab": {
          "base_uri": "https://localhost:8080/"
        },
        "id": "-uGgoEDfK45B",
        "outputId": "7ad590ff-32b3-48ab-ab2e-4743ca93c539"
      },
      "execution_count": 32,
      "outputs": [
        {
          "output_type": "stream",
          "name": "stdout",
          "text": [
            "                 Date    Open    High       Low   Close\n",
            "Date                                                   \n",
            "2018-03-27 2018-03-27  304.00  304.27  277.1800  279.18\n",
            "2018-03-26 2018-03-26  307.34  307.59  291.3600  304.18\n",
            "2018-03-23 2018-03-23  311.25  311.61  300.4500  301.54\n",
            "2018-03-22 2018-03-22  313.89  318.82  308.1800  309.10\n",
            "2018-03-21 2018-03-21  310.25  322.44  310.1900  316.53\n",
            "2018-03-20 2018-03-20  314.87  316.25  308.7600  310.55\n",
            "2018-03-19 2018-03-19  316.50  320.75  309.6700  313.56\n",
            "2018-03-16 2018-03-16  325.96  327.40  319.0700  321.35\n",
            "2018-03-15 2018-03-15  329.38  332.85  321.1000  325.60\n",
            "2018-03-14 2018-03-14  336.76  339.81  323.9300  326.63\n",
            "2018-03-13 2018-03-13  344.92  345.12  336.2635  341.84\n",
            "2018-03-12 2018-03-12  328.61  347.21  326.5000  345.51\n",
            "2018-03-09 2018-03-09  324.10  328.49  322.3700  327.17\n",
            "2018-03-08 2018-03-08  332.86  333.30  326.2740  329.10\n",
            "2018-03-07 2018-03-07  325.44  332.50  321.7400  332.30\n",
            "2018-03-06 2018-03-06  333.75  336.37  327.0300  328.20\n",
            "2018-03-05 2018-03-05  332.39  337.75  329.2929  333.35\n",
            "2018-03-02 2018-03-02  326.98  335.22  322.9700  335.12\n",
            "2018-03-01 2018-03-01  345.01  348.67  330.0700  330.93\n"
          ]
        },
        {
          "output_type": "stream",
          "name": "stderr",
          "text": [
            "/usr/local/lib/python3.7/dist-packages/ipykernel_launcher.py:2: FutureWarning: Indexing a DataFrame with a datetimelike index using a single string to slice the rows, like `frame[string]`, is deprecated and will be removed in a future version. Use `frame.loc[string]` instead.\n",
            "  \n"
          ]
        }
      ]
    },
    {
      "cell_type": "markdown",
      "source": [
        "> **시간 간격과 인덱스 - `TimedeltaIndex`**\n",
        "  - 주식 데이터에서 최초 5일간 수집된 데이터만 살펴보고 싶다면, 시간 간격을 인덱스로 지정하여 데이터를 추출"
      ],
      "metadata": {
        "id": "2WhuYzP-LRym"
      }
    },
    {
      "cell_type": "code",
      "source": [
        "# 1. Date 열에서 Date 열의 최솟값을 빼면 경과된 시간을 알 수 있다. \n",
        "# Date 열에서 Date 열의 최솟값을 밴 다음, ref_date 열로 추가\n",
        "tesla['ref_date'] = tesla['Date'] - tesla['Date'].min()\n",
        "print(tesla.head())"
      ],
      "metadata": {
        "colab": {
          "base_uri": "https://localhost:8080/"
        },
        "id": "nyssMz5jLMJm",
        "outputId": "974c8b14-98ac-481a-cad6-aa19d4969713"
      },
      "execution_count": 33,
      "outputs": [
        {
          "output_type": "stream",
          "name": "stdout",
          "text": [
            "                 Date    Open    High     Low   Close      Volume  ExDividend  \\\n",
            "Date                                                                            \n",
            "2018-03-27 2018-03-27  304.00  304.27  277.18  279.18  13696168.0         0.0   \n",
            "2018-03-26 2018-03-26  307.34  307.59  291.36  304.18   8324639.0         0.0   \n",
            "2018-03-23 2018-03-23  311.25  311.61  300.45  301.54   6600538.0         0.0   \n",
            "2018-03-22 2018-03-22  313.89  318.82  308.18  309.10   4914307.0         0.0   \n",
            "2018-03-21 2018-03-21  310.25  322.44  310.19  316.53   5927881.0         0.0   \n",
            "\n",
            "            SplitRatio  AdjOpen  AdjHigh  AdjLow  AdjClose   AdjVolume  \\\n",
            "Date                                                                     \n",
            "2018-03-27         1.0   304.00   304.27  277.18    279.18  13696168.0   \n",
            "2018-03-26         1.0   307.34   307.59  291.36    304.18   8324639.0   \n",
            "2018-03-23         1.0   311.25   311.61  300.45    301.54   6600538.0   \n",
            "2018-03-22         1.0   313.89   318.82  308.18    309.10   4914307.0   \n",
            "2018-03-21         1.0   310.25   322.44  310.19    316.53   5927881.0   \n",
            "\n",
            "           ref_date  \n",
            "Date                 \n",
            "2018-03-27 350 days  \n",
            "2018-03-26 349 days  \n",
            "2018-03-23 346 days  \n",
            "2018-03-22 345 days  \n",
            "2018-03-21 344 days  \n"
          ]
        }
      ]
    },
    {
      "cell_type": "code",
      "source": [
        "# 2. ref_date 열을 인덱스로 지정, 시간 간격을 이용해 데이터 추출 가능\n",
        "tesla.index = tesla['ref_date']\n",
        "print(tesla.iloc[:5, :5])"
      ],
      "metadata": {
        "colab": {
          "base_uri": "https://localhost:8080/"
        },
        "id": "86QXrlDnLzLu",
        "outputId": "54ce0096-404f-438a-9cc3-04159f21e0bd"
      },
      "execution_count": 34,
      "outputs": [
        {
          "output_type": "stream",
          "name": "stdout",
          "text": [
            "               Date    Open    High     Low   Close\n",
            "ref_date                                           \n",
            "350 days 2018-03-27  304.00  304.27  277.18  279.18\n",
            "349 days 2018-03-26  307.34  307.59  291.36  304.18\n",
            "346 days 2018-03-23  311.25  311.61  300.45  301.54\n",
            "345 days 2018-03-22  313.89  318.82  308.18  309.10\n",
            "344 days 2018-03-21  310.25  322.44  310.19  316.53\n"
          ]
        }
      ]
    },
    {
      "cell_type": "code",
      "source": [
        "# 3. 데이터를 수집한 이후 최초 5일의 데이터를 추출\n",
        "print(tesla['5 days':].iloc[:5, :5])      # 내림차순으로 정렬되어 있으므로, 5 days 이하인 열을 추출할 수 있음."
      ],
      "metadata": {
        "colab": {
          "base_uri": "https://localhost:8080/"
        },
        "id": "3zQRpTSoMEYr",
        "outputId": "cb57e5f3-0a6b-4289-cc3f-50e197f34530"
      },
      "execution_count": 35,
      "outputs": [
        {
          "output_type": "stream",
          "name": "stdout",
          "text": [
            "               Date    Open      High     Low   Close\n",
            "ref_date                                             \n",
            "2 days   2017-04-13  296.70  307.3900  295.30  304.00\n",
            "1 days   2017-04-12  306.34  308.4481  296.32  296.84\n",
            "0 days   2017-04-11  313.38  313.4700  305.50  308.71\n"
          ]
        }
      ]
    },
    {
      "cell_type": "markdown",
      "source": [
        "> 시간 범위와 인덱스\n",
        "  - 특정 일에 누락된 데이터도 포함시키려면, 임의로 시간 범위를 생성하여 인덱스로 지정"
      ],
      "metadata": {
        "id": "MNhzMWVZMhSA"
      }
    },
    {
      "cell_type": "code",
      "source": [
        "# 1. 에볼라 데이터 집합 사용\n",
        "ebola = pd.read_csv('/content/drive/MyDrive/Doit_판다스입문_소스.zip (Unzipped Files)/data/country_timeseries.csv',\n",
        "                    parse_dates=[0])\n",
        "print(ebola.iloc[:5, :5])             # 2015년 1월 1일 데이터 누락"
      ],
      "metadata": {
        "colab": {
          "base_uri": "https://localhost:8080/"
        },
        "id": "-9AjvV8aMOLX",
        "outputId": "9817fa88-e68d-49d2-85cd-aa23d1688b2b"
      },
      "execution_count": 43,
      "outputs": [
        {
          "output_type": "stream",
          "name": "stdout",
          "text": [
            "        Date  Day  Cases_Guinea  Cases_Liberia  Cases_SierraLeone\n",
            "0 2015-01-05  289        2776.0            NaN            10030.0\n",
            "1 2015-01-04  288        2775.0            NaN             9780.0\n",
            "2 2015-01-03  287        2769.0         8166.0             9722.0\n",
            "3 2015-01-02  286           NaN         8157.0                NaN\n",
            "4 2014-12-31  284        2730.0         8115.0             9633.0\n"
          ]
        }
      ]
    },
    {
      "cell_type": "code",
      "source": [
        "# 2. 뒤쪽의 데이터도 확인\n",
        "print(ebola.iloc[-5:, :5])            # 2014년 3월 23일 데이터 누락"
      ],
      "metadata": {
        "colab": {
          "base_uri": "https://localhost:8080/"
        },
        "id": "puLIY_CfNN3F",
        "outputId": "923a6524-9393-40ef-98c4-9eb4d034998a"
      },
      "execution_count": 44,
      "outputs": [
        {
          "output_type": "stream",
          "name": "stdout",
          "text": [
            "          Date  Day  Cases_Guinea  Cases_Liberia  Cases_SierraLeone\n",
            "117 2014-03-27    5         103.0            8.0                6.0\n",
            "118 2014-03-26    4          86.0            NaN                NaN\n",
            "119 2014-03-25    3          86.0            NaN                NaN\n",
            "120 2014-03-24    2          86.0            NaN                NaN\n",
            "121 2014-03-22    0          49.0            NaN                NaN\n"
          ]
        }
      ]
    },
    {
      "cell_type": "code",
      "source": [
        "# 3. date_range 메서드를 사용하여 2014년 12월 31일부터 2015년 01월 05일 사이의 시간 인덱스 생성\n",
        "head_range = pd.date_range(start='2014-12-31', end='2015-01-05')\n",
        "print(head_range)"
      ],
      "metadata": {
        "colab": {
          "base_uri": "https://localhost:8080/"
        },
        "id": "XLkBXafJRaox",
        "outputId": "49b256eb-544f-4d84-eed2-268952f86a45"
      },
      "execution_count": 45,
      "outputs": [
        {
          "output_type": "stream",
          "name": "stdout",
          "text": [
            "DatetimeIndex(['2014-12-31', '2015-01-01', '2015-01-02', '2015-01-03',\n",
            "               '2015-01-04', '2015-01-05'],\n",
            "              dtype='datetime64[ns]', freq='D')\n"
          ]
        }
      ]
    },
    {
      "cell_type": "code",
      "source": [
        "# 4. Date 열을 인덱스로 먼저 지정한 다음, 3에서 생성한 시간 범위를 인덱스로 지정\n",
        "ebola_5 = ebola.head()\n",
        "ebola_5.index = ebola_5['Date']\n",
        "ebola_5.reindex(head_range)\n",
        "print(ebola_5.iloc[:5, :5])"
      ],
      "metadata": {
        "colab": {
          "base_uri": "https://localhost:8080/"
        },
        "id": "AtypC1BlRuRq",
        "outputId": "34281804-d5e4-4da0-c90f-c1b0fe43c044"
      },
      "execution_count": 47,
      "outputs": [
        {
          "output_type": "stream",
          "name": "stdout",
          "text": [
            "                 Date  Day  Cases_Guinea  Cases_Liberia  Cases_SierraLeone\n",
            "Date                                                                      \n",
            "2015-01-05 2015-01-05  289        2776.0            NaN            10030.0\n",
            "2015-01-04 2015-01-04  288        2775.0            NaN             9780.0\n",
            "2015-01-03 2015-01-03  287        2769.0         8166.0             9722.0\n",
            "2015-01-02 2015-01-02  286           NaN         8157.0                NaN\n",
            "2014-12-31 2014-12-31  284        2730.0         8115.0             9633.0\n"
          ]
        }
      ]
    },
    {
      "cell_type": "markdown",
      "source": [
        "> **시간 범위의 주기 설정하기**"
      ],
      "metadata": {
        "id": "5b5EMSjMS4h9"
      }
    },
    {
      "cell_type": "markdown",
      "source": [
        "\n",
        "    - 시간 범위를 인덱스로 지정하면 DatetimeIndex 자료형이 만들어집니다. 그리고 DatetimeIndex에는 freq 속성이 포함되어 있죠. freq 속성값을 지정하면 시간 간격을 조절하여 DatetimeIndex를 만들 수 있습니다. \n",
        "\n",
        "    - freq 속성값으로 사용할 수 있는 시간 주기\n",
        "        - B : 평일만 포함\n",
        "        - C : 사용자가 정의한 평일만 포함\n",
        "        - D : 달력 일자 단위\n",
        "        - W : 주간 단위\n",
        "        - M : 월 마지막 날만 포함\n",
        "        - SM : 15일과 월 마지막 날만 포함\n",
        "        - BM : M 주기의 값이 휴일이면 제외, 평일이면 포함\n",
        "    - 이 밖에도 다양한 속성값을 지정할 수 있으니, 필요에 따라 활용하면 된다. "
      ],
      "metadata": {
        "id": "Q3lypR4UTWAm"
      }
    }
  ]
}
