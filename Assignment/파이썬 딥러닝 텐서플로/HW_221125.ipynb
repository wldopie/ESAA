{
  "nbformat": 4,
  "nbformat_minor": 0,
  "metadata": {
    "colab": {
      "provenance": [],
      "authorship_tag": "ABX9TyPNu5N875fjihAtjdVXiJu8",
      "include_colab_link": true
    },
    "kernelspec": {
      "name": "python3",
      "display_name": "Python 3"
    },
    "language_info": {
      "name": "python"
    }
  },
  "cells": [
    {
      "cell_type": "markdown",
      "metadata": {
        "id": "view-in-github",
        "colab_type": "text"
      },
      "source": [
        "<a href=\"https://colab.research.google.com/github/wldopie/ESAA/blob/main/HW_221125.ipynb\" target=\"_parent\"><img src=\"https://colab.research.google.com/assets/colab-badge.svg\" alt=\"Open In Colab\"/></a>"
      ]
    },
    {
      "cell_type": "markdown",
      "source": [
        "# **Chap 3. 케라스 (Keras)**\n",
        "\n",
        "---\n",
        "\n",
        "\n"
      ],
      "metadata": {
        "id": "sJII4pnau-CJ"
      }
    },
    {
      "cell_type": "markdown",
      "source": [
        "## **1. 딥러닝 준비**"
      ],
      "metadata": {
        "id": "Hk4Ve2ztvDhZ"
      }
    },
    {
      "cell_type": "markdown",
      "source": [
        "### **1.1 주요 용어**"
      ],
      "metadata": {
        "id": "Bb60-tYFvPYq"
      }
    },
    {
      "cell_type": "markdown",
      "source": [
        "> 하이퍼파라미터 (hyper-parameter)"
      ],
      "metadata": {
        "id": "2NOi0RU_vcMb"
      }
    },
    {
      "cell_type": "markdown",
      "source": [
        "  - `하이퍼파라미터`\n",
        "    - 머신러닝 모델을 훈련할 때 사용자가 직접 설정해주는 설정 값\n",
        "    - 학습 속도, 반복 훈련 횟수 등\n",
        "\n",
        "  - 하이퍼 파라미터 튜닝\n",
        "    - 하이퍼파라미터의 값을 조절하는 행위"
      ],
      "metadata": {
        "id": "68AZxlJLzGOt"
      }
    },
    {
      "cell_type": "markdown",
      "source": [
        "> 과소적합 vs. 과대적합 (underfitting vs. overfitting)"
      ],
      "metadata": {
        "id": "tVti5QHRvfnv"
      }
    },
    {
      "cell_type": "markdown",
      "source": [
        "  - `과소적합` (underfitting)\n",
        "    - 모델이 `충분히 학습되지 않은` 경우\n",
        "\n",
        "  - `과대적합` (overfitting)\n",
        "    - 학습 데이터를 `지나치게 반복 학습하여 과하게 적합`된 상태\n",
        "    - 이 경우 훈련 데이터에 존재하는 불필요한 노이즈까지 과도하게 모델에 반영되어 주어진 훈련 데이터에 대한 예측 성능은 좋지만, 정작 예측 데이터에 대한 예측 오차가 발생할 확률이 커진다.\n",
        "\n",
        "  - 해결 방법\n",
        "    1. 훈련 데이터와 예측 데이터의 분포가 동일하도록 구성한다.\n",
        "    2. 불필요한 노이즈는 데이터 분석 및 전처리를 통해 해소한다.\n",
        "    3. 훈련 데이터의 일부를 검증 데이터로 사용해 검증 성능이 가장 좋은 구간을 모델의 가장 이상적인 학습된 지점이라 판단하여 최종 모델을 결정한다."
      ],
      "metadata": {
        "id": "Tt3L34JjzHLA"
      }
    },
    {
      "cell_type": "markdown",
      "source": [
        "> 에포크 (epoch)"
      ],
      "metadata": {
        "id": "9Bmfv4B2vkrQ"
      }
    },
    {
      "cell_type": "markdown",
      "source": [
        "  - 딥러닝은 데이터셋을 학습하는 과정을 여러 번 반복하면서 최적의 모델 가중치를 찾는 과정이다.\n",
        "  - 에포크 (epoch)\n",
        "    - 딥러닝 모델이 반복 훈련을 할 때 데이터셋을 전부 학습에 사용하는 1회의 훈련 루프"
      ],
      "metadata": {
        "id": "P2Qpxffh0Da1"
      }
    },
    {
      "cell_type": "markdown",
      "source": [
        "> 손실함수 (loss function)"
      ],
      "metadata": {
        "id": "XZrSVI46vmiq"
      }
    },
    {
      "cell_type": "markdown",
      "source": [
        "  - 손실함수\n",
        "    - 예측 값과 정답 값의 차이 또는 오차\n",
        "\n",
        "  - 지도 학습의 `분류`\n",
        "    - `이진 분류` (binary classification) : `binary_crossentropy` 손실함수를 사용, 출력층의 `활성화 함수`는 `sigmoid`\n",
        "    - `다중 분류` (multi-class classification)\n",
        "      1. 정답 클래스가 `원핫 벡터`인 경우\n",
        "        - `categorical_crossentropy` 손실함수를 사용\n",
        "      2. 정답 클래스가 `원핫 벡터가 아닌` 경우\n",
        "        - `sparse_categorical_crossentropy` 손실함수를 사용\n",
        "      - 두 경우 모두 출력층의 `활성함수`로 `softmax`를 사용\n",
        "\n",
        "  - 지도 학습의 `회귀`\n",
        "    - MSE, MAE, Huber 등\n"
      ],
      "metadata": {
        "id": "dI1iLNmA0Rja"
      }
    },
    {
      "cell_type": "code",
      "source": [
        "# 예시\n",
        "import tensorflow as tf\n",
        "\n",
        "# 클래스\n",
        "tf.keras.losses.BinaryCrossentropy()\n",
        "\n",
        "# 함수\n",
        "tf.keras.losses.binary_crossentropy"
      ],
      "metadata": {
        "colab": {
          "base_uri": "https://localhost:8080/"
        },
        "id": "VBS-bDoFvpXe",
        "outputId": "08704823-4900-493c-d506-10b0eb1fa54f"
      },
      "execution_count": 3,
      "outputs": [
        {
          "output_type": "execute_result",
          "data": {
            "text/plain": [
              "<function keras.losses.binary_crossentropy(y_true, y_pred, from_logits=False, label_smoothing=0.0, axis=-1)>"
            ]
          },
          "metadata": {},
          "execution_count": 3
        }
      ]
    },
    {
      "cell_type": "markdown",
      "source": [
        "> 경사하강법 (gradient descent)"
      ],
      "metadata": {
        "id": "kvOeG-rtvqSH"
      }
    },
    {
      "cell_type": "markdown",
      "source": [
        "  - 경사하강법\n",
        "    - 딥러닝 모델을 훈련할 때, 모델 내부의 가중치에 대한 미분 값을 구하고 목적 함수 값이 낮아지는 방향으로 차감하면서 결국 최소 함수 값을 갖도록 하는 방법"
      ],
      "metadata": {
        "id": "Kar0kQ9_2DeC"
      }
    },
    {
      "cell_type": "markdown",
      "source": [
        "  - 넘파이를 활용한 경사하강법 구현\n",
        "    1. 손실함수 혹은 목적 함수 정의\n",
        "\n",
        "    ![image.png](data:image/png;base64,iVBORw0KGgoAAAANSUhEUgAAAMMAAABKCAYAAAAGwOC6AAAZw0lEQVR4nO2deXAU953oP33MjGYkoWMGHTYCiRsEhEMcNjjGGBvWx67Xa1x5Zb/aOCbOujaPxMfzEVcMVSknVd44CbEh2bWd2JuwyR44y2GI4wM/Y0w4TDAgcR/SCgkJCWl0z0x3/94fM7+mZ5gRiAiDU/2pGkto+vr9+nv/vt1WhBACFxcX1Kt9AS4u1wquMri4JHCVwcUlgasMLi4JXGVwcUngKoOLSwJXGVxcErjK4OKSwFUGF5cErjK4uCRwlcHFJYGrDC4uCVxlcHFJ4CqDi0sC/WpfwBcZy7KwLAtN0xBCYFkWqqqiqiqmaaKqKoqiJO0jhMA0TQAURUFVB26PLMuyj5v60+XycZVhgJimmSTEuq4TiUTweDy2QFqWlXF/y7LQdR3DMOzjCSEGJMyKoiAfQ5E/NU27rPG4nMdVhgEihdY0TSzLQgiBx+Oxv1MUBcMw+hVupyBLxRqIMsj9DcNA07TL8i4uF+Iqw2VgGAa6rqPruu0pZJhkWRZer7df7yC9gTwWDCzMcYZGQogBexaX9CjuY58DQ06X9AoA4XCYWCxGQUEBuq7b3+u6njZnaGpqYtOmTbS0tAAMyDMYhoGqqvj9fhYuXEh5eTmaptneyeXyGVTP4EzsnDqmqqptwb7oLt2pDKqqUl1dzapVqxg2bBhPP/20baU1TUsr4JZp0X6ujbfWrqXm4EFUVSVYEGTUqFHoHg2EwCJu9dN5l97eXk6fPk0kEqGiooJx48b1q0jynsifsVgMVVVtpZVcLc+SKhfpxiy3icVi+Hw+IH69skgh/+2UP1VV7X+nymImBk0ZZIVEWi5n6CB/13X9C+/SnZOrKAqjRo1izpw5NDc320pgmmbGhNayLMquK+O2227j8JEjGIZBbk4OX/37v2fqtKmImIXq0bGwUNQL5ykSibBnzx5Wr15tV61SBVueR3ovOd+dnZ3s2rWLqqoqhgwZghDimkm8nYUEKTNyfKZpEovF2L59OxMmTKC0tNQen67rSdvJ6p70lDKMvRSZG1QzLQVeaqX8XSZ5hmHYSvNFRV6/nGy/309xcTF+vx9IH0Y58age/AE/Sx/+Oku/9jVy/TnU1p7i56tX09HZScHQIIXBAkLBIAUFBRQUFFBYWGh/ioqKmD17NiUlJbZ1zIQUKMuyaG9v54033iAYDBIIBGyFlcJyNXFegxyTMxfyer34/X6uv/56fvOb3yQZHmnpm5ubWbt2LS+++CKvvfYabW1tdkQCXLSoAaCtWLFixWAMSF64HIxTw6Ub/EsoA6ZWk1RV5cSJE5w9e5aZM2faXlF+l3oDTMtEGPH5GDNmNC0tLRw9doyWc620NjczZfKXyM7JRlM1VE211y2kUXFa+4qKCkpKSpKuy4lzHWTjxo34fD4WLlxoC5C8H9dC6CrnzJmHtbS0kJ2dbY8tPz8f0zTZvXs3o0ePxufz2eHTp59+Sn5+PqWlpbz11lv4fD7Gjx+fFLZnCl0lgxYmKYrCzp07qaurs62mZVkEAgFuv/12WzOvhYn/c5AWS9d1YrGY7e1SvUCmSVcsUDUVBSgqLuGxJ5+gLxrhnc2/Z/Pv3wFV4bnnvkswGARx/pxy3lRVZciQIdx///1AXCnTJc/O3KWmpobq6mqWLVtme2zJ1b4fznK0FNbjx4/zwx/+kI6ODr73ve8xevRoALxeL9OnT2fPnj1UV1czd+5cDMPAsiymTp1KXl4e0WiUP/7xjxw4cID77rsv6X5djEGdiWAwSCwW48UXX2T58uUcPnyY4uLiJM/gLAc6PxJnDX4wPplwfn+xgppzOxl2yFhderl0HiN1HPENIWYaKKhoaAwtKOTb3/oWc2+ch6KrvP/+B/x2zW/o7uxI2tcwjKSY2hkf91fGNQyDLVu2cMMNN5CXl4eu60lJdTQaveR5u9S5Tbdtpn2cK/KGYXDq1ClWr15NTk4OoVCITZs22QIvhCAQCDB16lS2bNlCT08PEFeS3NzcpNxhxowZdoJ9sTmSDJoyWJbF6NGjWbJkCcOGDcPn87FkyRKmT59u1+S9Xm9SAupMeuSkSNduWZZtdZ1/c27rtMoyWZfHlMKT6Vqdx+/v49xeHl8izyldtbRyMlSU1yb3jcViqIqGV/eiKioKCrrmY0RZBU899TSTJ04kEo3wL6//M2/86l+JRCJJCiCVTNd1PB6PnZOls+5ynmtra9m3bx8TJ060FVeOQyq3cy7lvGQSHqciyvuQbp6d3zvnMN11apqGpmn09PSwbds2Fi9ezIoVK1ixYgXBYJDW1lZ7Xj0eD5WVldTW1lJdXX2B5a+vrycYDDJ//vwLznsxhRg0ZZDJmK7r+Hw+vF4vXq837bbS0jlvohQm5wQ7qwCpv8P5wTlbJDLF6hLnzbYsi0gkYitO6kdu6yxzOo9vWRYnT57k448/5rPPPmPLli32saWQOmP8TNZRUQSjR4/iyaeeZtKEifT2Rliz5t/YtGlTxh6niyEF/eOPP0YIQUlJSZJCyW3gfKgkx3QpOZ28T86YPN38OZP0dGNwGhS/38/ixYtZuHAhOTk5FBYWcs8995CTk5N07woLCxk6dCh/+MMfiMViSYbw8OHDLFiwgOzs7CQvmMloOBnUnMGZIGcq+Tm3dzasycqAs4qgaRrRaDSpdgznJ0U2yGmaRiwWs0tqmSo58lyHDh3iwIEDdoyaqpiS3NxcFixYYFtgiFeRnN5o1KhRrFixwr4W5zXKMRiGYa9aC1OgkCIUiorAZPb0WTzxxFOsWP48/9NQz8svv2znXE6vc6lYlsWuXbsoKytLyuOklzp37hyhUMgeU319PaWlpRcVGqf3y6zgySVoiIdBqQbSOR4pNy0tLYRCIVuYOzs77WqdFOzKyko2b95MV1cXoVCIcDjMjh07KCkpYcKECXR0dKBpGtnZ2UnX19/8DXr25DxZf2GKHJT0Ep2dnZw7d45IJGJb1Gg0asflcptwOExPT0+SgPb29tLZ2Ul7ezs9PT1JizHp6Onp4cyZM5w+fZqGhgaam5s5c+bMBZ+zZ88mtUvI8CC1UU4KmlQIp7VLVbQLFAEQJHIRYVJVNY1vP/EYRaEQDQ0NvPTSS+zZsyfpmJd6H3p7e2loaGDo0KFJFlvXddatW8eTTz7Jli1bAGhtbWXlypXs3bs3afHqgmtNeIRoNGrfJ3ld6T5ykS+Tx5HjMQyDtrY2Vq1axfLly2lsbEQIwd69e1m5ciXt7e22wVQUhfz8fBobG+nr6yMWi7FhwwY2bdrEsWPHeOONN3j11Vc5d+5ckkJezJAMmmdwxmPORDMdzjLr4cOH2bFjB7FYjN7eXiKRCPPmzaOqqsq2Iu3t7axbt46mpiZbKZYtW0ZRUREnT55k8+bNmKZJe3s7paWlPPTQQxldvRCCmTNn2mVQKWSZSpPO5CsSibB37147FJKexSmkzhCuuLiYiooK23uZpomGdoFCaGgYloGiqXjwsOj224lEo/zTD/+JhoYGXnnlFb7//e/bZdRLpaenh66uLoLBYFLYGY1G6evrIxgMsnbtWqZNm0ZOTg55eXkcOnSImTNnZjQoQgjq6upobGy0e7P6C6tUVWXy5Ml2npMJr9dLfX09o0ePZtu2bWzcuJFHHnmE4uJizpw5Q0dHBwUFBfY8FxUVEYvFaG9vJzs72z5PT08PlmUxceJEQqFQfH4dRurzKa1aFjoaGKCaCligWUAszcaWhVDgwP4DrPzxj7n7r/+auXPnYVoma3+3lhdeeIGn/+9T3HTTl7GExQfvvsf2T7bz3HeeRQj4xeuvU1dbR0lRCa+/9joFQ/J4aOnDNDU38eabb9La2kpxcXHam+RMRlNXO1ORkyeVpru7m/fee4+urq4LwgBZsnR6j1mzZjFy5Eg7HNR1HcXM4Bk0Nb7qrCgoQjB10iRKS0vp7e1l3Lhx9g0fCFKJZY+UMxmvqKhg0qRJLFu2jAMHDrBgwQK+/OUvc+rUqX7zBsuyqKmpYfv27f3mGFLo/H4/5eXl8VLxRa7V5/Nx4403cvz4cbZu2cr99y7hutLrmFo5GcUAxQRFARSVLK8XEvNcWFjIAw88cIGwpwvV+mPwlMH+rwKaAmr6kCA+FpWeri5W/3w1qqpw8803k1eQDwKW3HcfW//fR7z8k58wqXIyubm51NWeorOjA1Apu34Y3/zHZRimgYZCzb79zJo9hyx/FuPHj2fZsmUEAgGAtJZAxqCdnZ1J26TzYpqmUVpaanu6goICnnnmGXu/WCyGx+NJiptTzyf3tcMqLswZRGJBQTXji3J1dXWsfPkVTp8+zVe/+lWWLl2K3++/5BBJntfv92NZFh0dHUmhihCCUCjEiBEjGDFiBLt27eLWW2+loKCA7u7ufteDdF3njjvu4M4770xKnlNxhpWpypi6nZwfTdPIz89n4cKF7PpkJydOHGPKl6Zx3bBheH0eQGApoKHQHu5A0zxkZWVdUFhJPf6lcmVauNULfrERxG9+S3Mzn+7czV/dvoiC/EJ7gSlLz2Ls+HG89+67HDx8kDmz5jBuYiXr1m9kxfLn+drSpVRVVaErOjHTZHrVDDb//m1iwuCBBx6gvLw8qTcq3eTv3LmT9evXJ1nydMl+KBTi8ccft1c65XFldcQZQknhcVa2ZNLsrEApimKP1YklLGJGlP0H9rPypytpaWrmySef5I477kh6cOhSURSFQCBAYWEhbW1t9rUAZGVlxRsDdZ3Zs2ezc+dOTNMkHA5TVlYWv0/9hBQy5JMJcX/NdakNeKlK5swvRo4ciaqqjBo1irxgHgeqDzB2/Di8Xh+BQDaKAEUITCueZAcCAYYkKk2DwZVRBhOwwCRNziDiE9DQ2EgsFsEX8COwICEo/kCAUGEIYVqE28JoqNw872aaHmrizV/+kuXLl/Pwww9z39/ci+718g//8ChCgfXr11NTU8Ozzz7LtGnT7GpTKqqqMm/ePGbNmmXHxZluvCwTSyGW4Y9UCCkUbW1tCCHIy8uzrbEzDJO1fEVR0npLFRXLNPjkk2386Mc/QlVVnvvOc8y5aa4twM7q26Ugzz9+/HgaGhqSHkWFuEJYlsW4cePYuHEj4XCY7u5upkyZ0u+cOOfRaQwyWeXUNpL+jieVoqCggBHDyzlZW0dfTy8FeXn4s/2omgeEgYngdP3/cN2w68jKyrrkObkYV0AZDIQVg34WY44eO4pQQNU0wh3tWEKgqHH3ZwqTnr4ePD4vRUUhTGEhhMn/uv8rjBszhp+tXsWql19hyuTJlA8fTmFBkMcfe4LRY8bwi1/8gp/97Ge88MILhEKhjHmAz+e7QGjTeQbnQpoUxGg0alvqtrY2du7cyaFDhzhy5Ahz587lnnvusb939sLYybqwUFM8ZndXF2+/8zY//+efM3z4CJ547NuMGz/BFiJneHOpyLr69OnT+e1vf0s4HLZ7e6RHhHjXgMfjYf/+/aiqSnZ2dsYWDzl/8qfT+qcqg1PxZOUpU+glFUoaF1VVKRs+jL1/+hPHT50iPy8fr+7FFAYqGpHebmpqDjJ96nQCWdmXPCcXY9BKqyYKZjwFJBI1MCyLvu5eBAITE8s0MDFpD7fzy399g/z8fCZMrOTAgQO0tLagoiKAnt4eamtrGTlyJCNHj6a5pYl1b28AATfMvoFHvv4NTNPg1MmTfLh1Kzs/3cmQ7CHce++9fOUrX6G+vp6mpqak5CkVWaKTq+IylEn9eDweW4hlidfr9drHbWtrY/jw4SxdupS7776b9evX09jYmLQ67LSOAIrDW1pY9PX18PovX2PlT39KVdVMvvud7zKhchKqY7XYaYFlWBeLxSsTsvSbihTUqqoqAoEAdXV1tpeSPzVNIy8vj0AgwNGjRykpKcHr9fZbCUxdBHWO0/lxNhg6t0mHcxFT3p/CggK6e3s5dfIE1w8vi8+cEKBY1NXV0tHWzvyb56MM4uLAICbQCuG2dhoaGmhtaSXcHuZ3G37H7X23EfD7EYpCV7iTdRvWoVgWFWXD+cYjX2fVqlWsWfNr7vvbJXizvOz+dBedbWEee+IJgvmFNDQ28uGHHzKsuIRJkybT3ddLUXER5eUV1NefZu2//yeFBYUUhgrp6upi7NixlJSUYBhGWuuWyZ1nqp6kJpNypVNRFIYPH27/e+TIkXi9Xju/kPs6hSdu3S2iRnwhsam5iTVrfs2G9eu58667WPrwUoIFQXs+FfX8uZ3XIITg7NmzHD9+nBkzZgCk9WxCCEpLS7n11lv56KOPGDNmjF2udiaukUiEEydOcO+999prI+m6B5zzdLEcJmlt5RLyndQcz+vzUVtbi9fnI1gYRCgCTVGIRmPs2rubOXNvjOcYyuB1QA9qmHTi+BEOHD7ELfPnY2CiWILP9vwJNSteBuvs6sbj8bJ40SKys3OZOWM2zz41hPc/+IC1//UfBPJy8aoaTz/zDGPHjwMF8vNyWbhgAdt37mL/wRqEKfjWsscYM2YswVCImpr9/O6/36IwGMTv9/PNb36T/Pz8fhd6/hxkYix/lwJy6NAh5syZY4dnGXt7EmXUulO1/GTlSvbu2cujjz7KosV/RcGQAsd2FoqVvn0BYNu2baxZs4ZXX33Vfvor9Tqj0SiaprF48WJ+8IMfcOzYMSorKwFsb6PrOn6/n7vvvpshQ4YkKclAk/bLxZmP2c+UAxUjRjDvxrmoKiAEhiloa2/nUE0NDz74v9E1FXFNegYBE780hQmVk+JPaCkgUNDRiJhRdE0HAYqw0D0+LEWQHQgwaVIlEyZW0tfbjaLp6B6dgD9eGjUtE78/h7/72yV09XUhDIHX48Wf5UNVNYpCRfzjo/+Hnu5u1Kx4GOP3+y+rdWFAY3V4CyEEjY2NtLW18eCDDybF45nmqbq6mpde+hHNjY089vi3uX3xonioZpqYloFQFXRVt0uuTmRrx9GjR+nr68s4RmdfUF5eHosWLWLTpk2Ul5eTm5trh4LNzc3Mnz+fOXPm2G0ul9LuPJg48wupxO3t7TzyjW9QXFQEqooiFKKRHja8vYFpU6czcuRIEGraytzlMmijFsLAp/uwPImauUxHTAvV60fWURQhEEJFKAKBwOfzYyHwZnlRLAHEFcky4xUmS1h4dI2cnBw0NGJGDDQVU8QzFJ/Ph9fjQXjO5wjyRmdqFPxzkBZMVqtM02Tfvn12bC4T3UwCZZgxfvWrX7N9+3YW3nILrWeb+a//+M94bhWL4fH6EplXfIypRKNRWlpaeOedd5JCnlRSK1k33XQTlmXx/vvvs2jRIrKysjBNkzNnznDXXXfZCi4fzb1Yh+dgItttpAE7ffo0xUOHMmPaDBRFAxT6In18+PGH5GQHuPvOu/B6fHFFUAZPGwZNGVTVg2GZqCK+qEZicUloCpqiYJgGHs2LiYHAQlM0LCwsIRDCRFN1TGGiKiqWsNA0EAmFshSBjo5hJer2Ir6/piX+pulYIrl94Eq6eplch8Nh1qxZw/Dhw8nKyqKmpgbTNJk8eXI/3aYqbeE2DMvgw21b+eCjD9H1+MIdCmgCDEugqqQrTAPnk+bS0tKM43NWsSCeU9xyyy2cPn2avr4+otEon3zyCZWVlZSVldlVoavxEJbMuyKRCOFwmH379nHTvJvIDuQkIox4aFlZWUlxqAiPz4Oixg2lNojtdYPnD3UFPc3h5K3y6HErpjm20ZDx/PkbFv9X+gF68KTsd/5v6c59pZCCUl1dzbFjxwiHw3z22WcA3Hbbbf0m5KgwduxYurq6UFXV7rYdSNlUKmMwGOx3X3s+HRWkgwcPUl1dTVZWFrNmzWLcuHFJ13o1nnxrbm7m3Xffpb6+npKSEhYvXkxoaMh+IYKCQpaeRUVFRdJ+meTkcnFfIjZAnII3depUpkyZkvR3uUjnfIzRiaZpLF26NKk58HLWD2RynJ09sDp7Q0MDkUiEO++8kzFjxiSFU1eL3t5e6urqKCsrY+HChQwdOvRzS96duC8RGyCp6xAyvnZWkOTzFenaKFJXYgfSSAbnrXwsFrNbIS4l4ZXJsTyX8xrlca8GsiXcuYAnc67PWyFcZRggzhVY2ZIha+RSKZzvQM3UGu58LqK/BcJUUp8lh0t724jzOQvnvunWMT5PhBD2cyvOCt3VuB43TBog/VVZnIKVSbidzwzLnGEgVS/nM8XOHqmL4VRKpwW+EmsxA8XZ1Sqv72qEbq5nGCDOsCa1WpX6nfw93f6ZjuHcTnoYZ0tGOgEZSDiRqd36apFuziRumORi4+xHcirF1RTev2S+2G/0+gtHJsoyaXaV4MriKsM1inTYra2tSSvrLlcOVxmuYU6ePMnzzz/P3r17k9rAXa4Mbs5wjeB8IZfsJ5INeWVlZeTm5toP5rjh0pXBVYZrBLmiDCStX2R8jtpl0HHDpGuA1Lq//D+I1tXV2Yt7/T0j4TI4uMpwDZD6qploNMrWrVt588032bFjh1tO/ZxwleEaIPWRzrq6OoqKiujt7aW9vd3++0BeL+kycFxluEaQ3ajybXfZ2dk0NzdTWVmZFD5dze7Sv3Tc3qRrAOdLimVIdOTIEXJzc8nLy0v73iaXwcc1M9cIztfpR6NRPvjgA6qqqojFYrS1tbnJ8+eAqwzXADIMkiXVxsZGmpqaKC8vZ/fu3QQCATs8cr3ClcNVhmsARVGSepBycnIYM2YMZ86cSXp1vpsvXFncRbdrALmW4Gxjbm1tRdM0hgwZYi+6wflE22XwcZXBxSWBa2JcXBK4yuDiksBVBheXBK4yuLgkcJXBxSWBqwwuLglcZXBxSeAqg4tLAlcZXFwSuMrg4pLg/wMBbcpzsG/fcAAAAABJRU5ErkJggg==)\n",
        "    2. 단순선형회귀 식에서 w, b를 구함\n",
        "$$ y = wx + b$$"
      ],
      "metadata": {
        "id": "9WPgB_4E3-gv"
      }
    },
    {
      "cell_type": "code",
      "source": [
        "import numpy as np\n",
        "import matplotlib.pyplot as plt\n",
        "\n",
        "# 샘플에 활용할 데이터셋 만들기\n",
        "def make_linear(w = 0.5, b = 0.8, size = 50, noise = 1.0):\n",
        "  x = np.random.rand(size)\n",
        "  y = w * x + b\n",
        "  noise = np.random.uniform(-abs(noise), abs(noise), size = y.shape)\n",
        "  yy = y + noise\n",
        "  plt.figure(figsize = (10, 7))\n",
        "  plt.plot(x, y, color = 'r', label = f'y = {w} * x + {b}')\n",
        "  plt.scatter(x, yy, label = 'data')\n",
        "  plt.legend(fontsize = 20)\n",
        "  plt.show()\n",
        "  print(f'w: {w}, b: {b}')\n",
        "  return x, yy\n",
        "\n",
        "x, y = make_linear(w = 0.3, b = 0.5, size = 100, noise = 0.01)"
      ],
      "metadata": {
        "colab": {
          "base_uri": "https://localhost:8080/",
          "height": 445
        },
        "id": "adRVRu8bvs2g",
        "outputId": "b4b4410a-cc0b-47ee-8d1a-0f6aa14efa7a"
      },
      "execution_count": 4,
      "outputs": [
        {
          "output_type": "display_data",
          "data": {
            "text/plain": [
              "<Figure size 720x504 with 1 Axes>"
            ],
            "image/png": "[encoded data removed]"
          },
          "metadata": {
            "needs_background": "light"
          }
        },
        {
          "output_type": "stream",
          "name": "stdout",
          "text": [
            "w: 0.3, b: 0.5\n"
          ]
        }
      ]
    },
    {
      "cell_type": "markdown",
      "source": [
        "  - 위의 그림을 통해 실제 생성된 y 데이터는 약간의 노이즈를 가짐을 알 수 있다.\n",
        "  - 이제 w, b에 대한 그래디언트를 구하는 부분을 구현해보자.\n",
        "    1. w를 업데이트하는 수식\n",
        "  \n",
        "  ![image.png](data:image/png;base64,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)\n",
        "    2. b를 업데이트하는 최종 수식\n",
        "\n",
        "  ![image.png](data:image/png;base64,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)"
      ],
      "metadata": {
        "id": "hV7s76da5Jo1"
      }
    },
    {
      "cell_type": "markdown",
      "source": [
        "  - 그래디언트 w, b를 업데이트하는 수식을 구했으니, 넘파이로 최적하는 과정을 구현해 보자."
      ],
      "metadata": {
        "id": "_Oj8DF5K6Gy2"
      }
    },
    {
      "cell_type": "code",
      "source": [
        "# 최대 반복 횟수\n",
        "num_epoch = 1000\n",
        "\n",
        "# 학습률 (learning_rate)\n",
        "learning_rate = 0.005\n",
        "\n",
        "# 에러 기록\n",
        "errors = []\n",
        "\n",
        "# random한 값으로 w, b를 초기화\n",
        "w = np.random.uniform(low = 0.0, high = 1.0)\n",
        "b = np.random.uniform(low = 0.0, high = 1.0)\n",
        "\n",
        "for epoch in range(num_epoch):\n",
        "  # Hypothesis 정의\n",
        "  y_hat = w * x + b\n",
        "\n",
        "  # Loss function 정의\n",
        "  error = 0.5 * ((y_hat - y)**2).sum()\n",
        "  if error < 0.005:\n",
        "    break\n",
        "  # Gradient 미분 계산\n",
        "  w = w - learning_rate * ((y_hat - y) * x).sum()\n",
        "  b = b - learning_rate * (y_hat - y).sum()\n",
        "\n",
        "  errors.append(error)\n",
        "\n",
        "  if epoch % 5 == 0:\n",
        "    print('{0:2} w = {1:.5f}, b = {2:.5f}, error = {3:.5f}'.format(epoch, w, b, error))\n",
        "\n",
        "print('----' * 15)\n",
        "print('{0:2} w = {1:.1f}, b = {2:.1f}, error = {3:.5f}'.format(epoch, w, b, error))"
      ],
      "metadata": {
        "colab": {
          "base_uri": "https://localhost:8080/"
        },
        "id": "77q-j_sA6FIP",
        "outputId": "c8923390-00ab-4da6-8e94-a2b70515c8c2"
      },
      "execution_count": 5,
      "outputs": [
        {
          "output_type": "stream",
          "name": "stdout",
          "text": [
            " 0 w = 0.13264, b = 0.44812, error = 6.23838\n",
            " 5 w = 0.20563, b = 0.54622, error = 0.04669\n",
            "10 w = 0.22201, b = 0.53914, error = 0.03283\n",
            "15 w = 0.23529, b = 0.53250, error = 0.02349\n",
            "20 w = 0.24637, b = 0.52696, error = 0.01699\n",
            "25 w = 0.25561, b = 0.52233, error = 0.01247\n",
            "30 w = 0.26331, b = 0.51848, error = 0.00932\n",
            "35 w = 0.26974, b = 0.51526, error = 0.00714\n",
            "40 w = 0.27510, b = 0.51258, error = 0.00562\n",
            "------------------------------------------------------------\n",
            "43 w = 0.3, b = 0.5, error = 0.00494\n"
          ]
        }
      ]
    },
    {
      "cell_type": "code",
      "source": [
        "plt.figure(figsize = (10, 7))\n",
        "plt.plot(errors)\n",
        "plt.xlabel('Epochs')\n",
        "plt.ylabel('Error')\n",
        "plt.show()"
      ],
      "metadata": {
        "colab": {
          "base_uri": "https://localhost:8080/",
          "height": 442
        },
        "id": "ETIgA7qu7H0_",
        "outputId": "237bbb50-4d0f-4b65-a8a3-ef7dfd6b4c7c"
      },
      "execution_count": 6,
      "outputs": [
        {
          "output_type": "display_data",
          "data": {
            "text/plain": [
              "<Figure size 720x504 with 1 Axes>"
            ],
            "image/png": "[encoded data removed]"
          },
          "metadata": {
            "needs_background": "light"
          }
        }
      ]
    },
    {
      "cell_type": "markdown",
      "source": [
        "### **1.2 딥러닝 프로세스**"
      ],
      "metadata": {
        "id": "VCu6GUsCvvXp"
      }
    },
    {
      "cell_type": "markdown",
      "source": [
        "  - 딥러닝 모델 구축 및 훈련 프로세스\n",
        "![image.png](data:image/png;base64,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)"
      ],
      "metadata": {
        "id": "Uz-PHo617ZdV"
      }
    },
    {
      "cell_type": "markdown",
      "source": [
        "> 데이터 전처리"
      ],
      "metadata": {
        "id": "b7OzS0JXvzI1"
      }
    },
    {
      "cell_type": "markdown",
      "source": [
        "  - 데이터를 모델에 주입하기 전, 데이터를 가공하는 단계\n",
        "  - 배열의 차원을 변경하거나 스케일을 조정"
      ],
      "metadata": {
        "id": "lKxN9n78tr9Z"
      }
    },
    {
      "cell_type": "markdown",
      "source": [
        "> 모델 생성"
      ],
      "metadata": {
        "id": "D95LnH6nv0uM"
      }
    },
    {
      "cell_type": "markdown",
      "source": [
        "  - 모델의 구조를 정의하고 생성하는 단계\n",
        "  - 모델 생성의 3가지 방법\n",
        "    1. 순차적인 구조의 모델 : Sequential API로 구현\n",
        "    2. 다중 입력 및 출력을 가지고 복잡한 구조를 갖는 모델 : Functional API 또는 Model Subclassing 방법으로 구현"
      ],
      "metadata": {
        "id": "iheOluGnt1RX"
      }
    },
    {
      "cell_type": "markdown",
      "source": [
        "> 모델 컴파일"
      ],
      "metadata": {
        "id": "iXm4bDuxv2TV"
      }
    },
    {
      "cell_type": "markdown",
      "source": [
        "  - 생성된 모델 훈련에 사용할 `손실함수`(loss), `옵티마이저`(optimizer), `평가지표`(metrics) 등을 정의\n",
        "  - 모델 인스턴스에 `compile() 메소드`를 적용하고, 앞에서 열거한 `여러 가지 속성 값을 설정`"
      ],
      "metadata": {
        "id": "7opx_cu1uJp0"
      }
    },
    {
      "cell_type": "markdown",
      "source": [
        "> 모델 훈련"
      ],
      "metadata": {
        "id": "xnUwMM5Kv3OS"
      }
    },
    {
      "cell_type": "markdown",
      "source": [
        "  - 모델을 훈련하는 단계\n",
        "  - fit() 함수에 모델 훈련에 필요한 정보를 매개변수로 전달\n",
        "  - 훈련 데이터셋, 검증 데이터셋, epoch, 배치 크기 및 콜백 함수 등을 지정"
      ],
      "metadata": {
        "id": "6LxF4ziLut0k"
      }
    },
    {
      "cell_type": "markdown",
      "source": [
        "> 모델 검증"
      ],
      "metadata": {
        "id": "JjeGWVxIv4bY"
      }
    },
    {
      "cell_type": "markdown",
      "source": [
        "  - 훈련이 완료된 모델을 검증하는 단계\n",
        "  - 모델 훈련에 사용하지 않은 검증 데이터셋을 모델에 입력하고, 모델의 예측 값을 정답과 비교하여 평가지표를 계산한다.\n",
        "  - 반환된 검증 결과를 토대로 잠재적인 모델의 성능 평가가 이루어진다."
      ],
      "metadata": {
        "id": "lnlv7nT9u2I7"
      }
    },
    {
      "cell_type": "markdown",
      "source": [
        "> 모델 예측"
      ],
      "metadata": {
        "id": "odFwWVyNv5Uy"
      }
    },
    {
      "cell_type": "markdown",
      "source": [
        "  - 훈련과 검증이 완료된 모델로 테스트셋에 대하여 모델이 예측하고, 그 결과를 반환한다."
      ],
      "metadata": {
        "id": "Waa8HLWOvCtb"
      }
    },
    {
      "cell_type": "markdown",
      "source": [
        "---"
      ],
      "metadata": {
        "id": "VK22HYscwJzs"
      }
    },
    {
      "cell_type": "markdown",
      "source": [
        "## **2. 단순 신경망 훈련**"
      ],
      "metadata": {
        "id": "6pMbBOUGv8hK"
      }
    },
    {
      "cell_type": "markdown",
      "source": [
        "### **2.1 선형회귀**"
      ],
      "metadata": {
        "id": "mdzuCeefv_H8"
      }
    },
    {
      "cell_type": "markdown",
      "source": [
        "  - 회귀 분석\n",
        "    - 하나 이상의 독립변수들이 종속변수에 미치는 영향을 추정하는 통계 기법\n",
        "    - 단순선형회귀 모형은 하나의 X가 Y에 미치는 영향을 추정하며, 1차 함수 관계로 나타낼 수 있다.\n",
        "\n",
        "  - 이번에는 텐서플로 케라스를 활용하여 단순선형회귀 모델을 직접 만들고 딥러닝을 학습한다.\n",
        "  - 모델의 가중치 w와 절편 b를 업데이트하면서 종속변수 Y에 가장 근사한 1차 함수식을 완성해 나간다."
      ],
      "metadata": {
        "id": "_KUXlzh-vNmS"
      }
    },
    {
      "cell_type": "markdown",
      "source": [
        "### **2.2 뉴런 (Neuron)**"
      ],
      "metadata": {
        "id": "RRneN8UawBpk"
      }
    },
    {
      "cell_type": "markdown",
      "source": [
        "  - 뉴런\n",
        "    - 인공 신경망 모델을 구성하는 하나의 신경\n",
        "\n",
        "  - 신경망\n",
        "    - 여러 개의 레이어를 가지며, 1개의 레이어는 1개 이상의 뉴런으로 구성\n",
        "\n",
        "  - 뉴런의 내부에는 가중치가 존재하고, 모델이 훈련을 진행하면서 오차 역전파를 통해 뉴런의 가중치가 업데이트된다.\n",
        "  \n",
        "  - 역전파 알고리즘\n",
        "    - 신경망 모델의 파라미터들에 대한 그래디언트를 계산하는 방법을 의미\n",
        "    - 역전파는 신경망을 구성하는 각 레이어와 관련된 손실함수를 미분한 결과인 그레디언트를 출력층에서 입력층 순으로 역으로 계산하고 저장"
      ],
      "metadata": {
        "id": "lNkT7BxOvjhG"
      }
    },
    {
      "cell_type": "markdown",
      "source": [
        "### **2.3 Dense 레이어**"
      ],
      "metadata": {
        "id": "AZRhdp7VwEsl"
      }
    },
    {
      "cell_type": "markdown",
      "source": [
        "  - Dense 레이어\n",
        "    - 심층 신경망 모델을 구성하는 가장 기본 레이어\n",
        "    - 각 레이어와 레이어 사이에 모든 뉴런이 서로 연결되어 있어, 완전 연결층(Fully Connected Layer)이라고 부른다.\n",
        "  \n",
        "  - Dense 레이어를 구성하는 노드(뉴런)개수와 활성화 함수를 지정할 수 있다.\n",
        "\n",
        "  - 텐서플로의 layer 모듈에 있는 Dense 레이어로 쉽게 구현할 수 있다.\n",
        "    - 노드의 개수를 Dense 레이어의 첫 번째 위치 인자로 지정한다.\n",
        "    - Dense 레이어의 activation 매개변수에 활성화 함수를 지정하여 적용할 수 있다."
      ],
      "metadata": {
        "id": "2KUcw9p7wW2B"
      }
    },
    {
      "cell_type": "code",
      "source": [
        "import tensorflow as tf\n",
        "\n",
        "# 10개의 노드로 이루어진 Dense 레이어\n",
        "tf.keras.layers.Dense(10)\n",
        "\n",
        "# ReLU 활성화 함수 적용\n",
        "tf.keras.layers.Dense(10, activation = 'relu')"
      ],
      "metadata": {
        "colab": {
          "base_uri": "https://localhost:8080/"
        },
        "id": "fiw77qxywMUe",
        "outputId": "df807d34-1d44-4cab-d053-edcf02e0547d"
      },
      "execution_count": 7,
      "outputs": [
        {
          "output_type": "execute_result",
          "data": {
            "text/plain": [
              "<keras.layers.core.dense.Dense at 0x7f83fa8af790>"
            ]
          },
          "metadata": {},
          "execution_count": 7
        }
      ]
    },
    {
      "cell_type": "markdown",
      "source": [
        "### **2.4 데이터셋 만들기**"
      ],
      "metadata": {
        "id": "jsDfLYx-wM8M"
      }
    },
    {
      "cell_type": "markdown",
      "source": [
        "  - 단순선형회귀 모형을 지도학습 방식으로 훈련하기 위해 x, y 데이터를 생성한다.\n",
        "  - 넘파이의 arange() 메소드를 활용하여 5개의 순차적인 x 데이터를 생성하고, 임의의 1차 함수인 y = 3x + 2 관계식에 대입하여 y 데이터 5개를 생성한다."
      ],
      "metadata": {
        "id": "B0QqnHv3xlVK"
      }
    },
    {
      "cell_type": "code",
      "source": [
        "# 샘플 데이터셋 생성\n",
        "x = np.arange(1,6)\n",
        "\n",
        "# y = 3x + 2\n",
        "y = 3 * x + 2\n",
        "print(x)\n",
        "print(y)"
      ],
      "metadata": {
        "colab": {
          "base_uri": "https://localhost:8080/"
        },
        "id": "uJM2P-CzwQ36",
        "outputId": "f2b0047f-1357-4da9-c513-5d4bce1a6646"
      },
      "execution_count": 8,
      "outputs": [
        {
          "output_type": "stream",
          "name": "stdout",
          "text": [
            "[1 2 3 4 5]\n",
            "[ 5  8 11 14 17]\n"
          ]
        }
      ]
    },
    {
      "cell_type": "markdown",
      "source": [
        "  - 생성한 데이터를 matplotlib 시각화 라이브러리를 활용해 그래프를 출력한다."
      ],
      "metadata": {
        "id": "sNSauSXkx-7-"
      }
    },
    {
      "cell_type": "code",
      "source": [
        "import matplotlib.pyplot as plt\n",
        "\n",
        "# 시각화\n",
        "plt.plot(x,y)\n",
        "plt.title('y = 3x + 2')\n",
        "plt.show()"
      ],
      "metadata": {
        "colab": {
          "base_uri": "https://localhost:8080/",
          "height": 281
        },
        "id": "nUwEnFFzyDaF",
        "outputId": "5464b2e0-cf83-41f7-9f25-5f7a17f4afab"
      },
      "execution_count": 9,
      "outputs": [
        {
          "output_type": "display_data",
          "data": {
            "text/plain": [
              "<Figure size 432x288 with 1 Axes>"
            ],
            "image/png": "[encoded data removed]"
          },
          "metadata": {
            "needs_background": "light"
          }
        }
      ]
    },
    {
      "cell_type": "markdown",
      "source": [
        "### **2.5 Sequential API**"
      ],
      "metadata": {
        "id": "hcfE5QNgwTmR"
      }
    },
    {
      "cell_type": "markdown",
      "source": [
        "  - Sequential API 방식\n",
        "    - 층을 이어 붙이듯 시퀀스에 맞게 일렬로 연결하는 방식\n",
        "    - 따라서, 입력 레이어부터 출력 레이어까지 순서를 갖는다.\n",
        "    - 입력 데이터는 시퀀스의 가장 앞에 위치한 층에 투입되고, 순서대로 각 층을 하나씩 통과하면서 딥러닝 연산을 수행한다.\n",
        "\n",
        "  ![image.png](data:image/png;base64,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)\n",
        "    - 이처럼 직관적으로 구조를 이해할 수 있어 케라스 모델을 생성하고 훈련하는 가장 간단한 방법이라 할 수 있다.\n",
        "    - 다만, 2개 이상의 다중 입력이나 다중 출력을 갖는 복잡한 구조를 만들 수 없다는 단점이 있는데, 이러한 경우에는 Functional API를 사용해야 한다."
      ],
      "metadata": {
        "id": "rc6wYHBayKa0"
      }
    },
    {
      "cell_type": "markdown",
      "source": [
        "> 모델 구조"
      ],
      "metadata": {
        "id": "7fzbBL69wWYg"
      }
    },
    {
      "cell_type": "markdown",
      "source": [
        "  - Sequential API를 사용해 모델을 생성하는 2가지 방법"
      ],
      "metadata": {
        "id": "oFraYEn7y68O"
      }
    },
    {
      "cell_type": "markdown",
      "source": [
        "1. 리스터형 정의로 `Sequential 클래스` 함수에 파이썬 `리스트 형태로 여러 개의 층을 입력`"
      ],
      "metadata": {
        "id": "IEI12eStzHAw"
      }
    },
    {
      "cell_type": "code",
      "source": [
        "import tensorflow as tf\n",
        "\n",
        "# 리스트형\n",
        "model = tf.keras.Sequential([\n",
        "    tf.keras.layers.Dense(10),\n",
        "    tf.keras.layers.Dense(5),\n",
        "    tf.keras.layers.Dense(1)\n",
        "])"
      ],
      "metadata": {
        "id": "OK0iAEGFwY8y"
      },
      "execution_count": null,
      "outputs": []
    },
    {
      "cell_type": "markdown",
      "source": [
        "2. add 함수로 레이어 추가로 `Sequential 클래스 객체를 먼저 만든` 뒤, 생성된 `모델 인스턴스에 층을 추가`하는 방식"
      ],
      "metadata": {
        "id": "iBo5Y3qTzXOM"
      }
    },
    {
      "cell_type": "code",
      "source": [
        "# add 함수로 레이어 추가\n",
        "model = tf.keras.Sequential()\n",
        "model.add(tf.keras.layers.Dense(10))\n",
        "model.add(tf.keras.layers.Dense(5))\n",
        "model.add(tf.keras.layers.Dense(1))"
      ],
      "metadata": {
        "id": "JRmf9_LQzgxk"
      },
      "execution_count": 10,
      "outputs": []
    },
    {
      "cell_type": "markdown",
      "source": [
        "> 입력 데이터 형태"
      ],
      "metadata": {
        "id": "bXPsi9PTwZwK"
      }
    },
    {
      "cell_type": "markdown",
      "source": [
        "  - Sequential API를 사용해 모델을 구성할 때, 반드시 `첫 번째 층`은 `input_shape 매개변수를 지정`해야 한다.\n",
        "  - `input_shape` 매개변수\n",
        "    - 주입할 `데이터셋의 shape`을 튜플 혹은 리스트로 지정"
      ],
      "metadata": {
        "id": "xZSyNv6r0_xV"
      }
    },
    {
      "cell_type": "code",
      "source": [
        "import tensorflow as tf\n",
        "\n",
        "model = tf.keras.Sequential([\n",
        "    # 입력 데이터의 shape = (150, 4)인 경우 input_shape 지정\n",
        "    tf.keras.layers.Dense(10, input_shape = [4]),\n",
        "    tf.keras.layers.Dense(5),\n",
        "    tf.keras.layers.Dense(1)\n",
        "])"
      ],
      "metadata": {
        "id": "jF5Tmfjiwa22"
      },
      "execution_count": 11,
      "outputs": []
    },
    {
      "cell_type": "markdown",
      "source": [
        "> 단순선형회귀 모델 정의"
      ],
      "metadata": {
        "id": "D8QNiqfuwb7J"
      }
    },
    {
      "cell_type": "markdown",
      "source": [
        "  - 단순선형회귀 모델을 만들기 위해서는 1개의 뉴런을 가지는 Dense 레이어 한 개를 사용한다.\n",
        "  - 1차 함수식에서 입력 데이터는 x 값을 나타내는 입력 변수 1개만 존재하므로, input_shape = [1]로 지정한다.\n",
        "  - 1개의 뉴런을 가지는 Dense 레이어는 1개의 출력 값을 가지므로, 출력 값은 y에 대한 모델의 예측 값이다."
      ],
      "metadata": {
        "id": "lGmsarQ61e0X"
      }
    },
    {
      "cell_type": "code",
      "source": [
        "# 단순선형회귀 모델 생성\n",
        "model = tf.keras.Sequential([\n",
        "    tf.keras.layers.Dense(1, input_shape = [1])\n",
        "])"
      ],
      "metadata": {
        "id": "9JFt6tZxwc-A"
      },
      "execution_count": 12,
      "outputs": []
    },
    {
      "cell_type": "markdown",
      "source": [
        "### **2.6 모델 요약**"
      ],
      "metadata": {
        "id": "_Cr_cvGQwdnw"
      }
    },
    {
      "cell_type": "markdown",
      "source": [
        "  - Sequential API로 모델을 만들었다면, model.summary()로 모델의 요약을 확인할 수 있다."
      ],
      "metadata": {
        "id": "JgE41Z7B2Gbu"
      }
    },
    {
      "cell_type": "code",
      "source": [
        "# 모델 요약\n",
        "model.summary()"
      ],
      "metadata": {
        "colab": {
          "base_uri": "https://localhost:8080/"
        },
        "id": "1MWAkHQN2M3B",
        "outputId": "abac4387-cac8-44a7-ee88-2f685392b839"
      },
      "execution_count": 13,
      "outputs": [
        {
          "output_type": "stream",
          "name": "stdout",
          "text": [
            "Model: \"sequential_2\"\n",
            "_________________________________________________________________\n",
            " Layer (type)                Output Shape              Param #   \n",
            "=================================================================\n",
            " dense_10 (Dense)            (None, 1)                 2         \n",
            "                                                                 \n",
            "=================================================================\n",
            "Total params: 2\n",
            "Trainable params: 2\n",
            "Non-trainable params: 0\n",
            "_________________________________________________________________\n"
          ]
        }
      ]
    },
    {
      "cell_type": "markdown",
      "source": [
        "  - Total params : 모델 내부에 존재하는 모든 파라미터의 합계\n",
        "  - Trainable params : 모델 훈련 시 업데이트할 파라미터의 총 개수\n",
        "  - Non-trainable params : 훈련 시 업데이트하지 않을 파라미터의 총 개수"
      ],
      "metadata": {
        "id": "9VBsr8Fo2ZLy"
      }
    },
    {
      "cell_type": "markdown",
      "source": [
        "### **2.7 컴파일**"
      ],
      "metadata": {
        "id": "jXM2ATgewgXp"
      }
    },
    {
      "cell_type": "markdown",
      "source": [
        "  - 모델의 훈련 과정에서 적용할 옵티마이저, 손실함수, 평가지표 등을 정의한다.\n",
        "  - 옵티마이저, 손실함수, 평가지표는 클래스 인스턴스, 함수 혹은 사전 정의된 문자열을 활용해 지정할 수 있다."
      ],
      "metadata": {
        "id": "_arCAYjv2kKe"
      }
    },
    {
      "cell_type": "code",
      "source": [
        "# 긴 문자열 지정\n",
        "model.compile(optimizer = 'sgd', loss = 'mean_squared_error',\n",
        "              metrics = ['mean_squared_error', 'mean_absolute_error'])"
      ],
      "metadata": {
        "id": "lTSmHAtIwiwb"
      },
      "execution_count": 14,
      "outputs": []
    },
    {
      "cell_type": "code",
      "source": [
        "# 짧은 문자열 지정\n",
        "model.compile(optimizer = 'sgd', loss = 'mse', metrics = ['mse', 'mae'])"
      ],
      "metadata": {
        "id": "Hj9U2I7I3AMz"
      },
      "execution_count": 15,
      "outputs": []
    },
    {
      "cell_type": "code",
      "source": [
        "# 클래스 인스턴스 지정\n",
        "model.compile(optimizer = tf.keras.optimizers.SGD(lr = 0.005),\n",
        "              loss = tf.keras.losses.MeanAbsoluteError(),\n",
        "              metrics = [tf.keras.metrics.MeanAbsoluteError(),\n",
        "                         tf.keras.metrics.MeanSquaredError()\n",
        "              ])"
      ],
      "metadata": {
        "colab": {
          "base_uri": "https://localhost:8080/"
        },
        "id": "b6huk7kZ3Frr",
        "outputId": "1e9684e9-6389-4587-abf3-ece03a2907cf"
      },
      "execution_count": 16,
      "outputs": [
        {
          "output_type": "stream",
          "name": "stderr",
          "text": [
            "/usr/local/lib/python3.7/dist-packages/keras/optimizers/optimizer_v2/gradient_descent.py:108: UserWarning: The `lr` argument is deprecated, use `learning_rate` instead.\n",
            "  super(SGD, self).__init__(name, **kwargs)\n"
          ]
        }
      ]
    },
    {
      "cell_type": "markdown",
      "source": [
        "  - 앞에서 정의한 단순선형회귀 모델을 훈련시키기 위해서 옵티마이저는 확률적 경사하강법 알고리즘인 'sgd', 손실함수로는 평균제곱오차인 'mse', 평가지표는 평균절대오차인 'mae'를 지정한다."
      ],
      "metadata": {
        "id": "a-Z70ae43WtO"
      }
    },
    {
      "cell_type": "code",
      "source": [
        "# 컴파일\n",
        "model.compile(optimizer = 'sgd', loss = 'mse', metrics = ['mae'])"
      ],
      "metadata": {
        "id": "HfRSPtB03fwJ"
      },
      "execution_count": 17,
      "outputs": []
    },
    {
      "cell_type": "markdown",
      "source": [
        "### **2.8 훈련**"
      ],
      "metadata": {
        "id": "3dF4XEafwj4u"
      }
    },
    {
      "cell_type": "markdown",
      "source": [
        "  - 생성한 모델 인스턴스에 fit() 메소드를 적용하면, 데이터를 입력하여 모델을 훈련할 수 있다.\n",
        "  - 모델을 훈련한다는 것은 가중치 텐서를 업데이트하는 과정이다."
      ],
      "metadata": {
        "id": "1LT6dI7O3kmQ"
      }
    },
    {
      "cell_type": "markdown",
      "source": [
        "  - fit() 메소드를 활용해 epoch를 5로 설정하여 5회 반복 훈련한 뒤 결과를 확인해 보자."
      ],
      "metadata": {
        "id": "AHh-Rn6y3wC2"
      }
    },
    {
      "cell_type": "code",
      "source": [
        "# 훈련\n",
        "model.fit(x, y, epochs = 5)"
      ],
      "metadata": {
        "colab": {
          "base_uri": "https://localhost:8080/"
        },
        "id": "GJQxJPlJwnLW",
        "outputId": "2b254bda-8c9b-4651-9838-335790ce2108"
      },
      "execution_count": 18,
      "outputs": [
        {
          "output_type": "stream",
          "name": "stdout",
          "text": [
            "Epoch 1/5\n",
            "1/1 [==============================] - 1s 523ms/step - loss: 45.3871 - mae: 6.4085\n",
            "Epoch 2/5\n",
            "1/1 [==============================] - 0s 12ms/step - loss: 26.6129 - mae: 4.9504\n",
            "Epoch 3/5\n",
            "1/1 [==============================] - 0s 9ms/step - loss: 15.6711 - mae: 3.8372\n",
            "Epoch 4/5\n",
            "1/1 [==============================] - 0s 10ms/step - loss: 9.2937 - mae: 2.9872\n",
            "Epoch 5/5\n",
            "1/1 [==============================] - 0s 10ms/step - loss: 5.5762 - mae: 2.3381\n"
          ]
        },
        {
          "output_type": "execute_result",
          "data": {
            "text/plain": [
              "<keras.callbacks.History at 0x7f83fa007b10>"
            ]
          },
          "metadata": {},
          "execution_count": 18
        }
      ]
    },
    {
      "cell_type": "markdown",
      "source": [
        "  - 매 epoch 당 loss 값이 점점 줄어드는 것으로 보아 모델이 잘 학습되고 있는 것을 알 수 있다.\n",
        "  - 그러나 반복 훈련 횟수가 충분하지 않아 학습이 덜 되었다고 볼 수 있다.\n",
        "  - 따라서 epoch를 늘려서 추가 학습을 진행하면 손실을 더욱 낮출 수 있을 것으로 보인다. 즉, 모델은 현재 과소적합 상태이다. "
      ],
      "metadata": {
        "id": "ErPTVNWQ604g"
      }
    },
    {
      "cell_type": "markdown",
      "source": [
        "  - 이번에는 epoch에 1200을 지정하여 충분히 훈련할 수 있도록 한다."
      ],
      "metadata": {
        "id": "iVNUAxPM7EHk"
      }
    },
    {
      "cell_type": "code",
      "source": [
        "# 단순선형회귀 모델 생성\n",
        "model = tf.keras.Sequential([\n",
        "    tf.keras.layers.Dense(1, input_shape = [1])\n",
        "])\n",
        "\n",
        "# 컴파일\n",
        "model.compile(optimizer = 'sgd', loss = 'mse', metrics = ['mae'])\n",
        "\n",
        "# 훈련\n",
        "history = model.fit(x, y, epochs = 1200)"
      ],
      "metadata": {
        "colab": {
          "base_uri": "https://localhost:8080/"
        },
        "id": "Xxh8TXu67HC7",
        "outputId": "e5b66692-3783-4e08-cdce-792feb969d34"
      },
      "execution_count": 19,
      "outputs": [
        {
          "output_type": "stream",
          "name": "stdout",
          "text": [
            "Epoch 1/1200\n",
            "1/1 [==============================] - 0s 314ms/step - loss: 151.1267 - mae: 11.4566\n",
            "Epoch 2/1200\n",
            "1/1 [==============================] - 0s 10ms/step - loss: 88.1510 - mae: 8.7870\n",
            "Epoch 3/1200\n",
            "1/1 [==============================] - 0s 9ms/step - loss: 51.4513 - mae: 6.7490\n",
            "Epoch 4/1200\n",
            "1/1 [==============================] - 0s 6ms/step - loss: 30.0640 - mae: 5.1930\n",
            "Epoch 5/1200\n",
            "1/1 [==============================] - 0s 8ms/step - loss: 17.6000 - mae: 4.0051\n",
            "Epoch 6/1200\n",
            "1/1 [==============================] - 0s 7ms/step - loss: 10.3361 - mae: 3.0981\n",
            "Epoch 7/1200\n",
            "1/1 [==============================] - 0s 7ms/step - loss: 6.1025 - mae: 2.4056\n",
            "Epoch 8/1200\n",
            "1/1 [==============================] - 0s 8ms/step - loss: 3.6348 - mae: 1.8768\n",
            "Epoch 9/1200\n",
            "1/1 [==============================] - 0s 7ms/step - loss: 2.1962 - mae: 1.4730\n",
            "Epoch 10/1200\n",
            "1/1 [==============================] - 0s 7ms/step - loss: 1.3574 - mae: 1.1647\n",
            "Epoch 11/1200\n",
            "1/1 [==============================] - 0s 7ms/step - loss: 0.8680 - mae: 0.9291\n",
            "Epoch 12/1200\n",
            "1/1 [==============================] - 0s 7ms/step - loss: 0.5823 - mae: 0.7492\n",
            "Epoch 13/1200\n",
            "1/1 [==============================] - 0s 7ms/step - loss: 0.4153 - mae: 0.6116\n",
            "Epoch 14/1200\n",
            "1/1 [==============================] - 0s 7ms/step - loss: 0.3175 - mae: 0.5065\n",
            "Epoch 15/1200\n",
            "1/1 [==============================] - 0s 14ms/step - loss: 0.2600 - mae: 0.4262\n",
            "Epoch 16/1200\n",
            "1/1 [==============================] - 0s 10ms/step - loss: 0.2259 - mae: 0.3913\n",
            "Epoch 17/1200\n",
            "1/1 [==============================] - 0s 6ms/step - loss: 0.2056 - mae: 0.3736\n",
            "Epoch 18/1200\n",
            "1/1 [==============================] - 0s 6ms/step - loss: 0.1932 - mae: 0.3599\n",
            "Epoch 19/1200\n",
            "1/1 [==============================] - 0s 7ms/step - loss: 0.1856 - mae: 0.3492\n",
            "Epoch 20/1200\n",
            "1/1 [==============================] - 0s 10ms/step - loss: 0.1806 - mae: 0.3483\n",
            "Epoch 21/1200\n",
            "1/1 [==============================] - 0s 6ms/step - loss: 0.1772 - mae: 0.3497\n",
            "Epoch 22/1200\n",
            "1/1 [==============================] - 0s 7ms/step - loss: 0.1747 - mae: 0.3505\n",
            "Epoch 23/1200\n",
            "1/1 [==============================] - 0s 6ms/step - loss: 0.1728 - mae: 0.3508\n",
            "Epoch 24/1200\n",
            "1/1 [==============================] - 0s 7ms/step - loss: 0.1712 - mae: 0.3508\n",
            "Epoch 25/1200\n",
            "1/1 [==============================] - 0s 6ms/step - loss: 0.1698 - mae: 0.3505\n",
            "Epoch 26/1200\n",
            "1/1 [==============================] - 0s 6ms/step - loss: 0.1685 - mae: 0.3499\n",
            "Epoch 27/1200\n",
            "1/1 [==============================] - 0s 9ms/step - loss: 0.1673 - mae: 0.3493\n",
            "Epoch 28/1200\n",
            "1/1 [==============================] - 0s 7ms/step - loss: 0.1661 - mae: 0.3485\n",
            "Epoch 29/1200\n",
            "1/1 [==============================] - 0s 6ms/step - loss: 0.1650 - mae: 0.3476\n",
            "Epoch 30/1200\n",
            "1/1 [==============================] - 0s 6ms/step - loss: 0.1638 - mae: 0.3467\n",
            "Epoch 31/1200\n",
            "1/1 [==============================] - 0s 7ms/step - loss: 0.1627 - mae: 0.3457\n",
            "Epoch 32/1200\n",
            "1/1 [==============================] - 0s 8ms/step - loss: 0.1616 - mae: 0.3446\n",
            "Epoch 33/1200\n",
            "1/1 [==============================] - 0s 8ms/step - loss: 0.1605 - mae: 0.3436\n",
            "Epoch 34/1200\n",
            "1/1 [==============================] - 0s 8ms/step - loss: 0.1594 - mae: 0.3425\n",
            "Epoch 35/1200\n",
            "1/1 [==============================] - 0s 9ms/step - loss: 0.1584 - mae: 0.3414\n",
            "Epoch 36/1200\n",
            "1/1 [==============================] - 0s 8ms/step - loss: 0.1573 - mae: 0.3403\n",
            "Epoch 37/1200\n",
            "1/1 [==============================] - 0s 8ms/step - loss: 0.1562 - mae: 0.3391\n",
            "Epoch 38/1200\n",
            "1/1 [==============================] - 0s 9ms/step - loss: 0.1552 - mae: 0.3380\n",
            "Epoch 39/1200\n",
            "1/1 [==============================] - 0s 9ms/step - loss: 0.1541 - mae: 0.3369\n",
            "Epoch 40/1200\n",
            "1/1 [==============================] - 0s 9ms/step - loss: 0.1531 - mae: 0.3358\n",
            "Epoch 41/1200\n",
            "1/1 [==============================] - 0s 8ms/step - loss: 0.1521 - mae: 0.3347\n",
            "Epoch 42/1200\n",
            "1/1 [==============================] - 0s 8ms/step - loss: 0.1510 - mae: 0.3335\n",
            "Epoch 43/1200\n",
            "1/1 [==============================] - 0s 9ms/step - loss: 0.1500 - mae: 0.3324\n",
            "Epoch 44/1200\n",
            "1/1 [==============================] - 0s 8ms/step - loss: 0.1490 - mae: 0.3313\n",
            "Epoch 45/1200\n",
            "1/1 [==============================] - 0s 8ms/step - loss: 0.1480 - mae: 0.3302\n",
            "Epoch 46/1200\n",
            "1/1 [==============================] - 0s 14ms/step - loss: 0.1470 - mae: 0.3291\n",
            "Epoch 47/1200\n",
            "1/1 [==============================] - 0s 8ms/step - loss: 0.1460 - mae: 0.3280\n",
            "Epoch 48/1200\n",
            "1/1 [==============================] - 0s 7ms/step - loss: 0.1450 - mae: 0.3269\n",
            "Epoch 49/1200\n",
            "1/1 [==============================] - 0s 7ms/step - loss: 0.1440 - mae: 0.3257\n",
            "Epoch 50/1200\n",
            "1/1 [==============================] - 0s 8ms/step - loss: 0.1431 - mae: 0.3246\n",
            "Epoch 51/1200\n",
            "1/1 [==============================] - 0s 8ms/step - loss: 0.1421 - mae: 0.3235\n",
            "Epoch 52/1200\n",
            "1/1 [==============================] - 0s 9ms/step - loss: 0.1411 - mae: 0.3225\n",
            "Epoch 53/1200\n",
            "1/1 [==============================] - 0s 8ms/step - loss: 0.1402 - mae: 0.3214\n",
            "Epoch 54/1200\n",
            "1/1 [==============================] - 0s 9ms/step - loss: 0.1392 - mae: 0.3203\n",
            "Epoch 55/1200\n",
            "1/1 [==============================] - 0s 8ms/step - loss: 0.1383 - mae: 0.3192\n",
            "Epoch 56/1200\n",
            "1/1 [==============================] - 0s 9ms/step - loss: 0.1374 - mae: 0.3181\n",
            "Epoch 57/1200\n",
            "1/1 [==============================] - 0s 8ms/step - loss: 0.1364 - mae: 0.3170\n",
            "Epoch 58/1200\n",
            "1/1 [==============================] - 0s 7ms/step - loss: 0.1355 - mae: 0.3160\n",
            "Epoch 59/1200\n",
            "1/1 [==============================] - 0s 11ms/step - loss: 0.1346 - mae: 0.3149\n",
            "Epoch 60/1200\n",
            "1/1 [==============================] - 0s 7ms/step - loss: 0.1337 - mae: 0.3138\n",
            "Epoch 61/1200\n",
            "1/1 [==============================] - 0s 8ms/step - loss: 0.1328 - mae: 0.3128\n",
            "Epoch 62/1200\n",
            "1/1 [==============================] - 0s 7ms/step - loss: 0.1319 - mae: 0.3117\n",
            "Epoch 63/1200\n",
            "1/1 [==============================] - 0s 8ms/step - loss: 0.1310 - mae: 0.3107\n",
            "Epoch 64/1200\n",
            "1/1 [==============================] - 0s 8ms/step - loss: 0.1301 - mae: 0.3096\n",
            "Epoch 65/1200\n",
            "1/1 [==============================] - 0s 7ms/step - loss: 0.1292 - mae: 0.3086\n",
            "Epoch 66/1200\n",
            "1/1 [==============================] - 0s 8ms/step - loss: 0.1284 - mae: 0.3075\n",
            "Epoch 67/1200\n",
            "1/1 [==============================] - 0s 7ms/step - loss: 0.1275 - mae: 0.3065\n",
            "Epoch 68/1200\n",
            "1/1 [==============================] - 0s 7ms/step - loss: 0.1266 - mae: 0.3055\n",
            "Epoch 69/1200\n",
            "1/1 [==============================] - 0s 7ms/step - loss: 0.1258 - mae: 0.3044\n",
            "Epoch 70/1200\n",
            "1/1 [==============================] - 0s 7ms/step - loss: 0.1249 - mae: 0.3034\n",
            "Epoch 71/1200\n",
            "1/1 [==============================] - 0s 7ms/step - loss: 0.1241 - mae: 0.3024\n",
            "Epoch 72/1200\n",
            "1/1 [==============================] - 0s 8ms/step - loss: 0.1233 - mae: 0.3013\n",
            "Epoch 73/1200\n",
            "1/1 [==============================] - 0s 8ms/step - loss: 0.1224 - mae: 0.3003\n",
            "Epoch 74/1200\n",
            "1/1 [==============================] - 0s 7ms/step - loss: 0.1216 - mae: 0.2993\n",
            "Epoch 75/1200\n",
            "1/1 [==============================] - 0s 7ms/step - loss: 0.1208 - mae: 0.2983\n",
            "Epoch 76/1200\n",
            "1/1 [==============================] - 0s 7ms/step - loss: 0.1200 - mae: 0.2973\n",
            "Epoch 77/1200\n",
            "1/1 [==============================] - 0s 7ms/step - loss: 0.1192 - mae: 0.2963\n",
            "Epoch 78/1200\n",
            "1/1 [==============================] - 0s 9ms/step - loss: 0.1183 - mae: 0.2953\n",
            "Epoch 79/1200\n",
            "1/1 [==============================] - 0s 8ms/step - loss: 0.1175 - mae: 0.2943\n",
            "Epoch 80/1200\n",
            "1/1 [==============================] - 0s 8ms/step - loss: 0.1168 - mae: 0.2933\n",
            "Epoch 81/1200\n",
            "1/1 [==============================] - 0s 8ms/step - loss: 0.1160 - mae: 0.2923\n",
            "Epoch 82/1200\n",
            "1/1 [==============================] - 0s 8ms/step - loss: 0.1152 - mae: 0.2913\n",
            "Epoch 83/1200\n",
            "1/1 [==============================] - 0s 7ms/step - loss: 0.1144 - mae: 0.2903\n",
            "Epoch 84/1200\n",
            "1/1 [==============================] - 0s 7ms/step - loss: 0.1136 - mae: 0.2893\n",
            "Epoch 85/1200\n",
            "1/1 [==============================] - 0s 7ms/step - loss: 0.1129 - mae: 0.2884\n",
            "Epoch 86/1200\n",
            "1/1 [==============================] - 0s 8ms/step - loss: 0.1121 - mae: 0.2874\n",
            "Epoch 87/1200\n",
            "1/1 [==============================] - 0s 7ms/step - loss: 0.1113 - mae: 0.2864\n",
            "Epoch 88/1200\n",
            "1/1 [==============================] - 0s 8ms/step - loss: 0.1106 - mae: 0.2854\n",
            "Epoch 89/1200\n",
            "1/1 [==============================] - 0s 7ms/step - loss: 0.1099 - mae: 0.2845\n",
            "Epoch 90/1200\n",
            "1/1 [==============================] - 0s 7ms/step - loss: 0.1091 - mae: 0.2835\n",
            "Epoch 91/1200\n",
            "1/1 [==============================] - 0s 8ms/step - loss: 0.1084 - mae: 0.2826\n",
            "Epoch 92/1200\n",
            "1/1 [==============================] - 0s 8ms/step - loss: 0.1076 - mae: 0.2816\n",
            "Epoch 93/1200\n",
            "1/1 [==============================] - 0s 14ms/step - loss: 0.1069 - mae: 0.2807\n",
            "Epoch 94/1200\n",
            "1/1 [==============================] - 0s 8ms/step - loss: 0.1062 - mae: 0.2797\n",
            "Epoch 95/1200\n",
            "1/1 [==============================] - 0s 8ms/step - loss: 0.1055 - mae: 0.2788\n",
            "Epoch 96/1200\n",
            "1/1 [==============================] - 0s 9ms/step - loss: 0.1048 - mae: 0.2778\n",
            "Epoch 97/1200\n",
            "1/1 [==============================] - 0s 8ms/step - loss: 0.1041 - mae: 0.2769\n",
            "Epoch 98/1200\n",
            "1/1 [==============================] - 0s 8ms/step - loss: 0.1034 - mae: 0.2759\n",
            "Epoch 99/1200\n",
            "1/1 [==============================] - 0s 8ms/step - loss: 0.1027 - mae: 0.2750\n",
            "Epoch 100/1200\n",
            "1/1 [==============================] - 0s 8ms/step - loss: 0.1020 - mae: 0.2741\n",
            "Epoch 101/1200\n",
            "1/1 [==============================] - 0s 7ms/step - loss: 0.1013 - mae: 0.2732\n",
            "Epoch 102/1200\n",
            "1/1 [==============================] - 0s 8ms/step - loss: 0.1006 - mae: 0.2722\n",
            "Epoch 103/1200\n",
            "1/1 [==============================] - 0s 8ms/step - loss: 0.0999 - mae: 0.2713\n",
            "Epoch 104/1200\n",
            "1/1 [==============================] - 0s 7ms/step - loss: 0.0992 - mae: 0.2704\n",
            "Epoch 105/1200\n",
            "1/1 [==============================] - 0s 8ms/step - loss: 0.0986 - mae: 0.2695\n",
            "Epoch 106/1200\n",
            "1/1 [==============================] - 0s 8ms/step - loss: 0.0979 - mae: 0.2686\n",
            "Epoch 107/1200\n",
            "1/1 [==============================] - 0s 8ms/step - loss: 0.0972 - mae: 0.2677\n",
            "Epoch 108/1200\n",
            "1/1 [==============================] - 0s 8ms/step - loss: 0.0966 - mae: 0.2668\n",
            "Epoch 109/1200\n",
            "1/1 [==============================] - 0s 7ms/step - loss: 0.0959 - mae: 0.2659\n",
            "Epoch 110/1200\n",
            "1/1 [==============================] - 0s 7ms/step - loss: 0.0953 - mae: 0.2650\n",
            "Epoch 111/1200\n",
            "1/1 [==============================] - 0s 10ms/step - loss: 0.0946 - mae: 0.2641\n",
            "Epoch 112/1200\n",
            "1/1 [==============================] - 0s 7ms/step - loss: 0.0940 - mae: 0.2632\n",
            "Epoch 113/1200\n",
            "1/1 [==============================] - 0s 8ms/step - loss: 0.0934 - mae: 0.2623\n",
            "Epoch 114/1200\n",
            "1/1 [==============================] - 0s 8ms/step - loss: 0.0927 - mae: 0.2614\n",
            "Epoch 115/1200\n",
            "1/1 [==============================] - 0s 8ms/step - loss: 0.0921 - mae: 0.2605\n",
            "Epoch 116/1200\n",
            "1/1 [==============================] - 0s 9ms/step - loss: 0.0915 - mae: 0.2596\n",
            "Epoch 117/1200\n",
            "1/1 [==============================] - 0s 9ms/step - loss: 0.0909 - mae: 0.2587\n",
            "Epoch 118/1200\n",
            "1/1 [==============================] - 0s 8ms/step - loss: 0.0903 - mae: 0.2579\n",
            "Epoch 119/1200\n",
            "1/1 [==============================] - 0s 8ms/step - loss: 0.0897 - mae: 0.2570\n",
            "Epoch 120/1200\n",
            "1/1 [==============================] - 0s 8ms/step - loss: 0.0890 - mae: 0.2561\n",
            "Epoch 121/1200\n",
            "1/1 [==============================] - 0s 10ms/step - loss: 0.0884 - mae: 0.2553\n",
            "Epoch 122/1200\n",
            "1/1 [==============================] - 0s 7ms/step - loss: 0.0878 - mae: 0.2544\n",
            "Epoch 123/1200\n",
            "1/1 [==============================] - 0s 8ms/step - loss: 0.0873 - mae: 0.2535\n",
            "Epoch 124/1200\n",
            "1/1 [==============================] - 0s 7ms/step - loss: 0.0867 - mae: 0.2527\n",
            "Epoch 125/1200\n",
            "1/1 [==============================] - 0s 7ms/step - loss: 0.0861 - mae: 0.2518\n",
            "Epoch 126/1200\n",
            "1/1 [==============================] - 0s 8ms/step - loss: 0.0855 - mae: 0.2510\n",
            "Epoch 127/1200\n",
            "1/1 [==============================] - 0s 8ms/step - loss: 0.0849 - mae: 0.2501\n",
            "Epoch 128/1200\n",
            "1/1 [==============================] - 0s 8ms/step - loss: 0.0843 - mae: 0.2493\n",
            "Epoch 129/1200\n",
            "1/1 [==============================] - 0s 8ms/step - loss: 0.0838 - mae: 0.2484\n",
            "Epoch 130/1200\n",
            "1/1 [==============================] - 0s 8ms/step - loss: 0.0832 - mae: 0.2476\n",
            "Epoch 131/1200\n",
            "1/1 [==============================] - 0s 8ms/step - loss: 0.0827 - mae: 0.2468\n",
            "Epoch 132/1200\n",
            "1/1 [==============================] - 0s 8ms/step - loss: 0.0821 - mae: 0.2459\n",
            "Epoch 133/1200\n",
            "1/1 [==============================] - 0s 11ms/step - loss: 0.0815 - mae: 0.2451\n",
            "Epoch 134/1200\n",
            "1/1 [==============================] - 0s 8ms/step - loss: 0.0810 - mae: 0.2443\n",
            "Epoch 135/1200\n",
            "1/1 [==============================] - 0s 7ms/step - loss: 0.0804 - mae: 0.2434\n",
            "Epoch 136/1200\n",
            "1/1 [==============================] - 0s 8ms/step - loss: 0.0799 - mae: 0.2426\n",
            "Epoch 137/1200\n",
            "1/1 [==============================] - 0s 7ms/step - loss: 0.0794 - mae: 0.2418\n",
            "Epoch 138/1200\n",
            "1/1 [==============================] - 0s 8ms/step - loss: 0.0788 - mae: 0.2410\n",
            "Epoch 139/1200\n",
            "1/1 [==============================] - 0s 8ms/step - loss: 0.0783 - mae: 0.2402\n",
            "Epoch 140/1200\n",
            "1/1 [==============================] - 0s 7ms/step - loss: 0.0778 - mae: 0.2394\n",
            "Epoch 141/1200\n",
            "1/1 [==============================] - 0s 7ms/step - loss: 0.0772 - mae: 0.2385\n",
            "Epoch 142/1200\n",
            "1/1 [==============================] - 0s 7ms/step - loss: 0.0767 - mae: 0.2377\n",
            "Epoch 143/1200\n",
            "1/1 [==============================] - 0s 7ms/step - loss: 0.0762 - mae: 0.2369\n",
            "Epoch 144/1200\n",
            "1/1 [==============================] - 0s 7ms/step - loss: 0.0757 - mae: 0.2361\n",
            "Epoch 145/1200\n",
            "1/1 [==============================] - 0s 7ms/step - loss: 0.0752 - mae: 0.2353\n",
            "Epoch 146/1200\n",
            "1/1 [==============================] - 0s 7ms/step - loss: 0.0747 - mae: 0.2345\n",
            "Epoch 147/1200\n",
            "1/1 [==============================] - 0s 7ms/step - loss: 0.0742 - mae: 0.2337\n",
            "Epoch 148/1200\n",
            "1/1 [==============================] - 0s 7ms/step - loss: 0.0737 - mae: 0.2330\n",
            "Epoch 149/1200\n",
            "1/1 [==============================] - 0s 7ms/step - loss: 0.0732 - mae: 0.2322\n",
            "Epoch 150/1200\n",
            "1/1 [==============================] - 0s 7ms/step - loss: 0.0727 - mae: 0.2314\n",
            "Epoch 151/1200\n",
            "1/1 [==============================] - 0s 7ms/step - loss: 0.0722 - mae: 0.2306\n",
            "Epoch 152/1200\n",
            "1/1 [==============================] - 0s 7ms/step - loss: 0.0717 - mae: 0.2298\n",
            "Epoch 153/1200\n",
            "1/1 [==============================] - 0s 7ms/step - loss: 0.0712 - mae: 0.2290\n",
            "Epoch 154/1200\n",
            "1/1 [==============================] - 0s 7ms/step - loss: 0.0707 - mae: 0.2283\n",
            "Epoch 155/1200\n",
            "1/1 [==============================] - 0s 6ms/step - loss: 0.0703 - mae: 0.2275\n",
            "Epoch 156/1200\n",
            "1/1 [==============================] - 0s 11ms/step - loss: 0.0698 - mae: 0.2267\n",
            "Epoch 157/1200\n",
            "1/1 [==============================] - 0s 6ms/step - loss: 0.0693 - mae: 0.2260\n",
            "Epoch 158/1200\n",
            "1/1 [==============================] - 0s 6ms/step - loss: 0.0688 - mae: 0.2252\n",
            "Epoch 159/1200\n",
            "1/1 [==============================] - 0s 6ms/step - loss: 0.0684 - mae: 0.2244\n",
            "Epoch 160/1200\n",
            "1/1 [==============================] - 0s 7ms/step - loss: 0.0679 - mae: 0.2237\n",
            "Epoch 161/1200\n",
            "1/1 [==============================] - 0s 7ms/step - loss: 0.0675 - mae: 0.2229\n",
            "Epoch 162/1200\n",
            "1/1 [==============================] - 0s 7ms/step - loss: 0.0670 - mae: 0.2222\n",
            "Epoch 163/1200\n",
            "1/1 [==============================] - 0s 7ms/step - loss: 0.0665 - mae: 0.2214\n",
            "Epoch 164/1200\n",
            "1/1 [==============================] - 0s 7ms/step - loss: 0.0661 - mae: 0.2207\n",
            "Epoch 165/1200\n",
            "1/1 [==============================] - 0s 7ms/step - loss: 0.0657 - mae: 0.2199\n",
            "Epoch 166/1200\n",
            "1/1 [==============================] - 0s 7ms/step - loss: 0.0652 - mae: 0.2192\n",
            "Epoch 167/1200\n",
            "1/1 [==============================] - 0s 8ms/step - loss: 0.0648 - mae: 0.2184\n",
            "Epoch 168/1200\n",
            "1/1 [==============================] - 0s 8ms/step - loss: 0.0643 - mae: 0.2177\n",
            "Epoch 169/1200\n",
            "1/1 [==============================] - 0s 7ms/step - loss: 0.0639 - mae: 0.2170\n",
            "Epoch 170/1200\n",
            "1/1 [==============================] - 0s 7ms/step - loss: 0.0635 - mae: 0.2162\n",
            "Epoch 171/1200\n",
            "1/1 [==============================] - 0s 9ms/step - loss: 0.0630 - mae: 0.2155\n",
            "Epoch 172/1200\n",
            "1/1 [==============================] - 0s 7ms/step - loss: 0.0626 - mae: 0.2148\n",
            "Epoch 173/1200\n",
            "1/1 [==============================] - 0s 7ms/step - loss: 0.0622 - mae: 0.2140\n",
            "Epoch 174/1200\n",
            "1/1 [==============================] - 0s 8ms/step - loss: 0.0618 - mae: 0.2133\n",
            "Epoch 175/1200\n",
            "1/1 [==============================] - 0s 7ms/step - loss: 0.0614 - mae: 0.2126\n",
            "Epoch 176/1200\n",
            "1/1 [==============================] - 0s 7ms/step - loss: 0.0609 - mae: 0.2119\n",
            "Epoch 177/1200\n",
            "1/1 [==============================] - 0s 8ms/step - loss: 0.0605 - mae: 0.2112\n",
            "Epoch 178/1200\n",
            "1/1 [==============================] - 0s 7ms/step - loss: 0.0601 - mae: 0.2105\n",
            "Epoch 179/1200\n",
            "1/1 [==============================] - 0s 7ms/step - loss: 0.0597 - mae: 0.2097\n",
            "Epoch 180/1200\n",
            "1/1 [==============================] - 0s 8ms/step - loss: 0.0593 - mae: 0.2090\n",
            "Epoch 181/1200\n",
            "1/1 [==============================] - 0s 7ms/step - loss: 0.0589 - mae: 0.2083\n",
            "Epoch 182/1200\n",
            "1/1 [==============================] - 0s 7ms/step - loss: 0.0585 - mae: 0.2076\n",
            "Epoch 183/1200\n",
            "1/1 [==============================] - 0s 8ms/step - loss: 0.0581 - mae: 0.2069\n",
            "Epoch 184/1200\n",
            "1/1 [==============================] - 0s 8ms/step - loss: 0.0577 - mae: 0.2062\n",
            "Epoch 185/1200\n",
            "1/1 [==============================] - 0s 7ms/step - loss: 0.0573 - mae: 0.2055\n",
            "Epoch 186/1200\n",
            "1/1 [==============================] - 0s 8ms/step - loss: 0.0569 - mae: 0.2048\n",
            "Epoch 187/1200\n",
            "1/1 [==============================] - 0s 8ms/step - loss: 0.0566 - mae: 0.2041\n",
            "Epoch 188/1200\n",
            "1/1 [==============================] - 0s 8ms/step - loss: 0.0562 - mae: 0.2034\n",
            "Epoch 189/1200\n",
            "1/1 [==============================] - 0s 8ms/step - loss: 0.0558 - mae: 0.2028\n",
            "Epoch 190/1200\n",
            "1/1 [==============================] - 0s 8ms/step - loss: 0.0554 - mae: 0.2021\n",
            "Epoch 191/1200\n",
            "1/1 [==============================] - 0s 8ms/step - loss: 0.0551 - mae: 0.2014\n",
            "Epoch 192/1200\n",
            "1/1 [==============================] - 0s 7ms/step - loss: 0.0547 - mae: 0.2007\n",
            "Epoch 193/1200\n",
            "1/1 [==============================] - 0s 8ms/step - loss: 0.0543 - mae: 0.2000\n",
            "Epoch 194/1200\n",
            "1/1 [==============================] - 0s 7ms/step - loss: 0.0539 - mae: 0.1994\n",
            "Epoch 195/1200\n",
            "1/1 [==============================] - 0s 8ms/step - loss: 0.0536 - mae: 0.1987\n",
            "Epoch 196/1200\n",
            "1/1 [==============================] - 0s 8ms/step - loss: 0.0532 - mae: 0.1980\n",
            "Epoch 197/1200\n",
            "1/1 [==============================] - 0s 224ms/step - loss: 0.0529 - mae: 0.1973\n",
            "Epoch 198/1200\n",
            "1/1 [==============================] - 0s 7ms/step - loss: 0.0525 - mae: 0.1967\n",
            "Epoch 199/1200\n",
            "1/1 [==============================] - 0s 7ms/step - loss: 0.0521 - mae: 0.1960\n",
            "Epoch 200/1200\n",
            "1/1 [==============================] - 0s 7ms/step - loss: 0.0518 - mae: 0.1953\n",
            "Epoch 201/1200\n",
            "1/1 [==============================] - 0s 8ms/step - loss: 0.0514 - mae: 0.1947\n",
            "Epoch 202/1200\n",
            "1/1 [==============================] - 0s 10ms/step - loss: 0.0511 - mae: 0.1940\n",
            "Epoch 203/1200\n",
            "1/1 [==============================] - 0s 7ms/step - loss: 0.0508 - mae: 0.1934\n",
            "Epoch 204/1200\n",
            "1/1 [==============================] - 0s 8ms/step - loss: 0.0504 - mae: 0.1927\n",
            "Epoch 205/1200\n",
            "1/1 [==============================] - 0s 7ms/step - loss: 0.0501 - mae: 0.1921\n",
            "Epoch 206/1200\n",
            "1/1 [==============================] - 0s 7ms/step - loss: 0.0497 - mae: 0.1914\n",
            "Epoch 207/1200\n",
            "1/1 [==============================] - 0s 7ms/step - loss: 0.0494 - mae: 0.1908\n",
            "Epoch 208/1200\n",
            "1/1 [==============================] - 0s 8ms/step - loss: 0.0491 - mae: 0.1901\n",
            "Epoch 209/1200\n",
            "1/1 [==============================] - 0s 7ms/step - loss: 0.0487 - mae: 0.1895\n",
            "Epoch 210/1200\n",
            "1/1 [==============================] - 0s 7ms/step - loss: 0.0484 - mae: 0.1888\n",
            "Epoch 211/1200\n",
            "1/1 [==============================] - 0s 7ms/step - loss: 0.0481 - mae: 0.1882\n",
            "Epoch 212/1200\n",
            "1/1 [==============================] - 0s 7ms/step - loss: 0.0478 - mae: 0.1876\n",
            "Epoch 213/1200\n",
            "1/1 [==============================] - 0s 8ms/step - loss: 0.0474 - mae: 0.1869\n",
            "Epoch 214/1200\n",
            "1/1 [==============================] - 0s 7ms/step - loss: 0.0471 - mae: 0.1863\n",
            "Epoch 215/1200\n",
            "1/1 [==============================] - 0s 7ms/step - loss: 0.0468 - mae: 0.1857\n",
            "Epoch 216/1200\n",
            "1/1 [==============================] - 0s 7ms/step - loss: 0.0465 - mae: 0.1850\n",
            "Epoch 217/1200\n",
            "1/1 [==============================] - 0s 7ms/step - loss: 0.0462 - mae: 0.1844\n",
            "Epoch 218/1200\n",
            "1/1 [==============================] - 0s 8ms/step - loss: 0.0458 - mae: 0.1838\n",
            "Epoch 219/1200\n",
            "1/1 [==============================] - 0s 8ms/step - loss: 0.0455 - mae: 0.1832\n",
            "Epoch 220/1200\n",
            "1/1 [==============================] - 0s 7ms/step - loss: 0.0452 - mae: 0.1825\n",
            "Epoch 221/1200\n",
            "1/1 [==============================] - 0s 8ms/step - loss: 0.0449 - mae: 0.1819\n",
            "Epoch 222/1200\n",
            "1/1 [==============================] - 0s 8ms/step - loss: 0.0446 - mae: 0.1813\n",
            "Epoch 223/1200\n",
            "1/1 [==============================] - 0s 8ms/step - loss: 0.0443 - mae: 0.1807\n",
            "Epoch 224/1200\n",
            "1/1 [==============================] - 0s 9ms/step - loss: 0.0440 - mae: 0.1801\n",
            "Epoch 225/1200\n",
            "1/1 [==============================] - 0s 9ms/step - loss: 0.0437 - mae: 0.1795\n",
            "Epoch 226/1200\n",
            "1/1 [==============================] - 0s 9ms/step - loss: 0.0434 - mae: 0.1789\n",
            "Epoch 227/1200\n",
            "1/1 [==============================] - 0s 8ms/step - loss: 0.0431 - mae: 0.1783\n",
            "Epoch 228/1200\n",
            "1/1 [==============================] - 0s 8ms/step - loss: 0.0428 - mae: 0.1777\n",
            "Epoch 229/1200\n",
            "1/1 [==============================] - 0s 8ms/step - loss: 0.0426 - mae: 0.1771\n",
            "Epoch 230/1200\n",
            "1/1 [==============================] - 0s 8ms/step - loss: 0.0423 - mae: 0.1765\n",
            "Epoch 231/1200\n",
            "1/1 [==============================] - 0s 8ms/step - loss: 0.0420 - mae: 0.1759\n",
            "Epoch 232/1200\n",
            "1/1 [==============================] - 0s 9ms/step - loss: 0.0417 - mae: 0.1753\n",
            "Epoch 233/1200\n",
            "1/1 [==============================] - 0s 8ms/step - loss: 0.0414 - mae: 0.1747\n",
            "Epoch 234/1200\n",
            "1/1 [==============================] - 0s 7ms/step - loss: 0.0411 - mae: 0.1741\n",
            "Epoch 235/1200\n",
            "1/1 [==============================] - 0s 15ms/step - loss: 0.0409 - mae: 0.1735\n",
            "Epoch 236/1200\n",
            "1/1 [==============================] - 0s 8ms/step - loss: 0.0406 - mae: 0.1729\n",
            "Epoch 237/1200\n",
            "1/1 [==============================] - 0s 6ms/step - loss: 0.0403 - mae: 0.1723\n",
            "Epoch 238/1200\n",
            "1/1 [==============================] - 0s 12ms/step - loss: 0.0400 - mae: 0.1718\n",
            "Epoch 239/1200\n",
            "1/1 [==============================] - 0s 6ms/step - loss: 0.0398 - mae: 0.1712\n",
            "Epoch 240/1200\n",
            "1/1 [==============================] - 0s 6ms/step - loss: 0.0395 - mae: 0.1706\n",
            "Epoch 241/1200\n",
            "1/1 [==============================] - 0s 5ms/step - loss: 0.0392 - mae: 0.1700\n",
            "Epoch 242/1200\n",
            "1/1 [==============================] - 0s 6ms/step - loss: 0.0390 - mae: 0.1694\n",
            "Epoch 243/1200\n",
            "1/1 [==============================] - 0s 6ms/step - loss: 0.0387 - mae: 0.1689\n",
            "Epoch 244/1200\n",
            "1/1 [==============================] - 0s 6ms/step - loss: 0.0384 - mae: 0.1683\n",
            "Epoch 245/1200\n",
            "1/1 [==============================] - 0s 8ms/step - loss: 0.0382 - mae: 0.1677\n",
            "Epoch 246/1200\n",
            "1/1 [==============================] - 0s 7ms/step - loss: 0.0379 - mae: 0.1672\n",
            "Epoch 247/1200\n",
            "1/1 [==============================] - 0s 8ms/step - loss: 0.0377 - mae: 0.1666\n",
            "Epoch 248/1200\n",
            "1/1 [==============================] - 0s 8ms/step - loss: 0.0374 - mae: 0.1660\n",
            "Epoch 249/1200\n",
            "1/1 [==============================] - 0s 9ms/step - loss: 0.0372 - mae: 0.1655\n",
            "Epoch 250/1200\n",
            "1/1 [==============================] - 0s 8ms/step - loss: 0.0369 - mae: 0.1649\n",
            "Epoch 251/1200\n",
            "1/1 [==============================] - 0s 8ms/step - loss: 0.0367 - mae: 0.1644\n",
            "Epoch 252/1200\n",
            "1/1 [==============================] - 0s 8ms/step - loss: 0.0364 - mae: 0.1638\n",
            "Epoch 253/1200\n",
            "1/1 [==============================] - 0s 8ms/step - loss: 0.0362 - mae: 0.1632\n",
            "Epoch 254/1200\n",
            "1/1 [==============================] - 0s 8ms/step - loss: 0.0359 - mae: 0.1627\n",
            "Epoch 255/1200\n",
            "1/1 [==============================] - 0s 8ms/step - loss: 0.0357 - mae: 0.1621\n",
            "Epoch 256/1200\n",
            "1/1 [==============================] - 0s 9ms/step - loss: 0.0354 - mae: 0.1616\n",
            "Epoch 257/1200\n",
            "1/1 [==============================] - 0s 8ms/step - loss: 0.0352 - mae: 0.1610\n",
            "Epoch 258/1200\n",
            "1/1 [==============================] - 0s 8ms/step - loss: 0.0350 - mae: 0.1605\n",
            "Epoch 259/1200\n",
            "1/1 [==============================] - 0s 8ms/step - loss: 0.0347 - mae: 0.1600\n",
            "Epoch 260/1200\n",
            "1/1 [==============================] - 0s 8ms/step - loss: 0.0345 - mae: 0.1594\n",
            "Epoch 261/1200\n",
            "1/1 [==============================] - 0s 8ms/step - loss: 0.0343 - mae: 0.1589\n",
            "Epoch 262/1200\n",
            "1/1 [==============================] - 0s 9ms/step - loss: 0.0340 - mae: 0.1583\n",
            "Epoch 263/1200\n",
            "1/1 [==============================] - 0s 8ms/step - loss: 0.0338 - mae: 0.1578\n",
            "Epoch 264/1200\n",
            "1/1 [==============================] - 0s 7ms/step - loss: 0.0336 - mae: 0.1573\n",
            "Epoch 265/1200\n",
            "1/1 [==============================] - 0s 7ms/step - loss: 0.0333 - mae: 0.1567\n",
            "Epoch 266/1200\n",
            "1/1 [==============================] - 0s 8ms/step - loss: 0.0331 - mae: 0.1562\n",
            "Epoch 267/1200\n",
            "1/1 [==============================] - 0s 8ms/step - loss: 0.0329 - mae: 0.1557\n",
            "Epoch 268/1200\n",
            "1/1 [==============================] - 0s 7ms/step - loss: 0.0327 - mae: 0.1552\n",
            "Epoch 269/1200\n",
            "1/1 [==============================] - 0s 7ms/step - loss: 0.0325 - mae: 0.1546\n",
            "Epoch 270/1200\n",
            "1/1 [==============================] - 0s 7ms/step - loss: 0.0322 - mae: 0.1541\n",
            "Epoch 271/1200\n",
            "1/1 [==============================] - 0s 8ms/step - loss: 0.0320 - mae: 0.1536\n",
            "Epoch 272/1200\n",
            "1/1 [==============================] - 0s 8ms/step - loss: 0.0318 - mae: 0.1531\n",
            "Epoch 273/1200\n",
            "1/1 [==============================] - 0s 7ms/step - loss: 0.0316 - mae: 0.1526\n",
            "Epoch 274/1200\n",
            "1/1 [==============================] - 0s 8ms/step - loss: 0.0314 - mae: 0.1520\n",
            "Epoch 275/1200\n",
            "1/1 [==============================] - 0s 8ms/step - loss: 0.0312 - mae: 0.1515\n",
            "Epoch 276/1200\n",
            "1/1 [==============================] - 0s 8ms/step - loss: 0.0310 - mae: 0.1510\n",
            "Epoch 277/1200\n",
            "1/1 [==============================] - 0s 7ms/step - loss: 0.0307 - mae: 0.1505\n",
            "Epoch 278/1200\n",
            "1/1 [==============================] - 0s 7ms/step - loss: 0.0305 - mae: 0.1500\n",
            "Epoch 279/1200\n",
            "1/1 [==============================] - 0s 7ms/step - loss: 0.0303 - mae: 0.1495\n",
            "Epoch 280/1200\n",
            "1/1 [==============================] - 0s 218ms/step - loss: 0.0301 - mae: 0.1490\n",
            "Epoch 281/1200\n",
            "1/1 [==============================] - 0s 8ms/step - loss: 0.0299 - mae: 0.1485\n",
            "Epoch 282/1200\n",
            "1/1 [==============================] - 0s 7ms/step - loss: 0.0297 - mae: 0.1480\n",
            "Epoch 283/1200\n",
            "1/1 [==============================] - 0s 7ms/step - loss: 0.0295 - mae: 0.1475\n",
            "Epoch 284/1200\n",
            "1/1 [==============================] - 0s 8ms/step - loss: 0.0293 - mae: 0.1470\n",
            "Epoch 285/1200\n",
            "1/1 [==============================] - 0s 8ms/step - loss: 0.0291 - mae: 0.1465\n",
            "Epoch 286/1200\n",
            "1/1 [==============================] - 0s 8ms/step - loss: 0.0289 - mae: 0.1460\n",
            "Epoch 287/1200\n",
            "1/1 [==============================] - 0s 9ms/step - loss: 0.0287 - mae: 0.1455\n",
            "Epoch 288/1200\n",
            "1/1 [==============================] - 0s 8ms/step - loss: 0.0285 - mae: 0.1450\n",
            "Epoch 289/1200\n",
            "1/1 [==============================] - 0s 8ms/step - loss: 0.0283 - mae: 0.1445\n",
            "Epoch 290/1200\n",
            "1/1 [==============================] - 0s 8ms/step - loss: 0.0282 - mae: 0.1440\n",
            "Epoch 291/1200\n",
            "1/1 [==============================] - 0s 8ms/step - loss: 0.0280 - mae: 0.1435\n",
            "Epoch 292/1200\n",
            "1/1 [==============================] - 0s 8ms/step - loss: 0.0278 - mae: 0.1430\n",
            "Epoch 293/1200\n",
            "1/1 [==============================] - 0s 7ms/step - loss: 0.0276 - mae: 0.1426\n",
            "Epoch 294/1200\n",
            "1/1 [==============================] - 0s 9ms/step - loss: 0.0274 - mae: 0.1421\n",
            "Epoch 295/1200\n",
            "1/1 [==============================] - 0s 8ms/step - loss: 0.0272 - mae: 0.1416\n",
            "Epoch 296/1200\n",
            "1/1 [==============================] - 0s 8ms/step - loss: 0.0270 - mae: 0.1411\n",
            "Epoch 297/1200\n",
            "1/1 [==============================] - 0s 9ms/step - loss: 0.0268 - mae: 0.1406\n",
            "Epoch 298/1200\n",
            "1/1 [==============================] - 0s 9ms/step - loss: 0.0267 - mae: 0.1402\n",
            "Epoch 299/1200\n",
            "1/1 [==============================] - 0s 8ms/step - loss: 0.0265 - mae: 0.1397\n",
            "Epoch 300/1200\n",
            "1/1 [==============================] - 0s 9ms/step - loss: 0.0263 - mae: 0.1392\n",
            "Epoch 301/1200\n",
            "1/1 [==============================] - 0s 9ms/step - loss: 0.0261 - mae: 0.1388\n",
            "Epoch 302/1200\n",
            "1/1 [==============================] - 0s 8ms/step - loss: 0.0260 - mae: 0.1383\n",
            "Epoch 303/1200\n",
            "1/1 [==============================] - 0s 8ms/step - loss: 0.0258 - mae: 0.1378\n",
            "Epoch 304/1200\n",
            "1/1 [==============================] - 0s 8ms/step - loss: 0.0256 - mae: 0.1373\n",
            "Epoch 305/1200\n",
            "1/1 [==============================] - 0s 7ms/step - loss: 0.0254 - mae: 0.1369\n",
            "Epoch 306/1200\n",
            "1/1 [==============================] - 0s 7ms/step - loss: 0.0253 - mae: 0.1364\n",
            "Epoch 307/1200\n",
            "1/1 [==============================] - 0s 8ms/step - loss: 0.0251 - mae: 0.1360\n",
            "Epoch 308/1200\n",
            "1/1 [==============================] - 0s 7ms/step - loss: 0.0249 - mae: 0.1355\n",
            "Epoch 309/1200\n",
            "1/1 [==============================] - 0s 8ms/step - loss: 0.0248 - mae: 0.1350\n",
            "Epoch 310/1200\n",
            "1/1 [==============================] - 0s 7ms/step - loss: 0.0246 - mae: 0.1346\n",
            "Epoch 311/1200\n",
            "1/1 [==============================] - 0s 8ms/step - loss: 0.0244 - mae: 0.1341\n",
            "Epoch 312/1200\n",
            "1/1 [==============================] - 0s 7ms/step - loss: 0.0243 - mae: 0.1337\n",
            "Epoch 313/1200\n",
            "1/1 [==============================] - 0s 8ms/step - loss: 0.0241 - mae: 0.1332\n",
            "Epoch 314/1200\n",
            "1/1 [==============================] - 0s 7ms/step - loss: 0.0239 - mae: 0.1328\n",
            "Epoch 315/1200\n",
            "1/1 [==============================] - 0s 8ms/step - loss: 0.0238 - mae: 0.1323\n",
            "Epoch 316/1200\n",
            "1/1 [==============================] - 0s 7ms/step - loss: 0.0236 - mae: 0.1319\n",
            "Epoch 317/1200\n",
            "1/1 [==============================] - 0s 7ms/step - loss: 0.0234 - mae: 0.1314\n",
            "Epoch 318/1200\n",
            "1/1 [==============================] - 0s 8ms/step - loss: 0.0233 - mae: 0.1310\n",
            "Epoch 319/1200\n",
            "1/1 [==============================] - 0s 8ms/step - loss: 0.0231 - mae: 0.1305\n",
            "Epoch 320/1200\n",
            "1/1 [==============================] - 0s 13ms/step - loss: 0.0230 - mae: 0.1301\n",
            "Epoch 321/1200\n",
            "1/1 [==============================] - 0s 7ms/step - loss: 0.0228 - mae: 0.1297\n",
            "Epoch 322/1200\n",
            "1/1 [==============================] - 0s 7ms/step - loss: 0.0227 - mae: 0.1292\n",
            "Epoch 323/1200\n",
            "1/1 [==============================] - 0s 10ms/step - loss: 0.0225 - mae: 0.1288\n",
            "Epoch 324/1200\n",
            "1/1 [==============================] - 0s 7ms/step - loss: 0.0224 - mae: 0.1284\n",
            "Epoch 325/1200\n",
            "1/1 [==============================] - 0s 7ms/step - loss: 0.0222 - mae: 0.1279\n",
            "Epoch 326/1200\n",
            "1/1 [==============================] - 0s 8ms/step - loss: 0.0221 - mae: 0.1275\n",
            "Epoch 327/1200\n",
            "1/1 [==============================] - 0s 9ms/step - loss: 0.0219 - mae: 0.1271\n",
            "Epoch 328/1200\n",
            "1/1 [==============================] - 0s 8ms/step - loss: 0.0218 - mae: 0.1266\n",
            "Epoch 329/1200\n",
            "1/1 [==============================] - 0s 7ms/step - loss: 0.0216 - mae: 0.1262\n",
            "Epoch 330/1200\n",
            "1/1 [==============================] - 0s 7ms/step - loss: 0.0215 - mae: 0.1258\n",
            "Epoch 331/1200\n",
            "1/1 [==============================] - 0s 8ms/step - loss: 0.0213 - mae: 0.1253\n",
            "Epoch 332/1200\n",
            "1/1 [==============================] - 0s 8ms/step - loss: 0.0212 - mae: 0.1249\n",
            "Epoch 333/1200\n",
            "1/1 [==============================] - 0s 8ms/step - loss: 0.0210 - mae: 0.1245\n",
            "Epoch 334/1200\n",
            "1/1 [==============================] - 0s 7ms/step - loss: 0.0209 - mae: 0.1241\n",
            "Epoch 335/1200\n",
            "1/1 [==============================] - 0s 7ms/step - loss: 0.0208 - mae: 0.1237\n",
            "Epoch 336/1200\n",
            "1/1 [==============================] - 0s 7ms/step - loss: 0.0206 - mae: 0.1232\n",
            "Epoch 337/1200\n",
            "1/1 [==============================] - 0s 7ms/step - loss: 0.0205 - mae: 0.1228\n",
            "Epoch 338/1200\n",
            "1/1 [==============================] - 0s 7ms/step - loss: 0.0203 - mae: 0.1224\n",
            "Epoch 339/1200\n",
            "1/1 [==============================] - 0s 7ms/step - loss: 0.0202 - mae: 0.1220\n",
            "Epoch 340/1200\n",
            "1/1 [==============================] - 0s 7ms/step - loss: 0.0201 - mae: 0.1216\n",
            "Epoch 341/1200\n",
            "1/1 [==============================] - 0s 11ms/step - loss: 0.0199 - mae: 0.1212\n",
            "Epoch 342/1200\n",
            "1/1 [==============================] - 0s 7ms/step - loss: 0.0198 - mae: 0.1208\n",
            "Epoch 343/1200\n",
            "1/1 [==============================] - 0s 7ms/step - loss: 0.0197 - mae: 0.1204\n",
            "Epoch 344/1200\n",
            "1/1 [==============================] - 0s 8ms/step - loss: 0.0195 - mae: 0.1199\n",
            "Epoch 345/1200\n",
            "1/1 [==============================] - 0s 8ms/step - loss: 0.0194 - mae: 0.1195\n",
            "Epoch 346/1200\n",
            "1/1 [==============================] - 0s 7ms/step - loss: 0.0193 - mae: 0.1191\n",
            "Epoch 347/1200\n",
            "1/1 [==============================] - 0s 8ms/step - loss: 0.0191 - mae: 0.1187\n",
            "Epoch 348/1200\n",
            "1/1 [==============================] - 0s 8ms/step - loss: 0.0190 - mae: 0.1183\n",
            "Epoch 349/1200\n",
            "1/1 [==============================] - 0s 8ms/step - loss: 0.0189 - mae: 0.1179\n",
            "Epoch 350/1200\n",
            "1/1 [==============================] - 0s 8ms/step - loss: 0.0188 - mae: 0.1175\n",
            "Epoch 351/1200\n",
            "1/1 [==============================] - 0s 8ms/step - loss: 0.0186 - mae: 0.1171\n",
            "Epoch 352/1200\n",
            "1/1 [==============================] - 0s 8ms/step - loss: 0.0185 - mae: 0.1167\n",
            "Epoch 353/1200\n",
            "1/1 [==============================] - 0s 9ms/step - loss: 0.0184 - mae: 0.1163\n",
            "Epoch 354/1200\n",
            "1/1 [==============================] - 0s 8ms/step - loss: 0.0183 - mae: 0.1160\n",
            "Epoch 355/1200\n",
            "1/1 [==============================] - 0s 8ms/step - loss: 0.0181 - mae: 0.1156\n",
            "Epoch 356/1200\n",
            "1/1 [==============================] - 0s 7ms/step - loss: 0.0180 - mae: 0.1152\n",
            "Epoch 357/1200\n",
            "1/1 [==============================] - 0s 8ms/step - loss: 0.0179 - mae: 0.1148\n",
            "Epoch 358/1200\n",
            "1/1 [==============================] - 0s 8ms/step - loss: 0.0178 - mae: 0.1144\n",
            "Epoch 359/1200\n",
            "1/1 [==============================] - 0s 9ms/step - loss: 0.0176 - mae: 0.1140\n",
            "Epoch 360/1200\n",
            "1/1 [==============================] - 0s 8ms/step - loss: 0.0175 - mae: 0.1136\n",
            "Epoch 361/1200\n",
            "1/1 [==============================] - 0s 8ms/step - loss: 0.0174 - mae: 0.1132\n",
            "Epoch 362/1200\n",
            "1/1 [==============================] - 0s 12ms/step - loss: 0.0173 - mae: 0.1129\n",
            "Epoch 363/1200\n",
            "1/1 [==============================] - 0s 8ms/step - loss: 0.0172 - mae: 0.1125\n",
            "Epoch 364/1200\n",
            "1/1 [==============================] - 0s 7ms/step - loss: 0.0171 - mae: 0.1121\n",
            "Epoch 365/1200\n",
            "1/1 [==============================] - 0s 7ms/step - loss: 0.0169 - mae: 0.1117\n",
            "Epoch 366/1200\n",
            "1/1 [==============================] - 0s 7ms/step - loss: 0.0168 - mae: 0.1113\n",
            "Epoch 367/1200\n",
            "1/1 [==============================] - 0s 7ms/step - loss: 0.0167 - mae: 0.1110\n",
            "Epoch 368/1200\n",
            "1/1 [==============================] - 0s 8ms/step - loss: 0.0166 - mae: 0.1106\n",
            "Epoch 369/1200\n",
            "1/1 [==============================] - 0s 7ms/step - loss: 0.0165 - mae: 0.1102\n",
            "Epoch 370/1200\n",
            "1/1 [==============================] - 0s 7ms/step - loss: 0.0164 - mae: 0.1098\n",
            "Epoch 371/1200\n",
            "1/1 [==============================] - 0s 7ms/step - loss: 0.0163 - mae: 0.1095\n",
            "Epoch 372/1200\n",
            "1/1 [==============================] - 0s 7ms/step - loss: 0.0162 - mae: 0.1091\n",
            "Epoch 373/1200\n",
            "1/1 [==============================] - 0s 10ms/step - loss: 0.0160 - mae: 0.1087\n",
            "Epoch 374/1200\n",
            "1/1 [==============================] - 0s 7ms/step - loss: 0.0159 - mae: 0.1084\n",
            "Epoch 375/1200\n",
            "1/1 [==============================] - 0s 7ms/step - loss: 0.0158 - mae: 0.1080\n",
            "Epoch 376/1200\n",
            "1/1 [==============================] - 0s 7ms/step - loss: 0.0157 - mae: 0.1076\n",
            "Epoch 377/1200\n",
            "1/1 [==============================] - 0s 7ms/step - loss: 0.0156 - mae: 0.1073\n",
            "Epoch 378/1200\n",
            "1/1 [==============================] - 0s 7ms/step - loss: 0.0155 - mae: 0.1069\n",
            "Epoch 379/1200\n",
            "1/1 [==============================] - 0s 7ms/step - loss: 0.0154 - mae: 0.1065\n",
            "Epoch 380/1200\n",
            "1/1 [==============================] - 0s 7ms/step - loss: 0.0153 - mae: 0.1062\n",
            "Epoch 381/1200\n",
            "1/1 [==============================] - 0s 9ms/step - loss: 0.0152 - mae: 0.1058\n",
            "Epoch 382/1200\n",
            "1/1 [==============================] - 0s 7ms/step - loss: 0.0151 - mae: 0.1055\n",
            "Epoch 383/1200\n",
            "1/1 [==============================] - 0s 7ms/step - loss: 0.0150 - mae: 0.1051\n",
            "Epoch 384/1200\n",
            "1/1 [==============================] - 0s 7ms/step - loss: 0.0149 - mae: 0.1048\n",
            "Epoch 385/1200\n",
            "1/1 [==============================] - 0s 8ms/step - loss: 0.0148 - mae: 0.1044\n",
            "Epoch 386/1200\n",
            "1/1 [==============================] - 0s 8ms/step - loss: 0.0147 - mae: 0.1040\n",
            "Epoch 387/1200\n",
            "1/1 [==============================] - 0s 7ms/step - loss: 0.0146 - mae: 0.1037\n",
            "Epoch 388/1200\n",
            "1/1 [==============================] - 0s 8ms/step - loss: 0.0145 - mae: 0.1033\n",
            "Epoch 389/1200\n",
            "1/1 [==============================] - 0s 7ms/step - loss: 0.0144 - mae: 0.1030\n",
            "Epoch 390/1200\n",
            "1/1 [==============================] - 0s 8ms/step - loss: 0.0143 - mae: 0.1026\n",
            "Epoch 391/1200\n",
            "1/1 [==============================] - 0s 7ms/step - loss: 0.0142 - mae: 0.1023\n",
            "Epoch 392/1200\n",
            "1/1 [==============================] - 0s 8ms/step - loss: 0.0141 - mae: 0.1020\n",
            "Epoch 393/1200\n",
            "1/1 [==============================] - 0s 8ms/step - loss: 0.0140 - mae: 0.1016\n",
            "Epoch 394/1200\n",
            "1/1 [==============================] - 0s 10ms/step - loss: 0.0139 - mae: 0.1013\n",
            "Epoch 395/1200\n",
            "1/1 [==============================] - 0s 8ms/step - loss: 0.0138 - mae: 0.1009\n",
            "Epoch 396/1200\n",
            "1/1 [==============================] - 0s 8ms/step - loss: 0.0137 - mae: 0.1006\n",
            "Epoch 397/1200\n",
            "1/1 [==============================] - 0s 8ms/step - loss: 0.0136 - mae: 0.1002\n",
            "Epoch 398/1200\n",
            "1/1 [==============================] - 0s 8ms/step - loss: 0.0135 - mae: 0.0999\n",
            "Epoch 399/1200\n",
            "1/1 [==============================] - 0s 8ms/step - loss: 0.0135 - mae: 0.0996\n",
            "Epoch 400/1200\n",
            "1/1 [==============================] - 0s 8ms/step - loss: 0.0134 - mae: 0.0992\n",
            "Epoch 401/1200\n",
            "1/1 [==============================] - 0s 8ms/step - loss: 0.0133 - mae: 0.0989\n",
            "Epoch 402/1200\n",
            "1/1 [==============================] - 0s 9ms/step - loss: 0.0132 - mae: 0.0986\n",
            "Epoch 403/1200\n",
            "1/1 [==============================] - 0s 8ms/step - loss: 0.0131 - mae: 0.0982\n",
            "Epoch 404/1200\n",
            "1/1 [==============================] - 0s 8ms/step - loss: 0.0130 - mae: 0.0979\n",
            "Epoch 405/1200\n",
            "1/1 [==============================] - 0s 8ms/step - loss: 0.0129 - mae: 0.0976\n",
            "Epoch 406/1200\n",
            "1/1 [==============================] - 0s 8ms/step - loss: 0.0128 - mae: 0.0972\n",
            "Epoch 407/1200\n",
            "1/1 [==============================] - 0s 8ms/step - loss: 0.0127 - mae: 0.0969\n",
            "Epoch 408/1200\n",
            "1/1 [==============================] - 0s 8ms/step - loss: 0.0127 - mae: 0.0966\n",
            "Epoch 409/1200\n",
            "1/1 [==============================] - 0s 8ms/step - loss: 0.0126 - mae: 0.0962\n",
            "Epoch 410/1200\n",
            "1/1 [==============================] - 0s 8ms/step - loss: 0.0125 - mae: 0.0959\n",
            "Epoch 411/1200\n",
            "1/1 [==============================] - 0s 15ms/step - loss: 0.0124 - mae: 0.0956\n",
            "Epoch 412/1200\n",
            "1/1 [==============================] - 0s 8ms/step - loss: 0.0123 - mae: 0.0953\n",
            "Epoch 413/1200\n",
            "1/1 [==============================] - 0s 8ms/step - loss: 0.0122 - mae: 0.0950\n",
            "Epoch 414/1200\n",
            "1/1 [==============================] - 0s 8ms/step - loss: 0.0122 - mae: 0.0946\n",
            "Epoch 415/1200\n",
            "1/1 [==============================] - 0s 8ms/step - loss: 0.0121 - mae: 0.0943\n",
            "Epoch 416/1200\n",
            "1/1 [==============================] - 0s 8ms/step - loss: 0.0120 - mae: 0.0940\n",
            "Epoch 417/1200\n",
            "1/1 [==============================] - 0s 8ms/step - loss: 0.0119 - mae: 0.0937\n",
            "Epoch 418/1200\n",
            "1/1 [==============================] - 0s 8ms/step - loss: 0.0118 - mae: 0.0934\n",
            "Epoch 419/1200\n",
            "1/1 [==============================] - 0s 8ms/step - loss: 0.0118 - mae: 0.0930\n",
            "Epoch 420/1200\n",
            "1/1 [==============================] - 0s 8ms/step - loss: 0.0117 - mae: 0.0927\n",
            "Epoch 421/1200\n",
            "1/1 [==============================] - 0s 7ms/step - loss: 0.0116 - mae: 0.0924\n",
            "Epoch 422/1200\n",
            "1/1 [==============================] - 0s 8ms/step - loss: 0.0115 - mae: 0.0921\n",
            "Epoch 423/1200\n",
            "1/1 [==============================] - 0s 7ms/step - loss: 0.0114 - mae: 0.0918\n",
            "Epoch 424/1200\n",
            "1/1 [==============================] - 0s 8ms/step - loss: 0.0114 - mae: 0.0915\n",
            "Epoch 425/1200\n",
            "1/1 [==============================] - 0s 7ms/step - loss: 0.0113 - mae: 0.0912\n",
            "Epoch 426/1200\n",
            "1/1 [==============================] - 0s 7ms/step - loss: 0.0112 - mae: 0.0909\n",
            "Epoch 427/1200\n",
            "1/1 [==============================] - 0s 7ms/step - loss: 0.0111 - mae: 0.0906\n",
            "Epoch 428/1200\n",
            "1/1 [==============================] - 0s 7ms/step - loss: 0.0111 - mae: 0.0902\n",
            "Epoch 429/1200\n",
            "1/1 [==============================] - 0s 8ms/step - loss: 0.0110 - mae: 0.0899\n",
            "Epoch 430/1200\n",
            "1/1 [==============================] - 0s 7ms/step - loss: 0.0109 - mae: 0.0896\n",
            "Epoch 431/1200\n",
            "1/1 [==============================] - 0s 9ms/step - loss: 0.0108 - mae: 0.0893\n",
            "Epoch 432/1200\n",
            "1/1 [==============================] - 0s 9ms/step - loss: 0.0108 - mae: 0.0890\n",
            "Epoch 433/1200\n",
            "1/1 [==============================] - 0s 8ms/step - loss: 0.0107 - mae: 0.0887\n",
            "Epoch 434/1200\n",
            "1/1 [==============================] - 0s 9ms/step - loss: 0.0106 - mae: 0.0884\n",
            "Epoch 435/1200\n",
            "1/1 [==============================] - 0s 9ms/step - loss: 0.0105 - mae: 0.0881\n",
            "Epoch 436/1200\n",
            "1/1 [==============================] - 0s 9ms/step - loss: 0.0105 - mae: 0.0878\n",
            "Epoch 437/1200\n",
            "1/1 [==============================] - 0s 9ms/step - loss: 0.0104 - mae: 0.0875\n",
            "Epoch 438/1200\n",
            "1/1 [==============================] - 0s 9ms/step - loss: 0.0103 - mae: 0.0872\n",
            "Epoch 439/1200\n",
            "1/1 [==============================] - 0s 8ms/step - loss: 0.0103 - mae: 0.0869\n",
            "Epoch 440/1200\n",
            "1/1 [==============================] - 0s 9ms/step - loss: 0.0102 - mae: 0.0867\n",
            "Epoch 441/1200\n",
            "1/1 [==============================] - 0s 9ms/step - loss: 0.0101 - mae: 0.0864\n",
            "Epoch 442/1200\n",
            "1/1 [==============================] - 0s 8ms/step - loss: 0.0101 - mae: 0.0861\n",
            "Epoch 443/1200\n",
            "1/1 [==============================] - 0s 9ms/step - loss: 0.0100 - mae: 0.0858\n",
            "Epoch 444/1200\n",
            "1/1 [==============================] - 0s 9ms/step - loss: 0.0099 - mae: 0.0855\n",
            "Epoch 445/1200\n",
            "1/1 [==============================] - 0s 8ms/step - loss: 0.0099 - mae: 0.0852\n",
            "Epoch 446/1200\n",
            "1/1 [==============================] - 0s 9ms/step - loss: 0.0098 - mae: 0.0849\n",
            "Epoch 447/1200\n",
            "1/1 [==============================] - 0s 229ms/step - loss: 0.0097 - mae: 0.0846\n",
            "Epoch 448/1200\n",
            "1/1 [==============================] - 0s 11ms/step - loss: 0.0097 - mae: 0.0843\n",
            "Epoch 449/1200\n",
            "1/1 [==============================] - 0s 11ms/step - loss: 0.0096 - mae: 0.0841\n",
            "Epoch 450/1200\n",
            "1/1 [==============================] - 0s 7ms/step - loss: 0.0095 - mae: 0.0838\n",
            "Epoch 451/1200\n",
            "1/1 [==============================] - 0s 7ms/step - loss: 0.0095 - mae: 0.0835\n",
            "Epoch 452/1200\n",
            "1/1 [==============================] - 0s 8ms/step - loss: 0.0094 - mae: 0.0832\n",
            "Epoch 453/1200\n",
            "1/1 [==============================] - 0s 7ms/step - loss: 0.0093 - mae: 0.0829\n",
            "Epoch 454/1200\n",
            "1/1 [==============================] - 0s 7ms/step - loss: 0.0093 - mae: 0.0826\n",
            "Epoch 455/1200\n",
            "1/1 [==============================] - 0s 7ms/step - loss: 0.0092 - mae: 0.0824\n",
            "Epoch 456/1200\n",
            "1/1 [==============================] - 0s 7ms/step - loss: 0.0091 - mae: 0.0821\n",
            "Epoch 457/1200\n",
            "1/1 [==============================] - 0s 7ms/step - loss: 0.0091 - mae: 0.0818\n",
            "Epoch 458/1200\n",
            "1/1 [==============================] - 0s 7ms/step - loss: 0.0090 - mae: 0.0815\n",
            "Epoch 459/1200\n",
            "1/1 [==============================] - 0s 11ms/step - loss: 0.0090 - mae: 0.0813\n",
            "Epoch 460/1200\n",
            "1/1 [==============================] - 0s 6ms/step - loss: 0.0089 - mae: 0.0810\n",
            "Epoch 461/1200\n",
            "1/1 [==============================] - 0s 6ms/step - loss: 0.0088 - mae: 0.0807\n",
            "Epoch 462/1200\n",
            "1/1 [==============================] - 0s 6ms/step - loss: 0.0088 - mae: 0.0804\n",
            "Epoch 463/1200\n",
            "1/1 [==============================] - 0s 7ms/step - loss: 0.0087 - mae: 0.0802\n",
            "Epoch 464/1200\n",
            "1/1 [==============================] - 0s 7ms/step - loss: 0.0087 - mae: 0.0799\n",
            "Epoch 465/1200\n",
            "1/1 [==============================] - 0s 7ms/step - loss: 0.0086 - mae: 0.0796\n",
            "Epoch 466/1200\n",
            "1/1 [==============================] - 0s 8ms/step - loss: 0.0085 - mae: 0.0794\n",
            "Epoch 467/1200\n",
            "1/1 [==============================] - 0s 8ms/step - loss: 0.0085 - mae: 0.0791\n",
            "Epoch 468/1200\n",
            "1/1 [==============================] - 0s 13ms/step - loss: 0.0084 - mae: 0.0788\n",
            "Epoch 469/1200\n",
            "1/1 [==============================] - 0s 7ms/step - loss: 0.0084 - mae: 0.0785\n",
            "Epoch 470/1200\n",
            "1/1 [==============================] - 0s 7ms/step - loss: 0.0083 - mae: 0.0783\n",
            "Epoch 471/1200\n",
            "1/1 [==============================] - 0s 8ms/step - loss: 0.0083 - mae: 0.0780\n",
            "Epoch 472/1200\n",
            "1/1 [==============================] - 0s 8ms/step - loss: 0.0082 - mae: 0.0778\n",
            "Epoch 473/1200\n",
            "1/1 [==============================] - 0s 7ms/step - loss: 0.0082 - mae: 0.0775\n",
            "Epoch 474/1200\n",
            "1/1 [==============================] - 0s 7ms/step - loss: 0.0081 - mae: 0.0772\n",
            "Epoch 475/1200\n",
            "1/1 [==============================] - 0s 7ms/step - loss: 0.0080 - mae: 0.0770\n",
            "Epoch 476/1200\n",
            "1/1 [==============================] - 0s 7ms/step - loss: 0.0080 - mae: 0.0767\n",
            "Epoch 477/1200\n",
            "1/1 [==============================] - 0s 8ms/step - loss: 0.0079 - mae: 0.0764\n",
            "Epoch 478/1200\n",
            "1/1 [==============================] - 0s 8ms/step - loss: 0.0079 - mae: 0.0762\n",
            "Epoch 479/1200\n",
            "1/1 [==============================] - 0s 9ms/step - loss: 0.0078 - mae: 0.0759\n",
            "Epoch 480/1200\n",
            "1/1 [==============================] - 0s 8ms/step - loss: 0.0078 - mae: 0.0757\n",
            "Epoch 481/1200\n",
            "1/1 [==============================] - 0s 8ms/step - loss: 0.0077 - mae: 0.0754\n",
            "Epoch 482/1200\n",
            "1/1 [==============================] - 0s 7ms/step - loss: 0.0077 - mae: 0.0752\n",
            "Epoch 483/1200\n",
            "1/1 [==============================] - 0s 13ms/step - loss: 0.0076 - mae: 0.0749\n",
            "Epoch 484/1200\n",
            "1/1 [==============================] - 0s 14ms/step - loss: 0.0076 - mae: 0.0747\n",
            "Epoch 485/1200\n",
            "1/1 [==============================] - 0s 11ms/step - loss: 0.0075 - mae: 0.0744\n",
            "Epoch 486/1200\n",
            "1/1 [==============================] - 0s 8ms/step - loss: 0.0075 - mae: 0.0742\n",
            "Epoch 487/1200\n",
            "1/1 [==============================] - 0s 84ms/step - loss: 0.0074 - mae: 0.0739\n",
            "Epoch 488/1200\n",
            "1/1 [==============================] - 0s 42ms/step - loss: 0.0074 - mae: 0.0737\n",
            "Epoch 489/1200\n",
            "1/1 [==============================] - 0s 9ms/step - loss: 0.0073 - mae: 0.0734\n",
            "Epoch 490/1200\n",
            "1/1 [==============================] - 0s 13ms/step - loss: 0.0073 - mae: 0.0732\n",
            "Epoch 491/1200\n",
            "1/1 [==============================] - 0s 7ms/step - loss: 0.0072 - mae: 0.0729\n",
            "Epoch 492/1200\n",
            "1/1 [==============================] - 0s 7ms/step - loss: 0.0072 - mae: 0.0727\n",
            "Epoch 493/1200\n",
            "1/1 [==============================] - 0s 7ms/step - loss: 0.0071 - mae: 0.0724\n",
            "Epoch 494/1200\n",
            "1/1 [==============================] - 0s 12ms/step - loss: 0.0071 - mae: 0.0722\n",
            "Epoch 495/1200\n",
            "1/1 [==============================] - 0s 7ms/step - loss: 0.0070 - mae: 0.0719\n",
            "Epoch 496/1200\n",
            "1/1 [==============================] - 0s 7ms/step - loss: 0.0070 - mae: 0.0717\n",
            "Epoch 497/1200\n",
            "1/1 [==============================] - 0s 7ms/step - loss: 0.0069 - mae: 0.0714\n",
            "Epoch 498/1200\n",
            "1/1 [==============================] - 0s 7ms/step - loss: 0.0069 - mae: 0.0712\n",
            "Epoch 499/1200\n",
            "1/1 [==============================] - 0s 7ms/step - loss: 0.0068 - mae: 0.0710\n",
            "Epoch 500/1200\n",
            "1/1 [==============================] - 0s 10ms/step - loss: 0.0068 - mae: 0.0707\n",
            "Epoch 501/1200\n",
            "1/1 [==============================] - 0s 7ms/step - loss: 0.0067 - mae: 0.0705\n",
            "Epoch 502/1200\n",
            "1/1 [==============================] - 0s 7ms/step - loss: 0.0067 - mae: 0.0702\n",
            "Epoch 503/1200\n",
            "1/1 [==============================] - 0s 8ms/step - loss: 0.0067 - mae: 0.0700\n",
            "Epoch 504/1200\n",
            "1/1 [==============================] - 0s 8ms/step - loss: 0.0066 - mae: 0.0698\n",
            "Epoch 505/1200\n",
            "1/1 [==============================] - 0s 7ms/step - loss: 0.0066 - mae: 0.0695\n",
            "Epoch 506/1200\n",
            "1/1 [==============================] - 0s 13ms/step - loss: 0.0065 - mae: 0.0693\n",
            "Epoch 507/1200\n",
            "1/1 [==============================] - 0s 6ms/step - loss: 0.0065 - mae: 0.0691\n",
            "Epoch 508/1200\n",
            "1/1 [==============================] - 0s 7ms/step - loss: 0.0064 - mae: 0.0688\n",
            "Epoch 509/1200\n",
            "1/1 [==============================] - 0s 6ms/step - loss: 0.0064 - mae: 0.0686\n",
            "Epoch 510/1200\n",
            "1/1 [==============================] - 0s 7ms/step - loss: 0.0063 - mae: 0.0684\n",
            "Epoch 511/1200\n",
            "1/1 [==============================] - 0s 7ms/step - loss: 0.0063 - mae: 0.0681\n",
            "Epoch 512/1200\n",
            "1/1 [==============================] - 0s 7ms/step - loss: 0.0063 - mae: 0.0679\n",
            "Epoch 513/1200\n",
            "1/1 [==============================] - 0s 7ms/step - loss: 0.0062 - mae: 0.0677\n",
            "Epoch 514/1200\n",
            "1/1 [==============================] - 0s 7ms/step - loss: 0.0062 - mae: 0.0674\n",
            "Epoch 515/1200\n",
            "1/1 [==============================] - 0s 7ms/step - loss: 0.0061 - mae: 0.0672\n",
            "Epoch 516/1200\n",
            "1/1 [==============================] - 0s 7ms/step - loss: 0.0061 - mae: 0.0670\n",
            "Epoch 517/1200\n",
            "1/1 [==============================] - 0s 15ms/step - loss: 0.0061 - mae: 0.0668\n",
            "Epoch 518/1200\n",
            "1/1 [==============================] - 0s 6ms/step - loss: 0.0060 - mae: 0.0665\n",
            "Epoch 519/1200\n",
            "1/1 [==============================] - 0s 7ms/step - loss: 0.0060 - mae: 0.0663\n",
            "Epoch 520/1200\n",
            "1/1 [==============================] - 0s 7ms/step - loss: 0.0059 - mae: 0.0661\n",
            "Epoch 521/1200\n",
            "1/1 [==============================] - 0s 11ms/step - loss: 0.0059 - mae: 0.0659\n",
            "Epoch 522/1200\n",
            "1/1 [==============================] - 0s 6ms/step - loss: 0.0058 - mae: 0.0656\n",
            "Epoch 523/1200\n",
            "1/1 [==============================] - 0s 6ms/step - loss: 0.0058 - mae: 0.0654\n",
            "Epoch 524/1200\n",
            "1/1 [==============================] - 0s 6ms/step - loss: 0.0058 - mae: 0.0652\n",
            "Epoch 525/1200\n",
            "1/1 [==============================] - 0s 6ms/step - loss: 0.0057 - mae: 0.0650\n",
            "Epoch 526/1200\n",
            "1/1 [==============================] - 0s 6ms/step - loss: 0.0057 - mae: 0.0648\n",
            "Epoch 527/1200\n",
            "1/1 [==============================] - 0s 6ms/step - loss: 0.0057 - mae: 0.0645\n",
            "Epoch 528/1200\n",
            "1/1 [==============================] - 0s 7ms/step - loss: 0.0056 - mae: 0.0643\n",
            "Epoch 529/1200\n",
            "1/1 [==============================] - 0s 7ms/step - loss: 0.0056 - mae: 0.0641\n",
            "Epoch 530/1200\n",
            "1/1 [==============================] - 0s 91ms/step - loss: 0.0055 - mae: 0.0639\n",
            "Epoch 531/1200\n",
            "1/1 [==============================] - 0s 10ms/step - loss: 0.0055 - mae: 0.0637\n",
            "Epoch 532/1200\n",
            "1/1 [==============================] - 0s 10ms/step - loss: 0.0055 - mae: 0.0635\n",
            "Epoch 533/1200\n",
            "1/1 [==============================] - 0s 7ms/step - loss: 0.0054 - mae: 0.0632\n",
            "Epoch 534/1200\n",
            "1/1 [==============================] - 0s 7ms/step - loss: 0.0054 - mae: 0.0630\n",
            "Epoch 535/1200\n",
            "1/1 [==============================] - 0s 8ms/step - loss: 0.0054 - mae: 0.0628\n",
            "Epoch 536/1200\n",
            "1/1 [==============================] - 0s 9ms/step - loss: 0.0053 - mae: 0.0626\n",
            "Epoch 537/1200\n",
            "1/1 [==============================] - 0s 6ms/step - loss: 0.0053 - mae: 0.0624\n",
            "Epoch 538/1200\n",
            "1/1 [==============================] - 0s 6ms/step - loss: 0.0052 - mae: 0.0622\n",
            "Epoch 539/1200\n",
            "1/1 [==============================] - 0s 11ms/step - loss: 0.0052 - mae: 0.0620\n",
            "Epoch 540/1200\n",
            "1/1 [==============================] - 0s 7ms/step - loss: 0.0052 - mae: 0.0618\n",
            "Epoch 541/1200\n",
            "1/1 [==============================] - 0s 10ms/step - loss: 0.0051 - mae: 0.0616\n",
            "Epoch 542/1200\n",
            "1/1 [==============================] - 0s 8ms/step - loss: 0.0051 - mae: 0.0613\n",
            "Epoch 543/1200\n",
            "1/1 [==============================] - 0s 7ms/step - loss: 0.0051 - mae: 0.0611\n",
            "Epoch 544/1200\n",
            "1/1 [==============================] - 0s 11ms/step - loss: 0.0050 - mae: 0.0609\n",
            "Epoch 545/1200\n",
            "1/1 [==============================] - 0s 6ms/step - loss: 0.0050 - mae: 0.0607\n",
            "Epoch 546/1200\n",
            "1/1 [==============================] - 0s 7ms/step - loss: 0.0050 - mae: 0.0605\n",
            "Epoch 547/1200\n",
            "1/1 [==============================] - 0s 9ms/step - loss: 0.0049 - mae: 0.0603\n",
            "Epoch 548/1200\n",
            "1/1 [==============================] - 0s 9ms/step - loss: 0.0049 - mae: 0.0601\n",
            "Epoch 549/1200\n",
            "1/1 [==============================] - 0s 6ms/step - loss: 0.0049 - mae: 0.0599\n",
            "Epoch 550/1200\n",
            "1/1 [==============================] - 0s 6ms/step - loss: 0.0048 - mae: 0.0597\n",
            "Epoch 551/1200\n",
            "1/1 [==============================] - 0s 10ms/step - loss: 0.0048 - mae: 0.0595\n",
            "Epoch 552/1200\n",
            "1/1 [==============================] - 0s 6ms/step - loss: 0.0048 - mae: 0.0593\n",
            "Epoch 553/1200\n",
            "1/1 [==============================] - 0s 7ms/step - loss: 0.0047 - mae: 0.0591\n",
            "Epoch 554/1200\n",
            "1/1 [==============================] - 0s 10ms/step - loss: 0.0047 - mae: 0.0589\n",
            "Epoch 555/1200\n",
            "1/1 [==============================] - 0s 6ms/step - loss: 0.0047 - mae: 0.0587\n",
            "Epoch 556/1200\n",
            "1/1 [==============================] - 0s 7ms/step - loss: 0.0046 - mae: 0.0585\n",
            "Epoch 557/1200\n",
            "1/1 [==============================] - 0s 7ms/step - loss: 0.0046 - mae: 0.0583\n",
            "Epoch 558/1200\n",
            "1/1 [==============================] - 0s 6ms/step - loss: 0.0046 - mae: 0.0581\n",
            "Epoch 559/1200\n",
            "1/1 [==============================] - 0s 8ms/step - loss: 0.0046 - mae: 0.0579\n",
            "Epoch 560/1200\n",
            "1/1 [==============================] - 0s 9ms/step - loss: 0.0045 - mae: 0.0577\n",
            "Epoch 561/1200\n",
            "1/1 [==============================] - 0s 9ms/step - loss: 0.0045 - mae: 0.0575\n",
            "Epoch 562/1200\n",
            "1/1 [==============================] - 0s 7ms/step - loss: 0.0045 - mae: 0.0573\n",
            "Epoch 563/1200\n",
            "1/1 [==============================] - 0s 8ms/step - loss: 0.0044 - mae: 0.0571\n",
            "Epoch 564/1200\n",
            "1/1 [==============================] - 0s 10ms/step - loss: 0.0044 - mae: 0.0569\n",
            "Epoch 565/1200\n",
            "1/1 [==============================] - 0s 7ms/step - loss: 0.0044 - mae: 0.0567\n",
            "Epoch 566/1200\n",
            "1/1 [==============================] - 0s 7ms/step - loss: 0.0043 - mae: 0.0566\n",
            "Epoch 567/1200\n",
            "1/1 [==============================] - 0s 6ms/step - loss: 0.0043 - mae: 0.0564\n",
            "Epoch 568/1200\n",
            "1/1 [==============================] - 0s 8ms/step - loss: 0.0043 - mae: 0.0562\n",
            "Epoch 569/1200\n",
            "1/1 [==============================] - 0s 6ms/step - loss: 0.0043 - mae: 0.0560\n",
            "Epoch 570/1200\n",
            "1/1 [==============================] - 0s 7ms/step - loss: 0.0042 - mae: 0.0558\n",
            "Epoch 571/1200\n",
            "1/1 [==============================] - 0s 10ms/step - loss: 0.0042 - mae: 0.0556\n",
            "Epoch 572/1200\n",
            "1/1 [==============================] - 0s 6ms/step - loss: 0.0042 - mae: 0.0554\n",
            "Epoch 573/1200\n",
            "1/1 [==============================] - 0s 6ms/step - loss: 0.0041 - mae: 0.0552\n",
            "Epoch 574/1200\n",
            "1/1 [==============================] - 0s 6ms/step - loss: 0.0041 - mae: 0.0550\n",
            "Epoch 575/1200\n",
            "1/1 [==============================] - 0s 7ms/step - loss: 0.0041 - mae: 0.0549\n",
            "Epoch 576/1200\n",
            "1/1 [==============================] - 0s 14ms/step - loss: 0.0041 - mae: 0.0547\n",
            "Epoch 577/1200\n",
            "1/1 [==============================] - 0s 9ms/step - loss: 0.0040 - mae: 0.0545\n",
            "Epoch 578/1200\n",
            "1/1 [==============================] - 0s 7ms/step - loss: 0.0040 - mae: 0.0543\n",
            "Epoch 579/1200\n",
            "1/1 [==============================] - 0s 9ms/step - loss: 0.0040 - mae: 0.0541\n",
            "Epoch 580/1200\n",
            "1/1 [==============================] - 0s 6ms/step - loss: 0.0039 - mae: 0.0539\n",
            "Epoch 581/1200\n",
            "1/1 [==============================] - 0s 5ms/step - loss: 0.0039 - mae: 0.0538\n",
            "Epoch 582/1200\n",
            "1/1 [==============================] - 0s 8ms/step - loss: 0.0039 - mae: 0.0536\n",
            "Epoch 583/1200\n",
            "1/1 [==============================] - 0s 7ms/step - loss: 0.0039 - mae: 0.0534\n",
            "Epoch 584/1200\n",
            "1/1 [==============================] - 0s 6ms/step - loss: 0.0038 - mae: 0.0532\n",
            "Epoch 585/1200\n",
            "1/1 [==============================] - 0s 9ms/step - loss: 0.0038 - mae: 0.0530\n",
            "Epoch 586/1200\n",
            "1/1 [==============================] - 0s 8ms/step - loss: 0.0038 - mae: 0.0529\n",
            "Epoch 587/1200\n",
            "1/1 [==============================] - 0s 7ms/step - loss: 0.0038 - mae: 0.0527\n",
            "Epoch 588/1200\n",
            "1/1 [==============================] - 0s 8ms/step - loss: 0.0037 - mae: 0.0525\n",
            "Epoch 589/1200\n",
            "1/1 [==============================] - 0s 12ms/step - loss: 0.0037 - mae: 0.0523\n",
            "Epoch 590/1200\n",
            "1/1 [==============================] - 0s 6ms/step - loss: 0.0037 - mae: 0.0521\n",
            "Epoch 591/1200\n",
            "1/1 [==============================] - 0s 7ms/step - loss: 0.0037 - mae: 0.0520\n",
            "Epoch 592/1200\n",
            "1/1 [==============================] - 0s 6ms/step - loss: 0.0036 - mae: 0.0518\n",
            "Epoch 593/1200\n",
            "1/1 [==============================] - 0s 7ms/step - loss: 0.0036 - mae: 0.0516\n",
            "Epoch 594/1200\n",
            "1/1 [==============================] - 0s 10ms/step - loss: 0.0036 - mae: 0.0514\n",
            "Epoch 595/1200\n",
            "1/1 [==============================] - 0s 7ms/step - loss: 0.0036 - mae: 0.0513\n",
            "Epoch 596/1200\n",
            "1/1 [==============================] - 0s 6ms/step - loss: 0.0035 - mae: 0.0511\n",
            "Epoch 597/1200\n",
            "1/1 [==============================] - 0s 6ms/step - loss: 0.0035 - mae: 0.0509\n",
            "Epoch 598/1200\n",
            "1/1 [==============================] - 0s 7ms/step - loss: 0.0035 - mae: 0.0507\n",
            "Epoch 599/1200\n",
            "1/1 [==============================] - 0s 5ms/step - loss: 0.0035 - mae: 0.0506\n",
            "Epoch 600/1200\n",
            "1/1 [==============================] - 0s 8ms/step - loss: 0.0034 - mae: 0.0504\n",
            "Epoch 601/1200\n",
            "1/1 [==============================] - 0s 6ms/step - loss: 0.0034 - mae: 0.0502\n",
            "Epoch 602/1200\n",
            "1/1 [==============================] - 0s 12ms/step - loss: 0.0034 - mae: 0.0501\n",
            "Epoch 603/1200\n",
            "1/1 [==============================] - 0s 7ms/step - loss: 0.0034 - mae: 0.0499\n",
            "Epoch 604/1200\n",
            "1/1 [==============================] - 0s 8ms/step - loss: 0.0034 - mae: 0.0497\n",
            "Epoch 605/1200\n",
            "1/1 [==============================] - 0s 6ms/step - loss: 0.0033 - mae: 0.0496\n",
            "Epoch 606/1200\n",
            "1/1 [==============================] - 0s 7ms/step - loss: 0.0033 - mae: 0.0494\n",
            "Epoch 607/1200\n",
            "1/1 [==============================] - 0s 9ms/step - loss: 0.0033 - mae: 0.0492\n",
            "Epoch 608/1200\n",
            "1/1 [==============================] - 0s 6ms/step - loss: 0.0033 - mae: 0.0491\n",
            "Epoch 609/1200\n",
            "1/1 [==============================] - 0s 6ms/step - loss: 0.0032 - mae: 0.0489\n",
            "Epoch 610/1200\n",
            "1/1 [==============================] - 0s 6ms/step - loss: 0.0032 - mae: 0.0487\n",
            "Epoch 611/1200\n",
            "1/1 [==============================] - 0s 8ms/step - loss: 0.0032 - mae: 0.0486\n",
            "Epoch 612/1200\n",
            "1/1 [==============================] - 0s 8ms/step - loss: 0.0032 - mae: 0.0484\n",
            "Epoch 613/1200\n",
            "1/1 [==============================] - 0s 9ms/step - loss: 0.0032 - mae: 0.0482\n",
            "Epoch 614/1200\n",
            "1/1 [==============================] - 0s 24ms/step - loss: 0.0031 - mae: 0.0481\n",
            "Epoch 615/1200\n",
            "1/1 [==============================] - 0s 28ms/step - loss: 0.0031 - mae: 0.0479\n",
            "Epoch 616/1200\n",
            "1/1 [==============================] - 0s 45ms/step - loss: 0.0031 - mae: 0.0477\n",
            "Epoch 617/1200\n",
            "1/1 [==============================] - 0s 33ms/step - loss: 0.0031 - mae: 0.0476\n",
            "Epoch 618/1200\n",
            "1/1 [==============================] - 0s 34ms/step - loss: 0.0031 - mae: 0.0474\n",
            "Epoch 619/1200\n",
            "1/1 [==============================] - 0s 79ms/step - loss: 0.0030 - mae: 0.0473\n",
            "Epoch 620/1200\n",
            "1/1 [==============================] - 0s 10ms/step - loss: 0.0030 - mae: 0.0471\n",
            "Epoch 621/1200\n",
            "1/1 [==============================] - 0s 7ms/step - loss: 0.0030 - mae: 0.0469\n",
            "Epoch 622/1200\n",
            "1/1 [==============================] - 0s 7ms/step - loss: 0.0030 - mae: 0.0468\n",
            "Epoch 623/1200\n",
            "1/1 [==============================] - 0s 10ms/step - loss: 0.0030 - mae: 0.0466\n",
            "Epoch 624/1200\n",
            "1/1 [==============================] - 0s 7ms/step - loss: 0.0029 - mae: 0.0465\n",
            "Epoch 625/1200\n",
            "1/1 [==============================] - 0s 7ms/step - loss: 0.0029 - mae: 0.0463\n",
            "Epoch 626/1200\n",
            "1/1 [==============================] - 0s 19ms/step - loss: 0.0029 - mae: 0.0462\n",
            "Epoch 627/1200\n",
            "1/1 [==============================] - 0s 45ms/step - loss: 0.0029 - mae: 0.0460\n",
            "Epoch 628/1200\n",
            "1/1 [==============================] - 0s 11ms/step - loss: 0.0029 - mae: 0.0458\n",
            "Epoch 629/1200\n",
            "1/1 [==============================] - 0s 32ms/step - loss: 0.0028 - mae: 0.0457\n",
            "Epoch 630/1200\n",
            "1/1 [==============================] - 0s 14ms/step - loss: 0.0028 - mae: 0.0455\n",
            "Epoch 631/1200\n",
            "1/1 [==============================] - 0s 8ms/step - loss: 0.0028 - mae: 0.0454\n",
            "Epoch 632/1200\n",
            "1/1 [==============================] - 0s 26ms/step - loss: 0.0028 - mae: 0.0452\n",
            "Epoch 633/1200\n",
            "1/1 [==============================] - 0s 7ms/step - loss: 0.0028 - mae: 0.0451\n",
            "Epoch 634/1200\n",
            "1/1 [==============================] - 0s 6ms/step - loss: 0.0027 - mae: 0.0449\n",
            "Epoch 635/1200\n",
            "1/1 [==============================] - 0s 10ms/step - loss: 0.0027 - mae: 0.0448\n",
            "Epoch 636/1200\n",
            "1/1 [==============================] - 0s 8ms/step - loss: 0.0027 - mae: 0.0446\n",
            "Epoch 637/1200\n",
            "1/1 [==============================] - 0s 8ms/step - loss: 0.0027 - mae: 0.0445\n",
            "Epoch 638/1200\n",
            "1/1 [==============================] - 0s 11ms/step - loss: 0.0027 - mae: 0.0443\n",
            "Epoch 639/1200\n",
            "1/1 [==============================] - 0s 6ms/step - loss: 0.0026 - mae: 0.0442\n",
            "Epoch 640/1200\n",
            "1/1 [==============================] - 0s 6ms/step - loss: 0.0026 - mae: 0.0440\n",
            "Epoch 641/1200\n",
            "1/1 [==============================] - 0s 6ms/step - loss: 0.0026 - mae: 0.0439\n",
            "Epoch 642/1200\n",
            "1/1 [==============================] - 0s 6ms/step - loss: 0.0026 - mae: 0.0437\n",
            "Epoch 643/1200\n",
            "1/1 [==============================] - 0s 6ms/step - loss: 0.0026 - mae: 0.0436\n",
            "Epoch 644/1200\n",
            "1/1 [==============================] - 0s 6ms/step - loss: 0.0026 - mae: 0.0434\n",
            "Epoch 645/1200\n",
            "1/1 [==============================] - 0s 6ms/step - loss: 0.0025 - mae: 0.0433\n",
            "Epoch 646/1200\n",
            "1/1 [==============================] - 0s 6ms/step - loss: 0.0025 - mae: 0.0431\n",
            "Epoch 647/1200\n",
            "1/1 [==============================] - 0s 6ms/step - loss: 0.0025 - mae: 0.0430\n",
            "Epoch 648/1200\n",
            "1/1 [==============================] - 0s 8ms/step - loss: 0.0025 - mae: 0.0428\n",
            "Epoch 649/1200\n",
            "1/1 [==============================] - 0s 7ms/step - loss: 0.0025 - mae: 0.0427\n",
            "Epoch 650/1200\n",
            "1/1 [==============================] - 0s 8ms/step - loss: 0.0025 - mae: 0.0426\n",
            "Epoch 651/1200\n",
            "1/1 [==============================] - 0s 9ms/step - loss: 0.0024 - mae: 0.0424\n",
            "Epoch 652/1200\n",
            "1/1 [==============================] - 0s 9ms/step - loss: 0.0024 - mae: 0.0423\n",
            "Epoch 653/1200\n",
            "1/1 [==============================] - 0s 12ms/step - loss: 0.0024 - mae: 0.0421\n",
            "Epoch 654/1200\n",
            "1/1 [==============================] - 0s 12ms/step - loss: 0.0024 - mae: 0.0420\n",
            "Epoch 655/1200\n",
            "1/1 [==============================] - 0s 15ms/step - loss: 0.0024 - mae: 0.0418\n",
            "Epoch 656/1200\n",
            "1/1 [==============================] - 0s 15ms/step - loss: 0.0024 - mae: 0.0417\n",
            "Epoch 657/1200\n",
            "1/1 [==============================] - 0s 29ms/step - loss: 0.0023 - mae: 0.0416\n",
            "Epoch 658/1200\n",
            "1/1 [==============================] - 0s 18ms/step - loss: 0.0023 - mae: 0.0414\n",
            "Epoch 659/1200\n",
            "1/1 [==============================] - 0s 12ms/step - loss: 0.0023 - mae: 0.0413\n",
            "Epoch 660/1200\n",
            "1/1 [==============================] - 0s 7ms/step - loss: 0.0023 - mae: 0.0411\n",
            "Epoch 661/1200\n",
            "1/1 [==============================] - 0s 7ms/step - loss: 0.0023 - mae: 0.0410\n",
            "Epoch 662/1200\n",
            "1/1 [==============================] - 0s 8ms/step - loss: 0.0023 - mae: 0.0409\n",
            "Epoch 663/1200\n",
            "1/1 [==============================] - 0s 7ms/step - loss: 0.0023 - mae: 0.0407\n",
            "Epoch 664/1200\n",
            "1/1 [==============================] - 0s 7ms/step - loss: 0.0022 - mae: 0.0406\n",
            "Epoch 665/1200\n",
            "1/1 [==============================] - 0s 8ms/step - loss: 0.0022 - mae: 0.0404\n",
            "Epoch 666/1200\n",
            "1/1 [==============================] - 0s 7ms/step - loss: 0.0022 - mae: 0.0403\n",
            "Epoch 667/1200\n",
            "1/1 [==============================] - 0s 6ms/step - loss: 0.0022 - mae: 0.0402\n",
            "Epoch 668/1200\n",
            "1/1 [==============================] - 0s 7ms/step - loss: 0.0022 - mae: 0.0400\n",
            "Epoch 669/1200\n",
            "1/1 [==============================] - 0s 7ms/step - loss: 0.0022 - mae: 0.0399\n",
            "Epoch 670/1200\n",
            "1/1 [==============================] - 0s 7ms/step - loss: 0.0021 - mae: 0.0398\n",
            "Epoch 671/1200\n",
            "1/1 [==============================] - 0s 9ms/step - loss: 0.0021 - mae: 0.0396\n",
            "Epoch 672/1200\n",
            "1/1 [==============================] - 0s 8ms/step - loss: 0.0021 - mae: 0.0395\n",
            "Epoch 673/1200\n",
            "1/1 [==============================] - 0s 7ms/step - loss: 0.0021 - mae: 0.0394\n",
            "Epoch 674/1200\n",
            "1/1 [==============================] - 0s 7ms/step - loss: 0.0021 - mae: 0.0392\n",
            "Epoch 675/1200\n",
            "1/1 [==============================] - 0s 7ms/step - loss: 0.0021 - mae: 0.0391\n",
            "Epoch 676/1200\n",
            "1/1 [==============================] - 0s 7ms/step - loss: 0.0021 - mae: 0.0390\n",
            "Epoch 677/1200\n",
            "1/1 [==============================] - 0s 8ms/step - loss: 0.0020 - mae: 0.0388\n",
            "Epoch 678/1200\n",
            "1/1 [==============================] - 0s 7ms/step - loss: 0.0020 - mae: 0.0387\n",
            "Epoch 679/1200\n",
            "1/1 [==============================] - 0s 10ms/step - loss: 0.0020 - mae: 0.0386\n",
            "Epoch 680/1200\n",
            "1/1 [==============================] - 0s 7ms/step - loss: 0.0020 - mae: 0.0384\n",
            "Epoch 681/1200\n",
            "1/1 [==============================] - 0s 7ms/step - loss: 0.0020 - mae: 0.0383\n",
            "Epoch 682/1200\n",
            "1/1 [==============================] - 0s 7ms/step - loss: 0.0020 - mae: 0.0382\n",
            "Epoch 683/1200\n",
            "1/1 [==============================] - 0s 10ms/step - loss: 0.0020 - mae: 0.0381\n",
            "Epoch 684/1200\n",
            "1/1 [==============================] - 0s 8ms/step - loss: 0.0020 - mae: 0.0379\n",
            "Epoch 685/1200\n",
            "1/1 [==============================] - 0s 14ms/step - loss: 0.0019 - mae: 0.0378\n",
            "Epoch 686/1200\n",
            "1/1 [==============================] - 0s 9ms/step - loss: 0.0019 - mae: 0.0377\n",
            "Epoch 687/1200\n",
            "1/1 [==============================] - 0s 17ms/step - loss: 0.0019 - mae: 0.0375\n",
            "Epoch 688/1200\n",
            "1/1 [==============================] - 0s 12ms/step - loss: 0.0019 - mae: 0.0374\n",
            "Epoch 689/1200\n",
            "1/1 [==============================] - 0s 11ms/step - loss: 0.0019 - mae: 0.0373\n",
            "Epoch 690/1200\n",
            "1/1 [==============================] - 0s 9ms/step - loss: 0.0019 - mae: 0.0372\n",
            "Epoch 691/1200\n",
            "1/1 [==============================] - 0s 11ms/step - loss: 0.0019 - mae: 0.0370\n",
            "Epoch 692/1200\n",
            "1/1 [==============================] - 0s 10ms/step - loss: 0.0018 - mae: 0.0369\n",
            "Epoch 693/1200\n",
            "1/1 [==============================] - 0s 10ms/step - loss: 0.0018 - mae: 0.0368\n",
            "Epoch 694/1200\n",
            "1/1 [==============================] - 0s 11ms/step - loss: 0.0018 - mae: 0.0367\n",
            "Epoch 695/1200\n",
            "1/1 [==============================] - 0s 8ms/step - loss: 0.0018 - mae: 0.0365\n",
            "Epoch 696/1200\n",
            "1/1 [==============================] - 0s 14ms/step - loss: 0.0018 - mae: 0.0364\n",
            "Epoch 697/1200\n",
            "1/1 [==============================] - 0s 282ms/step - loss: 0.0018 - mae: 0.0363\n",
            "Epoch 698/1200\n",
            "1/1 [==============================] - 0s 7ms/step - loss: 0.0018 - mae: 0.0362\n",
            "Epoch 699/1200\n",
            "1/1 [==============================] - 0s 7ms/step - loss: 0.0018 - mae: 0.0360\n",
            "Epoch 700/1200\n",
            "1/1 [==============================] - 0s 8ms/step - loss: 0.0018 - mae: 0.0359\n",
            "Epoch 701/1200\n",
            "1/1 [==============================] - 0s 7ms/step - loss: 0.0017 - mae: 0.0358\n",
            "Epoch 702/1200\n",
            "1/1 [==============================] - 0s 8ms/step - loss: 0.0017 - mae: 0.0357\n",
            "Epoch 703/1200\n",
            "1/1 [==============================] - 0s 8ms/step - loss: 0.0017 - mae: 0.0356\n",
            "Epoch 704/1200\n",
            "1/1 [==============================] - 0s 8ms/step - loss: 0.0017 - mae: 0.0354\n",
            "Epoch 705/1200\n",
            "1/1 [==============================] - 0s 8ms/step - loss: 0.0017 - mae: 0.0353\n",
            "Epoch 706/1200\n",
            "1/1 [==============================] - 0s 13ms/step - loss: 0.0017 - mae: 0.0352\n",
            "Epoch 707/1200\n",
            "1/1 [==============================] - 0s 13ms/step - loss: 0.0017 - mae: 0.0351\n",
            "Epoch 708/1200\n",
            "1/1 [==============================] - 0s 7ms/step - loss: 0.0017 - mae: 0.0350\n",
            "Epoch 709/1200\n",
            "1/1 [==============================] - 0s 7ms/step - loss: 0.0016 - mae: 0.0348\n",
            "Epoch 710/1200\n",
            "1/1 [==============================] - 0s 8ms/step - loss: 0.0016 - mae: 0.0347\n",
            "Epoch 711/1200\n",
            "1/1 [==============================] - 0s 7ms/step - loss: 0.0016 - mae: 0.0346\n",
            "Epoch 712/1200\n",
            "1/1 [==============================] - 0s 7ms/step - loss: 0.0016 - mae: 0.0345\n",
            "Epoch 713/1200\n",
            "1/1 [==============================] - 0s 7ms/step - loss: 0.0016 - mae: 0.0344\n",
            "Epoch 714/1200\n",
            "1/1 [==============================] - 0s 7ms/step - loss: 0.0016 - mae: 0.0343\n",
            "Epoch 715/1200\n",
            "1/1 [==============================] - 0s 24ms/step - loss: 0.0016 - mae: 0.0341\n",
            "Epoch 716/1200\n",
            "1/1 [==============================] - 0s 8ms/step - loss: 0.0016 - mae: 0.0340\n",
            "Epoch 717/1200\n",
            "1/1 [==============================] - 0s 8ms/step - loss: 0.0016 - mae: 0.0339\n",
            "Epoch 718/1200\n",
            "1/1 [==============================] - 0s 12ms/step - loss: 0.0016 - mae: 0.0338\n",
            "Epoch 719/1200\n",
            "1/1 [==============================] - 0s 10ms/step - loss: 0.0015 - mae: 0.0337\n",
            "Epoch 720/1200\n",
            "1/1 [==============================] - 0s 8ms/step - loss: 0.0015 - mae: 0.0336\n",
            "Epoch 721/1200\n",
            "1/1 [==============================] - 0s 7ms/step - loss: 0.0015 - mae: 0.0335\n",
            "Epoch 722/1200\n",
            "1/1 [==============================] - 0s 22ms/step - loss: 0.0015 - mae: 0.0333\n",
            "Epoch 723/1200\n",
            "1/1 [==============================] - 0s 15ms/step - loss: 0.0015 - mae: 0.0332\n",
            "Epoch 724/1200\n",
            "1/1 [==============================] - 0s 14ms/step - loss: 0.0015 - mae: 0.0331\n",
            "Epoch 725/1200\n",
            "1/1 [==============================] - 0s 13ms/step - loss: 0.0015 - mae: 0.0330\n",
            "Epoch 726/1200\n",
            "1/1 [==============================] - 0s 9ms/step - loss: 0.0015 - mae: 0.0329\n",
            "Epoch 727/1200\n",
            "1/1 [==============================] - 0s 7ms/step - loss: 0.0015 - mae: 0.0328\n",
            "Epoch 728/1200\n",
            "1/1 [==============================] - 0s 7ms/step - loss: 0.0014 - mae: 0.0327\n",
            "Epoch 729/1200\n",
            "1/1 [==============================] - 0s 7ms/step - loss: 0.0014 - mae: 0.0326\n",
            "Epoch 730/1200\n",
            "1/1 [==============================] - 0s 7ms/step - loss: 0.0014 - mae: 0.0325\n",
            "Epoch 731/1200\n",
            "1/1 [==============================] - 0s 7ms/step - loss: 0.0014 - mae: 0.0323\n",
            "Epoch 732/1200\n",
            "1/1 [==============================] - 0s 7ms/step - loss: 0.0014 - mae: 0.0322\n",
            "Epoch 733/1200\n",
            "1/1 [==============================] - 0s 7ms/step - loss: 0.0014 - mae: 0.0321\n",
            "Epoch 734/1200\n",
            "1/1 [==============================] - 0s 12ms/step - loss: 0.0014 - mae: 0.0320\n",
            "Epoch 735/1200\n",
            "1/1 [==============================] - 0s 7ms/step - loss: 0.0014 - mae: 0.0319\n",
            "Epoch 736/1200\n",
            "1/1 [==============================] - 0s 9ms/step - loss: 0.0014 - mae: 0.0318\n",
            "Epoch 737/1200\n",
            "1/1 [==============================] - 0s 7ms/step - loss: 0.0014 - mae: 0.0317\n",
            "Epoch 738/1200\n",
            "1/1 [==============================] - 0s 7ms/step - loss: 0.0014 - mae: 0.0316\n",
            "Epoch 739/1200\n",
            "1/1 [==============================] - 0s 8ms/step - loss: 0.0013 - mae: 0.0315\n",
            "Epoch 740/1200\n",
            "1/1 [==============================] - 0s 8ms/step - loss: 0.0013 - mae: 0.0314\n",
            "Epoch 741/1200\n",
            "1/1 [==============================] - 0s 8ms/step - loss: 0.0013 - mae: 0.0313\n",
            "Epoch 742/1200\n",
            "1/1 [==============================] - 0s 7ms/step - loss: 0.0013 - mae: 0.0312\n",
            "Epoch 743/1200\n",
            "1/1 [==============================] - 0s 19ms/step - loss: 0.0013 - mae: 0.0311\n",
            "Epoch 744/1200\n",
            "1/1 [==============================] - 0s 10ms/step - loss: 0.0013 - mae: 0.0310\n",
            "Epoch 745/1200\n",
            "1/1 [==============================] - 0s 24ms/step - loss: 0.0013 - mae: 0.0308\n",
            "Epoch 746/1200\n",
            "1/1 [==============================] - 0s 19ms/step - loss: 0.0013 - mae: 0.0307\n",
            "Epoch 747/1200\n",
            "1/1 [==============================] - 0s 16ms/step - loss: 0.0013 - mae: 0.0306\n",
            "Epoch 748/1200\n",
            "1/1 [==============================] - 0s 10ms/step - loss: 0.0013 - mae: 0.0305\n",
            "Epoch 749/1200\n",
            "1/1 [==============================] - 0s 13ms/step - loss: 0.0013 - mae: 0.0304\n",
            "Epoch 750/1200\n",
            "1/1 [==============================] - 0s 13ms/step - loss: 0.0012 - mae: 0.0303\n",
            "Epoch 751/1200\n",
            "1/1 [==============================] - 0s 13ms/step - loss: 0.0012 - mae: 0.0302\n",
            "Epoch 752/1200\n",
            "1/1 [==============================] - 0s 14ms/step - loss: 0.0012 - mae: 0.0301\n",
            "Epoch 753/1200\n",
            "1/1 [==============================] - 0s 7ms/step - loss: 0.0012 - mae: 0.0300\n",
            "Epoch 754/1200\n",
            "1/1 [==============================] - 0s 30ms/step - loss: 0.0012 - mae: 0.0299\n",
            "Epoch 755/1200\n",
            "1/1 [==============================] - 0s 28ms/step - loss: 0.0012 - mae: 0.0298\n",
            "Epoch 756/1200\n",
            "1/1 [==============================] - 0s 17ms/step - loss: 0.0012 - mae: 0.0297\n",
            "Epoch 757/1200\n",
            "1/1 [==============================] - 0s 13ms/step - loss: 0.0012 - mae: 0.0296\n",
            "Epoch 758/1200\n",
            "1/1 [==============================] - 0s 22ms/step - loss: 0.0012 - mae: 0.0295\n",
            "Epoch 759/1200\n",
            "1/1 [==============================] - 0s 25ms/step - loss: 0.0012 - mae: 0.0294\n",
            "Epoch 760/1200\n",
            "1/1 [==============================] - 0s 60ms/step - loss: 0.0012 - mae: 0.0293\n",
            "Epoch 761/1200\n",
            "1/1 [==============================] - 0s 69ms/step - loss: 0.0012 - mae: 0.0292\n",
            "Epoch 762/1200\n",
            "1/1 [==============================] - 0s 48ms/step - loss: 0.0012 - mae: 0.0291\n",
            "Epoch 763/1200\n",
            "1/1 [==============================] - 0s 26ms/step - loss: 0.0011 - mae: 0.0290\n",
            "Epoch 764/1200\n",
            "1/1 [==============================] - 0s 23ms/step - loss: 0.0011 - mae: 0.0289\n",
            "Epoch 765/1200\n",
            "1/1 [==============================] - 0s 21ms/step - loss: 0.0011 - mae: 0.0288\n",
            "Epoch 766/1200\n",
            "1/1 [==============================] - 0s 19ms/step - loss: 0.0011 - mae: 0.0287\n",
            "Epoch 767/1200\n",
            "1/1 [==============================] - 0s 83ms/step - loss: 0.0011 - mae: 0.0286\n",
            "Epoch 768/1200\n",
            "1/1 [==============================] - 0s 20ms/step - loss: 0.0011 - mae: 0.0285\n",
            "Epoch 769/1200\n",
            "1/1 [==============================] - 0s 13ms/step - loss: 0.0011 - mae: 0.0284\n",
            "Epoch 770/1200\n",
            "1/1 [==============================] - 0s 10ms/step - loss: 0.0011 - mae: 0.0283\n",
            "Epoch 771/1200\n",
            "1/1 [==============================] - 0s 10ms/step - loss: 0.0011 - mae: 0.0282\n",
            "Epoch 772/1200\n",
            "1/1 [==============================] - 0s 13ms/step - loss: 0.0011 - mae: 0.0282\n",
            "Epoch 773/1200\n",
            "1/1 [==============================] - 0s 11ms/step - loss: 0.0011 - mae: 0.0281\n",
            "Epoch 774/1200\n",
            "1/1 [==============================] - 0s 17ms/step - loss: 0.0011 - mae: 0.0280\n",
            "Epoch 775/1200\n",
            "1/1 [==============================] - 0s 18ms/step - loss: 0.0011 - mae: 0.0279\n",
            "Epoch 776/1200\n",
            "1/1 [==============================] - 0s 16ms/step - loss: 0.0010 - mae: 0.0278\n",
            "Epoch 777/1200\n",
            "1/1 [==============================] - 0s 26ms/step - loss: 0.0010 - mae: 0.0277\n",
            "Epoch 778/1200\n",
            "1/1 [==============================] - 0s 69ms/step - loss: 0.0010 - mae: 0.0276\n",
            "Epoch 779/1200\n",
            "1/1 [==============================] - 0s 9ms/step - loss: 0.0010 - mae: 0.0275\n",
            "Epoch 780/1200\n",
            "1/1 [==============================] - 0s 8ms/step - loss: 0.0010 - mae: 0.0274\n",
            "Epoch 781/1200\n",
            "1/1 [==============================] - 0s 6ms/step - loss: 0.0010 - mae: 0.0273\n",
            "Epoch 782/1200\n",
            "1/1 [==============================] - 0s 7ms/step - loss: 0.0010 - mae: 0.0272\n",
            "Epoch 783/1200\n",
            "1/1 [==============================] - 0s 6ms/step - loss: 9.9844e-04 - mae: 0.0271\n",
            "Epoch 784/1200\n",
            "1/1 [==============================] - 0s 6ms/step - loss: 9.9168e-04 - mae: 0.0270\n",
            "Epoch 785/1200\n",
            "1/1 [==============================] - 0s 7ms/step - loss: 9.8500e-04 - mae: 0.0269\n",
            "Epoch 786/1200\n",
            "1/1 [==============================] - 0s 7ms/step - loss: 9.7834e-04 - mae: 0.0268\n",
            "Epoch 787/1200\n",
            "1/1 [==============================] - 0s 6ms/step - loss: 9.7173e-04 - mae: 0.0268\n",
            "Epoch 788/1200\n",
            "1/1 [==============================] - 0s 6ms/step - loss: 9.6519e-04 - mae: 0.0267\n",
            "Epoch 789/1200\n",
            "1/1 [==============================] - 0s 6ms/step - loss: 9.5867e-04 - mae: 0.0266\n",
            "Epoch 790/1200\n",
            "1/1 [==============================] - 0s 8ms/step - loss: 9.5219e-04 - mae: 0.0265\n",
            "Epoch 791/1200\n",
            "1/1 [==============================] - 0s 7ms/step - loss: 9.4577e-04 - mae: 0.0264\n",
            "Epoch 792/1200\n",
            "1/1 [==============================] - 0s 6ms/step - loss: 9.3939e-04 - mae: 0.0263\n",
            "Epoch 793/1200\n",
            "1/1 [==============================] - 0s 6ms/step - loss: 9.3304e-04 - mae: 0.0262\n",
            "Epoch 794/1200\n",
            "1/1 [==============================] - 0s 7ms/step - loss: 9.2674e-04 - mae: 0.0261\n",
            "Epoch 795/1200\n",
            "1/1 [==============================] - 0s 10ms/step - loss: 9.2049e-04 - mae: 0.0260\n",
            "Epoch 796/1200\n",
            "1/1 [==============================] - 0s 18ms/step - loss: 9.1426e-04 - mae: 0.0260\n",
            "Epoch 797/1200\n",
            "1/1 [==============================] - 0s 12ms/step - loss: 9.0811e-04 - mae: 0.0259\n",
            "Epoch 798/1200\n",
            "1/1 [==============================] - 0s 14ms/step - loss: 9.0197e-04 - mae: 0.0258\n",
            "Epoch 799/1200\n",
            "1/1 [==============================] - 0s 11ms/step - loss: 8.9587e-04 - mae: 0.0257\n",
            "Epoch 800/1200\n",
            "1/1 [==============================] - 0s 7ms/step - loss: 8.8982e-04 - mae: 0.0256\n",
            "Epoch 801/1200\n",
            "1/1 [==============================] - 0s 16ms/step - loss: 8.8382e-04 - mae: 0.0255\n",
            "Epoch 802/1200\n",
            "1/1 [==============================] - 0s 8ms/step - loss: 8.7787e-04 - mae: 0.0254\n",
            "Epoch 803/1200\n",
            "1/1 [==============================] - 0s 9ms/step - loss: 8.7193e-04 - mae: 0.0253\n",
            "Epoch 804/1200\n",
            "1/1 [==============================] - 0s 10ms/step - loss: 8.6605e-04 - mae: 0.0253\n",
            "Epoch 805/1200\n",
            "1/1 [==============================] - 0s 10ms/step - loss: 8.6021e-04 - mae: 0.0252\n",
            "Epoch 806/1200\n",
            "1/1 [==============================] - 0s 14ms/step - loss: 8.5439e-04 - mae: 0.0251\n",
            "Epoch 807/1200\n",
            "1/1 [==============================] - 0s 24ms/step - loss: 8.4862e-04 - mae: 0.0250\n",
            "Epoch 808/1200\n",
            "1/1 [==============================] - 0s 28ms/step - loss: 8.4289e-04 - mae: 0.0249\n",
            "Epoch 809/1200\n",
            "1/1 [==============================] - 0s 15ms/step - loss: 8.3722e-04 - mae: 0.0248\n",
            "Epoch 810/1200\n",
            "1/1 [==============================] - 0s 16ms/step - loss: 8.3154e-04 - mae: 0.0248\n",
            "Epoch 811/1200\n",
            "1/1 [==============================] - 0s 20ms/step - loss: 8.2595e-04 - mae: 0.0247\n",
            "Epoch 812/1200\n",
            "1/1 [==============================] - 0s 13ms/step - loss: 8.2036e-04 - mae: 0.0246\n",
            "Epoch 813/1200\n",
            "1/1 [==============================] - 0s 18ms/step - loss: 8.1482e-04 - mae: 0.0245\n",
            "Epoch 814/1200\n",
            "1/1 [==============================] - 0s 18ms/step - loss: 8.0934e-04 - mae: 0.0244\n",
            "Epoch 815/1200\n",
            "1/1 [==============================] - 0s 25ms/step - loss: 8.0386e-04 - mae: 0.0243\n",
            "Epoch 816/1200\n",
            "1/1 [==============================] - 0s 47ms/step - loss: 7.9844e-04 - mae: 0.0243\n",
            "Epoch 817/1200\n",
            "1/1 [==============================] - 0s 13ms/step - loss: 7.9306e-04 - mae: 0.0242\n",
            "Epoch 818/1200\n",
            "1/1 [==============================] - 0s 12ms/step - loss: 7.8770e-04 - mae: 0.0241\n",
            "Epoch 819/1200\n",
            "1/1 [==============================] - 0s 29ms/step - loss: 7.8238e-04 - mae: 0.0240\n",
            "Epoch 820/1200\n",
            "1/1 [==============================] - 0s 12ms/step - loss: 7.7711e-04 - mae: 0.0239\n",
            "Epoch 821/1200\n",
            "1/1 [==============================] - 0s 11ms/step - loss: 7.7186e-04 - mae: 0.0238\n",
            "Epoch 822/1200\n",
            "1/1 [==============================] - 0s 7ms/step - loss: 7.6663e-04 - mae: 0.0238\n",
            "Epoch 823/1200\n",
            "1/1 [==============================] - 0s 12ms/step - loss: 7.6146e-04 - mae: 0.0237\n",
            "Epoch 824/1200\n",
            "1/1 [==============================] - 0s 6ms/step - loss: 7.5633e-04 - mae: 0.0236\n",
            "Epoch 825/1200\n",
            "1/1 [==============================] - 0s 6ms/step - loss: 7.5122e-04 - mae: 0.0235\n",
            "Epoch 826/1200\n",
            "1/1 [==============================] - 0s 8ms/step - loss: 7.4615e-04 - mae: 0.0234\n",
            "Epoch 827/1200\n",
            "1/1 [==============================] - 0s 33ms/step - loss: 7.4111e-04 - mae: 0.0234\n",
            "Epoch 828/1200\n",
            "1/1 [==============================] - 0s 17ms/step - loss: 7.3612e-04 - mae: 0.0233\n",
            "Epoch 829/1200\n",
            "1/1 [==============================] - 0s 24ms/step - loss: 7.3114e-04 - mae: 0.0232\n",
            "Epoch 830/1200\n",
            "1/1 [==============================] - 0s 14ms/step - loss: 7.2620e-04 - mae: 0.0231\n",
            "Epoch 831/1200\n",
            "1/1 [==============================] - 0s 8ms/step - loss: 7.2130e-04 - mae: 0.0231\n",
            "Epoch 832/1200\n",
            "1/1 [==============================] - 0s 10ms/step - loss: 7.1643e-04 - mae: 0.0230\n",
            "Epoch 833/1200\n",
            "1/1 [==============================] - 0s 7ms/step - loss: 7.1158e-04 - mae: 0.0229\n",
            "Epoch 834/1200\n",
            "1/1 [==============================] - 0s 7ms/step - loss: 7.0678e-04 - mae: 0.0228\n",
            "Epoch 835/1200\n",
            "1/1 [==============================] - 0s 9ms/step - loss: 7.0202e-04 - mae: 0.0227\n",
            "Epoch 836/1200\n",
            "1/1 [==============================] - 0s 9ms/step - loss: 6.9727e-04 - mae: 0.0227\n",
            "Epoch 837/1200\n",
            "1/1 [==============================] - 0s 7ms/step - loss: 6.9257e-04 - mae: 0.0226\n",
            "Epoch 838/1200\n",
            "1/1 [==============================] - 0s 7ms/step - loss: 6.8788e-04 - mae: 0.0225\n",
            "Epoch 839/1200\n",
            "1/1 [==============================] - 0s 6ms/step - loss: 6.8326e-04 - mae: 0.0224\n",
            "Epoch 840/1200\n",
            "1/1 [==============================] - 0s 12ms/step - loss: 6.7863e-04 - mae: 0.0224\n",
            "Epoch 841/1200\n",
            "1/1 [==============================] - 0s 7ms/step - loss: 6.7406e-04 - mae: 0.0223\n",
            "Epoch 842/1200\n",
            "1/1 [==============================] - 0s 6ms/step - loss: 6.6952e-04 - mae: 0.0222\n",
            "Epoch 843/1200\n",
            "1/1 [==============================] - 0s 7ms/step - loss: 6.6498e-04 - mae: 0.0221\n",
            "Epoch 844/1200\n",
            "1/1 [==============================] - 0s 9ms/step - loss: 6.6050e-04 - mae: 0.0221\n",
            "Epoch 845/1200\n",
            "1/1 [==============================] - 0s 8ms/step - loss: 6.5604e-04 - mae: 0.0220\n",
            "Epoch 846/1200\n",
            "1/1 [==============================] - 0s 9ms/step - loss: 6.5162e-04 - mae: 0.0219\n",
            "Epoch 847/1200\n",
            "1/1 [==============================] - 0s 11ms/step - loss: 6.4721e-04 - mae: 0.0218\n",
            "Epoch 848/1200\n",
            "1/1 [==============================] - 0s 42ms/step - loss: 6.4283e-04 - mae: 0.0218\n",
            "Epoch 849/1200\n",
            "1/1 [==============================] - 0s 21ms/step - loss: 6.3851e-04 - mae: 0.0217\n",
            "Epoch 850/1200\n",
            "1/1 [==============================] - 0s 21ms/step - loss: 6.3419e-04 - mae: 0.0216\n",
            "Epoch 851/1200\n",
            "1/1 [==============================] - 0s 9ms/step - loss: 6.2992e-04 - mae: 0.0215\n",
            "Epoch 852/1200\n",
            "1/1 [==============================] - 0s 8ms/step - loss: 6.2567e-04 - mae: 0.0215\n",
            "Epoch 853/1200\n",
            "1/1 [==============================] - 0s 9ms/step - loss: 6.2144e-04 - mae: 0.0214\n",
            "Epoch 854/1200\n",
            "1/1 [==============================] - 0s 13ms/step - loss: 6.1725e-04 - mae: 0.0213\n",
            "Epoch 855/1200\n",
            "1/1 [==============================] - 0s 15ms/step - loss: 6.1308e-04 - mae: 0.0213\n",
            "Epoch 856/1200\n",
            "1/1 [==============================] - 0s 7ms/step - loss: 6.0893e-04 - mae: 0.0212\n",
            "Epoch 857/1200\n",
            "1/1 [==============================] - 0s 16ms/step - loss: 6.0482e-04 - mae: 0.0211\n",
            "Epoch 858/1200\n",
            "1/1 [==============================] - 0s 15ms/step - loss: 6.0075e-04 - mae: 0.0210\n",
            "Epoch 859/1200\n",
            "1/1 [==============================] - 0s 15ms/step - loss: 5.9669e-04 - mae: 0.0210\n",
            "Epoch 860/1200\n",
            "1/1 [==============================] - 0s 13ms/step - loss: 5.9267e-04 - mae: 0.0209\n",
            "Epoch 861/1200\n",
            "1/1 [==============================] - 0s 10ms/step - loss: 5.8867e-04 - mae: 0.0208\n",
            "Epoch 862/1200\n",
            "1/1 [==============================] - 0s 17ms/step - loss: 5.8469e-04 - mae: 0.0208\n",
            "Epoch 863/1200\n",
            "1/1 [==============================] - 0s 6ms/step - loss: 5.8074e-04 - mae: 0.0207\n",
            "Epoch 864/1200\n",
            "1/1 [==============================] - 0s 7ms/step - loss: 5.7683e-04 - mae: 0.0206\n",
            "Epoch 865/1200\n",
            "1/1 [==============================] - 0s 9ms/step - loss: 5.7293e-04 - mae: 0.0205\n",
            "Epoch 866/1200\n",
            "1/1 [==============================] - 0s 7ms/step - loss: 5.6906e-04 - mae: 0.0205\n",
            "Epoch 867/1200\n",
            "1/1 [==============================] - 0s 8ms/step - loss: 5.6522e-04 - mae: 0.0204\n",
            "Epoch 868/1200\n",
            "1/1 [==============================] - 0s 6ms/step - loss: 5.6141e-04 - mae: 0.0203\n",
            "Epoch 869/1200\n",
            "1/1 [==============================] - 0s 8ms/step - loss: 5.5762e-04 - mae: 0.0203\n",
            "Epoch 870/1200\n",
            "1/1 [==============================] - 0s 7ms/step - loss: 5.5384e-04 - mae: 0.0202\n",
            "Epoch 871/1200\n",
            "1/1 [==============================] - 0s 8ms/step - loss: 5.5010e-04 - mae: 0.0201\n",
            "Epoch 872/1200\n",
            "1/1 [==============================] - 0s 7ms/step - loss: 5.4640e-04 - mae: 0.0201\n",
            "Epoch 873/1200\n",
            "1/1 [==============================] - 0s 8ms/step - loss: 5.4271e-04 - mae: 0.0200\n",
            "Epoch 874/1200\n",
            "1/1 [==============================] - 0s 9ms/step - loss: 5.3905e-04 - mae: 0.0199\n",
            "Epoch 875/1200\n",
            "1/1 [==============================] - 0s 7ms/step - loss: 5.3541e-04 - mae: 0.0199\n",
            "Epoch 876/1200\n",
            "1/1 [==============================] - 0s 11ms/step - loss: 5.3180e-04 - mae: 0.0198\n",
            "Epoch 877/1200\n",
            "1/1 [==============================] - 0s 7ms/step - loss: 5.2821e-04 - mae: 0.0197\n",
            "Epoch 878/1200\n",
            "1/1 [==============================] - 0s 12ms/step - loss: 5.2464e-04 - mae: 0.0197\n",
            "Epoch 879/1200\n",
            "1/1 [==============================] - 0s 6ms/step - loss: 5.2110e-04 - mae: 0.0196\n",
            "Epoch 880/1200\n",
            "1/1 [==============================] - 0s 6ms/step - loss: 5.1759e-04 - mae: 0.0195\n",
            "Epoch 881/1200\n",
            "1/1 [==============================] - 0s 9ms/step - loss: 5.1408e-04 - mae: 0.0195\n",
            "Epoch 882/1200\n",
            "1/1 [==============================] - 0s 7ms/step - loss: 5.1061e-04 - mae: 0.0194\n",
            "Epoch 883/1200\n",
            "1/1 [==============================] - 0s 28ms/step - loss: 5.0717e-04 - mae: 0.0193\n",
            "Epoch 884/1200\n",
            "1/1 [==============================] - 0s 27ms/step - loss: 5.0374e-04 - mae: 0.0193\n",
            "Epoch 885/1200\n",
            "1/1 [==============================] - 0s 26ms/step - loss: 5.0036e-04 - mae: 0.0192\n",
            "Epoch 886/1200\n",
            "1/1 [==============================] - 0s 28ms/step - loss: 4.9698e-04 - mae: 0.0191\n",
            "Epoch 887/1200\n",
            "1/1 [==============================] - 0s 17ms/step - loss: 4.9362e-04 - mae: 0.0191\n",
            "Epoch 888/1200\n",
            "1/1 [==============================] - 0s 16ms/step - loss: 4.9028e-04 - mae: 0.0190\n",
            "Epoch 889/1200\n",
            "1/1 [==============================] - 0s 15ms/step - loss: 4.8696e-04 - mae: 0.0189\n",
            "Epoch 890/1200\n",
            "1/1 [==============================] - 0s 22ms/step - loss: 4.8368e-04 - mae: 0.0189\n",
            "Epoch 891/1200\n",
            "1/1 [==============================] - 0s 15ms/step - loss: 4.8044e-04 - mae: 0.0188\n",
            "Epoch 892/1200\n",
            "1/1 [==============================] - 0s 20ms/step - loss: 4.7718e-04 - mae: 0.0187\n",
            "Epoch 893/1200\n",
            "1/1 [==============================] - 0s 19ms/step - loss: 4.7396e-04 - mae: 0.0187\n",
            "Epoch 894/1200\n",
            "1/1 [==============================] - 0s 16ms/step - loss: 4.7076e-04 - mae: 0.0186\n",
            "Epoch 895/1200\n",
            "1/1 [==============================] - 0s 13ms/step - loss: 4.6759e-04 - mae: 0.0186\n",
            "Epoch 896/1200\n",
            "1/1 [==============================] - 0s 27ms/step - loss: 4.6442e-04 - mae: 0.0185\n",
            "Epoch 897/1200\n",
            "1/1 [==============================] - 0s 21ms/step - loss: 4.6129e-04 - mae: 0.0184\n",
            "Epoch 898/1200\n",
            "1/1 [==============================] - 0s 19ms/step - loss: 4.5819e-04 - mae: 0.0184\n",
            "Epoch 899/1200\n",
            "1/1 [==============================] - 0s 10ms/step - loss: 4.5509e-04 - mae: 0.0183\n",
            "Epoch 900/1200\n",
            "1/1 [==============================] - 0s 7ms/step - loss: 4.5201e-04 - mae: 0.0182\n",
            "Epoch 901/1200\n",
            "1/1 [==============================] - 0s 10ms/step - loss: 4.4894e-04 - mae: 0.0182\n",
            "Epoch 902/1200\n",
            "1/1 [==============================] - 0s 7ms/step - loss: 4.4593e-04 - mae: 0.0181\n",
            "Epoch 903/1200\n",
            "1/1 [==============================] - 0s 7ms/step - loss: 4.4291e-04 - mae: 0.0181\n",
            "Epoch 904/1200\n",
            "1/1 [==============================] - 0s 8ms/step - loss: 4.3994e-04 - mae: 0.0180\n",
            "Epoch 905/1200\n",
            "1/1 [==============================] - 0s 10ms/step - loss: 4.3696e-04 - mae: 0.0179\n",
            "Epoch 906/1200\n",
            "1/1 [==============================] - 0s 6ms/step - loss: 4.3400e-04 - mae: 0.0179\n",
            "Epoch 907/1200\n",
            "1/1 [==============================] - 0s 9ms/step - loss: 4.3107e-04 - mae: 0.0178\n",
            "Epoch 908/1200\n",
            "1/1 [==============================] - 0s 11ms/step - loss: 4.2817e-04 - mae: 0.0178\n",
            "Epoch 909/1200\n",
            "1/1 [==============================] - 0s 7ms/step - loss: 4.2527e-04 - mae: 0.0177\n",
            "Epoch 910/1200\n",
            "1/1 [==============================] - 0s 11ms/step - loss: 4.2240e-04 - mae: 0.0176\n",
            "Epoch 911/1200\n",
            "1/1 [==============================] - 0s 10ms/step - loss: 4.1956e-04 - mae: 0.0176\n",
            "Epoch 912/1200\n",
            "1/1 [==============================] - 0s 8ms/step - loss: 4.1672e-04 - mae: 0.0175\n",
            "Epoch 913/1200\n",
            "1/1 [==============================] - 0s 10ms/step - loss: 4.1392e-04 - mae: 0.0175\n",
            "Epoch 914/1200\n",
            "1/1 [==============================] - 0s 6ms/step - loss: 4.1112e-04 - mae: 0.0174\n",
            "Epoch 915/1200\n",
            "1/1 [==============================] - 0s 8ms/step - loss: 4.0833e-04 - mae: 0.0173\n",
            "Epoch 916/1200\n",
            "1/1 [==============================] - 0s 14ms/step - loss: 4.0558e-04 - mae: 0.0173\n",
            "Epoch 917/1200\n",
            "1/1 [==============================] - 0s 18ms/step - loss: 4.0285e-04 - mae: 0.0172\n",
            "Epoch 918/1200\n",
            "1/1 [==============================] - 0s 9ms/step - loss: 4.0013e-04 - mae: 0.0172\n",
            "Epoch 919/1200\n",
            "1/1 [==============================] - 0s 10ms/step - loss: 3.9743e-04 - mae: 0.0171\n",
            "Epoch 920/1200\n",
            "1/1 [==============================] - 0s 9ms/step - loss: 3.9474e-04 - mae: 0.0171\n",
            "Epoch 921/1200\n",
            "1/1 [==============================] - 0s 11ms/step - loss: 3.9208e-04 - mae: 0.0170\n",
            "Epoch 922/1200\n",
            "1/1 [==============================] - 0s 9ms/step - loss: 3.8943e-04 - mae: 0.0169\n",
            "Epoch 923/1200\n",
            "1/1 [==============================] - 0s 13ms/step - loss: 3.8680e-04 - mae: 0.0169\n",
            "Epoch 924/1200\n",
            "1/1 [==============================] - 0s 7ms/step - loss: 3.8420e-04 - mae: 0.0168\n",
            "Epoch 925/1200\n",
            "1/1 [==============================] - 0s 13ms/step - loss: 3.8159e-04 - mae: 0.0168\n",
            "Epoch 926/1200\n",
            "1/1 [==============================] - 0s 10ms/step - loss: 3.7903e-04 - mae: 0.0167\n",
            "Epoch 927/1200\n",
            "1/1 [==============================] - 0s 9ms/step - loss: 3.7647e-04 - mae: 0.0167\n",
            "Epoch 928/1200\n",
            "1/1 [==============================] - 0s 12ms/step - loss: 3.7393e-04 - mae: 0.0166\n",
            "Epoch 929/1200\n",
            "1/1 [==============================] - 0s 9ms/step - loss: 3.7140e-04 - mae: 0.0165\n",
            "Epoch 930/1200\n",
            "1/1 [==============================] - 0s 7ms/step - loss: 3.6889e-04 - mae: 0.0165\n",
            "Epoch 931/1200\n",
            "1/1 [==============================] - 0s 11ms/step - loss: 3.6640e-04 - mae: 0.0164\n",
            "Epoch 932/1200\n",
            "1/1 [==============================] - 0s 7ms/step - loss: 3.6393e-04 - mae: 0.0164\n",
            "Epoch 933/1200\n",
            "1/1 [==============================] - 0s 8ms/step - loss: 3.6147e-04 - mae: 0.0163\n",
            "Epoch 934/1200\n",
            "1/1 [==============================] - 0s 12ms/step - loss: 3.5903e-04 - mae: 0.0163\n",
            "Epoch 935/1200\n",
            "1/1 [==============================] - 0s 6ms/step - loss: 3.5662e-04 - mae: 0.0162\n",
            "Epoch 936/1200\n",
            "1/1 [==============================] - 0s 10ms/step - loss: 3.5420e-04 - mae: 0.0162\n",
            "Epoch 937/1200\n",
            "1/1 [==============================] - 0s 11ms/step - loss: 3.5181e-04 - mae: 0.0161\n",
            "Epoch 938/1200\n",
            "1/1 [==============================] - 0s 7ms/step - loss: 3.4944e-04 - mae: 0.0160\n",
            "Epoch 939/1200\n",
            "1/1 [==============================] - 0s 6ms/step - loss: 3.4707e-04 - mae: 0.0160\n",
            "Epoch 940/1200\n",
            "1/1 [==============================] - 0s 11ms/step - loss: 3.4474e-04 - mae: 0.0159\n",
            "Epoch 941/1200\n",
            "1/1 [==============================] - 0s 6ms/step - loss: 3.4240e-04 - mae: 0.0159\n",
            "Epoch 942/1200\n",
            "1/1 [==============================] - 0s 9ms/step - loss: 3.4009e-04 - mae: 0.0158\n",
            "Epoch 943/1200\n",
            "1/1 [==============================] - 0s 16ms/step - loss: 3.3779e-04 - mae: 0.0158\n",
            "Epoch 944/1200\n",
            "1/1 [==============================] - 0s 12ms/step - loss: 3.3553e-04 - mae: 0.0157\n",
            "Epoch 945/1200\n",
            "1/1 [==============================] - 0s 15ms/step - loss: 3.3325e-04 - mae: 0.0157\n",
            "Epoch 946/1200\n",
            "1/1 [==============================] - 0s 27ms/step - loss: 3.3100e-04 - mae: 0.0156\n",
            "Epoch 947/1200\n",
            "1/1 [==============================] - 0s 171ms/step - loss: 3.2877e-04 - mae: 0.0156\n",
            "Epoch 948/1200\n",
            "1/1 [==============================] - 0s 12ms/step - loss: 3.2655e-04 - mae: 0.0155\n",
            "Epoch 949/1200\n",
            "1/1 [==============================] - 0s 14ms/step - loss: 3.2434e-04 - mae: 0.0155\n",
            "Epoch 950/1200\n",
            "1/1 [==============================] - 0s 16ms/step - loss: 3.2215e-04 - mae: 0.0154\n",
            "Epoch 951/1200\n",
            "1/1 [==============================] - 0s 19ms/step - loss: 3.1998e-04 - mae: 0.0154\n",
            "Epoch 952/1200\n",
            "1/1 [==============================] - 0s 19ms/step - loss: 3.1782e-04 - mae: 0.0153\n",
            "Epoch 953/1200\n",
            "1/1 [==============================] - 0s 19ms/step - loss: 3.1568e-04 - mae: 0.0153\n",
            "Epoch 954/1200\n",
            "1/1 [==============================] - 0s 14ms/step - loss: 3.1354e-04 - mae: 0.0152\n",
            "Epoch 955/1200\n",
            "1/1 [==============================] - 0s 68ms/step - loss: 3.1143e-04 - mae: 0.0151\n",
            "Epoch 956/1200\n",
            "1/1 [==============================] - 0s 25ms/step - loss: 3.0933e-04 - mae: 0.0151\n",
            "Epoch 957/1200\n",
            "1/1 [==============================] - 0s 20ms/step - loss: 3.0724e-04 - mae: 0.0150\n",
            "Epoch 958/1200\n",
            "1/1 [==============================] - 0s 15ms/step - loss: 3.0517e-04 - mae: 0.0150\n",
            "Epoch 959/1200\n",
            "1/1 [==============================] - 0s 19ms/step - loss: 3.0311e-04 - mae: 0.0149\n",
            "Epoch 960/1200\n",
            "1/1 [==============================] - 0s 17ms/step - loss: 3.0105e-04 - mae: 0.0149\n",
            "Epoch 961/1200\n",
            "1/1 [==============================] - 0s 13ms/step - loss: 2.9902e-04 - mae: 0.0148\n",
            "Epoch 962/1200\n",
            "1/1 [==============================] - 0s 18ms/step - loss: 2.9701e-04 - mae: 0.0148\n",
            "Epoch 963/1200\n",
            "1/1 [==============================] - 0s 19ms/step - loss: 2.9500e-04 - mae: 0.0147\n",
            "Epoch 964/1200\n",
            "1/1 [==============================] - 0s 16ms/step - loss: 2.9302e-04 - mae: 0.0147\n",
            "Epoch 965/1200\n",
            "1/1 [==============================] - 0s 18ms/step - loss: 2.9103e-04 - mae: 0.0146\n",
            "Epoch 966/1200\n",
            "1/1 [==============================] - 0s 20ms/step - loss: 2.8907e-04 - mae: 0.0146\n",
            "Epoch 967/1200\n",
            "1/1 [==============================] - 0s 15ms/step - loss: 2.8712e-04 - mae: 0.0145\n",
            "Epoch 968/1200\n",
            "1/1 [==============================] - 0s 21ms/step - loss: 2.8518e-04 - mae: 0.0145\n",
            "Epoch 969/1200\n",
            "1/1 [==============================] - 0s 18ms/step - loss: 2.8327e-04 - mae: 0.0144\n",
            "Epoch 970/1200\n",
            "1/1 [==============================] - 0s 12ms/step - loss: 2.8134e-04 - mae: 0.0144\n",
            "Epoch 971/1200\n",
            "1/1 [==============================] - 0s 16ms/step - loss: 2.7945e-04 - mae: 0.0143\n",
            "Epoch 972/1200\n",
            "1/1 [==============================] - 0s 14ms/step - loss: 2.7756e-04 - mae: 0.0143\n",
            "Epoch 973/1200\n",
            "1/1 [==============================] - 0s 13ms/step - loss: 2.7569e-04 - mae: 0.0143\n",
            "Epoch 974/1200\n",
            "1/1 [==============================] - 0s 12ms/step - loss: 2.7382e-04 - mae: 0.0142\n",
            "Epoch 975/1200\n",
            "1/1 [==============================] - 0s 15ms/step - loss: 2.7198e-04 - mae: 0.0142\n",
            "Epoch 976/1200\n",
            "1/1 [==============================] - 0s 18ms/step - loss: 2.7013e-04 - mae: 0.0141\n",
            "Epoch 977/1200\n",
            "1/1 [==============================] - 0s 13ms/step - loss: 2.6831e-04 - mae: 0.0141\n",
            "Epoch 978/1200\n",
            "1/1 [==============================] - 0s 15ms/step - loss: 2.6651e-04 - mae: 0.0140\n",
            "Epoch 979/1200\n",
            "1/1 [==============================] - 0s 12ms/step - loss: 2.6470e-04 - mae: 0.0140\n",
            "Epoch 980/1200\n",
            "1/1 [==============================] - 0s 11ms/step - loss: 2.6292e-04 - mae: 0.0139\n",
            "Epoch 981/1200\n",
            "1/1 [==============================] - 0s 20ms/step - loss: 2.6114e-04 - mae: 0.0139\n",
            "Epoch 982/1200\n",
            "1/1 [==============================] - 0s 21ms/step - loss: 2.5938e-04 - mae: 0.0138\n",
            "Epoch 983/1200\n",
            "1/1 [==============================] - 0s 10ms/step - loss: 2.5763e-04 - mae: 0.0138\n",
            "Epoch 984/1200\n",
            "1/1 [==============================] - 0s 14ms/step - loss: 2.5589e-04 - mae: 0.0137\n",
            "Epoch 985/1200\n",
            "1/1 [==============================] - 0s 16ms/step - loss: 2.5416e-04 - mae: 0.0137\n",
            "Epoch 986/1200\n",
            "1/1 [==============================] - 0s 10ms/step - loss: 2.5245e-04 - mae: 0.0136\n",
            "Epoch 987/1200\n",
            "1/1 [==============================] - 0s 16ms/step - loss: 2.5075e-04 - mae: 0.0136\n",
            "Epoch 988/1200\n",
            "1/1 [==============================] - 0s 11ms/step - loss: 2.4905e-04 - mae: 0.0135\n",
            "Epoch 989/1200\n",
            "1/1 [==============================] - 0s 15ms/step - loss: 2.4737e-04 - mae: 0.0135\n",
            "Epoch 990/1200\n",
            "1/1 [==============================] - 0s 10ms/step - loss: 2.4571e-04 - mae: 0.0135\n",
            "Epoch 991/1200\n",
            "1/1 [==============================] - 0s 7ms/step - loss: 2.4404e-04 - mae: 0.0134\n",
            "Epoch 992/1200\n",
            "1/1 [==============================] - 0s 7ms/step - loss: 2.4240e-04 - mae: 0.0134\n",
            "Epoch 993/1200\n",
            "1/1 [==============================] - 0s 7ms/step - loss: 2.4076e-04 - mae: 0.0133\n",
            "Epoch 994/1200\n",
            "1/1 [==============================] - 0s 7ms/step - loss: 2.3913e-04 - mae: 0.0133\n",
            "Epoch 995/1200\n",
            "1/1 [==============================] - 0s 7ms/step - loss: 2.3752e-04 - mae: 0.0132\n",
            "Epoch 996/1200\n",
            "1/1 [==============================] - 0s 7ms/step - loss: 2.3592e-04 - mae: 0.0132\n",
            "Epoch 997/1200\n",
            "1/1 [==============================] - 0s 7ms/step - loss: 2.3433e-04 - mae: 0.0131\n",
            "Epoch 998/1200\n",
            "1/1 [==============================] - 0s 8ms/step - loss: 2.3275e-04 - mae: 0.0131\n",
            "Epoch 999/1200\n",
            "1/1 [==============================] - 0s 7ms/step - loss: 2.3117e-04 - mae: 0.0131\n",
            "Epoch 1000/1200\n",
            "1/1 [==============================] - 0s 8ms/step - loss: 2.2962e-04 - mae: 0.0130\n",
            "Epoch 1001/1200\n",
            "1/1 [==============================] - 0s 7ms/step - loss: 2.2807e-04 - mae: 0.0130\n",
            "Epoch 1002/1200\n",
            "1/1 [==============================] - 0s 9ms/step - loss: 2.2651e-04 - mae: 0.0129\n",
            "Epoch 1003/1200\n",
            "1/1 [==============================] - 0s 7ms/step - loss: 2.2499e-04 - mae: 0.0129\n",
            "Epoch 1004/1200\n",
            "1/1 [==============================] - 0s 7ms/step - loss: 2.2348e-04 - mae: 0.0128\n",
            "Epoch 1005/1200\n",
            "1/1 [==============================] - 0s 7ms/step - loss: 2.2197e-04 - mae: 0.0128\n",
            "Epoch 1006/1200\n",
            "1/1 [==============================] - 0s 12ms/step - loss: 2.2046e-04 - mae: 0.0127\n",
            "Epoch 1007/1200\n",
            "1/1 [==============================] - 0s 7ms/step - loss: 2.1898e-04 - mae: 0.0127\n",
            "Epoch 1008/1200\n",
            "1/1 [==============================] - 0s 10ms/step - loss: 2.1750e-04 - mae: 0.0127\n",
            "Epoch 1009/1200\n",
            "1/1 [==============================] - 0s 7ms/step - loss: 2.1603e-04 - mae: 0.0126\n",
            "Epoch 1010/1200\n",
            "1/1 [==============================] - 0s 9ms/step - loss: 2.1458e-04 - mae: 0.0126\n",
            "Epoch 1011/1200\n",
            "1/1 [==============================] - 0s 13ms/step - loss: 2.1312e-04 - mae: 0.0125\n",
            "Epoch 1012/1200\n",
            "1/1 [==============================] - 0s 19ms/step - loss: 2.1168e-04 - mae: 0.0125\n",
            "Epoch 1013/1200\n",
            "1/1 [==============================] - 0s 13ms/step - loss: 2.1025e-04 - mae: 0.0124\n",
            "Epoch 1014/1200\n",
            "1/1 [==============================] - 0s 17ms/step - loss: 2.0884e-04 - mae: 0.0124\n",
            "Epoch 1015/1200\n",
            "1/1 [==============================] - 0s 8ms/step - loss: 2.0743e-04 - mae: 0.0124\n",
            "Epoch 1016/1200\n",
            "1/1 [==============================] - 0s 8ms/step - loss: 2.0603e-04 - mae: 0.0123\n",
            "Epoch 1017/1200\n",
            "1/1 [==============================] - 0s 8ms/step - loss: 2.0463e-04 - mae: 0.0123\n",
            "Epoch 1018/1200\n",
            "1/1 [==============================] - 0s 8ms/step - loss: 2.0326e-04 - mae: 0.0122\n",
            "Epoch 1019/1200\n",
            "1/1 [==============================] - 0s 8ms/step - loss: 2.0188e-04 - mae: 0.0122\n",
            "Epoch 1020/1200\n",
            "1/1 [==============================] - 0s 8ms/step - loss: 2.0052e-04 - mae: 0.0122\n",
            "Epoch 1021/1200\n",
            "1/1 [==============================] - 0s 14ms/step - loss: 1.9917e-04 - mae: 0.0121\n",
            "Epoch 1022/1200\n",
            "1/1 [==============================] - 0s 8ms/step - loss: 1.9782e-04 - mae: 0.0121\n",
            "Epoch 1023/1200\n",
            "1/1 [==============================] - 0s 7ms/step - loss: 1.9649e-04 - mae: 0.0120\n",
            "Epoch 1024/1200\n",
            "1/1 [==============================] - 0s 7ms/step - loss: 1.9516e-04 - mae: 0.0120\n",
            "Epoch 1025/1200\n",
            "1/1 [==============================] - 0s 8ms/step - loss: 1.9384e-04 - mae: 0.0120\n",
            "Epoch 1026/1200\n",
            "1/1 [==============================] - 0s 7ms/step - loss: 1.9253e-04 - mae: 0.0119\n",
            "Epoch 1027/1200\n",
            "1/1 [==============================] - 0s 7ms/step - loss: 1.9123e-04 - mae: 0.0119\n",
            "Epoch 1028/1200\n",
            "1/1 [==============================] - 0s 8ms/step - loss: 1.8994e-04 - mae: 0.0118\n",
            "Epoch 1029/1200\n",
            "1/1 [==============================] - 0s 8ms/step - loss: 1.8867e-04 - mae: 0.0118\n",
            "Epoch 1030/1200\n",
            "1/1 [==============================] - 0s 244ms/step - loss: 1.8739e-04 - mae: 0.0117\n",
            "Epoch 1031/1200\n",
            "1/1 [==============================] - 0s 11ms/step - loss: 1.8613e-04 - mae: 0.0117\n",
            "Epoch 1032/1200\n",
            "1/1 [==============================] - 0s 7ms/step - loss: 1.8487e-04 - mae: 0.0117\n",
            "Epoch 1033/1200\n",
            "1/1 [==============================] - 0s 9ms/step - loss: 1.8363e-04 - mae: 0.0116\n",
            "Epoch 1034/1200\n",
            "1/1 [==============================] - 0s 8ms/step - loss: 1.8238e-04 - mae: 0.0116\n",
            "Epoch 1035/1200\n",
            "1/1 [==============================] - 0s 8ms/step - loss: 1.8114e-04 - mae: 0.0116\n",
            "Epoch 1036/1200\n",
            "1/1 [==============================] - 0s 7ms/step - loss: 1.7993e-04 - mae: 0.0115\n",
            "Epoch 1037/1200\n",
            "1/1 [==============================] - 0s 11ms/step - loss: 1.7871e-04 - mae: 0.0115\n",
            "Epoch 1038/1200\n",
            "1/1 [==============================] - 0s 6ms/step - loss: 1.7750e-04 - mae: 0.0114\n",
            "Epoch 1039/1200\n",
            "1/1 [==============================] - 0s 9ms/step - loss: 1.7630e-04 - mae: 0.0114\n",
            "Epoch 1040/1200\n",
            "1/1 [==============================] - 0s 7ms/step - loss: 1.7512e-04 - mae: 0.0114\n",
            "Epoch 1041/1200\n",
            "1/1 [==============================] - 0s 8ms/step - loss: 1.7393e-04 - mae: 0.0113\n",
            "Epoch 1042/1200\n",
            "1/1 [==============================] - 0s 8ms/step - loss: 1.7276e-04 - mae: 0.0113\n",
            "Epoch 1043/1200\n",
            "1/1 [==============================] - 0s 7ms/step - loss: 1.7160e-04 - mae: 0.0112\n",
            "Epoch 1044/1200\n",
            "1/1 [==============================] - 0s 11ms/step - loss: 1.7044e-04 - mae: 0.0112\n",
            "Epoch 1045/1200\n",
            "1/1 [==============================] - 0s 7ms/step - loss: 1.6929e-04 - mae: 0.0112\n",
            "Epoch 1046/1200\n",
            "1/1 [==============================] - 0s 8ms/step - loss: 1.6814e-04 - mae: 0.0111\n",
            "Epoch 1047/1200\n",
            "1/1 [==============================] - 0s 7ms/step - loss: 1.6701e-04 - mae: 0.0111\n",
            "Epoch 1048/1200\n",
            "1/1 [==============================] - 0s 7ms/step - loss: 1.6588e-04 - mae: 0.0111\n",
            "Epoch 1049/1200\n",
            "1/1 [==============================] - 0s 9ms/step - loss: 1.6476e-04 - mae: 0.0110\n",
            "Epoch 1050/1200\n",
            "1/1 [==============================] - 0s 7ms/step - loss: 1.6365e-04 - mae: 0.0110\n",
            "Epoch 1051/1200\n",
            "1/1 [==============================] - 0s 7ms/step - loss: 1.6254e-04 - mae: 0.0109\n",
            "Epoch 1052/1200\n",
            "1/1 [==============================] - 0s 10ms/step - loss: 1.6145e-04 - mae: 0.0109\n",
            "Epoch 1053/1200\n",
            "1/1 [==============================] - 0s 7ms/step - loss: 1.6035e-04 - mae: 0.0109\n",
            "Epoch 1054/1200\n",
            "1/1 [==============================] - 0s 7ms/step - loss: 1.5928e-04 - mae: 0.0108\n",
            "Epoch 1055/1200\n",
            "1/1 [==============================] - 0s 7ms/step - loss: 1.5820e-04 - mae: 0.0108\n",
            "Epoch 1056/1200\n",
            "1/1 [==============================] - 0s 7ms/step - loss: 1.5713e-04 - mae: 0.0108\n",
            "Epoch 1057/1200\n",
            "1/1 [==============================] - 0s 11ms/step - loss: 1.5607e-04 - mae: 0.0107\n",
            "Epoch 1058/1200\n",
            "1/1 [==============================] - 0s 17ms/step - loss: 1.5502e-04 - mae: 0.0107\n",
            "Epoch 1059/1200\n",
            "1/1 [==============================] - 0s 22ms/step - loss: 1.5397e-04 - mae: 0.0107\n",
            "Epoch 1060/1200\n",
            "1/1 [==============================] - 0s 46ms/step - loss: 1.5293e-04 - mae: 0.0106\n",
            "Epoch 1061/1200\n",
            "1/1 [==============================] - 0s 8ms/step - loss: 1.5189e-04 - mae: 0.0106\n",
            "Epoch 1062/1200\n",
            "1/1 [==============================] - 0s 11ms/step - loss: 1.5087e-04 - mae: 0.0105\n",
            "Epoch 1063/1200\n",
            "1/1 [==============================] - 0s 66ms/step - loss: 1.4986e-04 - mae: 0.0105\n",
            "Epoch 1064/1200\n",
            "1/1 [==============================] - 0s 32ms/step - loss: 1.4884e-04 - mae: 0.0105\n",
            "Epoch 1065/1200\n",
            "1/1 [==============================] - 0s 66ms/step - loss: 1.4783e-04 - mae: 0.0104\n",
            "Epoch 1066/1200\n",
            "1/1 [==============================] - 0s 107ms/step - loss: 1.4683e-04 - mae: 0.0104\n",
            "Epoch 1067/1200\n",
            "1/1 [==============================] - 0s 14ms/step - loss: 1.4584e-04 - mae: 0.0104\n",
            "Epoch 1068/1200\n",
            "1/1 [==============================] - 0s 17ms/step - loss: 1.4486e-04 - mae: 0.0103\n",
            "Epoch 1069/1200\n",
            "1/1 [==============================] - 0s 10ms/step - loss: 1.4388e-04 - mae: 0.0103\n",
            "Epoch 1070/1200\n",
            "1/1 [==============================] - 0s 7ms/step - loss: 1.4291e-04 - mae: 0.0103\n",
            "Epoch 1071/1200\n",
            "1/1 [==============================] - 0s 7ms/step - loss: 1.4195e-04 - mae: 0.0102\n",
            "Epoch 1072/1200\n",
            "1/1 [==============================] - 0s 7ms/step - loss: 1.4098e-04 - mae: 0.0102\n",
            "Epoch 1073/1200\n",
            "1/1 [==============================] - 0s 8ms/step - loss: 1.4004e-04 - mae: 0.0102\n",
            "Epoch 1074/1200\n",
            "1/1 [==============================] - 0s 8ms/step - loss: 1.3909e-04 - mae: 0.0101\n",
            "Epoch 1075/1200\n",
            "1/1 [==============================] - 0s 6ms/step - loss: 1.3816e-04 - mae: 0.0101\n",
            "Epoch 1076/1200\n",
            "1/1 [==============================] - 0s 8ms/step - loss: 1.3722e-04 - mae: 0.0101\n",
            "Epoch 1077/1200\n",
            "1/1 [==============================] - 0s 9ms/step - loss: 1.3630e-04 - mae: 0.0100\n",
            "Epoch 1078/1200\n",
            "1/1 [==============================] - 0s 16ms/step - loss: 1.3538e-04 - mae: 0.0100\n",
            "Epoch 1079/1200\n",
            "1/1 [==============================] - 0s 12ms/step - loss: 1.3446e-04 - mae: 0.0100\n",
            "Epoch 1080/1200\n",
            "1/1 [==============================] - 0s 13ms/step - loss: 1.3355e-04 - mae: 0.0099\n",
            "Epoch 1081/1200\n",
            "1/1 [==============================] - 0s 14ms/step - loss: 1.3265e-04 - mae: 0.0099\n",
            "Epoch 1082/1200\n",
            "1/1 [==============================] - 0s 12ms/step - loss: 1.3176e-04 - mae: 0.0099\n",
            "Epoch 1083/1200\n",
            "1/1 [==============================] - 0s 12ms/step - loss: 1.3087e-04 - mae: 0.0098\n",
            "Epoch 1084/1200\n",
            "1/1 [==============================] - 0s 6ms/step - loss: 1.2998e-04 - mae: 0.0098\n",
            "Epoch 1085/1200\n",
            "1/1 [==============================] - 0s 7ms/step - loss: 1.2910e-04 - mae: 0.0098\n",
            "Epoch 1086/1200\n",
            "1/1 [==============================] - 0s 16ms/step - loss: 1.2823e-04 - mae: 0.0097\n",
            "Epoch 1087/1200\n",
            "1/1 [==============================] - 0s 13ms/step - loss: 1.2737e-04 - mae: 0.0097\n",
            "Epoch 1088/1200\n",
            "1/1 [==============================] - 0s 11ms/step - loss: 1.2650e-04 - mae: 0.0097\n",
            "Epoch 1089/1200\n",
            "1/1 [==============================] - 0s 14ms/step - loss: 1.2566e-04 - mae: 0.0096\n",
            "Epoch 1090/1200\n",
            "1/1 [==============================] - 0s 8ms/step - loss: 1.2480e-04 - mae: 0.0096\n",
            "Epoch 1091/1200\n",
            "1/1 [==============================] - 0s 6ms/step - loss: 1.2397e-04 - mae: 0.0096\n",
            "Epoch 1092/1200\n",
            "1/1 [==============================] - 0s 7ms/step - loss: 1.2313e-04 - mae: 0.0095\n",
            "Epoch 1093/1200\n",
            "1/1 [==============================] - 0s 6ms/step - loss: 1.2229e-04 - mae: 0.0095\n",
            "Epoch 1094/1200\n",
            "1/1 [==============================] - 0s 6ms/step - loss: 1.2147e-04 - mae: 0.0095\n",
            "Epoch 1095/1200\n",
            "1/1 [==============================] - 0s 7ms/step - loss: 1.2065e-04 - mae: 0.0094\n",
            "Epoch 1096/1200\n",
            "1/1 [==============================] - 0s 7ms/step - loss: 1.1983e-04 - mae: 0.0094\n",
            "Epoch 1097/1200\n",
            "1/1 [==============================] - 0s 6ms/step - loss: 1.1903e-04 - mae: 0.0094\n",
            "Epoch 1098/1200\n",
            "1/1 [==============================] - 0s 8ms/step - loss: 1.1822e-04 - mae: 0.0093\n",
            "Epoch 1099/1200\n",
            "1/1 [==============================] - 0s 7ms/step - loss: 1.1742e-04 - mae: 0.0093\n",
            "Epoch 1100/1200\n",
            "1/1 [==============================] - 0s 7ms/step - loss: 1.1663e-04 - mae: 0.0093\n",
            "Epoch 1101/1200\n",
            "1/1 [==============================] - 0s 12ms/step - loss: 1.1584e-04 - mae: 0.0092\n",
            "Epoch 1102/1200\n",
            "1/1 [==============================] - 0s 6ms/step - loss: 1.1506e-04 - mae: 0.0092\n",
            "Epoch 1103/1200\n",
            "1/1 [==============================] - 0s 6ms/step - loss: 1.1429e-04 - mae: 0.0092\n",
            "Epoch 1104/1200\n",
            "1/1 [==============================] - 0s 7ms/step - loss: 1.1352e-04 - mae: 0.0091\n",
            "Epoch 1105/1200\n",
            "1/1 [==============================] - 0s 6ms/step - loss: 1.1275e-04 - mae: 0.0091\n",
            "Epoch 1106/1200\n",
            "1/1 [==============================] - 0s 8ms/step - loss: 1.1199e-04 - mae: 0.0091\n",
            "Epoch 1107/1200\n",
            "1/1 [==============================] - 0s 6ms/step - loss: 1.1124e-04 - mae: 0.0091\n",
            "Epoch 1108/1200\n",
            "1/1 [==============================] - 0s 6ms/step - loss: 1.1049e-04 - mae: 0.0090\n",
            "Epoch 1109/1200\n",
            "1/1 [==============================] - 0s 7ms/step - loss: 1.0973e-04 - mae: 0.0090\n",
            "Epoch 1110/1200\n",
            "1/1 [==============================] - 0s 7ms/step - loss: 1.0899e-04 - mae: 0.0090\n",
            "Epoch 1111/1200\n",
            "1/1 [==============================] - 0s 6ms/step - loss: 1.0826e-04 - mae: 0.0089\n",
            "Epoch 1112/1200\n",
            "1/1 [==============================] - 0s 6ms/step - loss: 1.0753e-04 - mae: 0.0089\n",
            "Epoch 1113/1200\n",
            "1/1 [==============================] - 0s 24ms/step - loss: 1.0681e-04 - mae: 0.0089\n",
            "Epoch 1114/1200\n",
            "1/1 [==============================] - 0s 15ms/step - loss: 1.0608e-04 - mae: 0.0088\n",
            "Epoch 1115/1200\n",
            "1/1 [==============================] - 0s 10ms/step - loss: 1.0537e-04 - mae: 0.0088\n",
            "Epoch 1116/1200\n",
            "1/1 [==============================] - 0s 10ms/step - loss: 1.0465e-04 - mae: 0.0088\n",
            "Epoch 1117/1200\n",
            "1/1 [==============================] - 0s 13ms/step - loss: 1.0395e-04 - mae: 0.0088\n",
            "Epoch 1118/1200\n",
            "1/1 [==============================] - 0s 9ms/step - loss: 1.0324e-04 - mae: 0.0087\n",
            "Epoch 1119/1200\n",
            "1/1 [==============================] - 0s 6ms/step - loss: 1.0255e-04 - mae: 0.0087\n",
            "Epoch 1120/1200\n",
            "1/1 [==============================] - 0s 6ms/step - loss: 1.0185e-04 - mae: 0.0087\n",
            "Epoch 1121/1200\n",
            "1/1 [==============================] - 0s 6ms/step - loss: 1.0117e-04 - mae: 0.0086\n",
            "Epoch 1122/1200\n",
            "1/1 [==============================] - 0s 7ms/step - loss: 1.0048e-04 - mae: 0.0086\n",
            "Epoch 1123/1200\n",
            "1/1 [==============================] - 0s 6ms/step - loss: 9.9809e-05 - mae: 0.0086\n",
            "Epoch 1124/1200\n",
            "1/1 [==============================] - 0s 6ms/step - loss: 9.9135e-05 - mae: 0.0085\n",
            "Epoch 1125/1200\n",
            "1/1 [==============================] - 0s 6ms/step - loss: 9.8463e-05 - mae: 0.0085\n",
            "Epoch 1126/1200\n",
            "1/1 [==============================] - 0s 9ms/step - loss: 9.7798e-05 - mae: 0.0085\n",
            "Epoch 1127/1200\n",
            "1/1 [==============================] - 0s 5ms/step - loss: 9.7145e-05 - mae: 0.0085\n",
            "Epoch 1128/1200\n",
            "1/1 [==============================] - 0s 7ms/step - loss: 9.6482e-05 - mae: 0.0084\n",
            "Epoch 1129/1200\n",
            "1/1 [==============================] - 0s 6ms/step - loss: 9.5834e-05 - mae: 0.0084\n",
            "Epoch 1130/1200\n",
            "1/1 [==============================] - 0s 6ms/step - loss: 9.5190e-05 - mae: 0.0084\n",
            "Epoch 1131/1200\n",
            "1/1 [==============================] - 0s 7ms/step - loss: 9.4547e-05 - mae: 0.0083\n",
            "Epoch 1132/1200\n",
            "1/1 [==============================] - 0s 6ms/step - loss: 9.3905e-05 - mae: 0.0083\n",
            "Epoch 1133/1200\n",
            "1/1 [==============================] - 0s 12ms/step - loss: 9.3276e-05 - mae: 0.0083\n",
            "Epoch 1134/1200\n",
            "1/1 [==============================] - 0s 6ms/step - loss: 9.2642e-05 - mae: 0.0083\n",
            "Epoch 1135/1200\n",
            "1/1 [==============================] - 0s 9ms/step - loss: 9.2014e-05 - mae: 0.0082\n",
            "Epoch 1136/1200\n",
            "1/1 [==============================] - 0s 6ms/step - loss: 9.1394e-05 - mae: 0.0082\n",
            "Epoch 1137/1200\n",
            "1/1 [==============================] - 0s 5ms/step - loss: 9.0779e-05 - mae: 0.0082\n",
            "Epoch 1138/1200\n",
            "1/1 [==============================] - 0s 11ms/step - loss: 9.0163e-05 - mae: 0.0082\n",
            "Epoch 1139/1200\n",
            "1/1 [==============================] - 0s 7ms/step - loss: 8.9554e-05 - mae: 0.0081\n",
            "Epoch 1140/1200\n",
            "1/1 [==============================] - 0s 23ms/step - loss: 8.8957e-05 - mae: 0.0081\n",
            "Epoch 1141/1200\n",
            "1/1 [==============================] - 0s 7ms/step - loss: 8.8348e-05 - mae: 0.0081\n",
            "Epoch 1142/1200\n",
            "1/1 [==============================] - 0s 15ms/step - loss: 8.7756e-05 - mae: 0.0080\n",
            "Epoch 1143/1200\n",
            "1/1 [==============================] - 0s 10ms/step - loss: 8.7163e-05 - mae: 0.0080\n",
            "Epoch 1144/1200\n",
            "1/1 [==============================] - 0s 16ms/step - loss: 8.6573e-05 - mae: 0.0080\n",
            "Epoch 1145/1200\n",
            "1/1 [==============================] - 0s 13ms/step - loss: 8.5990e-05 - mae: 0.0080\n",
            "Epoch 1146/1200\n",
            "1/1 [==============================] - 0s 12ms/step - loss: 8.5414e-05 - mae: 0.0079\n",
            "Epoch 1147/1200\n",
            "1/1 [==============================] - 0s 12ms/step - loss: 8.4833e-05 - mae: 0.0079\n",
            "Epoch 1148/1200\n",
            "1/1 [==============================] - 0s 18ms/step - loss: 8.4262e-05 - mae: 0.0079\n",
            "Epoch 1149/1200\n",
            "1/1 [==============================] - 0s 13ms/step - loss: 8.3698e-05 - mae: 0.0079\n",
            "Epoch 1150/1200\n",
            "1/1 [==============================] - 0s 9ms/step - loss: 8.3130e-05 - mae: 0.0078\n",
            "Epoch 1151/1200\n",
            "1/1 [==============================] - 0s 7ms/step - loss: 8.2564e-05 - mae: 0.0078\n",
            "Epoch 1152/1200\n",
            "1/1 [==============================] - 0s 7ms/step - loss: 8.2010e-05 - mae: 0.0078\n",
            "Epoch 1153/1200\n",
            "1/1 [==============================] - 0s 6ms/step - loss: 8.1454e-05 - mae: 0.0077\n",
            "Epoch 1154/1200\n",
            "1/1 [==============================] - 0s 6ms/step - loss: 8.0907e-05 - mae: 0.0077\n",
            "Epoch 1155/1200\n",
            "1/1 [==============================] - 0s 6ms/step - loss: 8.0363e-05 - mae: 0.0077\n",
            "Epoch 1156/1200\n",
            "1/1 [==============================] - 0s 7ms/step - loss: 7.9818e-05 - mae: 0.0077\n",
            "Epoch 1157/1200\n",
            "1/1 [==============================] - 0s 6ms/step - loss: 7.9280e-05 - mae: 0.0076\n",
            "Epoch 1158/1200\n",
            "1/1 [==============================] - 0s 6ms/step - loss: 7.8748e-05 - mae: 0.0076\n",
            "Epoch 1159/1200\n",
            "1/1 [==============================] - 0s 6ms/step - loss: 7.8210e-05 - mae: 0.0076\n",
            "Epoch 1160/1200\n",
            "1/1 [==============================] - 0s 6ms/step - loss: 7.7680e-05 - mae: 0.0076\n",
            "Epoch 1161/1200\n",
            "1/1 [==============================] - 0s 10ms/step - loss: 7.7155e-05 - mae: 0.0075\n",
            "Epoch 1162/1200\n",
            "1/1 [==============================] - 0s 6ms/step - loss: 7.6638e-05 - mae: 0.0075\n",
            "Epoch 1163/1200\n",
            "1/1 [==============================] - 0s 6ms/step - loss: 7.6122e-05 - mae: 0.0075\n",
            "Epoch 1164/1200\n",
            "1/1 [==============================] - 0s 6ms/step - loss: 7.5612e-05 - mae: 0.0075\n",
            "Epoch 1165/1200\n",
            "1/1 [==============================] - 0s 6ms/step - loss: 7.5101e-05 - mae: 0.0074\n",
            "Epoch 1166/1200\n",
            "1/1 [==============================] - 0s 7ms/step - loss: 7.4594e-05 - mae: 0.0074\n",
            "Epoch 1167/1200\n",
            "1/1 [==============================] - 0s 6ms/step - loss: 7.4091e-05 - mae: 0.0074\n",
            "Epoch 1168/1200\n",
            "1/1 [==============================] - 0s 6ms/step - loss: 7.3590e-05 - mae: 0.0074\n",
            "Epoch 1169/1200\n",
            "1/1 [==============================] - 0s 7ms/step - loss: 7.3088e-05 - mae: 0.0073\n",
            "Epoch 1170/1200\n",
            "1/1 [==============================] - 0s 18ms/step - loss: 7.2597e-05 - mae: 0.0073\n",
            "Epoch 1171/1200\n",
            "1/1 [==============================] - 0s 10ms/step - loss: 7.2110e-05 - mae: 0.0073\n",
            "Epoch 1172/1200\n",
            "1/1 [==============================] - 0s 16ms/step - loss: 7.1618e-05 - mae: 0.0073\n",
            "Epoch 1173/1200\n",
            "1/1 [==============================] - 0s 18ms/step - loss: 7.1140e-05 - mae: 0.0072\n",
            "Epoch 1174/1200\n",
            "1/1 [==============================] - 0s 20ms/step - loss: 7.0655e-05 - mae: 0.0072\n",
            "Epoch 1175/1200\n",
            "1/1 [==============================] - 0s 7ms/step - loss: 7.0179e-05 - mae: 0.0072\n",
            "Epoch 1176/1200\n",
            "1/1 [==============================] - 0s 28ms/step - loss: 6.9708e-05 - mae: 0.0072\n",
            "Epoch 1177/1200\n",
            "1/1 [==============================] - 0s 14ms/step - loss: 6.9233e-05 - mae: 0.0071\n",
            "Epoch 1178/1200\n",
            "1/1 [==============================] - 0s 19ms/step - loss: 6.8764e-05 - mae: 0.0071\n",
            "Epoch 1179/1200\n",
            "1/1 [==============================] - 0s 17ms/step - loss: 6.8300e-05 - mae: 0.0071\n",
            "Epoch 1180/1200\n",
            "1/1 [==============================] - 0s 15ms/step - loss: 6.7841e-05 - mae: 0.0071\n",
            "Epoch 1181/1200\n",
            "1/1 [==============================] - 0s 19ms/step - loss: 6.7384e-05 - mae: 0.0070\n",
            "Epoch 1182/1200\n",
            "1/1 [==============================] - 0s 19ms/step - loss: 6.6925e-05 - mae: 0.0070\n",
            "Epoch 1183/1200\n",
            "1/1 [==============================] - 0s 20ms/step - loss: 6.6471e-05 - mae: 0.0070\n",
            "Epoch 1184/1200\n",
            "1/1 [==============================] - 0s 12ms/step - loss: 6.6030e-05 - mae: 0.0070\n",
            "Epoch 1185/1200\n",
            "1/1 [==============================] - 0s 21ms/step - loss: 6.5586e-05 - mae: 0.0070\n",
            "Epoch 1186/1200\n",
            "1/1 [==============================] - 0s 20ms/step - loss: 6.5138e-05 - mae: 0.0069\n",
            "Epoch 1187/1200\n",
            "1/1 [==============================] - 0s 31ms/step - loss: 6.4703e-05 - mae: 0.0069\n",
            "Epoch 1188/1200\n",
            "1/1 [==============================] - 0s 17ms/step - loss: 6.4264e-05 - mae: 0.0069\n",
            "Epoch 1189/1200\n",
            "1/1 [==============================] - 0s 12ms/step - loss: 6.3829e-05 - mae: 0.0069\n",
            "Epoch 1190/1200\n",
            "1/1 [==============================] - 0s 9ms/step - loss: 6.3395e-05 - mae: 0.0068\n",
            "Epoch 1191/1200\n",
            "1/1 [==============================] - 0s 10ms/step - loss: 6.2970e-05 - mae: 0.0068\n",
            "Epoch 1192/1200\n",
            "1/1 [==============================] - 0s 14ms/step - loss: 6.2544e-05 - mae: 0.0068\n",
            "Epoch 1193/1200\n",
            "1/1 [==============================] - 0s 8ms/step - loss: 6.2127e-05 - mae: 0.0068\n",
            "Epoch 1194/1200\n",
            "1/1 [==============================] - 0s 7ms/step - loss: 6.1708e-05 - mae: 0.0067\n",
            "Epoch 1195/1200\n",
            "1/1 [==============================] - 0s 7ms/step - loss: 6.1286e-05 - mae: 0.0067\n",
            "Epoch 1196/1200\n",
            "1/1 [==============================] - 0s 8ms/step - loss: 6.0876e-05 - mae: 0.0067\n",
            "Epoch 1197/1200\n",
            "1/1 [==============================] - 0s 182ms/step - loss: 6.0464e-05 - mae: 0.0067\n",
            "Epoch 1198/1200\n",
            "1/1 [==============================] - 0s 6ms/step - loss: 6.0058e-05 - mae: 0.0067\n",
            "Epoch 1199/1200\n",
            "1/1 [==============================] - 0s 6ms/step - loss: 5.9649e-05 - mae: 0.0066\n",
            "Epoch 1200/1200\n",
            "1/1 [==============================] - 0s 6ms/step - loss: 5.9247e-05 - mae: 0.0066\n"
          ]
        }
      ]
    },
    {
      "cell_type": "markdown",
      "source": [
        "  - 충분한 epoch 동안 훈련한 후 mse, mae 모두 개선되었음을 확인할 수 있다.\n",
        "  - 훈련에 대한 결과가 저장된 history 변수를 사용해 epoch별 훈련 손실 및 평가지표를 시각화할 수 있다."
      ],
      "metadata": {
        "id": "VAj-xxW67V5c"
      }
    },
    {
      "cell_type": "code",
      "source": [
        "import matplotlib.pyplot as plt\n",
        "\n",
        "# 20 epoch까지 Loss 수렴에 대한 시각화\n",
        "plt.plot(history.history['loss'], label = 'loss')\n",
        "plt.plot(history.history['mae'], label = 'mae')\n",
        "plt.xlim(-1, 20)\n",
        "plt.title('Loss')\n",
        "plt.legend()\n",
        "plt.show()"
      ],
      "metadata": {
        "colab": {
          "base_uri": "https://localhost:8080/",
          "height": 281
        },
        "id": "DWXF54U67e4o",
        "outputId": "7079b2bf-9e72-4928-d5fa-0986b2b4be20"
      },
      "execution_count": 20,
      "outputs": [
        {
          "output_type": "display_data",
          "data": {
            "text/plain": [
              "<Figure size 432x288 with 1 Axes>"
            ],
            "image/png": "[encoded data removed]"
          },
          "metadata": {
            "needs_background": "light"
          }
        }
      ]
    },
    {
      "cell_type": "markdown",
      "source": [
        "  - 첫 10 epoch까지 손실이 급격히 감소하다가, 10 epoch를 넘어가면 감소 폭이 둔화되면서 조금씩 감소하는 것을 확인할 수 있다.\n",
        "  - 즉, 모델 훈련 초기 단계에는 학습이 매우 빠른 속도로 진행되다가 일정 epoch 이후에는 학습 속도가 느려지는 패턴을 보이고 있다."
      ],
      "metadata": {
        "id": "mGn4dF4z7wCK"
      }
    },
    {
      "cell_type": "markdown",
      "source": [
        "### **2.9 검증**"
      ],
      "metadata": {
        "id": "4RF1KUuswoV1"
      }
    },
    {
      "cell_type": "markdown",
      "source": [
        "  - 모델 인스턴스의 evaluate() 메소드로 모델의 성능을 검증할 수 있다.\n",
        "  - 일반적으로 검증 데이터셋을 입력하여 검증한다."
      ],
      "metadata": {
        "id": "JUnac3nt77A6"
      }
    },
    {
      "cell_type": "code",
      "source": [
        "# 검증\n",
        "model.evaluate(x, y)"
      ],
      "metadata": {
        "colab": {
          "base_uri": "https://localhost:8080/"
        },
        "id": "vEdHUNixwqAj",
        "outputId": "ba3fe892-6fdf-4883-9188-68ea32bd1607"
      },
      "execution_count": 21,
      "outputs": [
        {
          "output_type": "stream",
          "name": "stdout",
          "text": [
            "1/1 [==============================] - 0s 277ms/step - loss: 5.8844e-05 - mae: 0.0066\n"
          ]
        },
        {
          "output_type": "execute_result",
          "data": {
            "text/plain": [
              "[5.8844096201937646e-05, 0.006584072019904852]"
            ]
          },
          "metadata": {},
          "execution_count": 21
        }
      ]
    },
    {
      "cell_type": "markdown",
      "source": [
        "  - 검증 단계에서는 모델이 훈련을 마친 상태의 가중치를 그대로 적용해 손실과 평가지표를 계산하므로, 모델 훈련 단계에서 1200번 epoch를 종료한 상태에서 출력된 값과 동일하다."
      ],
      "metadata": {
        "id": "TZlwSjkf8Goi"
      }
    },
    {
      "cell_type": "markdown",
      "source": [
        "### **2.10 예측**"
      ],
      "metadata": {
        "id": "Vrt8B184wqvK"
      }
    },
    {
      "cell_type": "markdown",
      "source": [
        "  - 훈련이 완료된 모델 인스턴스의 predict() 메소드에 새로운 입력 데이터를 넣어 주면 모델의 예측 값을 얻을 수 있다."
      ],
      "metadata": {
        "id": "IfwcP3-U8kyi"
      }
    },
    {
      "cell_type": "code",
      "source": [
        "# 예측\n",
        "model.predict([10])"
      ],
      "metadata": {
        "colab": {
          "base_uri": "https://localhost:8080/"
        },
        "id": "zwg7D-Dpws5T",
        "outputId": "3706e820-74f6-49f7-c249-6355b8e4f7c4"
      },
      "execution_count": 22,
      "outputs": [
        {
          "output_type": "stream",
          "name": "stdout",
          "text": [
            "1/1 [==============================] - 0s 85ms/step\n"
          ]
        },
        {
          "output_type": "execute_result",
          "data": {
            "text/plain": [
              "array([[32.031822]], dtype=float32)"
            ]
          },
          "metadata": {},
          "execution_count": 22
        }
      ]
    },
    {
      "cell_type": "markdown",
      "source": [
        "---"
      ],
      "metadata": {
        "id": "RCjbpvxiwufF"
      }
    },
    {
      "cell_type": "markdown",
      "source": [
        "## **3. 심층 신경망으로 이미지 분류**"
      ],
      "metadata": {
        "id": "uRNIyX3PwyHG"
      }
    },
    {
      "cell_type": "markdown",
      "source": [
        "### **3.1 케라스 내장 데이터셋 로드**"
      ],
      "metadata": {
        "id": "JymhdSHWw0tw"
      }
    },
    {
      "cell_type": "markdown",
      "source": [
        "  - 케라스는 모델 훈련에 필요한 샘플 데이터셋을 제공한다.\n",
        "  - 데이터셋은 `tensorflow.keras.datasets` 서브패키지에 위치한다.\n",
        "  - 케라스의 datasets 패키지에 있는 데이터를 불러오기 위해 `load_data()` 메소드를 사용한다."
      ],
      "metadata": {
        "id": "sfLOHSuF835H"
      }
    },
    {
      "cell_type": "code",
      "source": [
        "import tensorflow as tf\n",
        "\n",
        "# 케라스의 내장 데이터셋에서 mnist 데이터셋 로드\n",
        "mnist = tf.keras.datasets.mnist"
      ],
      "metadata": {
        "id": "sDQZpDWLwu4r"
      },
      "execution_count": 23,
      "outputs": []
    },
    {
      "cell_type": "markdown",
      "source": [
        "  - mnist 데이터의 훈련 데이터셋과 검증 데이터셋을 튜플 형태로 정의한다."
      ],
      "metadata": {
        "id": "YOecEf339KGt"
      }
    },
    {
      "cell_type": "code",
      "source": [
        "# load_data()로 데이터셋 로드\n",
        "(x_train, y_train), (x_test, y_test) = mnist.load_data()"
      ],
      "metadata": {
        "colab": {
          "base_uri": "https://localhost:8080/"
        },
        "id": "iFu3Za4e9You",
        "outputId": "8bc08894-b078-4ab8-9f0a-9753a00b6f57"
      },
      "execution_count": 24,
      "outputs": [
        {
          "output_type": "stream",
          "name": "stdout",
          "text": [
            "Downloading data from https://storage.googleapis.com/tensorflow/tf-keras-datasets/mnist.npz\n",
            "11490434/11490434 [==============================] - 0s 0us/step\n"
          ]
        }
      ]
    },
    {
      "cell_type": "code",
      "source": [
        "# 로드된 데이터셋 확인\n",
        "print('train set: ', x_train.shape, y_train.shape)\n",
        "print('test set: ', x_test.shape, y_test.shape)"
      ],
      "metadata": {
        "colab": {
          "base_uri": "https://localhost:8080/"
        },
        "id": "qe9Ox1aL9fgC",
        "outputId": "a9bd1637-757c-4282-f9e0-6471a201545e"
      },
      "execution_count": 25,
      "outputs": [
        {
          "output_type": "stream",
          "name": "stdout",
          "text": [
            "train set:  (60000, 28, 28) (60000,)\n",
            "test set:  (10000, 28, 28) (10000,)\n"
          ]
        }
      ]
    },
    {
      "cell_type": "markdown",
      "source": [
        "  - `훈련 셋`에는 `60000개`의 데이터가, `검증 셋`에는 `10000개`의 데이터가 저장되어 있다.\n",
        "  - `입력 데이터`에 해당하는 `x_train`, `x_test`에는 mnist 손글씨 이미지 데이터가 저장되고, 배열의 shape은 (데이터셋 크기, 28, 28)이다.\n",
        "    - `x_train` : `28 x 28 픽셀` 크기의 정사각형 이미지 `60000개` 저장\n",
        "    - `x_test` : `28 x 28 픽셀` 크기의 정사각형 이미지 `10000개` 저장\n",
        "\n",
        "  - 각 입력 데이터에 대응되는 `출력 데이터` 또한 60000, 10000개가 `1차원 벡터 형태`로 정리되어 있다."
      ],
      "metadata": {
        "id": "5APXJcxQ9fz9"
      }
    },
    {
      "cell_type": "markdown",
      "source": [
        "  - matplotlib 시각화 라이브러리로 이미지를 시각화해 보자."
      ],
      "metadata": {
        "id": "3WsTjzQL-ZtM"
      }
    },
    {
      "cell_type": "code",
      "source": [
        "# 데이터 시각화\n",
        "import matplotlib.pyplot as plt\n",
        "\n",
        "# canvas 생성\n",
        "fig, axes = plt.subplots(3, 5)\n",
        "fig.set_size_inches(8, 5)\n",
        "\n",
        "for i in range(15):\n",
        "  ax = axes[i//5, i%5]\n",
        "  # imshow로 이미지 시각화\n",
        "  ax.imshow(x_train[i], cmap = 'gray')\n",
        "  ax.axis('off')\n",
        "  ax.set_title(str(y_train[i]))\n",
        "\n",
        "plt.tight_layout()\n",
        "plt.show()"
      ],
      "metadata": {
        "colab": {
          "base_uri": "https://localhost:8080/",
          "height": 371
        },
        "id": "IDq08Gke-crS",
        "outputId": "ecf6726e-5dfd-402d-c868-2a7433cdfa48"
      },
      "execution_count": 26,
      "outputs": [
        {
          "output_type": "display_data",
          "data": {
            "text/plain": [
              "<Figure size 576x360 with 15 Axes>"
            ],
            "image/png": "[encoded data removed]"
          },
          "metadata": {
            "needs_background": "light"
          }
        }
      ]
    },
    {
      "cell_type": "markdown",
      "source": [
        "  - mnist 데이터셋은 사람의 필기체로 쓰인 0~9까지의 숫자들로 이루어진 데이터셋이다.\n",
        "  - 0~9까지 총 10개의 정답 레이블로 구성되어 있다. "
      ],
      "metadata": {
        "id": "pWwp22br-xOj"
      }
    },
    {
      "cell_type": "markdown",
      "source": [
        "### **3.2 데이터 전처리**"
      ],
      "metadata": {
        "id": "v8yPey3Tw38-"
      }
    },
    {
      "cell_type": "markdown",
      "source": [
        "  - 이미지 데이터에 대하여 정규화를 통해 데이터의 범위를 조절한다.\n",
        "  - x_train은 넘파이 배열이며, 배열의 각 원소는 이미지를 구성하는 하나의 픽셀 값과 일대일 매칭된다."
      ],
      "metadata": {
        "id": "JEz6GVdf-3-v"
      }
    },
    {
      "cell_type": "code",
      "source": [
        "# x_train 배열의 데이터 확인\n",
        "x_train[0, 10:15, 10:15]"
      ],
      "metadata": {
        "colab": {
          "base_uri": "https://localhost:8080/"
        },
        "id": "TKMk58O3w6MG",
        "outputId": "bd384566-8c08-4000-e8ab-123f04d68b46"
      },
      "execution_count": 27,
      "outputs": [
        {
          "output_type": "execute_result",
          "data": {
            "text/plain": [
              "array([[  1, 154, 253,  90,   0],\n",
              "       [  0, 139, 253, 190,   2],\n",
              "       [  0,  11, 190, 253,  70],\n",
              "       [  0,   0,  35, 241, 225],\n",
              "       [  0,   0,   0,  81, 240]], dtype=uint8)"
            ]
          },
          "metadata": {},
          "execution_count": 27
        }
      ]
    },
    {
      "cell_type": "markdown",
      "source": [
        "  - 데이터가 0-255 범위의 값으로 이루어져 있으므로, 데이터의 범위를 0-1 사이의 값을 갖도록 정규화하기 위해서는 최대값인 255로 나눠준다."
      ],
      "metadata": {
        "id": "kBBSCueQ_Qs3"
      }
    },
    {
      "cell_type": "code",
      "source": [
        "# 픽셀 값의 최소/최대값 확인\n",
        "print(f'정규화 전] 최소값: {x_train.min()}, 최대값: {x_train.max()}')\n",
        "\n",
        "# 데이터 정규화\n",
        "x_train = x_train / x_train.max()\n",
        "\n",
        "# 정규화 후 최소/최대값 확인\n",
        "print(f'정규화 후] 최소값: {x_train.min()}, 최대값: {x_train.max()}')"
      ],
      "metadata": {
        "colab": {
          "base_uri": "https://localhost:8080/"
        },
        "id": "Dwso_htz_Pk6",
        "outputId": "dec62fb2-923d-4cb6-e5c0-72dda5d9c280"
      },
      "execution_count": 28,
      "outputs": [
        {
          "output_type": "stream",
          "name": "stdout",
          "text": [
            "정규화 전] 최소값: 0, 최대값: 255\n",
            "정규화 후] 최소값: 0.0, 최대값: 1.0\n"
          ]
        }
      ]
    },
    {
      "cell_type": "code",
      "source": [
        "# 검증 셋에도 동일한 정규화 적용\n",
        "x_test = x_test / x_test.max()"
      ],
      "metadata": {
        "id": "53aAU1r4_tEB"
      },
      "execution_count": 29,
      "outputs": []
    },
    {
      "cell_type": "markdown",
      "source": [
        "  - 정규화 변환이 완료된 후 데이터를 출력해보면 0-1 사이의 값이 출력되는 것을 확인할 수 있다."
      ],
      "metadata": {
        "id": "JxbHGRi6_xVL"
      }
    },
    {
      "cell_type": "code",
      "source": [
        "# 변환 후 x_train 배열의 데이터 확인\n",
        "x_train[0, 10:15, 10:15]"
      ],
      "metadata": {
        "colab": {
          "base_uri": "https://localhost:8080/"
        },
        "id": "LQvc3CfL_2JF",
        "outputId": "ac015bb7-96d7-4c62-ca48-f82aec269a5d"
      },
      "execution_count": 30,
      "outputs": [
        {
          "output_type": "execute_result",
          "data": {
            "text/plain": [
              "array([[0.00392157, 0.60392157, 0.99215686, 0.35294118, 0.        ],\n",
              "       [0.        , 0.54509804, 0.99215686, 0.74509804, 0.00784314],\n",
              "       [0.        , 0.04313725, 0.74509804, 0.99215686, 0.2745098 ],\n",
              "       [0.        , 0.        , 0.1372549 , 0.94509804, 0.88235294],\n",
              "       [0.        , 0.        , 0.        , 0.31764706, 0.94117647]])"
            ]
          },
          "metadata": {},
          "execution_count": 30
        }
      ]
    },
    {
      "cell_type": "markdown",
      "source": [
        "### **3.3 Flatten 레이어**"
      ],
      "metadata": {
        "id": "tGIyubYZw6lY"
      }
    },
    {
      "cell_type": "markdown",
      "source": [
        "  - 정규화를 하더라도 개별 데이터 값의 범위만 축소될 뿐, 원본 배열의 형태는 그대로 유지된다.\n",
        "  - 샘플 이미지 형태는 (28, 28)로 이루어진 2차원 입력인데, `2차원 입력`인 `Dense 레이어`에 `입력값으로 넣을 수 없다.`\n",
        "  - `Dense 레이어`에는 입력값으로 `반드시 1차원 배열`이 들어가야 하므로, `이미지 데이터를 1차원으로 전처리`하여 주입해야 한다."
      ],
      "metadata": {
        "id": "1H_I-PSbAAmQ"
      }
    },
    {
      "cell_type": "code",
      "source": [
        "print(f'변경 전 shape: {x_train.shape}')\n",
        "print(f'1D로 shape 변경 후: {x_train.reshape(60000, -1).shape}')"
      ],
      "metadata": {
        "colab": {
          "base_uri": "https://localhost:8080/"
        },
        "id": "Qa8ZWJF5w9BQ",
        "outputId": "3ccf8f41-f762-403d-b63c-d39794c289fe"
      },
      "execution_count": 31,
      "outputs": [
        {
          "output_type": "stream",
          "name": "stdout",
          "text": [
            "변경 전 shape: (60000, 28, 28)\n",
            "1D로 shape 변경 후: (60000, 784)\n"
          ]
        }
      ]
    },
    {
      "cell_type": "markdown",
      "source": [
        "  - 또는 `Flatten` 레이어를 사용해 `다차원 데이터를 1차원으로` 펼쳐줄 수도 있다."
      ],
      "metadata": {
        "id": "5zbW2xCRAg_Z"
      }
    },
    {
      "cell_type": "code",
      "source": [
        "print(f'변경 전 shape: {x_train.shape}')\n",
        "\n",
        "# Flatten 레이어 적용 후 shape 확인\n",
        "print(f'Flatten 적용 후: {tf.keras.layers.Flatten()(x_train).shape}')"
      ],
      "metadata": {
        "colab": {
          "base_uri": "https://localhost:8080/"
        },
        "id": "C8DJKipPA6LM",
        "outputId": "18bf0b14-1a18-422e-91a2-e680bcb9eef2"
      },
      "execution_count": 32,
      "outputs": [
        {
          "output_type": "stream",
          "name": "stdout",
          "text": [
            "변경 전 shape: (60000, 28, 28)\n",
            "Flatten 적용 후: (60000, 784)\n"
          ]
        }
      ]
    },
    {
      "cell_type": "markdown",
      "source": [
        "### **3.4 활성화 함수**"
      ],
      "metadata": {
        "id": "rad93wMEw9qx"
      }
    },
    {
      "cell_type": "markdown",
      "source": [
        "  - 활성화 함수(Activation Function)\n",
        "    - 입력을 비선형 출력으로 변환해주는 함수\n",
        "    - 일반적으로 선형관계를 나타내는 함수에 비선형성을 추가하는 방법\n",
        "\n",
        "  - 자주 사용되는 활성화 함수\n",
        "    1. 시그모이드\n",
        "  \n",
        "  ![image.png](data:image/png;base64,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)\n",
        "\n",
        "    2. 하이퍼볼릭 탄젠트\n",
        "  \n",
        "  ![image.png](data:image/png;base64,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)\n",
        "\n",
        "    3. ReLU\n",
        "  \n",
        "  ![image.png](data:image/png;base64,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)"
      ],
      "metadata": {
        "id": "f7QzZKJTBFb0"
      }
    },
    {
      "cell_type": "code",
      "source": [
        "# Dense 레이어에 relu 활성화 함수를 적용한 경우\n",
        "tf.keras.layers.Dense(128, activation = 'relu')"
      ],
      "metadata": {
        "colab": {
          "base_uri": "https://localhost:8080/"
        },
        "id": "KyfvHB5axAfw",
        "outputId": "e6a15f89-66e0-430e-e409-79b6c4c33ded"
      },
      "execution_count": 33,
      "outputs": [
        {
          "output_type": "execute_result",
          "data": {
            "text/plain": [
              "<keras.layers.core.dense.Dense at 0x7f83f1014590>"
            ]
          },
          "metadata": {},
          "execution_count": 33
        }
      ]
    },
    {
      "cell_type": "markdown",
      "source": [
        "  - 별도의 층으로 적용할 수도 있다.\n",
        "  - 별도의 층으로 적용하는 경우는 Dense 레이어 다음에 배치 정규화를 적용한 후, 활성화 함수를 적용하고자 할 때 많이 사용된다."
      ],
      "metadata": {
        "id": "p_1-P-gzCMjb"
      }
    },
    {
      "cell_type": "code",
      "source": [
        "# Dense 레이어와 relu 활성화 함수 레이어를 별도 적용한 경우\n",
        "model = tf.keras.Sequential([\n",
        "    tf.keras.layers.Dense(128),\n",
        "    tf.keras.layers.Activation('relu')\n",
        "])"
      ],
      "metadata": {
        "id": "lL01btrdCTm3"
      },
      "execution_count": 34,
      "outputs": []
    },
    {
      "cell_type": "markdown",
      "source": [
        "### **3.5 입력과 출력**"
      ],
      "metadata": {
        "id": "U0gegQpjxBBZ"
      }
    },
    {
      "cell_type": "markdown",
      "source": [
        "  - 첫 번째 레이어에 입력 데이터의 형태를 나타내는 input_shape 매개변수를 지정하는 것이 일반적이다.\n",
        "    - 여기서는 이미지의 세로, 가로 형태를 나타내는 input_shape = (28, 28)를 input_shape로 지정한다.\n",
        "\n",
        "  - 가장 마지막 레이어는 출력층이다.\n",
        "    - 출력층의 노드 개수는 반드시 분류해야 할 클래스의 개수와 동일해야 한다.\n",
        "    - mnist는 0-9까지 총 10개의 클래스로 이루어져 있으므로, 마지막 출력층의 노드 개수는 10개가 되어야 한다. "
      ],
      "metadata": {
        "id": "n_omn59_ChGm"
      }
    },
    {
      "cell_type": "code",
      "source": [
        "model = tf.keras.Sequential([\n",
        "    tf.keras.layers.Flatten(input_shape = (28, 28)),\n",
        "    tf.keras.layers.Dense(256, activation = 'relu'),\n",
        "    tf.keras.layers.Dense(64, activation = 'relu'),\n",
        "    tf.keras.layers.Dense(32, activation = 'relu'),\n",
        "    # 노드 10개 (클래스 개수와 동일)\n",
        "    tf.keras.layers.Dense(10, activation = 'softmax')\n",
        "])"
      ],
      "metadata": {
        "id": "LcEgnLCAxDJ6"
      },
      "execution_count": 35,
      "outputs": []
    },
    {
      "cell_type": "markdown",
      "source": [
        "  - `다중 분류` 문제에서는 `softmax` 활성화 함수를 사용해야 한다.\n",
        "  - 반면, `이진 분류` 모델의 경우 `sigmoid` 활성화 함수를 적용한다."
      ],
      "metadata": {
        "id": "LqBp7YalDO5e"
      }
    },
    {
      "cell_type": "code",
      "source": [
        "# 출력층 노드 = 1인 경우, sigmoid\n",
        "tf.keras.layers.Dense(1, activation = 'sigmoid')\n",
        "\n",
        "# 출력층 노드 = 2개 이상인 경우, softmax\n",
        "tf.keras.layers.Dense(10, activation = 'softmax')"
      ],
      "metadata": {
        "id": "oOYssW3YDYwe"
      },
      "execution_count": null,
      "outputs": []
    },
    {
      "cell_type": "markdown",
      "source": [
        "### **3.6 손실함수**"
      ],
      "metadata": {
        "id": "0bC9ur3LxDuN"
      }
    },
    {
      "cell_type": "markdown",
      "source": [
        "  - 분류 모델의 손실함수 \n",
        "    1. 출력층의 `노드 개수가 1`인 경우\n",
        "      - 활성화 함수 : '`sigmoid`'로 지정\n",
        "      - 손실함수 : '`binary_crossentropy`'로 지정\n",
        "\n",
        "    2. 출력층의 `노드 개수가 2개 이상`이고, `출력 데이터가 원핫 벡터`인 경우\n",
        "      - 활성화 함수 : '`softmax`'로 지정\n",
        "      - 손실함수 : '`categorical_crossentropy`'로 지정\n",
        "\n",
        "    3. 출력층의 `노드 개수가 2개 이상`이고, `출력 데이터가 원핫 벡터가 아닌 경우`\n",
        "      - 활성화 함수 : '`softmax`'로 지정\n",
        "      - 손실함수 : '`sparse_categorical_crossentropy`'로 지정"
      ],
      "metadata": {
        "id": "Xs20SgHXEGOg"
      }
    },
    {
      "cell_type": "code",
      "source": [
        "# 이진 분류(출력 노드 개수 = 1, sigmoid인 경우)\n",
        "model.compile(loss = 'binary_crossentropy')"
      ],
      "metadata": {
        "id": "IET8SvKyxHOb"
      },
      "execution_count": 36,
      "outputs": []
    },
    {
      "cell_type": "code",
      "source": [
        "# 다중 분류(출력 노드 개수 >= 2, softmax인 경우)\n",
        "# y가 원핫 벡터인 경우\n",
        "model.compile(loss = 'categorical_crossentropy')\n",
        "# y가 원핫 벡터가 아닌 경우\n",
        "# [5]\n",
        "model.compile(loss = 'sparse_categorical_crossentropy')"
      ],
      "metadata": {
        "id": "FnWLtaYkE7kY"
      },
      "execution_count": 37,
      "outputs": []
    },
    {
      "cell_type": "markdown",
      "source": [
        "  - mnist 데이터의 경우, 출력 데이터가 원핫 벡터가 아닌 다중 분류 문제이므로 손실함수로 'sparse_categorical_crossentroopy'를 지정하면 된다."
      ],
      "metadata": {
        "id": "moT1Ile7FLar"
      }
    },
    {
      "cell_type": "markdown",
      "source": [
        "### **3.7 옵티마이저**"
      ],
      "metadata": {
        "id": "YK9NVDv4xGRm"
      }
    },
    {
      "cell_type": "markdown",
      "source": [
        "  - 옵티마이저\n",
        "    - 손실을 낮추기 위해서, 신경망의 가중치와 학습률과 같은 신경망의 속성을 변경하는 데 사용되는 최적화 방법\n",
        "\n",
        "  - 옵티마이저는 클래스 인스턴스로 지정하거나 문자열로 지정할 수 있다.\n",
        "    - 문자열 : 클래스 이름을 소문자로 지정\n",
        "    - 클래스 인스턴스 : 학습률과 같은 하이퍼파라미터를 직접 설정 "
      ],
      "metadata": {
        "id": "OiYFnzkkFTfc"
      }
    },
    {
      "cell_type": "code",
      "source": [
        "# 클래스 인스턴스로 지정\n",
        "adam = tf.keras.optimizers.Adam(lr = 0.001)\n",
        "model.compile(optimizer = adam)\n",
        "\n",
        "# 문자열로 지정\n",
        "model.compile(optimizer = 'adam')"
      ],
      "metadata": {
        "colab": {
          "base_uri": "https://localhost:8080/"
        },
        "id": "b1vFw6TwxlFY",
        "outputId": "02a1bbf8-fd6f-4462-c3d5-0c0f437f20f1"
      },
      "execution_count": 38,
      "outputs": [
        {
          "output_type": "stream",
          "name": "stderr",
          "text": [
            "/usr/local/lib/python3.7/dist-packages/keras/optimizers/optimizer_v2/adam.py:110: UserWarning: The `lr` argument is deprecated, use `learning_rate` instead.\n",
            "  super(Adam, self).__init__(name, **kwargs)\n"
          ]
        }
      ]
    },
    {
      "cell_type": "markdown",
      "source": [
        "### **3.8 평가지표**"
      ],
      "metadata": {
        "id": "Tpl5FWaJxliK"
      }
    },
    {
      "cell_type": "markdown",
      "source": [
        "  - 분류 모델에 대한 평가지표\n",
        "    - 정확도를 나타내는 'accuracy', 'auc', 'precision', 'recall' 등\n",
        "\n",
        "  - 평가지표 역시 옵티마이저와 마찬가지로 클래스 인스턴스 또는 문자열로 지정이 가능하다."
      ],
      "metadata": {
        "id": "pUZxAPU5FwxJ"
      }
    },
    {
      "cell_type": "code",
      "source": [
        "# 클래스 인스턴스로 지정\n",
        "acc = tf.keras.metrics.SparseCategoricalAccuracy()\n",
        "\n",
        "model.compile(optimizer = 'adam',\n",
        "              loss = 'sparse_categorical_crossentropy',\n",
        "              metrics = ['acc'])"
      ],
      "metadata": {
        "id": "1ORzA5Lvxnem"
      },
      "execution_count": 39,
      "outputs": []
    },
    {
      "cell_type": "code",
      "source": [
        "# 문자열로 지정\n",
        "model.compile(optimizer = 'adam',\n",
        "              loss = 'sparse_categorical_crossentropy',\n",
        "              metrics = ['accuracy'])"
      ],
      "metadata": {
        "id": "WH3xIwRCGKIB"
      },
      "execution_count": 40,
      "outputs": []
    },
    {
      "cell_type": "markdown",
      "source": [
        "### **3.9 훈련**"
      ],
      "metadata": {
        "id": "DsjopnyoxoBy"
      }
    },
    {
      "cell_type": "markdown",
      "source": [
        "  - 모델을 훈련할 때 검증 셋을 추가 지정하면, 매 epoch마다 훈련 손실과 검증 손실, 그리고 각 셋에 대한 평가지표를 나란히 출력한다."
      ],
      "metadata": {
        "id": "rVbpxxyEGUzj"
      }
    },
    {
      "cell_type": "code",
      "source": [
        "# 훈련\n",
        "model.fit(x_train, y_train,\n",
        "          # 검증 셋 지정\n",
        "          validation_data = (x_test, y_test),\n",
        "          epochs = 10)"
      ],
      "metadata": {
        "colab": {
          "base_uri": "https://localhost:8080/"
        },
        "id": "dhlYT9EHxv2-",
        "outputId": "c2949c03-f989-4110-d01d-84f03b694d55"
      },
      "execution_count": 41,
      "outputs": [
        {
          "output_type": "stream",
          "name": "stdout",
          "text": [
            "Epoch 1/10\n",
            "1875/1875 [==============================] - 9s 5ms/step - loss: 0.2267 - accuracy: 0.9322 - val_loss: 0.1157 - val_accuracy: 0.9636\n",
            "Epoch 2/10\n",
            "1875/1875 [==============================] - 8s 4ms/step - loss: 0.0956 - accuracy: 0.9703 - val_loss: 0.0938 - val_accuracy: 0.9705\n",
            "Epoch 3/10\n",
            "1875/1875 [==============================] - 11s 6ms/step - loss: 0.0685 - accuracy: 0.9781 - val_loss: 0.0756 - val_accuracy: 0.9780\n",
            "Epoch 4/10\n",
            "1875/1875 [==============================] - 11s 6ms/step - loss: 0.0510 - accuracy: 0.9839 - val_loss: 0.0849 - val_accuracy: 0.9748\n",
            "Epoch 5/10\n",
            "1875/1875 [==============================] - 13s 7ms/step - loss: 0.0410 - accuracy: 0.9870 - val_loss: 0.0685 - val_accuracy: 0.9801\n",
            "Epoch 6/10\n",
            "1875/1875 [==============================] - 12s 6ms/step - loss: 0.0341 - accuracy: 0.9890 - val_loss: 0.1296 - val_accuracy: 0.9632\n",
            "Epoch 7/10\n",
            "1875/1875 [==============================] - 9s 5ms/step - loss: 0.0286 - accuracy: 0.9910 - val_loss: 0.0815 - val_accuracy: 0.9794\n",
            "Epoch 8/10\n",
            "1875/1875 [==============================] - 11s 6ms/step - loss: 0.0245 - accuracy: 0.9919 - val_loss: 0.0784 - val_accuracy: 0.9788\n",
            "Epoch 9/10\n",
            "1875/1875 [==============================] - 8s 5ms/step - loss: 0.0223 - accuracy: 0.9925 - val_loss: 0.0898 - val_accuracy: 0.9778\n",
            "Epoch 10/10\n",
            "1875/1875 [==============================] - 8s 4ms/step - loss: 0.0184 - accuracy: 0.9941 - val_loss: 0.0849 - val_accuracy: 0.9792\n"
          ]
        },
        {
          "output_type": "execute_result",
          "data": {
            "text/plain": [
              "<keras.callbacks.History at 0x7f83f0fa99d0>"
            ]
          },
          "metadata": {},
          "execution_count": 41
        }
      ]
    },
    {
      "cell_type": "markdown",
      "source": [
        "### **3.10 평가**"
      ],
      "metadata": {
        "id": "U6vcwHnzxwjf"
      }
    },
    {
      "cell_type": "markdown",
      "source": [
        "  - 10회의 epoch가 끝나고 훈련이 종료된 뒤, `evaluate()` 메소드로 `모델 성능을 검증`하고 `평가 결과를 확인`한다."
      ],
      "metadata": {
        "id": "af81XvV3GmPX"
      }
    },
    {
      "cell_type": "code",
      "source": [
        "# 검증\n",
        "test_loss, test_acc = model.evaluate(x_test, y_test)\n",
        "\n",
        "print('검증 셋 정확도: ', test_acc)"
      ],
      "metadata": {
        "colab": {
          "base_uri": "https://localhost:8080/"
        },
        "id": "d9Cl8puXxyd6",
        "outputId": "fcf24abf-247c-4f98-e919-8584acb59652"
      },
      "execution_count": 42,
      "outputs": [
        {
          "output_type": "stream",
          "name": "stdout",
          "text": [
            "313/313 [==============================] - 1s 3ms/step - loss: 0.0849 - accuracy: 0.9792\n",
            "검증 셋 정확도:  0.979200005531311\n"
          ]
        }
      ]
    },
    {
      "cell_type": "markdown",
      "source": [
        "### **3.11 예측**"
      ],
      "metadata": {
        "id": "OUolttHExzBh"
      }
    },
    {
      "cell_type": "markdown",
      "source": [
        "  - 훈련된 모델로 새로운 이미지에 대한 분류 값을 예측하는 작업을 수행할 수 있다.\n",
        "  - predict() 메소드에 이미지 데이터를 넣어주면 모델의 예측 결과를 반환한다."
      ],
      "metadata": {
        "id": "HFppxRaQHZrr"
      }
    },
    {
      "cell_type": "code",
      "source": [
        "# 예측\n",
        "predictions = model.predict(x_test)"
      ],
      "metadata": {
        "colab": {
          "base_uri": "https://localhost:8080/"
        },
        "id": "CoKTmeqEx0fp",
        "outputId": "1d81617d-5408-42fb-b87f-f4ae530f9aef"
      },
      "execution_count": 45,
      "outputs": [
        {
          "output_type": "stream",
          "name": "stdout",
          "text": [
            "313/313 [==============================] - 2s 5ms/step\n"
          ]
        }
      ]
    },
    {
      "cell_type": "markdown",
      "source": [
        "  - predictions 변수에 모델이 예측한 분류 결과를 넘파이 배열 형태로 저장한다."
      ],
      "metadata": {
        "id": "e-avG862HpGO"
      }
    },
    {
      "cell_type": "code",
      "source": [
        "# 예측 결과 출력\n",
        "predictions[0]"
      ],
      "metadata": {
        "colab": {
          "base_uri": "https://localhost:8080/"
        },
        "id": "KhuVj16VHs9P",
        "outputId": "b5098519-8120-4563-9cf9-4f4fd0c154ef"
      },
      "execution_count": 46,
      "outputs": [
        {
          "output_type": "execute_result",
          "data": {
            "text/plain": [
              "array([1.6900553e-10, 5.6207541e-09, 2.2634226e-09, 3.3170073e-09,\n",
              "       1.8751971e-10, 1.4840815e-07, 4.9122680e-14, 9.9999946e-01,\n",
              "       2.1499231e-07, 1.7541724e-07], dtype=float32)"
            ]
          },
          "metadata": {},
          "execution_count": 46
        }
      ]
    },
    {
      "cell_type": "markdown",
      "source": [
        "  - softmax 활성화 함수를 거친 `10개의 출력 값`은 순차적으로 `0-9까지의 10개의 개별 클래스에 대한 분류 확률값`을 나타낸다.\n",
        "  - 이 중 `가장 높은 확률값을 가진 클래스`가 `최종 예측된 클래스`이다.\n",
        "  - 넘파이의 `argmax`를 활용해 가장 높은 확률값을 가지는 클래스 결과를 확인해 보자."
      ],
      "metadata": {
        "id": "Hy3acMs4H5YW"
      }
    },
    {
      "cell_type": "code",
      "source": [
        "import numpy as np\n",
        "\n",
        "# 0번 index에 대한 예측 클래스 출력\n",
        "print(np.argmax(predictions[0]))\n",
        "\n",
        "# 첫 10개 index에 대한 예측 클래스 출력\n",
        "print(np.argmax(predictions[:10], axis = 1))"
      ],
      "metadata": {
        "colab": {
          "base_uri": "https://localhost:8080/"
        },
        "id": "Qiao5ubDILSm",
        "outputId": "abd23e05-95da-407d-e43c-cfbb8fc56bc5"
      },
      "execution_count": 47,
      "outputs": [
        {
          "output_type": "stream",
          "name": "stdout",
          "text": [
            "7\n",
            "[7 2 1 0 4 1 4 9 5 9]\n"
          ]
        }
      ]
    },
    {
      "cell_type": "markdown",
      "source": [
        "  - matplotlib 시각화 라이브러리의 imshow() 메소드를 활용하여 15개 예측한 결과에 대한 시각화 코드는 다음과 같다."
      ],
      "metadata": {
        "id": "2bvTb90pIU6j"
      }
    },
    {
      "cell_type": "code",
      "source": [
        "# 데이터 시각화\n",
        "import matplotlib.pyplot as plt\n",
        "\n",
        "def get_one_result(idx):\n",
        "  img, y_true, y_pred, confidence = x_test[idx], y_test[idx], np.argmax(predictions[idx]), 100 * np.max(predictions[idx])\n",
        "  return img, y_true, y_pred, confidence\n",
        "\n",
        "# canvas 생성\n",
        "fig, axes = plt.subplots(3, 5)\n",
        "fig.set_size_inches(12, 10)\n",
        "for i in range(15):\n",
        "  ax = axes[i//5, i%5]\n",
        "  img, y_true, y_pred, confidence = get_one_result(i)\n",
        "  # imshow로 이미지 시각화\n",
        "  ax.imshow(img, cmap = 'gray')\n",
        "  ax.set_xticks([])\n",
        "  ax.set_yticks([])\n",
        "  ax.set_title(f'True: {y_true}')\n",
        "  ax.set_xlabel(f'Prediction: {y_pred} \\n Confidence: ({confidence :.2f} %)')\n",
        "\n",
        "plt.tight_layout()\n",
        "plt.show()"
      ],
      "metadata": {
        "colab": {
          "base_uri": "https://localhost:8080/",
          "height": 530
        },
        "id": "sKYR0KwAIatM",
        "outputId": "d1a260e9-f878-4da8-ac65-c11b2ad27f17"
      },
      "execution_count": 50,
      "outputs": [
        {
          "output_type": "display_data",
          "data": {
            "text/plain": [
              "<Figure size 864x720 with 15 Axes>"
            ],
            "image/png": "[encoded data removed]"
          },
          "metadata": {}
        }
      ]
    },
    {
      "cell_type": "markdown",
      "source": [
        "---"
      ],
      "metadata": {
        "id": "bH3BKKDZx1oh"
      }
    },
    {
      "cell_type": "markdown",
      "source": [
        "## **4. 모델 세부 설정** "
      ],
      "metadata": {
        "id": "w7bwk4Jxx2Ka"
      }
    },
    {
      "cell_type": "markdown",
      "source": [
        "  - 앞에서 다룬 mnist 데이터셋을 데이터 정규화까지 처리하여 입력 데이터를 준비한다."
      ],
      "metadata": {
        "id": "VRNNi59RJOV7"
      }
    },
    {
      "cell_type": "code",
      "source": [
        "import tensorflow as tf\n",
        "\n",
        "# 케라스의 내장 데이터셋에서 mnist 데이터셋 로드\n",
        "mnist = tf.keras.datasets.mnist\n",
        "\n",
        "# load_data()로 데이터셋 로드\n",
        "(x_train, y_train), (x_test, y_test) = mnist.load_data()\n",
        "\n",
        "# 로드된 데이터셋 확인\n",
        "print('train set: ', x_train.shape, y_train.shape)\n",
        "print('test set: ', x_test.shape, y_test.shape)\n",
        "\n",
        "# 데이터 정규화\n",
        "x_train = x_train / x_train.max()\n",
        "x_test = x_test / x_test.max()"
      ],
      "metadata": {
        "colab": {
          "base_uri": "https://localhost:8080/"
        },
        "id": "YpKFhfx9x14Q",
        "outputId": "a416522a-73ff-47b5-a1d6-0ef6112baf78"
      },
      "execution_count": 51,
      "outputs": [
        {
          "output_type": "stream",
          "name": "stdout",
          "text": [
            "train set:  (60000, 28, 28) (60000,)\n",
            "test set:  (10000, 28, 28) (10000,)\n"
          ]
        }
      ]
    },
    {
      "cell_type": "markdown",
      "source": [
        "### **4.1 초기값 설정**"
      ],
      "metadata": {
        "id": "mN8PD162x9HF"
      }
    },
    {
      "cell_type": "markdown",
      "source": [
        "  - Dense 레이어는 `기본 초기화` 방법으로 `Glorot Unifor`m 초기화 방법이 설정되어 있다.\n",
        "  - 이를 `변경하기 위해`서는 `kernel_initializer` 매개변수에 설정하면 된다.\n",
        "    - 옵티마이저, 손실함수와 마찬가지로 `문자열로 지정`하는 방법과 `클래스 인스턴스로 지정`하는 방법이 있다."
      ],
      "metadata": {
        "id": "NF0gzICEJoHj"
      }
    },
    {
      "cell_type": "code",
      "source": [
        "dense = tf.keras.layers.Dense(256, activation = 'relu')\n",
        "dense.get_config()['kernel_initializer']"
      ],
      "metadata": {
        "colab": {
          "base_uri": "https://localhost:8080/"
        },
        "id": "ccegIxjLx_L5",
        "outputId": "6d089892-d76b-4d5b-8c49-92897b20ed5d"
      },
      "execution_count": 52,
      "outputs": [
        {
          "output_type": "execute_result",
          "data": {
            "text/plain": [
              "{'class_name': 'GlorotUniform', 'config': {'seed': None}}"
            ]
          },
          "metadata": {},
          "execution_count": 52
        }
      ]
    },
    {
      "cell_type": "code",
      "source": [
        "# 문자열 초기화\n",
        "dense = tf.keras.layers.Dense(256, kernel_initializer = 'he_normal', activation = 'relu')\n",
        "print(dense.get_config()['kernel_initializer'])\n",
        "\n",
        "# 클래스 인스턴스 초기화\n",
        "he_normal = tf.keras.initializers.HeNormal()\n",
        "dense = tf.keras.layers.Dense(256, kernel_initializer = he_normal, activation = 'relu')\n",
        "print(dense.get_config()['kernel_initializer'])"
      ],
      "metadata": {
        "colab": {
          "base_uri": "https://localhost:8080/"
        },
        "id": "Nm5J04UCKAQC",
        "outputId": "70fc7eda-2a78-45a8-ee07-ebb26a314202"
      },
      "execution_count": 53,
      "outputs": [
        {
          "output_type": "stream",
          "name": "stdout",
          "text": [
            "{'class_name': 'HeNormal', 'config': {'seed': None}}\n",
            "{'class_name': 'HeNormal', 'config': {'seed': None}}\n"
          ]
        }
      ]
    },
    {
      "cell_type": "markdown",
      "source": [
        "### **4.2 규제 (Regularization)**"
      ],
      "metadata": {
        "id": "tiPYffnpx_7V"
      }
    },
    {
      "cell_type": "markdown",
      "source": [
        "  - 모델의 과대적합을 해소하기 위해 L1, L2 규제를 적용하기도 한다.\n",
        "  - 텐서플로 케라스 레이어는 기본값으로 규제를 적용하지 않으므로, 이를 적용하기 위해서는 별도로 설정해주어야 한다."
      ],
      "metadata": {
        "id": "d2KrKgdXKX9L"
      }
    },
    {
      "cell_type": "code",
      "source": [
        "# 기본값\n",
        "dense = tf.keras.layers.Dense(256, activation = 'relu')\n",
        "dense.get_config()"
      ],
      "metadata": {
        "colab": {
          "base_uri": "https://localhost:8080/"
        },
        "id": "fC54k7HjKXko",
        "outputId": "60e14dae-56e3-4628-9380-0d7459721245"
      },
      "execution_count": 54,
      "outputs": [
        {
          "output_type": "execute_result",
          "data": {
            "text/plain": [
              "{'name': 'dense_21',\n",
              " 'trainable': True,\n",
              " 'dtype': 'float32',\n",
              " 'units': 256,\n",
              " 'activation': 'relu',\n",
              " 'use_bias': True,\n",
              " 'kernel_initializer': {'class_name': 'GlorotUniform',\n",
              "  'config': {'seed': None}},\n",
              " 'bias_initializer': {'class_name': 'Zeros', 'config': {}},\n",
              " 'kernel_regularizer': None,\n",
              " 'bias_regularizer': None,\n",
              " 'activity_regularizer': None,\n",
              " 'kernel_constraint': None,\n",
              " 'bias_constraint': None}"
            ]
          },
          "metadata": {},
          "execution_count": 54
        }
      ]
    },
    {
      "cell_type": "code",
      "source": [
        "# L1 규제 적용\n",
        "dense = tf.keras.layers.Dense(256, kernel_regularizer = 'l1', activation = 'relu')\n",
        "print(dense.get_config()['kernel_regularizer'])\n",
        "\n",
        "# 클래스 인스턴스 적용, alpha = 0.1 변경\n",
        "regularizer = tf.keras.regularizers.l1(l1 = 0.1)\n",
        "dense = tf.keras.layers.Dense(256, kernel_regularizer = regularizer, activation = 'relu')\n",
        "print(dense.get_config()['kernel_regularizer'])"
      ],
      "metadata": {
        "colab": {
          "base_uri": "https://localhost:8080/"
        },
        "id": "Ygg5XYFQyDeg",
        "outputId": "52dbeb37-9da3-443c-9322-c7f7e98da425"
      },
      "execution_count": 55,
      "outputs": [
        {
          "output_type": "stream",
          "name": "stdout",
          "text": [
            "{'class_name': 'L1', 'config': {'l1': 0.009999999776482582}}\n",
            "{'class_name': 'L1', 'config': {'l1': 0.10000000149011612}}\n"
          ]
        }
      ]
    },
    {
      "cell_type": "markdown",
      "source": [
        "### **4.3 드롭아웃 (Dropout)**"
      ],
      "metadata": {
        "id": "oaUhNilgyEQp"
      }
    },
    {
      "cell_type": "markdown",
      "source": [
        "  - 딥러닝 모델의 가장 큰 난제가 바로 과대적합 문제이다.\n",
        "  - 딥러닝 모델의 층이 넓고 깊어질 때 모델은 훈련에 주어진 샘플에 과하게 적합하도록 학습하는 경향이 있어, 새로운 데이터에 대해서는 좋지 않은 예측력을 보일 때가 많다.\n",
        "  - 드롭아웃은 모델의 과대적합 문제를 해결하기 위해 제안된 아이디어이며, 실무적으로 상당히 좋은 효과를 보이는 것으로 알려져 있다.\n",
        "  - `드롭아웃`\n",
        "    - 노드의 `일부 신호를 임의로 삭제`하여 모델이 쉽게 `과대적합 되는 것을 방지`하는 방법"
      ],
      "metadata": {
        "id": "j_beSrEuLLTY"
      }
    },
    {
      "cell_type": "code",
      "source": [
        "# Dropout 25% 비율 적용 (25%의 노드가 삭제)\n",
        "tf.keras.layers.Dropout(0.25)"
      ],
      "metadata": {
        "colab": {
          "base_uri": "https://localhost:8080/"
        },
        "id": "u1_W_0BeyHVH",
        "outputId": "0f773b65-9354-4a0d-8498-ae35829d32d2"
      },
      "execution_count": 56,
      "outputs": [
        {
          "output_type": "execute_result",
          "data": {
            "text/plain": [
              "<keras.layers.regularization.dropout.Dropout at 0x7f83efb24590>"
            ]
          },
          "metadata": {},
          "execution_count": 56
        }
      ]
    },
    {
      "cell_type": "markdown",
      "source": [
        "### **4.4 배치 정규화 (Batch Normalization)**"
      ],
      "metadata": {
        "id": "B4qc1R1-yHlH"
      }
    },
    {
      "cell_type": "markdown",
      "source": [
        "  - 배치 정규화\n",
        "    - 각 층에서 활성화 함수를 통과하기 전, 미니 배치의 스케일을 정규화\n",
        "    - 다음 층으로 데이터가 전달되기 전에 스케일을 조정하기 때문에, 보다 안정적인 훈련이 가능하고 성능을 크게 향상시킬 수 있다."
      ],
      "metadata": {
        "id": "qvMksH1NMPw-"
      }
    },
    {
      "cell_type": "markdown",
      "source": [
        "  - Dense 레이어에 ReLU 활성화 함수를 추가한 모델을 model_a로 지정해 생성하고, 배치 정규화를 적용 후 ReLU 활성화 함수를 추가한 모델을 model_b로 지정하여 성능을 비교해보자. "
      ],
      "metadata": {
        "id": "20mF5J5tMao0"
      }
    },
    {
      "cell_type": "code",
      "source": [
        "# Model A : Dense + ReLU\n",
        "model_a = tf.keras.Sequential([\n",
        "    tf.keras.layers.Flatten(input_shape = (28, 28)),\n",
        "    tf.keras.layers.Dense(64, activation = 'relu'),\n",
        "    tf.keras.layers.Dense(32, activation = 'relu'),\n",
        "    tf.keras.layers.Dense(10, activation = 'softmax')\n",
        "])\n",
        "\n",
        "model_a.summary()"
      ],
      "metadata": {
        "colab": {
          "base_uri": "https://localhost:8080/"
        },
        "id": "XLew2K_ryK3n",
        "outputId": "b79c039a-65f6-4d9f-db66-9126dff73a2b"
      },
      "execution_count": 57,
      "outputs": [
        {
          "output_type": "stream",
          "name": "stdout",
          "text": [
            "Model: \"sequential_6\"\n",
            "_________________________________________________________________\n",
            " Layer (type)                Output Shape              Param #   \n",
            "=================================================================\n",
            " flatten_2 (Flatten)         (None, 784)               0         \n",
            "                                                                 \n",
            " dense_24 (Dense)            (None, 64)                50240     \n",
            "                                                                 \n",
            " dense_25 (Dense)            (None, 32)                2080      \n",
            "                                                                 \n",
            " dense_26 (Dense)            (None, 10)                330       \n",
            "                                                                 \n",
            "=================================================================\n",
            "Total params: 52,650\n",
            "Trainable params: 52,650\n",
            "Non-trainable params: 0\n",
            "_________________________________________________________________\n"
          ]
        }
      ]
    },
    {
      "cell_type": "code",
      "source": [
        "# Model B : Dense + BatchNorm + ReLU\n",
        "model_b = tf.keras.Sequential([\n",
        "    tf.keras.layers.Flatten(input_shape = (28, 28)),\n",
        "    tf.keras.layers.Dense(64),\n",
        "    # 배치 정규화 적용\n",
        "    tf.keras.layers.BatchNormalization(),\n",
        "    # 배치 정규화 후 활성화 함수 적용\n",
        "    tf.keras.layers.Activation('relu'),\n",
        "\n",
        "    tf.keras.layers.Dense(32),\n",
        "    # 배치 정규화 적용\n",
        "    tf.keras.layers.BatchNormalization(),\n",
        "    # 배치 정규화 후 활성화 함수 적용\n",
        "    tf.keras.layers.Activation('relu'),\n",
        "\n",
        "    tf.keras.layers.Dense(10, activation = 'softmax')\n",
        "])\n",
        "\n",
        "model_b.summary()"
      ],
      "metadata": {
        "colab": {
          "base_uri": "https://localhost:8080/"
        },
        "id": "-eJOAozKM3U7",
        "outputId": "9c7e62bc-9323-4647-d7e4-d03a259d8247"
      },
      "execution_count": 58,
      "outputs": [
        {
          "output_type": "stream",
          "name": "stdout",
          "text": [
            "Model: \"sequential_7\"\n",
            "_________________________________________________________________\n",
            " Layer (type)                Output Shape              Param #   \n",
            "=================================================================\n",
            " flatten_3 (Flatten)         (None, 784)               0         \n",
            "                                                                 \n",
            " dense_27 (Dense)            (None, 64)                50240     \n",
            "                                                                 \n",
            " batch_normalization (BatchN  (None, 64)               256       \n",
            " ormalization)                                                   \n",
            "                                                                 \n",
            " activation_1 (Activation)   (None, 64)                0         \n",
            "                                                                 \n",
            " dense_28 (Dense)            (None, 32)                2080      \n",
            "                                                                 \n",
            " batch_normalization_1 (Batc  (None, 32)               128       \n",
            " hNormalization)                                                 \n",
            "                                                                 \n",
            " activation_2 (Activation)   (None, 32)                0         \n",
            "                                                                 \n",
            " dense_29 (Dense)            (None, 10)                330       \n",
            "                                                                 \n",
            "=================================================================\n",
            "Total params: 53,034\n",
            "Trainable params: 52,842\n",
            "Non-trainable params: 192\n",
            "_________________________________________________________________\n"
          ]
        }
      ]
    },
    {
      "cell_type": "markdown",
      "source": [
        "  - 두 방법으로 모델을 훈련한 결과, 배치 정규화만 추가하였는데도 손실은 이전 대비 더 안정적이고 빠르게 수렴하는 것을 확인할 수 있다."
      ],
      "metadata": {
        "id": "eboLGSIpNXiJ"
      }
    },
    {
      "cell_type": "markdown",
      "source": [
        "### **4.5 활성화 함수**"
      ],
      "metadata": {
        "id": "XWo2ma9VyMBp"
      }
    },
    {
      "cell_type": "code",
      "source": [
        "# LeakyReLU 기본 설정\n",
        "tf.keras.layers.LeakyReLU()\n",
        "\n",
        "# LeakyReLU, alpha = 0.2로 변경\n",
        "tf.keras.layers.LeakyReLU(alpha = 0.2)"
      ],
      "metadata": {
        "colab": {
          "base_uri": "https://localhost:8080/"
        },
        "id": "bve4yFaqyN9N",
        "outputId": "03f63ebf-20db-448c-fe97-e133c941b8bd"
      },
      "execution_count": 60,
      "outputs": [
        {
          "output_type": "execute_result",
          "data": {
            "text/plain": [
              "<keras.layers.activation.leaky_relu.LeakyReLU at 0x7f83f35ae5d0>"
            ]
          },
          "metadata": {},
          "execution_count": 60
        }
      ]
    },
    {
      "cell_type": "markdown",
      "source": [
        "  - LeakyReLU는 모델에 다음과 같이 적용해볼 수 있다."
      ],
      "metadata": {
        "id": "hucNzffFN94R"
      }
    },
    {
      "cell_type": "code",
      "source": [
        "# Model C : Dense + BatchNorm + LeakyReLU(0.2)\n",
        "model_c = tf.keras.Sequential([\n",
        "    tf.keras.layers.Flatten(input_shape = (28, 28)),\n",
        "    tf.keras.layers.Dense(64),\n",
        "    # 배치 정규화 적용\n",
        "    tf.keras.layers.BatchNormalization(),\n",
        "    # LeakyReLU, alpha = 0.2 적용\n",
        "    tf.keras.layers.LeakyReLU(alpha = 0.2),\n",
        "\n",
        "    tf.keras.layers.Dense(32),\n",
        "    # 배치 정규화 적용\n",
        "    tf.keras.layers.BatchNormalization(),\n",
        "    # LeakyReLU, alpha = 0.2 적용\n",
        "    tf.keras.layers.LeakyReLU(alpha = 0.2),\n",
        "\n",
        "    tf.keras.layers.Dense(10, activation = 'softmax')\n",
        "])\n",
        "\n",
        "# 모델 요약\n",
        "model_c.summary()"
      ],
      "metadata": {
        "colab": {
          "base_uri": "https://localhost:8080/"
        },
        "id": "Qel_OJoTNnVv",
        "outputId": "8ae79182-8e88-4b15-9e24-c89de371b095"
      },
      "execution_count": 61,
      "outputs": [
        {
          "output_type": "stream",
          "name": "stdout",
          "text": [
            "Model: \"sequential_8\"\n",
            "_________________________________________________________________\n",
            " Layer (type)                Output Shape              Param #   \n",
            "=================================================================\n",
            " flatten_4 (Flatten)         (None, 784)               0         \n",
            "                                                                 \n",
            " dense_30 (Dense)            (None, 64)                50240     \n",
            "                                                                 \n",
            " batch_normalization_2 (Batc  (None, 64)               256       \n",
            " hNormalization)                                                 \n",
            "                                                                 \n",
            " leaky_re_lu_3 (LeakyReLU)   (None, 64)                0         \n",
            "                                                                 \n",
            " dense_31 (Dense)            (None, 32)                2080      \n",
            "                                                                 \n",
            " batch_normalization_3 (Batc  (None, 32)               128       \n",
            " hNormalization)                                                 \n",
            "                                                                 \n",
            " leaky_re_lu_4 (LeakyReLU)   (None, 32)                0         \n",
            "                                                                 \n",
            " dense_32 (Dense)            (None, 10)                330       \n",
            "                                                                 \n",
            "=================================================================\n",
            "Total params: 53,034\n",
            "Trainable params: 52,842\n",
            "Non-trainable params: 192\n",
            "_________________________________________________________________\n"
          ]
        }
      ]
    },
    {
      "cell_type": "markdown",
      "source": [
        "  - 앞에서 생성한 2개의 모델과 LeakyReLU 활성화 함수로 변경한 모델까지 더해서 총 3개의 모델을 동일한 조건으로 10번의 epoch 동안 훈련한 후, 수렴 속도를 확인한다. \n",
        "    - model_a : Dense 레이어 + ReLU 활성화 함수\n",
        "    - model_b : Dense 레이어 + 배치 정규화\n",
        "    - model_c : Dense 레이어 + 배치 정규화 + LeakyReLU(0.2) 활성화 함수"
      ],
      "metadata": {
        "id": "P4uOdmetOiEZ"
      }
    },
    {
      "cell_type": "code",
      "source": [
        "model_a.compile(optimizer = 'adam', loss = 'sparse_categorical_crossentropy', metrics = ['accuracy'])\n",
        "model_b.compile(optimizer = 'adam', loss = 'sparse_categorical_crossentropy', metrics = ['accuracy'])\n",
        "model_c.compile(optimizer = 'adam', loss = 'sparse_categorical_crossentropy', metrics = ['accuracy'])\n",
        "\n",
        "# Model A : Dense + ReLU\n",
        "history_a = model_a.fit(x_train, y_train,\n",
        "                        validation_data = (x_test, y_test),\n",
        "                        epochs = 10)\n",
        "\n",
        "# Model B : Dense + BatchNorm + ReLU\n",
        "history_b = model_b.fit(x_train, y_train,\n",
        "                        validation_data = (x_test, y_test),\n",
        "                        epochs = 10)\n",
        "\n",
        "# Model C : Dense + BatchNorm + LeakyReLU(0.2)\n",
        "history_c = model_c.fit(x_train, y_train,\n",
        "                        validation_data = (x_test, y_test),\n",
        "                        epochs = 10)"
      ],
      "metadata": {
        "colab": {
          "base_uri": "https://localhost:8080/"
        },
        "id": "LhPjiEJaOfN9",
        "outputId": "ab12c1e2-0bee-425a-d917-ca6aa1e59b5d"
      },
      "execution_count": 62,
      "outputs": [
        {
          "output_type": "stream",
          "name": "stdout",
          "text": [
            "Epoch 1/10\n",
            "1875/1875 [==============================] - 9s 4ms/step - loss: 0.3079 - accuracy: 0.9104 - val_loss: 0.1514 - val_accuracy: 0.9544\n",
            "Epoch 2/10\n",
            "1875/1875 [==============================] - 9s 5ms/step - loss: 0.1355 - accuracy: 0.9603 - val_loss: 0.1217 - val_accuracy: 0.9619\n",
            "Epoch 3/10\n",
            "1875/1875 [==============================] - 9s 5ms/step - loss: 0.0978 - accuracy: 0.9706 - val_loss: 0.1137 - val_accuracy: 0.9656\n",
            "Epoch 4/10\n",
            "1875/1875 [==============================] - 9s 5ms/step - loss: 0.0778 - accuracy: 0.9755 - val_loss: 0.0956 - val_accuracy: 0.9697\n",
            "Epoch 5/10\n",
            "1875/1875 [==============================] - 12s 6ms/step - loss: 0.0647 - accuracy: 0.9799 - val_loss: 0.0947 - val_accuracy: 0.9708\n",
            "Epoch 6/10\n",
            "1875/1875 [==============================] - 12s 6ms/step - loss: 0.0544 - accuracy: 0.9826 - val_loss: 0.0881 - val_accuracy: 0.9724\n",
            "Epoch 7/10\n",
            "1875/1875 [==============================] - 13s 7ms/step - loss: 0.0463 - accuracy: 0.9852 - val_loss: 0.0845 - val_accuracy: 0.9747\n",
            "Epoch 8/10\n",
            "1875/1875 [==============================] - 10s 5ms/step - loss: 0.0400 - accuracy: 0.9878 - val_loss: 0.0869 - val_accuracy: 0.9754\n",
            "Epoch 9/10\n",
            "1875/1875 [==============================] - 11s 6ms/step - loss: 0.0359 - accuracy: 0.9882 - val_loss: 0.0998 - val_accuracy: 0.9735\n",
            "Epoch 10/10\n",
            "1875/1875 [==============================] - 12s 6ms/step - loss: 0.0296 - accuracy: 0.9905 - val_loss: 0.0986 - val_accuracy: 0.9731\n",
            "Epoch 1/10\n",
            "1875/1875 [==============================] - 13s 6ms/step - loss: 0.3244 - accuracy: 0.9109 - val_loss: 0.1332 - val_accuracy: 0.9603\n",
            "Epoch 2/10\n",
            "1875/1875 [==============================] - 15s 8ms/step - loss: 0.1434 - accuracy: 0.9566 - val_loss: 0.1111 - val_accuracy: 0.9652\n",
            "Epoch 3/10\n",
            "1875/1875 [==============================] - 9s 5ms/step - loss: 0.1136 - accuracy: 0.9650 - val_loss: 0.1087 - val_accuracy: 0.9663\n",
            "Epoch 4/10\n",
            "1875/1875 [==============================] - 13s 7ms/step - loss: 0.0953 - accuracy: 0.9696 - val_loss: 0.0847 - val_accuracy: 0.9739\n",
            "Epoch 5/10\n",
            "1875/1875 [==============================] - 9s 5ms/step - loss: 0.0836 - accuracy: 0.9738 - val_loss: 0.0868 - val_accuracy: 0.9715\n",
            "Epoch 6/10\n",
            "1875/1875 [==============================] - 9s 5ms/step - loss: 0.0757 - accuracy: 0.9756 - val_loss: 0.0757 - val_accuracy: 0.9774\n",
            "Epoch 7/10\n",
            "1875/1875 [==============================] - 9s 5ms/step - loss: 0.0689 - accuracy: 0.9778 - val_loss: 0.0806 - val_accuracy: 0.9754\n",
            "Epoch 8/10\n",
            "1875/1875 [==============================] - 10s 5ms/step - loss: 0.0656 - accuracy: 0.9783 - val_loss: 0.0825 - val_accuracy: 0.9757\n",
            "Epoch 9/10\n",
            "1875/1875 [==============================] - 7s 4ms/step - loss: 0.0590 - accuracy: 0.9809 - val_loss: 0.0809 - val_accuracy: 0.9762\n",
            "Epoch 10/10\n",
            "1875/1875 [==============================] - 7s 3ms/step - loss: 0.0573 - accuracy: 0.9809 - val_loss: 0.0761 - val_accuracy: 0.9773\n",
            "Epoch 1/10\n",
            "1875/1875 [==============================] - 8s 4ms/step - loss: 0.3220 - accuracy: 0.9103 - val_loss: 0.1424 - val_accuracy: 0.9567\n",
            "Epoch 2/10\n",
            "1875/1875 [==============================] - 7s 4ms/step - loss: 0.1582 - accuracy: 0.9520 - val_loss: 0.1130 - val_accuracy: 0.9660\n",
            "Epoch 3/10\n",
            "1875/1875 [==============================] - 7s 4ms/step - loss: 0.1241 - accuracy: 0.9624 - val_loss: 0.1023 - val_accuracy: 0.9685\n",
            "Epoch 4/10\n",
            "1875/1875 [==============================] - 7s 4ms/step - loss: 0.1082 - accuracy: 0.9663 - val_loss: 0.0996 - val_accuracy: 0.9697\n",
            "Epoch 5/10\n",
            "1875/1875 [==============================] - 7s 4ms/step - loss: 0.0954 - accuracy: 0.9698 - val_loss: 0.1073 - val_accuracy: 0.9661\n",
            "Epoch 6/10\n",
            "1875/1875 [==============================] - 7s 4ms/step - loss: 0.0858 - accuracy: 0.9737 - val_loss: 0.0930 - val_accuracy: 0.9701\n",
            "Epoch 7/10\n",
            "1875/1875 [==============================] - 7s 4ms/step - loss: 0.0780 - accuracy: 0.9753 - val_loss: 0.0846 - val_accuracy: 0.9740\n",
            "Epoch 8/10\n",
            "1875/1875 [==============================] - 7s 4ms/step - loss: 0.0724 - accuracy: 0.9764 - val_loss: 0.0855 - val_accuracy: 0.9749\n",
            "Epoch 9/10\n",
            "1875/1875 [==============================] - 7s 4ms/step - loss: 0.0694 - accuracy: 0.9769 - val_loss: 0.0844 - val_accuracy: 0.9743\n",
            "Epoch 10/10\n",
            "1875/1875 [==============================] - 7s 4ms/step - loss: 0.0638 - accuracy: 0.9796 - val_loss: 0.0809 - val_accuracy: 0.9764\n"
          ]
        }
      ]
    },
    {
      "cell_type": "markdown",
      "source": [
        "  - 결과를 시각화하면 epoch별 검증 손실의 감소 추이를 확인할 수 있다."
      ],
      "metadata": {
        "id": "FoF2nTMqPU3f"
      }
    },
    {
      "cell_type": "code",
      "source": [
        "import matplotlib.pyplot as plt\n",
        "import numpy as np\n",
        "\n",
        "plt.figure(figsize = (12, 9))\n",
        "plt.plot(np.arange(1, 11), history_a.history['val_loss'], color = 'navy', linestyle = ':')\n",
        "plt.plot(np.arange(1, 11), history_b.history['val_loss'], color = 'tomato', linestyle = '-.')\n",
        "plt.plot(np.arange(1, 11), history_c.history['val_loss'], color = 'green', linestyle = '-')\n",
        "\n",
        "plt.title('Losses', fontsize = 20)\n",
        "plt.xlabel('epochs')\n",
        "plt.ylabel('Losses')\n",
        "plt.legend(['ReLU', 'BatchNorm + ReLU', 'BatchNorm + LeakyReLU'], fontsize = 12)\n",
        "plt.show()"
      ],
      "metadata": {
        "colab": {
          "base_uri": "https://localhost:8080/",
          "height": 510
        },
        "id": "4lsOzh_MPTjE",
        "outputId": "c8526641-e291-419d-84c9-95f96295a567"
      },
      "execution_count": 63,
      "outputs": [
        {
          "output_type": "display_data",
          "data": {
            "text/plain": [
              "<Figure size 864x648 with 1 Axes>"
            ],
            "image/png": "[encoded data removed]"
          },
          "metadata": {
            "needs_background": "light"
          }
        }
      ]
    },
    {
      "cell_type": "markdown",
      "source": [
        "  - mnist 데이터셋은 모델별 차이가 크지는 않다. \n",
        "  - 하지만 더 복잡한 데이터셋을 다룬다면 배치 정규화와 다른 활성화 함수를 적용해 보면서 모델 훈련 추이를 관찰해 볼 필요가 있다."
      ],
      "metadata": {
        "id": "tpxc3XsyP7Dj"
      }
    }
  ]
}
