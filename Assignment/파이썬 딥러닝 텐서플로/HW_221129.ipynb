{
  "nbformat": 4,
  "nbformat_minor": 0,
  "metadata": {
    "colab": {
      "provenance": [],
      "authorship_tag": "ABX9TyOECxk9SQPLGsE6MGX7Y9My",
      "include_colab_link": true
    },
    "kernelspec": {
      "name": "python3",
      "display_name": "Python 3"
    },
    "language_info": {
      "name": "python"
    }
  },
  "cells": [
    {
      "cell_type": "markdown",
      "metadata": {
        "id": "view-in-github",
        "colab_type": "text"
      },
      "source": [
        "<a href=\"https://colab.research.google.com/github/wldopie/ESAA/blob/main/HW_221129.ipynb\" target=\"_parent\"><img src=\"https://colab.research.google.com/assets/colab-badge.svg\" alt=\"Open In Colab\"/></a>"
      ]
    },
    {
      "cell_type": "markdown",
      "source": [
        "# **Chap 3. Keras**\n",
        "\n",
        "---\n",
        "\n"
      ],
      "metadata": {
        "id": "uzitwTlrSY6o"
      }
    },
    {
      "cell_type": "markdown",
      "source": [
        "## **6. 모델 저장 및 불러오기**"
      ],
      "metadata": {
        "id": "eWVXSeaaSUOG"
      }
    },
    {
      "cell_type": "markdown",
      "source": [
        "  - 예제 실습을 위해 mnist 데이터셋을 불러오고, 앞에서 사용한 신경망 모델을 활용하여 모델 훈련을 먼저 완료한다."
      ],
      "metadata": {
        "id": "w25oJQer6AoV"
      }
    },
    {
      "cell_type": "code",
      "execution_count": 12,
      "metadata": {
        "id": "MZFAIrPbSLNy"
      },
      "outputs": [],
      "source": [
        "import tensorflow as tf\n",
        "\n",
        "# 케라스의 내장 데이터셋에서 mnist 데이터셋을 로드\n",
        "mnist = tf.keras.datasets.mnist\n",
        "\n",
        "# load_data()로 데이터셋을 로드\n",
        "(x_train, y_train), (x_test, y_test) = mnist.load_data()\n",
        "\n",
        "# 데이터 정규화\n",
        "x_train = x_train / x_train.max()\n",
        "x_test = x_test / x_test.max()"
      ]
    },
    {
      "cell_type": "code",
      "source": [
        "model = tf.keras.Sequential([\n",
        "    tf.keras.layers.Flatten(input_shape = (28, 28)),\n",
        "    tf.keras.layers.Dense(256, activation = 'relu'),\n",
        "    tf.keras.layers.Dense(64, activation = 'relu'),\n",
        "    tf.keras.layers.Dense(32, activation = 'relu'),\n",
        "    tf.keras.layers.Dense(10, activation = 'softmax')   # 레이블이 10개이므로, 노드는 10개가 되어야 함\n",
        "])\n",
        "\n",
        "model.compile(optimizer = 'adam', loss = 'sparse_categorical_crossentropy', metrics = ['accuracy'])\n",
        "\n",
        "model.fit(x_train, y_train,\n",
        "          validation_data = (x_test, y_test),\n",
        "          epochs = 10)"
      ],
      "metadata": {
        "colab": {
          "base_uri": "https://localhost:8080/"
        },
        "id": "Mf8oIbOYRBB2",
        "outputId": "013d9931-2636-49cf-8fdc-77663d0c8062"
      },
      "execution_count": 13,
      "outputs": [
        {
          "output_type": "stream",
          "name": "stdout",
          "text": [
            "Epoch 1/10\n",
            "1875/1875 [==============================] - 11s 6ms/step - loss: 0.2314 - accuracy: 0.9316 - val_loss: 0.1062 - val_accuracy: 0.9658\n",
            "Epoch 2/10\n",
            "1875/1875 [==============================] - 10s 5ms/step - loss: 0.0935 - accuracy: 0.9714 - val_loss: 0.0912 - val_accuracy: 0.9724\n",
            "Epoch 3/10\n",
            "1875/1875 [==============================] - 13s 7ms/step - loss: 0.0671 - accuracy: 0.9785 - val_loss: 0.0980 - val_accuracy: 0.9704\n",
            "Epoch 4/10\n",
            "1875/1875 [==============================] - 13s 7ms/step - loss: 0.0488 - accuracy: 0.9842 - val_loss: 0.0814 - val_accuracy: 0.9761\n",
            "Epoch 5/10\n",
            "1875/1875 [==============================] - 12s 6ms/step - loss: 0.0398 - accuracy: 0.9872 - val_loss: 0.0912 - val_accuracy: 0.9732\n",
            "Epoch 6/10\n",
            "1875/1875 [==============================] - 11s 6ms/step - loss: 0.0335 - accuracy: 0.9891 - val_loss: 0.0872 - val_accuracy: 0.9781\n",
            "Epoch 7/10\n",
            "1875/1875 [==============================] - 11s 6ms/step - loss: 0.0278 - accuracy: 0.9908 - val_loss: 0.0740 - val_accuracy: 0.9804\n",
            "Epoch 8/10\n",
            "1875/1875 [==============================] - 13s 7ms/step - loss: 0.0246 - accuracy: 0.9919 - val_loss: 0.0742 - val_accuracy: 0.9799\n",
            "Epoch 9/10\n",
            "1875/1875 [==============================] - 12s 6ms/step - loss: 0.0247 - accuracy: 0.9919 - val_loss: 0.0916 - val_accuracy: 0.9772\n",
            "Epoch 10/10\n",
            "1875/1875 [==============================] - 12s 6ms/step - loss: 0.0179 - accuracy: 0.9939 - val_loss: 0.0983 - val_accuracy: 0.9774\n"
          ]
        },
        {
          "output_type": "execute_result",
          "data": {
            "text/plain": [
              "<keras.callbacks.History at 0x7f8a0ed09090>"
            ]
          },
          "metadata": {},
          "execution_count": 13
        }
      ]
    },
    {
      "cell_type": "markdown",
      "source": [
        "### **6.1 모델을 파일로 저장**"
      ],
      "metadata": {
        "id": "3L9xnaEpSi3L"
      }
    },
    {
      "cell_type": "markdown",
      "source": [
        "  - `save()` 메소드를 활용하면 훈련을 종료하여 `가중치가 업데이트된 모델 인스턴스를 저장`할 수 있다.\n",
        "    - 저장 형식은 `HDF5` 포맷과 `SavedModel` 포맷 두 가지이다."
      ],
      "metadata": {
        "id": "Ju0u3B4CR8t_"
      }
    },
    {
      "cell_type": "code",
      "source": [
        "# 모델을 h5 포맷으로 저장\n",
        "model.save('h5-model.h5')"
      ],
      "metadata": {
        "id": "8j1McdjbSliF"
      },
      "execution_count": 14,
      "outputs": []
    },
    {
      "cell_type": "markdown",
      "source": [
        "### **6.2 저장된 모델 복원**"
      ],
      "metadata": {
        "id": "eYlWztymSl-V"
      }
    },
    {
      "cell_type": "markdown",
      "source": [
        "  - `tensorflow.keras.models.load_model()` 메소드로 `저장된 모델을 복원`할 수 있다."
      ],
      "metadata": {
        "id": "fsufDffLSlWQ"
      }
    },
    {
      "cell_type": "code",
      "source": [
        "# 모델 복원\n",
        "h5_model = tf.keras.models.load_model('h5-model.h5')\n",
        "h5_model.summary()"
      ],
      "metadata": {
        "colab": {
          "base_uri": "https://localhost:8080/"
        },
        "id": "e3cNxKiGSn8f",
        "outputId": "8b69b05b-e596-4b53-fd42-b1c8de08bae6"
      },
      "execution_count": 15,
      "outputs": [
        {
          "output_type": "stream",
          "name": "stdout",
          "text": [
            "Model: \"sequential_2\"\n",
            "_________________________________________________________________\n",
            " Layer (type)                Output Shape              Param #   \n",
            "=================================================================\n",
            " flatten_2 (Flatten)         (None, 784)               0         \n",
            "                                                                 \n",
            " dense_8 (Dense)             (None, 256)               200960    \n",
            "                                                                 \n",
            " dense_9 (Dense)             (None, 64)                16448     \n",
            "                                                                 \n",
            " dense_10 (Dense)            (None, 32)                2080      \n",
            "                                                                 \n",
            " dense_11 (Dense)            (None, 10)                330       \n",
            "                                                                 \n",
            "=================================================================\n",
            "Total params: 219,818\n",
            "Trainable params: 219,818\n",
            "Non-trainable params: 0\n",
            "_________________________________________________________________\n"
          ]
        }
      ]
    },
    {
      "cell_type": "markdown",
      "source": [
        "  - 복원한 모델을 검증하여 복원이 잘 되었는지 확인한다.\n",
        "  - 검증 셋을 evaluate 함수에 대입해, 손실 함수와 평가지표를 계산한다."
      ],
      "metadata": {
        "id": "mu_9_R3PSzW1"
      }
    },
    {
      "cell_type": "code",
      "source": [
        "# 모델 검증\n",
        "loss, acc = h5_model.evaluate(x_test, y_test, verbose = 0)\n",
        "print(f'h5 model] loss: {loss:.5f}, acc: {acc:.5f}')"
      ],
      "metadata": {
        "colab": {
          "base_uri": "https://localhost:8080/"
        },
        "id": "_OtgFr6YS5j0",
        "outputId": "72373d63-20c9-4371-d390-df15c70d94fd"
      },
      "execution_count": 16,
      "outputs": [
        {
          "output_type": "stream",
          "name": "stdout",
          "text": [
            "h5 model] loss: 0.09826, acc: 0.97740\n"
          ]
        }
      ]
    },
    {
      "cell_type": "markdown",
      "source": [
        "  - `.h5 확장자를 생략`하면 `SavedModel` 포맷으로 저장된다.\n",
        "  - SavedModel 포맷으로 저장된 모델 역시 HDF5와 동알한 방식으로 복원 가능하다."
      ],
      "metadata": {
        "id": "6d5jHACjTFYQ"
      }
    },
    {
      "cell_type": "code",
      "source": [
        "# 모델을 SavedModel 포맷으로 저장\n",
        "model.save('saved-model')"
      ],
      "metadata": {
        "id": "V6Rf0dqUTOr6"
      },
      "execution_count": 17,
      "outputs": []
    },
    {
      "cell_type": "code",
      "source": [
        "# 모델 복원\n",
        "saved_model = tf.keras.models.load_model('saved-model')\n",
        "saved_model.summary()"
      ],
      "metadata": {
        "colab": {
          "base_uri": "https://localhost:8080/"
        },
        "id": "dk8oQyBFTTIu",
        "outputId": "7ac459dc-b6f6-46e2-c3e4-dc37b9c7408a"
      },
      "execution_count": 18,
      "outputs": [
        {
          "output_type": "stream",
          "name": "stdout",
          "text": [
            "Model: \"sequential_2\"\n",
            "_________________________________________________________________\n",
            " Layer (type)                Output Shape              Param #   \n",
            "=================================================================\n",
            " flatten_2 (Flatten)         (None, 784)               0         \n",
            "                                                                 \n",
            " dense_8 (Dense)             (None, 256)               200960    \n",
            "                                                                 \n",
            " dense_9 (Dense)             (None, 64)                16448     \n",
            "                                                                 \n",
            " dense_10 (Dense)            (None, 32)                2080      \n",
            "                                                                 \n",
            " dense_11 (Dense)            (None, 10)                330       \n",
            "                                                                 \n",
            "=================================================================\n",
            "Total params: 219,818\n",
            "Trainable params: 219,818\n",
            "Non-trainable params: 0\n",
            "_________________________________________________________________\n"
          ]
        }
      ]
    },
    {
      "cell_type": "markdown",
      "source": [
        "  - HDF5 형식으로 저장 및 복원된 모델과 SavedModel 형식으로 저장 및 복원된 모델의 성능이 동일함을 확인할 수 있다."
      ],
      "metadata": {
        "id": "E5zpMQzmTdYY"
      }
    },
    {
      "cell_type": "code",
      "source": [
        "# 모델 검증 (HDF5 포맷)\n",
        "loss, acc = h5_model.evaluate(x_test, y_test, verbose = 0)\n",
        "print(f'h5 model] loss: {loss:.5f}, acc: {acc:.5f}')\n",
        "\n",
        "# 모델 검증 (SavedModel 포맷)\n",
        "loss, acc = saved_model.evaluate(x_test, y_test, verbose = 0)\n",
        "print(f'saved_model] loss: {loss:.5f}, acc: {acc:.5f}')"
      ],
      "metadata": {
        "colab": {
          "base_uri": "https://localhost:8080/"
        },
        "id": "t2mMABx3Taum",
        "outputId": "23cbe4d9-de60-4e5b-dcb3-6acd38ce5ad9"
      },
      "execution_count": 19,
      "outputs": [
        {
          "output_type": "stream",
          "name": "stdout",
          "text": [
            "h5 model] loss: 0.09826, acc: 0.97740\n",
            "saved_model] loss: 0.09826, acc: 0.97740\n"
          ]
        }
      ]
    },
    {
      "cell_type": "markdown",
      "source": [
        "\n",
        "\n",
        "---\n",
        "\n"
      ],
      "metadata": {
        "id": "5qRjHM6cSo7F"
      }
    },
    {
      "cell_type": "markdown",
      "source": [
        "## **7. 복잡한 모델 생성**"
      ],
      "metadata": {
        "id": "NJPCfVbeSptn"
      }
    },
    {
      "cell_type": "markdown",
      "source": [
        "### **7.1 함수형 API (Functional API)**"
      ],
      "metadata": {
        "id": "Fy6FUgWBSuev"
      }
    },
    {
      "cell_type": "markdown",
      "source": [
        "  - 함수 형태로 딥러닝 모델을 정의하면 다양한 모델 구조를 구현할 수 있다.\n",
        "  - 여러 층을 시퀀스 형태로 연결하는 Sequential API와 다르게, Functional API는 복잡한 구조의 모델을 정의할 수 있다.\n",
        "  - `Functional API`를 사용하면 함수의 입력 매개변수를 여러 개 갖는 `다중 입력`, 함수의 return 값을 여러 개 갖는 `다중 출력`, `같은 레벨에 여러 개의 층을 배치`하여 `입력과 출력을 공유`하는 구조도 가능하다.\n",
        "  - 반면 Sequential API를 사용하면 단방향의 Sequential 모델만 구현할 수 있다는 제약이 있다."
      ],
      "metadata": {
        "id": "ZD2FmKSLT6N_"
      }
    },
    {
      "cell_type": "markdown",
      "source": [
        "  - 아래의 코드는 기존에 Sequential API로 구현한 MNIST 분류기 모델을 함수형 API로 동일하게 구현한 코드이다."
      ],
      "metadata": {
        "id": "UjVkgdsRUdtc"
      }
    },
    {
      "cell_type": "code",
      "source": [
        "import tensorflow as tf\n",
        "\n",
        "# 케라스의 내장 데이터셋에서 mnist 데이터셋을 로드\n",
        "mnist = tf.keras.datasets.mnist\n",
        "\n",
        "# load_data()로 데이터셋을 로드\n",
        "(x_train, y_train), (x_test, y_test) = mnist.load_data()\n",
        "\n",
        "# 데이터 정규화\n",
        "x_train = x_train / x_train.max()\n",
        "x_test = x_test / x_test.max()"
      ],
      "metadata": {
        "id": "HX3F9zHBSpZr"
      },
      "execution_count": 20,
      "outputs": []
    },
    {
      "cell_type": "code",
      "source": [
        "model = tf.keras.Sequential([\n",
        "    tf.keras.layers.Flatten(input_shape = (28, 28)),\n",
        "    tf.keras.layers.Dense(256, activation = 'relu'),\n",
        "    tf.keras.layers.Dense(64, activation = 'relu'),\n",
        "    tf.keras.layers.Dense(32, activation = 'relu'),\n",
        "    tf.keras.layers.Dense(10, activation = 'softmax')   # 레이블이 10개이므로, 노드는 10개가 되어야 함\n",
        "])"
      ],
      "metadata": {
        "id": "3zedyUoSUzzB"
      },
      "execution_count": 21,
      "outputs": []
    },
    {
      "cell_type": "markdown",
      "source": [
        "  - 함수형 API를 사용하기 위해서는 먼저 Input 레이어를 정의한다. Input 레이어에는 데이터의 입력 shape을 정의한다.\n",
        "  - 레이어마다 반환되는 출력 값을 변수에 저장한 뒤, 다음 레이어의 입력으로 연결한다.\n",
        "  - 이렇게 여러 개의 레이어를 마치 체인 구조로 입출력을 계속 연결할 수 있다."
      ],
      "metadata": {
        "id": "2QQC3kK_U2m_"
      }
    },
    {
      "cell_type": "code",
      "source": [
        "# Input 레이어 정의\n",
        "input_layer = tf.keras.Input(shape = (28, 28), name = 'InputLayer')\n",
        "\n",
        "# 모델의 레이어를 체인 구조로 연결\n",
        "x1 = tf.keras.layers.Flatten(name = 'Flatten')(input_layer)\n",
        "x2 = tf.keras.layers.Dense(256, activation = 'relu', name = 'Dense1')(x1)\n",
        "x3 = tf.keras.layers.Dense(64, activation = 'relu', name = 'Dense2')(x2)\n",
        "x4 = tf.keras.layers.Dense(10, activation = 'softmax', name = 'Outputlayer')(x3)"
      ],
      "metadata": {
        "id": "-aODxp0cU2Fq"
      },
      "execution_count": 22,
      "outputs": []
    },
    {
      "cell_type": "markdown",
      "source": [
        "  - `name` 매개변수로 `각 레이어에 이름`을 부여할 수 있다.\n",
        "  - `첫 Input 레이어`로 시작해 `x4` 변수는 `마지막 출력층`을 나타낸다.\n",
        "  - 이렇게 체인 방식으로 연결한 후에 `tf.keras.Model()`에 `입력 레이어`와 `출력 레이어를 정의`해 모델을 생성한다."
      ],
      "metadata": {
        "id": "Ok-2l5HOgERD"
      }
    },
    {
      "cell_type": "code",
      "source": [
        "# 모델 생성\n",
        "func_model = tf.keras.Model(inputs = input_layer, outputs = x4, name = 'FunctionalModel')\n",
        "\n",
        "# 모델 요약\n",
        "func_model.summary()"
      ],
      "metadata": {
        "colab": {
          "base_uri": "https://localhost:8080/"
        },
        "id": "NNUF3dqby5Bu",
        "outputId": "18a45706-4b7e-4508-81ef-0afde59cacbf"
      },
      "execution_count": 23,
      "outputs": [
        {
          "output_type": "stream",
          "name": "stdout",
          "text": [
            "Model: \"FunctionalModel\"\n",
            "_________________________________________________________________\n",
            " Layer (type)                Output Shape              Param #   \n",
            "=================================================================\n",
            " InputLayer (InputLayer)     [(None, 28, 28)]          0         \n",
            "                                                                 \n",
            " Flatten (Flatten)           (None, 784)               0         \n",
            "                                                                 \n",
            " Dense1 (Dense)              (None, 256)               200960    \n",
            "                                                                 \n",
            " Dense2 (Dense)              (None, 64)                16448     \n",
            "                                                                 \n",
            " Outputlayer (Dense)         (None, 10)                650       \n",
            "                                                                 \n",
            "=================================================================\n",
            "Total params: 218,058\n",
            "Trainable params: 218,058\n",
            "Non-trainable params: 0\n",
            "_________________________________________________________________\n"
          ]
        }
      ]
    },
    {
      "cell_type": "markdown",
      "source": [
        "  - 위와 같이 `tf.keras.Model()`에 `inputs` 매개변수로 입력층인 `input_layer`를, `outputs` 매개변수에 출력층인 `x4`를 지정해 모델을 생성한다."
      ],
      "metadata": {
        "id": "wacU_3LbzOI3"
      }
    },
    {
      "cell_type": "markdown",
      "source": [
        "  - 지금까지는 `summary()`로 모델의 요약을 확인했으나, `복잡한 구조`를 갖는 모델을 생성할 경우 summary()로는 모델의 구조를 `시각화하기 어렵다`.\n",
        "  - 케라스 유틸 패키지의 `plot_model` 모듈을 활용하여 `모델의 구조도를 시각화`해 보자."
      ],
      "metadata": {
        "id": "Eg1TfCmQzbG9"
      }
    },
    {
      "cell_type": "code",
      "source": [
        "from tensorflow.keras.utils import plot_model\n",
        "\n",
        "# 구조도 시각화\n",
        "plot_model(func_model, show_shapes = True, show_layer_names = True, to_file = 'model.png')"
      ],
      "metadata": {
        "colab": {
          "base_uri": "https://localhost:8080/",
          "height": 533
        },
        "id": "S_4MCynEzo4g",
        "outputId": "5a8710f1-e449-4d17-8222-9155c24983dc"
      },
      "execution_count": 24,
      "outputs": [
        {
          "output_type": "execute_result",
          "data": {
            "image/png": "[encoded data removed]",
            "text/plain": [
              "<IPython.core.display.Image object>"
            ]
          },
          "metadata": {},
          "execution_count": 24
        }
      ]
    },
    {
      "cell_type": "markdown",
      "source": [
        "  - `show_shape` : `데이터의 입출력 shape`을 출력\n",
        "  - `show_layer_names` : `레이어의 이름` 출력"
      ],
      "metadata": {
        "id": "AylQiP11z8R4"
      }
    },
    {
      "cell_type": "markdown",
      "source": [
        "  - 함수형 API로 생성한 모델도 Sequential API와 동일하게 모델 훈련을 진행한다.\n",
        "  - 생성된 모델 인스턴스에 compile() 메소드로 모델을 컴파일하고, fit() 메소드로 모델을 훈련한다. 훈련이 완료된 뒤 evaluate() 메소드로 검증할 수 있다."
      ],
      "metadata": {
        "id": "cEYDU3Yu0hSm"
      }
    },
    {
      "cell_type": "code",
      "source": [
        "# 컴파일\n",
        "func_model.compile(optimizer = 'adam', loss = 'sparse_categorical_crossentropy',\n",
        "                   metrics = ['accuracy'])\n",
        "\n",
        "# 훈련\n",
        "func_model.fit(x_train, y_train, epochs = 3)\n",
        "\n",
        "# 검증\n",
        "loss, acc = func_model.evaluate(x_test, y_test, verbose = 0)\n",
        "print(f'Functional Model] loss: {loss:.5f}, acc: {acc:.5f}')"
      ],
      "metadata": {
        "colab": {
          "base_uri": "https://localhost:8080/"
        },
        "id": "cMeS8R7j0hFi",
        "outputId": "d7d136d3-3bfc-429d-f2a5-62b97d2e9d63"
      },
      "execution_count": 25,
      "outputs": [
        {
          "output_type": "stream",
          "name": "stdout",
          "text": [
            "Epoch 1/3\n",
            "1875/1875 [==============================] - 10s 5ms/step - loss: 0.2098 - accuracy: 0.9377\n",
            "Epoch 2/3\n",
            "1875/1875 [==============================] - 11s 6ms/step - loss: 0.0871 - accuracy: 0.9730\n",
            "Epoch 3/3\n",
            "1875/1875 [==============================] - 11s 6ms/step - loss: 0.0596 - accuracy: 0.9811\n",
            "Functional Model] loss: 0.07664, acc: 0.97650\n"
          ]
        }
      ]
    },
    {
      "cell_type": "markdown",
      "source": [
        "### **7.2 모델 서브클래싱 (Model Subclassing)**"
      ],
      "metadata": {
        "id": "opKSWjgZSzG2"
      }
    },
    {
      "cell_type": "markdown",
      "source": [
        "  - `Model Subclassing`으로 모델 인스턴스를 생성하기 위해서는 `tf.keras.Model`을 상속받아 `생성하고자 하는 모델 클래스를 구현`한다.\n",
        "  - 모델의 `__init__()` 함수에 `레이어를 정의`하고 레이어의 `하이퍼파라미터를 정의`한다."
      ],
      "metadata": {
        "id": "GuxkD7nd1cza"
      }
    },
    {
      "cell_type": "code",
      "source": [
        "class MyModel(tf.keras.Model):\n",
        "  def __init__(self):\n",
        "    super(MyModel, self).__init__()\n",
        "    # 초기값 설정\n",
        "    self.flatten = tf.keras.layers.Flatten()\n",
        "    self.dense1 = tf.keras.layers.Dense(256, activation = 'relu')\n",
        "    self.dense2 = tf.keras.layers.Dense(64, activation = 'relu')\n",
        "    self.dense3 = tf.keras.layers.Dense(10, activation = 'softmax')\n",
        "\n",
        "  # method overiding\n",
        "  # 훈련용 함수 정의\n",
        "  # x는 input\n",
        "  def call(self, x):\n",
        "    x = self.flatten(x)\n",
        "    x = self.dense1(x)\n",
        "    x = self.dense2(x)\n",
        "    x = self.dense3(x)\n",
        "    return x"
      ],
      "metadata": {
        "id": "laGWzRXNS3Fa"
      },
      "execution_count": 27,
      "outputs": []
    },
    {
      "cell_type": "markdown",
      "source": [
        "  - `call()` 함수를 `메소드 오버라이딩`으로 구현한다.\n",
        "    - call() 메소드는 `fit() 메소드가 호출되어 훈련`하는 경우 `호출될 함수`이다.\n",
        "    - `call() 함수 내부`에서는 입력부터 출력까지의 흐름, 즉 `순전파를 정의`하고 함수형 API와 같은 방식으로 `모든 레이어를 체인처럼 연결`한다.\n",
        "    - 마지막으로 `최종 출력 값을 return` 한다."
      ],
      "metadata": {
        "id": "2_ZKm9hV2TVy"
      }
    },
    {
      "cell_type": "code",
      "source": [
        "# 모델 생성\n",
        "mymodel = MyModel()\n",
        "\n",
        "# 모델의 이름 설정\n",
        "mymodel._name = 'subclass_model'\n",
        "\n",
        "# 모델 input 정의\n",
        "mymodel(tf.keras.layers.Input(shape = (28, 28)))\n",
        "\n",
        "# 모델 요약\n",
        "mymodel.summary()"
      ],
      "metadata": {
        "colab": {
          "base_uri": "https://localhost:8080/"
        },
        "id": "fpIt7ma-2qQt",
        "outputId": "c2695148-3a0c-44f8-9529-ef73e820128c"
      },
      "execution_count": 28,
      "outputs": [
        {
          "output_type": "stream",
          "name": "stdout",
          "text": [
            "Model: \"subclass_model\"\n",
            "_________________________________________________________________\n",
            " Layer (type)                Output Shape              Param #   \n",
            "=================================================================\n",
            " flatten_4 (Flatten)         multiple                  0         \n",
            "                                                                 \n",
            " dense_16 (Dense)            multiple                  200960    \n",
            "                                                                 \n",
            " dense_17 (Dense)            multiple                  16448     \n",
            "                                                                 \n",
            " dense_18 (Dense)            multiple                  650       \n",
            "                                                                 \n",
            "=================================================================\n",
            "Total params: 218,058\n",
            "Trainable params: 218,058\n",
            "Non-trainable params: 0\n",
            "_________________________________________________________________\n"
          ]
        }
      ]
    },
    {
      "cell_type": "markdown",
      "source": [
        "  - 생성자로 객체를 생성해 저장한 mymodel 변수에 바로 summary()로 요약 출력하는 것은 불가능하다.\n",
        "  - mymodel에 input 레이어와 함께 shape을 정의해주면 summary()로 모델의 요약을 확인할 수 있다."
      ],
      "metadata": {
        "id": "DqknMRB0298P"
      }
    },
    {
      "cell_type": "code",
      "source": [
        "# 컴파일\n",
        "mymodel.compile(optimizer = 'adam', loss = 'sparse_categorical_crossentropy',\n",
        "                metrics = ['accuracy'])\n",
        "\n",
        "# 훈련\n",
        "mymodel.fit(x_train, y_train, epochs = 3)\n",
        "\n",
        "# 검증\n",
        "loss, acc = mymodel.evaluate(x_test, y_test, verbose = 0)\n",
        "print(f'Subclassing Model] loss: {loss:.5f}, acc: {acc:.5f}')"
      ],
      "metadata": {
        "colab": {
          "base_uri": "https://localhost:8080/"
        },
        "id": "X8oMPYEF3Ja2",
        "outputId": "088dbdf4-7f13-4665-8bdd-35cc1ce80671"
      },
      "execution_count": 29,
      "outputs": [
        {
          "output_type": "stream",
          "name": "stdout",
          "text": [
            "Epoch 1/3\n",
            "1875/1875 [==============================] - 10s 5ms/step - loss: 0.2125 - accuracy: 0.9363\n",
            "Epoch 2/3\n",
            "1875/1875 [==============================] - 9s 5ms/step - loss: 0.0868 - accuracy: 0.9730\n",
            "Epoch 3/3\n",
            "1875/1875 [==============================] - 10s 6ms/step - loss: 0.0611 - accuracy: 0.9805\n",
            "Subclassing Model] loss: 0.07662, acc: 0.97430\n"
          ]
        }
      ]
    },
    {
      "cell_type": "markdown",
      "source": [
        "  - Model Subclassing과 함수형 API로 생성된 모델은 생성하는 방식에만 차이가 있을 뿐, 컴파일, 모델 훈련, 모델 검증 과정은 동일하다."
      ],
      "metadata": {
        "id": "XtebOYt33d74"
      }
    },
    {
      "cell_type": "markdown",
      "source": [
        "### **7.3 서브클래싱 모델 파라미터를 활용한 생성**"
      ],
      "metadata": {
        "id": "TInYKkugS3vz"
      }
    },
    {
      "cell_type": "markdown",
      "source": [
        "  - `Model Subclassing`으로 생성하는 `장점`은 `생성자 파라미터`로 `모델 내부 레이어의 하이퍼파라미터를 지정`할 수 있다는 점이다.\n",
        "  - 다음은 모델의 생성자 파라미터를 추가하여 동적으로 레이어의 유닛 개수를 초기화하는 예제이다."
      ],
      "metadata": {
        "id": "OJgJBTZt3yUM"
      }
    },
    {
      "cell_type": "code",
      "source": [
        "class MyModel(tf.keras.Model):\n",
        "\n",
        "  # 생성자 파라미터 추가\n",
        "  def __init__(self, units, num_classes):\n",
        "    super(MyModel, self).__init__()\n",
        "    # 초기값 설정\n",
        "    self.flatten = tf.keras.layers.Flatten()\n",
        "    self.dense1 = tf.keras.layers.Dense(units, activation = 'relu')\n",
        "    self.dense2 = tf.keras.layers.Dense(units/4, activation = 'relu')\n",
        "    self.dense3 = tf.keras.layers.Dense(num_classes, activation = 'softmax')\n",
        "\n",
        "  # class overiding\n",
        "  # 훈련용 함수 정의\n",
        "  def call(self, x):\n",
        "    x = self.flatten(x)\n",
        "    x = self.dense1(x)\n",
        "    x = self.dense2(x)\n",
        "    x = self.dense3(x)\n",
        "    return x"
      ],
      "metadata": {
        "id": "UAqPQ0_8S6w7"
      },
      "execution_count": 30,
      "outputs": []
    },
    {
      "cell_type": "markdown",
      "source": [
        "  - 모델의 `생성자 파라미터`로 기준이 되는 `unit의 개수`와 `레이블의 개수를 입력`받아 Dense 레이어의 유닛 개수를 계산하여 설정한다."
      ],
      "metadata": {
        "id": "OUmdcVVs4fo_"
      }
    },
    {
      "cell_type": "code",
      "source": [
        "# 모델 생성\n",
        "mymodel = MyModel(256, 10)\n",
        "\n",
        "# 모델 input 정의\n",
        "mymodel(tf.keras.layers.Input(shape = (28, 28)))\n",
        "\n",
        "# 모델 요약\n",
        "mymodel.summary()"
      ],
      "metadata": {
        "colab": {
          "base_uri": "https://localhost:8080/"
        },
        "id": "FynsbiJ14dnf",
        "outputId": "45a238a1-dbf4-4fdd-d21a-484ab607fe11"
      },
      "execution_count": 31,
      "outputs": [
        {
          "output_type": "stream",
          "name": "stdout",
          "text": [
            "Model: \"my_model_1\"\n",
            "_________________________________________________________________\n",
            " Layer (type)                Output Shape              Param #   \n",
            "=================================================================\n",
            " flatten_5 (Flatten)         multiple                  0         \n",
            "                                                                 \n",
            " dense_19 (Dense)            multiple                  200960    \n",
            "                                                                 \n",
            " dense_20 (Dense)            multiple                  16448     \n",
            "                                                                 \n",
            " dense_21 (Dense)            multiple                  650       \n",
            "                                                                 \n",
            "=================================================================\n",
            "Total params: 218,058\n",
            "Trainable params: 218,058\n",
            "Non-trainable params: 0\n",
            "_________________________________________________________________\n"
          ]
        }
      ]
    },
    {
      "cell_type": "markdown",
      "source": [
        "  - 동적으로 설정한 레이어의 파라미터가 초기화되었음을 알 수 있다."
      ],
      "metadata": {
        "id": "hYEa8TqE49Df"
      }
    },
    {
      "cell_type": "code",
      "source": [
        "# 컴파일\n",
        "mymodel.compile(optimizer = 'adam', loss = 'sparse_categorical_crossentropy',\n",
        "                metrics = ['accuracy'])\n",
        "\n",
        "# 훈련\n",
        "mymodel.fit(x_train, y_train, epochs = 3)\n",
        "\n",
        "# 검증\n",
        "loss, acc = mymodel.evaluate(x_test, y_test, verbose = 0)\n",
        "print(f'Subclassing Model w. parameters] loss: {loss:.5f}, acc: {acc:.5f}')"
      ],
      "metadata": {
        "colab": {
          "base_uri": "https://localhost:8080/"
        },
        "id": "2fTs43ys4qlK",
        "outputId": "a81e294b-71b9-41f9-fedc-0582da808c87"
      },
      "execution_count": 32,
      "outputs": [
        {
          "output_type": "stream",
          "name": "stdout",
          "text": [
            "Epoch 1/3\n",
            "1875/1875 [==============================] - 10s 5ms/step - loss: 0.2130 - accuracy: 0.9380\n",
            "Epoch 2/3\n",
            "1875/1875 [==============================] - 11s 6ms/step - loss: 0.0872 - accuracy: 0.9734\n",
            "Epoch 3/3\n",
            "1875/1875 [==============================] - 11s 6ms/step - loss: 0.0597 - accuracy: 0.9813\n",
            "Subclassing Model w. parameters] loss: 0.07081, acc: 0.97730\n"
          ]
        }
      ]
    },
    {
      "cell_type": "markdown",
      "source": [
        "  - 이렇게 생성한 모델도 동일하게 compile() 메소드로 컴파일 한 뒤, fit() 메소드로 훈련한다.\n",
        "  - 훈련이 완료된 뒤 모델 인스턴스의 evaluate() 메소드로 모델의 성능을 검증할 수 있다."
      ],
      "metadata": {
        "id": "kQnVJImqL3_D"
      }
    }
  ]
}
