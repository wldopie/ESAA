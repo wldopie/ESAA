{
  "nbformat": 4,
  "nbformat_minor": 5,
  "metadata": {
    "colab": {
      "name": "HW_220314.ipynb의 사본",
      "provenance": [],
      "collapsed_sections": [
        "d6ad1a9f",
        "e3a7ba7f",
        "6d17ab5d",
        "8837119b",
        "ec788c9f",
        "391791e0",
        "51898680",
        "89e78048",
        "ebd10810",
        "c0e940f8",
        "22713c3f",
        "f1ae2c2d",
        "34a7bdee",
        "37bc0973",
        "129c342d",
        "42f8b2f9",
        "252c43e2",
        "486df8ea",
        "649e89f9",
        "3421e17f",
        "483dd554",
        "2d07be1c",
        "6415f02e",
        "fe043549",
        "cc08f71c",
        "2002cb03",
        "b7109c9f",
        "7d3131b9",
        "7c8c1fc5",
        "5795b4bd",
        "fb24674c",
        "e6e1ae2f",
        "c01f0ecf",
        "3b64a18b",
        "48413134",
        "0a532633",
        "f98713a6",
        "1abc7cc8",
        "0cf413ee",
        "215b6acc",
        "c0cf37e0",
        "c17fb213",
        "8aaab886",
        "66a04e2e",
        "f4427f7f",
        "58be9dd4",
        "7348abd0",
        "538e651c",
        "33c986d9",
        "00eb27c4",
        "928a1a15",
        "5143f7f3",
        "f62551d8",
        "6896e326",
        "aeaf4a7b",
        "3d11451b",
        "a0a45995",
        "7808578f",
        "8e83df46",
        "e67ff31c",
        "ad8821b1",
        "a0c8cbf5",
        "781fa236",
        "9c9bb0f3",
        "7d8dc135",
        "aa340126",
        "6b6d2c84",
        "7be0fe36",
        "a840a88f",
        "c2bd7385",
        "4c70397b",
        "15ba193c",
        "ec828405",
        "d94352b6",
        "7c3a9e32",
        "da9d5eeb",
        "f7b65fd5",
        "2784c996",
        "71a7574c",
        "30f06441",
        "e5737276",
        "5882e36d"
      ],
      "include_colab_link": true
    },
    "language_info": {
      "name": "python"
    },
    "kernelspec": {
      "name": "python3",
      "display_name": "Python 3"
    }
  },
  "cells": [
    {
      "cell_type": "markdown",
      "metadata": {
        "id": "view-in-github",
        "colab_type": "text"
      },
      "source": [
        "<a href=\"https://colab.research.google.com/github/wldopie/ESAA/blob/main/HW_220314.ipynb\" target=\"_parent\"><img src=\"https://colab.research.google.com/assets/colab-badge.svg\" alt=\"Open In Colab\"/></a>"
      ]
    },
    {
      "cell_type": "code",
      "source": [
        "import numpy as np"
      ],
      "metadata": {
        "id": "zCaY0qff8I6d"
      },
      "id": "zCaY0qff8I6d",
      "execution_count": 3,
      "outputs": []
    },
    {
      "cell_type": "markdown",
      "metadata": {
        "id": "42f8b2f9"
      },
      "source": [
        "#### 34. How to get all the dates corresponding to the month of July 2016? (★★☆)"
      ],
      "id": "42f8b2f9"
    },
    {
      "cell_type": "code",
      "metadata": {
        "id": "eb8ebe45",
        "colab": {
          "base_uri": "https://localhost:8080/"
        },
        "outputId": "a0a83d0d-8517-4294-e6b0-f80309d35b63"
      },
      "source": [
        "A = np.arange('2016-07', '2016-08', dtype='datetime64[D]')\n",
        "print(A)"
      ],
      "id": "eb8ebe45",
      "execution_count": 9,
      "outputs": [
        {
          "output_type": "stream",
          "name": "stdout",
          "text": [
            "['2016-07-01' '2016-07-02' '2016-07-03' '2016-07-04' '2016-07-05'\n",
            " '2016-07-06' '2016-07-07' '2016-07-08' '2016-07-09' '2016-07-10'\n",
            " '2016-07-11' '2016-07-12' '2016-07-13' '2016-07-14' '2016-07-15'\n",
            " '2016-07-16' '2016-07-17' '2016-07-18' '2016-07-19' '2016-07-20'\n",
            " '2016-07-21' '2016-07-22' '2016-07-23' '2016-07-24' '2016-07-25'\n",
            " '2016-07-26' '2016-07-27' '2016-07-28' '2016-07-29' '2016-07-30'\n",
            " '2016-07-31']\n"
          ]
        }
      ]
    },
    {
      "cell_type": "markdown",
      "metadata": {
        "id": "252c43e2"
      },
      "source": [
        "#### 35. How to compute ((A+B)*(-A/2)) in place (without copy)? (★★☆)"
      ],
      "id": "252c43e2"
    },
    {
      "cell_type": "code",
      "metadata": {
        "id": "f06ff615",
        "colab": {
          "base_uri": "https://localhost:8080/"
        },
        "outputId": "7e9622c3-9c4c-4d87-8f51-50f076f609ec"
      },
      "source": [
        "A = np.random.random((2,2))\n",
        "B = np.random.random((2,2))\n",
        "\n",
        "result = np.dot((A+B), (-A/2))\n",
        "print(result)"
      ],
      "id": "f06ff615",
      "execution_count": 41,
      "outputs": [
        {
          "output_type": "stream",
          "name": "stdout",
          "text": [
            "[[-0.6957507  -0.70093129]\n",
            " [-0.26271447 -0.35688905]]\n"
          ]
        }
      ]
    },
    {
      "cell_type": "markdown",
      "metadata": {
        "id": "486df8ea"
      },
      "source": [
        "#### 36. Extract the integer part of a random array of positive numbers using 4 different methods (★★☆)"
      ],
      "id": "486df8ea"
    },
    {
      "cell_type": "code",
      "metadata": {
        "id": "34b4fa08",
        "colab": {
          "base_uri": "https://localhost:8080/"
        },
        "outputId": "1d992ed2-cd61-48cc-f845-41cf855e74b7"
      },
      "source": [
        "A = np.random.uniform(0,10,10)\n",
        "\n",
        "print (np.floor(A))       # np.floor() : 내림함수\n",
        "print (np.ceil(A)-1)      # np.ceil() : 올림함수이므로, 1을 빼면 내림함수와 같은 효과\n",
        "print (A.astype(int))     # array의 dtype을 정수로 변환\n",
        "print (np.trunc(A))       # np.trunc() : 내림함수"
      ],
      "id": "34b4fa08",
      "execution_count": 17,
      "outputs": [
        {
          "output_type": "stream",
          "name": "stdout",
          "text": [
            "[2. 7. 4. 7. 5. 9. 1. 1. 5. 5.]\n",
            "[2. 7. 4. 7. 5. 9. 1. 1. 5. 5.]\n",
            "[2 7 4 7 5 9 1 1 5 5]\n",
            "[2. 7. 4. 7. 5. 9. 1. 1. 5. 5.]\n"
          ]
        }
      ]
    },
    {
      "cell_type": "markdown",
      "metadata": {
        "id": "649e89f9"
      },
      "source": [
        "#### 37. Create a 5x5 matrix with row values ranging from 0 to 4 (★★☆)"
      ],
      "id": "649e89f9"
    },
    {
      "cell_type": "code",
      "metadata": {
        "id": "663cc611",
        "colab": {
          "base_uri": "https://localhost:8080/"
        },
        "outputId": "1a696bb5-b459-46d3-bef5-4831be0b30d1"
      },
      "source": [
        "# My solution\n",
        "A = np.ones((5,5))\n",
        "A[0:5] = np.arange(0,5)\n",
        "print(A)"
      ],
      "id": "663cc611",
      "execution_count": 13,
      "outputs": [
        {
          "output_type": "stream",
          "name": "stdout",
          "text": [
            "[[0. 1. 2. 3. 4.]\n",
            " [0. 1. 2. 3. 4.]\n",
            " [0. 1. 2. 3. 4.]\n",
            " [0. 1. 2. 3. 4.]\n",
            " [0. 1. 2. 3. 4.]]\n"
          ]
        }
      ]
    },
    {
      "cell_type": "code",
      "source": [
        "# Other solution\n",
        "B = np.zeros((5,5))\n",
        "B += np.arange(0,5)\n",
        "print(B)"
      ],
      "metadata": {
        "colab": {
          "base_uri": "https://localhost:8080/"
        },
        "id": "K1iAWdn8_ZiJ",
        "outputId": "36bba609-8a8c-408e-dc71-a2bcd9bc9dbb"
      },
      "id": "K1iAWdn8_ZiJ",
      "execution_count": 14,
      "outputs": [
        {
          "output_type": "stream",
          "name": "stdout",
          "text": [
            "[[0. 1. 2. 3. 4.]\n",
            " [0. 1. 2. 3. 4.]\n",
            " [0. 1. 2. 3. 4.]\n",
            " [0. 1. 2. 3. 4.]\n",
            " [0. 1. 2. 3. 4.]]\n"
          ]
        }
      ]
    },
    {
      "cell_type": "markdown",
      "metadata": {
        "id": "3421e17f"
      },
      "source": [
        "#### 38. Consider a generator function that generates 10 integers and use it to build an array (★☆☆)"
      ],
      "id": "3421e17f"
    },
    {
      "cell_type": "code",
      "source": [
        "# generator?\n",
        "\n",
        "# yield?\n",
        "\n",
        "# np.fromiter?"
      ],
      "metadata": {
        "id": "rUo1dWB2DUAJ"
      },
      "id": "rUo1dWB2DUAJ",
      "execution_count": 27,
      "outputs": []
    },
    {
      "cell_type": "code",
      "metadata": {
        "id": "7336b8e4",
        "colab": {
          "base_uri": "https://localhost:8080/"
        },
        "outputId": "9d504cf3-6c69-416f-ff30-3b1313cb0439"
      },
      "source": [
        "def generate():\n",
        "  for x in range(10):\n",
        "    yield x\n",
        "\n",
        "A = np.fromiter(generate(), dtype=float, count=-1)\n",
        "print(A)"
      ],
      "id": "7336b8e4",
      "execution_count": 28,
      "outputs": [
        {
          "output_type": "stream",
          "name": "stdout",
          "text": [
            "[0. 1. 2. 3. 4. 5. 6. 7. 8. 9.]\n"
          ]
        }
      ]
    },
    {
      "cell_type": "markdown",
      "metadata": {
        "id": "483dd554"
      },
      "source": [
        "#### 39. Create a vector of size 10 with values ranging from 0 to 1, both excluded (★★☆)"
      ],
      "id": "483dd554"
    },
    {
      "cell_type": "code",
      "metadata": {
        "id": "c89b93e7",
        "colab": {
          "base_uri": "https://localhost:8080/"
        },
        "outputId": "8c25c0a8-aaaf-47bf-d9cc-cd1f8c40a204"
      },
      "source": [
        "# np.linspace(start, stop, number of array's data, endpoint=True or False)\n",
        "A = np.linspace(0,1,11, endpoint=False)[1:]     # [1:]을 붙이지 않으면 0이 포함되어 출력되므로, 2번째 데이터부터 출력되도록 설정\n",
        "print(A)"
      ],
      "id": "c89b93e7",
      "execution_count": 29,
      "outputs": [
        {
          "output_type": "stream",
          "name": "stdout",
          "text": [
            "[0.09090909 0.18181818 0.27272727 0.36363636 0.45454545 0.54545455\n",
            " 0.63636364 0.72727273 0.81818182 0.90909091]\n"
          ]
        },
        {
          "output_type": "execute_result",
          "data": {
            "text/plain": [
              "(10,)"
            ]
          },
          "metadata": {},
          "execution_count": 29
        }
      ]
    },
    {
      "cell_type": "markdown",
      "metadata": {
        "id": "2d07be1c"
      },
      "source": [
        "#### 40. Create a random vector of size 10 and sort it (★★☆)"
      ],
      "id": "2d07be1c"
    },
    {
      "cell_type": "code",
      "metadata": {
        "id": "4f7cb3ad",
        "colab": {
          "base_uri": "https://localhost:8080/"
        },
        "outputId": "04eb914e-4e86-477f-a9ac-21401ea4cb5d"
      },
      "source": [
        "# My solution\n",
        "A = np.random.random(10)\n",
        "sorted(A)         # sorted() : 복사본을 정렬, 원본은 그대로 유지\n",
        "print(A)          # A의 순서는 그대로 유지"
      ],
      "id": "4f7cb3ad",
      "execution_count": 31,
      "outputs": [
        {
          "output_type": "stream",
          "name": "stdout",
          "text": [
            "[0.96109545 0.43908523 0.74659658 0.39671838 0.74860467 0.18233014\n",
            " 0.59760737 0.28267914 0.601167   0.14383501]\n"
          ]
        }
      ]
    },
    {
      "cell_type": "code",
      "source": [
        "# Other solution\n",
        "B = np.random.random(10)\n",
        "B.sort()        # array.sort() : array 자체를 정렬\n",
        "print(B)        # B의 순서 변화"
      ],
      "metadata": {
        "colab": {
          "base_uri": "https://localhost:8080/"
        },
        "id": "Eoh0FdnXEX8n",
        "outputId": "9e137d82-6458-4e71-8552-5652706f9e3a"
      },
      "id": "Eoh0FdnXEX8n",
      "execution_count": 36,
      "outputs": [
        {
          "output_type": "stream",
          "name": "stdout",
          "text": [
            "[0.11221493 0.17145109 0.21426    0.34841632 0.38785971 0.57141196\n",
            " 0.59728034 0.71424159 0.79634746 0.84388625]\n"
          ]
        }
      ]
    },
    {
      "cell_type": "markdown",
      "metadata": {
        "id": "6415f02e"
      },
      "source": [
        "#### 41. How to sum a small array faster than np.sum? (★★☆)"
      ],
      "id": "6415f02e"
    },
    {
      "cell_type": "code",
      "metadata": {
        "id": "bb0dd942",
        "colab": {
          "base_uri": "https://localhost:8080/"
        },
        "outputId": "7dd979e3-6b59-4635-c58a-fcf7f440c041"
      },
      "source": [
        "# np.add.reduce(array, axis=0 or 1) : Reduces array's dimension by one, by applying ufunc along one axis.\n",
        "A = np.arange(10)\n",
        "np.add.reduce(A)"
      ],
      "id": "bb0dd942",
      "execution_count": 37,
      "outputs": [
        {
          "output_type": "execute_result",
          "data": {
            "text/plain": [
              "45"
            ]
          },
          "metadata": {},
          "execution_count": 37
        }
      ]
    },
    {
      "cell_type": "markdown",
      "metadata": {
        "id": "fe043549"
      },
      "source": [
        "#### 42. Consider two random array A and B, check if they are equal (★★☆)"
      ],
      "id": "fe043549"
    },
    {
      "cell_type": "code",
      "metadata": {
        "id": "3326a686",
        "colab": {
          "base_uri": "https://localhost:8080/"
        },
        "outputId": "c9c98ae3-9b8a-4aec-86bb-d794e04c562b"
      },
      "source": [
        "A = np.random.randint(0,2,5)      # 0 이상 2 미만인 data 5개(5,)를 랜덤으로 출력\n",
        "B = np.random.randint(0,2,5)      # 0 이상 2 미만은 data 5개(5,)를 랜덤으로 출력\n",
        "\n",
        "# np.allclose(a,b) : a,b의 각 요소가 동일한지를 확인하는 함수\n",
        "equal = np.allclose(A,B)\n",
        "print(equal)\n",
        "\n",
        "# np.array_equal(a,b) : a,b의 shape과 요소가 모두 동일한지를 확인하는 함수\n",
        "equal = np.array_equal(A,B)\n",
        "print(equal)"
      ],
      "id": "3326a686",
      "execution_count": 41,
      "outputs": [
        {
          "output_type": "stream",
          "name": "stdout",
          "text": [
            "False\n",
            "False\n"
          ]
        }
      ]
    },
    {
      "cell_type": "markdown",
      "metadata": {
        "id": "cc08f71c"
      },
      "source": [
        "#### 43. Make an array immutable (read-only) (★★☆)"
      ],
      "id": "cc08f71c"
    },
    {
      "cell_type": "code",
      "metadata": {
        "id": "d5cc9dbe",
        "colab": {
          "base_uri": "https://localhost:8080/",
          "height": 209
        },
        "outputId": "319e20cd-bee1-43d4-e0df-00ae83873c67"
      },
      "source": [
        "A = np.random.random(10)\n",
        "A.flags.writeable = False       # writeable = False : 데이터를 읽기 전용으로 설정\n",
        "A[0] = 1                        # read-only로 설정되어 값을 변환하려 하면 error 발생"
      ],
      "id": "d5cc9dbe",
      "execution_count": 38,
      "outputs": [
        {
          "output_type": "error",
          "ename": "ValueError",
          "evalue": "ignored",
          "traceback": [
            "\u001b[0;31m---------------------------------------------------------------------------\u001b[0m",
            "\u001b[0;31mValueError\u001b[0m                                Traceback (most recent call last)",
            "\u001b[0;32m<ipython-input-38-a2a8f194e06b>\u001b[0m in \u001b[0;36m<module>\u001b[0;34m()\u001b[0m\n\u001b[1;32m      1\u001b[0m \u001b[0mA\u001b[0m \u001b[0;34m=\u001b[0m \u001b[0mnp\u001b[0m\u001b[0;34m.\u001b[0m\u001b[0mrandom\u001b[0m\u001b[0;34m.\u001b[0m\u001b[0mrandom\u001b[0m\u001b[0;34m(\u001b[0m\u001b[0;36m10\u001b[0m\u001b[0;34m)\u001b[0m\u001b[0;34m\u001b[0m\u001b[0;34m\u001b[0m\u001b[0m\n\u001b[1;32m      2\u001b[0m \u001b[0mA\u001b[0m\u001b[0;34m.\u001b[0m\u001b[0mflags\u001b[0m\u001b[0;34m.\u001b[0m\u001b[0mwriteable\u001b[0m \u001b[0;34m=\u001b[0m \u001b[0;32mFalse\u001b[0m       \u001b[0;31m# writeable = False : 데이터를 읽기 전용으로 설정\u001b[0m\u001b[0;34m\u001b[0m\u001b[0;34m\u001b[0m\u001b[0m\n\u001b[0;32m----> 3\u001b[0;31m \u001b[0mA\u001b[0m\u001b[0;34m[\u001b[0m\u001b[0;36m0\u001b[0m\u001b[0;34m]\u001b[0m \u001b[0;34m=\u001b[0m \u001b[0;36m1\u001b[0m                        \u001b[0;31m# read-only로 설정되어 값을 변환하려 하면 error 발생\u001b[0m\u001b[0;34m\u001b[0m\u001b[0;34m\u001b[0m\u001b[0m\n\u001b[0m",
            "\u001b[0;31mValueError\u001b[0m: assignment destination is read-only"
          ]
        }
      ]
    },
    {
      "cell_type": "markdown",
      "metadata": {
        "id": "2002cb03"
      },
      "source": [
        "#### 44. Consider a random 10x2 matrix representing **`cartesian coordinates`**, convert them to **`polar coordinates`** (★★☆)"
      ],
      "id": "2002cb03"
    },
    {
      "cell_type": "code",
      "metadata": {
        "id": "58be72bc",
        "colab": {
          "base_uri": "https://localhost:8080/"
        },
        "outputId": "b71870db-1c7f-4cbe-ecf5-973b86720a2c"
      },
      "source": [
        "Z = np.random.random((10,2))        # random 10x2 matrix\n",
        "X,Y = Z[:,0], Z[:,1]                # 1번째 칼럼 : x좌표, 2번째 칼럼 : y좌표\n",
        "\n",
        "# convert cartesian coordinates --> polar coordinates\n",
        "R = np.sqrt(X**2 + Y**2)            # r = sqrt(x^2 + y^2)\n",
        "T = np.arctan2(Y,X)                 # np.arctan2(y좌표, x좌표) : 두 점 사이의 절대각도를 계산하는 함수\n",
        "\n",
        "print(R, '\\n')\n",
        "print(T)"
      ],
      "id": "58be72bc",
      "execution_count": 68,
      "outputs": [
        {
          "output_type": "stream",
          "name": "stdout",
          "text": [
            "[0.67154717 0.65126715 0.46694466 0.53983022 0.4075567  0.58771925\n",
            " 0.46446141 0.64542569 0.71521758 0.88058591] \n",
            "\n",
            "[1.39089981 1.26934216 0.22315542 0.72033424 0.77122563 0.07674092\n",
            " 1.23283193 0.23017482 0.32756083 1.24478866]\n"
          ]
        }
      ]
    },
    {
      "cell_type": "markdown",
      "metadata": {
        "id": "b7109c9f"
      },
      "source": [
        "#### 45. Create random vector of size 10 and replace the maximum value by 0 (★★☆)"
      ],
      "id": "b7109c9f"
    },
    {
      "cell_type": "code",
      "metadata": {
        "id": "f79e79a7",
        "colab": {
          "base_uri": "https://localhost:8080/"
        },
        "outputId": "c7bdfd09-e15e-4a97-d8e4-30c1c26bf895"
      },
      "source": [
        "A = np.random.random(10)        # random vector (10,)\n",
        "A[A.argmax()] = 0               # array.argmax() : 최대값을 갖는 data의 인덱스를 반환하는 함수\n",
        "print(A)"
      ],
      "id": "f79e79a7",
      "execution_count": 69,
      "outputs": [
        {
          "output_type": "stream",
          "name": "stdout",
          "text": [
            "[0.30229262 0.07167773 0.42662937 0.         0.73403666 0.52781597\n",
            " 0.28951357 0.37690406 0.12860041 0.31110239]\n"
          ]
        }
      ]
    },
    {
      "cell_type": "markdown",
      "metadata": {
        "id": "7d3131b9"
      },
      "source": [
        "#### 46. Create a structured array with `x` and `y` coordinates covering the [0,1]x[0,1] area (★★☆)"
      ],
      "id": "7d3131b9"
    },
    {
      "cell_type": "code",
      "metadata": {
        "id": "4f471afe",
        "colab": {
          "base_uri": "https://localhost:8080/"
        },
        "outputId": "34a2f04f-c3eb-4035-bd48-be9f376a729f"
      },
      "source": [
        "# np.meshgrid() : 1차원 좌표 배열에서 n차원 직사각형 격자를 만드는 함수 \n",
        "A = np.zeros((5,5), [('x',float),('y',float)])    # custom dtype : (x,y) 좌표 형태로 출력\n",
        "A['x'], A['y'] = np.meshgrid(np.linspace(0,1,5),\n",
        "                             np.linspace(0,1,5))\n",
        "print(A)"
      ],
      "id": "4f471afe",
      "execution_count": 74,
      "outputs": [
        {
          "output_type": "stream",
          "name": "stdout",
          "text": [
            "[[(0.  , 0.  ) (0.25, 0.  ) (0.5 , 0.  ) (0.75, 0.  ) (1.  , 0.  )]\n",
            " [(0.  , 0.25) (0.25, 0.25) (0.5 , 0.25) (0.75, 0.25) (1.  , 0.25)]\n",
            " [(0.  , 0.5 ) (0.25, 0.5 ) (0.5 , 0.5 ) (0.75, 0.5 ) (1.  , 0.5 )]\n",
            " [(0.  , 0.75) (0.25, 0.75) (0.5 , 0.75) (0.75, 0.75) (1.  , 0.75)]\n",
            " [(0.  , 1.  ) (0.25, 1.  ) (0.5 , 1.  ) (0.75, 1.  ) (1.  , 1.  )]]\n"
          ]
        }
      ]
    },
    {
      "cell_type": "markdown",
      "metadata": {
        "id": "7c8c1fc5"
      },
      "source": [
        "#### 47. Given two arrays, X and Y, construct the **`Cauchy matrix`** C (**`Cij =1/(xi - yj)`**) (★★☆)"
      ],
      "id": "7c8c1fc5"
    },
    {
      "cell_type": "code",
      "source": [
        "# np.subtract.outer?"
      ],
      "metadata": {
        "id": "g5iRURdwO2fF"
      },
      "id": "g5iRURdwO2fF",
      "execution_count": 77,
      "outputs": []
    },
    {
      "cell_type": "code",
      "metadata": {
        "id": "8fac7d28",
        "colab": {
          "base_uri": "https://localhost:8080/"
        },
        "outputId": "3209de5c-8d36-464e-a495-103faa718c57"
      },
      "source": [
        "X = np.arange(8)\n",
        "Y = X + 0.5\n",
        "C = 1.0 / np.subtract.outer(X, Y)\n",
        "print(np.linalg.det(C))               # np.linalg.det() : 행렬의 determinant 연산값을 반환하는 함수"
      ],
      "id": "8fac7d28",
      "execution_count": 79,
      "outputs": [
        {
          "output_type": "stream",
          "name": "stdout",
          "text": [
            "3638.163637117973\n"
          ]
        }
      ]
    },
    {
      "cell_type": "markdown",
      "metadata": {
        "id": "5795b4bd"
      },
      "source": [
        "#### 48. Print the minimum and maximum representable value for each numpy scalar type (★★☆)"
      ],
      "id": "5795b4bd"
    },
    {
      "cell_type": "code",
      "metadata": {
        "id": "b721f7ca",
        "colab": {
          "base_uri": "https://localhost:8080/"
        },
        "outputId": "77c4aee7-def6-4555-da4a-f79a1d3d377a"
      },
      "source": [
        "# 1. scalar type : integer\n",
        "for dtype in [np.int8, np.int32, np.int64]:\n",
        "   print(np.iinfo(dtype).min)                # np.iinfo() : int의 표현가능한 수의 한계를 반환\n",
        "   print(np.iinfo(dtype).max)\n",
        "\n",
        "# 2. scalar type : float\n",
        "for dtype in [np.float32, np.float64]:\n",
        "   print(np.finfo(dtype).min)                # np.finfo() : float의 표현가능한 수의 한계를 반환 \n",
        "   print(np.finfo(dtype).max)\n",
        "   print(np.finfo(dtype).eps)"
      ],
      "id": "b721f7ca",
      "execution_count": 80,
      "outputs": [
        {
          "output_type": "stream",
          "name": "stdout",
          "text": [
            "-128\n",
            "127\n",
            "-2147483648\n",
            "2147483647\n",
            "-9223372036854775808\n",
            "9223372036854775807\n",
            "-3.4028235e+38\n",
            "3.4028235e+38\n",
            "1.1920929e-07\n",
            "-1.7976931348623157e+308\n",
            "1.7976931348623157e+308\n",
            "2.220446049250313e-16\n"
          ]
        }
      ]
    },
    {
      "cell_type": "markdown",
      "metadata": {
        "id": "fb24674c"
      },
      "source": [
        "#### 49. How to print all the values of an array? (★★☆)"
      ],
      "id": "fb24674c"
    },
    {
      "cell_type": "code",
      "metadata": {
        "id": "c81f1456",
        "colab": {
          "base_uri": "https://localhost:8080/",
          "height": 360
        },
        "outputId": "b784c475-fdd8-409b-8e6c-a3edb5414749"
      },
      "source": [
        "np.set_printoptions(threshold=np.nan)\n",
        "A = np.zeros((16,16))\n",
        "print(A)"
      ],
      "id": "c81f1456",
      "execution_count": 105,
      "outputs": [
        {
          "output_type": "error",
          "ename": "ValueError",
          "evalue": "ignored",
          "traceback": [
            "\u001b[0;31m---------------------------------------------------------------------------\u001b[0m",
            "\u001b[0;31mValueError\u001b[0m                                Traceback (most recent call last)",
            "\u001b[0;32m<ipython-input-105-7ad8f9799c10>\u001b[0m in \u001b[0;36m<module>\u001b[0;34m()\u001b[0m\n\u001b[0;32m----> 1\u001b[0;31m \u001b[0mnp\u001b[0m\u001b[0;34m.\u001b[0m\u001b[0mset_printoptions\u001b[0m\u001b[0;34m(\u001b[0m\u001b[0mthreshold\u001b[0m\u001b[0;34m=\u001b[0m\u001b[0mnp\u001b[0m\u001b[0;34m.\u001b[0m\u001b[0mNAN\u001b[0m\u001b[0;34m)\u001b[0m\u001b[0;34m\u001b[0m\u001b[0;34m\u001b[0m\u001b[0m\n\u001b[0m\u001b[1;32m      2\u001b[0m \u001b[0mA\u001b[0m \u001b[0;34m=\u001b[0m \u001b[0mnp\u001b[0m\u001b[0;34m.\u001b[0m\u001b[0mzeros\u001b[0m\u001b[0;34m(\u001b[0m\u001b[0;34m(\u001b[0m\u001b[0;36m16\u001b[0m\u001b[0;34m,\u001b[0m\u001b[0;36m16\u001b[0m\u001b[0;34m)\u001b[0m\u001b[0;34m)\u001b[0m\u001b[0;34m\u001b[0m\u001b[0;34m\u001b[0m\u001b[0m\n\u001b[1;32m      3\u001b[0m \u001b[0mprint\u001b[0m\u001b[0;34m(\u001b[0m\u001b[0mA\u001b[0m\u001b[0;34m)\u001b[0m\u001b[0;34m\u001b[0m\u001b[0;34m\u001b[0m\u001b[0m\n",
            "\u001b[0;32m/usr/local/lib/python3.7/dist-packages/numpy/core/arrayprint.py\u001b[0m in \u001b[0;36mset_printoptions\u001b[0;34m(precision, threshold, edgeitems, linewidth, suppress, nanstr, infstr, formatter, sign, floatmode, legacy)\u001b[0m\n\u001b[1;32m    252\u001b[0m     opt = _make_options_dict(precision, threshold, edgeitems, linewidth,\n\u001b[1;32m    253\u001b[0m                              \u001b[0msuppress\u001b[0m\u001b[0;34m,\u001b[0m \u001b[0mnanstr\u001b[0m\u001b[0;34m,\u001b[0m \u001b[0minfstr\u001b[0m\u001b[0;34m,\u001b[0m \u001b[0msign\u001b[0m\u001b[0;34m,\u001b[0m \u001b[0mformatter\u001b[0m\u001b[0;34m,\u001b[0m\u001b[0;34m\u001b[0m\u001b[0;34m\u001b[0m\u001b[0m\n\u001b[0;32m--> 254\u001b[0;31m                              floatmode, legacy)\n\u001b[0m\u001b[1;32m    255\u001b[0m     \u001b[0;31m# formatter is always reset\u001b[0m\u001b[0;34m\u001b[0m\u001b[0;34m\u001b[0m\u001b[0;34m\u001b[0m\u001b[0m\n\u001b[1;32m    256\u001b[0m     \u001b[0mopt\u001b[0m\u001b[0;34m[\u001b[0m\u001b[0;34m'formatter'\u001b[0m\u001b[0;34m]\u001b[0m \u001b[0;34m=\u001b[0m \u001b[0mformatter\u001b[0m\u001b[0;34m\u001b[0m\u001b[0;34m\u001b[0m\u001b[0m\n",
            "\u001b[0;32m/usr/local/lib/python3.7/dist-packages/numpy/core/arrayprint.py\u001b[0m in \u001b[0;36m_make_options_dict\u001b[0;34m(precision, threshold, edgeitems, linewidth, suppress, nanstr, infstr, sign, formatter, floatmode, legacy)\u001b[0m\n\u001b[1;32m     86\u001b[0m             \u001b[0;32mraise\u001b[0m \u001b[0mTypeError\u001b[0m\u001b[0;34m(\u001b[0m\u001b[0;34m\"threshold must be numeric\"\u001b[0m\u001b[0;34m)\u001b[0m\u001b[0;34m\u001b[0m\u001b[0;34m\u001b[0m\u001b[0m\n\u001b[1;32m     87\u001b[0m         \u001b[0;32mif\u001b[0m \u001b[0mnp\u001b[0m\u001b[0;34m.\u001b[0m\u001b[0misnan\u001b[0m\u001b[0;34m(\u001b[0m\u001b[0mthreshold\u001b[0m\u001b[0;34m)\u001b[0m\u001b[0;34m:\u001b[0m\u001b[0;34m\u001b[0m\u001b[0;34m\u001b[0m\u001b[0m\n\u001b[0;32m---> 88\u001b[0;31m             raise ValueError(\"threshold must be non-NAN, try \"\n\u001b[0m\u001b[1;32m     89\u001b[0m                              \"sys.maxsize for untruncated representation\")\n\u001b[1;32m     90\u001b[0m \u001b[0;34m\u001b[0m\u001b[0m\n",
            "\u001b[0;31mValueError\u001b[0m: threshold must be non-NAN, try sys.maxsize for untruncated representation"
          ]
        }
      ]
    },
    {
      "cell_type": "markdown",
      "metadata": {
        "id": "e6e1ae2f"
      },
      "source": [
        "#### 50. How to find the closest value (to a given scalar) in a vector? (★★☆)"
      ],
      "id": "e6e1ae2f"
    },
    {
      "cell_type": "code",
      "metadata": {
        "id": "73dd91cc",
        "colab": {
          "base_uri": "https://localhost:8080/"
        },
        "outputId": "97b67760-f635-4c21-d6c1-5ac9f0f0ec7c"
      },
      "source": [
        "A = np.arange(100)\n",
        "a = np.random.uniform(0,100)\n",
        "index = (np.abs(A-a)).argmin()\n",
        "print(A[index])"
      ],
      "id": "73dd91cc",
      "execution_count": 81,
      "outputs": [
        {
          "output_type": "stream",
          "name": "stdout",
          "text": [
            "18\n"
          ]
        }
      ]
    },
    {
      "cell_type": "markdown",
      "metadata": {
        "id": "c01f0ecf"
      },
      "source": [
        "#### 51. Create a structured array representing a position (x,y) and a color (r,g,b) (★★☆)"
      ],
      "id": "c01f0ecf"
    },
    {
      "cell_type": "code",
      "metadata": {
        "id": "fb8017ca",
        "colab": {
          "base_uri": "https://localhost:8080/"
        },
        "outputId": "02cb71ab-d718-4bc4-b0f4-4fb446b85b20"
      },
      "source": [
        "A = np.zeros(10, [ ('position', [ ('x', float, 1),\n",
        "                                  ('y', float, 1)]),\n",
        "                   ('color',    [ ('r', float, 1),\n",
        "                                  ('g', float, 1),\n",
        "                                  ('b', float, 1)])])\n",
        "print(A)"
      ],
      "id": "fb8017ca",
      "execution_count": 82,
      "outputs": [
        {
          "output_type": "stream",
          "name": "stdout",
          "text": [
            "[((0., 0.), (0., 0., 0.)) ((0., 0.), (0., 0., 0.))\n",
            " ((0., 0.), (0., 0., 0.)) ((0., 0.), (0., 0., 0.))\n",
            " ((0., 0.), (0., 0., 0.)) ((0., 0.), (0., 0., 0.))\n",
            " ((0., 0.), (0., 0., 0.)) ((0., 0.), (0., 0., 0.))\n",
            " ((0., 0.), (0., 0., 0.)) ((0., 0.), (0., 0., 0.))]\n"
          ]
        },
        {
          "output_type": "stream",
          "name": "stderr",
          "text": [
            "/usr/local/lib/python3.7/dist-packages/ipykernel_launcher.py:5: FutureWarning: Passing (type, 1) or '1type' as a synonym of type is deprecated; in a future version of numpy, it will be understood as (type, (1,)) / '(1,)type'.\n",
            "  \"\"\"\n"
          ]
        }
      ]
    },
    {
      "cell_type": "markdown",
      "metadata": {
        "id": "3b64a18b"
      },
      "source": [
        "#### 52. Consider a random vector with shape (100,2) representing coordinates, find point by point distances (★★☆)"
      ],
      "id": "3b64a18b"
    },
    {
      "cell_type": "code",
      "metadata": {
        "id": "4b482822",
        "colab": {
          "base_uri": "https://localhost:8080/"
        },
        "outputId": "1e516025-5c03-431d-f11d-416f55d672fe"
      },
      "source": [
        "Z = np.random.random((10,2))\n",
        "X,Y = np.atleast_2d(Z[:,0], Z[:,1])\n",
        "D = np.sqrt( (X-X.T)**2 + (Y-Y.T)**2)\n",
        "print(D)\n",
        "\n",
        "# Much faster with scipy\n",
        "import scipy\n",
        "# Thanks Gavin Heverly-Coulson (#issue 1)\n",
        "import scipy.spatial\n",
        "\n",
        "Z = np.random.random((10,2))\n",
        "D = scipy.spatial.distance.cdist(Z,Z)\n",
        "print(D)"
      ],
      "id": "4b482822",
      "execution_count": 83,
      "outputs": [
        {
          "output_type": "stream",
          "name": "stdout",
          "text": [
            "[[0.         0.06848752 0.24372566 0.38411262 0.2785484  0.41694858\n",
            "  0.5161539  0.32996066 0.23979624 0.53820815]\n",
            " [0.06848752 0.         0.29386285 0.35493957 0.21122484 0.40580462\n",
            "  0.44776083 0.2645948  0.20113956 0.48877144]\n",
            " [0.24372566 0.29386285 0.         0.62462795 0.45847955 0.64270057\n",
            "  0.70891863 0.48951148 0.32121919 0.7806946 ]\n",
            " [0.38411262 0.35493957 0.62462795 0.         0.38648955 0.11537152\n",
            "  0.44671182 0.4395666  0.51372833 0.21435139]\n",
            " [0.2785484  0.21122484 0.45847955 0.38648955 0.         0.48145937\n",
            "  0.25047645 0.06125505 0.17838086 0.41970949]\n",
            " [0.41694858 0.40580462 0.64270057 0.11537152 0.48145937 0.\n",
            "  0.56171054 0.53821469 0.58709107 0.30779112]\n",
            " [0.5161539  0.44776083 0.70891863 0.44671182 0.25047645 0.56171054\n",
            "  0.         0.22778478 0.41155547 0.34742568]\n",
            " [0.32996066 0.2645948  0.48951148 0.4395666  0.06125505 0.53821469\n",
            "  0.22778478 0.         0.18377076 0.45116753]\n",
            " [0.23979624 0.20113956 0.32121919 0.51372833 0.17838086 0.58709107\n",
            "  0.41155547 0.18377076 0.         0.58835583]\n",
            " [0.53820815 0.48877144 0.7806946  0.21435139 0.41970949 0.30779112\n",
            "  0.34742568 0.45116753 0.58835583 0.        ]]\n",
            "[[0.         0.58851738 0.94458545 0.17492822 0.97810283 0.61955762\n",
            "  0.46057713 0.68709933 0.55176973 0.28671184]\n",
            " [0.58851738 0.         0.97369865 0.73614556 0.50184014 0.06995252\n",
            "  0.37577091 0.8807615  0.2318566  0.36011269]\n",
            " [0.94458545 0.97369865 0.         0.89505614 0.82508215 0.92454361\n",
            "  0.62706937 0.30858924 0.74184208 0.77865968]\n",
            " [0.17492822 0.73614556 0.89505614 0.         1.07429293 0.75744654\n",
            "  0.52966201 0.60763646 0.65708744 0.39509536]\n",
            " [0.97810283 0.50184014 0.82508215 1.07429293 0.         0.43430817\n",
            "  0.548676   0.90367738 0.42648585 0.69219303]\n",
            " [0.61955762 0.06995252 0.92454361 0.75744654 0.43430817 0.\n",
            "  0.34826602 0.85034242 0.18776941 0.36879183]\n",
            " [0.46057713 0.37577091 0.62706937 0.52966201 0.548676   0.34826602\n",
            "  0.         0.50500039 0.17098316 0.18973929]\n",
            " [0.68709933 0.8807615  0.30858924 0.60763646 0.90367738 0.85034242\n",
            "  0.50500039 0.         0.6646444  0.59427941]\n",
            " [0.55176973 0.2318566  0.74184208 0.65708744 0.42648585 0.18776941\n",
            "  0.17098316 0.6646444  0.         0.26688733]\n",
            " [0.28671184 0.36011269 0.77865968 0.39509536 0.69219303 0.36879183\n",
            "  0.18973929 0.59427941 0.26688733 0.        ]]\n"
          ]
        }
      ]
    },
    {
      "cell_type": "markdown",
      "metadata": {
        "id": "48413134"
      },
      "source": [
        "#### 53. How to convert a float (32 bits) array into an integer (32 bits) in place?"
      ],
      "id": "48413134"
    },
    {
      "cell_type": "code",
      "metadata": {
        "id": "5db64b6d",
        "colab": {
          "base_uri": "https://localhost:8080/"
        },
        "outputId": "ff86f9f0-da19-43c9-cfce-9a7ea8536e3f"
      },
      "source": [
        "A = np.arange(10, dtype=np.float32)\n",
        "A = A.astype(np.int32, copy=False)\n",
        "print(A)"
      ],
      "id": "5db64b6d",
      "execution_count": 84,
      "outputs": [
        {
          "output_type": "stream",
          "name": "stdout",
          "text": [
            "[0 1 2 3 4 5 6 7 8 9]\n"
          ]
        }
      ]
    },
    {
      "cell_type": "markdown",
      "metadata": {
        "id": "0a532633"
      },
      "source": [
        "#### 54. How to read the following file? (★★☆)\n",
        "```\n",
        "1, 2, 3, 4, 5\n",
        "6,  ,  , 7, 8\n",
        " ,  , 9,10,11\n",
        "```"
      ],
      "id": "0a532633"
    },
    {
      "cell_type": "code",
      "metadata": {
        "id": "8af4f753",
        "colab": {
          "base_uri": "https://localhost:8080/"
        },
        "outputId": "da87920e-ab8e-472d-9e71-a74ace45adb9"
      },
      "source": [
        "from io import StringIO\n",
        "\n",
        "# Fake file \n",
        "s = StringIO(\"\"\"1, 2, 3, 4, 5\\n\n",
        "                6,  ,  , 7, 8\\n\n",
        "                 ,  , 9,10,11\\n\"\"\")\n",
        "A = np.genfromtxt(s, delimiter=\",\", dtype=np.int)\n",
        "print(A)"
      ],
      "id": "8af4f753",
      "execution_count": 85,
      "outputs": [
        {
          "output_type": "stream",
          "name": "stdout",
          "text": [
            "[[ 1  2  3  4  5]\n",
            " [ 6 -1 -1  7  8]\n",
            " [-1 -1  9 10 11]]\n"
          ]
        },
        {
          "output_type": "stream",
          "name": "stderr",
          "text": [
            "/usr/local/lib/python3.7/dist-packages/ipykernel_launcher.py:7: DeprecationWarning: `np.int` is a deprecated alias for the builtin `int`. To silence this warning, use `int` by itself. Doing this will not modify any behavior and is safe. When replacing `np.int`, you may wish to use e.g. `np.int64` or `np.int32` to specify the precision. If you wish to review your current use, check the release note link for additional information.\n",
            "Deprecated in NumPy 1.20; for more details and guidance: https://numpy.org/devdocs/release/1.20.0-notes.html#deprecations\n",
            "  import sys\n"
          ]
        }
      ]
    },
    {
      "cell_type": "markdown",
      "metadata": {
        "id": "f98713a6"
      },
      "source": [
        "#### 55. What is the equivalent of enumerate for numpy arrays? (★★☆)"
      ],
      "id": "f98713a6"
    },
    {
      "cell_type": "code",
      "metadata": {
        "id": "64795f84",
        "colab": {
          "base_uri": "https://localhost:8080/"
        },
        "outputId": "1781dab9-27d6-454e-fdc5-33a94bd9a543"
      },
      "source": [
        "A = np.arange(9).reshape(3,3)\n",
        "for index, value in np.ndenumerate(A):\n",
        "    print(index, value)\n",
        "for index in np.ndindex(A.shape):\n",
        "    print(index, A[index])"
      ],
      "id": "64795f84",
      "execution_count": 89,
      "outputs": [
        {
          "output_type": "stream",
          "name": "stdout",
          "text": [
            "(0, 0) 0\n",
            "(0, 1) 1\n",
            "(0, 2) 2\n",
            "(1, 0) 3\n",
            "(1, 1) 4\n",
            "(1, 2) 5\n",
            "(2, 0) 6\n",
            "(2, 1) 7\n",
            "(2, 2) 8\n",
            "(0, 0) 0\n",
            "(0, 1) 1\n",
            "(0, 2) 2\n",
            "(1, 0) 3\n",
            "(1, 1) 4\n",
            "(1, 2) 5\n",
            "(2, 0) 6\n",
            "(2, 1) 7\n",
            "(2, 2) 8\n"
          ]
        }
      ]
    },
    {
      "cell_type": "markdown",
      "metadata": {
        "id": "1abc7cc8"
      },
      "source": [
        "#### 56. Generate a generic 2D Gaussian-like array (★★☆)"
      ],
      "id": "1abc7cc8"
    },
    {
      "cell_type": "code",
      "metadata": {
        "id": "42e3a5bc",
        "colab": {
          "base_uri": "https://localhost:8080/"
        },
        "outputId": "45d64b41-c79a-482a-ac13-b36f3e919cfd"
      },
      "source": [
        "X, Y = np.meshgrid(np.linspace(-1,1,10), np.linspace(-1,1,10))\n",
        "D = np.sqrt(X*X + Y*Y)\n",
        "sigma, mu = 1.0, 0.0\n",
        "G = np.exp(-( (D-mu)**2 / ( 2.0 * sigma**2 ) ) )\n",
        "print(G)"
      ],
      "id": "42e3a5bc",
      "execution_count": 90,
      "outputs": [
        {
          "output_type": "stream",
          "name": "stdout",
          "text": [
            "[[0.36787944 0.44822088 0.51979489 0.57375342 0.60279818 0.60279818\n",
            "  0.57375342 0.51979489 0.44822088 0.36787944]\n",
            " [0.44822088 0.54610814 0.63331324 0.69905581 0.73444367 0.73444367\n",
            "  0.69905581 0.63331324 0.54610814 0.44822088]\n",
            " [0.51979489 0.63331324 0.73444367 0.81068432 0.85172308 0.85172308\n",
            "  0.81068432 0.73444367 0.63331324 0.51979489]\n",
            " [0.57375342 0.69905581 0.81068432 0.89483932 0.9401382  0.9401382\n",
            "  0.89483932 0.81068432 0.69905581 0.57375342]\n",
            " [0.60279818 0.73444367 0.85172308 0.9401382  0.98773022 0.98773022\n",
            "  0.9401382  0.85172308 0.73444367 0.60279818]\n",
            " [0.60279818 0.73444367 0.85172308 0.9401382  0.98773022 0.98773022\n",
            "  0.9401382  0.85172308 0.73444367 0.60279818]\n",
            " [0.57375342 0.69905581 0.81068432 0.89483932 0.9401382  0.9401382\n",
            "  0.89483932 0.81068432 0.69905581 0.57375342]\n",
            " [0.51979489 0.63331324 0.73444367 0.81068432 0.85172308 0.85172308\n",
            "  0.81068432 0.73444367 0.63331324 0.51979489]\n",
            " [0.44822088 0.54610814 0.63331324 0.69905581 0.73444367 0.73444367\n",
            "  0.69905581 0.63331324 0.54610814 0.44822088]\n",
            " [0.36787944 0.44822088 0.51979489 0.57375342 0.60279818 0.60279818\n",
            "  0.57375342 0.51979489 0.44822088 0.36787944]]\n"
          ]
        }
      ]
    },
    {
      "cell_type": "markdown",
      "metadata": {
        "id": "0cf413ee"
      },
      "source": [
        "#### 57. How to randomly place p elements in a 2D array? (★★☆)"
      ],
      "id": "0cf413ee"
    },
    {
      "cell_type": "code",
      "metadata": {
        "id": "dfc57e06",
        "colab": {
          "base_uri": "https://localhost:8080/"
        },
        "outputId": "1db8d7fe-117e-4e19-cea3-c75ed7614682"
      },
      "source": [
        "n = 10\n",
        "p = 3\n",
        "A = np.zeros((n,n))\n",
        "np.put(A, np.random.choice(range(n*n), p, replace=False),1)\n",
        "print(A)"
      ],
      "id": "dfc57e06",
      "execution_count": 91,
      "outputs": [
        {
          "output_type": "stream",
          "name": "stdout",
          "text": [
            "[[0. 0. 0. 0. 0. 0. 0. 0. 0. 0.]\n",
            " [0. 0. 0. 0. 0. 0. 0. 0. 0. 0.]\n",
            " [0. 0. 0. 0. 0. 0. 0. 0. 0. 0.]\n",
            " [0. 0. 0. 0. 0. 0. 0. 0. 0. 0.]\n",
            " [0. 0. 0. 0. 1. 0. 1. 0. 0. 0.]\n",
            " [0. 0. 0. 0. 0. 0. 0. 0. 0. 0.]\n",
            " [0. 0. 0. 0. 0. 0. 0. 0. 0. 0.]\n",
            " [0. 0. 0. 0. 0. 0. 0. 0. 0. 0.]\n",
            " [0. 0. 0. 0. 0. 0. 0. 0. 0. 0.]\n",
            " [1. 0. 0. 0. 0. 0. 0. 0. 0. 0.]]\n"
          ]
        }
      ]
    },
    {
      "cell_type": "markdown",
      "metadata": {
        "id": "215b6acc"
      },
      "source": [
        "#### 58. Subtract the mean of each row of a matrix (★★☆)"
      ],
      "id": "215b6acc"
    },
    {
      "cell_type": "code",
      "metadata": {
        "id": "dd1adef4",
        "colab": {
          "base_uri": "https://localhost:8080/"
        },
        "outputId": "9097b94b-c08b-4195-84f9-ed202e5917a3"
      },
      "source": [
        "A = np.random.rand(5, 10)\n",
        "\n",
        "# Recent versions of numpy\n",
        "B = A - A.mean(axis=1, keepdims=True)\n",
        "\n",
        "# Older versions of numpy\n",
        "B = A - A.mean(axis=1).reshape(-1, 1)\n",
        "\n",
        "print(B)"
      ],
      "id": "dd1adef4",
      "execution_count": 92,
      "outputs": [
        {
          "output_type": "stream",
          "name": "stdout",
          "text": [
            "[[ 0.15797533 -0.36214524  0.21688581 -0.0286641   0.25960724  0.2182287\n",
            "  -0.30445024 -0.06856835 -0.17624723  0.08737809]\n",
            " [ 0.51158827 -0.27782225 -0.22692778  0.21404854 -0.38191301  0.11330722\n",
            "   0.08136276 -0.02829126 -0.03437969  0.0290272 ]\n",
            " [ 0.07674163 -0.08255536 -0.38873213 -0.43188245  0.03053484 -0.23252435\n",
            "   0.45646494  0.12890525  0.39781193  0.04523571]\n",
            " [-0.14373673 -0.27975585 -0.03138156  0.06192418 -0.41710593  0.08005591\n",
            "   0.0326037   0.08954498  0.37679491  0.23105639]\n",
            " [-0.14115978  0.08645798 -0.13035718  0.23370244 -0.33186093  0.05908598\n",
            "   0.44260707 -0.2828995   0.39036524 -0.32594132]]\n"
          ]
        }
      ]
    },
    {
      "cell_type": "markdown",
      "metadata": {
        "id": "c0cf37e0"
      },
      "source": [
        "#### 59. How to sort an array by the nth column? (★★☆)"
      ],
      "id": "c0cf37e0"
    },
    {
      "cell_type": "code",
      "metadata": {
        "id": "9336ca5f",
        "colab": {
          "base_uri": "https://localhost:8080/"
        },
        "outputId": "c6b59e2b-f878-40c0-a4a3-e24bc067a44f"
      },
      "source": [
        "A = np.random.randint(0,10,(3,3))\n",
        "print(A)\n",
        "print(A[A[:,1].argsort()])"
      ],
      "id": "9336ca5f",
      "execution_count": 93,
      "outputs": [
        {
          "output_type": "stream",
          "name": "stdout",
          "text": [
            "[[8 3 7]\n",
            " [0 6 8]\n",
            " [1 7 5]]\n",
            "[[8 3 7]\n",
            " [0 6 8]\n",
            " [1 7 5]]\n"
          ]
        }
      ]
    },
    {
      "cell_type": "markdown",
      "metadata": {
        "id": "c17fb213"
      },
      "source": [
        "#### 60. How to tell if a given 2D array has null columns? (★★☆)"
      ],
      "id": "c17fb213"
    },
    {
      "cell_type": "code",
      "metadata": {
        "id": "7fdda78d",
        "colab": {
          "base_uri": "https://localhost:8080/"
        },
        "outputId": "34dfaf39-8f7e-4226-f901-107ca3a0d692"
      },
      "source": [
        "A = np.random.randint(0,3,(3,10))\n",
        "print((~A.any(axis=0)).any())"
      ],
      "id": "7fdda78d",
      "execution_count": 94,
      "outputs": [
        {
          "output_type": "stream",
          "name": "stdout",
          "text": [
            "True\n"
          ]
        }
      ]
    },
    {
      "cell_type": "markdown",
      "metadata": {
        "id": "8aaab886"
      },
      "source": [
        "#### 61. Find the nearest value from a given value in an array (★★☆)"
      ],
      "id": "8aaab886"
    },
    {
      "cell_type": "code",
      "metadata": {
        "id": "973f8079",
        "colab": {
          "base_uri": "https://localhost:8080/"
        },
        "outputId": "46118f3d-9ac4-4e9d-e11a-94c4a86ba890"
      },
      "source": [
        "A = np.random.uniform(0,1,10)\n",
        "a = 0.5\n",
        "m = A.flat[np.abs(A - a).argmin()]\n",
        "print(m)"
      ],
      "id": "973f8079",
      "execution_count": 96,
      "outputs": [
        {
          "output_type": "stream",
          "name": "stdout",
          "text": [
            "0.6134553206173734\n"
          ]
        }
      ]
    },
    {
      "cell_type": "markdown",
      "metadata": {
        "id": "66a04e2e"
      },
      "source": [
        "#### 62. Considering two arrays with shape (1,3) and (3,1), how to compute their sum using an iterator? (★★☆)"
      ],
      "id": "66a04e2e"
    },
    {
      "cell_type": "code",
      "metadata": {
        "id": "4b356632",
        "colab": {
          "base_uri": "https://localhost:8080/"
        },
        "outputId": "706ee3fb-fb0c-4b86-8218-ee3143da8948"
      },
      "source": [
        "A = np.arange(3).reshape(3,1)\n",
        "B = np.arange(3).reshape(1,3)\n",
        "it = np.nditer([A,B,None])\n",
        "\n",
        "for x,y,z in it: z[...] = x + y\n",
        "print(it.operands[2])"
      ],
      "id": "4b356632",
      "execution_count": 97,
      "outputs": [
        {
          "output_type": "stream",
          "name": "stdout",
          "text": [
            "[[0 1 2]\n",
            " [1 2 3]\n",
            " [2 3 4]]\n"
          ]
        }
      ]
    },
    {
      "cell_type": "markdown",
      "metadata": {
        "id": "f4427f7f"
      },
      "source": [
        "#### 63. Create an array class that has a name attribute (★★☆)"
      ],
      "id": "f4427f7f"
    },
    {
      "cell_type": "code",
      "metadata": {
        "id": "fe253212",
        "colab": {
          "base_uri": "https://localhost:8080/"
        },
        "outputId": "7da1c3b7-b2db-48b0-bd71-18a9aa037105"
      },
      "source": [
        "class NamedArray(np.ndarray):\n",
        "    def __new__(cls, array, name=\"no name\"):\n",
        "        obj = np.asarray(array).view(cls)\n",
        "        obj.name = name\n",
        "        return obj\n",
        "    def __array_finalize__(self, obj):\n",
        "        if obj is None: return\n",
        "        self.info = getattr(obj, 'name', \"no name\")\n",
        "\n",
        "A = NamedArray(np.arange(10), \"range_10\")\n",
        "print(A.name)"
      ],
      "id": "fe253212",
      "execution_count": 98,
      "outputs": [
        {
          "output_type": "stream",
          "name": "stdout",
          "text": [
            "range_10\n"
          ]
        }
      ]
    },
    {
      "cell_type": "markdown",
      "metadata": {
        "id": "58be9dd4"
      },
      "source": [
        "#### 64. Consider a given vector, how to add 1 to each element indexed by a second vector (be careful with repeated indices)? (★★★)"
      ],
      "id": "58be9dd4"
    },
    {
      "cell_type": "code",
      "metadata": {
        "id": "5c8bae42",
        "colab": {
          "base_uri": "https://localhost:8080/"
        },
        "outputId": "9717d12e-cfde-4259-807f-315c58dc9899"
      },
      "source": [
        "A = np.ones(10)\n",
        "I = np.random.randint(0,len(A),20)\n",
        "A += np.bincount(I, minlength=len(A))\n",
        "print(A)"
      ],
      "id": "5c8bae42",
      "execution_count": 99,
      "outputs": [
        {
          "output_type": "stream",
          "name": "stdout",
          "text": [
            "[5. 2. 4. 3. 1. 3. 2. 1. 4. 5.]\n"
          ]
        }
      ]
    },
    {
      "cell_type": "markdown",
      "metadata": {
        "id": "7348abd0"
      },
      "source": [
        "#### 65. How to accumulate elements of a vector (X) to an array (F) based on an index list (I)? (★★★)"
      ],
      "id": "7348abd0"
    },
    {
      "cell_type": "code",
      "metadata": {
        "id": "b3e33a5a",
        "colab": {
          "base_uri": "https://localhost:8080/"
        },
        "outputId": "855ca04c-d28d-4cc6-f08a-a4b23fddcadd"
      },
      "source": [
        "X = [1,2,3,4,5,6]\n",
        "I = [1,3,9,3,4,1]\n",
        "\n",
        "F = np.bincount(I,X)\n",
        "print(F)"
      ],
      "id": "b3e33a5a",
      "execution_count": 101,
      "outputs": [
        {
          "output_type": "stream",
          "name": "stdout",
          "text": [
            "[0. 7. 0. 6. 5. 0. 0. 0. 0. 3.]\n"
          ]
        }
      ]
    },
    {
      "cell_type": "markdown",
      "metadata": {
        "id": "538e651c"
      },
      "source": [
        "#### 66. Considering a (w,h,3) image of (dtype=ubyte), compute the number of unique colors (★★☆)"
      ],
      "id": "538e651c"
    },
    {
      "cell_type": "code",
      "metadata": {
        "id": "57f2f02f",
        "colab": {
          "base_uri": "https://localhost:8080/"
        },
        "outputId": "902a5f3f-c062-456a-f6e6-63fb272c15ae"
      },
      "source": [
        "w,h = 16,16\n",
        "I = np.random.randint(0,2,(h,w,3)).astype(np.ubyte)\n",
        "#Note that we should compute 256*256 first. \n",
        "#Otherwise numpy will only promote F.dtype to 'uint16' and overfolw will occur\n",
        "F = I[...,0]*(256*256) + I[...,1]*256 +I[...,2]\n",
        "n = len(np.unique(F))\n",
        "print(n)"
      ],
      "id": "57f2f02f",
      "execution_count": 102,
      "outputs": [
        {
          "output_type": "stream",
          "name": "stdout",
          "text": [
            "8\n"
          ]
        }
      ]
    }
  ]
}
