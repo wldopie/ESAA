{
  "nbformat": 4,
  "nbformat_minor": 0,
  "metadata": {
    "colab": {
      "provenance": [],
      "authorship_tag": "ABX9TyOA/XcMRrE2h827uAloPEHA",
      "include_colab_link": true
    },
    "kernelspec": {
      "name": "python3",
      "display_name": "Python 3"
    },
    "language_info": {
      "name": "python"
    }
  },
  "cells": [
    {
      "cell_type": "markdown",
      "metadata": {
        "id": "view-in-github",
        "colab_type": "text"
      },
      "source": [
        "<a href=\"https://colab.research.google.com/github/wldopie/ESAA/blob/main/HW_221125.ipynb\" target=\"_parent\"><img src=\"https://colab.research.google.com/assets/colab-badge.svg\" alt=\"Open In Colab\"/></a>"
      ]
    },
    {
      "cell_type": "markdown",
      "source": [
        "# **Chap 3. 케라스 (Keras)**\n",
        "\n",
        "---\n",
        "\n",
        "\n"
      ],
      "metadata": {
        "id": "sJII4pnau-CJ"
      }
    },
    {
      "cell_type": "markdown",
      "source": [
        "## **1. 딥러닝 준비**"
      ],
      "metadata": {
        "id": "Hk4Ve2ztvDhZ"
      }
    },
    {
      "cell_type": "markdown",
      "source": [
        "### **1.1 주요 용어**"
      ],
      "metadata": {
        "id": "Bb60-tYFvPYq"
      }
    },
    {
      "cell_type": "markdown",
      "source": [
        "> 하이퍼파라미터 (hyper-parameter)"
      ],
      "metadata": {
        "id": "2NOi0RU_vcMb"
      }
    },
    {
      "cell_type": "markdown",
      "source": [
        "  - `하이퍼파라미터`\n",
        "    - 머신러닝 모델을 훈련할 때 사용자가 직접 설정해주는 설정 값\n",
        "    - 학습 속도, 반복 훈련 횟수 등\n",
        "\n",
        "  - 하이퍼 파라미터 튜닝\n",
        "    - 하이퍼파라미터의 값을 조절하는 행위"
      ],
      "metadata": {
        "id": "68AZxlJLzGOt"
      }
    },
    {
      "cell_type": "markdown",
      "source": [
        "> 과소적합 vs. 과대적합 (underfitting vs. overfitting)"
      ],
      "metadata": {
        "id": "tVti5QHRvfnv"
      }
    },
    {
      "cell_type": "markdown",
      "source": [
        "  - `과소적합` (underfitting)\n",
        "    - 모델이 `충분히 학습되지 않은` 경우\n",
        "\n",
        "  - `과대적합` (overfitting)\n",
        "    - 학습 데이터를 `지나치게 반복 학습하여 과하게 적합`된 상태\n",
        "    - 이 경우 훈련 데이터에 존재하는 불필요한 노이즈까지 과도하게 모델에 반영되어 주어진 훈련 데이터에 대한 예측 성능은 좋지만, 정작 예측 데이터에 대한 예측 오차가 발생할 확률이 커진다.\n",
        "\n",
        "  - 해결 방법\n",
        "    1. 훈련 데이터와 예측 데이터의 분포가 동일하도록 구성한다.\n",
        "    2. 불필요한 노이즈는 데이터 분석 및 전처리를 통해 해소한다.\n",
        "    3. 훈련 데이터의 일부를 검증 데이터로 사용해 검증 성능이 가장 좋은 구간을 모델의 가장 이상적인 학습된 지점이라 판단하여 최종 모델을 결정한다."
      ],
      "metadata": {
        "id": "Tt3L34JjzHLA"
      }
    },
    {
      "cell_type": "markdown",
      "source": [
        "> 에포크 (epoch)"
      ],
      "metadata": {
        "id": "9Bmfv4B2vkrQ"
      }
    },
    {
      "cell_type": "markdown",
      "source": [
        "  - 딥러닝은 데이터셋을 학습하는 과정을 여러 번 반복하면서 최적의 모델 가중치를 찾는 과정이다.\n",
        "  - 에포크 (epoch)\n",
        "    - 딥러닝 모델이 반복 훈련을 할 때 데이터셋을 전부 학습에 사용하는 1회의 훈련 루프"
      ],
      "metadata": {
        "id": "P2Qpxffh0Da1"
      }
    },
    {
      "cell_type": "markdown",
      "source": [
        "> 손실함수 (loss function)"
      ],
      "metadata": {
        "id": "XZrSVI46vmiq"
      }
    },
    {
      "cell_type": "markdown",
      "source": [
        "  - 손실함수\n",
        "    - 예측 값과 정답 값의 차이 또는 오차\n",
        "\n",
        "  - 지도 학습의 `분류`\n",
        "    - `이진 분류` (binary classification) : `binary_crossentropy` 손실함수를 사용, 출력층의 `활성화 함수`는 `sigmoid`\n",
        "    - `다중 분류` (multi-class classification)\n",
        "      1. 정답 클래스가 `원핫 벡터`인 경우\n",
        "        - `categorical_crossentropy` 손실함수를 사용\n",
        "      2. 정답 클래스가 `원핫 벡터가 아닌` 경우\n",
        "        - `sparse_categorical_crossentropy` 손실함수를 사용\n",
        "      - 두 경우 모두 출력층의 `활성함수`로 `softmax`를 사용\n",
        "\n",
        "  - 지도 학습의 `회귀`\n",
        "    - MSE, MAE, Huber 등\n"
      ],
      "metadata": {
        "id": "dI1iLNmA0Rja"
      }
    },
    {
      "cell_type": "code",
      "source": [
        "# 예시\n",
        "import tensorflow as tf\n",
        "\n",
        "# 클래스\n",
        "tf.keras.losses.BinaryCrossentropy()\n",
        "\n",
        "# 함수\n",
        "tf.keras.losses.binary_crossentropy"
      ],
      "metadata": {
        "colab": {
          "base_uri": "https://localhost:8080/"
        },
        "id": "VBS-bDoFvpXe",
        "outputId": "d28451b3-f774-40d5-c92f-43465043bc9e"
      },
      "execution_count": 1,
      "outputs": [
        {
          "output_type": "execute_result",
          "data": {
            "text/plain": [
              "<function keras.losses.binary_crossentropy(y_true, y_pred, from_logits=False, label_smoothing=0.0, axis=-1)>"
            ]
          },
          "metadata": {},
          "execution_count": 1
        }
      ]
    },
    {
      "cell_type": "markdown",
      "source": [
        "> 경사하강법 (gradient descent)"
      ],
      "metadata": {
        "id": "kvOeG-rtvqSH"
      }
    },
    {
      "cell_type": "markdown",
      "source": [
        "  - 경사하강법\n",
        "    - 딥러닝 모델을 훈련할 때, 모델 내부의 가중치에 대한 미분 값을 구하고 목적 함수 값이 낮아지는 방향으로 차감하면서 결국 최소 함수 값을 갖도록 하는 방법"
      ],
      "metadata": {
        "id": "Kar0kQ9_2DeC"
      }
    },
    {
      "cell_type": "code",
      "source": [],
      "metadata": {
        "id": "adRVRu8bvs2g"
      },
      "execution_count": null,
      "outputs": []
    },
    {
      "cell_type": "markdown",
      "source": [
        "### **1.2 딥러닝 프로세스**"
      ],
      "metadata": {
        "id": "VCu6GUsCvvXp"
      }
    },
    {
      "cell_type": "markdown",
      "source": [
        "> 데이터 전처리"
      ],
      "metadata": {
        "id": "b7OzS0JXvzI1"
      }
    },
    {
      "cell_type": "markdown",
      "source": [
        "> 모델 생성"
      ],
      "metadata": {
        "id": "D95LnH6nv0uM"
      }
    },
    {
      "cell_type": "markdown",
      "source": [
        "> 모델 컴파일"
      ],
      "metadata": {
        "id": "iXm4bDuxv2TV"
      }
    },
    {
      "cell_type": "markdown",
      "source": [
        "> 모델 훈련"
      ],
      "metadata": {
        "id": "xnUwMM5Kv3OS"
      }
    },
    {
      "cell_type": "markdown",
      "source": [
        "> 모델 검증"
      ],
      "metadata": {
        "id": "JjeGWVxIv4bY"
      }
    },
    {
      "cell_type": "markdown",
      "source": [
        "> 모델 예측"
      ],
      "metadata": {
        "id": "odFwWVyNv5Uy"
      }
    },
    {
      "cell_type": "markdown",
      "source": [
        "---"
      ],
      "metadata": {
        "id": "VK22HYscwJzs"
      }
    },
    {
      "cell_type": "markdown",
      "source": [
        "## **2. 단순 신경망 훈련**"
      ],
      "metadata": {
        "id": "6pMbBOUGv8hK"
      }
    },
    {
      "cell_type": "markdown",
      "source": [
        "### **2.1 선형회귀**"
      ],
      "metadata": {
        "id": "mdzuCeefv_H8"
      }
    },
    {
      "cell_type": "markdown",
      "source": [
        "### **2.2 뉴런 (Neuron)**"
      ],
      "metadata": {
        "id": "RRneN8UawBpk"
      }
    },
    {
      "cell_type": "markdown",
      "source": [
        "### **2.3 Dense 레이어**"
      ],
      "metadata": {
        "id": "AZRhdp7VwEsl"
      }
    },
    {
      "cell_type": "code",
      "source": [],
      "metadata": {
        "id": "fiw77qxywMUe"
      },
      "execution_count": null,
      "outputs": []
    },
    {
      "cell_type": "markdown",
      "source": [
        "### **2.4 데이터셋 만들기**"
      ],
      "metadata": {
        "id": "jsDfLYx-wM8M"
      }
    },
    {
      "cell_type": "code",
      "source": [],
      "metadata": {
        "id": "uJM2P-CzwQ36"
      },
      "execution_count": null,
      "outputs": []
    },
    {
      "cell_type": "markdown",
      "source": [
        "### **2.5 Sequential API**"
      ],
      "metadata": {
        "id": "hcfE5QNgwTmR"
      }
    },
    {
      "cell_type": "markdown",
      "source": [
        "> 모델 구조"
      ],
      "metadata": {
        "id": "7fzbBL69wWYg"
      }
    },
    {
      "cell_type": "code",
      "source": [],
      "metadata": {
        "id": "OK0iAEGFwY8y"
      },
      "execution_count": null,
      "outputs": []
    },
    {
      "cell_type": "markdown",
      "source": [
        "> 입력 데이터 형태"
      ],
      "metadata": {
        "id": "bXPsi9PTwZwK"
      }
    },
    {
      "cell_type": "code",
      "source": [],
      "metadata": {
        "id": "jF5Tmfjiwa22"
      },
      "execution_count": null,
      "outputs": []
    },
    {
      "cell_type": "markdown",
      "source": [
        "> 단순선형회귀 모델 정의"
      ],
      "metadata": {
        "id": "D8QNiqfuwb7J"
      }
    },
    {
      "cell_type": "code",
      "source": [],
      "metadata": {
        "id": "9JFt6tZxwc-A"
      },
      "execution_count": null,
      "outputs": []
    },
    {
      "cell_type": "markdown",
      "source": [
        "### **2.6 모델 요약**"
      ],
      "metadata": {
        "id": "_Cr_cvGQwdnw"
      }
    },
    {
      "cell_type": "markdown",
      "source": [
        "### **2.7 컴파일**"
      ],
      "metadata": {
        "id": "jXM2ATgewgXp"
      }
    },
    {
      "cell_type": "code",
      "source": [],
      "metadata": {
        "id": "lTSmHAtIwiwb"
      },
      "execution_count": null,
      "outputs": []
    },
    {
      "cell_type": "markdown",
      "source": [
        "### **2.8 훈련**"
      ],
      "metadata": {
        "id": "3dF4XEafwj4u"
      }
    },
    {
      "cell_type": "code",
      "source": [],
      "metadata": {
        "id": "GJQxJPlJwnLW"
      },
      "execution_count": null,
      "outputs": []
    },
    {
      "cell_type": "markdown",
      "source": [
        "### **2.9 검증**"
      ],
      "metadata": {
        "id": "4RF1KUuswoV1"
      }
    },
    {
      "cell_type": "code",
      "source": [],
      "metadata": {
        "id": "vEdHUNixwqAj"
      },
      "execution_count": null,
      "outputs": []
    },
    {
      "cell_type": "markdown",
      "source": [
        "### **2.10 예측**"
      ],
      "metadata": {
        "id": "Vrt8B184wqvK"
      }
    },
    {
      "cell_type": "code",
      "source": [],
      "metadata": {
        "id": "zwg7D-Dpws5T"
      },
      "execution_count": null,
      "outputs": []
    },
    {
      "cell_type": "markdown",
      "source": [
        "---"
      ],
      "metadata": {
        "id": "RCjbpvxiwufF"
      }
    },
    {
      "cell_type": "markdown",
      "source": [
        "## **3. 심층 신경망으로 이미지 분류**"
      ],
      "metadata": {
        "id": "uRNIyX3PwyHG"
      }
    },
    {
      "cell_type": "markdown",
      "source": [
        "### **3.1 케라스 내장 데이터셋 로드**"
      ],
      "metadata": {
        "id": "JymhdSHWw0tw"
      }
    },
    {
      "cell_type": "code",
      "source": [],
      "metadata": {
        "id": "sDQZpDWLwu4r"
      },
      "execution_count": null,
      "outputs": []
    },
    {
      "cell_type": "markdown",
      "source": [
        "### **3.2 데이터 전처리**"
      ],
      "metadata": {
        "id": "v8yPey3Tw38-"
      }
    },
    {
      "cell_type": "code",
      "source": [],
      "metadata": {
        "id": "TKMk58O3w6MG"
      },
      "execution_count": null,
      "outputs": []
    },
    {
      "cell_type": "markdown",
      "source": [
        "### **3.3 Flatten 레이어**"
      ],
      "metadata": {
        "id": "tGIyubYZw6lY"
      }
    },
    {
      "cell_type": "code",
      "source": [],
      "metadata": {
        "id": "Qa8ZWJF5w9BQ"
      },
      "execution_count": null,
      "outputs": []
    },
    {
      "cell_type": "markdown",
      "source": [
        "### **3.4 활성화 함수**"
      ],
      "metadata": {
        "id": "rad93wMEw9qx"
      }
    },
    {
      "cell_type": "code",
      "source": [],
      "metadata": {
        "id": "KyfvHB5axAfw"
      },
      "execution_count": null,
      "outputs": []
    },
    {
      "cell_type": "markdown",
      "source": [
        "### **3.5 입력과 출력**"
      ],
      "metadata": {
        "id": "U0gegQpjxBBZ"
      }
    },
    {
      "cell_type": "code",
      "source": [],
      "metadata": {
        "id": "LcEgnLCAxDJ6"
      },
      "execution_count": null,
      "outputs": []
    },
    {
      "cell_type": "markdown",
      "source": [
        "### **3.6 손실함수**"
      ],
      "metadata": {
        "id": "0bC9ur3LxDuN"
      }
    },
    {
      "cell_type": "code",
      "source": [],
      "metadata": {
        "id": "IET8SvKyxHOb"
      },
      "execution_count": null,
      "outputs": []
    },
    {
      "cell_type": "markdown",
      "source": [
        "### **3.7 옵티마이저**"
      ],
      "metadata": {
        "id": "YK9NVDv4xGRm"
      }
    },
    {
      "cell_type": "code",
      "source": [],
      "metadata": {
        "id": "b1vFw6TwxlFY"
      },
      "execution_count": null,
      "outputs": []
    },
    {
      "cell_type": "markdown",
      "source": [
        "### **3.8 평가지표**"
      ],
      "metadata": {
        "id": "Tpl5FWaJxliK"
      }
    },
    {
      "cell_type": "code",
      "source": [],
      "metadata": {
        "id": "1ORzA5Lvxnem"
      },
      "execution_count": null,
      "outputs": []
    },
    {
      "cell_type": "markdown",
      "source": [
        "### **3.9 훈련**"
      ],
      "metadata": {
        "id": "DsjopnyoxoBy"
      }
    },
    {
      "cell_type": "code",
      "source": [],
      "metadata": {
        "id": "dhlYT9EHxv2-"
      },
      "execution_count": null,
      "outputs": []
    },
    {
      "cell_type": "markdown",
      "source": [
        "### **3.10 평가**"
      ],
      "metadata": {
        "id": "U6vcwHnzxwjf"
      }
    },
    {
      "cell_type": "code",
      "source": [],
      "metadata": {
        "id": "d9Cl8puXxyd6"
      },
      "execution_count": null,
      "outputs": []
    },
    {
      "cell_type": "markdown",
      "source": [
        "### **3.11 예측**"
      ],
      "metadata": {
        "id": "OUolttHExzBh"
      }
    },
    {
      "cell_type": "code",
      "source": [],
      "metadata": {
        "id": "CoKTmeqEx0fp"
      },
      "execution_count": null,
      "outputs": []
    },
    {
      "cell_type": "markdown",
      "source": [
        "---"
      ],
      "metadata": {
        "id": "bH3BKKDZx1oh"
      }
    },
    {
      "cell_type": "markdown",
      "source": [
        "## **4. 모델 세부 설정** "
      ],
      "metadata": {
        "id": "w7bwk4Jxx2Ka"
      }
    },
    {
      "cell_type": "code",
      "source": [],
      "metadata": {
        "id": "YpKFhfx9x14Q"
      },
      "execution_count": null,
      "outputs": []
    },
    {
      "cell_type": "markdown",
      "source": [
        "### **4.1 초기값 설정**"
      ],
      "metadata": {
        "id": "mN8PD162x9HF"
      }
    },
    {
      "cell_type": "code",
      "source": [],
      "metadata": {
        "id": "ccegIxjLx_L5"
      },
      "execution_count": null,
      "outputs": []
    },
    {
      "cell_type": "markdown",
      "source": [
        "### **4.2 규제 (Regularization)**"
      ],
      "metadata": {
        "id": "tiPYffnpx_7V"
      }
    },
    {
      "cell_type": "code",
      "source": [],
      "metadata": {
        "id": "Ygg5XYFQyDeg"
      },
      "execution_count": null,
      "outputs": []
    },
    {
      "cell_type": "markdown",
      "source": [
        "### **4.3 드롭아웃 (Dropout)**"
      ],
      "metadata": {
        "id": "oaUhNilgyEQp"
      }
    },
    {
      "cell_type": "code",
      "source": [],
      "metadata": {
        "id": "u1_W_0BeyHVH"
      },
      "execution_count": null,
      "outputs": []
    },
    {
      "cell_type": "markdown",
      "source": [
        "### **4.4 배치 정규화 (Batch Normalization)**"
      ],
      "metadata": {
        "id": "B4qc1R1-yHlH"
      }
    },
    {
      "cell_type": "code",
      "source": [],
      "metadata": {
        "id": "XLew2K_ryK3n"
      },
      "execution_count": null,
      "outputs": []
    },
    {
      "cell_type": "markdown",
      "source": [
        "### **4.5 활성화 함수**"
      ],
      "metadata": {
        "id": "XWo2ma9VyMBp"
      }
    },
    {
      "cell_type": "code",
      "source": [],
      "metadata": {
        "id": "bve4yFaqyN9N"
      },
      "execution_count": null,
      "outputs": []
    }
  ]
}