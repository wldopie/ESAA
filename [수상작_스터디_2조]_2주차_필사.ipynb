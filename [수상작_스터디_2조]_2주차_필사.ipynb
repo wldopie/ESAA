{
  "nbformat": 4,
  "nbformat_minor": 0,
  "metadata": {
    "colab": {
      "provenance": [],
      "authorship_tag": "ABX9TyOvpTiDINR6jRARRraK/J0x",
      "include_colab_link": true
    },
    "kernelspec": {
      "name": "python3",
      "display_name": "Python 3"
    },
    "language_info": {
      "name": "python"
    },
    "accelerator": "GPU",
    "gpuClass": "standard"
  },
  "cells": [
    {
      "cell_type": "markdown",
      "metadata": {
        "id": "view-in-github",
        "colab_type": "text"
      },
      "source": [
        "<a href=\"https://colab.research.google.com/github/wldopie/ESAA/blob/main/%5B%EC%88%98%EC%83%81%EC%9E%91_%EC%8A%A4%ED%84%B0%EB%94%94_2%EC%A1%B0%5D_2%EC%A3%BC%EC%B0%A8_%ED%95%84%EC%82%AC.ipynb\" target=\"_parent\"><img src=\"https://colab.research.google.com/assets/colab-badge.svg\" alt=\"Open In Colab\"/></a>"
      ]
    },
    {
      "cell_type": "markdown",
      "source": [
        "# **월간 데이콘 소설 작가 분류 AI 경진대회**\n",
        "> 링크 : https://dacon.io/codeshare/2357?page=1&dtype=recent"
      ],
      "metadata": {
        "id": "WWTMft4ldVts"
      }
    },
    {
      "cell_type": "markdown",
      "source": [
        "---"
      ],
      "metadata": {
        "id": "qJ7BGnLwdfKA"
      }
    },
    {
      "cell_type": "markdown",
      "source": [
        "## **0. 라이브러리 임포트**"
      ],
      "metadata": {
        "id": "sMaAITGBdgt2"
      }
    },
    {
      "cell_type": "code",
      "execution_count": 1,
      "metadata": {
        "colab": {
          "base_uri": "https://localhost:8080/"
        },
        "id": "LsZ8yA1NcmXt",
        "outputId": "473129fe-2995-490c-ef15-8505c18fe8af"
      },
      "outputs": [
        {
          "output_type": "stream",
          "name": "stdout",
          "text": [
            "Mounted at /content/drive\n"
          ]
        }
      ],
      "source": [
        "from google.colab import drive\n",
        "drive.mount('/content/drive')"
      ]
    },
    {
      "cell_type": "code",
      "source": [
        "import pandas as pd\n",
        "import numpy as np\n",
        "import re\n",
        "\n",
        "import seaborn as sns\n",
        "import matplotlib.pyplot as plt\n",
        "\n",
        "from sklearn.metrics import accuracy_score, log_loss\n",
        "from sklearn.model_selection import StratifiedKFold\n",
        "\n",
        "import tensorflow as tf\n",
        "from tensorflow.keras import Sequential\n",
        "from tensorflow.keras.layers import Dense, Embedding, LSTM, Dropout, Bidirectional\n",
        "from tensorflow.keras.preprocessing.sequence import pad_sequences\n",
        "from tensorflow.keras.preprocessing.text import Tokenizer\n",
        "from tensorflow.keras.callbacks import EarlyStopping, ReduceLROnPlateau\n",
        "from tensorflow.keras.utils import plot_model, to_categorical\n",
        "from tensorflow.keras.optimizers import Adam\n",
        "\n",
        "from keras.utils import np_utils\n",
        "\n",
        "import warnings \n",
        "warnings.filterwarnings(action='ignore')"
      ],
      "metadata": {
        "id": "lbZTuUI6dU_M"
      },
      "execution_count": 2,
      "outputs": []
    },
    {
      "cell_type": "markdown",
      "source": [
        "---"
      ],
      "metadata": {
        "id": "-zhL6WHTdnrZ"
      }
    },
    {
      "cell_type": "markdown",
      "source": [
        "## **1. NLP Preprocessing**"
      ],
      "metadata": {
        "id": "9y-4fI5pdoYo"
      }
    },
    {
      "cell_type": "markdown",
      "source": [
        "### **1.1 데이터 불러오기**"
      ],
      "metadata": {
        "id": "rDYeUdeUdqnZ"
      }
    },
    {
      "cell_type": "code",
      "source": [
        "# 압축파일 해제\n",
        "!unzip -qq '/content/drive/MyDrive/[22-2] ESAA 스터디/235670_소설 작가 분류 AI 경진대회_data.zip'"
      ],
      "metadata": {
        "id": "gz02pEQTdwFF"
      },
      "execution_count": 3,
      "outputs": []
    },
    {
      "cell_type": "code",
      "source": [
        "# train 데이터 불러오기\n",
        "train = pd.read_csv('/content/train.csv')\n",
        "train"
      ],
      "metadata": {
        "colab": {
          "base_uri": "https://localhost:8080/",
          "height": 423
        },
        "id": "_pmHN6R7doFZ",
        "outputId": "1baba819-3cbf-4a64-b205-2fea574f1474"
      },
      "execution_count": 4,
      "outputs": [
        {
          "output_type": "execute_result",
          "data": {
            "text/plain": [
              "       index                                               text  author\n",
              "0          0  He was almost choking. There was so much, so m...       3\n",
              "1          1             “Your sister asked for it, I suppose?”       2\n",
              "2          2   She was engaged one day as she walked, in per...       1\n",
              "3          3  The captain was in the porch, keeping himself ...       4\n",
              "4          4  “Have mercy, gentlemen!” odin flung up his han...       3\n",
              "...      ...                                                ...     ...\n",
              "54874  54874  “Is that you, Mr. Smith?” odin whispered. “I h...       2\n",
              "54875  54875  I told my plan to the captain, and between us ...       4\n",
              "54876  54876   \"Your sincere well-wisher, friend, and sister...       1\n",
              "54877  54877            “Then you wanted me to lend you money?”       3\n",
              "54878  54878  It certainly had not occurred to me before, bu...       0\n",
              "\n",
              "[54879 rows x 3 columns]"
            ],
            "text/html": [
              "\n",
              "  <div id=\"df-4724a298-d72f-4ef3-9df1-4cecafcbe122\">\n",
              "    <div class=\"colab-df-container\">\n",
              "      <div>\n",
              "<style scoped>\n",
              "    .dataframe tbody tr th:only-of-type {\n",
              "        vertical-align: middle;\n",
              "    }\n",
              "\n",
              "    .dataframe tbody tr th {\n",
              "        vertical-align: top;\n",
              "    }\n",
              "\n",
              "    .dataframe thead th {\n",
              "        text-align: right;\n",
              "    }\n",
              "</style>\n",
              "<table border=\"1\" class=\"dataframe\">\n",
              "  <thead>\n",
              "    <tr style=\"text-align: right;\">\n",
              "      <th></th>\n",
              "      <th>index</th>\n",
              "      <th>text</th>\n",
              "      <th>author</th>\n",
              "    </tr>\n",
              "  </thead>\n",
              "  <tbody>\n",
              "    <tr>\n",
              "      <th>0</th>\n",
              "      <td>0</td>\n",
              "      <td>He was almost choking. There was so much, so m...</td>\n",
              "      <td>3</td>\n",
              "    </tr>\n",
              "    <tr>\n",
              "      <th>1</th>\n",
              "      <td>1</td>\n",
              "      <td>“Your sister asked for it, I suppose?”</td>\n",
              "      <td>2</td>\n",
              "    </tr>\n",
              "    <tr>\n",
              "      <th>2</th>\n",
              "      <td>2</td>\n",
              "      <td>She was engaged one day as she walked, in per...</td>\n",
              "      <td>1</td>\n",
              "    </tr>\n",
              "    <tr>\n",
              "      <th>3</th>\n",
              "      <td>3</td>\n",
              "      <td>The captain was in the porch, keeping himself ...</td>\n",
              "      <td>4</td>\n",
              "    </tr>\n",
              "    <tr>\n",
              "      <th>4</th>\n",
              "      <td>4</td>\n",
              "      <td>“Have mercy, gentlemen!” odin flung up his han...</td>\n",
              "      <td>3</td>\n",
              "    </tr>\n",
              "    <tr>\n",
              "      <th>...</th>\n",
              "      <td>...</td>\n",
              "      <td>...</td>\n",
              "      <td>...</td>\n",
              "    </tr>\n",
              "    <tr>\n",
              "      <th>54874</th>\n",
              "      <td>54874</td>\n",
              "      <td>“Is that you, Mr. Smith?” odin whispered. “I h...</td>\n",
              "      <td>2</td>\n",
              "    </tr>\n",
              "    <tr>\n",
              "      <th>54875</th>\n",
              "      <td>54875</td>\n",
              "      <td>I told my plan to the captain, and between us ...</td>\n",
              "      <td>4</td>\n",
              "    </tr>\n",
              "    <tr>\n",
              "      <th>54876</th>\n",
              "      <td>54876</td>\n",
              "      <td>\"Your sincere well-wisher, friend, and sister...</td>\n",
              "      <td>1</td>\n",
              "    </tr>\n",
              "    <tr>\n",
              "      <th>54877</th>\n",
              "      <td>54877</td>\n",
              "      <td>“Then you wanted me to lend you money?”</td>\n",
              "      <td>3</td>\n",
              "    </tr>\n",
              "    <tr>\n",
              "      <th>54878</th>\n",
              "      <td>54878</td>\n",
              "      <td>It certainly had not occurred to me before, bu...</td>\n",
              "      <td>0</td>\n",
              "    </tr>\n",
              "  </tbody>\n",
              "</table>\n",
              "<p>54879 rows × 3 columns</p>\n",
              "</div>\n",
              "      <button class=\"colab-df-convert\" onclick=\"convertToInteractive('df-4724a298-d72f-4ef3-9df1-4cecafcbe122')\"\n",
              "              title=\"Convert this dataframe to an interactive table.\"\n",
              "              style=\"display:none;\">\n",
              "        \n",
              "  <svg xmlns=\"http://www.w3.org/2000/svg\" height=\"24px\"viewBox=\"0 0 24 24\"\n",
              "       width=\"24px\">\n",
              "    <path d=\"M0 0h24v24H0V0z\" fill=\"none\"/>\n",
              "    <path d=\"M18.56 5.44l.94 2.06.94-2.06 2.06-.94-2.06-.94-.94-2.06-.94 2.06-2.06.94zm-11 1L8.5 8.5l.94-2.06 2.06-.94-2.06-.94L8.5 2.5l-.94 2.06-2.06.94zm10 10l.94 2.06.94-2.06 2.06-.94-2.06-.94-.94-2.06-.94 2.06-2.06.94z\"/><path d=\"M17.41 7.96l-1.37-1.37c-.4-.4-.92-.59-1.43-.59-.52 0-1.04.2-1.43.59L10.3 9.45l-7.72 7.72c-.78.78-.78 2.05 0 2.83L4 21.41c.39.39.9.59 1.41.59.51 0 1.02-.2 1.41-.59l7.78-7.78 2.81-2.81c.8-.78.8-2.07 0-2.86zM5.41 20L4 18.59l7.72-7.72 1.47 1.35L5.41 20z\"/>\n",
              "  </svg>\n",
              "      </button>\n",
              "      \n",
              "  <style>\n",
              "    .colab-df-container {\n",
              "      display:flex;\n",
              "      flex-wrap:wrap;\n",
              "      gap: 12px;\n",
              "    }\n",
              "\n",
              "    .colab-df-convert {\n",
              "      background-color: #E8F0FE;\n",
              "      border: none;\n",
              "      border-radius: 50%;\n",
              "      cursor: pointer;\n",
              "      display: none;\n",
              "      fill: #1967D2;\n",
              "      height: 32px;\n",
              "      padding: 0 0 0 0;\n",
              "      width: 32px;\n",
              "    }\n",
              "\n",
              "    .colab-df-convert:hover {\n",
              "      background-color: #E2EBFA;\n",
              "      box-shadow: 0px 1px 2px rgba(60, 64, 67, 0.3), 0px 1px 3px 1px rgba(60, 64, 67, 0.15);\n",
              "      fill: #174EA6;\n",
              "    }\n",
              "\n",
              "    [theme=dark] .colab-df-convert {\n",
              "      background-color: #3B4455;\n",
              "      fill: #D2E3FC;\n",
              "    }\n",
              "\n",
              "    [theme=dark] .colab-df-convert:hover {\n",
              "      background-color: #434B5C;\n",
              "      box-shadow: 0px 1px 3px 1px rgba(0, 0, 0, 0.15);\n",
              "      filter: drop-shadow(0px 1px 2px rgba(0, 0, 0, 0.3));\n",
              "      fill: #FFFFFF;\n",
              "    }\n",
              "  </style>\n",
              "\n",
              "      <script>\n",
              "        const buttonEl =\n",
              "          document.querySelector('#df-4724a298-d72f-4ef3-9df1-4cecafcbe122 button.colab-df-convert');\n",
              "        buttonEl.style.display =\n",
              "          google.colab.kernel.accessAllowed ? 'block' : 'none';\n",
              "\n",
              "        async function convertToInteractive(key) {\n",
              "          const element = document.querySelector('#df-4724a298-d72f-4ef3-9df1-4cecafcbe122');\n",
              "          const dataTable =\n",
              "            await google.colab.kernel.invokeFunction('convertToInteractive',\n",
              "                                                     [key], {});\n",
              "          if (!dataTable) return;\n",
              "\n",
              "          const docLinkHtml = 'Like what you see? Visit the ' +\n",
              "            '<a target=\"_blank\" href=https://colab.research.google.com/notebooks/data_table.ipynb>data table notebook</a>'\n",
              "            + ' to learn more about interactive tables.';\n",
              "          element.innerHTML = '';\n",
              "          dataTable['output_type'] = 'display_data';\n",
              "          await google.colab.output.renderOutput(dataTable, element);\n",
              "          const docLink = document.createElement('div');\n",
              "          docLink.innerHTML = docLinkHtml;\n",
              "          element.appendChild(docLink);\n",
              "        }\n",
              "      </script>\n",
              "    </div>\n",
              "  </div>\n",
              "  "
            ]
          },
          "metadata": {},
          "execution_count": 4
        }
      ]
    },
    {
      "cell_type": "code",
      "source": [
        "# test 데이터 불러오기\n",
        "test = pd.read_csv('/content/test_x.csv')\n",
        "test"
      ],
      "metadata": {
        "colab": {
          "base_uri": "https://localhost:8080/",
          "height": 423
        },
        "id": "dmxAkBFleBW3",
        "outputId": "aa8e7ec4-3c4d-4337-cae1-e0e07849cc73"
      },
      "execution_count": 5,
      "outputs": [
        {
          "output_type": "execute_result",
          "data": {
            "text/plain": [
              "       index                                               text\n",
              "0          0  “Not at all. I think she is one of the most ch...\n",
              "1          1  \"No,\" replied he, with sudden consciousness, \"...\n",
              "2          2  As the lady had stated her intention of scream...\n",
              "3          3  “And then suddenly in the silence I heard a so...\n",
              "4          4  His conviction remained unchanged. So far as I...\n",
              "...      ...                                                ...\n",
              "19612  19612  At the end of another day or two, odin growing...\n",
              "19613  19613  All afternoon we sat together, mostly in silen...\n",
              "19614  19614   odin, having carried his thanks to odin, proc...\n",
              "19615  19615  Soon after this, upon odin's leaving the room,...\n",
              "19616  19616  And all the worse for the doomed man, that the...\n",
              "\n",
              "[19617 rows x 2 columns]"
            ],
            "text/html": [
              "\n",
              "  <div id=\"df-6717b1b2-1783-4dff-baa8-c8024aef7da9\">\n",
              "    <div class=\"colab-df-container\">\n",
              "      <div>\n",
              "<style scoped>\n",
              "    .dataframe tbody tr th:only-of-type {\n",
              "        vertical-align: middle;\n",
              "    }\n",
              "\n",
              "    .dataframe tbody tr th {\n",
              "        vertical-align: top;\n",
              "    }\n",
              "\n",
              "    .dataframe thead th {\n",
              "        text-align: right;\n",
              "    }\n",
              "</style>\n",
              "<table border=\"1\" class=\"dataframe\">\n",
              "  <thead>\n",
              "    <tr style=\"text-align: right;\">\n",
              "      <th></th>\n",
              "      <th>index</th>\n",
              "      <th>text</th>\n",
              "    </tr>\n",
              "  </thead>\n",
              "  <tbody>\n",
              "    <tr>\n",
              "      <th>0</th>\n",
              "      <td>0</td>\n",
              "      <td>“Not at all. I think she is one of the most ch...</td>\n",
              "    </tr>\n",
              "    <tr>\n",
              "      <th>1</th>\n",
              "      <td>1</td>\n",
              "      <td>\"No,\" replied he, with sudden consciousness, \"...</td>\n",
              "    </tr>\n",
              "    <tr>\n",
              "      <th>2</th>\n",
              "      <td>2</td>\n",
              "      <td>As the lady had stated her intention of scream...</td>\n",
              "    </tr>\n",
              "    <tr>\n",
              "      <th>3</th>\n",
              "      <td>3</td>\n",
              "      <td>“And then suddenly in the silence I heard a so...</td>\n",
              "    </tr>\n",
              "    <tr>\n",
              "      <th>4</th>\n",
              "      <td>4</td>\n",
              "      <td>His conviction remained unchanged. So far as I...</td>\n",
              "    </tr>\n",
              "    <tr>\n",
              "      <th>...</th>\n",
              "      <td>...</td>\n",
              "      <td>...</td>\n",
              "    </tr>\n",
              "    <tr>\n",
              "      <th>19612</th>\n",
              "      <td>19612</td>\n",
              "      <td>At the end of another day or two, odin growing...</td>\n",
              "    </tr>\n",
              "    <tr>\n",
              "      <th>19613</th>\n",
              "      <td>19613</td>\n",
              "      <td>All afternoon we sat together, mostly in silen...</td>\n",
              "    </tr>\n",
              "    <tr>\n",
              "      <th>19614</th>\n",
              "      <td>19614</td>\n",
              "      <td>odin, having carried his thanks to odin, proc...</td>\n",
              "    </tr>\n",
              "    <tr>\n",
              "      <th>19615</th>\n",
              "      <td>19615</td>\n",
              "      <td>Soon after this, upon odin's leaving the room,...</td>\n",
              "    </tr>\n",
              "    <tr>\n",
              "      <th>19616</th>\n",
              "      <td>19616</td>\n",
              "      <td>And all the worse for the doomed man, that the...</td>\n",
              "    </tr>\n",
              "  </tbody>\n",
              "</table>\n",
              "<p>19617 rows × 2 columns</p>\n",
              "</div>\n",
              "      <button class=\"colab-df-convert\" onclick=\"convertToInteractive('df-6717b1b2-1783-4dff-baa8-c8024aef7da9')\"\n",
              "              title=\"Convert this dataframe to an interactive table.\"\n",
              "              style=\"display:none;\">\n",
              "        \n",
              "  <svg xmlns=\"http://www.w3.org/2000/svg\" height=\"24px\"viewBox=\"0 0 24 24\"\n",
              "       width=\"24px\">\n",
              "    <path d=\"M0 0h24v24H0V0z\" fill=\"none\"/>\n",
              "    <path d=\"M18.56 5.44l.94 2.06.94-2.06 2.06-.94-2.06-.94-.94-2.06-.94 2.06-2.06.94zm-11 1L8.5 8.5l.94-2.06 2.06-.94-2.06-.94L8.5 2.5l-.94 2.06-2.06.94zm10 10l.94 2.06.94-2.06 2.06-.94-2.06-.94-.94-2.06-.94 2.06-2.06.94z\"/><path d=\"M17.41 7.96l-1.37-1.37c-.4-.4-.92-.59-1.43-.59-.52 0-1.04.2-1.43.59L10.3 9.45l-7.72 7.72c-.78.78-.78 2.05 0 2.83L4 21.41c.39.39.9.59 1.41.59.51 0 1.02-.2 1.41-.59l7.78-7.78 2.81-2.81c.8-.78.8-2.07 0-2.86zM5.41 20L4 18.59l7.72-7.72 1.47 1.35L5.41 20z\"/>\n",
              "  </svg>\n",
              "      </button>\n",
              "      \n",
              "  <style>\n",
              "    .colab-df-container {\n",
              "      display:flex;\n",
              "      flex-wrap:wrap;\n",
              "      gap: 12px;\n",
              "    }\n",
              "\n",
              "    .colab-df-convert {\n",
              "      background-color: #E8F0FE;\n",
              "      border: none;\n",
              "      border-radius: 50%;\n",
              "      cursor: pointer;\n",
              "      display: none;\n",
              "      fill: #1967D2;\n",
              "      height: 32px;\n",
              "      padding: 0 0 0 0;\n",
              "      width: 32px;\n",
              "    }\n",
              "\n",
              "    .colab-df-convert:hover {\n",
              "      background-color: #E2EBFA;\n",
              "      box-shadow: 0px 1px 2px rgba(60, 64, 67, 0.3), 0px 1px 3px 1px rgba(60, 64, 67, 0.15);\n",
              "      fill: #174EA6;\n",
              "    }\n",
              "\n",
              "    [theme=dark] .colab-df-convert {\n",
              "      background-color: #3B4455;\n",
              "      fill: #D2E3FC;\n",
              "    }\n",
              "\n",
              "    [theme=dark] .colab-df-convert:hover {\n",
              "      background-color: #434B5C;\n",
              "      box-shadow: 0px 1px 3px 1px rgba(0, 0, 0, 0.15);\n",
              "      filter: drop-shadow(0px 1px 2px rgba(0, 0, 0, 0.3));\n",
              "      fill: #FFFFFF;\n",
              "    }\n",
              "  </style>\n",
              "\n",
              "      <script>\n",
              "        const buttonEl =\n",
              "          document.querySelector('#df-6717b1b2-1783-4dff-baa8-c8024aef7da9 button.colab-df-convert');\n",
              "        buttonEl.style.display =\n",
              "          google.colab.kernel.accessAllowed ? 'block' : 'none';\n",
              "\n",
              "        async function convertToInteractive(key) {\n",
              "          const element = document.querySelector('#df-6717b1b2-1783-4dff-baa8-c8024aef7da9');\n",
              "          const dataTable =\n",
              "            await google.colab.kernel.invokeFunction('convertToInteractive',\n",
              "                                                     [key], {});\n",
              "          if (!dataTable) return;\n",
              "\n",
              "          const docLinkHtml = 'Like what you see? Visit the ' +\n",
              "            '<a target=\"_blank\" href=https://colab.research.google.com/notebooks/data_table.ipynb>data table notebook</a>'\n",
              "            + ' to learn more about interactive tables.';\n",
              "          element.innerHTML = '';\n",
              "          dataTable['output_type'] = 'display_data';\n",
              "          await google.colab.output.renderOutput(dataTable, element);\n",
              "          const docLink = document.createElement('div');\n",
              "          docLink.innerHTML = docLinkHtml;\n",
              "          element.appendChild(docLink);\n",
              "        }\n",
              "      </script>\n",
              "    </div>\n",
              "  </div>\n",
              "  "
            ]
          },
          "metadata": {},
          "execution_count": 5
        }
      ]
    },
    {
      "cell_type": "code",
      "source": [
        "# sample_submission 불러오기\n",
        "sample_submission = pd.read_csv('/content/sample_submission.csv')\n",
        "sample_submission"
      ],
      "metadata": {
        "colab": {
          "base_uri": "https://localhost:8080/",
          "height": 423
        },
        "id": "Ss6eYdo_eRHl",
        "outputId": "a2e147da-0dc9-4ea8-da58-b5db7aa3b7f4"
      },
      "execution_count": 6,
      "outputs": [
        {
          "output_type": "execute_result",
          "data": {
            "text/plain": [
              "       index  0  1  2  3  4\n",
              "0          0  0  0  0  0  0\n",
              "1          1  0  0  0  0  0\n",
              "2          2  0  0  0  0  0\n",
              "3          3  0  0  0  0  0\n",
              "4          4  0  0  0  0  0\n",
              "...      ... .. .. .. .. ..\n",
              "19612  19612  0  0  0  0  0\n",
              "19613  19613  0  0  0  0  0\n",
              "19614  19614  0  0  0  0  0\n",
              "19615  19615  0  0  0  0  0\n",
              "19616  19616  0  0  0  0  0\n",
              "\n",
              "[19617 rows x 6 columns]"
            ],
            "text/html": [
              "\n",
              "  <div id=\"df-fd2758bd-97b2-4508-981b-6cbf444caf5a\">\n",
              "    <div class=\"colab-df-container\">\n",
              "      <div>\n",
              "<style scoped>\n",
              "    .dataframe tbody tr th:only-of-type {\n",
              "        vertical-align: middle;\n",
              "    }\n",
              "\n",
              "    .dataframe tbody tr th {\n",
              "        vertical-align: top;\n",
              "    }\n",
              "\n",
              "    .dataframe thead th {\n",
              "        text-align: right;\n",
              "    }\n",
              "</style>\n",
              "<table border=\"1\" class=\"dataframe\">\n",
              "  <thead>\n",
              "    <tr style=\"text-align: right;\">\n",
              "      <th></th>\n",
              "      <th>index</th>\n",
              "      <th>0</th>\n",
              "      <th>1</th>\n",
              "      <th>2</th>\n",
              "      <th>3</th>\n",
              "      <th>4</th>\n",
              "    </tr>\n",
              "  </thead>\n",
              "  <tbody>\n",
              "    <tr>\n",
              "      <th>0</th>\n",
              "      <td>0</td>\n",
              "      <td>0</td>\n",
              "      <td>0</td>\n",
              "      <td>0</td>\n",
              "      <td>0</td>\n",
              "      <td>0</td>\n",
              "    </tr>\n",
              "    <tr>\n",
              "      <th>1</th>\n",
              "      <td>1</td>\n",
              "      <td>0</td>\n",
              "      <td>0</td>\n",
              "      <td>0</td>\n",
              "      <td>0</td>\n",
              "      <td>0</td>\n",
              "    </tr>\n",
              "    <tr>\n",
              "      <th>2</th>\n",
              "      <td>2</td>\n",
              "      <td>0</td>\n",
              "      <td>0</td>\n",
              "      <td>0</td>\n",
              "      <td>0</td>\n",
              "      <td>0</td>\n",
              "    </tr>\n",
              "    <tr>\n",
              "      <th>3</th>\n",
              "      <td>3</td>\n",
              "      <td>0</td>\n",
              "      <td>0</td>\n",
              "      <td>0</td>\n",
              "      <td>0</td>\n",
              "      <td>0</td>\n",
              "    </tr>\n",
              "    <tr>\n",
              "      <th>4</th>\n",
              "      <td>4</td>\n",
              "      <td>0</td>\n",
              "      <td>0</td>\n",
              "      <td>0</td>\n",
              "      <td>0</td>\n",
              "      <td>0</td>\n",
              "    </tr>\n",
              "    <tr>\n",
              "      <th>...</th>\n",
              "      <td>...</td>\n",
              "      <td>...</td>\n",
              "      <td>...</td>\n",
              "      <td>...</td>\n",
              "      <td>...</td>\n",
              "      <td>...</td>\n",
              "    </tr>\n",
              "    <tr>\n",
              "      <th>19612</th>\n",
              "      <td>19612</td>\n",
              "      <td>0</td>\n",
              "      <td>0</td>\n",
              "      <td>0</td>\n",
              "      <td>0</td>\n",
              "      <td>0</td>\n",
              "    </tr>\n",
              "    <tr>\n",
              "      <th>19613</th>\n",
              "      <td>19613</td>\n",
              "      <td>0</td>\n",
              "      <td>0</td>\n",
              "      <td>0</td>\n",
              "      <td>0</td>\n",
              "      <td>0</td>\n",
              "    </tr>\n",
              "    <tr>\n",
              "      <th>19614</th>\n",
              "      <td>19614</td>\n",
              "      <td>0</td>\n",
              "      <td>0</td>\n",
              "      <td>0</td>\n",
              "      <td>0</td>\n",
              "      <td>0</td>\n",
              "    </tr>\n",
              "    <tr>\n",
              "      <th>19615</th>\n",
              "      <td>19615</td>\n",
              "      <td>0</td>\n",
              "      <td>0</td>\n",
              "      <td>0</td>\n",
              "      <td>0</td>\n",
              "      <td>0</td>\n",
              "    </tr>\n",
              "    <tr>\n",
              "      <th>19616</th>\n",
              "      <td>19616</td>\n",
              "      <td>0</td>\n",
              "      <td>0</td>\n",
              "      <td>0</td>\n",
              "      <td>0</td>\n",
              "      <td>0</td>\n",
              "    </tr>\n",
              "  </tbody>\n",
              "</table>\n",
              "<p>19617 rows × 6 columns</p>\n",
              "</div>\n",
              "      <button class=\"colab-df-convert\" onclick=\"convertToInteractive('df-fd2758bd-97b2-4508-981b-6cbf444caf5a')\"\n",
              "              title=\"Convert this dataframe to an interactive table.\"\n",
              "              style=\"display:none;\">\n",
              "        \n",
              "  <svg xmlns=\"http://www.w3.org/2000/svg\" height=\"24px\"viewBox=\"0 0 24 24\"\n",
              "       width=\"24px\">\n",
              "    <path d=\"M0 0h24v24H0V0z\" fill=\"none\"/>\n",
              "    <path d=\"M18.56 5.44l.94 2.06.94-2.06 2.06-.94-2.06-.94-.94-2.06-.94 2.06-2.06.94zm-11 1L8.5 8.5l.94-2.06 2.06-.94-2.06-.94L8.5 2.5l-.94 2.06-2.06.94zm10 10l.94 2.06.94-2.06 2.06-.94-2.06-.94-.94-2.06-.94 2.06-2.06.94z\"/><path d=\"M17.41 7.96l-1.37-1.37c-.4-.4-.92-.59-1.43-.59-.52 0-1.04.2-1.43.59L10.3 9.45l-7.72 7.72c-.78.78-.78 2.05 0 2.83L4 21.41c.39.39.9.59 1.41.59.51 0 1.02-.2 1.41-.59l7.78-7.78 2.81-2.81c.8-.78.8-2.07 0-2.86zM5.41 20L4 18.59l7.72-7.72 1.47 1.35L5.41 20z\"/>\n",
              "  </svg>\n",
              "      </button>\n",
              "      \n",
              "  <style>\n",
              "    .colab-df-container {\n",
              "      display:flex;\n",
              "      flex-wrap:wrap;\n",
              "      gap: 12px;\n",
              "    }\n",
              "\n",
              "    .colab-df-convert {\n",
              "      background-color: #E8F0FE;\n",
              "      border: none;\n",
              "      border-radius: 50%;\n",
              "      cursor: pointer;\n",
              "      display: none;\n",
              "      fill: #1967D2;\n",
              "      height: 32px;\n",
              "      padding: 0 0 0 0;\n",
              "      width: 32px;\n",
              "    }\n",
              "\n",
              "    .colab-df-convert:hover {\n",
              "      background-color: #E2EBFA;\n",
              "      box-shadow: 0px 1px 2px rgba(60, 64, 67, 0.3), 0px 1px 3px 1px rgba(60, 64, 67, 0.15);\n",
              "      fill: #174EA6;\n",
              "    }\n",
              "\n",
              "    [theme=dark] .colab-df-convert {\n",
              "      background-color: #3B4455;\n",
              "      fill: #D2E3FC;\n",
              "    }\n",
              "\n",
              "    [theme=dark] .colab-df-convert:hover {\n",
              "      background-color: #434B5C;\n",
              "      box-shadow: 0px 1px 3px 1px rgba(0, 0, 0, 0.15);\n",
              "      filter: drop-shadow(0px 1px 2px rgba(0, 0, 0, 0.3));\n",
              "      fill: #FFFFFF;\n",
              "    }\n",
              "  </style>\n",
              "\n",
              "      <script>\n",
              "        const buttonEl =\n",
              "          document.querySelector('#df-fd2758bd-97b2-4508-981b-6cbf444caf5a button.colab-df-convert');\n",
              "        buttonEl.style.display =\n",
              "          google.colab.kernel.accessAllowed ? 'block' : 'none';\n",
              "\n",
              "        async function convertToInteractive(key) {\n",
              "          const element = document.querySelector('#df-fd2758bd-97b2-4508-981b-6cbf444caf5a');\n",
              "          const dataTable =\n",
              "            await google.colab.kernel.invokeFunction('convertToInteractive',\n",
              "                                                     [key], {});\n",
              "          if (!dataTable) return;\n",
              "\n",
              "          const docLinkHtml = 'Like what you see? Visit the ' +\n",
              "            '<a target=\"_blank\" href=https://colab.research.google.com/notebooks/data_table.ipynb>data table notebook</a>'\n",
              "            + ' to learn more about interactive tables.';\n",
              "          element.innerHTML = '';\n",
              "          dataTable['output_type'] = 'display_data';\n",
              "          await google.colab.output.renderOutput(dataTable, element);\n",
              "          const docLink = document.createElement('div');\n",
              "          docLink.innerHTML = docLinkHtml;\n",
              "          element.appendChild(docLink);\n",
              "        }\n",
              "      </script>\n",
              "    </div>\n",
              "  </div>\n",
              "  "
            ]
          },
          "metadata": {},
          "execution_count": 6
        }
      ]
    },
    {
      "cell_type": "markdown",
      "source": [
        "### **1.2 불용어 제거**"
      ],
      "metadata": {
        "id": "E8my3HsCeZoy"
      }
    },
    {
      "cell_type": "code",
      "source": [
        "# 부호 제거하는 함수\n",
        "def alpha_num(text):\n",
        "  return re.sub(r'[^A-Za-z0-9]', ' ', text)\n",
        "\n",
        "# 불용어 제거하는 함수\n",
        "def remove_stopwords(text):\n",
        "  final_text = []\n",
        "  for i in text.split():\n",
        "    if i.strip().lower() not in stopwords:\n",
        "      final_text.append(i.strip())\n",
        "  return ' '.join(final_text)\n",
        "\n",
        "# 불용어 지정\n",
        "stopwords = [ \"a\", \"about\", \"above\", \"after\", \"again\", \"against\", \"all\", \"am\", \"an\", \"and\", \"any\", \"are\", \"as\", \n",
        "             \"at\", \"be\", \"because\", \"been\", \"before\", \"being\", \"below\", \"between\", \"both\", \"but\", \"by\", \"could\", \n",
        "             \"did\", \"do\", \"does\", \"doing\", \"down\", \"during\", \"each\", \"few\", \"for\", \"from\", \"further\", \"had\", \"has\", \n",
        "             \"have\", \"having\", \"he\", \"he'd\", \"he'll\", \"he's\", \"her\", \"here\", \"here's\", \"hers\", \"herself\", \"him\", \"himself\", \n",
        "             \"his\", \"how\", \"how's\", \"i\", \"i'd\", \"i'll\", \"i'm\", \"i've\", \"if\", \"in\", \"into\", \"is\", \"it\", \"it's\", \"its\", \"itself\", \n",
        "             \"let's\", \"me\", \"more\", \"most\", \"my\", \"myself\", \"nor\", \"of\", \"on\", \"once\", \"only\", \"or\", \"other\", \"ought\", \"our\", \"ours\", \n",
        "             \"ourselves\", \"out\", \"over\", \"own\", \"same\", \"she\", \"she'd\", \"she'll\", \"she's\", \"should\", \"so\", \"some\", \"such\", \"than\", \"that\", \n",
        "             \"that's\", \"the\", \"their\", \"theirs\", \"them\", \"themselves\", \"then\", \"there\", \"there's\", \"these\", \"they\", \"they'd\", \"they'll\", \n",
        "             \"they're\", \"they've\", \"this\", \"those\", \"through\", \"to\", \"too\", \"under\", \"until\", \"up\", \"very\", \"was\", \"we\", \"we'd\", \"we'll\", \n",
        "             \"we're\", \"we've\", \"were\", \"what\", \"what's\", \"when\", \"when's\", \"where\", \"where's\", \"which\", \"while\", \"who\", \"who's\", \"whom\", \n",
        "             \"why\", \"why's\", \"with\", \"would\", \"you\", \"you'd\", \"you'll\", \"you're\", \"you've\", \"your\", \"yours\", \"yourself\", \"yourselves\" ]\n",
        "\n",
        "# 소문자로 바꾼 후 전처리 적용\n",
        "train.text = train.text.str.lower()\n",
        "test.text = test.text.str.lower()\n",
        "\n",
        "train.text = train.text.apply(alpha_num).apply(remove_stopwords)\n",
        "test.text = test.text.apply(alpha_num).apply(remove_stopwords)"
      ],
      "metadata": {
        "id": "zETPqVWreX7e"
      },
      "execution_count": 7,
      "outputs": []
    },
    {
      "cell_type": "markdown",
      "source": [
        "### **1.3 데이터 시각화**"
      ],
      "metadata": {
        "id": "PqbRFE3JfRuH"
      }
    },
    {
      "cell_type": "code",
      "source": [
        "# 작가별 분포도 확인\n",
        "train.groupby(train.author).size().reset_index(name = 'counts').plot.bar(x = 'author', title = 'Samples per each class (Training Set)')"
      ],
      "metadata": {
        "colab": {
          "base_uri": "https://localhost:8080/",
          "height": 309
        },
        "id": "HzrvP6ZKfHoB",
        "outputId": "08850d4e-e8c3-400c-f1e2-e430cc04bf14"
      },
      "execution_count": 8,
      "outputs": [
        {
          "output_type": "execute_result",
          "data": {
            "text/plain": [
              "<matplotlib.axes._subplots.AxesSubplot at 0x7fa83337d190>"
            ]
          },
          "metadata": {},
          "execution_count": 8
        },
        {
          "output_type": "display_data",
          "data": {
            "text/plain": [
              "<Figure size 432x288 with 1 Axes>"
            ],
            "image/png": "[encoded data removed]"
          },
          "metadata": {
            "needs_background": "light"
          }
        }
      ]
    },
    {
      "cell_type": "markdown",
      "source": [
        "  - 작가별로 분포도가 상이하다."
      ],
      "metadata": {
        "id": "dLh5HWqcfpG1"
      }
    },
    {
      "cell_type": "code",
      "source": [
        "# 문장 길이 분포도 확인\n",
        "train['doc_len'] = train.text.apply(lambda words : len(words.split()))\n",
        "\n",
        "def plot_doc_lengths(dataframe):\n",
        "  mean_seq_len = np.round(dataframe.doc_len.mean()).astype(int)\n",
        "  sns.distplot(tuple(dataframe.doc_len), hist = True, kde = True, label = 'Document lengths')\n",
        "  plt.axvline(x = mean_seq_len, color = 'k', linestyle = '--', label = f'Sequence length mean: {mean_seq_len}')\n",
        "  plt.title('Document lengths')\n",
        "  plt.legend()\n",
        "  plt.show()\n",
        "  print(f\" 가장 긴 문장은 {train['doc_len'].max()} 개의 단어를, 가장 짧은 문장은 {train['doc_len'].min()} 개의 단어를 가지고 있습니다.\")\n",
        "\n",
        "plot_doc_lengths(train)"
      ],
      "metadata": {
        "colab": {
          "base_uri": "https://localhost:8080/",
          "height": 298
        },
        "id": "jS11qKpHfkn-",
        "outputId": "0b42a200-2ca8-49ed-99e7-cee66ab2a693"
      },
      "execution_count": 9,
      "outputs": [
        {
          "output_type": "display_data",
          "data": {
            "text/plain": [
              "<Figure size 432x288 with 1 Axes>"
            ],
            "image/png": "[encoded data removed]"
          },
          "metadata": {
            "needs_background": "light"
          }
        },
        {
          "output_type": "stream",
          "name": "stdout",
          "text": [
            " 가장 긴 문장은 214 개의 단어를, 가장 짧은 문장은 0 개의 단어를 가지고 있습니다.\n"
          ]
        }
      ]
    },
    {
      "cell_type": "markdown",
      "source": [
        "  - 필사한 코드와 비교했을 때 max 값은 3만큼, 평균값은 1만큼 차이가 난다.\n",
        "  - 위 그래프를 통해 알 수 있듯이 평균 길이는 21이다. 따라서 차후 sequence에 적용할 max length는 150 정도로 적당히 잡아준다."
      ],
      "metadata": {
        "id": "dCf3FOTspxr0"
      }
    },
    {
      "cell_type": "markdown",
      "source": [
        "---"
      ],
      "metadata": {
        "id": "5NP73WEkqNom"
      }
    },
    {
      "cell_type": "markdown",
      "source": [
        "## **2. Vectorization**"
      ],
      "metadata": {
        "id": "SicrbguVqIVh"
      }
    },
    {
      "cell_type": "markdown",
      "source": [
        "### **2.1 Tokenization**"
      ],
      "metadata": {
        "id": "jgt2Ww5OqJ-3"
      }
    },
    {
      "cell_type": "code",
      "source": [
        "# 먼저 train 데이터와 test 데이터를 인덱스 없이 배열로 만들기\n",
        "X_train = np.array([x for x in train['text']])\n",
        "X_test = np.array([x for x in test['text']])\n",
        "Y_train = np.array([x for x in train['author']])\n",
        "\n",
        "print(X_train.shape)\n",
        "print(X_test.shape)\n",
        "print(Y_train.shape)"
      ],
      "metadata": {
        "id": "7Uqps-RLhqo8",
        "colab": {
          "base_uri": "https://localhost:8080/"
        },
        "outputId": "5d921529-4fa2-4334-d263-e327e73e59e6"
      },
      "execution_count": 10,
      "outputs": [
        {
          "output_type": "stream",
          "name": "stdout",
          "text": [
            "(54879,)\n",
            "(19617,)\n",
            "(54879,)\n"
          ]
        }
      ]
    },
    {
      "cell_type": "code",
      "source": [
        "print(X_train)\n",
        "print(X_test)\n",
        "print(Y_train)"
      ],
      "metadata": {
        "colab": {
          "base_uri": "https://localhost:8080/"
        },
        "id": "YgDo2UQ2-9W5",
        "outputId": "20ead4b4-20dd-4894-fe38-d1029641804e"
      },
      "execution_count": 11,
      "outputs": [
        {
          "output_type": "stream",
          "name": "stdout",
          "text": [
            "['almost choking much much wanted say strange exclamations came lips pole gazed fixedly bundle notes hand looked odin evident perplexity'\n",
            " 'sister asked suppose'\n",
            " 'engaged one day walked perusing jane s last letter dwelling passages proved jane not written spirits instead surprised mr odin saw looking odin meeting putting away letter immediately forcing smile said'\n",
            " ... 'sincere well wisher friend sister lucy odin' 'wanted lend money'\n",
            " 'certainly not occurred said yes like']\n",
            "['not think one charming young ladies ever met might useful work decided genius way witness way preserved agra plan papers father love emotional thing whatever emotional opposed true cold reason place things never marry lest bias judgment'\n",
            " 'no replied sudden consciousness not find cannot ignorant goodness owe feel express well know no orator'\n",
            " 'lady stated intention screaming course screamed additional boldness exertion rendered unnecessary hasty knocking door no sooner heard mr odin darted much agility wine bottles began dusting great violence matron sharply demanded'\n",
            " ...\n",
            " 'odin carried thanks odin proceeded happiness lucy excess time reached bartlett s buildings able assure mrs odin called next day congratulations never seen spirits life'\n",
            " 'soon upon odin s leaving room mama said odin alarm subject illness cannot conceal sure odin not well now almost fortnight yet not come nothing real indisposition occasion extraordinary delay else can detain norland'\n",
            " 'worse doomed man denouncer well known citizen attached friend father wife one frenzied aspirations populace imitations questionable public virtues antiquity sacrifices self immolations people s altar therefore president said else head quivered shoulders good physician republic deserve better still republic rooting obnoxious family aristocrats doubtless feel sacred glow joy making daughter widow child orphan wild excitement patriotic fervour not touch human sympathy']\n",
            "[3 2 1 ... 1 3 0]\n"
          ]
        }
      ]
    },
    {
      "cell_type": "code",
      "source": [
        "# Tokenizer\n",
        "from keras.preprocessing.text import Tokenizer\n",
        "vocab_size = 2000\n",
        "\n",
        "tokenizer = Tokenizer(num_words = vocab_size)\n",
        "  # Tokenizer는 데이터에 출현하는 모든 단어의 개수를 세고 빈도 수로 정렬해서\n",
        "  # num_words에 지정된 만큼만 숫자로 반환하고, 나머지는 0으로 반환합니다.\n",
        "tokenizer.fit_on_texts(X_train)   # Tokenizer에 데이터 실제로 입력\n",
        "sequences_train = tokenizer.texts_to_sequences(X_train)   # 문장 내 모든 단어를 시퀀스 번호로 변환\n",
        "sequences_test = tokenizer.texts_to_sequences(X_test)     # 문장 내 모든 단어를 시퀀스 번호로 변환\n",
        "\n",
        "print(len(sequences_train), len(sequences_test))"
      ],
      "metadata": {
        "colab": {
          "base_uri": "https://localhost:8080/"
        },
        "id": "y-GEvFl--_hg",
        "outputId": "dcb9cc80-6c5c-47fe-c2dd-00fbc58ea3d3"
      },
      "execution_count": 12,
      "outputs": [
        {
          "output_type": "stream",
          "name": "stdout",
          "text": [
            "54879 19617\n"
          ]
        }
      ]
    },
    {
      "cell_type": "markdown",
      "source": [
        "---"
      ],
      "metadata": {
        "id": "9dEQrXjJ_mad"
      }
    },
    {
      "cell_type": "markdown",
      "source": [
        "## **3. Embedding**"
      ],
      "metadata": {
        "id": "yvtiBfcr_nGe"
      }
    },
    {
      "cell_type": "code",
      "source": [
        "# 변환된 시퀀스 번호를 이용해 단어 임베딩 벡터 생성\n",
        "word_index = tokenizer.word_index"
      ],
      "metadata": {
        "id": "qoQyarfd_iQn"
      },
      "execution_count": 13,
      "outputs": []
    },
    {
      "cell_type": "code",
      "source": [
        "# 독립변수 데이터 전처리\n",
        "  ## 문장의 길이가 제각각이므로 벡터의 크기가 전부 상이\n",
        "  ## 그러므로 최대 시퀀스 길이 크기(214) 만큼 넉넉하게 늘리고\n",
        "  ## 패딩(padding) 작업을 통해 나머지 빈 공간을 0으로 채움\n",
        "max_length = 150    # 위에서 그래프 확인 후 적정한 수로 결정\n",
        "padding_type = 'post'\n",
        "\n",
        "train_x = pad_sequences(sequences_train, padding = padding_type, maxlen = max_length)\n",
        "test_x = pad_sequences(sequences_test, padding = padding_type, maxlen = max_length)\n",
        "\n",
        "print(train_x.shape, test_x.shape)"
      ],
      "metadata": {
        "colab": {
          "base_uri": "https://localhost:8080/"
        },
        "id": "M98sdbce_vYC",
        "outputId": "99c52e5b-5460-40a0-f248-a30f0ee8203c"
      },
      "execution_count": 14,
      "outputs": [
        {
          "output_type": "stream",
          "name": "stdout",
          "text": [
            "(54879, 150) (19617, 150)\n"
          ]
        }
      ]
    },
    {
      "cell_type": "code",
      "source": [
        "# 종속변수 데이터 전처리\n",
        "train_y = np_utils.to_categorical(Y_train)    # Y_train에 원=핫 인코딩\n",
        "print(train_y)\n",
        "print(train_y.shape)"
      ],
      "metadata": {
        "colab": {
          "base_uri": "https://localhost:8080/"
        },
        "id": "TKqrrnvKAQJq",
        "outputId": "278cacd8-962d-4c0e-fe76-55e4f68230d5"
      },
      "execution_count": 15,
      "outputs": [
        {
          "output_type": "stream",
          "name": "stdout",
          "text": [
            "[[0. 0. 0. 1. 0.]\n",
            " [0. 0. 1. 0. 0.]\n",
            " [0. 1. 0. 0. 0.]\n",
            " ...\n",
            " [0. 1. 0. 0. 0.]\n",
            " [0. 0. 0. 1. 0.]\n",
            " [1. 0. 0. 0. 0.]]\n",
            "(54879, 5)\n"
          ]
        }
      ]
    },
    {
      "cell_type": "markdown",
      "source": [
        "---"
      ],
      "metadata": {
        "id": "Q9dGrW3CAjNj"
      }
    },
    {
      "cell_type": "markdown",
      "source": [
        "## **4. Modeling**"
      ],
      "metadata": {
        "id": "W6o7vnJZAjyO"
      }
    },
    {
      "cell_type": "markdown",
      "source": [
        "### **4.1 Simple RNN**"
      ],
      "metadata": {
        "id": "PmBqzU_vAlws"
      }
    },
    {
      "cell_type": "code",
      "source": [
        "# 파라미터 설정\n",
        "vocab_size = 2000   # 가장 많이 사용하는 사이즈\n",
        "embedding_dim = 200\n",
        "max_length = 150    # 위 그래프에서 확인 후 적정한 수로 결정\n",
        "padding_type = 'post'"
      ],
      "metadata": {
        "id": "wcF1seozAbUT"
      },
      "execution_count": 16,
      "outputs": []
    },
    {
      "cell_type": "code",
      "source": [
        "# Simple RNN 레이어를 사용한 모델 (Model_1) 정의\n",
        "model1 = Sequential([Embedding(vocab_size, embedding_dim, input_length = max_length),\n",
        "                     tf.keras.layers.SimpleRNN(units = 64, return_sequences = True),\n",
        "                     tf.keras.layers.SimpleRNN(units = 64, return_sequences = True),\n",
        "                     tf.keras.layers.SimpleRNN(units = 64),\n",
        "                     Dense(5, activation = 'softmax')   # 결과값이 0~4이므로, Dense(5)로 지정\n",
        "          ])\n",
        "\n",
        "model1.compile(loss = 'categorical_crossentropy',   # 여러 개의 정답 중 하나를 맞추는 문제이므로, 손실 함수는 categorical_crossentropy\n",
        "               optimizer = 'adam',\n",
        "               metrics = ['accuracy'])\n",
        "\n",
        "model1.summary()"
      ],
      "metadata": {
        "colab": {
          "base_uri": "https://localhost:8080/"
        },
        "id": "VGW6hZ__AxZQ",
        "outputId": "9b869365-af8a-41f6-b75e-3032f6cfb3b9"
      },
      "execution_count": 17,
      "outputs": [
        {
          "output_type": "stream",
          "name": "stdout",
          "text": [
            "Model: \"sequential\"\n",
            "_________________________________________________________________\n",
            " Layer (type)                Output Shape              Param #   \n",
            "=================================================================\n",
            " embedding (Embedding)       (None, 150, 200)          400000    \n",
            "                                                                 \n",
            " simple_rnn (SimpleRNN)      (None, 150, 64)           16960     \n",
            "                                                                 \n",
            " simple_rnn_1 (SimpleRNN)    (None, 150, 64)           8256      \n",
            "                                                                 \n",
            " simple_rnn_2 (SimpleRNN)    (None, 64)                8256      \n",
            "                                                                 \n",
            " dense (Dense)               (None, 5)                 325       \n",
            "                                                                 \n",
            "=================================================================\n",
            "Total params: 433,797\n",
            "Trainable params: 433,797\n",
            "Non-trainable params: 0\n",
            "_________________________________________________________________\n"
          ]
        }
      ]
    },
    {
      "cell_type": "code",
      "source": [
        "# 모델 실행\n",
        "history = model1.fit(train_x, train_y, epochs = 10, batch_size = 100, validation_split = 0.2)\n",
        "  # 데이터가 50000개가 넘어 학습시간이 오래 걸리기 때문에 batch_size를 100으로 크게 설정\n",
        "  # 추이를 확인하기 위해 일단 10회만 시도"
      ],
      "metadata": {
        "colab": {
          "base_uri": "https://localhost:8080/"
        },
        "id": "arcwFSIHBY8w",
        "outputId": "8bc0b86c-2c06-40ba-df31-86acb5d20c92"
      },
      "execution_count": 18,
      "outputs": [
        {
          "output_type": "stream",
          "name": "stdout",
          "text": [
            "Epoch 1/10\n",
            "440/440 [==============================] - 242s 533ms/step - loss: 1.5794 - accuracy: 0.2636 - val_loss: 1.5773 - val_accuracy: 0.2680\n",
            "Epoch 2/10\n",
            "440/440 [==============================] - 206s 468ms/step - loss: 1.5742 - accuracy: 0.2679 - val_loss: 1.5756 - val_accuracy: 0.2678\n",
            "Epoch 3/10\n",
            "440/440 [==============================] - 203s 461ms/step - loss: 1.5749 - accuracy: 0.2692 - val_loss: 1.5749 - val_accuracy: 0.2680\n",
            "Epoch 4/10\n",
            "440/440 [==============================] - 201s 457ms/step - loss: 1.5731 - accuracy: 0.2701 - val_loss: 1.5716 - val_accuracy: 0.2679\n",
            "Epoch 5/10\n",
            "440/440 [==============================] - 201s 458ms/step - loss: 1.5728 - accuracy: 0.2720 - val_loss: 1.5755 - val_accuracy: 0.2680\n",
            "Epoch 6/10\n",
            "440/440 [==============================] - 199s 452ms/step - loss: 1.5729 - accuracy: 0.2706 - val_loss: 1.5712 - val_accuracy: 0.2680\n",
            "Epoch 7/10\n",
            "440/440 [==============================] - 201s 457ms/step - loss: 1.5722 - accuracy: 0.2721 - val_loss: 1.5766 - val_accuracy: 0.2680\n",
            "Epoch 8/10\n",
            "440/440 [==============================] - 199s 452ms/step - loss: 1.5723 - accuracy: 0.2715 - val_loss: 1.5735 - val_accuracy: 0.2677\n",
            "Epoch 9/10\n",
            "440/440 [==============================] - 200s 455ms/step - loss: 1.5749 - accuracy: 0.2683 - val_loss: 1.5734 - val_accuracy: 0.2680\n",
            "Epoch 10/10\n",
            "440/440 [==============================] - 199s 452ms/step - loss: 1.5725 - accuracy: 0.2713 - val_loss: 1.5823 - val_accuracy: 0.2680\n"
          ]
        }
      ]
    },
    {
      "cell_type": "code",
      "source": [
        "# Simple RNN 모델 (Model_1) 학습 결과 확인\n",
        "plt.figure(figsize = (12, 4))\n",
        "plt.title('Simple RNN (model1)', fontsize = 15)\n",
        "\n",
        "plt.subplot(1, 2, 1)\n",
        "plt.title('loss of Simple RNN (model1)', fontsize = 15)\n",
        "plt.plot(history.history['loss'], 'b-', label = 'loss')\n",
        "plt.plot(history.history['val_loss'], 'r--', label = 'val_loss')\n",
        "plt.xlabel('Epoch')\n",
        "plt.legend()\n",
        "\n",
        "plt.subplot(1, 2, 2)\n",
        "plt.title('accuracy of Simple RNN (model1)', fontsize = 15)\n",
        "plt.plot(history.history['accuracy'], 'g-', label = 'accuracy')\n",
        "plt.plot(history.history['val_accuracy'], 'k--', label = 'val_accuracy')\n",
        "plt.xlabel('Epoch')\n",
        "plt.legend()\n",
        "plt.show()"
      ],
      "metadata": {
        "colab": {
          "base_uri": "https://localhost:8080/",
          "height": 262
        },
        "id": "LVjPnX3pBp-R",
        "outputId": "c07a1d8b-c149-49e7-9c3c-698f42a6a2f1"
      },
      "execution_count": 19,
      "outputs": [
        {
          "output_type": "display_data",
          "data": {
            "text/plain": [
              "<Figure size 864x288 with 2 Axes>"
            ],
            "image/png": "[encoded data removed]"
          },
          "metadata": {
            "needs_background": "light"
          }
        }
      ]
    },
    {
      "cell_type": "markdown",
      "source": [
        "  - Simple RNN은 한 Epoch당 시간도 오래 걸리고, 학습이 되지 않는 것을 확인할 수 있다."
      ],
      "metadata": {
        "id": "IWYe15DCCY52"
      }
    },
    {
      "cell_type": "markdown",
      "source": [
        "### **4.2 단방향 LSTM**"
      ],
      "metadata": {
        "id": "sMvKHJ19Cf4_"
      }
    },
    {
      "cell_type": "code",
      "source": [
        "# 파라미터 정의\n",
        "vocab_size = 2000   # 가장 많이 사용하는 사이즈\n",
        "embedding_dim = 200\n",
        "max_length = 150    # 위에서 그래프 확인 후 적정한 수로 결정\n",
        "padding_type = 'post'"
      ],
      "metadata": {
        "id": "stJWhO4oCfUw"
      },
      "execution_count": 20,
      "outputs": []
    },
    {
      "cell_type": "code",
      "source": [
        "# LSTM 레이어를 사용한 모델 (Model_2) 정의\n",
        "model2 = Sequential([Embedding(vocab_size, embedding_dim, input_length = max_length),\n",
        "                     tf.keras.layers.LSTM(units = 64, return_sequences = True),\n",
        "                     tf.keras.layers.LSTM(units = 64, return_sequences = True),\n",
        "                     tf.keras.layers.LSTM(units = 64),\n",
        "                     Dense(5, activation = 'softmax')   # 결과값이 0~4이므로, Dense(5)로 지정\n",
        "          ])\n",
        "\n",
        "model2.compile(loss = 'categorical_crossentropy',   # 여러 개의 정답 중 하나를 맞추는 문제이므로, 손실 함수는 categorical_crossentropy \n",
        "               optimizer = 'adam',\n",
        "               metrics = ['accuracy'])\n",
        "\n",
        "model2.summary()"
      ],
      "metadata": {
        "colab": {
          "base_uri": "https://localhost:8080/"
        },
        "id": "dr8Nv5MoCwpy",
        "outputId": "c6d5f5a0-4531-4af0-ecb5-77bc110f8c69"
      },
      "execution_count": 21,
      "outputs": [
        {
          "output_type": "stream",
          "name": "stdout",
          "text": [
            "Model: \"sequential_1\"\n",
            "_________________________________________________________________\n",
            " Layer (type)                Output Shape              Param #   \n",
            "=================================================================\n",
            " embedding_1 (Embedding)     (None, 150, 200)          400000    \n",
            "                                                                 \n",
            " lstm (LSTM)                 (None, 150, 64)           67840     \n",
            "                                                                 \n",
            " lstm_1 (LSTM)               (None, 150, 64)           33024     \n",
            "                                                                 \n",
            " lstm_2 (LSTM)               (None, 64)                33024     \n",
            "                                                                 \n",
            " dense_1 (Dense)             (None, 5)                 325       \n",
            "                                                                 \n",
            "=================================================================\n",
            "Total params: 534,213\n",
            "Trainable params: 534,213\n",
            "Non-trainable params: 0\n",
            "_________________________________________________________________\n"
          ]
        }
      ]
    },
    {
      "cell_type": "code",
      "source": [
        "# 모델 실행\n",
        "history = model2.fit(train_x, train_y, epochs = 10, batch_size = 100, validation_split = 0.20)\n",
        "  # 데이터가 50000개가 넘어 학습시간이 오래 걸리므로, batch size를 100으로 크게 설정정\n",
        "  # 추이를 확인하기 위해 일단 10회만 시도"
      ],
      "metadata": {
        "colab": {
          "base_uri": "https://localhost:8080/"
        },
        "id": "wg530accDbAO",
        "outputId": "6a786c12-b6f7-4468-9db7-965b2c77587a"
      },
      "execution_count": 22,
      "outputs": [
        {
          "output_type": "stream",
          "name": "stdout",
          "text": [
            "Epoch 1/10\n",
            "440/440 [==============================] - 40s 76ms/step - loss: 1.5722 - accuracy: 0.2741 - val_loss: 1.5714 - val_accuracy: 0.2680\n",
            "Epoch 2/10\n",
            "440/440 [==============================] - 15s 34ms/step - loss: 1.5706 - accuracy: 0.2761 - val_loss: 1.5721 - val_accuracy: 0.2680\n",
            "Epoch 3/10\n",
            "440/440 [==============================] - 13s 30ms/step - loss: 1.5706 - accuracy: 0.2761 - val_loss: 1.5721 - val_accuracy: 0.2680\n",
            "Epoch 4/10\n",
            "440/440 [==============================] - 11s 26ms/step - loss: 1.5706 - accuracy: 0.2761 - val_loss: 1.5715 - val_accuracy: 0.2680\n",
            "Epoch 5/10\n",
            "440/440 [==============================] - 11s 24ms/step - loss: 1.5704 - accuracy: 0.2761 - val_loss: 1.5716 - val_accuracy: 0.2680\n",
            "Epoch 6/10\n",
            "440/440 [==============================] - 10s 23ms/step - loss: 1.5704 - accuracy: 0.2762 - val_loss: 1.5722 - val_accuracy: 0.2680\n",
            "Epoch 7/10\n",
            "440/440 [==============================] - 11s 26ms/step - loss: 1.5704 - accuracy: 0.2761 - val_loss: 1.5716 - val_accuracy: 0.2680\n",
            "Epoch 8/10\n",
            "440/440 [==============================] - 11s 24ms/step - loss: 1.5702 - accuracy: 0.2761 - val_loss: 1.5720 - val_accuracy: 0.2680\n",
            "Epoch 9/10\n",
            "440/440 [==============================] - 10s 23ms/step - loss: 1.5720 - accuracy: 0.2746 - val_loss: 1.5727 - val_accuracy: 0.2680\n",
            "Epoch 10/10\n",
            "440/440 [==============================] - 9s 21ms/step - loss: 1.5706 - accuracy: 0.2761 - val_loss: 1.5714 - val_accuracy: 0.2680\n"
          ]
        }
      ]
    },
    {
      "cell_type": "code",
      "source": [
        "# 모델 학습 결과 확인\n",
        "plt.figure(figsize = (12, 4))\n",
        "\n",
        "plt.subplot(1, 2, 1)\n",
        "plt.title('loss of LSTM (model2)', fontsize = 15)\n",
        "plt.plot(history.history['loss'], 'b-', label = 'loss')\n",
        "plt.plot(history.history['val_loss'], 'r--', label = 'val_loss')\n",
        "plt.xlabel('Epoch')\n",
        "plt.legend()\n",
        "\n",
        "plt.subplot(1, 2, 2)\n",
        "plt.title('accuracy of LSTM (model2)', fontsize = 15)\n",
        "plt.plot(history.history['accuracy'], 'g-', label = 'accuracy')\n",
        "plt.plot(history.history['val_accuracy'], 'k--', label = 'val_accuracy')\n",
        "plt.xlabel('Epoch')\n",
        "plt.legend()\n",
        "plt.show()"
      ],
      "metadata": {
        "colab": {
          "base_uri": "https://localhost:8080/",
          "height": 260
        },
        "id": "-Zf5fkTVDqfn",
        "outputId": "2b7319e0-612f-4080-fdef-1c7a87f801ca"
      },
      "execution_count": 23,
      "outputs": [
        {
          "output_type": "display_data",
          "data": {
            "text/plain": [
              "<Figure size 864x288 with 2 Axes>"
            ],
            "image/png": "[encoded data removed]"
          },
          "metadata": {
            "needs_background": "light"
          }
        }
      ]
    },
    {
      "cell_type": "markdown",
      "source": [
        "  - 단방향 LSTM 결과, 학습 시간은 단축되었으나 학습은 되지 않는 것을 확인할 수 있다."
      ],
      "metadata": {
        "id": "l_Wed720EJWJ"
      }
    },
    {
      "cell_type": "markdown",
      "source": [
        "### **4.3 양방향 LSTM**"
      ],
      "metadata": {
        "id": "NQ1kyJyIENuK"
      }
    },
    {
      "cell_type": "code",
      "source": [
        "# 파라미터 설정\n",
        "vocab_size = 2000   # 가장장 많이 사용하는 사이즈\n",
        "embedding_dim = 200  \n",
        "max_length = 150    # 위에서 그래프 확인 후 적정한 수로 결정\n",
        "padding_type='post'\n",
        "#oov_tok = \"<OOV>\""
      ],
      "metadata": {
        "id": "HAgxB2krENHP"
      },
      "execution_count": 24,
      "outputs": []
    },
    {
      "cell_type": "code",
      "source": [
        "# 양방향 LSTM 레이어를 사용한 모델 (Model_3) 정의\n",
        "model3 = Sequential([Embedding(vocab_size, embedding_dim, input_length = max_length),\n",
        "                     tf.keras.layers.Bidirectional(LSTM(units = 64, return_sequences = True)),\n",
        "                     tf.keras.layers.Bidirectional(LSTM(units = 64, return_sequences = True)),\n",
        "                     tf.keras.layers.Bidirectional(LSTM(units = 64)),\n",
        "                     Dense(5, activation = 'softmax')   # 결과값이 0~4이므로, Dense(5)\n",
        "          ])\n",
        "\n",
        "model3.compile(loss = 'categorical_crossentropy',   # 여러 개의 정답 중 하나를 맞추는 문제이므로, 손실 함수는 categorical_crossentroopy\n",
        "               optimizer = 'adam',\n",
        "               metrics = ['accuracy'])\n",
        "\n",
        "model3.summary()"
      ],
      "metadata": {
        "colab": {
          "base_uri": "https://localhost:8080/"
        },
        "id": "tff6J5sbEXbC",
        "outputId": "279b5c86-0f38-4572-93c5-1de13193aad7"
      },
      "execution_count": 25,
      "outputs": [
        {
          "output_type": "stream",
          "name": "stdout",
          "text": [
            "Model: \"sequential_2\"\n",
            "_________________________________________________________________\n",
            " Layer (type)                Output Shape              Param #   \n",
            "=================================================================\n",
            " embedding_2 (Embedding)     (None, 150, 200)          400000    \n",
            "                                                                 \n",
            " bidirectional (Bidirectiona  (None, 150, 128)         135680    \n",
            " l)                                                              \n",
            "                                                                 \n",
            " bidirectional_1 (Bidirectio  (None, 150, 128)         98816     \n",
            " nal)                                                            \n",
            "                                                                 \n",
            " bidirectional_2 (Bidirectio  (None, 128)              98816     \n",
            " nal)                                                            \n",
            "                                                                 \n",
            " dense_2 (Dense)             (None, 5)                 645       \n",
            "                                                                 \n",
            "=================================================================\n",
            "Total params: 733,957\n",
            "Trainable params: 733,957\n",
            "Non-trainable params: 0\n",
            "_________________________________________________________________\n"
          ]
        }
      ]
    },
    {
      "cell_type": "code",
      "source": [
        "# 모델 실행\n",
        "history = model3.fit(train_x, train_y, epochs = 50, batch_size = 100, validation_split = 0.2)\n",
        "  # 양방향 LSTM 레이어에서는 batch size를 100으로 잡고 50회 학습을 진행"
      ],
      "metadata": {
        "colab": {
          "base_uri": "https://localhost:8080/"
        },
        "id": "hF93OLbkHEFo",
        "outputId": "7024de8d-bd1f-42f3-9c3b-b5e07c0e0efc"
      },
      "execution_count": 26,
      "outputs": [
        {
          "output_type": "stream",
          "name": "stdout",
          "text": [
            "Epoch 1/50\n",
            "440/440 [==============================] - 54s 97ms/step - loss: 1.0987 - accuracy: 0.5581 - val_loss: 0.9259 - val_accuracy: 0.6498\n",
            "Epoch 2/50\n",
            "440/440 [==============================] - 23s 52ms/step - loss: 0.8572 - accuracy: 0.6720 - val_loss: 0.8659 - val_accuracy: 0.6718\n",
            "Epoch 3/50\n",
            "440/440 [==============================] - 21s 47ms/step - loss: 0.7922 - accuracy: 0.6989 - val_loss: 0.8740 - val_accuracy: 0.6717\n",
            "Epoch 4/50\n",
            "440/440 [==============================] - 20s 46ms/step - loss: 0.7521 - accuracy: 0.7123 - val_loss: 0.8774 - val_accuracy: 0.6696\n",
            "Epoch 5/50\n",
            "440/440 [==============================] - 20s 46ms/step - loss: 0.7195 - accuracy: 0.7243 - val_loss: 0.8778 - val_accuracy: 0.6735\n",
            "Epoch 6/50\n",
            "440/440 [==============================] - 20s 46ms/step - loss: 0.6931 - accuracy: 0.7344 - val_loss: 0.9062 - val_accuracy: 0.6679\n",
            "Epoch 7/50\n",
            "440/440 [==============================] - 19s 44ms/step - loss: 0.6631 - accuracy: 0.7448 - val_loss: 0.9166 - val_accuracy: 0.6675\n",
            "Epoch 8/50\n",
            "440/440 [==============================] - 19s 44ms/step - loss: 0.6341 - accuracy: 0.7543 - val_loss: 0.9802 - val_accuracy: 0.6624\n",
            "Epoch 9/50\n",
            "440/440 [==============================] - 20s 45ms/step - loss: 0.6050 - accuracy: 0.7666 - val_loss: 0.9754 - val_accuracy: 0.6615\n",
            "Epoch 10/50\n",
            "440/440 [==============================] - 20s 46ms/step - loss: 0.5739 - accuracy: 0.7783 - val_loss: 1.0472 - val_accuracy: 0.6582\n",
            "Epoch 11/50\n",
            "440/440 [==============================] - 20s 45ms/step - loss: 0.5537 - accuracy: 0.7872 - val_loss: 1.0551 - val_accuracy: 0.6570\n",
            "Epoch 12/50\n",
            "440/440 [==============================] - 20s 44ms/step - loss: 0.5168 - accuracy: 0.8009 - val_loss: 1.0676 - val_accuracy: 0.6478\n",
            "Epoch 13/50\n",
            "440/440 [==============================] - 19s 43ms/step - loss: 0.4848 - accuracy: 0.8129 - val_loss: 1.1614 - val_accuracy: 0.6531\n",
            "Epoch 14/50\n",
            "440/440 [==============================] - 20s 45ms/step - loss: 0.4567 - accuracy: 0.8242 - val_loss: 1.2431 - val_accuracy: 0.6465\n",
            "Epoch 15/50\n",
            "440/440 [==============================] - 19s 44ms/step - loss: 0.4245 - accuracy: 0.8369 - val_loss: 1.2919 - val_accuracy: 0.6444\n",
            "Epoch 16/50\n",
            "440/440 [==============================] - 19s 43ms/step - loss: 0.3942 - accuracy: 0.8485 - val_loss: 1.3315 - val_accuracy: 0.6368\n",
            "Epoch 17/50\n",
            "440/440 [==============================] - 19s 44ms/step - loss: 0.3765 - accuracy: 0.8550 - val_loss: 1.4455 - val_accuracy: 0.6393\n",
            "Epoch 18/50\n",
            "440/440 [==============================] - 19s 43ms/step - loss: 0.3481 - accuracy: 0.8651 - val_loss: 1.4638 - val_accuracy: 0.6393\n",
            "Epoch 19/50\n",
            "440/440 [==============================] - 19s 44ms/step - loss: 0.3202 - accuracy: 0.8759 - val_loss: 1.5773 - val_accuracy: 0.6324\n",
            "Epoch 20/50\n",
            "440/440 [==============================] - 19s 43ms/step - loss: 0.3151 - accuracy: 0.8773 - val_loss: 1.6110 - val_accuracy: 0.6321\n",
            "Epoch 21/50\n",
            "440/440 [==============================] - 20s 45ms/step - loss: 0.2785 - accuracy: 0.8938 - val_loss: 1.7129 - val_accuracy: 0.6391\n",
            "Epoch 22/50\n",
            "440/440 [==============================] - 19s 42ms/step - loss: 0.2605 - accuracy: 0.9002 - val_loss: 1.7493 - val_accuracy: 0.6242\n",
            "Epoch 23/50\n",
            "440/440 [==============================] - 20s 44ms/step - loss: 0.2565 - accuracy: 0.9019 - val_loss: 1.7772 - val_accuracy: 0.6309\n",
            "Epoch 24/50\n",
            "440/440 [==============================] - 19s 44ms/step - loss: 0.2464 - accuracy: 0.9052 - val_loss: 1.8616 - val_accuracy: 0.6358\n",
            "Epoch 25/50\n",
            "440/440 [==============================] - 19s 43ms/step - loss: 0.2259 - accuracy: 0.9137 - val_loss: 1.9118 - val_accuracy: 0.6321\n",
            "Epoch 26/50\n",
            "440/440 [==============================] - 19s 44ms/step - loss: 0.1979 - accuracy: 0.9232 - val_loss: 2.0910 - val_accuracy: 0.6262\n",
            "Epoch 27/50\n",
            "440/440 [==============================] - 19s 42ms/step - loss: 0.1965 - accuracy: 0.9255 - val_loss: 2.0805 - val_accuracy: 0.6301\n",
            "Epoch 28/50\n",
            "440/440 [==============================] - 19s 44ms/step - loss: 0.1880 - accuracy: 0.9275 - val_loss: 2.1034 - val_accuracy: 0.6297\n",
            "Epoch 29/50\n",
            "440/440 [==============================] - 19s 43ms/step - loss: 0.1767 - accuracy: 0.9329 - val_loss: 2.2025 - val_accuracy: 0.6276\n",
            "Epoch 30/50\n",
            "440/440 [==============================] - 19s 43ms/step - loss: 0.1689 - accuracy: 0.9361 - val_loss: 2.2256 - val_accuracy: 0.6275\n",
            "Epoch 31/50\n",
            "440/440 [==============================] - 19s 43ms/step - loss: 0.1625 - accuracy: 0.9373 - val_loss: 2.2973 - val_accuracy: 0.6296\n",
            "Epoch 32/50\n",
            "440/440 [==============================] - 19s 43ms/step - loss: 0.1519 - accuracy: 0.9426 - val_loss: 2.3310 - val_accuracy: 0.6220\n",
            "Epoch 33/50\n",
            "440/440 [==============================] - 19s 44ms/step - loss: 0.1439 - accuracy: 0.9452 - val_loss: 2.4619 - val_accuracy: 0.6213\n",
            "Epoch 34/50\n",
            "440/440 [==============================] - 19s 43ms/step - loss: 0.1489 - accuracy: 0.9434 - val_loss: 2.4147 - val_accuracy: 0.6204\n",
            "Epoch 35/50\n",
            "440/440 [==============================] - 19s 43ms/step - loss: 0.1330 - accuracy: 0.9490 - val_loss: 2.5172 - val_accuracy: 0.6213\n",
            "Epoch 36/50\n",
            "440/440 [==============================] - 19s 42ms/step - loss: 0.1210 - accuracy: 0.9546 - val_loss: 2.5511 - val_accuracy: 0.6216\n",
            "Epoch 37/50\n",
            "440/440 [==============================] - 19s 43ms/step - loss: 0.1274 - accuracy: 0.9526 - val_loss: 2.5604 - val_accuracy: 0.6220\n",
            "Epoch 38/50\n",
            "440/440 [==============================] - 19s 43ms/step - loss: 0.1123 - accuracy: 0.9575 - val_loss: 2.6903 - val_accuracy: 0.6186\n",
            "Epoch 39/50\n",
            "440/440 [==============================] - 20s 45ms/step - loss: 0.1096 - accuracy: 0.9577 - val_loss: 2.7081 - val_accuracy: 0.6174\n",
            "Epoch 40/50\n",
            "440/440 [==============================] - 19s 43ms/step - loss: 0.1078 - accuracy: 0.9599 - val_loss: 2.6531 - val_accuracy: 0.6221\n",
            "Epoch 41/50\n",
            "440/440 [==============================] - 19s 42ms/step - loss: 0.1042 - accuracy: 0.9612 - val_loss: 2.7400 - val_accuracy: 0.6163\n",
            "Epoch 42/50\n",
            "440/440 [==============================] - 20s 44ms/step - loss: 0.1022 - accuracy: 0.9603 - val_loss: 2.7684 - val_accuracy: 0.6214\n",
            "Epoch 43/50\n",
            "440/440 [==============================] - 19s 42ms/step - loss: 0.0981 - accuracy: 0.9637 - val_loss: 2.8095 - val_accuracy: 0.6156\n",
            "Epoch 44/50\n",
            "440/440 [==============================] - 19s 43ms/step - loss: 0.0934 - accuracy: 0.9649 - val_loss: 2.8296 - val_accuracy: 0.6222\n",
            "Epoch 45/50\n",
            "440/440 [==============================] - 19s 43ms/step - loss: 0.0899 - accuracy: 0.9661 - val_loss: 2.8882 - val_accuracy: 0.6194\n",
            "Epoch 46/50\n",
            "440/440 [==============================] - 19s 42ms/step - loss: 0.1000 - accuracy: 0.9620 - val_loss: 2.8899 - val_accuracy: 0.6172\n",
            "Epoch 47/50\n",
            "440/440 [==============================] - 19s 44ms/step - loss: 0.0828 - accuracy: 0.9683 - val_loss: 2.9164 - val_accuracy: 0.6158\n",
            "Epoch 48/50\n",
            "440/440 [==============================] - 19s 42ms/step - loss: 0.0905 - accuracy: 0.9675 - val_loss: 2.8109 - val_accuracy: 0.6160\n",
            "Epoch 49/50\n",
            "440/440 [==============================] - 20s 46ms/step - loss: 0.0786 - accuracy: 0.9707 - val_loss: 2.9743 - val_accuracy: 0.6128\n",
            "Epoch 50/50\n",
            "440/440 [==============================] - 19s 43ms/step - loss: 0.0726 - accuracy: 0.9731 - val_loss: 3.0191 - val_accuracy: 0.6185\n"
          ]
        }
      ]
    },
    {
      "cell_type": "code",
      "source": [
        "# 모델 학습 결과 확인\n",
        "plt.figure(figsize = (12, 4))\n",
        "\n",
        "plt.subplot(1, 2, 1)\n",
        "plt.title('loss of Bidirectional LSTM (model3)', fontsize = 15)\n",
        "plt.plot(history.history['loss'], 'b-', label = 'loss')\n",
        "plt.plot(history.history['val_loss'], 'r--', label = 'val_loss')\n",
        "plt.xlabel('Epoch')\n",
        "plt.legend()\n",
        "\n",
        "plt.subplot(1, 2, 2)\n",
        "plt.title('accuracy of Bidirectional LSTM (model3)', fontsize = 15)\n",
        "plt.plot(history.history['accuracy'], 'g-', label = 'accuracy')\n",
        "plt.plot(history.history['val_accuracy'], 'k--', label = 'val_accuracy')\n",
        "plt.xlabel('Epoch')\n",
        "plt.legend()\n",
        "plt.show()"
      ],
      "metadata": {
        "colab": {
          "base_uri": "https://localhost:8080/",
          "height": 266
        },
        "id": "1apIE3JfHRHo",
        "outputId": "2b12e814-8b8a-477f-dae5-a9e5c71f7855"
      },
      "execution_count": 27,
      "outputs": [
        {
          "output_type": "display_data",
          "data": {
            "text/plain": [
              "<Figure size 864x288 with 2 Axes>"
            ],
            "image/png": "[encoded data removed]"
          },
          "metadata": {
            "needs_background": "light"
          }
        }
      ]
    },
    {
      "cell_type": "markdown",
      "source": [
        "  - train 데이터의 loss는 줄어들지만, val_loss는 점점 상승한다.\n",
        "  - accuracy 역시 train 데이터의 경우 높아지지만, val_accuracy에서는 점점 하락한다."
      ],
      "metadata": {
        "id": "hW6rWN53H9ly"
      }
    },
    {
      "cell_type": "markdown",
      "source": [
        "### **4.4 교차 검증 적용**\n",
        "  - StratifiedKFold를 적용하여 모델 일반화"
      ],
      "metadata": {
        "id": "mQpCnegBIKry"
      }
    },
    {
      "cell_type": "code",
      "source": [
        "# 계층 교차 검증\n",
        "n_fold = 5\n",
        "seed = 42\n",
        "\n",
        "cv = StratifiedKFold(n_splits = n_fold, shuffle = True, random_state = seed)\n",
        "\n",
        "for i, (i_trn, i_val) in enumerate(cv.split(train_x, Y_train), 1):\n",
        "  print(f'training model for CV #{i}')\n",
        "\n",
        "  model3.fit(train_x[i_trn],\n",
        "             to_categorical(Y_train[i_trn]),\n",
        "             validation_data = (train_x[i_val], to_categorical(Y_train[i_val])),\n",
        "             epochs = 10,\n",
        "             batch_size = 512)"
      ],
      "metadata": {
        "colab": {
          "base_uri": "https://localhost:8080/"
        },
        "id": "embmIoIGIH9O",
        "outputId": "a53a04ac-1e47-4940-a3c3-22c033381264"
      },
      "execution_count": 28,
      "outputs": [
        {
          "output_type": "stream",
          "name": "stdout",
          "text": [
            "training model for CV #1\n",
            "Epoch 1/10\n",
            "86/86 [==============================] - 17s 202ms/step - loss: 0.5106 - accuracy: 0.9015 - val_loss: 0.3842 - val_accuracy: 0.9083\n",
            "Epoch 2/10\n",
            "86/86 [==============================] - 13s 147ms/step - loss: 0.3087 - accuracy: 0.9246 - val_loss: 0.3681 - val_accuracy: 0.9097\n",
            "Epoch 3/10\n",
            "86/86 [==============================] - 13s 152ms/step - loss: 0.2579 - accuracy: 0.9353 - val_loss: 0.3682 - val_accuracy: 0.9076\n",
            "Epoch 4/10\n",
            "86/86 [==============================] - 11s 130ms/step - loss: 0.2249 - accuracy: 0.9423 - val_loss: 0.3739 - val_accuracy: 0.9081\n",
            "Epoch 5/10\n",
            "86/86 [==============================] - 11s 132ms/step - loss: 0.1999 - accuracy: 0.9475 - val_loss: 0.3823 - val_accuracy: 0.9062\n",
            "Epoch 6/10\n",
            "86/86 [==============================] - 10s 117ms/step - loss: 0.1793 - accuracy: 0.9529 - val_loss: 0.3912 - val_accuracy: 0.9045\n",
            "Epoch 7/10\n",
            "86/86 [==============================] - 10s 116ms/step - loss: 0.1621 - accuracy: 0.9571 - val_loss: 0.4031 - val_accuracy: 0.9035\n",
            "Epoch 8/10\n",
            "86/86 [==============================] - 10s 116ms/step - loss: 0.1476 - accuracy: 0.9613 - val_loss: 0.4141 - val_accuracy: 0.9022\n",
            "Epoch 9/10\n",
            "86/86 [==============================] - 11s 125ms/step - loss: 0.1346 - accuracy: 0.9634 - val_loss: 0.4292 - val_accuracy: 0.8999\n",
            "Epoch 10/10\n",
            "86/86 [==============================] - 10s 120ms/step - loss: 0.1231 - accuracy: 0.9662 - val_loss: 0.4412 - val_accuracy: 0.8993\n",
            "training model for CV #2\n",
            "Epoch 1/10\n",
            "86/86 [==============================] - 10s 122ms/step - loss: 0.1966 - accuracy: 0.9503 - val_loss: 0.1242 - val_accuracy: 0.9635\n",
            "Epoch 2/10\n",
            "86/86 [==============================] - 10s 113ms/step - loss: 0.1537 - accuracy: 0.9605 - val_loss: 0.1291 - val_accuracy: 0.9611\n",
            "Epoch 3/10\n",
            "86/86 [==============================] - 11s 124ms/step - loss: 0.1320 - accuracy: 0.9649 - val_loss: 0.1358 - val_accuracy: 0.9586\n",
            "Epoch 4/10\n",
            "86/86 [==============================] - 10s 118ms/step - loss: 0.1171 - accuracy: 0.9683 - val_loss: 0.1437 - val_accuracy: 0.9550\n",
            "Epoch 5/10\n",
            "86/86 [==============================] - 10s 121ms/step - loss: 0.1053 - accuracy: 0.9705 - val_loss: 0.1511 - val_accuracy: 0.9525\n",
            "Epoch 6/10\n",
            "86/86 [==============================] - 10s 118ms/step - loss: 0.0952 - accuracy: 0.9724 - val_loss: 0.1613 - val_accuracy: 0.9494\n",
            "Epoch 7/10\n",
            "86/86 [==============================] - 10s 120ms/step - loss: 0.0875 - accuracy: 0.9746 - val_loss: 0.1706 - val_accuracy: 0.9442\n",
            "Epoch 8/10\n",
            "86/86 [==============================] - 10s 114ms/step - loss: 0.0814 - accuracy: 0.9759 - val_loss: 0.1794 - val_accuracy: 0.9416\n",
            "Epoch 9/10\n",
            "86/86 [==============================] - 10s 112ms/step - loss: 0.0755 - accuracy: 0.9766 - val_loss: 0.1927 - val_accuracy: 0.9406\n",
            "Epoch 10/10\n",
            "86/86 [==============================] - 10s 113ms/step - loss: 0.0706 - accuracy: 0.9779 - val_loss: 0.1990 - val_accuracy: 0.9383\n",
            "training model for CV #3\n",
            "Epoch 1/10\n",
            "86/86 [==============================] - 10s 119ms/step - loss: 0.1051 - accuracy: 0.9673 - val_loss: 0.0756 - val_accuracy: 0.9762\n",
            "Epoch 2/10\n",
            "86/86 [==============================] - 10s 113ms/step - loss: 0.0855 - accuracy: 0.9738 - val_loss: 0.0796 - val_accuracy: 0.9743\n",
            "Epoch 3/10\n",
            "86/86 [==============================] - 10s 115ms/step - loss: 0.0751 - accuracy: 0.9762 - val_loss: 0.0841 - val_accuracy: 0.9729\n",
            "Epoch 4/10\n",
            "86/86 [==============================] - 10s 118ms/step - loss: 0.0677 - accuracy: 0.9777 - val_loss: 0.0923 - val_accuracy: 0.9704\n",
            "Epoch 5/10\n",
            "86/86 [==============================] - 10s 113ms/step - loss: 0.0626 - accuracy: 0.9791 - val_loss: 0.0989 - val_accuracy: 0.9661\n",
            "Epoch 6/10\n",
            "86/86 [==============================] - 10s 117ms/step - loss: 0.0578 - accuracy: 0.9803 - val_loss: 0.1040 - val_accuracy: 0.9666\n",
            "Epoch 7/10\n",
            "86/86 [==============================] - 10s 114ms/step - loss: 0.0540 - accuracy: 0.9812 - val_loss: 0.1089 - val_accuracy: 0.9648\n",
            "Epoch 8/10\n",
            "86/86 [==============================] - 10s 114ms/step - loss: 0.0534 - accuracy: 0.9813 - val_loss: 0.1247 - val_accuracy: 0.9595\n",
            "Epoch 9/10\n",
            "86/86 [==============================] - 10s 114ms/step - loss: 0.0524 - accuracy: 0.9811 - val_loss: 0.1334 - val_accuracy: 0.9580\n",
            "Epoch 10/10\n",
            "86/86 [==============================] - 10s 112ms/step - loss: 0.0503 - accuracy: 0.9816 - val_loss: 0.1414 - val_accuracy: 0.9544\n",
            "training model for CV #4\n",
            "Epoch 1/10\n",
            "86/86 [==============================] - 11s 123ms/step - loss: 0.0904 - accuracy: 0.9696 - val_loss: 0.0789 - val_accuracy: 0.9719\n",
            "Epoch 2/10\n",
            "86/86 [==============================] - 10s 118ms/step - loss: 0.0890 - accuracy: 0.9695 - val_loss: 0.1050 - val_accuracy: 0.9628\n",
            "Epoch 3/10\n",
            "86/86 [==============================] - 10s 116ms/step - loss: 0.0739 - accuracy: 0.9752 - val_loss: 0.1140 - val_accuracy: 0.9593\n",
            "Epoch 4/10\n",
            "86/86 [==============================] - 10s 116ms/step - loss: 0.0602 - accuracy: 0.9799 - val_loss: 0.1197 - val_accuracy: 0.9598\n",
            "Epoch 5/10\n",
            "86/86 [==============================] - 10s 114ms/step - loss: 0.0494 - accuracy: 0.9828 - val_loss: 0.1175 - val_accuracy: 0.9606\n",
            "Epoch 6/10\n",
            "86/86 [==============================] - 10s 113ms/step - loss: 0.0445 - accuracy: 0.9841 - val_loss: 0.1293 - val_accuracy: 0.9571\n",
            "Epoch 7/10\n",
            "86/86 [==============================] - 9s 110ms/step - loss: 0.0420 - accuracy: 0.9840 - val_loss: 0.1321 - val_accuracy: 0.9569\n",
            "Epoch 8/10\n",
            "86/86 [==============================] - 10s 113ms/step - loss: 0.0406 - accuracy: 0.9845 - val_loss: 0.1363 - val_accuracy: 0.9544\n",
            "Epoch 9/10\n",
            "86/86 [==============================] - 10s 119ms/step - loss: 0.0389 - accuracy: 0.9848 - val_loss: 0.1412 - val_accuracy: 0.9537\n",
            "Epoch 10/10\n",
            "86/86 [==============================] - 10s 112ms/step - loss: 0.0369 - accuracy: 0.9853 - val_loss: 0.1466 - val_accuracy: 0.9527\n",
            "training model for CV #5\n",
            "Epoch 1/10\n",
            "86/86 [==============================] - 10s 111ms/step - loss: 0.0816 - accuracy: 0.9727 - val_loss: 0.0738 - val_accuracy: 0.9742\n",
            "Epoch 2/10\n",
            "86/86 [==============================] - 10s 112ms/step - loss: 0.0803 - accuracy: 0.9718 - val_loss: 0.0928 - val_accuracy: 0.9685\n",
            "Epoch 3/10\n",
            "86/86 [==============================] - 10s 113ms/step - loss: 0.0698 - accuracy: 0.9750 - val_loss: 0.0982 - val_accuracy: 0.9642\n",
            "Epoch 4/10\n",
            "86/86 [==============================] - 10s 115ms/step - loss: 0.0614 - accuracy: 0.9780 - val_loss: 0.0987 - val_accuracy: 0.9645\n",
            "Epoch 5/10\n",
            "86/86 [==============================] - 10s 117ms/step - loss: 0.0488 - accuracy: 0.9819 - val_loss: 0.1008 - val_accuracy: 0.9642\n",
            "Epoch 6/10\n",
            "86/86 [==============================] - 10s 113ms/step - loss: 0.0418 - accuracy: 0.9838 - val_loss: 0.0954 - val_accuracy: 0.9655\n",
            "Epoch 7/10\n",
            "86/86 [==============================] - 9s 110ms/step - loss: 0.0393 - accuracy: 0.9850 - val_loss: 0.0986 - val_accuracy: 0.9652\n",
            "Epoch 8/10\n",
            "86/86 [==============================] - 10s 111ms/step - loss: 0.0374 - accuracy: 0.9851 - val_loss: 0.0999 - val_accuracy: 0.9652\n",
            "Epoch 9/10\n",
            "86/86 [==============================] - 10s 118ms/step - loss: 0.0368 - accuracy: 0.9849 - val_loss: 0.1058 - val_accuracy: 0.9636\n",
            "Epoch 10/10\n",
            "86/86 [==============================] - 9s 110ms/step - loss: 0.0371 - accuracy: 0.9851 - val_loss: 0.1146 - val_accuracy: 0.9628\n"
          ]
        }
      ]
    },
    {
      "cell_type": "markdown",
      "source": [
        "  - 기존보다 개선된 결과값을 보이지만, val_loss와 val_accuracy는 여전히 개선이 필요하다.\n",
        "  - val_loss와 val_accuracy 결과값을 보면, 조기종료 옵션을 추가하는 것이 필요할 것으로 보인다."
      ],
      "metadata": {
        "id": "ep72sn0RItY6"
      }
    },
    {
      "cell_type": "code",
      "source": [
        "# 계층 교차 검증\n",
        "n_fold = 5\n",
        "seed = 42\n",
        "\n",
        "cv = StratifiedKFold(n_splits = n_fold, shuffle = True, random_state = seed)\n",
        "\n",
        "# 테스트 데이터의 예측값 담을 곳 생성\n",
        "test_y = np.zeros((test_x.shape[0], 5))\n",
        "\n",
        "# 조기 종료 옵션 추가\n",
        "es = EarlyStopping(monitor = 'val_loss', min_delta = 0.001, patience = 3,\n",
        "                   verbose = 1, mode = 'min', baseline = None, restore_best_weights = True)\n",
        "\n",
        "for i, (i_trn, i_val) in enumerate(cv.split(train_x, Y_train), 1):\n",
        "  print(f'training model for CV #{i}')\n",
        "\n",
        "  model3.fit(train_x[i_trn],\n",
        "             to_categorical(Y_train[i_trn]),\n",
        "             validation_data = (train_x[i_val], to_categorical(Y_train[i_val])),\n",
        "             epochs = 10,\n",
        "             batch_size = 512,\n",
        "             callbacks = [es])    # 조기 종료 옵션\n",
        "\n",
        "  test_y += model3.predict(test_x) / n_fold   # 나온 예측값들을 교차 검증 횟수로 나눈다."
      ],
      "metadata": {
        "colab": {
          "base_uri": "https://localhost:8080/"
        },
        "id": "lDNqvcsZI5Ck",
        "outputId": "02e5cf32-1bc9-4b41-87dc-042326a247dc"
      },
      "execution_count": 29,
      "outputs": [
        {
          "output_type": "stream",
          "name": "stdout",
          "text": [
            "training model for CV #1\n",
            "Epoch 1/10\n",
            "86/86 [==============================] - 10s 117ms/step - loss: 0.0767 - accuracy: 0.9729 - val_loss: 0.0666 - val_accuracy: 0.9770\n",
            "Epoch 2/10\n",
            "86/86 [==============================] - 10s 116ms/step - loss: 0.0786 - accuracy: 0.9719 - val_loss: 0.0870 - val_accuracy: 0.9677\n",
            "Epoch 3/10\n",
            "86/86 [==============================] - 10s 114ms/step - loss: 0.0589 - accuracy: 0.9782 - val_loss: 0.0897 - val_accuracy: 0.9675\n",
            "Epoch 4/10\n",
            "86/86 [==============================] - ETA: 0s - loss: 0.0477 - accuracy: 0.9819Restoring model weights from the end of the best epoch: 1.\n",
            "86/86 [==============================] - 10s 111ms/step - loss: 0.0477 - accuracy: 0.9819 - val_loss: 0.0990 - val_accuracy: 0.9669\n",
            "Epoch 4: early stopping\n",
            "614/614 [==============================] - 10s 14ms/step\n",
            "training model for CV #2\n",
            "Epoch 1/10\n",
            "86/86 [==============================] - 10s 111ms/step - loss: 0.0684 - accuracy: 0.9745 - val_loss: 0.0667 - val_accuracy: 0.9755\n",
            "Epoch 2/10\n",
            "86/86 [==============================] - 10s 112ms/step - loss: 0.0515 - accuracy: 0.9810 - val_loss: 0.0675 - val_accuracy: 0.9752\n",
            "Epoch 3/10\n",
            "86/86 [==============================] - 10s 112ms/step - loss: 0.0418 - accuracy: 0.9842 - val_loss: 0.0676 - val_accuracy: 0.9739\n",
            "Epoch 4/10\n",
            "86/86 [==============================] - ETA: 0s - loss: 0.0370 - accuracy: 0.9856Restoring model weights from the end of the best epoch: 1.\n",
            "86/86 [==============================] - 10s 113ms/step - loss: 0.0370 - accuracy: 0.9856 - val_loss: 0.0695 - val_accuracy: 0.9738\n",
            "Epoch 4: early stopping\n",
            "614/614 [==============================] - 7s 12ms/step\n",
            "training model for CV #3\n",
            "Epoch 1/10\n",
            "86/86 [==============================] - 10s 119ms/step - loss: 0.0538 - accuracy: 0.9801 - val_loss: 0.0531 - val_accuracy: 0.9803\n",
            "Epoch 2/10\n",
            "86/86 [==============================] - 10s 112ms/step - loss: 0.0473 - accuracy: 0.9821 - val_loss: 0.0564 - val_accuracy: 0.9797\n",
            "Epoch 3/10\n",
            "86/86 [==============================] - 10s 112ms/step - loss: 0.0423 - accuracy: 0.9835 - val_loss: 0.0614 - val_accuracy: 0.9780\n",
            "Epoch 4/10\n",
            "86/86 [==============================] - ETA: 0s - loss: 0.0395 - accuracy: 0.9845Restoring model weights from the end of the best epoch: 1.\n",
            "86/86 [==============================] - 10s 119ms/step - loss: 0.0395 - accuracy: 0.9845 - val_loss: 0.0636 - val_accuracy: 0.9770\n",
            "Epoch 4: early stopping\n",
            "614/614 [==============================] - 7s 12ms/step\n",
            "training model for CV #4\n",
            "Epoch 1/10\n",
            "86/86 [==============================] - 10s 116ms/step - loss: 0.0464 - accuracy: 0.9826 - val_loss: 0.0542 - val_accuracy: 0.9795\n",
            "Epoch 2/10\n",
            "86/86 [==============================] - 9s 110ms/step - loss: 0.0418 - accuracy: 0.9837 - val_loss: 0.0548 - val_accuracy: 0.9788\n",
            "Epoch 3/10\n",
            "86/86 [==============================] - 10s 111ms/step - loss: 0.0387 - accuracy: 0.9852 - val_loss: 0.0572 - val_accuracy: 0.9776\n",
            "Epoch 4/10\n",
            "86/86 [==============================] - ETA: 0s - loss: 0.0355 - accuracy: 0.9855Restoring model weights from the end of the best epoch: 1.\n",
            "86/86 [==============================] - 9s 111ms/step - loss: 0.0355 - accuracy: 0.9855 - val_loss: 0.0587 - val_accuracy: 0.9784\n",
            "Epoch 4: early stopping\n",
            "614/614 [==============================] - 8s 14ms/step\n",
            "training model for CV #5\n",
            "Epoch 1/10\n",
            "86/86 [==============================] - 10s 114ms/step - loss: 0.0485 - accuracy: 0.9815 - val_loss: 0.0511 - val_accuracy: 0.9811\n",
            "Epoch 2/10\n",
            "86/86 [==============================] - 10s 122ms/step - loss: 0.0432 - accuracy: 0.9834 - val_loss: 0.0581 - val_accuracy: 0.9781\n",
            "Epoch 3/10\n",
            "86/86 [==============================] - 10s 116ms/step - loss: 0.0416 - accuracy: 0.9839 - val_loss: 0.0604 - val_accuracy: 0.9771\n",
            "Epoch 4/10\n",
            "86/86 [==============================] - ETA: 0s - loss: 0.0400 - accuracy: 0.9845Restoring model weights from the end of the best epoch: 1.\n",
            "86/86 [==============================] - 10s 117ms/step - loss: 0.0400 - accuracy: 0.9845 - val_loss: 0.0663 - val_accuracy: 0.9756\n",
            "Epoch 4: early stopping\n",
            "614/614 [==============================] - 8s 14ms/step\n"
          ]
        }
      ]
    },
    {
      "cell_type": "markdown",
      "source": [
        "### **4.5 테스트 데이터 적용**"
      ],
      "metadata": {
        "id": "nc877BqaKZ6B"
      }
    },
    {
      "cell_type": "code",
      "source": [
        "# 테스트 데이터의 예측값 확인\n",
        "test_y"
      ],
      "metadata": {
        "colab": {
          "base_uri": "https://localhost:8080/"
        },
        "id": "1JcoHJajKdRM",
        "outputId": "bda37b33-688e-4dca-9425-e56080f24e28"
      },
      "execution_count": 30,
      "outputs": [
        {
          "output_type": "execute_result",
          "data": {
            "text/plain": [
              "array([[2.46717861e-08, 9.99999493e-01, 1.81935501e-07, 2.92720613e-07,\n",
              "        1.39211745e-08],\n",
              "       [6.68620016e-01, 3.26708068e-01, 1.98154282e-04, 2.84978320e-04,\n",
              "        4.18879447e-03],\n",
              "       [8.45710916e-04, 6.24737856e-03, 5.65519235e-05, 4.95302115e-03,\n",
              "        9.87897292e-01],\n",
              "       ...,\n",
              "       [2.09750329e-08, 9.99999911e-01, 5.70549490e-08, 4.88189485e-09,\n",
              "        2.48345046e-08],\n",
              "       [4.57523281e-08, 9.99999791e-01, 4.15197972e-08, 1.67582531e-07,\n",
              "        3.19207270e-08],\n",
              "       [5.64456447e-04, 3.28030250e-05, 9.99365106e-01, 3.49549221e-05,\n",
              "        2.66826993e-06]])"
            ]
          },
          "metadata": {},
          "execution_count": 30
        }
      ]
    },
    {
      "cell_type": "code",
      "source": [
        "# sample_submission에 대입\n",
        "sample_submission[['0', '1', '2', '3', '4']] = test_y\n",
        "sample_submission"
      ],
      "metadata": {
        "colab": {
          "base_uri": "https://localhost:8080/",
          "height": 423
        },
        "id": "8bBPd1hgKfTp",
        "outputId": "af6d45c7-45fe-4f29-d395-2d4fb5bf28cc"
      },
      "execution_count": 31,
      "outputs": [
        {
          "output_type": "execute_result",
          "data": {
            "text/plain": [
              "       index             0         1             2             3             4\n",
              "0          0  2.467179e-08  0.999999  1.819355e-07  2.927206e-07  1.392117e-08\n",
              "1          1  6.686200e-01  0.326708  1.981543e-04  2.849783e-04  4.188794e-03\n",
              "2          2  8.457109e-04  0.006247  5.655192e-05  4.953021e-03  9.878973e-01\n",
              "3          3  7.556477e-05  0.000040  9.998679e-01  1.487590e-05  1.342507e-06\n",
              "4          4  9.815386e-01  0.000012  1.670785e-03  5.781176e-03  1.099726e-02\n",
              "...      ...           ...       ...           ...           ...           ...\n",
              "19612  19612  3.773373e-06  0.999988  2.123892e-06  3.649735e-07  5.697383e-06\n",
              "19613  19613  1.995911e-01  0.000250  1.860303e-03  2.085594e-03  7.962127e-01\n",
              "19614  19614  2.097503e-08  1.000000  5.705495e-08  4.881895e-09  2.483450e-08\n",
              "19615  19615  4.575233e-08  1.000000  4.151980e-08  1.675825e-07  3.192073e-08\n",
              "19616  19616  5.644564e-04  0.000033  9.993651e-01  3.495492e-05  2.668270e-06\n",
              "\n",
              "[19617 rows x 6 columns]"
            ],
            "text/html": [
              "\n",
              "  <div id=\"df-c6fdaece-c312-4611-b548-a843f7115d25\">\n",
              "    <div class=\"colab-df-container\">\n",
              "      <div>\n",
              "<style scoped>\n",
              "    .dataframe tbody tr th:only-of-type {\n",
              "        vertical-align: middle;\n",
              "    }\n",
              "\n",
              "    .dataframe tbody tr th {\n",
              "        vertical-align: top;\n",
              "    }\n",
              "\n",
              "    .dataframe thead th {\n",
              "        text-align: right;\n",
              "    }\n",
              "</style>\n",
              "<table border=\"1\" class=\"dataframe\">\n",
              "  <thead>\n",
              "    <tr style=\"text-align: right;\">\n",
              "      <th></th>\n",
              "      <th>index</th>\n",
              "      <th>0</th>\n",
              "      <th>1</th>\n",
              "      <th>2</th>\n",
              "      <th>3</th>\n",
              "      <th>4</th>\n",
              "    </tr>\n",
              "  </thead>\n",
              "  <tbody>\n",
              "    <tr>\n",
              "      <th>0</th>\n",
              "      <td>0</td>\n",
              "      <td>2.467179e-08</td>\n",
              "      <td>0.999999</td>\n",
              "      <td>1.819355e-07</td>\n",
              "      <td>2.927206e-07</td>\n",
              "      <td>1.392117e-08</td>\n",
              "    </tr>\n",
              "    <tr>\n",
              "      <th>1</th>\n",
              "      <td>1</td>\n",
              "      <td>6.686200e-01</td>\n",
              "      <td>0.326708</td>\n",
              "      <td>1.981543e-04</td>\n",
              "      <td>2.849783e-04</td>\n",
              "      <td>4.188794e-03</td>\n",
              "    </tr>\n",
              "    <tr>\n",
              "      <th>2</th>\n",
              "      <td>2</td>\n",
              "      <td>8.457109e-04</td>\n",
              "      <td>0.006247</td>\n",
              "      <td>5.655192e-05</td>\n",
              "      <td>4.953021e-03</td>\n",
              "      <td>9.878973e-01</td>\n",
              "    </tr>\n",
              "    <tr>\n",
              "      <th>3</th>\n",
              "      <td>3</td>\n",
              "      <td>7.556477e-05</td>\n",
              "      <td>0.000040</td>\n",
              "      <td>9.998679e-01</td>\n",
              "      <td>1.487590e-05</td>\n",
              "      <td>1.342507e-06</td>\n",
              "    </tr>\n",
              "    <tr>\n",
              "      <th>4</th>\n",
              "      <td>4</td>\n",
              "      <td>9.815386e-01</td>\n",
              "      <td>0.000012</td>\n",
              "      <td>1.670785e-03</td>\n",
              "      <td>5.781176e-03</td>\n",
              "      <td>1.099726e-02</td>\n",
              "    </tr>\n",
              "    <tr>\n",
              "      <th>...</th>\n",
              "      <td>...</td>\n",
              "      <td>...</td>\n",
              "      <td>...</td>\n",
              "      <td>...</td>\n",
              "      <td>...</td>\n",
              "      <td>...</td>\n",
              "    </tr>\n",
              "    <tr>\n",
              "      <th>19612</th>\n",
              "      <td>19612</td>\n",
              "      <td>3.773373e-06</td>\n",
              "      <td>0.999988</td>\n",
              "      <td>2.123892e-06</td>\n",
              "      <td>3.649735e-07</td>\n",
              "      <td>5.697383e-06</td>\n",
              "    </tr>\n",
              "    <tr>\n",
              "      <th>19613</th>\n",
              "      <td>19613</td>\n",
              "      <td>1.995911e-01</td>\n",
              "      <td>0.000250</td>\n",
              "      <td>1.860303e-03</td>\n",
              "      <td>2.085594e-03</td>\n",
              "      <td>7.962127e-01</td>\n",
              "    </tr>\n",
              "    <tr>\n",
              "      <th>19614</th>\n",
              "      <td>19614</td>\n",
              "      <td>2.097503e-08</td>\n",
              "      <td>1.000000</td>\n",
              "      <td>5.705495e-08</td>\n",
              "      <td>4.881895e-09</td>\n",
              "      <td>2.483450e-08</td>\n",
              "    </tr>\n",
              "    <tr>\n",
              "      <th>19615</th>\n",
              "      <td>19615</td>\n",
              "      <td>4.575233e-08</td>\n",
              "      <td>1.000000</td>\n",
              "      <td>4.151980e-08</td>\n",
              "      <td>1.675825e-07</td>\n",
              "      <td>3.192073e-08</td>\n",
              "    </tr>\n",
              "    <tr>\n",
              "      <th>19616</th>\n",
              "      <td>19616</td>\n",
              "      <td>5.644564e-04</td>\n",
              "      <td>0.000033</td>\n",
              "      <td>9.993651e-01</td>\n",
              "      <td>3.495492e-05</td>\n",
              "      <td>2.668270e-06</td>\n",
              "    </tr>\n",
              "  </tbody>\n",
              "</table>\n",
              "<p>19617 rows × 6 columns</p>\n",
              "</div>\n",
              "      <button class=\"colab-df-convert\" onclick=\"convertToInteractive('df-c6fdaece-c312-4611-b548-a843f7115d25')\"\n",
              "              title=\"Convert this dataframe to an interactive table.\"\n",
              "              style=\"display:none;\">\n",
              "        \n",
              "  <svg xmlns=\"http://www.w3.org/2000/svg\" height=\"24px\"viewBox=\"0 0 24 24\"\n",
              "       width=\"24px\">\n",
              "    <path d=\"M0 0h24v24H0V0z\" fill=\"none\"/>\n",
              "    <path d=\"M18.56 5.44l.94 2.06.94-2.06 2.06-.94-2.06-.94-.94-2.06-.94 2.06-2.06.94zm-11 1L8.5 8.5l.94-2.06 2.06-.94-2.06-.94L8.5 2.5l-.94 2.06-2.06.94zm10 10l.94 2.06.94-2.06 2.06-.94-2.06-.94-.94-2.06-.94 2.06-2.06.94z\"/><path d=\"M17.41 7.96l-1.37-1.37c-.4-.4-.92-.59-1.43-.59-.52 0-1.04.2-1.43.59L10.3 9.45l-7.72 7.72c-.78.78-.78 2.05 0 2.83L4 21.41c.39.39.9.59 1.41.59.51 0 1.02-.2 1.41-.59l7.78-7.78 2.81-2.81c.8-.78.8-2.07 0-2.86zM5.41 20L4 18.59l7.72-7.72 1.47 1.35L5.41 20z\"/>\n",
              "  </svg>\n",
              "      </button>\n",
              "      \n",
              "  <style>\n",
              "    .colab-df-container {\n",
              "      display:flex;\n",
              "      flex-wrap:wrap;\n",
              "      gap: 12px;\n",
              "    }\n",
              "\n",
              "    .colab-df-convert {\n",
              "      background-color: #E8F0FE;\n",
              "      border: none;\n",
              "      border-radius: 50%;\n",
              "      cursor: pointer;\n",
              "      display: none;\n",
              "      fill: #1967D2;\n",
              "      height: 32px;\n",
              "      padding: 0 0 0 0;\n",
              "      width: 32px;\n",
              "    }\n",
              "\n",
              "    .colab-df-convert:hover {\n",
              "      background-color: #E2EBFA;\n",
              "      box-shadow: 0px 1px 2px rgba(60, 64, 67, 0.3), 0px 1px 3px 1px rgba(60, 64, 67, 0.15);\n",
              "      fill: #174EA6;\n",
              "    }\n",
              "\n",
              "    [theme=dark] .colab-df-convert {\n",
              "      background-color: #3B4455;\n",
              "      fill: #D2E3FC;\n",
              "    }\n",
              "\n",
              "    [theme=dark] .colab-df-convert:hover {\n",
              "      background-color: #434B5C;\n",
              "      box-shadow: 0px 1px 3px 1px rgba(0, 0, 0, 0.15);\n",
              "      filter: drop-shadow(0px 1px 2px rgba(0, 0, 0, 0.3));\n",
              "      fill: #FFFFFF;\n",
              "    }\n",
              "  </style>\n",
              "\n",
              "      <script>\n",
              "        const buttonEl =\n",
              "          document.querySelector('#df-c6fdaece-c312-4611-b548-a843f7115d25 button.colab-df-convert');\n",
              "        buttonEl.style.display =\n",
              "          google.colab.kernel.accessAllowed ? 'block' : 'none';\n",
              "\n",
              "        async function convertToInteractive(key) {\n",
              "          const element = document.querySelector('#df-c6fdaece-c312-4611-b548-a843f7115d25');\n",
              "          const dataTable =\n",
              "            await google.colab.kernel.invokeFunction('convertToInteractive',\n",
              "                                                     [key], {});\n",
              "          if (!dataTable) return;\n",
              "\n",
              "          const docLinkHtml = 'Like what you see? Visit the ' +\n",
              "            '<a target=\"_blank\" href=https://colab.research.google.com/notebooks/data_table.ipynb>data table notebook</a>'\n",
              "            + ' to learn more about interactive tables.';\n",
              "          element.innerHTML = '';\n",
              "          dataTable['output_type'] = 'display_data';\n",
              "          await google.colab.output.renderOutput(dataTable, element);\n",
              "          const docLink = document.createElement('div');\n",
              "          docLink.innerHTML = docLinkHtml;\n",
              "          element.appendChild(docLink);\n",
              "        }\n",
              "      </script>\n",
              "    </div>\n",
              "  </div>\n",
              "  "
            ]
          },
          "metadata": {},
          "execution_count": 31
        }
      ]
    }
  ]
}