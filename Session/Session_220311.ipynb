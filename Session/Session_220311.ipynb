{
  "nbformat": 4,
  "nbformat_minor": 0,
  "metadata": {
    "colab": {
      "name": "Session_220311.py의 사본",
      "provenance": [],
      "collapsed_sections": [],
      "include_colab_link": true
    },
    "kernelspec": {
      "name": "python3",
      "display_name": "Python 3"
    },
    "language_info": {
      "name": "python"
    }
  },
  "cells": [
    {
      "cell_type": "markdown",
      "metadata": {
        "id": "view-in-github",
        "colab_type": "text"
      },
      "source": [
        "<a href=\"https://colab.research.google.com/github/wldopie/ESAA/blob/main/Session_220311.ipynb\" target=\"_parent\"><img src=\"https://colab.research.google.com/assets/colab-badge.svg\" alt=\"Open In Colab\"/></a>"
      ]
    },
    {
      "cell_type": "markdown",
      "source": [
        ""
      ],
      "metadata": {
        "id": "MCka1C4qJQl5"
      }
    },
    {
      "cell_type": "markdown",
      "source": [
        "# **자료형**"
      ],
      "metadata": {
        "id": "fd1zwnm-j7B1"
      }
    },
    {
      "cell_type": "markdown",
      "source": [
        "##Q1. 다음 수의 평균을 구하세요.\n",
        "\n",
        "80, 75, 55, 95"
      ],
      "metadata": {
        "id": "jUpWjtvlj9JV"
      }
    },
    {
      "cell_type": "code",
      "source": [
        "print((80+75+55+95)/4)"
      ],
      "metadata": {
        "id": "YcP79wQgj3bh",
        "colab": {
          "base_uri": "https://localhost:8080/"
        },
        "outputId": "d77a02b0-d19f-4064-88c4-3b9877f1ddb8"
      },
      "execution_count": null,
      "outputs": [
        {
          "output_type": "stream",
          "name": "stdout",
          "text": [
            "76.25\n"
          ]
        }
      ]
    },
    {
      "cell_type": "markdown",
      "source": [
        "##Q2. 주민등록번호를 연월일(YYYYMMDD) 부분과 그 뒤의 숫자 부분으로 나누어 출력하세요.\n",
        "홍길동 씨의 주민등록번호는 881120-1068234이다."
      ],
      "metadata": {
        "id": "pHK3T87Zkcte"
      }
    },
    {
      "cell_type": "code",
      "source": [
        "# 답을 작성해주세요\n",
        "id_Hong = \"881120-1068234\"\n",
        "print(id_Hong.split('-'))"
      ],
      "metadata": {
        "id": "yZEM63Xok9xi",
        "colab": {
          "base_uri": "https://localhost:8080/"
        },
        "outputId": "ed0e849c-d458-4899-f0f7-980144cecab4"
      },
      "execution_count": null,
      "outputs": [
        {
          "output_type": "stream",
          "name": "stdout",
          "text": [
            "['881120', '1068234']\n"
          ]
        }
      ]
    },
    {
      "cell_type": "markdown",
      "source": [
        "##Q4. 주민등록번호에서 성별을 나타내는 숫자를 출력하세요.\n",
        "주민등록번호 뒷자리의 첫 번째 숫자는 성별을 나타낸다. "
      ],
      "metadata": {
        "id": "WojXUmuslVIS"
      }
    },
    {
      "cell_type": "code",
      "source": [
        "# 답을 작성해주세요\n",
        "id_pin = \"881120-2153468\"\n",
        "print(id_pin[7])"
      ],
      "metadata": {
        "id": "ZAhDqYOglqZ-",
        "colab": {
          "base_uri": "https://localhost:8080/"
        },
        "outputId": "49f64d11-91da-476e-aa76-73075ed7e0b7"
      },
      "execution_count": null,
      "outputs": [
        {
          "output_type": "stream",
          "name": "stdout",
          "text": [
            "2\n"
          ]
        }
      ]
    },
    {
      "cell_type": "markdown",
      "source": [
        "##Q5. [1, 3, 5, 4, 2] 리스트를 [5, 4, 3, 2, 1]로 정렬하세요"
      ],
      "metadata": {
        "id": "lbWsPuOEl-y5"
      }
    },
    {
      "cell_type": "code",
      "source": [
        "# 답을 작성해주세요\n",
        "rand_list = [1, 3, 5, 4, 2]\n",
        "rand_list.sort(reverse=True)\n",
        "print(rand_list)"
      ],
      "metadata": {
        "id": "dI2gioTKmnVC",
        "colab": {
          "base_uri": "https://localhost:8080/"
        },
        "outputId": "2a8a8512-d160-4431-d730-6520bf5829de"
      },
      "execution_count": null,
      "outputs": [
        {
          "output_type": "stream",
          "name": "stdout",
          "text": [
            "[5, 4, 3, 2, 1]\n"
          ]
        }
      ]
    },
    {
      "cell_type": "markdown",
      "source": [
        "##Q7. 다음 리스트를 Life is too short 문자열로 만들어 출력하세요"
      ],
      "metadata": {
        "id": "us3I2cpem2bz"
      }
    },
    {
      "cell_type": "code",
      "source": [
        "# 답을 작성해주세요\n",
        "string_list = ['Life', 'is', 'too', 'short']\n",
        "str = ' '.join(string_list)   # 단어 사이에 공백을 주기 위해 ' '로 설정\n",
        "print(str)"
      ],
      "metadata": {
        "id": "G38tHstZnF5s",
        "colab": {
          "base_uri": "https://localhost:8080/"
        },
        "outputId": "c97995d8-0a3c-4409-8dd5-474715de5296"
      },
      "execution_count": null,
      "outputs": [
        {
          "output_type": "stream",
          "name": "stdout",
          "text": [
            "Life is too short\n"
          ]
        }
      ]
    },
    {
      "cell_type": "markdown",
      "source": [
        "# **제어문**"
      ],
      "metadata": {
        "id": "e4Bbr6rmdnph"
      }
    },
    {
      "cell_type": "markdown",
      "source": [
        "## Q1. 다음 코드의 결과는?\n",
        "\n",
        "a = \"Life is too short, you need python\""
      ],
      "metadata": {
        "id": "sfAPtg9kd1kA"
      }
    },
    {
      "cell_type": "markdown",
      "source": [
        "if \"wife\" in a: print(\"wife\")\n",
        "\n",
        "elif \"python\" in a and \"you\" not in a: print(\"python\")\n",
        "\n",
        "elif \"shirt\" not in a: print(\"shirt\")\n",
        "\n",
        "elif \"need\" in a: print(\"need\")\n",
        "\n",
        "else: print(\"none\")"
      ],
      "metadata": {
        "id": "7C41kezXeCMk"
      }
    },
    {
      "cell_type": "code",
      "execution_count": null,
      "metadata": {
        "id": "coCD7rBhdgA4"
      },
      "outputs": [],
      "source": [
        "# 답을 작성해주세요\n",
        "# \"shirt\"가 출력된다."
      ]
    },
    {
      "cell_type": "markdown",
      "source": [
        "##Q2. while문을 사용해 1부터 1000까지의 자연수 중 3의 배수의 합을 구하세요"
      ],
      "metadata": {
        "id": "E_lrf3dxeTM9"
      }
    },
    {
      "cell_type": "code",
      "source": [
        "# 답을 작성해주세요\n",
        "sum = 0\n",
        "i = 1\n",
        "while i <= 1000 :\n",
        "  if i % 3 == 0:\n",
        "      sum += i\n",
        "  i += 1\n",
        "\n",
        "print(sum)"
      ],
      "metadata": {
        "id": "FnUBJZTCedgs",
        "colab": {
          "base_uri": "https://localhost:8080/"
        },
        "outputId": "23597611-ba01-4976-c1ef-040e88fb7623"
      },
      "execution_count": null,
      "outputs": [
        {
          "output_type": "stream",
          "name": "stdout",
          "text": [
            "166833\n"
          ]
        }
      ]
    },
    {
      "cell_type": "markdown",
      "source": [
        "## Q3. while문을 사용하여 다음과 같이 별(*)을 표시하는 프로그램을 작성하세요"
      ],
      "metadata": {
        "id": "h4XcuXk7ei0B"
      }
    },
    {
      "cell_type": "code",
      "source": [
        "# 답을 작성해주세요\n",
        "i = 1\n",
        "while i <= 5:\n",
        "  print('*'* i)\n",
        "  i += 1"
      ],
      "metadata": {
        "id": "3Zu5X5vnfM1k",
        "colab": {
          "base_uri": "https://localhost:8080/"
        },
        "outputId": "1eeac0f9-4656-4b68-e6df-7b73aa665b3f"
      },
      "execution_count": null,
      "outputs": [
        {
          "output_type": "stream",
          "name": "stdout",
          "text": [
            "*\n",
            "**\n",
            "***\n",
            "****\n",
            "*****\n"
          ]
        }
      ]
    },
    {
      "cell_type": "markdown",
      "source": [
        "## Q4. for문을 사용해 1부터 100까지의 숫자를 출력하세요"
      ],
      "metadata": {
        "id": "uNTYJ3iQfO6c"
      }
    },
    {
      "cell_type": "code",
      "source": [
        "# 답을 작성해주세요\n",
        "\n",
        "for i in range(1,101):\n",
        "  print(i)"
      ],
      "metadata": {
        "id": "haJmxZDAfWJ4",
        "colab": {
          "base_uri": "https://localhost:8080/"
        },
        "outputId": "18681844-f2e4-4591-831d-8138d52efc82"
      },
      "execution_count": null,
      "outputs": [
        {
          "output_type": "stream",
          "name": "stdout",
          "text": [
            "1\n",
            "2\n",
            "3\n",
            "4\n",
            "5\n",
            "6\n",
            "7\n",
            "8\n",
            "9\n",
            "10\n",
            "11\n",
            "12\n",
            "13\n",
            "14\n",
            "15\n",
            "16\n",
            "17\n",
            "18\n",
            "19\n",
            "20\n",
            "21\n",
            "22\n",
            "23\n",
            "24\n",
            "25\n",
            "26\n",
            "27\n",
            "28\n",
            "29\n",
            "30\n",
            "31\n",
            "32\n",
            "33\n",
            "34\n",
            "35\n",
            "36\n",
            "37\n",
            "38\n",
            "39\n",
            "40\n",
            "41\n",
            "42\n",
            "43\n",
            "44\n",
            "45\n",
            "46\n",
            "47\n",
            "48\n",
            "49\n",
            "50\n",
            "51\n",
            "52\n",
            "53\n",
            "54\n",
            "55\n",
            "56\n",
            "57\n",
            "58\n",
            "59\n",
            "60\n",
            "61\n",
            "62\n",
            "63\n",
            "64\n",
            "65\n",
            "66\n",
            "67\n",
            "68\n",
            "69\n",
            "70\n",
            "71\n",
            "72\n",
            "73\n",
            "74\n",
            "75\n",
            "76\n",
            "77\n",
            "78\n",
            "79\n",
            "80\n",
            "81\n",
            "82\n",
            "83\n",
            "84\n",
            "85\n",
            "86\n",
            "87\n",
            "88\n",
            "89\n",
            "90\n",
            "91\n",
            "92\n",
            "93\n",
            "94\n",
            "95\n",
            "96\n",
            "97\n",
            "98\n",
            "99\n",
            "100\n"
          ]
        }
      ]
    },
    {
      "cell_type": "markdown",
      "source": [
        "##Q5. for문을 사용하여 평균을 구하세요.\n",
        "\n",
        "A 학급에 총 10명의 학생이 있다. 이 학생들의 중간고사 점수는 다음과 같다.\n",
        "\n",
        "[70, 60, 55, 75, 95, 90, 80, 80, 85, 100]"
      ],
      "metadata": {
        "id": "_qOXRe6CfYQP"
      }
    },
    {
      "cell_type": "code",
      "source": [
        "# 답을 작성해주세요\n",
        "list_a = [70, 60, 55, 75, 95, 90, 80, 80, 85, 100]\n",
        "sum = 0\n",
        "for grade in list_a:\n",
        "  sum += grade\n",
        "  mean = sum/len(list_a)\n",
        "\n",
        "print(mean)"
      ],
      "metadata": {
        "id": "aSsOy9dNfXpJ",
        "colab": {
          "base_uri": "https://localhost:8080/"
        },
        "outputId": "a12b835d-8bcd-4c8b-db57-d7d83260ae5b"
      },
      "execution_count": null,
      "outputs": [
        {
          "output_type": "stream",
          "name": "stdout",
          "text": [
            "79.0\n"
          ]
        }
      ]
    },
    {
      "cell_type": "markdown",
      "source": [
        "##Q6. number list에서 홀수에만 2를 곱해 결과를 result에 저장한 후 출력하세요"
      ],
      "metadata": {
        "id": "65dpTuUffy73"
      }
    },
    {
      "cell_type": "code",
      "source": [
        "numbers = [1, 2, 3, 4, 5]\n",
        "result = [] \n",
        "for num in numbers:\n",
        "  if num % 2 ==1:\n",
        "    result.append(num*2)\n",
        "  else:\n",
        "    result.append(num)\n",
        "print(result)"
      ],
      "metadata": {
        "id": "vxEAtDQ2fyem",
        "colab": {
          "base_uri": "https://localhost:8080/"
        },
        "outputId": "6bfbb32c-3db6-40d9-cd2f-54444f138a54"
      },
      "execution_count": null,
      "outputs": [
        {
          "output_type": "stream",
          "name": "stdout",
          "text": [
            "[2, 2, 6, 4, 10]\n"
          ]
        }
      ]
    },
    {
      "cell_type": "markdown",
      "source": [
        "# **함수와 입출력**"
      ],
      "metadata": {
        "id": "2cqJNh90gaLm"
      }
    },
    {
      "cell_type": "markdown",
      "source": [
        "##Q1. 주어진 자연수가 홀수인지 짝수인지 판별하는 함수를 작성하세요"
      ],
      "metadata": {
        "id": "SqFHUlJjgn6v"
      }
    },
    {
      "cell_type": "code",
      "source": [
        "# 답을 작성해주세요\n",
        "def is_odd(a):\n",
        "  if a % 2 == 0:\n",
        "    print(\"짝수\")\n",
        "  else:\n",
        "    print(\"홀수\")\n",
        "\n",
        "is_odd(5)"
      ],
      "metadata": {
        "id": "rWJTjYVWgZ5Z",
        "colab": {
          "base_uri": "https://localhost:8080/"
        },
        "outputId": "ff830d60-a978-47aa-8e44-c865accccb09"
      },
      "execution_count": null,
      "outputs": [
        {
          "output_type": "stream",
          "name": "stdout",
          "text": [
            "홀수\n"
          ]
        }
      ]
    },
    {
      "cell_type": "markdown",
      "source": [
        "##Q2. 입력으로 들어오는 모든 수의 평균을 계산해주는 함수를 작성하고 실행하세요\n",
        "(입력으로 들어오는 수의 개수는 랜덤입니다.)"
      ],
      "metadata": {
        "id": "8e3ezwkygx6a"
      }
    },
    {
      "cell_type": "code",
      "source": [
        "# 답을 작성해주세요\n",
        "def average_rand(n):\n",
        "  sum = 0\n",
        "  for num in n:\n",
        "    sum += num\n",
        "  mean = sum/len(n)\n",
        "  return mean\n",
        "\n",
        "average_rand([12,15,78])    # 숫자는 리스트 형태로 입력해야 오류없이 작동"
      ],
      "metadata": {
        "id": "tEQJxYVBhDSz",
        "colab": {
          "base_uri": "https://localhost:8080/"
        },
        "outputId": "5aa9f9e8-aad2-43ec-cf02-460094c24ae0"
      },
      "execution_count": null,
      "outputs": [
        {
          "output_type": "execute_result",
          "data": {
            "text/plain": [
              "35.0"
            ]
          },
          "metadata": {},
          "execution_count": 15
        }
      ]
    },
    {
      "cell_type": "markdown",
      "source": [
        "##Q3. 다음 프로그램의 오류를 수정하고 실행하세요"
      ],
      "metadata": {
        "id": "3xumzArZhC65"
      }
    },
    {
      "cell_type": "code",
      "source": [
        "input1 = input(\"첫번째 숫자를 입력하세요:\")\n",
        "input2 = input(\"두번째 숫자를 입력하세요:\")\n",
        "\n",
        "total = input1 + input2\n",
        "print(\"두 수의 합은 %s 입니다\" % total)"
      ],
      "metadata": {
        "colab": {
          "base_uri": "https://localhost:8080/"
        },
        "id": "RTPfNyQJhWfb",
        "outputId": "8fd9bb71-1246-4263-f21f-8d626bf24de8"
      },
      "execution_count": null,
      "outputs": [
        {
          "output_type": "stream",
          "name": "stdout",
          "text": [
            "첫번째 숫자를 입력하세요:3\n",
            "두번째 숫자를 입력하세요:6\n",
            "두 수의 합은 36 입니다\n"
          ]
        }
      ]
    },
    {
      "cell_type": "code",
      "source": [
        "# 수정한 코드를 작성하고 실행하세요\n",
        "# input으로 입력한 값을 문자열로 인식하고 있으므로, 둘을 더하면 36이 출력\n",
        "# input을 숫자로 인식하도록 하기 위해 int로 형변환\n",
        "input1 = int(input(\"첫번째 숫자를 입력하세요:\"))\n",
        "input2 = int(input(\"두번째 숫자를 입력하세요:\"))\n",
        "\n",
        "total = input1 + input2\n",
        "print(\"두 수의 합은 %s 입니다\" % total)"
      ],
      "metadata": {
        "id": "SiaUWWLGhgd9",
        "colab": {
          "base_uri": "https://localhost:8080/"
        },
        "outputId": "be969077-77d1-4f83-830c-15f6dcd74c25"
      },
      "execution_count": null,
      "outputs": [
        {
          "output_type": "stream",
          "name": "stdout",
          "text": [
            "첫번째 숫자를 입력하세요:3\n",
            "두번째 숫자를 입력하세요:6\n",
            "두 수의 합은 9 입니다\n"
          ]
        }
      ]
    },
    {
      "cell_type": "markdown",
      "source": [
        "##Q4. 다음 중 출력 결과가 다른 것 하나를 고르세요\n",
        "\n",
        "1. print(\"you\" \"need\" \"python\")\n",
        "2. print(\"you\"+\"need\"+\"python\")\n",
        "3. print(\"you\", \"need\", \"python\")\n",
        "4. print(\"\".join([\"you\", \"need\", \"python\"]))"
      ],
      "metadata": {
        "id": "5jMWaYmLhf7S"
      }
    },
    {
      "cell_type": "code",
      "source": [
        "# 답을 작성해주세요\n",
        "# 3번 : 띄어쓰기 된 완전한 문장 출력\n",
        "# 1,2,4번 : 단어만 나열된 문장 출력 "
      ],
      "metadata": {
        "id": "iYs2JHAnh92c"
      },
      "execution_count": null,
      "outputs": []
    }
  ]
}
