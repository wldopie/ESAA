{
  "cells": [
    {
      "cell_type": "markdown",
      "metadata": {
        "id": "view-in-github",
        "colab_type": "text"
      },
      "source": [
        "<a href=\"https://colab.research.google.com/github/wldopie/ESAA/blob/main/%5B%EC%88%98%EC%83%81%EC%9E%91_%EC%8A%A4%ED%84%B0%EB%94%94_2%EC%A1%B0%5D_1%EC%A3%BC%EC%B0%A8_%ED%95%84%EC%82%AC.ipynb\" target=\"_parent\"><img src=\"https://colab.research.google.com/assets/colab-badge.svg\" alt=\"Open In Colab\"/></a>"
      ]
    },
    {
      "cell_type": "markdown",
      "metadata": {
        "id": "QyuqBS0sY8Tl"
      },
      "source": [
        "# **자율주행 센서의 안테나 성능 예측 AI 경진대회 (3등 수상작)**\n",
        "> 링크 : https://dacon.io/competitions/official/235927/codeshare/6653?page=1&dtype=recent"
      ]
    },
    {
      "cell_type": "markdown",
      "metadata": {
        "id": "Ha2GfNTncHXU"
      },
      "source": [
        "---"
      ]
    },
    {
      "cell_type": "markdown",
      "metadata": {
        "id": "hqwNBZimaVE9"
      },
      "source": [
        "## **1. 코드 실행환경**"
      ]
    },
    {
      "cell_type": "code",
      "execution_count": null,
      "metadata": {
        "colab": {
          "base_uri": "https://localhost:8080/",
          "height": 36
        },
        "id": "HpOYBDKeYx-l",
        "outputId": "62389c22-4b29-4146-ef7e-0e9b46f04e76"
      },
      "outputs": [
        {
          "output_type": "execute_result",
          "data": {
            "text/plain": [
              "'Linux-5.10.147+-x86_64-with-glibc2.29'"
            ],
            "application/vnd.google.colaboratory.intrinsic+json": {
              "type": "string"
            }
          },
          "metadata": {},
          "execution_count": 1
        }
      ],
      "source": [
        "import platform\n",
        "platform.platform()"
      ]
    },
    {
      "cell_type": "code",
      "execution_count": null,
      "metadata": {
        "colab": {
          "base_uri": "https://localhost:8080/"
        },
        "id": "wvgM36z5add2",
        "outputId": "442a7946-9853-4ce7-e006-93cb929c42bf"
      },
      "outputs": [
        {
          "output_type": "stream",
          "name": "stdout",
          "text": [
            "Ubuntu 20.04.5 LTS\n"
          ]
        }
      ],
      "source": [
        "!cat /etc/issue.net"
      ]
    },
    {
      "cell_type": "code",
      "execution_count": null,
      "metadata": {
        "colab": {
          "base_uri": "https://localhost:8080/"
        },
        "id": "6EiuoFPyagO0",
        "outputId": "5b16dfc4-205b-40d4-9fb2-6ae0cf00710d"
      },
      "outputs": [
        {
          "output_type": "stream",
          "name": "stdout",
          "text": [
            "Python 3.8.10\n"
          ]
        }
      ],
      "source": [
        "!python --version"
      ]
    },
    {
      "cell_type": "code",
      "execution_count": null,
      "metadata": {
        "colab": {
          "base_uri": "https://localhost:8080/"
        },
        "id": "zQl9K_RxaihA",
        "outputId": "08acdadf-1082-4493-c25a-4d7ca6f1f481"
      },
      "outputs": [
        {
          "output_type": "stream",
          "name": "stdout",
          "text": [
            "Wed Feb  8 00:59:02 2023       \n",
            "+-----------------------------------------------------------------------------+\n",
            "| NVIDIA-SMI 510.47.03    Driver Version: 510.47.03    CUDA Version: 11.6     |\n",
            "|-------------------------------+----------------------+----------------------+\n",
            "| GPU  Name        Persistence-M| Bus-Id        Disp.A | Volatile Uncorr. ECC |\n",
            "| Fan  Temp  Perf  Pwr:Usage/Cap|         Memory-Usage | GPU-Util  Compute M. |\n",
            "|                               |                      |               MIG M. |\n",
            "|===============================+======================+======================|\n",
            "|   0  Tesla T4            Off  | 00000000:00:04.0 Off |                    0 |\n",
            "| N/A   69C    P0    31W /  70W |      0MiB / 15360MiB |      0%      Default |\n",
            "|                               |                      |                  N/A |\n",
            "+-------------------------------+----------------------+----------------------+\n",
            "                                                                               \n",
            "+-----------------------------------------------------------------------------+\n",
            "| Processes:                                                                  |\n",
            "|  GPU   GI   CI        PID   Type   Process name                  GPU Memory |\n",
            "|        ID   ID                                                   Usage      |\n",
            "|=============================================================================|\n",
            "|  No running processes found                                                 |\n",
            "+-----------------------------------------------------------------------------+\n"
          ]
        }
      ],
      "source": [
        "!nvidia-smi"
      ]
    },
    {
      "cell_type": "markdown",
      "metadata": {
        "id": "9F84mB_8az9A"
      },
      "source": [
        "### **1.1 데이터 입/출력 경로 지정**"
      ]
    },
    {
      "cell_type": "code",
      "execution_count": null,
      "metadata": {
        "colab": {
          "base_uri": "https://localhost:8080/"
        },
        "id": "V8-n5NM5a4Nl",
        "outputId": "faf32700-2342-48d6-82a0-288852661aca"
      },
      "outputs": [
        {
          "output_type": "stream",
          "name": "stdout",
          "text": [
            "Mounted at /content/gdrive/\n"
          ]
        }
      ],
      "source": [
        "# 구글 드라이브 연결\n",
        "from google.colab import drive\n",
        "\n",
        "drive.mount('/content/gdrive/')"
      ]
    },
    {
      "cell_type": "code",
      "execution_count": null,
      "metadata": {
        "id": "c_F5KuDcbSCN"
      },
      "outputs": [],
      "source": [
        "# 원본 데이터 압축 해제\n",
        "!unzip -qq '/content/gdrive/MyDrive/[22-2] ESAA 스터디/open.zip'"
      ]
    },
    {
      "cell_type": "markdown",
      "metadata": {
        "id": "JBLa6GKhbv5O"
      },
      "source": [
        "### **1.2 필요 라이브러리 설치**"
      ]
    },
    {
      "cell_type": "code",
      "execution_count": null,
      "metadata": {
        "colab": {
          "base_uri": "https://localhost:8080/"
        },
        "id": "i1hMC7gdbyY1",
        "outputId": "cef9ee5e-fd50-42aa-883a-d7b6e4bd3505"
      },
      "outputs": [
        {
          "output_type": "stream",
          "name": "stdout",
          "text": [
            "\u001b[2K     \u001b[90m━━━━━━━━━━━━━━━━━━━━━━━━━━━━━━━━━━━━━━\u001b[0m \u001b[32m365.3/365.3 KB\u001b[0m \u001b[31m13.4 MB/s\u001b[0m eta \u001b[36m0:00:00\u001b[0m\n",
            "\u001b[2K     \u001b[90m━━━━━━━━━━━━━━━━━━━━━━━━━━━━━━━━━━━━━━━━\u001b[0m \u001b[32m1.1/1.1 MB\u001b[0m \u001b[31m36.8 MB/s\u001b[0m eta \u001b[36m0:00:00\u001b[0m\n",
            "\u001b[?25h  Installing build dependencies ... \u001b[?25l\u001b[?25hdone\n",
            "  Getting requirements to build wheel ... \u001b[?25l\u001b[?25hdone\n",
            "  Installing backend dependencies ... \u001b[?25l\u001b[?25hdone\n",
            "  Preparing metadata (pyproject.toml) ... \u001b[?25l\u001b[?25hdone\n",
            "\u001b[2K     \u001b[90m━━━━━━━━━━━━━━━━━━━━━━━━━━━━━━━━━━━━━━━━\u001b[0m \u001b[32m78.7/78.7 KB\u001b[0m \u001b[31m9.2 MB/s\u001b[0m eta \u001b[36m0:00:00\u001b[0m\n",
            "\u001b[?25h  Building wheel for alembic (pyproject.toml) ... \u001b[?25l\u001b[?25hdone\n",
            "\u001b[2K     \u001b[90m━━━━━━━━━━━━━━━━━━━━━━━━━━━━━━━━━━━━━━━━\u001b[0m \u001b[32m76.6/76.6 MB\u001b[0m \u001b[31m14.0 MB/s\u001b[0m eta \u001b[36m0:00:00\u001b[0m\n",
            "\u001b[2K     \u001b[90m━━━━━━━━━━━━━━━━━━━━━━━━━━━━━━━━━━━━━━━\u001b[0m \u001b[32m193.6/193.6 MB\u001b[0m \u001b[31m6.7 MB/s\u001b[0m eta \u001b[36m0:00:00\u001b[0m\n",
            "\u001b[?25hCloning into 'LightGBM'...\n",
            "remote: Enumerating objects: 28834, done.\u001b[K\n",
            "remote: Counting objects: 100% (92/92), done.\u001b[K\n",
            "remote: Compressing objects: 100% (64/64), done.\u001b[K\n",
            "remote: Total 28834 (delta 33), reused 60 (delta 28), pack-reused 28742\u001b[K\n",
            "Receiving objects: 100% (28834/28834), 20.18 MiB | 21.28 MiB/s, done.\n",
            "Resolving deltas: 100% (21360/21360), done.\n",
            "Submodule 'include/boost/compute' (https://github.com/boostorg/compute) registered for path 'external_libs/compute'\n",
            "Submodule 'eigen' (https://gitlab.com/libeigen/eigen.git) registered for path 'external_libs/eigen'\n",
            "Submodule 'external_libs/fast_double_parser' (https://github.com/lemire/fast_double_parser.git) registered for path 'external_libs/fast_double_parser'\n",
            "Submodule 'external_libs/fmt' (https://github.com/fmtlib/fmt.git) registered for path 'external_libs/fmt'\n",
            "Cloning into '/content/LightGBM/external_libs/compute'...\n",
            "remote: Enumerating objects: 21733, done.        \n",
            "remote: Counting objects: 100% (5/5), done.        \n",
            "remote: Compressing objects: 100% (4/4), done.        \n",
            "remote: Total 21733 (delta 1), reused 3 (delta 1), pack-reused 21728        \n",
            "Receiving objects: 100% (21733/21733), 8.51 MiB | 12.72 MiB/s, done.\n",
            "Resolving deltas: 100% (17567/17567), done.\n",
            "Cloning into '/content/LightGBM/external_libs/eigen'...\n",
            "remote: Enumerating objects: 118094, done.        \n",
            "remote: Counting objects: 100% (1181/1181), done.        \n",
            "remote: Compressing objects: 100% (372/372), done.        \n",
            "remote: Total 118094 (delta 814), reused 1166 (delta 806), pack-reused 116913        \n",
            "Receiving objects: 100% (118094/118094), 103.47 MiB | 26.79 MiB/s, done.\n",
            "Resolving deltas: 100% (97395/97395), done.\n",
            "Cloning into '/content/LightGBM/external_libs/fast_double_parser'...\n",
            "remote: Enumerating objects: 781, done.        \n",
            "remote: Counting objects: 100% (180/180), done.        \n",
            "remote: Compressing objects: 100% (66/66), done.        \n",
            "remote: Total 781 (delta 124), reused 131 (delta 103), pack-reused 601        \n",
            "Receiving objects: 100% (781/781), 833.52 KiB | 4.63 MiB/s, done.\n",
            "Resolving deltas: 100% (395/395), done.\n",
            "Cloning into '/content/LightGBM/external_libs/fmt'...\n",
            "remote: Enumerating objects: 31478, done.        \n",
            "remote: Total 31478 (delta 0), reused 0 (delta 0), pack-reused 31478        \n",
            "Receiving objects: 100% (31478/31478), 13.59 MiB | 10.04 MiB/s, done.\n",
            "Resolving deltas: 100% (21325/21325), done.\n",
            "Submodule path 'external_libs/compute': checked out '36350b7de849300bd3d72a05d8bf890ca405a014'\n",
            "Submodule path 'external_libs/eigen': checked out '3147391d946bb4b6c68edd901f2add6ac1f31f8c'\n",
            "Submodule path 'external_libs/fast_double_parser': checked out 'ace60646c02dc54c57f19d644e49a61e7e7758ec'\n",
            "Submodule 'benchmark/dependencies/abseil-cpp' (https://github.com/abseil/abseil-cpp.git) registered for path 'external_libs/fast_double_parser/benchmarks/dependencies/abseil-cpp'\n",
            "Submodule 'benchmark/dependencies/double-conversion' (https://github.com/google/double-conversion.git) registered for path 'external_libs/fast_double_parser/benchmarks/dependencies/double-conversion'\n",
            "Cloning into '/content/LightGBM/external_libs/fast_double_parser/benchmarks/dependencies/abseil-cpp'...\n",
            "remote: Enumerating objects: 20420, done.        \n",
            "remote: Counting objects: 100% (2576/2576), done.        \n",
            "remote: Compressing objects: 100% (761/761), done.        \n",
            "remote: Total 20420 (delta 1875), reused 1868 (delta 1815), pack-reused 17844        \n",
            "Receiving objects: 100% (20420/20420), 12.44 MiB | 17.59 MiB/s, done.\n",
            "Resolving deltas: 100% (15963/15963), done.\n",
            "Cloning into '/content/LightGBM/external_libs/fast_double_parser/benchmarks/dependencies/double-conversion'...\n",
            "remote: Enumerating objects: 1352, done.        \n",
            "remote: Counting objects: 100% (196/196), done.        \n",
            "remote: Compressing objects: 100% (105/105), done.        \n",
            "remote: Total 1352 (delta 109), reused 157 (delta 84), pack-reused 1156        \n",
            "Receiving objects: 100% (1352/1352), 7.15 MiB | 3.82 MiB/s, done.\n",
            "Resolving deltas: 100% (881/881), done.\n",
            "Submodule path 'external_libs/fast_double_parser/benchmarks/dependencies/abseil-cpp': checked out 'd936052d32a5b7ca08b0199a6724724aea432309'\n",
            "Submodule path 'external_libs/fast_double_parser/benchmarks/dependencies/double-conversion': checked out 'f4cb2384efa55dee0e6652f8674b05763441ab09'\n",
            "Submodule path 'external_libs/fmt': checked out 'b6f4ceaed0a0a24ccf575fab6c56dd50ccf6f1a9'\n",
            "-- The C compiler identification is GNU 9.4.0\n",
            "-- The CXX compiler identification is GNU 9.4.0\n",
            "-- Detecting C compiler ABI info\n",
            "-- Detecting C compiler ABI info - done\n",
            "-- Check for working C compiler: /usr/bin/cc - skipped\n",
            "-- Detecting C compile features\n",
            "-- Detecting C compile features - done\n",
            "-- Detecting CXX compiler ABI info\n",
            "-- Detecting CXX compiler ABI info - done\n",
            "-- Check for working CXX compiler: /usr/bin/c++ - skipped\n",
            "-- Detecting CXX compile features\n",
            "-- Detecting CXX compile features - done\n",
            "-- Found OpenMP_C: -fopenmp (found version \"4.5\") \n",
            "-- Found OpenMP_CXX: -fopenmp (found version \"4.5\") \n",
            "-- Found OpenMP: TRUE (found version \"4.5\")  \n",
            "-- Looking for CL_VERSION_2_2\n",
            "-- Looking for CL_VERSION_2_2 - found\n",
            "-- Found OpenCL: /usr/lib/x86_64-linux-gnu/libOpenCL.so (found version \"2.2\") \n",
            "-- OpenCL include directory: /usr/include\n",
            "-- Found Boost: /usr/lib/x86_64-linux-gnu/cmake/Boost-1.71.0/BoostConfig.cmake (found suitable version \"1.71.0\", minimum required is \"1.56.0\") found components: filesystem system \n",
            "-- Performing Test MM_PREFETCH\n",
            "-- Performing Test MM_PREFETCH - Success\n",
            "-- Using _mm_prefetch\n",
            "-- Performing Test MM_MALLOC\n",
            "-- Performing Test MM_MALLOC - Success\n",
            "-- Using _mm_malloc\n",
            "-- Configuring done\n",
            "-- Generating done\n",
            "-- Build files have been written to: /content/LightGBM/build\n",
            "[  1%] \u001b[32mBuilding CXX object CMakeFiles/lightgbm_objs.dir/src/boosting/boosting.cpp.o\u001b[0m\n",
            "[  3%] \u001b[32mBuilding CXX object CMakeFiles/lightgbm_capi_objs.dir/src/c_api.cpp.o\u001b[0m\n",
            "[  5%] \u001b[32mBuilding CXX object CMakeFiles/lightgbm_objs.dir/src/boosting/cuda/cuda_score_updater.cpp.o\u001b[0m\n",
            "[  7%] \u001b[32mBuilding CXX object CMakeFiles/lightgbm_objs.dir/src/boosting/gbdt.cpp.o\u001b[0m\n",
            "[  9%] \u001b[32mBuilding CXX object CMakeFiles/lightgbm_objs.dir/src/boosting/gbdt_model_text.cpp.o\u001b[0m\n",
            "[ 11%] \u001b[32mBuilding CXX object CMakeFiles/lightgbm_objs.dir/src/boosting/gbdt_prediction.cpp.o\u001b[0m\n",
            "[ 12%] \u001b[32mBuilding CXX object CMakeFiles/lightgbm_objs.dir/src/boosting/prediction_early_stop.cpp.o\u001b[0m\n",
            "[ 14%] \u001b[32mBuilding CXX object CMakeFiles/lightgbm_objs.dir/src/boosting/sample_strategy.cpp.o\u001b[0m\n",
            "[ 16%] \u001b[32mBuilding CXX object CMakeFiles/lightgbm_objs.dir/src/cuda/cuda_utils.cpp.o\u001b[0m\n",
            "[ 18%] \u001b[32mBuilding CXX object CMakeFiles/lightgbm_objs.dir/src/io/bin.cpp.o\u001b[0m\n",
            "[ 20%] \u001b[32mBuilding CXX object CMakeFiles/lightgbm_objs.dir/src/io/config.cpp.o\u001b[0m\n",
            "[ 22%] \u001b[32mBuilding CXX object CMakeFiles/lightgbm_objs.dir/src/io/config_auto.cpp.o\u001b[0m\n",
            "[ 22%] Built target lightgbm_capi_objs\n",
            "[ 24%] \u001b[32mBuilding CXX object CMakeFiles/lightgbm_objs.dir/src/io/cuda/cuda_column_data.cpp.o\u001b[0m\n",
            "[ 25%] \u001b[32mBuilding CXX object CMakeFiles/lightgbm_objs.dir/src/io/cuda/cuda_metadata.cpp.o\u001b[0m\n",
            "[ 27%] \u001b[32mBuilding CXX object CMakeFiles/lightgbm_objs.dir/src/io/cuda/cuda_row_data.cpp.o\u001b[0m\n",
            "[ 29%] \u001b[32mBuilding CXX object CMakeFiles/lightgbm_objs.dir/src/io/cuda/cuda_tree.cpp.o\u001b[0m\n",
            "[ 31%] \u001b[32mBuilding CXX object CMakeFiles/lightgbm_objs.dir/src/io/dataset.cpp.o\u001b[0m\n",
            "[ 33%] \u001b[32mBuilding CXX object CMakeFiles/lightgbm_objs.dir/src/io/dataset_loader.cpp.o\u001b[0m\n",
            "[ 35%] \u001b[32mBuilding CXX object CMakeFiles/lightgbm_objs.dir/src/io/file_io.cpp.o\u001b[0m\n",
            "[ 37%] \u001b[32mBuilding CXX object CMakeFiles/lightgbm_objs.dir/src/io/json11.cpp.o\u001b[0m\n",
            "[ 38%] \u001b[32mBuilding CXX object CMakeFiles/lightgbm_objs.dir/src/io/metadata.cpp.o\u001b[0m\n",
            "[ 40%] \u001b[32mBuilding CXX object CMakeFiles/lightgbm_objs.dir/src/io/parser.cpp.o\u001b[0m\n",
            "[ 42%] \u001b[32mBuilding CXX object CMakeFiles/lightgbm_objs.dir/src/io/train_share_states.cpp.o\u001b[0m\n",
            "[ 44%] \u001b[32mBuilding CXX object CMakeFiles/lightgbm_objs.dir/src/io/tree.cpp.o\u001b[0m\n",
            "[ 46%] \u001b[32mBuilding CXX object CMakeFiles/lightgbm_objs.dir/src/metric/cuda/cuda_binary_metric.cpp.o\u001b[0m\n",
            "[ 48%] \u001b[32mBuilding CXX object CMakeFiles/lightgbm_objs.dir/src/metric/cuda/cuda_pointwise_metric.cpp.o\u001b[0m\n",
            "[ 50%] \u001b[32mBuilding CXX object CMakeFiles/lightgbm_objs.dir/src/metric/cuda/cuda_regression_metric.cpp.o\u001b[0m\n",
            "[ 51%] \u001b[32mBuilding CXX object CMakeFiles/lightgbm_objs.dir/src/metric/dcg_calculator.cpp.o\u001b[0m\n",
            "[ 53%] \u001b[32mBuilding CXX object CMakeFiles/lightgbm_objs.dir/src/metric/metric.cpp.o\u001b[0m\n",
            "[ 55%] \u001b[32mBuilding CXX object CMakeFiles/lightgbm_objs.dir/src/network/linker_topo.cpp.o\u001b[0m\n",
            "[ 57%] \u001b[32mBuilding CXX object CMakeFiles/lightgbm_objs.dir/src/network/linkers_mpi.cpp.o\u001b[0m\n",
            "[ 59%] \u001b[32mBuilding CXX object CMakeFiles/lightgbm_objs.dir/src/network/linkers_socket.cpp.o\u001b[0m\n",
            "[ 61%] \u001b[32mBuilding CXX object CMakeFiles/lightgbm_objs.dir/src/network/network.cpp.o\u001b[0m\n",
            "[ 62%] \u001b[32mBuilding CXX object CMakeFiles/lightgbm_objs.dir/src/objective/cuda/cuda_binary_objective.cpp.o\u001b[0m\n",
            "[ 64%] \u001b[32mBuilding CXX object CMakeFiles/lightgbm_objs.dir/src/objective/cuda/cuda_multiclass_objective.cpp.o\u001b[0m\n",
            "[ 66%] \u001b[32mBuilding CXX object CMakeFiles/lightgbm_objs.dir/src/objective/cuda/cuda_rank_objective.cpp.o\u001b[0m\n",
            "[ 68%] \u001b[32mBuilding CXX object CMakeFiles/lightgbm_objs.dir/src/objective/cuda/cuda_regression_objective.cpp.o\u001b[0m\n",
            "[ 70%] \u001b[32mBuilding CXX object CMakeFiles/lightgbm_objs.dir/src/objective/objective_function.cpp.o\u001b[0m\n",
            "[ 72%] \u001b[32mBuilding CXX object CMakeFiles/lightgbm_objs.dir/src/treelearner/cuda/cuda_best_split_finder.cpp.o\u001b[0m\n",
            "[ 74%] \u001b[32mBuilding CXX object CMakeFiles/lightgbm_objs.dir/src/treelearner/cuda/cuda_data_partition.cpp.o\u001b[0m\n",
            "[ 75%] \u001b[32mBuilding CXX object CMakeFiles/lightgbm_objs.dir/src/treelearner/cuda/cuda_histogram_constructor.cpp.o\u001b[0m\n",
            "[ 77%] \u001b[32mBuilding CXX object CMakeFiles/lightgbm_objs.dir/src/treelearner/cuda/cuda_leaf_splits.cpp.o\u001b[0m\n",
            "[ 79%] \u001b[32mBuilding CXX object CMakeFiles/lightgbm_objs.dir/src/treelearner/cuda/cuda_single_gpu_tree_learner.cpp.o\u001b[0m\n",
            "[ 81%] \u001b[32mBuilding CXX object CMakeFiles/lightgbm_objs.dir/src/treelearner/data_parallel_tree_learner.cpp.o\u001b[0m\n",
            "[ 83%] \u001b[32mBuilding CXX object CMakeFiles/lightgbm_objs.dir/src/treelearner/feature_parallel_tree_learner.cpp.o\u001b[0m\n",
            "[ 85%] \u001b[32mBuilding CXX object CMakeFiles/lightgbm_objs.dir/src/treelearner/gpu_tree_learner.cpp.o\u001b[0m\n",
            "In file included from \u001b[01m\u001b[K/usr/include/CL/cl.h:32\u001b[m\u001b[K,\n",
            "                 from \u001b[01m\u001b[K/content/LightGBM/external_libs/compute/include/boost/compute/cl.hpp:19\u001b[m\u001b[K,\n",
            "                 from \u001b[01m\u001b[K/content/LightGBM/external_libs/compute/include/boost/compute/config.hpp:16\u001b[m\u001b[K,\n",
            "                 from \u001b[01m\u001b[K/content/LightGBM/external_libs/compute/include/boost/compute/buffer.hpp:14\u001b[m\u001b[K,\n",
            "                 from \u001b[01m\u001b[K/content/LightGBM/external_libs/compute/include/boost/compute/core.hpp:18\u001b[m\u001b[K,\n",
            "                 from \u001b[01m\u001b[K/content/LightGBM/src/treelearner/gpu_tree_learner.h:33\u001b[m\u001b[K,\n",
            "                 from \u001b[01m\u001b[K/content/LightGBM/src/treelearner/parallel_tree_learner.h:15\u001b[m\u001b[K,\n",
            "                 from \u001b[01m\u001b[K/content/LightGBM/src/treelearner/data_parallel_tree_learner.cpp:9\u001b[m\u001b[K:\n",
            "\u001b[01m\u001b[K/usr/include/CL/cl_version.h:34:104:\u001b[m\u001b[K \u001b[01;36m\u001b[Knote: \u001b[m\u001b[K#pragma message: cl_version.h: CL_TARGET_OPENCL_VERSION is not defined. Defaulting to 220 (OpenCL 2.2)\n",
            "   34 | #pragma message(\"cl_version.h: CL_TARGET_OPENCL_VERSION is not defined. Defaulting to 220 (OpenCL 2.2)\"\u001b[01;36m\u001b[K)\u001b[m\u001b[K\n",
            "      |                                                                                                        \u001b[01;36m\u001b[K^\u001b[m\u001b[K\n",
            "In file included from \u001b[01m\u001b[K/usr/include/CL/cl.h:32\u001b[m\u001b[K,\n",
            "                 from \u001b[01m\u001b[K/content/LightGBM/external_libs/compute/include/boost/compute/cl.hpp:19\u001b[m\u001b[K,\n",
            "                 from \u001b[01m\u001b[K/content/LightGBM/external_libs/compute/include/boost/compute/config.hpp:16\u001b[m\u001b[K,\n",
            "                 from \u001b[01m\u001b[K/content/LightGBM/external_libs/compute/include/boost/compute/buffer.hpp:14\u001b[m\u001b[K,\n",
            "                 from \u001b[01m\u001b[K/content/LightGBM/external_libs/compute/include/boost/compute/core.hpp:18\u001b[m\u001b[K,\n",
            "                 from \u001b[01m\u001b[K/content/LightGBM/src/treelearner/gpu_tree_learner.h:33\u001b[m\u001b[K,\n",
            "                 from \u001b[01m\u001b[K/content/LightGBM/src/treelearner/parallel_tree_learner.h:15\u001b[m\u001b[K,\n",
            "                 from \u001b[01m\u001b[K/content/LightGBM/src/treelearner/feature_parallel_tree_learner.cpp:8\u001b[m\u001b[K:\n",
            "\u001b[01m\u001b[K/usr/include/CL/cl_version.h:34:104:\u001b[m\u001b[K \u001b[01;36m\u001b[Knote: \u001b[m\u001b[K#pragma message: cl_version.h: CL_TARGET_OPENCL_VERSION is not defined. Defaulting to 220 (OpenCL 2.2)\n",
            "   34 | #pragma message(\"cl_version.h: CL_TARGET_OPENCL_VERSION is not defined. Defaulting to 220 (OpenCL 2.2)\"\u001b[01;36m\u001b[K)\u001b[m\u001b[K\n",
            "      |                                                                                                        \u001b[01;36m\u001b[K^\u001b[m\u001b[K\n",
            "In file included from \u001b[01m\u001b[K/usr/include/CL/cl.h:32\u001b[m\u001b[K,\n",
            "                 from \u001b[01m\u001b[K/content/LightGBM/external_libs/compute/include/boost/compute/cl.hpp:19\u001b[m\u001b[K,\n",
            "                 from \u001b[01m\u001b[K/content/LightGBM/external_libs/compute/include/boost/compute/config.hpp:16\u001b[m\u001b[K,\n",
            "                 from \u001b[01m\u001b[K/content/LightGBM/external_libs/compute/include/boost/compute/buffer.hpp:14\u001b[m\u001b[K,\n",
            "                 from \u001b[01m\u001b[K/content/LightGBM/external_libs/compute/include/boost/compute/core.hpp:18\u001b[m\u001b[K,\n",
            "                 from \u001b[01m\u001b[K/content/LightGBM/src/treelearner/gpu_tree_learner.h:33\u001b[m\u001b[K,\n",
            "                 from \u001b[01m\u001b[K/content/LightGBM/src/treelearner/gpu_tree_learner.cpp:7\u001b[m\u001b[K:\n",
            "\u001b[01m\u001b[K/usr/include/CL/cl_version.h:34:104:\u001b[m\u001b[K \u001b[01;36m\u001b[Knote: \u001b[m\u001b[K#pragma message: cl_version.h: CL_TARGET_OPENCL_VERSION is not defined. Defaulting to 220 (OpenCL 2.2)\n",
            "   34 | #pragma message(\"cl_version.h: CL_TARGET_OPENCL_VERSION is not defined. Defaulting to 220 (OpenCL 2.2)\"\u001b[01;36m\u001b[K)\u001b[m\u001b[K\n",
            "      |                                                                                                        \u001b[01;36m\u001b[K^\u001b[m\u001b[K\n",
            "[ 87%] \u001b[32mBuilding CXX object CMakeFiles/lightgbm_objs.dir/src/treelearner/linear_tree_learner.cpp.o\u001b[0m\n",
            "[ 88%] \u001b[32mBuilding CXX object CMakeFiles/lightgbm_objs.dir/src/treelearner/serial_tree_learner.cpp.o\u001b[0m\n",
            "[ 90%] \u001b[32mBuilding CXX object CMakeFiles/lightgbm_objs.dir/src/treelearner/tree_learner.cpp.o\u001b[0m\n",
            "In file included from \u001b[01m\u001b[K/usr/include/CL/cl.h:32\u001b[m\u001b[K,\n",
            "                 from \u001b[01m\u001b[K/content/LightGBM/external_libs/compute/include/boost/compute/cl.hpp:19\u001b[m\u001b[K,\n",
            "                 from \u001b[01m\u001b[K/content/LightGBM/external_libs/compute/include/boost/compute/config.hpp:16\u001b[m\u001b[K,\n",
            "                 from \u001b[01m\u001b[K/content/LightGBM/external_libs/compute/include/boost/compute/buffer.hpp:14\u001b[m\u001b[K,\n",
            "                 from \u001b[01m\u001b[K/content/LightGBM/external_libs/compute/include/boost/compute/core.hpp:18\u001b[m\u001b[K,\n",
            "                 from \u001b[01m\u001b[K/content/LightGBM/src/treelearner/gpu_tree_learner.h:33\u001b[m\u001b[K,\n",
            "                 from \u001b[01m\u001b[K/content/LightGBM/src/treelearner/tree_learner.cpp:7\u001b[m\u001b[K:\n",
            "\u001b[01m\u001b[K/usr/include/CL/cl_version.h:34:104:\u001b[m\u001b[K \u001b[01;36m\u001b[Knote: \u001b[m\u001b[K#pragma message: cl_version.h: CL_TARGET_OPENCL_VERSION is not defined. Defaulting to 220 (OpenCL 2.2)\n",
            "   34 | #pragma message(\"cl_version.h: CL_TARGET_OPENCL_VERSION is not defined. Defaulting to 220 (OpenCL 2.2)\"\u001b[01;36m\u001b[K)\u001b[m\u001b[K\n",
            "      |                                                                                                        \u001b[01;36m\u001b[K^\u001b[m\u001b[K\n",
            "[ 92%] \u001b[32mBuilding CXX object CMakeFiles/lightgbm_objs.dir/src/treelearner/voting_parallel_tree_learner.cpp.o\u001b[0m\n",
            "In file included from \u001b[01m\u001b[K/usr/include/CL/cl.h:32\u001b[m\u001b[K,\n",
            "                 from \u001b[01m\u001b[K/content/LightGBM/external_libs/compute/include/boost/compute/cl.hpp:19\u001b[m\u001b[K,\n",
            "                 from \u001b[01m\u001b[K/content/LightGBM/external_libs/compute/include/boost/compute/config.hpp:16\u001b[m\u001b[K,\n",
            "                 from \u001b[01m\u001b[K/content/LightGBM/external_libs/compute/include/boost/compute/buffer.hpp:14\u001b[m\u001b[K,\n",
            "                 from \u001b[01m\u001b[K/content/LightGBM/external_libs/compute/include/boost/compute/core.hpp:18\u001b[m\u001b[K,\n",
            "                 from \u001b[01m\u001b[K/content/LightGBM/src/treelearner/gpu_tree_learner.h:33\u001b[m\u001b[K,\n",
            "                 from \u001b[01m\u001b[K/content/LightGBM/src/treelearner/parallel_tree_learner.h:15\u001b[m\u001b[K,\n",
            "                 from \u001b[01m\u001b[K/content/LightGBM/src/treelearner/voting_parallel_tree_learner.cpp:11\u001b[m\u001b[K:\n",
            "\u001b[01m\u001b[K/usr/include/CL/cl_version.h:34:104:\u001b[m\u001b[K \u001b[01;36m\u001b[Knote: \u001b[m\u001b[K#pragma message: cl_version.h: CL_TARGET_OPENCL_VERSION is not defined. Defaulting to 220 (OpenCL 2.2)\n",
            "   34 | #pragma message(\"cl_version.h: CL_TARGET_OPENCL_VERSION is not defined. Defaulting to 220 (OpenCL 2.2)\"\u001b[01;36m\u001b[K)\u001b[m\u001b[K\n",
            "      |                                                                                                        \u001b[01;36m\u001b[K^\u001b[m\u001b[K\n",
            "[ 92%] Built target lightgbm_objs\n",
            "[ 94%] \u001b[32m\u001b[1mLinking CXX shared library ../lib_lightgbm.so\u001b[0m\n",
            "[ 96%] \u001b[32mBuilding CXX object CMakeFiles/lightgbm.dir/src/main.cpp.o\u001b[0m\n",
            "[ 98%] \u001b[32mBuilding CXX object CMakeFiles/lightgbm.dir/src/application/application.cpp.o\u001b[0m\n",
            "[ 98%] Built target _lightgbm\n",
            "[100%] \u001b[32m\u001b[1mLinking CXX executable ../lightgbm\u001b[0m\n",
            "[100%] Built target lightgbm\n",
            "running install\n",
            "running build\n",
            "running build_py\n",
            "Generating grammar tables from /usr/lib/python3.8/lib2to3/Grammar.txt\n",
            "Generating grammar tables from /usr/lib/python3.8/lib2to3/PatternGrammar.txt\n",
            "creating build\n",
            "creating build/lib\n",
            "creating build/lib/lightgbm\n",
            "copying lightgbm/libpath.py -> build/lib/lightgbm\n",
            "copying lightgbm/__init__.py -> build/lib/lightgbm\n",
            "copying lightgbm/basic.py -> build/lib/lightgbm\n",
            "copying lightgbm/engine.py -> build/lib/lightgbm\n",
            "copying lightgbm/compat.py -> build/lib/lightgbm\n",
            "copying lightgbm/callback.py -> build/lib/lightgbm\n",
            "copying lightgbm/plotting.py -> build/lib/lightgbm\n",
            "copying lightgbm/dask.py -> build/lib/lightgbm\n",
            "copying lightgbm/sklearn.py -> build/lib/lightgbm\n",
            "running egg_info\n",
            "creating lightgbm.egg-info\n",
            "writing lightgbm.egg-info/PKG-INFO\n",
            "writing dependency_links to lightgbm.egg-info/dependency_links.txt\n",
            "writing requirements to lightgbm.egg-info/requires.txt\n",
            "writing top-level names to lightgbm.egg-info/top_level.txt\n",
            "writing manifest file 'lightgbm.egg-info/SOURCES.txt'\n",
            "reading manifest file 'lightgbm.egg-info/SOURCES.txt'\n",
            "reading manifest template 'MANIFEST.in'\n",
            "no previously-included directories found matching 'build'\n",
            "warning: no files found matching 'LICENSE'\n",
            "warning: no files found matching '*.txt'\n",
            "warning: no files found matching '*.so' under directory 'lightgbm'\n",
            "warning: no files found matching 'compile/CMakeLists.txt'\n",
            "warning: no files found matching 'compile/cmake/IntegratedOpenCL.cmake'\n",
            "warning: no files found matching '*.so' under directory 'compile'\n",
            "warning: no files found matching '*.dll' under directory 'compile/Release'\n",
            "warning: no files found matching 'compile/external_libs/compute/CMakeLists.txt'\n",
            "warning: no files found matching '*' under directory 'compile/external_libs/compute/cmake'\n",
            "warning: no files found matching '*' under directory 'compile/external_libs/compute/include'\n",
            "warning: no files found matching '*' under directory 'compile/external_libs/compute/meta'\n",
            "warning: no files found matching 'compile/external_libs/eigen/CMakeLists.txt'\n",
            "warning: no files found matching 'compile/external_libs/eigen/Eigen/Cholesky'\n",
            "warning: no files found matching 'compile/external_libs/eigen/Eigen/Core'\n",
            "warning: no files found matching 'compile/external_libs/eigen/Eigen/Dense'\n",
            "warning: no files found matching 'compile/external_libs/eigen/Eigen/Eigenvalues'\n",
            "warning: no files found matching 'compile/external_libs/eigen/Eigen/Geometry'\n",
            "warning: no files found matching 'compile/external_libs/eigen/Eigen/Householder'\n",
            "warning: no files found matching 'compile/external_libs/eigen/Eigen/Jacobi'\n",
            "warning: no files found matching 'compile/external_libs/eigen/Eigen/LU'\n",
            "warning: no files found matching 'compile/external_libs/eigen/Eigen/QR'\n",
            "warning: no files found matching 'compile/external_libs/eigen/Eigen/SVD'\n",
            "warning: no files found matching '*' under directory 'compile/external_libs/eigen/Eigen/src/Cholesky'\n",
            "warning: no files found matching '*' under directory 'compile/external_libs/eigen/Eigen/src/Core'\n",
            "warning: no files found matching '*' under directory 'compile/external_libs/eigen/Eigen/src/Eigenvalues'\n",
            "warning: no files found matching '*' under directory 'compile/external_libs/eigen/Eigen/src/Geometry'\n",
            "warning: no files found matching '*' under directory 'compile/external_libs/eigen/Eigen/src/Householder'\n",
            "warning: no files found matching '*' under directory 'compile/external_libs/eigen/Eigen/src/Jacobi'\n",
            "warning: no files found matching '*' under directory 'compile/external_libs/eigen/Eigen/src/LU'\n",
            "warning: no files found matching '*' under directory 'compile/external_libs/eigen/Eigen/src/misc'\n",
            "warning: no files found matching '*' under directory 'compile/external_libs/eigen/Eigen/src/plugins'\n",
            "warning: no files found matching '*' under directory 'compile/external_libs/eigen/Eigen/src/QR'\n",
            "warning: no files found matching '*' under directory 'compile/external_libs/eigen/Eigen/src/SVD'\n",
            "warning: no files found matching 'compile/external_libs/fast_double_parser/CMakeLists.txt'\n",
            "warning: no files found matching 'compile/external_libs/fast_double_parser/LICENSE'\n",
            "warning: no files found matching 'compile/external_libs/fast_double_parser/LICENSE.BSL'\n",
            "warning: no files found matching '*' under directory 'compile/external_libs/fast_double_parser/include'\n",
            "warning: no files found matching 'compile/external_libs/fmt/CMakeLists.txt'\n",
            "warning: no files found matching 'compile/external_libs/fmt/LICENSE.rst'\n",
            "warning: no files found matching '*' under directory 'compile/external_libs/fmt/include'\n",
            "warning: no files found matching '*' under directory 'compile/include'\n",
            "warning: no files found matching '*' under directory 'compile/src'\n",
            "warning: no files found matching 'LightGBM.sln' under directory 'compile/windows'\n",
            "warning: no files found matching 'LightGBM.vcxproj' under directory 'compile/windows'\n",
            "warning: no files found matching '*.dll' under directory 'compile/windows/x64/DLL'\n",
            "warning: no previously-included files matching '*.py[co]' found anywhere in distribution\n",
            "warning: no previously-included files found matching 'compile/external_libs/compute/.git'\n",
            "writing manifest file 'lightgbm.egg-info/SOURCES.txt'\n",
            "copying lightgbm/VERSION.txt -> build/lib/lightgbm\n",
            "running install_lib\n",
            "copying build/lib/lightgbm/libpath.py -> /usr/local/lib/python3.8/dist-packages/lightgbm\n",
            "copying build/lib/lightgbm/__init__.py -> /usr/local/lib/python3.8/dist-packages/lightgbm\n",
            "copying build/lib/lightgbm/basic.py -> /usr/local/lib/python3.8/dist-packages/lightgbm\n",
            "copying build/lib/lightgbm/engine.py -> /usr/local/lib/python3.8/dist-packages/lightgbm\n",
            "copying build/lib/lightgbm/compat.py -> /usr/local/lib/python3.8/dist-packages/lightgbm\n",
            "copying build/lib/lightgbm/callback.py -> /usr/local/lib/python3.8/dist-packages/lightgbm\n",
            "copying build/lib/lightgbm/VERSION.txt -> /usr/local/lib/python3.8/dist-packages/lightgbm\n",
            "copying build/lib/lightgbm/plotting.py -> /usr/local/lib/python3.8/dist-packages/lightgbm\n",
            "copying build/lib/lightgbm/dask.py -> /usr/local/lib/python3.8/dist-packages/lightgbm\n",
            "copying build/lib/lightgbm/sklearn.py -> /usr/local/lib/python3.8/dist-packages/lightgbm\n",
            "Installing lib_lightgbm from: ['/content/LightGBM/lib_lightgbm.so']\n",
            "copying /content/LightGBM/lib_lightgbm.so -> /usr/local/lib/python3.8/dist-packages/lightgbm\n",
            "byte-compiling /usr/local/lib/python3.8/dist-packages/lightgbm/libpath.py to libpath.cpython-38.pyc\n",
            "byte-compiling /usr/local/lib/python3.8/dist-packages/lightgbm/__init__.py to __init__.cpython-38.pyc\n",
            "byte-compiling /usr/local/lib/python3.8/dist-packages/lightgbm/basic.py to basic.cpython-38.pyc\n",
            "byte-compiling /usr/local/lib/python3.8/dist-packages/lightgbm/engine.py to engine.cpython-38.pyc\n",
            "byte-compiling /usr/local/lib/python3.8/dist-packages/lightgbm/compat.py to compat.cpython-38.pyc\n",
            "byte-compiling /usr/local/lib/python3.8/dist-packages/lightgbm/callback.py to callback.cpython-38.pyc\n",
            "byte-compiling /usr/local/lib/python3.8/dist-packages/lightgbm/plotting.py to plotting.cpython-38.pyc\n",
            "byte-compiling /usr/local/lib/python3.8/dist-packages/lightgbm/dask.py to dask.cpython-38.pyc\n",
            "byte-compiling /usr/local/lib/python3.8/dist-packages/lightgbm/sklearn.py to sklearn.cpython-38.pyc\n",
            "running install_egg_info\n",
            "Copying lightgbm.egg-info to /usr/local/lib/python3.8/dist-packages/lightgbm-3.3.5.99-py3.8.egg-info\n",
            "running install_scripts\n"
          ]
        }
      ],
      "source": [
        "# Optuna 설치\n",
        "!pip install --quiet optuna\n",
        "\n",
        "# Catboost 설치\n",
        "!pip install --quiet catboost\n",
        "\n",
        "# XGB GPU 버전 설치\n",
        "!pip uninstall --quiet -y xgboost\n",
        "!pip install --quiet xgboost\n",
        "\n",
        "# LGBM GPU 버전 설치\n",
        "! git clone --recursive https://github.com/Microsoft/LightGBM\n",
        "! cd LightGBM && rm -rf build && mkdir build && cd build && cmake -DUSE_GPU=1 ../../LightGBM && make -j4 && cd ../python-package && python3 setup.py install --precompile --gpu;"
      ]
    },
    {
      "cell_type": "markdown",
      "metadata": {
        "id": "8g0nQvY6b2Wi"
      },
      "source": [
        "### **1.3 라이브러리 임포트**"
      ]
    },
    {
      "cell_type": "code",
      "execution_count": null,
      "metadata": {
        "id": "aCUF1qEIb54Q"
      },
      "outputs": [],
      "source": [
        "import os\n",
        "import random\n",
        "import numpy as np\n",
        "import pandas as pd\n",
        "import matplotlib.pyplot as plt\n",
        "import seaborn as sns\n",
        "\n",
        "from sklearn.model_selection import KFold\n",
        "from sklearn.metrics import mean_squared_error\n",
        "from sklearn.decomposition import PCA\n",
        "from sklearn.linear_model import LinearRegression, Ridge, Lasso, ElasticNet, LassoLars, OrthogonalMatchingPursuit, BayesianRidge, ARDRegression\n",
        "from sklearn.ensemble import GradientBoostingRegressor, HistGradientBoostingRegressor\n",
        "\n",
        "import xgboost as xgb\n",
        "import lightgbm as lgb\n",
        "from xgboost import XGBRegressor\n",
        "from lightgbm import LGBMRegressor\n",
        "from catboost import CatBoostRegressor\n",
        "\n",
        "import optuna \n",
        "from optuna import Trial, visualization\n",
        "\n",
        "import joblib\n",
        "\n",
        "import warnings\n",
        "\n",
        "warnings.filterwarnings(\"ignore\")"
      ]
    },
    {
      "cell_type": "markdown",
      "metadata": {
        "id": "qf-tTzfrb8Ix"
      },
      "source": [
        "### **1.4 랜덤시드 고정**"
      ]
    },
    {
      "cell_type": "code",
      "execution_count": null,
      "metadata": {
        "id": "aHgUHUT8b-Vm"
      },
      "outputs": [],
      "source": [
        "def seed_everything(seed):\n",
        "    random.seed(seed)\n",
        "    os.environ['PYTHONHASHSEED'] = str(seed)\n",
        "    np.random.seed(seed)\n",
        "seed_everything(42) \n",
        "SEED = 42"
      ]
    },
    {
      "cell_type": "markdown",
      "metadata": {
        "id": "AEOYCdlVcBXm"
      },
      "source": [
        "---"
      ]
    },
    {
      "cell_type": "markdown",
      "metadata": {
        "id": "0pvXgSCxcB57"
      },
      "source": [
        "## **2. 데이터 시각화**"
      ]
    },
    {
      "cell_type": "markdown",
      "metadata": {
        "id": "IYhIoeCbkFbj"
      },
      "source": [
        "### **2.1 데이터 로딩**"
      ]
    },
    {
      "cell_type": "code",
      "execution_count": null,
      "metadata": {
        "id": "bWLP7PrrcBo3"
      },
      "outputs": [],
      "source": [
        "# 데이터 로딩\n",
        "train = pd.read_csv('/content/train.csv')\n",
        "\n",
        "# X, y 데이터 분리\n",
        "X_train = train.filter(regex = 'X')   # Input : X feature\n",
        "Y_train = train.filter(regex = 'Y')   # Output : Y feature"
      ]
    },
    {
      "cell_type": "markdown",
      "metadata": {
        "id": "FWLXXkt0kH_u"
      },
      "source": [
        "### **2.2 검사 통과 여부 변수 확인 (X_04, X_23, X_47, X_48)**"
      ]
    },
    {
      "cell_type": "code",
      "execution_count": null,
      "metadata": {
        "colab": {
          "base_uri": "https://localhost:8080/",
          "height": 393
        },
        "id": "bloG9Brqi56J",
        "outputId": "1778877d-ee7a-4beb-f162-6f0fa951a5e3"
      },
      "outputs": [
        {
          "output_type": "display_data",
          "data": {
            "text/plain": [
              "<Figure size 1440x864 with 4 Axes>"
            ],
            "image/png": "[encoded data removed]"
          },
          "metadata": {}
        }
      ],
      "source": [
        "# 시각화\n",
        "sns.set_style('whitegrid')\n",
        "dataset2 = train[['X_04','X_23','X_47','X_48']]\n",
        "\n",
        "fig = plt.figure(figsize=(20,12))\n",
        "plt.suptitle(\"Pie Chart Dist\", fontsize=20)\n",
        "for i in range(1,5):\n",
        "    plt.subplot(2,2,i)\n",
        "    f = plt.gca()\n",
        "    f.axes.get_yaxis().set_visible(False)\n",
        "    f.set_title(dataset2.columns.values[i-1])\n",
        "    values = dataset2.iloc[:, i-1].value_counts(normalize=True).values\n",
        "    index = dataset2.iloc[:, i-1].value_counts(normalize=True).index\n",
        "    \n",
        "    plt.pie(values, labels = index, autopct='%1.1f%%')\n",
        "    plt.axis('equal')\n",
        "    \n",
        "plt.tight_layout()"
      ]
    },
    {
      "cell_type": "markdown",
      "metadata": {
        "id": "uS6mdE_2kaXi"
      },
      "source": [
        "  - `X_04`, `X_23`, `X_47`, `X_48` : `1~4차 검사 통과 여부`를 나타내는 변수\n",
        "  - 위의 파이차트를 통해 알 수 있듯이, 모든 데이터가 1~4차 검사를 통과했으므로 변별력이 없다고 판단하여 추후 분석시 `제거`한다."
      ]
    },
    {
      "cell_type": "markdown",
      "metadata": {
        "id": "ANy-EZ5rlBfk"
      },
      "source": [
        "### **2.3 방열재료 무게 변수 확인 (X_03, X_10, X_11)**"
      ]
    },
    {
      "cell_type": "code",
      "execution_count": null,
      "metadata": {
        "id": "ATAe1p-vlXQS"
      },
      "outputs": [],
      "source": [
        "# plot\n",
        "def show_plot(data,columns):\n",
        "    for col in columns:\n",
        "        plt.figure(figsize=(36,12))\n",
        "        plt.plot(data[col])\n",
        "        plt.title(f'{col}', fontsize=40)\n",
        "        plt.tight_layout()"
      ]
    },
    {
      "cell_type": "code",
      "execution_count": null,
      "metadata": {
        "colab": {
          "base_uri": "https://localhost:8080/",
          "height": 642
        },
        "id": "uC-wEdrqlqyY",
        "outputId": "fdc68d88-1484-424e-afd5-07b398c5c6fb"
      },
      "outputs": [
        {
          "output_type": "display_data",
          "data": {
            "text/plain": [
              "<Figure size 2592x864 with 1 Axes>"
            ],
            "image/png": "[encoded data removed]"
          },
          "metadata": {}
        },
        {
          "output_type": "display_data",
          "data": {
            "text/plain": [
              "<Figure size 2592x864 with 1 Axes>"
            ],
            "image/png": "[encoded data removed]"
          },
          "metadata": {}
        },
        {
          "output_type": "display_data",
          "data": {
            "text/plain": [
              "<Figure size 2592x864 with 1 Axes>"
            ],
            "image/png": "[encoded data removed]"
          },
          "metadata": {}
        }
      ],
      "source": [
        "# 시각화\n",
        "show_plot(train,[\"X_03\", \"X_10\", \"X_11\"])"
      ]
    },
    {
      "cell_type": "markdown",
      "metadata": {
        "id": "lqUn7Zs4mDyA"
      },
      "source": [
        "  - 데이터를 시각화해보니 방열재료 2, 3 무게의 대부분이 0인 것으로 확인된다.\n",
        "  - 방열재료 2, 3 무게 변수에서 0이 차지하는 비율을 출력해보자."
      ]
    },
    {
      "cell_type": "code",
      "execution_count": null,
      "metadata": {
        "colab": {
          "base_uri": "https://localhost:8080/"
        },
        "id": "h3CsBuSbmQBn",
        "outputId": "28b4505f-afea-497f-8b03-bf44bb5b13f8"
      },
      "outputs": [
        {
          "output_type": "stream",
          "name": "stdout",
          "text": [
            "0.9991920620092408\n",
            "0.999318302320297\n"
          ]
        }
      ],
      "source": [
        "# 방열재료 2, 3 무게 변수에서 0이 차지하는 비율 확인\n",
        "print(len(X_train[X_train['X_10'] == 0]) / len(X_train))\n",
        "print(len(X_train[X_train['X_11'] == 0]) / len(X_train))"
      ]
    },
    {
      "cell_type": "markdown",
      "metadata": {
        "id": "Iw1LoXXhnr8U"
      },
      "source": [
        "  - 방열재료 2, 3 무게 변수 모두 0의 비율이 약 0.999로 거의 모든 값이 0이다.\n",
        "  - 따라서 `X_10`, `X_11` 변수도 추후 분석시 `제거`한다."
      ]
    },
    {
      "cell_type": "markdown",
      "metadata": {
        "id": "EyKqyVQDlv9G"
      },
      "source": [
        "---"
      ]
    },
    {
      "cell_type": "markdown",
      "metadata": {
        "id": "wmyVk6eyluH4"
      },
      "source": [
        "## **3. 데이터 전처리**"
      ]
    },
    {
      "cell_type": "markdown",
      "metadata": {
        "id": "WhX-ntmol9aP"
      },
      "source": [
        "### **3.1 변수 제거**"
      ]
    },
    {
      "cell_type": "code",
      "execution_count": null,
      "metadata": {
        "id": "C4pr9JAddg-Y"
      },
      "outputs": [],
      "source": [
        "# 결과에 영향이 낮은 인자 제거\n",
        "X_train = X_train.drop(['X_04', 'X_23', 'X_47', 'X_48', 'X_10', 'X_11', 'X_02'], axis = 1)"
      ]
    },
    {
      "cell_type": "markdown",
      "metadata": {
        "id": "bKshpSP2mAKa"
      },
      "source": [
        "### **3.2 이상치 제거**"
      ]
    },
    {
      "cell_type": "code",
      "execution_count": null,
      "metadata": {
        "id": "05AwhtBkdzTz"
      },
      "outputs": [],
      "source": [
        "# X_33 이상치 제거\n",
        "drop_idx = X_train.loc[X_train['X_33'] > 6].index\n",
        "\n",
        "X_train = X_train.drop(drop_idx, axis = 0)\n",
        "Y_train = Y_train.drop(drop_idx, axis = 0)\n",
        "\n",
        "X_train = X_train.reset_index(drop = True)\n",
        "Y_train = Y_train.reset_index(drop = True)"
      ]
    },
    {
      "cell_type": "markdown",
      "metadata": {
        "id": "NFuSnG-JquaR"
      },
      "source": [
        "---"
      ]
    },
    {
      "cell_type": "markdown",
      "metadata": {
        "id": "N4MXp6vIqu48"
      },
      "source": [
        "## **4. 평가산식 정의 (NRMSE)**"
      ]
    },
    {
      "cell_type": "code",
      "execution_count": null,
      "metadata": {
        "id": "ISQ8thjLqupZ"
      },
      "outputs": [],
      "source": [
        "def nrmse(y_val, y_pred):\n",
        "  rmse = mean_squared_error(y_val, y_pred, squared=False)\n",
        "  nrmse = rmse/np.mean(np.abs(y_val))\n",
        "  return nrmse\n",
        "\n",
        "def lg_nrmse(y_val, y_pred):\n",
        "    # 각 Y Feature별 NRMSE 총합\n",
        "    # Y_01 ~ Y_08 까지 20% 가중치 부여\n",
        "\n",
        "    y_val = pd.DataFrame(y_val)\n",
        "    y_pred = pd.DataFrame(y_pred)\n",
        "\n",
        "    all_nrmse = []\n",
        "    for idx in range(0,14):\n",
        "        all_nrmse.append(nrmse(y_val.iloc[:,idx], y_pred.iloc[:,idx]))\n",
        "        \n",
        "    score = 1.2 * np.sum(all_nrmse[:7]) + 1.0 * np.sum(all_nrmse[7:14])\n",
        "    return score"
      ]
    },
    {
      "cell_type": "markdown",
      "metadata": {
        "id": "agFJnwmlq2xe"
      },
      "source": [
        "---"
      ]
    },
    {
      "cell_type": "markdown",
      "metadata": {
        "id": "xUAwIKLkq8q0"
      },
      "source": [
        "## **5. PCA 최적화 준비**\n",
        "  - 최적의 성능을 보이는 PCA를 탐색하기 위한 과정\n",
        "  - 이 과정을 통해 최적으로 튜닝된 PCA 조합을 최종 데이터셋으로 결정"
      ]
    },
    {
      "cell_type": "code",
      "execution_count": null,
      "metadata": {
        "id": "UsdJoNBzq3Sl"
      },
      "outputs": [],
      "source": [
        "# PCA 클래스 설정\n",
        "class PCA_transform:\n",
        "\n",
        "  def __init__(self):\n",
        "    self.cols_list = []\n",
        "    self.pca_list = []\n",
        "    self.n_pca_list = []\n",
        "    self.size = 0\n",
        "  \n",
        "  # PCA 클래스의 학습 및 input 값 변환\n",
        "  def fit_transform(self, X_input, col, n_pca):\n",
        "    \n",
        "    if (n_pca == 0):\n",
        "      return X_input\n",
        "\n",
        "    X_pca = X_input[col]\n",
        "\n",
        "    # n차원으로 차원 축소, target 정보는 제외\n",
        "    pca = PCA(n_components = n_pca)\n",
        "\n",
        "    # PCA 학습\n",
        "    pca.fit(X_pca)\n",
        "\n",
        "    # PCA transform 후 데이터프레임으로 자료형 변경\n",
        "    X_pca = pca.transform(X_pca)\n",
        "    X_pca = pd.DataFrame(X_pca, columns = self.naming(n_pca))\n",
        "\n",
        "    X_input = pd.concat([X_input, X_pca], axis = 1)\n",
        "    X_input = X_input.drop(col, axis = 1)\n",
        "\n",
        "    self.cols_list.append(col)\n",
        "    self.pca_list.append(pca)\n",
        "    self.n_pca_list.append(n_pca)\n",
        "    self.size += 1\n",
        "\n",
        "    return X_input\n",
        "\n",
        "  # 학습된 PCA 값으로 transform\n",
        "  def transform(self, X_input):\n",
        "    for idx in range(self.size):\n",
        "      X_input = self._idx_transform(X_input, idx)\n",
        "    \n",
        "    return X_input\n",
        "\n",
        "  # n번째 PCA 변환\n",
        "  def _idx_transform(self, X_input, idx):\n",
        "    X_pca = X_input[self.cols_list[idx]]\n",
        "\n",
        "    # pca transform 후 데이터프레임으로 자료형 변경\n",
        "    X_pca = self.pca_list[idx].transform(X_pca)\n",
        "    X_pca = pd.DataFrame(X_pca, columns = self.naming(self.n_pca_list[idx], idx))\n",
        "    \n",
        "    X_input = pd.concat([X_input, X_pca], axis = 1)\n",
        "    X_input = X_input.drop(self.cols_list[idx], axis = 1)\n",
        "\n",
        "    return X_input\n",
        "\n",
        "  # PCA 된 컬럼 이름 규칙\n",
        "  def naming(self, number, name = None):\n",
        "    if (name is None):\n",
        "      name = self.size\n",
        "    names = []\n",
        "    for idx in range(number):\n",
        "      names.append(f'PCA_{str(name)}_{idx}')\n",
        "    return names"
      ]
    },
    {
      "cell_type": "code",
      "execution_count": null,
      "metadata": {
        "id": "pmwVBS8EsN4p"
      },
      "outputs": [],
      "source": [
        "# 교차 검증을 통한 모델 학습\n",
        "def train_model(model, X_input, Y_input, n_folds):\n",
        "  # 결과를 넣을 데이터 프레임 생성\n",
        "  train_fold_preds = pd.DataFrame()\n",
        "  \n",
        "  X_input = X_input.to_numpy()\n",
        "\n",
        "  kf = KFold(n_splits=n_folds, shuffle=True, random_state=SEED)\n",
        "\n",
        "  # Y 각 14개 인자에 대해 각각 학습 후 예측\n",
        "  for idx in range(0, 14):\n",
        "    # 예측 결과를 넣을 ndarray 생성\n",
        "    train_fold_pred = np.zeros((X_input.shape[0] ,1 ))\n",
        "    y_input = Y_input.iloc[:,idx]\n",
        "\n",
        "    # n_folds 만큼 KFold 학습\n",
        "    for folder_counter , (train_index, valid_index) in enumerate(kf.split(X_input)):\n",
        "        #입력된 학습 데이터에서 기반 모델이 학습/예측할 폴드 데이터 셋 추출 \n",
        "        X_tr = X_input[train_index]\n",
        "        y_tr = y_input[train_index]\n",
        "        X_val = X_input[valid_index]\n",
        "\n",
        "        #폴드 세트 내부에서 만들어진 학습 데이터로 기반 모델의 학습 수행.\n",
        "        model.fit(X_tr , y_tr)  \n",
        "        #폴드 세트 내부에서 만들어진 검증 데이터로 기반 모델 예측 후 데이터 저장.\n",
        "        train_fold_pred[valid_index, :] = model.predict(X_val).reshape(-1,1)\n",
        "    \n",
        "    # 예측된 결과를 데이터 프레임에 저장\n",
        "    train_fold_preds = pd.concat([train_fold_preds, pd.DataFrame(train_fold_pred)],axis=1)\n",
        "\n",
        "  return train_fold_preds"
      ]
    },
    {
      "cell_type": "code",
      "execution_count": null,
      "metadata": {
        "id": "OkQlfUSbsbSu"
      },
      "outputs": [],
      "source": [
        "# Optuna로 탐색할 목적 함수 생성\n",
        "def pca_objective(trial: Trial, X_input, Y_input, model, n_folds):\n",
        "  # Optuna로 탐색할 PCA 범위 설정\n",
        "  pca_1 = trial.suggest_int(\"pca_1\", 0, 2)\n",
        "  pca_2 = trial.suggest_int(\"pca_2\", 0, 2)\n",
        "  pca_3 = trial.suggest_int(\"pca_3\", 0, 5)\n",
        "  pca_4 = trial.suggest_int(\"pca_4\", 0, 3)\n",
        "  pca_5 = trial.suggest_int(\"pca_5\", 0, 5)\n",
        "  pca_6 = trial.suggest_int(\"pca_6\", 0, 3)\n",
        "  pca_7 = trial.suggest_int(\"pca_7\", 0, 3)\n",
        "  pca_8 = trial.suggest_int(\"pca_8\", 0, 2)\n",
        "  pca_9 = trial.suggest_int(\"pca_9\", 0, 4)\n",
        "  pca_10 = trial.suggest_int(\"pca_10\", 0, 6)\n",
        "\n",
        "  # 임의로 탐색된 변수로 X_input값을 PCA 수행\n",
        "  pca = PCA_transform()\n",
        "  X_input = pca.fit_transform(X_input, ['X_01', 'X_05', 'X_06'], pca_1)\n",
        "  X_input = pca.fit_transform(X_input, ['X_07', 'X_08', 'X_09'], pca_2)\n",
        "  X_input = pca.fit_transform(X_input, ['X_13', 'X_14', 'X_15', 'X_16', 'X_17', 'X_18'], pca_3)\n",
        "  X_input = pca.fit_transform(X_input, ['X_19', 'X_20', 'X_21', 'X_22'], pca_4)\n",
        "  X_input = pca.fit_transform(X_input, ['X_24', 'X_25', 'X_26', 'X_27', 'X_28', 'X_29'], pca_5)\n",
        "  X_input = pca.fit_transform(X_input, ['X_30', 'X_31', 'X_32', 'X_33'], pca_6)\n",
        "  X_input = pca.fit_transform(X_input, ['X_34', 'X_35', 'X_36', 'X_37'], pca_7)\n",
        "  X_input = pca.fit_transform(X_input, ['X_38', 'X_39', 'X_40'], pca_8)\n",
        "  X_input = pca.fit_transform(X_input, ['X_41', 'X_42', 'X_43', 'X_44', 'X_45'], pca_9)\n",
        "  X_input = pca.fit_transform(X_input, ['X_50', 'X_51', 'X_52', 'X_53', 'X_54', 'X_55', 'X_56'], pca_10)\n",
        "\n",
        "  # PCA 변환된 X_input 값으로 교차검증을 통한 예측값 생성\n",
        "  Y_pred = train_model(model, X_input, Y_input, n_folds)\n",
        "\n",
        "  # 평가산식으로 score 계산\n",
        "  score = lg_nrmse(Y_input, Y_pred)\n",
        "\n",
        "  return score"
      ]
    },
    {
      "cell_type": "code",
      "execution_count": null,
      "metadata": {
        "id": "2OjLe6wEsr-g"
      },
      "outputs": [],
      "source": [
        "# X_input, Y_input : 학습 데이터\n",
        "# model : 사용할 ML 모델\n",
        "# n_folds : fold 횟수\n",
        "# n_iter : 시도 횟수\n",
        "\n",
        "def start_study(X_input, Y_input, model, n_folds, n_iter):\n",
        "  try:\n",
        "    # 학습된 데이터가 있을 시 이어서 학습\n",
        "    study = joblib.load(\"/content/gdrive/MyDrive/PCA_study.pkl\")\n",
        "    print('Study loaded')\n",
        "  except:\n",
        "    # 학습된 데이터가 없을 시 새로운 학습 데이터 생성\n",
        "    # 학습방향 : 최소화\n",
        "    study = optuna.create_study(direction='minimize')\n",
        "  \n",
        "  while (n_iter > len(study.trials)):\n",
        "    # 학습 시작\n",
        "    study.optimize(lambda trial : pca_objective(trial, X_input,  Y_input, model, n_folds), n_trials=1)\n",
        "\n",
        "    # 결과 저장\n",
        "    joblib.dump(study, \"/content/gdrive/MyDrive/PCA_study.pkl\")\n",
        "\n",
        "  # 점수 및 최적화된 인자 출력\n",
        "  print('Best trial: score {},\\nparams {}'.format(study.best_trial.value, study.best_trial.params))"
      ]
    },
    {
      "cell_type": "markdown",
      "metadata": {
        "id": "CbtyjLeWtKEa"
      },
      "source": [
        "---"
      ]
    },
    {
      "cell_type": "markdown",
      "metadata": {
        "id": "msfKPCH8tKtk"
      },
      "source": [
        "## **6. PCA 최적화 탐색**"
      ]
    },
    {
      "cell_type": "code",
      "execution_count": null,
      "metadata": {
        "id": "f1sZEXoCtKXu"
      },
      "outputs": [],
      "source": [
        "# 학습 모델로 속도와 성능이 좋은 LGBM 선정\n",
        "lgb_model = LGBMRegressor(verbose = -1, random_state=SEED)"
      ]
    },
    {
      "cell_type": "code",
      "execution_count": null,
      "metadata": {
        "colab": {
          "base_uri": "https://localhost:8080/"
        },
        "id": "Q2hJJBpetRia",
        "outputId": "288d883c-c7b9-4e93-f620-6d39f91d61dd"
      },
      "outputs": [
        {
          "output_type": "stream",
          "name": "stderr",
          "text": [
            "\u001b[32m[I 2023-02-08 01:04:32,773]\u001b[0m A new study created in memory with name: no-name-03497e9a-fe9a-4805-a600-31c066d229f9\u001b[0m\n",
            "\u001b[32m[I 2023-02-08 01:07:01,403]\u001b[0m Trial 0 finished with value: 1.9604303729878072 and parameters: {'pca_1': 0, 'pca_2': 2, 'pca_3': 5, 'pca_4': 1, 'pca_5': 1, 'pca_6': 0, 'pca_7': 0, 'pca_8': 0, 'pca_9': 1, 'pca_10': 6}. Best is trial 0 with value: 1.9604303729878072.\u001b[0m\n",
            "\u001b[32m[I 2023-02-08 01:09:00,623]\u001b[0m Trial 1 finished with value: 1.964262547749469 and parameters: {'pca_1': 1, 'pca_2': 1, 'pca_3': 4, 'pca_4': 2, 'pca_5': 0, 'pca_6': 3, 'pca_7': 1, 'pca_8': 0, 'pca_9': 0, 'pca_10': 1}. Best is trial 0 with value: 1.9604303729878072.\u001b[0m\n",
            "\u001b[32m[I 2023-02-08 01:11:06,589]\u001b[0m Trial 2 finished with value: 1.9688796651785798 and parameters: {'pca_1': 2, 'pca_2': 1, 'pca_3': 1, 'pca_4': 0, 'pca_5': 2, 'pca_6': 2, 'pca_7': 2, 'pca_8': 0, 'pca_9': 2, 'pca_10': 0}. Best is trial 0 with value: 1.9604303729878072.\u001b[0m\n",
            "\u001b[32m[I 2023-02-08 01:12:59,777]\u001b[0m Trial 3 finished with value: 1.9621545100311406 and parameters: {'pca_1': 2, 'pca_2': 1, 'pca_3': 5, 'pca_4': 2, 'pca_5': 2, 'pca_6': 0, 'pca_7': 1, 'pca_8': 2, 'pca_9': 1, 'pca_10': 2}. Best is trial 0 with value: 1.9604303729878072.\u001b[0m\n",
            "\u001b[32m[I 2023-02-08 01:15:24,909]\u001b[0m Trial 4 finished with value: 1.9494916333445729 and parameters: {'pca_1': 0, 'pca_2': 0, 'pca_3': 0, 'pca_4': 2, 'pca_5': 4, 'pca_6': 1, 'pca_7': 2, 'pca_8': 2, 'pca_9': 2, 'pca_10': 6}. Best is trial 4 with value: 1.9494916333445729.\u001b[0m\n",
            "\u001b[32m[I 2023-02-08 01:17:25,305]\u001b[0m Trial 5 finished with value: 1.9512493866142344 and parameters: {'pca_1': 1, 'pca_2': 0, 'pca_3': 0, 'pca_4': 1, 'pca_5': 1, 'pca_6': 3, 'pca_7': 2, 'pca_8': 1, 'pca_9': 0, 'pca_10': 4}. Best is trial 4 with value: 1.9494916333445729.\u001b[0m\n",
            "\u001b[32m[I 2023-02-08 01:19:41,177]\u001b[0m Trial 6 finished with value: 1.9624867835153075 and parameters: {'pca_1': 0, 'pca_2': 1, 'pca_3': 4, 'pca_4': 2, 'pca_5': 1, 'pca_6': 3, 'pca_7': 2, 'pca_8': 0, 'pca_9': 2, 'pca_10': 6}. Best is trial 4 with value: 1.9494916333445729.\u001b[0m\n",
            "\u001b[32m[I 2023-02-08 01:22:13,128]\u001b[0m Trial 7 finished with value: 1.9532116218419484 and parameters: {'pca_1': 1, 'pca_2': 0, 'pca_3': 5, 'pca_4': 1, 'pca_5': 0, 'pca_6': 1, 'pca_7': 3, 'pca_8': 2, 'pca_9': 0, 'pca_10': 0}. Best is trial 4 with value: 1.9494916333445729.\u001b[0m\n",
            "\u001b[32m[I 2023-02-08 01:24:37,553]\u001b[0m Trial 8 finished with value: 1.962216128995163 and parameters: {'pca_1': 2, 'pca_2': 2, 'pca_3': 4, 'pca_4': 2, 'pca_5': 3, 'pca_6': 1, 'pca_7': 0, 'pca_8': 0, 'pca_9': 3, 'pca_10': 6}. Best is trial 4 with value: 1.9494916333445729.\u001b[0m\n",
            "\u001b[32m[I 2023-02-08 01:26:31,101]\u001b[0m Trial 9 finished with value: 1.950370059879784 and parameters: {'pca_1': 0, 'pca_2': 0, 'pca_3': 4, 'pca_4': 1, 'pca_5': 2, 'pca_6': 2, 'pca_7': 2, 'pca_8': 1, 'pca_9': 1, 'pca_10': 2}. Best is trial 4 with value: 1.9494916333445729.\u001b[0m\n",
            "\u001b[32m[I 2023-02-08 01:29:01,282]\u001b[0m Trial 10 finished with value: 1.9507085058499904 and parameters: {'pca_1': 0, 'pca_2': 0, 'pca_3': 2, 'pca_4': 3, 'pca_5': 5, 'pca_6': 1, 'pca_7': 3, 'pca_8': 2, 'pca_9': 4, 'pca_10': 4}. Best is trial 4 with value: 1.9494916333445729.\u001b[0m\n",
            "\u001b[32m[I 2023-02-08 01:31:04,234]\u001b[0m Trial 11 finished with value: 1.9512443325392037 and parameters: {'pca_1': 0, 'pca_2': 0, 'pca_3': 2, 'pca_4': 0, 'pca_5': 4, 'pca_6': 2, 'pca_7': 2, 'pca_8': 1, 'pca_9': 1, 'pca_10': 3}. Best is trial 4 with value: 1.9494916333445729.\u001b[0m\n",
            "\u001b[32m[I 2023-02-08 01:33:35,469]\u001b[0m Trial 12 finished with value: 1.9488585533679708 and parameters: {'pca_1': 0, 'pca_2': 0, 'pca_3': 0, 'pca_4': 3, 'pca_5': 4, 'pca_6': 2, 'pca_7': 3, 'pca_8': 1, 'pca_9': 3, 'pca_10': 4}. Best is trial 12 with value: 1.9488585533679708.\u001b[0m\n",
            "\u001b[32m[I 2023-02-08 01:36:14,990]\u001b[0m Trial 13 finished with value: 1.9507372102607856 and parameters: {'pca_1': 0, 'pca_2': 0, 'pca_3': 0, 'pca_4': 3, 'pca_5': 5, 'pca_6': 1, 'pca_7': 3, 'pca_8': 2, 'pca_9': 3, 'pca_10': 5}. Best is trial 12 with value: 1.9488585533679708.\u001b[0m\n",
            "\u001b[32m[I 2023-02-08 01:38:26,131]\u001b[0m Trial 14 finished with value: 1.9548146351536784 and parameters: {'pca_1': 1, 'pca_2': 0, 'pca_3': 1, 'pca_4': 3, 'pca_5': 4, 'pca_6': 2, 'pca_7': 3, 'pca_8': 1, 'pca_9': 3, 'pca_10': 4}. Best is trial 12 with value: 1.9488585533679708.\u001b[0m\n",
            "\u001b[32m[I 2023-02-08 01:40:38,363]\u001b[0m Trial 15 finished with value: 1.9629993491158644 and parameters: {'pca_1': 0, 'pca_2': 1, 'pca_3': 1, 'pca_4': 3, 'pca_5': 4, 'pca_6': 0, 'pca_7': 1, 'pca_8': 1, 'pca_9': 4, 'pca_10': 5}. Best is trial 12 with value: 1.9488585533679708.\u001b[0m\n",
            "\u001b[32m[I 2023-02-08 01:43:05,694]\u001b[0m Trial 16 finished with value: 1.9526872052644044 and parameters: {'pca_1': 1, 'pca_2': 0, 'pca_3': 0, 'pca_4': 3, 'pca_5': 3, 'pca_6': 2, 'pca_7': 3, 'pca_8': 2, 'pca_9': 3, 'pca_10': 5}. Best is trial 12 with value: 1.9488585533679708.\u001b[0m\n",
            "\u001b[32m[I 2023-02-08 01:45:06,225]\u001b[0m Trial 17 finished with value: 1.9634455808125193 and parameters: {'pca_1': 0, 'pca_2': 2, 'pca_3': 1, 'pca_4': 2, 'pca_5': 5, 'pca_6': 1, 'pca_7': 3, 'pca_8': 1, 'pca_9': 2, 'pca_10': 3}. Best is trial 12 with value: 1.9488585533679708.\u001b[0m\n",
            "\u001b[32m[I 2023-02-08 01:47:32,752]\u001b[0m Trial 18 finished with value: 1.963867464204148 and parameters: {'pca_1': 0, 'pca_2': 1, 'pca_3': 0, 'pca_4': 3, 'pca_5': 4, 'pca_6': 1, 'pca_7': 2, 'pca_8': 2, 'pca_9': 4, 'pca_10': 5}. Best is trial 12 with value: 1.9488585533679708.\u001b[0m\n",
            "\u001b[32m[I 2023-02-08 01:49:36,160]\u001b[0m Trial 19 finished with value: 1.9496126423196956 and parameters: {'pca_1': 1, 'pca_2': 0, 'pca_3': 3, 'pca_4': 2, 'pca_5': 3, 'pca_6': 2, 'pca_7': 1, 'pca_8': 1, 'pca_9': 3, 'pca_10': 4}. Best is trial 12 with value: 1.9488585533679708.\u001b[0m\n",
            "\u001b[32m[I 2023-02-08 01:51:58,421]\u001b[0m Trial 20 finished with value: 1.9635359226673232 and parameters: {'pca_1': 0, 'pca_2': 1, 'pca_3': 2, 'pca_4': 3, 'pca_5': 4, 'pca_6': 3, 'pca_7': 3, 'pca_8': 1, 'pca_9': 2, 'pca_10': 6}. Best is trial 12 with value: 1.9488585533679708.\u001b[0m\n",
            "\u001b[32m[I 2023-02-08 01:54:01,098]\u001b[0m Trial 21 finished with value: 1.9496126423196956 and parameters: {'pca_1': 1, 'pca_2': 0, 'pca_3': 3, 'pca_4': 2, 'pca_5': 3, 'pca_6': 2, 'pca_7': 1, 'pca_8': 1, 'pca_9': 3, 'pca_10': 4}. Best is trial 12 with value: 1.9488585533679708.\u001b[0m\n",
            "\u001b[32m[I 2023-02-08 01:55:55,967]\u001b[0m Trial 22 finished with value: 1.9487634680295645 and parameters: {'pca_1': 2, 'pca_2': 0, 'pca_3': 3, 'pca_4': 2, 'pca_5': 3, 'pca_6': 2, 'pca_7': 1, 'pca_8': 1, 'pca_9': 2, 'pca_10': 2}. Best is trial 22 with value: 1.9487634680295645.\u001b[0m\n",
            "\u001b[32m[I 2023-02-08 01:58:00,979]\u001b[0m Trial 23 finished with value: 1.9504649800560112 and parameters: {'pca_1': 2, 'pca_2': 0, 'pca_3': 3, 'pca_4': 2, 'pca_5': 4, 'pca_6': 2, 'pca_7': 0, 'pca_8': 2, 'pca_9': 2, 'pca_10': 2}. Best is trial 22 with value: 1.9487634680295645.\u001b[0m\n",
            "\u001b[32m[I 2023-02-08 01:59:30,324]\u001b[0m Trial 24 finished with value: 1.95322656777083 and parameters: {'pca_1': 2, 'pca_2': 0, 'pca_3': 1, 'pca_4': 1, 'pca_5': 3, 'pca_6': 1, 'pca_7': 1, 'pca_8': 1, 'pca_9': 2, 'pca_10': 1}. Best is trial 22 with value: 1.9487634680295645.\u001b[0m\n",
            "\u001b[32m[I 2023-02-08 02:01:40,114]\u001b[0m Trial 25 finished with value: 1.9493505385966512 and parameters: {'pca_1': 2, 'pca_2': 0, 'pca_3': 0, 'pca_4': 2, 'pca_5': 5, 'pca_6': 2, 'pca_7': 2, 'pca_8': 1, 'pca_9': 2, 'pca_10': 3}. Best is trial 22 with value: 1.9487634680295645.\u001b[0m\n",
            "\u001b[32m[I 2023-02-08 02:03:43,881]\u001b[0m Trial 26 finished with value: 1.9485534957167965 and parameters: {'pca_1': 2, 'pca_2': 0, 'pca_3': 2, 'pca_4': 3, 'pca_5': 5, 'pca_6': 3, 'pca_7': 1, 'pca_8': 1, 'pca_9': 1, 'pca_10': 3}. Best is trial 26 with value: 1.9485534957167965.\u001b[0m\n",
            "\u001b[32m[I 2023-02-08 02:05:40,529]\u001b[0m Trial 27 finished with value: 1.964408160130546 and parameters: {'pca_1': 2, 'pca_2': 1, 'pca_3': 2, 'pca_4': 3, 'pca_5': 5, 'pca_6': 3, 'pca_7': 0, 'pca_8': 1, 'pca_9': 1, 'pca_10': 2}. Best is trial 26 with value: 1.9485534957167965.\u001b[0m\n",
            "\u001b[32m[I 2023-02-08 02:07:47,430]\u001b[0m Trial 28 finished with value: 1.949092506080529 and parameters: {'pca_1': 2, 'pca_2': 0, 'pca_3': 3, 'pca_4': 3, 'pca_5': 5, 'pca_6': 3, 'pca_7': 1, 'pca_8': 1, 'pca_9': 1, 'pca_10': 3}. Best is trial 26 with value: 1.9485534957167965.\u001b[0m\n",
            "\u001b[32m[I 2023-02-08 02:09:39,129]\u001b[0m Trial 29 finished with value: 1.9617014808459217 and parameters: {'pca_1': 2, 'pca_2': 2, 'pca_3': 2, 'pca_4': 3, 'pca_5': 2, 'pca_6': 3, 'pca_7': 0, 'pca_8': 0, 'pca_9': 1, 'pca_10': 1}. Best is trial 26 with value: 1.9485534957167965.\u001b[0m\n",
            "\u001b[32m[I 2023-02-08 02:11:50,329]\u001b[0m Trial 30 finished with value: 1.9478594191729754 and parameters: {'pca_1': 2, 'pca_2': 0, 'pca_3': 3, 'pca_4': 3, 'pca_5': 3, 'pca_6': 3, 'pca_7': 1, 'pca_8': 0, 'pca_9': 0, 'pca_10': 2}. Best is trial 30 with value: 1.9478594191729754.\u001b[0m\n",
            "\u001b[32m[I 2023-02-08 02:14:00,705]\u001b[0m Trial 31 finished with value: 1.947859542558188 and parameters: {'pca_1': 2, 'pca_2': 0, 'pca_3': 3, 'pca_4': 3, 'pca_5': 3, 'pca_6': 3, 'pca_7': 1, 'pca_8': 0, 'pca_9': 0, 'pca_10': 2}. Best is trial 30 with value: 1.9478594191729754.\u001b[0m\n",
            "\u001b[32m[I 2023-02-08 02:16:10,111]\u001b[0m Trial 32 finished with value: 1.9478594191729754 and parameters: {'pca_1': 2, 'pca_2': 0, 'pca_3': 3, 'pca_4': 3, 'pca_5': 3, 'pca_6': 3, 'pca_7': 1, 'pca_8': 0, 'pca_9': 0, 'pca_10': 2}. Best is trial 30 with value: 1.9478594191729754.\u001b[0m\n",
            "\u001b[32m[I 2023-02-08 02:18:17,058]\u001b[0m Trial 33 finished with value: 1.9488508129222852 and parameters: {'pca_1': 2, 'pca_2': 0, 'pca_3': 4, 'pca_4': 3, 'pca_5': 2, 'pca_6': 3, 'pca_7': 1, 'pca_8': 0, 'pca_9': 0, 'pca_10': 1}. Best is trial 30 with value: 1.9478594191729754.\u001b[0m\n",
            "\u001b[32m[I 2023-02-08 02:20:13,957]\u001b[0m Trial 34 finished with value: 1.96420734940903 and parameters: {'pca_1': 2, 'pca_2': 1, 'pca_3': 3, 'pca_4': 3, 'pca_5': 3, 'pca_6': 3, 'pca_7': 1, 'pca_8': 0, 'pca_9': 0, 'pca_10': 1}. Best is trial 30 with value: 1.9478594191729754.\u001b[0m\n",
            "\u001b[32m[I 2023-02-08 02:22:19,825]\u001b[0m Trial 35 finished with value: 1.9467677400694534 and parameters: {'pca_1': 2, 'pca_2': 0, 'pca_3': 3, 'pca_4': 3, 'pca_5': 2, 'pca_6': 3, 'pca_7': 1, 'pca_8': 0, 'pca_9': 0, 'pca_10': 2}. Best is trial 35 with value: 1.9467677400694534.\u001b[0m\n",
            "\u001b[32m[I 2023-02-08 02:24:26,919]\u001b[0m Trial 36 finished with value: 1.9651014888819902 and parameters: {'pca_1': 2, 'pca_2': 1, 'pca_3': 4, 'pca_4': 0, 'pca_5': 2, 'pca_6': 3, 'pca_7': 0, 'pca_8': 0, 'pca_9': 0, 'pca_10': 2}. Best is trial 35 with value: 1.9467677400694534.\u001b[0m\n",
            "\u001b[32m[I 2023-02-08 02:26:49,892]\u001b[0m Trial 37 finished with value: 1.950121678758829 and parameters: {'pca_1': 2, 'pca_2': 0, 'pca_3': 3, 'pca_4': 3, 'pca_5': 1, 'pca_6': 3, 'pca_7': 1, 'pca_8': 0, 'pca_9': 0, 'pca_10': 0}. Best is trial 35 with value: 1.9467677400694534.\u001b[0m\n",
            "\u001b[32m[I 2023-02-08 02:28:52,170]\u001b[0m Trial 38 finished with value: 1.9622245706380317 and parameters: {'pca_1': 2, 'pca_2': 1, 'pca_3': 4, 'pca_4': 3, 'pca_5': 2, 'pca_6': 3, 'pca_7': 1, 'pca_8': 0, 'pca_9': 0, 'pca_10': 2}. Best is trial 35 with value: 1.9467677400694534.\u001b[0m\n",
            "\u001b[32m[I 2023-02-08 02:31:01,571]\u001b[0m Trial 39 finished with value: 1.94952898329914 and parameters: {'pca_1': 1, 'pca_2': 0, 'pca_3': 3, 'pca_4': 3, 'pca_5': 0, 'pca_6': 3, 'pca_7': 0, 'pca_8': 0, 'pca_9': 0, 'pca_10': 1}. Best is trial 35 with value: 1.9467677400694534.\u001b[0m\n",
            "\u001b[32m[I 2023-02-08 02:33:04,377]\u001b[0m Trial 40 finished with value: 1.9474776928221862 and parameters: {'pca_1': 2, 'pca_2': 0, 'pca_3': 5, 'pca_4': 2, 'pca_5': 1, 'pca_6': 3, 'pca_7': 1, 'pca_8': 0, 'pca_9': 0, 'pca_10': 1}. Best is trial 35 with value: 1.9467677400694534.\u001b[0m\n",
            "\u001b[32m[I 2023-02-08 02:35:08,021]\u001b[0m Trial 41 finished with value: 1.9474776928221862 and parameters: {'pca_1': 2, 'pca_2': 0, 'pca_3': 5, 'pca_4': 2, 'pca_5': 1, 'pca_6': 3, 'pca_7': 1, 'pca_8': 0, 'pca_9': 0, 'pca_10': 1}. Best is trial 35 with value: 1.9467677400694534.\u001b[0m\n",
            "\u001b[32m[I 2023-02-08 02:37:34,169]\u001b[0m Trial 42 finished with value: 1.9492940010349642 and parameters: {'pca_1': 2, 'pca_2': 0, 'pca_3': 5, 'pca_4': 2, 'pca_5': 1, 'pca_6': 3, 'pca_7': 1, 'pca_8': 0, 'pca_9': 0, 'pca_10': 0}. Best is trial 35 with value: 1.9467677400694534.\u001b[0m\n",
            "\u001b[32m[I 2023-02-08 02:39:35,271]\u001b[0m Trial 43 finished with value: 1.9474777506043284 and parameters: {'pca_1': 2, 'pca_2': 0, 'pca_3': 5, 'pca_4': 2, 'pca_5': 1, 'pca_6': 3, 'pca_7': 1, 'pca_8': 0, 'pca_9': 0, 'pca_10': 1}. Best is trial 35 with value: 1.9467677400694534.\u001b[0m\n",
            "\u001b[32m[I 2023-02-08 02:41:56,747]\u001b[0m Trial 44 finished with value: 1.9500786073086185 and parameters: {'pca_1': 2, 'pca_2': 0, 'pca_3': 5, 'pca_4': 1, 'pca_5': 1, 'pca_6': 3, 'pca_7': 1, 'pca_8': 0, 'pca_9': 0, 'pca_10': 0}. Best is trial 35 with value: 1.9467677400694534.\u001b[0m\n",
            "\u001b[32m[I 2023-02-08 02:44:13,948]\u001b[0m Trial 45 finished with value: 1.9496639095190313 and parameters: {'pca_1': 2, 'pca_2': 0, 'pca_3': 5, 'pca_4': 2, 'pca_5': 0, 'pca_6': 3, 'pca_7': 2, 'pca_8': 0, 'pca_9': 0, 'pca_10': 1}. Best is trial 35 with value: 1.9467677400694534.\u001b[0m\n",
            "\u001b[32m[I 2023-02-08 02:46:08,868]\u001b[0m Trial 46 finished with value: 1.948833510202356 and parameters: {'pca_1': 2, 'pca_2': 0, 'pca_3': 5, 'pca_4': 2, 'pca_5': 1, 'pca_6': 3, 'pca_7': 1, 'pca_8': 0, 'pca_9': 1, 'pca_10': 1}. Best is trial 35 with value: 1.9467677400694534.\u001b[0m\n",
            "\u001b[32m[I 2023-02-08 02:47:48,971]\u001b[0m Trial 47 finished with value: 1.9536659828652405 and parameters: {'pca_1': 1, 'pca_2': 0, 'pca_3': 5, 'pca_4': 1, 'pca_5': 1, 'pca_6': 0, 'pca_7': 1, 'pca_8': 0, 'pca_9': 1, 'pca_10': 1}. Best is trial 35 with value: 1.9467677400694534.\u001b[0m\n",
            "\u001b[32m[I 2023-02-08 02:50:38,525]\u001b[0m Trial 48 finished with value: 1.9496398054463095 and parameters: {'pca_1': 2, 'pca_2': 0, 'pca_3': 4, 'pca_4': 2, 'pca_5': 0, 'pca_6': 3, 'pca_7': 2, 'pca_8': 0, 'pca_9': 0, 'pca_10': 0}. Best is trial 35 with value: 1.9467677400694534.\u001b[0m\n",
            "\u001b[32m[I 2023-02-08 02:52:51,122]\u001b[0m Trial 49 finished with value: 1.948518424660332 and parameters: {'pca_1': 2, 'pca_2': 0, 'pca_3': 5, 'pca_4': 2, 'pca_5': 1, 'pca_6': 3, 'pca_7': 0, 'pca_8': 0, 'pca_9': 0, 'pca_10': 1}. Best is trial 35 with value: 1.9467677400694534.\u001b[0m\n",
            "\u001b[32m[I 2023-02-08 02:54:55,433]\u001b[0m Trial 50 finished with value: 1.9497564322620984 and parameters: {'pca_1': 1, 'pca_2': 0, 'pca_3': 5, 'pca_4': 2, 'pca_5': 2, 'pca_6': 3, 'pca_7': 1, 'pca_8': 0, 'pca_9': 1, 'pca_10': 2}. Best is trial 35 with value: 1.9467677400694534.\u001b[0m\n",
            "\u001b[32m[I 2023-02-08 02:57:29,982]\u001b[0m Trial 51 finished with value: 1.947756242245951 and parameters: {'pca_1': 2, 'pca_2': 0, 'pca_3': 4, 'pca_4': 2, 'pca_5': 2, 'pca_6': 3, 'pca_7': 1, 'pca_8': 0, 'pca_9': 0, 'pca_10': 2}. Best is trial 35 with value: 1.9467677400694534.\u001b[0m\n",
            "\u001b[32m[I 2023-02-08 02:59:36,969]\u001b[0m Trial 52 finished with value: 1.9485059843557209 and parameters: {'pca_1': 2, 'pca_2': 0, 'pca_3': 4, 'pca_4': 2, 'pca_5': 2, 'pca_6': 3, 'pca_7': 1, 'pca_8': 0, 'pca_9': 0, 'pca_10': 1}. Best is trial 35 with value: 1.9467677400694534.\u001b[0m\n",
            "\u001b[32m[I 2023-02-08 03:02:18,693]\u001b[0m Trial 53 finished with value: 1.9480946062268287 and parameters: {'pca_1': 2, 'pca_2': 0, 'pca_3': 4, 'pca_4': 2, 'pca_5': 2, 'pca_6': 3, 'pca_7': 1, 'pca_8': 0, 'pca_9': 0, 'pca_10': 2}. Best is trial 35 with value: 1.9467677400694534.\u001b[0m\n",
            "\u001b[32m[I 2023-02-08 03:04:50,000]\u001b[0m Trial 54 finished with value: 1.9492940010349642 and parameters: {'pca_1': 2, 'pca_2': 0, 'pca_3': 5, 'pca_4': 2, 'pca_5': 1, 'pca_6': 3, 'pca_7': 1, 'pca_8': 0, 'pca_9': 0, 'pca_10': 0}. Best is trial 35 with value: 1.9467677400694534.\u001b[0m\n",
            "\u001b[32m[I 2023-02-08 03:06:41,285]\u001b[0m Trial 55 finished with value: 1.9499146051209615 and parameters: {'pca_1': 2, 'pca_2': 0, 'pca_3': 4, 'pca_4': 1, 'pca_5': 1, 'pca_6': 3, 'pca_7': 1, 'pca_8': 0, 'pca_9': 0, 'pca_10': 1}. Best is trial 35 with value: 1.9467677400694534.\u001b[0m\n",
            "\u001b[32m[I 2023-02-08 03:08:59,450]\u001b[0m Trial 56 finished with value: 1.9504165081748968 and parameters: {'pca_1': 2, 'pca_2': 0, 'pca_3': 4, 'pca_4': 2, 'pca_5': 0, 'pca_6': 2, 'pca_7': 2, 'pca_8': 0, 'pca_9': 0, 'pca_10': 3}. Best is trial 35 with value: 1.9467677400694534.\u001b[0m\n",
            "\u001b[32m[I 2023-02-08 03:10:56,983]\u001b[0m Trial 57 finished with value: 1.9589667689650665 and parameters: {'pca_1': 2, 'pca_2': 2, 'pca_3': 5, 'pca_4': 2, 'pca_5': 2, 'pca_6': 3, 'pca_7': 1, 'pca_8': 0, 'pca_9': 1, 'pca_10': 2}. Best is trial 35 with value: 1.9467677400694534.\u001b[0m\n",
            "\u001b[32m[I 2023-02-08 03:13:03,765]\u001b[0m Trial 58 finished with value: 1.94888059102449 and parameters: {'pca_1': 2, 'pca_2': 0, 'pca_3': 5, 'pca_4': 2, 'pca_5': 1, 'pca_6': 2, 'pca_7': 1, 'pca_8': 0, 'pca_9': 0, 'pca_10': 3}. Best is trial 35 with value: 1.9467677400694534.\u001b[0m\n",
            "\u001b[32m[I 2023-02-08 03:15:04,271]\u001b[0m Trial 59 finished with value: 1.9497354087103183 and parameters: {'pca_1': 2, 'pca_2': 0, 'pca_3': 4, 'pca_4': 1, 'pca_5': 2, 'pca_6': 3, 'pca_7': 1, 'pca_8': 0, 'pca_9': 0, 'pca_10': 2}. Best is trial 35 with value: 1.9467677400694534.\u001b[0m\n",
            "\u001b[32m[I 2023-02-08 03:17:07,623]\u001b[0m Trial 60 finished with value: 1.964510807603482 and parameters: {'pca_1': 1, 'pca_2': 1, 'pca_3': 5, 'pca_4': 0, 'pca_5': 2, 'pca_6': 3, 'pca_7': 0, 'pca_8': 0, 'pca_9': 0, 'pca_10': 1}. Best is trial 35 with value: 1.9467677400694534.\u001b[0m\n",
            "\u001b[32m[I 2023-02-08 03:19:17,272]\u001b[0m Trial 61 finished with value: 1.9478594191729754 and parameters: {'pca_1': 2, 'pca_2': 0, 'pca_3': 3, 'pca_4': 3, 'pca_5': 3, 'pca_6': 3, 'pca_7': 1, 'pca_8': 0, 'pca_9': 0, 'pca_10': 2}. Best is trial 35 with value: 1.9467677400694534.\u001b[0m\n",
            "\u001b[32m[I 2023-02-08 03:21:32,222]\u001b[0m Trial 62 finished with value: 1.9483944522987406 and parameters: {'pca_1': 2, 'pca_2': 0, 'pca_3': 4, 'pca_4': 3, 'pca_5': 3, 'pca_6': 3, 'pca_7': 1, 'pca_8': 0, 'pca_9': 0, 'pca_10': 2}. Best is trial 35 with value: 1.9467677400694534.\u001b[0m\n",
            "\u001b[32m[I 2023-02-08 03:23:30,753]\u001b[0m Trial 63 finished with value: 1.9484448918560753 and parameters: {'pca_1': 2, 'pca_2': 0, 'pca_3': 3, 'pca_4': 2, 'pca_5': 1, 'pca_6': 3, 'pca_7': 1, 'pca_8': 0, 'pca_9': 0, 'pca_10': 2}. Best is trial 35 with value: 1.9467677400694534.\u001b[0m\n",
            "\u001b[32m[I 2023-02-08 03:25:51,579]\u001b[0m Trial 64 finished with value: 1.9479042546025953 and parameters: {'pca_1': 2, 'pca_2': 0, 'pca_3': 5, 'pca_4': 3, 'pca_5': 3, 'pca_6': 3, 'pca_7': 1, 'pca_8': 0, 'pca_9': 0, 'pca_10': 3}. Best is trial 35 with value: 1.9467677400694534.\u001b[0m\n",
            "\u001b[32m[I 2023-02-08 03:27:33,223]\u001b[0m Trial 65 finished with value: 1.9494529781363024 and parameters: {'pca_1': 2, 'pca_2': 0, 'pca_3': 2, 'pca_4': 2, 'pca_5': 1, 'pca_6': 3, 'pca_7': 1, 'pca_8': 0, 'pca_9': 1, 'pca_10': 1}. Best is trial 35 with value: 1.9467677400694534.\u001b[0m\n",
            "\u001b[32m[I 2023-02-08 03:29:41,304]\u001b[0m Trial 66 finished with value: 1.949884741964091 and parameters: {'pca_1': 2, 'pca_2': 0, 'pca_3': 3, 'pca_4': 3, 'pca_5': 3, 'pca_6': 2, 'pca_7': 2, 'pca_8': 0, 'pca_9': 0, 'pca_10': 2}. Best is trial 35 with value: 1.9467677400694534.\u001b[0m\n",
            "\u001b[32m[I 2023-02-08 03:31:48,139]\u001b[0m Trial 67 finished with value: 1.9480201755395758 and parameters: {'pca_1': 2, 'pca_2': 0, 'pca_3': 4, 'pca_4': 3, 'pca_5': 2, 'pca_6': 3, 'pca_7': 1, 'pca_8': 0, 'pca_9': 1, 'pca_10': 3}. Best is trial 35 with value: 1.9467677400694534.\u001b[0m\n",
            "\u001b[32m[I 2023-02-08 03:33:51,979]\u001b[0m Trial 68 finished with value: 1.9486008323470465 and parameters: {'pca_1': 2, 'pca_2': 0, 'pca_3': 3, 'pca_4': 2, 'pca_5': 0, 'pca_6': 3, 'pca_7': 1, 'pca_8': 0, 'pca_9': 0, 'pca_10': 1}. Best is trial 35 with value: 1.9467677400694534.\u001b[0m\n",
            "\u001b[32m[I 2023-02-08 03:35:58,309]\u001b[0m Trial 69 finished with value: 1.9493074894532942 and parameters: {'pca_1': 2, 'pca_2': 0, 'pca_3': 5, 'pca_4': 3, 'pca_5': 1, 'pca_6': 2, 'pca_7': 1, 'pca_8': 0, 'pca_9': 0, 'pca_10': 2}. Best is trial 35 with value: 1.9467677400694534.\u001b[0m\n",
            "\u001b[32m[I 2023-02-08 03:37:42,161]\u001b[0m Trial 70 finished with value: 1.9641766469575226 and parameters: {'pca_1': 2, 'pca_2': 1, 'pca_3': 3, 'pca_4': 2, 'pca_5': 3, 'pca_6': 3, 'pca_7': 1, 'pca_8': 0, 'pca_9': 1, 'pca_10': 1}. Best is trial 35 with value: 1.9467677400694534.\u001b[0m\n",
            "\u001b[32m[I 2023-02-08 03:39:51,300]\u001b[0m Trial 71 finished with value: 1.9478594191729754 and parameters: {'pca_1': 2, 'pca_2': 0, 'pca_3': 3, 'pca_4': 3, 'pca_5': 3, 'pca_6': 3, 'pca_7': 1, 'pca_8': 0, 'pca_9': 0, 'pca_10': 2}. Best is trial 35 with value: 1.9467677400694534.\u001b[0m\n",
            "\u001b[32m[I 2023-02-08 03:41:57,195]\u001b[0m Trial 72 finished with value: 1.9485388365512089 and parameters: {'pca_1': 2, 'pca_2': 0, 'pca_3': 2, 'pca_4': 3, 'pca_5': 3, 'pca_6': 3, 'pca_7': 1, 'pca_8': 0, 'pca_9': 0, 'pca_10': 2}. Best is trial 35 with value: 1.9467677400694534.\u001b[0m\n",
            "\u001b[32m[I 2023-02-08 03:44:10,428]\u001b[0m Trial 73 finished with value: 1.9490993675794555 and parameters: {'pca_1': 2, 'pca_2': 0, 'pca_3': 3, 'pca_4': 3, 'pca_5': 4, 'pca_6': 3, 'pca_7': 1, 'pca_8': 0, 'pca_9': 0, 'pca_10': 2}. Best is trial 35 with value: 1.9467677400694534.\u001b[0m\n",
            "\u001b[32m[I 2023-02-08 03:46:26,251]\u001b[0m Trial 74 finished with value: 1.9481897767930936 and parameters: {'pca_1': 2, 'pca_2': 0, 'pca_3': 3, 'pca_4': 3, 'pca_5': 3, 'pca_6': 3, 'pca_7': 1, 'pca_8': 0, 'pca_9': 0, 'pca_10': 3}. Best is trial 35 with value: 1.9467677400694534.\u001b[0m\n",
            "\u001b[32m[I 2023-02-08 03:48:21,734]\u001b[0m Trial 75 finished with value: 1.9481720584567022 and parameters: {'pca_1': 2, 'pca_2': 0, 'pca_3': 2, 'pca_4': 3, 'pca_5': 2, 'pca_6': 3, 'pca_7': 1, 'pca_8': 0, 'pca_9': 0, 'pca_10': 1}. Best is trial 35 with value: 1.9467677400694534.\u001b[0m\n",
            "\u001b[32m[I 2023-02-08 03:50:35,849]\u001b[0m Trial 76 finished with value: 1.9481696699230087 and parameters: {'pca_1': 2, 'pca_2': 0, 'pca_3': 3, 'pca_4': 3, 'pca_5': 3, 'pca_6': 3, 'pca_7': 2, 'pca_8': 0, 'pca_9': 0, 'pca_10': 1}. Best is trial 35 with value: 1.9467677400694534.\u001b[0m\n",
            "\u001b[32m[I 2023-02-08 03:52:45,303]\u001b[0m Trial 77 finished with value: 1.9473682842450877 and parameters: {'pca_1': 2, 'pca_2': 0, 'pca_3': 4, 'pca_4': 3, 'pca_5': 2, 'pca_6': 3, 'pca_7': 1, 'pca_8': 0, 'pca_9': 0, 'pca_10': 2}. Best is trial 35 with value: 1.9467677400694534.\u001b[0m\n",
            "\u001b[32m[I 2023-02-08 03:55:12,983]\u001b[0m Trial 78 finished with value: 1.9497171148016808 and parameters: {'pca_1': 2, 'pca_2': 0, 'pca_3': 4, 'pca_4': 2, 'pca_5': 2, 'pca_6': 3, 'pca_7': 0, 'pca_8': 0, 'pca_9': 0, 'pca_10': 0}. Best is trial 35 with value: 1.9467677400694534.\u001b[0m\n",
            "\u001b[32m[I 2023-02-08 03:57:28,940]\u001b[0m Trial 79 finished with value: 1.9482054883557562 and parameters: {'pca_1': 2, 'pca_2': 0, 'pca_3': 5, 'pca_4': 3, 'pca_5': 2, 'pca_6': 3, 'pca_7': 1, 'pca_8': 0, 'pca_9': 0, 'pca_10': 3}. Best is trial 35 with value: 1.9467677400694534.\u001b[0m\n",
            "\u001b[32m[I 2023-02-08 03:59:21,691]\u001b[0m Trial 80 finished with value: 1.9483612774478987 and parameters: {'pca_1': 2, 'pca_2': 0, 'pca_3': 4, 'pca_4': 2, 'pca_5': 2, 'pca_6': 3, 'pca_7': 1, 'pca_8': 0, 'pca_9': 1, 'pca_10': 2}. Best is trial 35 with value: 1.9467677400694534.\u001b[0m\n",
            "\u001b[32m[I 2023-02-08 04:01:29,318]\u001b[0m Trial 81 finished with value: 1.9478594191729754 and parameters: {'pca_1': 2, 'pca_2': 0, 'pca_3': 3, 'pca_4': 3, 'pca_5': 3, 'pca_6': 3, 'pca_7': 1, 'pca_8': 0, 'pca_9': 0, 'pca_10': 2}. Best is trial 35 with value: 1.9467677400694534.\u001b[0m\n",
            "\u001b[32m[I 2023-02-08 04:03:43,667]\u001b[0m Trial 82 finished with value: 1.9484349643802252 and parameters: {'pca_1': 2, 'pca_2': 0, 'pca_3': 4, 'pca_4': 3, 'pca_5': 4, 'pca_6': 3, 'pca_7': 1, 'pca_8': 0, 'pca_9': 0, 'pca_10': 2}. Best is trial 35 with value: 1.9467677400694534.\u001b[0m\n",
            "\u001b[32m[I 2023-02-08 04:05:56,810]\u001b[0m Trial 83 finished with value: 1.9473810352196643 and parameters: {'pca_1': 2, 'pca_2': 0, 'pca_3': 5, 'pca_4': 3, 'pca_5': 2, 'pca_6': 3, 'pca_7': 1, 'pca_8': 0, 'pca_9': 0, 'pca_10': 2}. Best is trial 35 with value: 1.9467677400694534.\u001b[0m\n",
            "\u001b[32m[I 2023-02-08 04:08:03,088]\u001b[0m Trial 84 finished with value: 1.9487028078060917 and parameters: {'pca_1': 2, 'pca_2': 0, 'pca_3': 5, 'pca_4': 3, 'pca_5': 2, 'pca_6': 3, 'pca_7': 1, 'pca_8': 0, 'pca_9': 0, 'pca_10': 1}. Best is trial 35 with value: 1.9467677400694534.\u001b[0m\n",
            "\u001b[32m[I 2023-02-08 04:10:20,481]\u001b[0m Trial 85 finished with value: 1.9493120461578861 and parameters: {'pca_1': 2, 'pca_2': 0, 'pca_3': 5, 'pca_4': 3, 'pca_5': 2, 'pca_6': 3, 'pca_7': 1, 'pca_8': 0, 'pca_9': 4, 'pca_10': 2}. Best is trial 35 with value: 1.9467677400694534.\u001b[0m\n",
            "\u001b[32m[I 2023-02-08 04:12:21,455]\u001b[0m Trial 86 finished with value: 1.9482220033238662 and parameters: {'pca_1': 2, 'pca_2': 0, 'pca_3': 5, 'pca_4': 3, 'pca_5': 1, 'pca_6': 0, 'pca_7': 1, 'pca_8': 0, 'pca_9': 0, 'pca_10': 1}. Best is trial 35 with value: 1.9467677400694534.\u001b[0m\n",
            "\u001b[32m[I 2023-02-08 04:14:27,982]\u001b[0m Trial 87 finished with value: 1.947268326854428 and parameters: {'pca_1': 2, 'pca_2': 0, 'pca_3': 5, 'pca_4': 2, 'pca_5': 2, 'pca_6': 3, 'pca_7': 1, 'pca_8': 0, 'pca_9': 0, 'pca_10': 2}. Best is trial 35 with value: 1.9467677400694534.\u001b[0m\n",
            "\u001b[32m[I 2023-02-08 04:16:38,891]\u001b[0m Trial 88 finished with value: 1.9474486341120485 and parameters: {'pca_1': 2, 'pca_2': 0, 'pca_3': 5, 'pca_4': 2, 'pca_5': 2, 'pca_6': 3, 'pca_7': 1, 'pca_8': 0, 'pca_9': 0, 'pca_10': 3}. Best is trial 35 with value: 1.9467677400694534.\u001b[0m\n",
            "\u001b[32m[I 2023-02-08 04:18:51,944]\u001b[0m Trial 89 finished with value: 1.9473461057059938 and parameters: {'pca_1': 2, 'pca_2': 0, 'pca_3': 5, 'pca_4': 2, 'pca_5': 2, 'pca_6': 3, 'pca_7': 1, 'pca_8': 2, 'pca_9': 0, 'pca_10': 4}. Best is trial 35 with value: 1.9467677400694534.\u001b[0m\n",
            "\u001b[32m[I 2023-02-08 04:21:01,749]\u001b[0m Trial 90 finished with value: 1.9481890828316637 and parameters: {'pca_1': 2, 'pca_2': 0, 'pca_3': 5, 'pca_4': 2, 'pca_5': 2, 'pca_6': 3, 'pca_7': 1, 'pca_8': 1, 'pca_9': 0, 'pca_10': 4}. Best is trial 35 with value: 1.9467677400694534.\u001b[0m\n",
            "\u001b[32m[I 2023-02-08 04:23:12,610]\u001b[0m Trial 91 finished with value: 1.9473461057059938 and parameters: {'pca_1': 2, 'pca_2': 0, 'pca_3': 5, 'pca_4': 2, 'pca_5': 2, 'pca_6': 3, 'pca_7': 1, 'pca_8': 2, 'pca_9': 0, 'pca_10': 4}. Best is trial 35 with value: 1.9467677400694534.\u001b[0m\n",
            "\u001b[32m[I 2023-02-08 04:25:25,842]\u001b[0m Trial 92 finished with value: 1.9473461057059938 and parameters: {'pca_1': 2, 'pca_2': 0, 'pca_3': 5, 'pca_4': 2, 'pca_5': 2, 'pca_6': 3, 'pca_7': 1, 'pca_8': 2, 'pca_9': 0, 'pca_10': 4}. Best is trial 35 with value: 1.9467677400694534.\u001b[0m\n",
            "\u001b[32m[I 2023-02-08 04:27:36,397]\u001b[0m Trial 93 finished with value: 1.9473460947226284 and parameters: {'pca_1': 2, 'pca_2': 0, 'pca_3': 5, 'pca_4': 2, 'pca_5': 2, 'pca_6': 3, 'pca_7': 1, 'pca_8': 2, 'pca_9': 0, 'pca_10': 4}. Best is trial 35 with value: 1.9467677400694534.\u001b[0m\n",
            "\u001b[32m[I 2023-02-08 04:29:49,598]\u001b[0m Trial 94 finished with value: 1.9473460965882798 and parameters: {'pca_1': 2, 'pca_2': 0, 'pca_3': 5, 'pca_4': 2, 'pca_5': 2, 'pca_6': 3, 'pca_7': 1, 'pca_8': 2, 'pca_9': 0, 'pca_10': 4}. Best is trial 35 with value: 1.9467677400694534.\u001b[0m\n",
            "\u001b[32m[I 2023-02-08 04:32:01,832]\u001b[0m Trial 95 finished with value: 1.9473460947226284 and parameters: {'pca_1': 2, 'pca_2': 0, 'pca_3': 5, 'pca_4': 2, 'pca_5': 2, 'pca_6': 3, 'pca_7': 1, 'pca_8': 2, 'pca_9': 0, 'pca_10': 4}. Best is trial 35 with value: 1.9467677400694534.\u001b[0m\n",
            "\u001b[32m[I 2023-02-08 04:34:10,201]\u001b[0m Trial 96 finished with value: 1.9581194633408228 and parameters: {'pca_1': 2, 'pca_2': 2, 'pca_3': 5, 'pca_4': 2, 'pca_5': 2, 'pca_6': 3, 'pca_7': 1, 'pca_8': 2, 'pca_9': 0, 'pca_10': 4}. Best is trial 35 with value: 1.9467677400694534.\u001b[0m\n",
            "\u001b[32m[I 2023-02-08 04:36:22,130]\u001b[0m Trial 97 finished with value: 1.9473461057059938 and parameters: {'pca_1': 2, 'pca_2': 0, 'pca_3': 5, 'pca_4': 2, 'pca_5': 2, 'pca_6': 3, 'pca_7': 1, 'pca_8': 2, 'pca_9': 0, 'pca_10': 4}. Best is trial 35 with value: 1.9467677400694534.\u001b[0m\n",
            "\u001b[32m[I 2023-02-08 04:38:27,658]\u001b[0m Trial 98 finished with value: 1.950139039830789 and parameters: {'pca_1': 2, 'pca_2': 0, 'pca_3': 5, 'pca_4': 2, 'pca_5': 2, 'pca_6': 1, 'pca_7': 1, 'pca_8': 2, 'pca_9': 0, 'pca_10': 4}. Best is trial 35 with value: 1.9467677400694534.\u001b[0m\n",
            "\u001b[32m[I 2023-02-08 04:40:45,270]\u001b[0m Trial 99 finished with value: 1.9492635070990176 and parameters: {'pca_1': 2, 'pca_2': 0, 'pca_3': 5, 'pca_4': 2, 'pca_5': 2, 'pca_6': 3, 'pca_7': 1, 'pca_8': 2, 'pca_9': 0, 'pca_10': 5}. Best is trial 35 with value: 1.9467677400694534.\u001b[0m\n"
          ]
        },
        {
          "output_type": "stream",
          "name": "stdout",
          "text": [
            "Best trial: score 1.9467677400694534,\n",
            "params {'pca_1': 2, 'pca_2': 0, 'pca_3': 3, 'pca_4': 3, 'pca_5': 2, 'pca_6': 3, 'pca_7': 1, 'pca_8': 0, 'pca_9': 0, 'pca_10': 2}\n"
          ]
        }
      ],
      "source": [
        "# Fold 10으로 학습\n",
        "start_study(X_train, Y_train, lgb_model, 10, 100) "
      ]
    },
    {
      "cell_type": "code",
      "execution_count": null,
      "metadata": {
        "id": "G9iSWhFrtUvr"
      },
      "outputs": [],
      "source": [
        "study = joblib.load(\"/content/gdrive/MyDrive/PCA_study.pkl\")"
      ]
    },
    {
      "cell_type": "code",
      "execution_count": null,
      "metadata": {
        "id": "Lu8sQ783tY36",
        "colab": {
          "base_uri": "https://localhost:8080/"
        },
        "outputId": "aefc1dd7-f25d-4b45-d9f7-1d91e459030e"
      },
      "outputs": [
        {
          "output_type": "execute_result",
          "data": {
            "text/plain": [
              "{'pca_1': 2,\n",
              " 'pca_2': 0,\n",
              " 'pca_3': 3,\n",
              " 'pca_4': 3,\n",
              " 'pca_5': 2,\n",
              " 'pca_6': 3,\n",
              " 'pca_7': 1,\n",
              " 'pca_8': 0,\n",
              " 'pca_9': 0,\n",
              " 'pca_10': 2}"
            ]
          },
          "metadata": {},
          "execution_count": 25
        }
      ],
      "source": [
        "study.best_params"
      ]
    },
    {
      "cell_type": "markdown",
      "source": [
        "  - PCA가 최적화되었을 때의 NRMSE 값은 약 1.947이고, 파라미터는 {'pca_1': 0,\n",
        " 'pca_2': 0,\n",
        " 'pca_3': 5,\n",
        " 'pca_4': 3,\n",
        " 'pca_5': 2,\n",
        " 'pca_6': 3,\n",
        " 'pca_7': 1,\n",
        " 'pca_8': 1,\n",
        " 'pca_9': 0,\n",
        " 'pca_10': 0}이다."
      ],
      "metadata": {
        "id": "22d53PZ1AzXT"
      }
    },
    {
      "cell_type": "markdown",
      "source": [
        "---"
      ],
      "metadata": {
        "id": "GgxJXGOzBB58"
      }
    },
    {
      "cell_type": "markdown",
      "source": [
        "## **7. 하이퍼파라미터 튜닝 준비**\n",
        "  - 앞서 결정된 최종 데이터셋(최적의 PCA 조합으로 결정된 데이터셋)을 학습 데이터셋으로 활용\n",
        "  - Optuna를 활용하여 4개의 머신러닝 모델(HistGradientBoostingRegressor, XGBRegressor, LGBMRegressor, CatBoostRegressor)을 하이퍼파라미터 튜닝 "
      ],
      "metadata": {
        "id": "ltD_PuHSBCho"
      }
    },
    {
      "cell_type": "markdown",
      "source": [
        "### **7.1 라이브러리 임포트**"
      ],
      "metadata": {
        "id": "ul4kOKpNI0VU"
      }
    },
    {
      "cell_type": "code",
      "source": [
        "import pandas as pd\n",
        "import random\n",
        "import os\n",
        "import numpy as np\n",
        "\n",
        "from sklearn.metrics import mean_squared_error\n",
        "from sklearn.linear_model import LinearRegression\n",
        "from sklearn.model_selection import train_test_split\n",
        "from sklearn.ensemble import RandomForestRegressor\n",
        "from sklearn.ensemble import HistGradientBoostingRegressor\n",
        "\n",
        "import optuna \n",
        "from optuna import Trial, visualization\n",
        "from optuna.samplers import TPESampler\n",
        "\n",
        "import lightgbm as lgb\n",
        "import xgboost as xgb\n",
        "from catboost import CatBoostRegressor\n",
        "from lightgbm import LGBMRegressor\n",
        "from xgboost import XGBRegressor\n",
        "\n",
        "import matplotlib.pyplot as plt\n",
        "\n",
        "from sklearn.decomposition import PCA\n",
        "\n",
        "import joblib\n",
        "\n",
        "import warnings\n",
        "\n",
        "warnings.filterwarnings(\"ignore\")"
      ],
      "metadata": {
        "id": "yMiJq-6pI6-W"
      },
      "execution_count": null,
      "outputs": []
    },
    {
      "cell_type": "markdown",
      "source": [
        "### **7.2 평가산식 정의**"
      ],
      "metadata": {
        "id": "0WWdFbqjfhK9"
      }
    },
    {
      "cell_type": "code",
      "source": [
        "def nrmse(y_val, y_pred):\n",
        "  rmse = mean_squared_error(y_val, y_pred, squared=False)\n",
        "  nrmse = rmse/np.mean(np.abs(y_val))\n",
        "  return nrmse\n",
        "\n",
        "def lg_nrmse(y_val, y_pred):\n",
        "    # 각 Y Feature별 NRMSE 총합\n",
        "    # Y_01 ~ Y_08 까지 20% 가중치 부여\n",
        "\n",
        "    y_val = pd.DataFrame(y_val)\n",
        "    y_pred = pd.DataFrame(y_pred)\n",
        "\n",
        "    all_nrmse = []\n",
        "    for idx in range(0,14):\n",
        "        all_nrmse.append(nrmse(y_val.iloc[:,idx], y_pred.iloc[:,idx]))\n",
        "        \n",
        "    score = 1.2 * np.sum(all_nrmse[:7]) + 1.0 * np.sum(all_nrmse[7:14])\n",
        "    return score"
      ],
      "metadata": {
        "id": "bB0G24t_fjRR"
      },
      "execution_count": null,
      "outputs": []
    },
    {
      "cell_type": "markdown",
      "source": [
        "### **7.3 하이퍼파라미터 튜닝 함수**"
      ],
      "metadata": {
        "id": "_7lLuxg1BKPM"
      }
    },
    {
      "cell_type": "code",
      "source": [
        "# Optuna로 탐색할 목적 함수 생성\n",
        "def model_objective(trial: Trial, X, y, model, param):\n",
        "\n",
        "  # 데이터 분할\n",
        "  X_tr, X_val, y_tr, y_val = train_test_split(X, y, test_size = 0.2, random_state = SEED)\n",
        "\n",
        "  # 파라미터 적용\n",
        "  tune = model(**param(trial))\n",
        "\n",
        "  # 모델 학습\n",
        "  tune.fit(X_tr, y_tr)\n",
        "\n",
        "  # 결과 예측\n",
        "  y_pr = tune.predict(X_val)\n",
        "\n",
        "  # nrmse로 Loss 계산\n",
        "  nrmse_val = nrmse(y_val, y_pr)\n",
        "\n",
        "  return nrmse_val"
      ],
      "metadata": {
        "id": "331OllKTBBdU"
      },
      "execution_count": null,
      "outputs": []
    },
    {
      "cell_type": "code",
      "source": [
        "# Y 하나에 대하여 학습\n",
        "def start_study(idx, X, y, model, param, n_iter):\n",
        "  name = model().__class__.__name__\n",
        "\n",
        "  try:\n",
        "    # 학습된 데이터가 있을 시 이어서 학습\n",
        "    study = joblib.load('/content/gdrive/MyDrive/[22-2] ESAA 스터디' + \"tune_param/\" + name + \"_tune/tune_\" + str(idx) + \".pkl\")\n",
        "    print('Study loaded')\n",
        "  except:\n",
        "    # 학습된 데이터가 없을 시 새로운 학습 데이터 생성\n",
        "    # 학습방향 : 최소화\n",
        "    study = optuna.create_study(direction='minimize')\n",
        "  \n",
        "  while (n_iter > len(study.trials)):\n",
        "    # 학습 시작\n",
        "    study.optimize(lambda trial : model_objective(trial, X, y, model, param), n_trials=1)\n",
        "    \n",
        "    # 저장할 폴더 생성\n",
        "    try:\n",
        "      os.mkdir('/content/gdrive/MyDrive/[22-2] ESAA 스터디' + \"tune_param\")\n",
        "    except:\n",
        "      pass\n",
        "    try:\n",
        "      os.mkdir('/content/gdrive/MyDrive/[22-2] ESAA 스터디' + \"tune_param/\" + name  + \"_tune\")\n",
        "    except:\n",
        "      pass\n",
        "\n",
        "    # 결과 저장\n",
        "    joblib.dump(study, '/content/gdrive/MyDrive/[22-2] ESAA 스터디' + \"tune_param/\" + name + \"_tune/tune_\" + str(idx) + \".pkl\")\n",
        "\n",
        "  return study"
      ],
      "metadata": {
        "id": "T2lknWa5JVHt"
      },
      "execution_count": null,
      "outputs": []
    },
    {
      "cell_type": "code",
      "source": [
        "# 하이퍼파라미터 튜닝을 시작하는 함수\n",
        "# X, Y : 학습 데이터\n",
        "# model : 사용할 ML 모델\n",
        "# param : 튜닝할 파라미터\n",
        "# n_iter : 시도 횟수\n",
        "\n",
        "def start_tuning(X, Y, model, param, n_iter):\n",
        "  study_list = [None] * 14\n",
        "  name = model().__class__.__name__\n",
        "  score = 0\n",
        "\n",
        "  # Y 1~14에 대해 튜닝\n",
        "  for idx in range(0, 14):\n",
        "    study_list[idx] = start_study(idx, X, Y.iloc[:,idx], model, param, n_iter)\n",
        "    \n",
        "    # 결과 출력\n",
        "    print(name + ' ' + str(idx) + ' Best trial: score {},\\nparams {}'.format(study_list[idx].best_trial.value, study_list[idx].best_trial.params))\n",
        "    \n",
        "    # 최선의 점수 계산\n",
        "    if (idx <= 7):\n",
        "      score += 1.2 * study_list[idx].best_trial.value\n",
        "    else:\n",
        "      score += study_list[idx].best_trial.value\n",
        "\n",
        "  print('Score : ', score)"
      ],
      "metadata": {
        "id": "VSsfiR_XeRTx"
      },
      "execution_count": null,
      "outputs": []
    },
    {
      "cell_type": "markdown",
      "source": [
        "### **7.4 하이퍼파라미터 튜닝 파라미터 정의**"
      ],
      "metadata": {
        "id": "_ZsOIf9cBTKi"
      }
    },
    {
      "cell_type": "code",
      "source": [
        "# HistGradientBoostingRegressor 정의\n",
        "def HistGradientBoostingRegressor_param(trial):\n",
        "  return {\n",
        "    'learning_rate' : trial.suggest_discrete_uniform('learning_rate',0.005, 0.05, 0.001),\n",
        "    'max_iter' : trial.suggest_int('max_iter',100, 1000),\n",
        "    'max_leaf_nodes' : trial.suggest_int('max_leaf_nodes',7, 256),\n",
        "    'max_depth' : trial.suggest_int('max_depth',4, 40),\n",
        "    'min_samples_leaf' : trial.suggest_int('min_samples_leaf',4, 400),\n",
        "    'l2_regularization' : trial.suggest_discrete_uniform('l2_regularization', 0, 1, 0.05),\n",
        "    'random_state' : trial.suggest_categorical('random_state', [SEED]),\n",
        "    }\n",
        "     "
      ],
      "metadata": {
        "id": "2flDaHMbBWv9"
      },
      "execution_count": null,
      "outputs": []
    },
    {
      "cell_type": "code",
      "source": [
        "# XGBRegressor 정의\n",
        "def XGBRegressor_param(trial):\n",
        "  return {\n",
        "    \"objective\": trial.suggest_categorical(\"objective\", ['reg:squarederror']),\n",
        "    'random_state': SEED,\n",
        "    \"n_estimators\": trial.suggest_int(\"n_estimators\", 100, 1000),\n",
        "    \"learning_rate\": trial.suggest_discrete_uniform('learning_rate',0.005, 0.05, 0.001),\n",
        "    'nthread' : trial.suggest_categorical(\"nthread\", [-1]),\n",
        "    'max_depth':trial.suggest_int('max_depth', 8, 16),\n",
        "    'min_child_weight':trial.suggest_int('min_child_weight', 2, 300),\n",
        "    'gamma':trial.suggest_discrete_uniform('gamma', 0, 1, 0.05),\n",
        "    'colsample_bytree':trial.suggest_discrete_uniform('colsample_bytree',0.5, 1, 0.1),\n",
        "    'lambda': trial.suggest_discrete_uniform('lambda', 0, 1, 0.05),\n",
        "    'alpha': trial.suggest_discrete_uniform('alpha', 0, 1, 0.05),\n",
        "    'subsample': trial.suggest_discrete_uniform('subsample', 0.5, 1, 0.1),\n",
        "    'tree_method': trial.suggest_categorical(\"tree_method\", ['gpu_hist']),\n",
        "    'predictor': trial.suggest_categorical(\"predictor\", ['gpu_predictor']),\n",
        "    }"
      ],
      "metadata": {
        "id": "c9jA5Vfwc4Vm"
      },
      "execution_count": null,
      "outputs": []
    },
    {
      "cell_type": "code",
      "source": [
        "# LGBMRegressor 정의\n",
        "def LGBMRegressor_param(trial):\n",
        "  return {\n",
        "        \"objective\": trial.suggest_categorical(\"objective\", ['regression']),\n",
        "        \"device\": trial.suggest_categorical(\"device\", ['gpu']),\n",
        "        \"metric\": trial.suggest_categorical(\"metric\", ['rmse']),\n",
        "        \"verbose\": trial.suggest_categorical(\"verbose\", [-1]),\n",
        "        \"random_state\": trial.suggest_categorical(\"random_state\", [SEED]),\n",
        "        \"n_estimators\": trial.suggest_int(\"n_estimators\", 100, 1000),\n",
        "        \"learning_rate\": trial.suggest_discrete_uniform('learning_rate',0.005, 0.05, 0.001),\n",
        "        'max_depth': trial.suggest_int('max_depth', 5, 20),\n",
        "        'min_child_samples': trial.suggest_int('min_child_samples', 5, 100),\n",
        "        'subsample': trial.suggest_discrete_uniform('subsample', 0.5, 1, 0.1),\n",
        "        'colsample_bytree': trial.suggest_discrete_uniform('colsample_bytree', 0.5, 1, 0.1),\n",
        "        'num_leaves' : trial.suggest_int('num_leaves', 2, 1000),\n",
        "    }"
      ],
      "metadata": {
        "id": "EH62vsaXc_EE"
      },
      "execution_count": null,
      "outputs": []
    },
    {
      "cell_type": "code",
      "source": [
        "# CatBoostRegressor 정의\n",
        "def CatBoostRegressor_param(trial): \n",
        "  return {\n",
        "    \"iterations\":  trial.suggest_int(\"iterations\", 100, 1000),\n",
        "    \"learning_rate\": trial.suggest_discrete_uniform('learning_rate',0.005, 0.05, 0.001),\n",
        "    'depth': trial.suggest_int('depth', 4, 10),\n",
        "    'l2_leaf_reg' : trial.suggest_int('l2_leaf_reg', 2, 10),\n",
        "    'random_strength' : trial.suggest_float('random_strength', 0, 10),\n",
        "    'border_count' : trial.suggest_categorical(\"border_count\", [254]),\n",
        "    'eval_metric' : trial.suggest_categorical(\"eval_metric\", ['RMSE']),\n",
        "    'random_state' : trial.suggest_categorical(\"random_state\", [SEED]),\n",
        "    'logging_level' : trial.suggest_categorical(\"logging_level\", ['Silent'])\n",
        "  }"
      ],
      "metadata": {
        "id": "GRnKKKOPdCzW"
      },
      "execution_count": null,
      "outputs": []
    },
    {
      "cell_type": "markdown",
      "source": [
        "---"
      ],
      "metadata": {
        "id": "tpihGT6pBXfT"
      }
    },
    {
      "cell_type": "markdown",
      "source": [
        "## **8. 하이퍼파라미터 튜닝 시작**"
      ],
      "metadata": {
        "id": "b4nqAuTABYBb"
      }
    },
    {
      "cell_type": "code",
      "source": [
        "# HistGradientBoostingRegressor 튜닝 진행\n",
        "start_tuning(X_train, Y_train, HistGradientBoostingRegressor, HistGradientBoostingRegressor_param, 10)"
      ],
      "metadata": {
        "colab": {
          "base_uri": "https://localhost:8080/"
        },
        "id": "0Q3oUDogBXw2",
        "outputId": "f1913af9-3cee-4dcd-cdff-44cca370bf41"
      },
      "execution_count": null,
      "outputs": [
        {
          "output_type": "stream",
          "name": "stderr",
          "text": [
            "\u001b[32m[I 2023-02-08 04:40:45,515]\u001b[0m A new study created in memory with name: no-name-7f6b4df2-797a-4e89-a33d-1cd783d4d1d8\u001b[0m\n",
            "\u001b[32m[I 2023-02-08 04:40:47,314]\u001b[0m Trial 0 finished with value: 0.2544138711764885 and parameters: {'learning_rate': 0.029, 'max_iter': 410, 'max_leaf_nodes': 200, 'max_depth': 27, 'min_samples_leaf': 292, 'l2_regularization': 0.55, 'random_state': 42}. Best is trial 0 with value: 0.2544138711764885.\u001b[0m\n",
            "\u001b[32m[I 2023-02-08 04:40:48,745]\u001b[0m Trial 1 finished with value: 0.25423433642068316 and parameters: {'learning_rate': 0.049999999999999996, 'max_iter': 331, 'max_leaf_nodes': 73, 'max_depth': 33, 'min_samples_leaf': 179, 'l2_regularization': 0.75, 'random_state': 42}. Best is trial 1 with value: 0.25423433642068316.\u001b[0m\n",
            "\u001b[32m[I 2023-02-08 04:40:56,455]\u001b[0m Trial 2 finished with value: 0.25443529672146925 and parameters: {'learning_rate': 0.012, 'max_iter': 411, 'max_leaf_nodes': 159, 'max_depth': 29, 'min_samples_leaf': 61, 'l2_regularization': 0.05, 'random_state': 42}. Best is trial 1 with value: 0.25423433642068316.\u001b[0m\n",
            "\u001b[32m[I 2023-02-08 04:41:00,909]\u001b[0m Trial 3 finished with value: 0.25452833393932656 and parameters: {'learning_rate': 0.026000000000000002, 'max_iter': 799, 'max_leaf_nodes': 241, 'max_depth': 37, 'min_samples_leaf': 8, 'l2_regularization': 0.4, 'random_state': 42}. Best is trial 1 with value: 0.25423433642068316.\u001b[0m\n",
            "\u001b[32m[I 2023-02-08 04:41:02,332]\u001b[0m Trial 4 finished with value: 0.2546549422050965 and parameters: {'learning_rate': 0.025, 'max_iter': 705, 'max_leaf_nodes': 78, 'max_depth': 6, 'min_samples_leaf': 91, 'l2_regularization': 0.55, 'random_state': 42}. Best is trial 1 with value: 0.25423433642068316.\u001b[0m\n",
            "\u001b[32m[I 2023-02-08 04:41:05,419]\u001b[0m Trial 5 finished with value: 0.25451644999527884 and parameters: {'learning_rate': 0.046, 'max_iter': 489, 'max_leaf_nodes': 51, 'max_depth': 28, 'min_samples_leaf': 381, 'l2_regularization': 0.7000000000000001, 'random_state': 42}. Best is trial 1 with value: 0.25423433642068316.\u001b[0m\n",
            "\u001b[32m[I 2023-02-08 04:41:06,683]\u001b[0m Trial 6 finished with value: 0.25406676957905333 and parameters: {'learning_rate': 0.039, 'max_iter': 665, 'max_leaf_nodes': 20, 'max_depth': 36, 'min_samples_leaf': 159, 'l2_regularization': 0.25, 'random_state': 42}. Best is trial 6 with value: 0.25406676957905333.\u001b[0m\n",
            "\u001b[32m[I 2023-02-08 04:41:08,074]\u001b[0m Trial 7 finished with value: 0.25418924605743737 and parameters: {'learning_rate': 0.036, 'max_iter': 538, 'max_leaf_nodes': 69, 'max_depth': 15, 'min_samples_leaf': 384, 'l2_regularization': 0.05, 'random_state': 42}. Best is trial 6 with value: 0.25406676957905333.\u001b[0m\n",
            "\u001b[32m[I 2023-02-08 04:41:09,329]\u001b[0m Trial 8 finished with value: 0.2543724572373868 and parameters: {'learning_rate': 0.037, 'max_iter': 981, 'max_leaf_nodes': 227, 'max_depth': 4, 'min_samples_leaf': 224, 'l2_regularization': 0.25, 'random_state': 42}. Best is trial 6 with value: 0.25406676957905333.\u001b[0m\n",
            "\u001b[32m[I 2023-02-08 04:41:12,454]\u001b[0m Trial 9 finished with value: 0.2543335386785643 and parameters: {'learning_rate': 0.019, 'max_iter': 310, 'max_leaf_nodes': 120, 'max_depth': 29, 'min_samples_leaf': 61, 'l2_regularization': 0.5, 'random_state': 42}. Best is trial 6 with value: 0.25406676957905333.\u001b[0m\n",
            "\u001b[32m[I 2023-02-08 04:41:12,473]\u001b[0m A new study created in memory with name: no-name-935b1621-4c7c-4397-92e5-3862024f1fd6\u001b[0m\n"
          ]
        },
        {
          "output_type": "stream",
          "name": "stdout",
          "text": [
            "HistGradientBoostingRegressor 0 Best trial: score 0.25406676957905333,\n",
            "params {'learning_rate': 0.039, 'max_iter': 665, 'max_leaf_nodes': 20, 'max_depth': 36, 'min_samples_leaf': 159, 'l2_regularization': 0.25, 'random_state': 42}\n"
          ]
        },
        {
          "output_type": "stream",
          "name": "stderr",
          "text": [
            "\u001b[32m[I 2023-02-08 04:41:17,363]\u001b[0m Trial 0 finished with value: 0.3562735459497251 and parameters: {'learning_rate': 0.015, 'max_iter': 612, 'max_leaf_nodes': 118, 'max_depth': 20, 'min_samples_leaf': 290, 'l2_regularization': 0.45, 'random_state': 42}. Best is trial 0 with value: 0.3562735459497251.\u001b[0m\n",
            "\u001b[32m[I 2023-02-08 04:41:19,174]\u001b[0m Trial 1 finished with value: 0.35679143536194685 and parameters: {'learning_rate': 0.022000000000000002, 'max_iter': 519, 'max_leaf_nodes': 104, 'max_depth': 9, 'min_samples_leaf': 375, 'l2_regularization': 0.30000000000000004, 'random_state': 42}. Best is trial 0 with value: 0.3562735459497251.\u001b[0m\n",
            "\u001b[32m[I 2023-02-08 04:41:20,811]\u001b[0m Trial 2 finished with value: 0.35600141744358077 and parameters: {'learning_rate': 0.038, 'max_iter': 845, 'max_leaf_nodes': 153, 'max_depth': 25, 'min_samples_leaf': 329, 'l2_regularization': 1.0, 'random_state': 42}. Best is trial 2 with value: 0.35600141744358077.\u001b[0m\n",
            "\u001b[32m[I 2023-02-08 04:41:22,932]\u001b[0m Trial 3 finished with value: 0.35640625302998635 and parameters: {'learning_rate': 0.017, 'max_iter': 116, 'max_leaf_nodes': 99, 'max_depth': 7, 'min_samples_leaf': 143, 'l2_regularization': 0.2, 'random_state': 42}. Best is trial 2 with value: 0.35600141744358077.\u001b[0m\n",
            "\u001b[32m[I 2023-02-08 04:41:24,304]\u001b[0m Trial 4 finished with value: 0.3562034469498654 and parameters: {'learning_rate': 0.045, 'max_iter': 571, 'max_leaf_nodes': 251, 'max_depth': 33, 'min_samples_leaf': 245, 'l2_regularization': 0.4, 'random_state': 42}. Best is trial 2 with value: 0.35600141744358077.\u001b[0m\n",
            "\u001b[32m[I 2023-02-08 04:41:25,681]\u001b[0m Trial 5 finished with value: 0.3564825391541936 and parameters: {'learning_rate': 0.044, 'max_iter': 435, 'max_leaf_nodes': 167, 'max_depth': 30, 'min_samples_leaf': 197, 'l2_regularization': 0.30000000000000004, 'random_state': 42}. Best is trial 2 with value: 0.35600141744358077.\u001b[0m\n",
            "\u001b[32m[I 2023-02-08 04:41:26,676]\u001b[0m Trial 6 finished with value: 0.3563737061270157 and parameters: {'learning_rate': 0.045, 'max_iter': 975, 'max_leaf_nodes': 39, 'max_depth': 6, 'min_samples_leaf': 322, 'l2_regularization': 0.9, 'random_state': 42}. Best is trial 2 with value: 0.35600141744358077.\u001b[0m\n",
            "\u001b[32m[I 2023-02-08 04:41:32,447]\u001b[0m Trial 7 finished with value: 0.3558340239902548 and parameters: {'learning_rate': 0.026000000000000002, 'max_iter': 119, 'max_leaf_nodes': 242, 'max_depth': 31, 'min_samples_leaf': 136, 'l2_regularization': 0.0, 'random_state': 42}. Best is trial 7 with value: 0.3558340239902548.\u001b[0m\n",
            "\u001b[32m[I 2023-02-08 04:41:46,332]\u001b[0m Trial 8 finished with value: 0.35731630308039763 and parameters: {'learning_rate': 0.005, 'max_iter': 796, 'max_leaf_nodes': 219, 'max_depth': 12, 'min_samples_leaf': 66, 'l2_regularization': 0.7000000000000001, 'random_state': 42}. Best is trial 7 with value: 0.3558340239902548.\u001b[0m\n",
            "\u001b[32m[I 2023-02-08 04:41:50,605]\u001b[0m Trial 9 finished with value: 0.35664795007428124 and parameters: {'learning_rate': 0.008, 'max_iter': 361, 'max_leaf_nodes': 125, 'max_depth': 39, 'min_samples_leaf': 370, 'l2_regularization': 0.05, 'random_state': 42}. Best is trial 7 with value: 0.3558340239902548.\u001b[0m\n",
            "\u001b[32m[I 2023-02-08 04:41:50,625]\u001b[0m A new study created in memory with name: no-name-02e7ed8f-1f82-46ca-b1d6-941eded61910\u001b[0m\n"
          ]
        },
        {
          "output_type": "stream",
          "name": "stdout",
          "text": [
            "HistGradientBoostingRegressor 1 Best trial: score 0.3558340239902548,\n",
            "params {'learning_rate': 0.026000000000000002, 'max_iter': 119, 'max_leaf_nodes': 242, 'max_depth': 31, 'min_samples_leaf': 136, 'l2_regularization': 0.0, 'random_state': 42}\n"
          ]
        },
        {
          "output_type": "stream",
          "name": "stderr",
          "text": [
            "\u001b[32m[I 2023-02-08 04:41:54,700]\u001b[0m Trial 0 finished with value: 0.34957952556274574 and parameters: {'learning_rate': 0.022000000000000002, 'max_iter': 284, 'max_leaf_nodes': 139, 'max_depth': 39, 'min_samples_leaf': 323, 'l2_regularization': 0.55, 'random_state': 42}. Best is trial 0 with value: 0.34957952556274574.\u001b[0m\n",
            "\u001b[32m[I 2023-02-08 04:41:58,036]\u001b[0m Trial 1 finished with value: 0.3493583171793473 and parameters: {'learning_rate': 0.027, 'max_iter': 960, 'max_leaf_nodes': 147, 'max_depth': 34, 'min_samples_leaf': 104, 'l2_regularization': 0.0, 'random_state': 42}. Best is trial 1 with value: 0.3493583171793473.\u001b[0m\n",
            "\u001b[32m[I 2023-02-08 04:41:59,302]\u001b[0m Trial 2 finished with value: 0.35017803412424164 and parameters: {'learning_rate': 0.025, 'max_iter': 500, 'max_leaf_nodes': 17, 'max_depth': 7, 'min_samples_leaf': 26, 'l2_regularization': 0.0, 'random_state': 42}. Best is trial 1 with value: 0.3493583171793473.\u001b[0m\n",
            "\u001b[32m[I 2023-02-08 04:42:01,465]\u001b[0m Trial 3 finished with value: 0.3500792262057097 and parameters: {'learning_rate': 0.016, 'max_iter': 894, 'max_leaf_nodes': 70, 'max_depth': 36, 'min_samples_leaf': 245, 'l2_regularization': 0.05, 'random_state': 42}. Best is trial 1 with value: 0.3493583171793473.\u001b[0m\n",
            "\u001b[32m[I 2023-02-08 04:42:04,721]\u001b[0m Trial 4 finished with value: 0.3496426153068772 and parameters: {'learning_rate': 0.012, 'max_iter': 816, 'max_leaf_nodes': 40, 'max_depth': 19, 'min_samples_leaf': 47, 'l2_regularization': 0.30000000000000004, 'random_state': 42}. Best is trial 1 with value: 0.3493583171793473.\u001b[0m\n",
            "\u001b[32m[I 2023-02-08 04:42:09,303]\u001b[0m Trial 5 finished with value: 0.3490600208829524 and parameters: {'learning_rate': 0.033, 'max_iter': 525, 'max_leaf_nodes': 83, 'max_depth': 13, 'min_samples_leaf': 57, 'l2_regularization': 0.15000000000000002, 'random_state': 42}. Best is trial 5 with value: 0.3490600208829524.\u001b[0m\n",
            "\u001b[32m[I 2023-02-08 04:42:11,483]\u001b[0m Trial 6 finished with value: 0.35014195427974654 and parameters: {'learning_rate': 0.014000000000000002, 'max_iter': 365, 'max_leaf_nodes': 46, 'max_depth': 27, 'min_samples_leaf': 216, 'l2_regularization': 0.8500000000000001, 'random_state': 42}. Best is trial 5 with value: 0.3490600208829524.\u001b[0m\n",
            "\u001b[32m[I 2023-02-08 04:42:13,547]\u001b[0m Trial 7 finished with value: 0.35037603817051094 and parameters: {'learning_rate': 0.041999999999999996, 'max_iter': 854, 'max_leaf_nodes': 241, 'max_depth': 40, 'min_samples_leaf': 65, 'l2_regularization': 0.6000000000000001, 'random_state': 42}. Best is trial 5 with value: 0.3490600208829524.\u001b[0m\n",
            "\u001b[32m[I 2023-02-08 04:42:15,491]\u001b[0m Trial 8 finished with value: 0.34977141711303067 and parameters: {'learning_rate': 0.029, 'max_iter': 368, 'max_leaf_nodes': 72, 'max_depth': 32, 'min_samples_leaf': 70, 'l2_regularization': 0.6000000000000001, 'random_state': 42}. Best is trial 5 with value: 0.3490600208829524.\u001b[0m\n",
            "\u001b[32m[I 2023-02-08 04:42:20,515]\u001b[0m Trial 9 finished with value: 0.35039426105611904 and parameters: {'learning_rate': 0.011, 'max_iter': 803, 'max_leaf_nodes': 136, 'max_depth': 12, 'min_samples_leaf': 266, 'l2_regularization': 0.7000000000000001, 'random_state': 42}. Best is trial 5 with value: 0.3490600208829524.\u001b[0m\n",
            "\u001b[32m[I 2023-02-08 04:42:20,535]\u001b[0m A new study created in memory with name: no-name-c3588b3e-8d5c-4dc9-9529-738af62b756d\u001b[0m\n"
          ]
        },
        {
          "output_type": "stream",
          "name": "stdout",
          "text": [
            "HistGradientBoostingRegressor 2 Best trial: score 0.3490600208829524,\n",
            "params {'learning_rate': 0.033, 'max_iter': 525, 'max_leaf_nodes': 83, 'max_depth': 13, 'min_samples_leaf': 57, 'l2_regularization': 0.15000000000000002, 'random_state': 42}\n"
          ]
        },
        {
          "output_type": "stream",
          "name": "stderr",
          "text": [
            "\u001b[32m[I 2023-02-08 04:42:36,686]\u001b[0m Trial 0 finished with value: 0.18722451293086298 and parameters: {'learning_rate': 0.011, 'max_iter': 552, 'max_leaf_nodes': 242, 'max_depth': 27, 'min_samples_leaf': 187, 'l2_regularization': 0.5, 'random_state': 42}. Best is trial 0 with value: 0.18722451293086298.\u001b[0m\n",
            "\u001b[32m[I 2023-02-08 04:42:39,208]\u001b[0m Trial 1 finished with value: 0.1897461047163795 and parameters: {'learning_rate': 0.013000000000000001, 'max_iter': 285, 'max_leaf_nodes': 27, 'max_depth': 5, 'min_samples_leaf': 295, 'l2_regularization': 0.15000000000000002, 'random_state': 42}. Best is trial 0 with value: 0.18722451293086298.\u001b[0m\n",
            "\u001b[32m[I 2023-02-08 04:42:45,276]\u001b[0m Trial 2 finished with value: 0.1877412001715866 and parameters: {'learning_rate': 0.033, 'max_iter': 778, 'max_leaf_nodes': 163, 'max_depth': 7, 'min_samples_leaf': 215, 'l2_regularization': 0.65, 'random_state': 42}. Best is trial 0 with value: 0.18722451293086298.\u001b[0m\n",
            "\u001b[32m[I 2023-02-08 04:42:47,585]\u001b[0m Trial 3 finished with value: 0.18838088890076812 and parameters: {'learning_rate': 0.037, 'max_iter': 736, 'max_leaf_nodes': 26, 'max_depth': 8, 'min_samples_leaf': 145, 'l2_regularization': 0.35000000000000003, 'random_state': 42}. Best is trial 0 with value: 0.18722451293086298.\u001b[0m\n",
            "\u001b[32m[I 2023-02-08 04:42:50,855]\u001b[0m Trial 4 finished with value: 0.1892323217967314 and parameters: {'learning_rate': 0.012, 'max_iter': 164, 'max_leaf_nodes': 243, 'max_depth': 14, 'min_samples_leaf': 307, 'l2_regularization': 0.75, 'random_state': 42}. Best is trial 0 with value: 0.18722451293086298.\u001b[0m\n",
            "\u001b[32m[I 2023-02-08 04:42:57,407]\u001b[0m Trial 5 finished with value: 0.18763350029219217 and parameters: {'learning_rate': 0.036, 'max_iter': 428, 'max_leaf_nodes': 251, 'max_depth': 27, 'min_samples_leaf': 125, 'l2_regularization': 0.75, 'random_state': 42}. Best is trial 0 with value: 0.18722451293086298.\u001b[0m\n",
            "\u001b[32m[I 2023-02-08 04:43:02,005]\u001b[0m Trial 6 finished with value: 0.18751422398044398 and parameters: {'learning_rate': 0.049999999999999996, 'max_iter': 754, 'max_leaf_nodes': 193, 'max_depth': 28, 'min_samples_leaf': 137, 'l2_regularization': 0.8, 'random_state': 42}. Best is trial 0 with value: 0.18722451293086298.\u001b[0m\n",
            "\u001b[32m[I 2023-02-08 04:43:04,496]\u001b[0m Trial 7 finished with value: 0.18841326507818393 and parameters: {'learning_rate': 0.038, 'max_iter': 643, 'max_leaf_nodes': 167, 'max_depth': 5, 'min_samples_leaf': 111, 'l2_regularization': 0.9, 'random_state': 42}. Best is trial 0 with value: 0.18722451293086298.\u001b[0m\n",
            "\u001b[32m[I 2023-02-08 04:43:06,747]\u001b[0m Trial 8 finished with value: 0.188830324907864 and parameters: {'learning_rate': 0.049999999999999996, 'max_iter': 433, 'max_leaf_nodes': 93, 'max_depth': 4, 'min_samples_leaf': 82, 'l2_regularization': 0.2, 'random_state': 42}. Best is trial 0 with value: 0.18722451293086298.\u001b[0m\n",
            "\u001b[32m[I 2023-02-08 04:43:13,544]\u001b[0m Trial 9 finished with value: 0.1873554600984969 and parameters: {'learning_rate': 0.030000000000000002, 'max_iter': 523, 'max_leaf_nodes': 222, 'max_depth': 30, 'min_samples_leaf': 308, 'l2_regularization': 0.5, 'random_state': 42}. Best is trial 0 with value: 0.18722451293086298.\u001b[0m\n",
            "\u001b[32m[I 2023-02-08 04:43:13,565]\u001b[0m A new study created in memory with name: no-name-1f6d9fcf-a992-4451-b035-15374ccca698\u001b[0m\n"
          ]
        },
        {
          "output_type": "stream",
          "name": "stdout",
          "text": [
            "HistGradientBoostingRegressor 3 Best trial: score 0.18722451293086298,\n",
            "params {'learning_rate': 0.011, 'max_iter': 552, 'max_leaf_nodes': 242, 'max_depth': 27, 'min_samples_leaf': 187, 'l2_regularization': 0.5, 'random_state': 42}\n"
          ]
        },
        {
          "output_type": "stream",
          "name": "stderr",
          "text": [
            "\u001b[32m[I 2023-02-08 04:43:15,249]\u001b[0m Trial 0 finished with value: 0.07988438808667048 and parameters: {'learning_rate': 0.037, 'max_iter': 469, 'max_leaf_nodes': 27, 'max_depth': 4, 'min_samples_leaf': 31, 'l2_regularization': 0.5, 'random_state': 42}. Best is trial 0 with value: 0.07988438808667048.\u001b[0m\n",
            "\u001b[32m[I 2023-02-08 04:43:22,129]\u001b[0m Trial 1 finished with value: 0.07977733138039877 and parameters: {'learning_rate': 0.011, 'max_iter': 208, 'max_leaf_nodes': 196, 'max_depth': 32, 'min_samples_leaf': 234, 'l2_regularization': 0.25, 'random_state': 42}. Best is trial 1 with value: 0.07977733138039877.\u001b[0m\n",
            "\u001b[32m[I 2023-02-08 04:43:25,815]\u001b[0m Trial 2 finished with value: 0.07957294459035512 and parameters: {'learning_rate': 0.034, 'max_iter': 546, 'max_leaf_nodes': 205, 'max_depth': 17, 'min_samples_leaf': 104, 'l2_regularization': 0.05, 'random_state': 42}. Best is trial 2 with value: 0.07957294459035512.\u001b[0m\n",
            "\u001b[32m[I 2023-02-08 04:43:28,468]\u001b[0m Trial 3 finished with value: 0.07941523557865088 and parameters: {'learning_rate': 0.048, 'max_iter': 287, 'max_leaf_nodes': 145, 'max_depth': 32, 'min_samples_leaf': 390, 'l2_regularization': 0.15000000000000002, 'random_state': 42}. Best is trial 3 with value: 0.07941523557865088.\u001b[0m\n",
            "\u001b[32m[I 2023-02-08 04:43:37,066]\u001b[0m Trial 4 finished with value: 0.07949306742379368 and parameters: {'learning_rate': 0.02, 'max_iter': 436, 'max_leaf_nodes': 214, 'max_depth': 12, 'min_samples_leaf': 42, 'l2_regularization': 0.15000000000000002, 'random_state': 42}. Best is trial 3 with value: 0.07941523557865088.\u001b[0m\n",
            "\u001b[32m[I 2023-02-08 04:43:39,516]\u001b[0m Trial 5 finished with value: 0.07947706079231233 and parameters: {'learning_rate': 0.046, 'max_iter': 382, 'max_leaf_nodes': 33, 'max_depth': 15, 'min_samples_leaf': 242, 'l2_regularization': 0.5, 'random_state': 42}. Best is trial 3 with value: 0.07941523557865088.\u001b[0m\n",
            "\u001b[32m[I 2023-02-08 04:43:52,786]\u001b[0m Trial 6 finished with value: 0.07951205827247275 and parameters: {'learning_rate': 0.011, 'max_iter': 778, 'max_leaf_nodes': 217, 'max_depth': 39, 'min_samples_leaf': 306, 'l2_regularization': 0.8, 'random_state': 42}. Best is trial 3 with value: 0.07941523557865088.\u001b[0m\n",
            "\u001b[32m[I 2023-02-08 04:44:14,109]\u001b[0m Trial 7 finished with value: 0.07958351414231414 and parameters: {'learning_rate': 0.006, 'max_iter': 494, 'max_leaf_nodes': 174, 'max_depth': 16, 'min_samples_leaf': 92, 'l2_regularization': 0.15000000000000002, 'random_state': 42}. Best is trial 3 with value: 0.07941523557865088.\u001b[0m\n",
            "\u001b[32m[I 2023-02-08 04:44:17,115]\u001b[0m Trial 8 finished with value: 0.07946587627008612 and parameters: {'learning_rate': 0.045, 'max_iter': 956, 'max_leaf_nodes': 175, 'max_depth': 37, 'min_samples_leaf': 215, 'l2_regularization': 0.9500000000000001, 'random_state': 42}. Best is trial 3 with value: 0.07941523557865088.\u001b[0m\n",
            "\u001b[32m[I 2023-02-08 04:44:24,746]\u001b[0m Trial 9 finished with value: 0.07947095849927914 and parameters: {'learning_rate': 0.016, 'max_iter': 836, 'max_leaf_nodes': 111, 'max_depth': 9, 'min_samples_leaf': 215, 'l2_regularization': 0.30000000000000004, 'random_state': 42}. Best is trial 3 with value: 0.07941523557865088.\u001b[0m\n",
            "\u001b[32m[I 2023-02-08 04:44:24,764]\u001b[0m A new study created in memory with name: no-name-8ddf89e0-8385-4e64-bfb5-ab8709c13781\u001b[0m\n"
          ]
        },
        {
          "output_type": "stream",
          "name": "stdout",
          "text": [
            "HistGradientBoostingRegressor 4 Best trial: score 0.07941523557865088,\n",
            "params {'learning_rate': 0.048, 'max_iter': 287, 'max_leaf_nodes': 145, 'max_depth': 32, 'min_samples_leaf': 390, 'l2_regularization': 0.15000000000000002, 'random_state': 42}\n"
          ]
        },
        {
          "output_type": "stream",
          "name": "stderr",
          "text": [
            "\u001b[32m[I 2023-02-08 04:44:27,391]\u001b[0m Trial 0 finished with value: 0.10064094281544939 and parameters: {'learning_rate': 0.041999999999999996, 'max_iter': 581, 'max_leaf_nodes': 235, 'max_depth': 37, 'min_samples_leaf': 117, 'l2_regularization': 0.9, 'random_state': 42}. Best is trial 0 with value: 0.10064094281544939.\u001b[0m\n",
            "\u001b[32m[I 2023-02-08 04:44:29,633]\u001b[0m Trial 1 finished with value: 0.10120520777574094 and parameters: {'learning_rate': 0.044, 'max_iter': 789, 'max_leaf_nodes': 119, 'max_depth': 17, 'min_samples_leaf': 355, 'l2_regularization': 0.2, 'random_state': 42}. Best is trial 0 with value: 0.10064094281544939.\u001b[0m\n",
            "\u001b[32m[I 2023-02-08 04:44:31,725]\u001b[0m Trial 2 finished with value: 0.10030844898061637 and parameters: {'learning_rate': 0.049999999999999996, 'max_iter': 248, 'max_leaf_nodes': 54, 'max_depth': 31, 'min_samples_leaf': 239, 'l2_regularization': 0.45, 'random_state': 42}. Best is trial 2 with value: 0.10030844898061637.\u001b[0m\n",
            "\u001b[32m[I 2023-02-08 04:44:37,799]\u001b[0m Trial 3 finished with value: 0.10069987042427204 and parameters: {'learning_rate': 0.024, 'max_iter': 986, 'max_leaf_nodes': 165, 'max_depth': 33, 'min_samples_leaf': 224, 'l2_regularization': 0.0, 'random_state': 42}. Best is trial 2 with value: 0.10030844898061637.\u001b[0m\n",
            "\u001b[32m[I 2023-02-08 04:44:39,799]\u001b[0m Trial 4 finished with value: 0.10124892266095836 and parameters: {'learning_rate': 0.041999999999999996, 'max_iter': 498, 'max_leaf_nodes': 193, 'max_depth': 9, 'min_samples_leaf': 334, 'l2_regularization': 0.9, 'random_state': 42}. Best is trial 2 with value: 0.10030844898061637.\u001b[0m\n",
            "\u001b[32m[I 2023-02-08 04:44:43,516]\u001b[0m Trial 5 finished with value: 0.10151408286691985 and parameters: {'learning_rate': 0.047, 'max_iter': 470, 'max_leaf_nodes': 170, 'max_depth': 19, 'min_samples_leaf': 256, 'l2_regularization': 0.2, 'random_state': 42}. Best is trial 2 with value: 0.10030844898061637.\u001b[0m\n",
            "\u001b[32m[I 2023-02-08 04:44:45,836]\u001b[0m Trial 6 finished with value: 0.101200004232464 and parameters: {'learning_rate': 0.047, 'max_iter': 727, 'max_leaf_nodes': 159, 'max_depth': 37, 'min_samples_leaf': 312, 'l2_regularization': 0.15000000000000002, 'random_state': 42}. Best is trial 2 with value: 0.10030844898061637.\u001b[0m\n",
            "\u001b[32m[I 2023-02-08 04:44:47,591]\u001b[0m Trial 7 finished with value: 0.10294700936180512 and parameters: {'learning_rate': 0.04, 'max_iter': 824, 'max_leaf_nodes': 93, 'max_depth': 5, 'min_samples_leaf': 294, 'l2_regularization': 0.1, 'random_state': 42}. Best is trial 2 with value: 0.10030844898061637.\u001b[0m\n",
            "\u001b[32m[I 2023-02-08 04:44:54,021]\u001b[0m Trial 8 finished with value: 0.0964650725129694 and parameters: {'learning_rate': 0.024, 'max_iter': 249, 'max_leaf_nodes': 162, 'max_depth': 18, 'min_samples_leaf': 19, 'l2_regularization': 0.15000000000000002, 'random_state': 42}. Best is trial 8 with value: 0.0964650725129694.\u001b[0m\n",
            "\u001b[32m[I 2023-02-08 04:44:58,012]\u001b[0m Trial 9 finished with value: 0.10178737256171055 and parameters: {'learning_rate': 0.005, 'max_iter': 242, 'max_leaf_nodes': 231, 'max_depth': 36, 'min_samples_leaf': 42, 'l2_regularization': 0.1, 'random_state': 42}. Best is trial 8 with value: 0.0964650725129694.\u001b[0m\n",
            "\u001b[32m[I 2023-02-08 04:44:58,032]\u001b[0m A new study created in memory with name: no-name-8a231804-f5d0-4a2a-8b09-baf7ecff8cb0\u001b[0m\n"
          ]
        },
        {
          "output_type": "stream",
          "name": "stdout",
          "text": [
            "HistGradientBoostingRegressor 5 Best trial: score 0.0964650725129694,\n",
            "params {'learning_rate': 0.024, 'max_iter': 249, 'max_leaf_nodes': 162, 'max_depth': 18, 'min_samples_leaf': 19, 'l2_regularization': 0.15000000000000002, 'random_state': 42}\n"
          ]
        },
        {
          "output_type": "stream",
          "name": "stderr",
          "text": [
            "\u001b[32m[I 2023-02-08 04:45:04,068]\u001b[0m Trial 0 finished with value: 0.1267780129401378 and parameters: {'learning_rate': 0.034999999999999996, 'max_iter': 462, 'max_leaf_nodes': 226, 'max_depth': 30, 'min_samples_leaf': 179, 'l2_regularization': 0.2, 'random_state': 42}. Best is trial 0 with value: 0.1267780129401378.\u001b[0m\n",
            "\u001b[32m[I 2023-02-08 04:45:05,951]\u001b[0m Trial 1 finished with value: 0.12696627261093568 and parameters: {'learning_rate': 0.047, 'max_iter': 404, 'max_leaf_nodes': 251, 'max_depth': 12, 'min_samples_leaf': 270, 'l2_regularization': 0.35000000000000003, 'random_state': 42}. Best is trial 0 with value: 0.1267780129401378.\u001b[0m\n",
            "\u001b[32m[I 2023-02-08 04:45:15,586]\u001b[0m Trial 2 finished with value: 0.1266468690010792 and parameters: {'learning_rate': 0.011, 'max_iter': 860, 'max_leaf_nodes': 42, 'max_depth': 16, 'min_samples_leaf': 173, 'l2_regularization': 0.9, 'random_state': 42}. Best is trial 2 with value: 0.1266468690010792.\u001b[0m\n",
            "\u001b[32m[I 2023-02-08 04:45:17,776]\u001b[0m Trial 3 finished with value: 0.12681568934585974 and parameters: {'learning_rate': 0.048999999999999995, 'max_iter': 706, 'max_leaf_nodes': 18, 'max_depth': 37, 'min_samples_leaf': 269, 'l2_regularization': 1.0, 'random_state': 42}. Best is trial 2 with value: 0.1266468690010792.\u001b[0m\n",
            "\u001b[32m[I 2023-02-08 04:45:19,585]\u001b[0m Trial 4 finished with value: 0.12675773627933581 and parameters: {'learning_rate': 0.045, 'max_iter': 946, 'max_leaf_nodes': 69, 'max_depth': 31, 'min_samples_leaf': 240, 'l2_regularization': 0.1, 'random_state': 42}. Best is trial 2 with value: 0.1266468690010792.\u001b[0m\n",
            "\u001b[32m[I 2023-02-08 04:45:29,704]\u001b[0m Trial 5 finished with value: 0.12669178314028567 and parameters: {'learning_rate': 0.01, 'max_iter': 304, 'max_leaf_nodes': 190, 'max_depth': 39, 'min_samples_leaf': 186, 'l2_regularization': 0.75, 'random_state': 42}. Best is trial 2 with value: 0.1266468690010792.\u001b[0m\n",
            "\u001b[32m[I 2023-02-08 04:45:33,575]\u001b[0m Trial 6 finished with value: 0.12664557147833613 and parameters: {'learning_rate': 0.037, 'max_iter': 440, 'max_leaf_nodes': 87, 'max_depth': 37, 'min_samples_leaf': 75, 'l2_regularization': 0.0, 'random_state': 42}. Best is trial 6 with value: 0.12664557147833613.\u001b[0m\n",
            "\u001b[32m[I 2023-02-08 04:45:39,475]\u001b[0m Trial 7 finished with value: 0.1268088719186556 and parameters: {'learning_rate': 0.034, 'max_iter': 960, 'max_leaf_nodes': 59, 'max_depth': 15, 'min_samples_leaf': 10, 'l2_regularization': 0.25, 'random_state': 42}. Best is trial 6 with value: 0.12664557147833613.\u001b[0m\n",
            "\u001b[32m[I 2023-02-08 04:45:42,019]\u001b[0m Trial 8 finished with value: 0.12694834929038437 and parameters: {'learning_rate': 0.029, 'max_iter': 313, 'max_leaf_nodes': 13, 'max_depth': 7, 'min_samples_leaf': 90, 'l2_regularization': 0.4, 'random_state': 42}. Best is trial 6 with value: 0.12664557147833613.\u001b[0m\n",
            "\u001b[32m[I 2023-02-08 04:45:44,998]\u001b[0m Trial 9 finished with value: 0.12678527427401098 and parameters: {'learning_rate': 0.044, 'max_iter': 803, 'max_leaf_nodes': 92, 'max_depth': 29, 'min_samples_leaf': 9, 'l2_regularization': 0.25, 'random_state': 42}. Best is trial 6 with value: 0.12664557147833613.\u001b[0m\n",
            "\u001b[32m[I 2023-02-08 04:45:45,017]\u001b[0m A new study created in memory with name: no-name-e6ced2e5-0f2f-49cd-8491-f1bd8a011504\u001b[0m\n"
          ]
        },
        {
          "output_type": "stream",
          "name": "stdout",
          "text": [
            "HistGradientBoostingRegressor 6 Best trial: score 0.12664557147833613,\n",
            "params {'learning_rate': 0.037, 'max_iter': 440, 'max_leaf_nodes': 87, 'max_depth': 37, 'min_samples_leaf': 75, 'l2_regularization': 0.0, 'random_state': 42}\n"
          ]
        },
        {
          "output_type": "stream",
          "name": "stderr",
          "text": [
            "\u001b[32m[I 2023-02-08 04:45:47,954]\u001b[0m Trial 0 finished with value: 0.023952229259129914 and parameters: {'learning_rate': 0.030000000000000002, 'max_iter': 762, 'max_leaf_nodes': 98, 'max_depth': 23, 'min_samples_leaf': 353, 'l2_regularization': 0.5, 'random_state': 42}. Best is trial 0 with value: 0.023952229259129914.\u001b[0m\n",
            "\u001b[32m[I 2023-02-08 04:45:55,152]\u001b[0m Trial 1 finished with value: 0.024048692403662947 and parameters: {'learning_rate': 0.013000000000000001, 'max_iter': 108, 'max_leaf_nodes': 186, 'max_depth': 29, 'min_samples_leaf': 23, 'l2_regularization': 0.9, 'random_state': 42}. Best is trial 0 with value: 0.023952229259129914.\u001b[0m\n",
            "\u001b[32m[I 2023-02-08 04:46:03,074]\u001b[0m Trial 2 finished with value: 0.024131943678903593 and parameters: {'learning_rate': 0.005, 'max_iter': 307, 'max_leaf_nodes': 121, 'max_depth': 38, 'min_samples_leaf': 309, 'l2_regularization': 0.7000000000000001, 'random_state': 42}. Best is trial 0 with value: 0.023952229259129914.\u001b[0m\n",
            "\u001b[32m[I 2023-02-08 04:46:06,059]\u001b[0m Trial 3 finished with value: 0.023919543530302134 and parameters: {'learning_rate': 0.029, 'max_iter': 625, 'max_leaf_nodes': 252, 'max_depth': 13, 'min_samples_leaf': 166, 'l2_regularization': 1.0, 'random_state': 42}. Best is trial 3 with value: 0.023919543530302134.\u001b[0m\n",
            "\u001b[32m[I 2023-02-08 04:46:08,433]\u001b[0m Trial 4 finished with value: 0.02405698856417579 and parameters: {'learning_rate': 0.027, 'max_iter': 654, 'max_leaf_nodes': 9, 'max_depth': 7, 'min_samples_leaf': 247, 'l2_regularization': 0.0, 'random_state': 42}. Best is trial 3 with value: 0.023919543530302134.\u001b[0m\n",
            "\u001b[32m[I 2023-02-08 04:46:16,144]\u001b[0m Trial 5 finished with value: 0.02391387558476093 and parameters: {'learning_rate': 0.016, 'max_iter': 692, 'max_leaf_nodes': 117, 'max_depth': 27, 'min_samples_leaf': 230, 'l2_regularization': 0.75, 'random_state': 42}. Best is trial 5 with value: 0.02391387558476093.\u001b[0m\n",
            "\u001b[32m[I 2023-02-08 04:46:21,543]\u001b[0m Trial 6 finished with value: 0.023974793666175217 and parameters: {'learning_rate': 0.01, 'max_iter': 562, 'max_leaf_nodes': 104, 'max_depth': 13, 'min_samples_leaf': 367, 'l2_regularization': 0.2, 'random_state': 42}. Best is trial 5 with value: 0.02391387558476093.\u001b[0m\n",
            "\u001b[32m[I 2023-02-08 04:46:24,311]\u001b[0m Trial 7 finished with value: 0.023943436410986264 and parameters: {'learning_rate': 0.034999999999999996, 'max_iter': 150, 'max_leaf_nodes': 102, 'max_depth': 36, 'min_samples_leaf': 352, 'l2_regularization': 0.8500000000000001, 'random_state': 42}. Best is trial 5 with value: 0.02391387558476093.\u001b[0m\n",
            "\u001b[32m[I 2023-02-08 04:46:28,124]\u001b[0m Trial 8 finished with value: 0.023963494438400918 and parameters: {'learning_rate': 0.039, 'max_iter': 183, 'max_leaf_nodes': 149, 'max_depth': 6, 'min_samples_leaf': 365, 'l2_regularization': 0.8, 'random_state': 42}. Best is trial 5 with value: 0.02391387558476093.\u001b[0m\n",
            "\u001b[32m[I 2023-02-08 04:46:30,457]\u001b[0m Trial 9 finished with value: 0.02391926645174499 and parameters: {'learning_rate': 0.041, 'max_iter': 606, 'max_leaf_nodes': 164, 'max_depth': 6, 'min_samples_leaf': 85, 'l2_regularization': 0.15000000000000002, 'random_state': 42}. Best is trial 5 with value: 0.02391387558476093.\u001b[0m\n",
            "\u001b[32m[I 2023-02-08 04:46:30,476]\u001b[0m A new study created in memory with name: no-name-680416a7-c0e2-448b-897a-f881bf7d6b1e\u001b[0m\n"
          ]
        },
        {
          "output_type": "stream",
          "name": "stdout",
          "text": [
            "HistGradientBoostingRegressor 7 Best trial: score 0.02391387558476093,\n",
            "params {'learning_rate': 0.016, 'max_iter': 692, 'max_leaf_nodes': 117, 'max_depth': 27, 'min_samples_leaf': 230, 'l2_regularization': 0.75, 'random_state': 42}\n"
          ]
        },
        {
          "output_type": "stream",
          "name": "stderr",
          "text": [
            "\u001b[32m[I 2023-02-08 04:46:33,884]\u001b[0m Trial 0 finished with value: 0.023680758412175686 and parameters: {'learning_rate': 0.037, 'max_iter': 438, 'max_leaf_nodes': 97, 'max_depth': 30, 'min_samples_leaf': 248, 'l2_regularization': 0.75, 'random_state': 42}. Best is trial 0 with value: 0.023680758412175686.\u001b[0m\n",
            "\u001b[32m[I 2023-02-08 04:46:41,754]\u001b[0m Trial 1 finished with value: 0.02370571746581764 and parameters: {'learning_rate': 0.04, 'max_iter': 749, 'max_leaf_nodes': 204, 'max_depth': 39, 'min_samples_leaf': 16, 'l2_regularization': 0.5, 'random_state': 42}. Best is trial 0 with value: 0.023680758412175686.\u001b[0m\n",
            "\u001b[32m[I 2023-02-08 04:46:44,051]\u001b[0m Trial 2 finished with value: 0.02369367837569463 and parameters: {'learning_rate': 0.036, 'max_iter': 754, 'max_leaf_nodes': 217, 'max_depth': 32, 'min_samples_leaf': 166, 'l2_regularization': 0.8, 'random_state': 42}. Best is trial 0 with value: 0.023680758412175686.\u001b[0m\n",
            "\u001b[32m[I 2023-02-08 04:46:47,464]\u001b[0m Trial 3 finished with value: 0.023686033222670638 and parameters: {'learning_rate': 0.025, 'max_iter': 456, 'max_leaf_nodes': 28, 'max_depth': 34, 'min_samples_leaf': 227, 'l2_regularization': 0.6000000000000001, 'random_state': 42}. Best is trial 0 with value: 0.023680758412175686.\u001b[0m\n",
            "\u001b[32m[I 2023-02-08 04:46:52,321]\u001b[0m Trial 4 finished with value: 0.023715843437172136 and parameters: {'learning_rate': 0.021, 'max_iter': 623, 'max_leaf_nodes': 33, 'max_depth': 35, 'min_samples_leaf': 58, 'l2_regularization': 0.75, 'random_state': 42}. Best is trial 0 with value: 0.023680758412175686.\u001b[0m\n",
            "\u001b[32m[I 2023-02-08 04:46:59,262]\u001b[0m Trial 5 finished with value: 0.023668114327381244 and parameters: {'learning_rate': 0.013000000000000001, 'max_iter': 260, 'max_leaf_nodes': 92, 'max_depth': 16, 'min_samples_leaf': 7, 'l2_regularization': 1.0, 'random_state': 42}. Best is trial 5 with value: 0.023668114327381244.\u001b[0m\n",
            "\u001b[32m[I 2023-02-08 04:47:05,868]\u001b[0m Trial 6 finished with value: 0.02367557364122613 and parameters: {'learning_rate': 0.024, 'max_iter': 924, 'max_leaf_nodes': 224, 'max_depth': 21, 'min_samples_leaf': 288, 'l2_regularization': 0.65, 'random_state': 42}. Best is trial 5 with value: 0.023668114327381244.\u001b[0m\n",
            "\u001b[32m[I 2023-02-08 04:47:08,517]\u001b[0m Trial 7 finished with value: 0.023720532598350393 and parameters: {'learning_rate': 0.024, 'max_iter': 991, 'max_leaf_nodes': 84, 'max_depth': 11, 'min_samples_leaf': 254, 'l2_regularization': 0.9, 'random_state': 42}. Best is trial 5 with value: 0.023668114327381244.\u001b[0m\n",
            "\u001b[32m[I 2023-02-08 04:47:11,728]\u001b[0m Trial 8 finished with value: 0.02375649329102652 and parameters: {'learning_rate': 0.021, 'max_iter': 617, 'max_leaf_nodes': 86, 'max_depth': 5, 'min_samples_leaf': 328, 'l2_regularization': 0.5, 'random_state': 42}. Best is trial 5 with value: 0.023668114327381244.\u001b[0m\n",
            "\u001b[32m[I 2023-02-08 04:47:21,631]\u001b[0m Trial 9 finished with value: 0.02366260307338796 and parameters: {'learning_rate': 0.01, 'max_iter': 251, 'max_leaf_nodes': 182, 'max_depth': 23, 'min_samples_leaf': 151, 'l2_regularization': 0.0, 'random_state': 42}. Best is trial 9 with value: 0.02366260307338796.\u001b[0m\n",
            "\u001b[32m[I 2023-02-08 04:47:21,661]\u001b[0m A new study created in memory with name: no-name-eec5d540-8cb8-433b-84a6-9645c886af1d\u001b[0m\n"
          ]
        },
        {
          "output_type": "stream",
          "name": "stdout",
          "text": [
            "HistGradientBoostingRegressor 8 Best trial: score 0.02366260307338796,\n",
            "params {'learning_rate': 0.01, 'max_iter': 251, 'max_leaf_nodes': 182, 'max_depth': 23, 'min_samples_leaf': 151, 'l2_regularization': 0.0, 'random_state': 42}\n"
          ]
        },
        {
          "output_type": "stream",
          "name": "stderr",
          "text": [
            "\u001b[32m[I 2023-02-08 04:47:32,620]\u001b[0m Trial 0 finished with value: 0.037856535909817655 and parameters: {'learning_rate': 0.01, 'max_iter': 662, 'max_leaf_nodes': 63, 'max_depth': 27, 'min_samples_leaf': 56, 'l2_regularization': 0.4, 'random_state': 42}. Best is trial 0 with value: 0.037856535909817655.\u001b[0m\n",
            "\u001b[32m[I 2023-02-08 04:47:35,761]\u001b[0m Trial 1 finished with value: 0.03792694858354188 and parameters: {'learning_rate': 0.041, 'max_iter': 756, 'max_leaf_nodes': 99, 'max_depth': 36, 'min_samples_leaf': 328, 'l2_regularization': 0.65, 'random_state': 42}. Best is trial 0 with value: 0.037856535909817655.\u001b[0m\n",
            "\u001b[32m[I 2023-02-08 04:47:38,631]\u001b[0m Trial 2 finished with value: 0.03793337554133842 and parameters: {'learning_rate': 0.049999999999999996, 'max_iter': 145, 'max_leaf_nodes': 217, 'max_depth': 38, 'min_samples_leaf': 301, 'l2_regularization': 0.75, 'random_state': 42}. Best is trial 0 with value: 0.037856535909817655.\u001b[0m\n",
            "\u001b[32m[I 2023-02-08 04:47:42,660]\u001b[0m Trial 3 finished with value: 0.0375868673516515 and parameters: {'learning_rate': 0.049999999999999996, 'max_iter': 964, 'max_leaf_nodes': 32, 'max_depth': 36, 'min_samples_leaf': 34, 'l2_regularization': 0.0, 'random_state': 42}. Best is trial 3 with value: 0.0375868673516515.\u001b[0m\n",
            "\u001b[32m[I 2023-02-08 04:47:45,249]\u001b[0m Trial 4 finished with value: 0.03784004958505158 and parameters: {'learning_rate': 0.037, 'max_iter': 993, 'max_leaf_nodes': 35, 'max_depth': 11, 'min_samples_leaf': 211, 'l2_regularization': 0.6000000000000001, 'random_state': 42}. Best is trial 3 with value: 0.0375868673516515.\u001b[0m\n",
            "\u001b[32m[I 2023-02-08 04:47:59,439]\u001b[0m Trial 5 finished with value: 0.03817844663903383 and parameters: {'learning_rate': 0.005, 'max_iter': 609, 'max_leaf_nodes': 227, 'max_depth': 34, 'min_samples_leaf': 377, 'l2_regularization': 0.2, 'random_state': 42}. Best is trial 3 with value: 0.0375868673516515.\u001b[0m\n",
            "\u001b[32m[I 2023-02-08 04:48:05,175]\u001b[0m Trial 6 finished with value: 0.038369470770631145 and parameters: {'learning_rate': 0.007, 'max_iter': 609, 'max_leaf_nodes': 12, 'max_depth': 17, 'min_samples_leaf': 232, 'l2_regularization': 0.45, 'random_state': 42}. Best is trial 3 with value: 0.0375868673516515.\u001b[0m\n",
            "\u001b[32m[I 2023-02-08 04:48:09,274]\u001b[0m Trial 7 finished with value: 0.037926925561273625 and parameters: {'learning_rate': 0.031000000000000003, 'max_iter': 879, 'max_leaf_nodes': 13, 'max_depth': 21, 'min_samples_leaf': 96, 'l2_regularization': 0.7000000000000001, 'random_state': 42}. Best is trial 3 with value: 0.0375868673516515.\u001b[0m\n",
            "\u001b[32m[I 2023-02-08 04:48:24,338]\u001b[0m Trial 8 finished with value: 0.037797725591190476 and parameters: {'learning_rate': 0.013000000000000001, 'max_iter': 851, 'max_leaf_nodes': 212, 'max_depth': 19, 'min_samples_leaf': 47, 'l2_regularization': 0.05, 'random_state': 42}. Best is trial 3 with value: 0.0375868673516515.\u001b[0m\n",
            "\u001b[32m[I 2023-02-08 04:48:27,629]\u001b[0m Trial 9 finished with value: 0.03778659310531716 and parameters: {'learning_rate': 0.044, 'max_iter': 915, 'max_leaf_nodes': 62, 'max_depth': 20, 'min_samples_leaf': 180, 'l2_regularization': 0.05, 'random_state': 42}. Best is trial 3 with value: 0.0375868673516515.\u001b[0m\n",
            "\u001b[32m[I 2023-02-08 04:48:27,647]\u001b[0m A new study created in memory with name: no-name-2bb8ebdd-d678-4da9-854f-3d3fa49b2b87\u001b[0m\n"
          ]
        },
        {
          "output_type": "stream",
          "name": "stdout",
          "text": [
            "HistGradientBoostingRegressor 9 Best trial: score 0.0375868673516515,\n",
            "params {'learning_rate': 0.049999999999999996, 'max_iter': 964, 'max_leaf_nodes': 32, 'max_depth': 36, 'min_samples_leaf': 34, 'l2_regularization': 0.0, 'random_state': 42}\n"
          ]
        },
        {
          "output_type": "stream",
          "name": "stderr",
          "text": [
            "\u001b[32m[I 2023-02-08 04:48:37,550]\u001b[0m Trial 0 finished with value: 0.03290198714236099 and parameters: {'learning_rate': 0.01, 'max_iter': 474, 'max_leaf_nodes': 57, 'max_depth': 12, 'min_samples_leaf': 184, 'l2_regularization': 0.5, 'random_state': 42}. Best is trial 0 with value: 0.03290198714236099.\u001b[0m\n",
            "\u001b[32m[I 2023-02-08 04:48:47,124]\u001b[0m Trial 1 finished with value: 0.03289013349662174 and parameters: {'learning_rate': 0.017, 'max_iter': 544, 'max_leaf_nodes': 101, 'max_depth': 8, 'min_samples_leaf': 25, 'l2_regularization': 0.25, 'random_state': 42}. Best is trial 1 with value: 0.03289013349662174.\u001b[0m\n",
            "\u001b[32m[I 2023-02-08 04:48:50,029]\u001b[0m Trial 2 finished with value: 0.032864464702409724 and parameters: {'learning_rate': 0.038, 'max_iter': 769, 'max_leaf_nodes': 34, 'max_depth': 20, 'min_samples_leaf': 244, 'l2_regularization': 0.5, 'random_state': 42}. Best is trial 2 with value: 0.032864464702409724.\u001b[0m\n",
            "\u001b[32m[I 2023-02-08 04:48:53,056]\u001b[0m Trial 3 finished with value: 0.0328502187363312 and parameters: {'learning_rate': 0.04, 'max_iter': 346, 'max_leaf_nodes': 89, 'max_depth': 18, 'min_samples_leaf': 76, 'l2_regularization': 0.0, 'random_state': 42}. Best is trial 3 with value: 0.0328502187363312.\u001b[0m\n",
            "\u001b[32m[I 2023-02-08 04:48:59,907]\u001b[0m Trial 4 finished with value: 0.032908968250613485 and parameters: {'learning_rate': 0.019, 'max_iter': 919, 'max_leaf_nodes': 173, 'max_depth': 34, 'min_samples_leaf': 365, 'l2_regularization': 1.0, 'random_state': 42}. Best is trial 3 with value: 0.0328502187363312.\u001b[0m\n",
            "\u001b[32m[I 2023-02-08 04:49:16,916]\u001b[0m Trial 5 finished with value: 0.032919365745183136 and parameters: {'learning_rate': 0.007, 'max_iter': 897, 'max_leaf_nodes': 231, 'max_depth': 35, 'min_samples_leaf': 115, 'l2_regularization': 0.30000000000000004, 'random_state': 42}. Best is trial 3 with value: 0.0328502187363312.\u001b[0m\n",
            "\u001b[32m[I 2023-02-08 04:49:24,507]\u001b[0m Trial 6 finished with value: 0.03294552199863223 and parameters: {'learning_rate': 0.015, 'max_iter': 237, 'max_leaf_nodes': 156, 'max_depth': 40, 'min_samples_leaf': 227, 'l2_regularization': 0.8, 'random_state': 42}. Best is trial 3 with value: 0.0328502187363312.\u001b[0m\n",
            "\u001b[32m[I 2023-02-08 04:49:32,281]\u001b[0m Trial 7 finished with value: 0.03287169353597083 and parameters: {'learning_rate': 0.017, 'max_iter': 388, 'max_leaf_nodes': 214, 'max_depth': 37, 'min_samples_leaf': 143, 'l2_regularization': 0.05, 'random_state': 42}. Best is trial 3 with value: 0.0328502187363312.\u001b[0m\n",
            "\u001b[32m[I 2023-02-08 04:49:37,689]\u001b[0m Trial 8 finished with value: 0.0331660008421963 and parameters: {'learning_rate': 0.016, 'max_iter': 530, 'max_leaf_nodes': 7, 'max_depth': 7, 'min_samples_leaf': 185, 'l2_regularization': 0.45, 'random_state': 42}. Best is trial 3 with value: 0.0328502187363312.\u001b[0m\n",
            "\u001b[32m[I 2023-02-08 04:49:40,555]\u001b[0m Trial 9 finished with value: 0.032859754067707546 and parameters: {'learning_rate': 0.044, 'max_iter': 241, 'max_leaf_nodes': 178, 'max_depth': 35, 'min_samples_leaf': 309, 'l2_regularization': 0.35000000000000003, 'random_state': 42}. Best is trial 3 with value: 0.0328502187363312.\u001b[0m\n",
            "\u001b[32m[I 2023-02-08 04:49:40,575]\u001b[0m A new study created in memory with name: no-name-9800c101-97b2-489f-8919-b68e587112f1\u001b[0m\n"
          ]
        },
        {
          "output_type": "stream",
          "name": "stdout",
          "text": [
            "HistGradientBoostingRegressor 10 Best trial: score 0.0328502187363312,\n",
            "params {'learning_rate': 0.04, 'max_iter': 346, 'max_leaf_nodes': 89, 'max_depth': 18, 'min_samples_leaf': 76, 'l2_regularization': 0.0, 'random_state': 42}\n"
          ]
        },
        {
          "output_type": "stream",
          "name": "stderr",
          "text": [
            "\u001b[32m[I 2023-02-08 04:49:43,820]\u001b[0m Trial 0 finished with value: 0.023940416871471065 and parameters: {'learning_rate': 0.036, 'max_iter': 428, 'max_leaf_nodes': 132, 'max_depth': 22, 'min_samples_leaf': 301, 'l2_regularization': 0.2, 'random_state': 42}. Best is trial 0 with value: 0.023940416871471065.\u001b[0m\n",
            "\u001b[32m[I 2023-02-08 04:49:53,403]\u001b[0m Trial 1 finished with value: 0.024127908233119045 and parameters: {'learning_rate': 0.006, 'max_iter': 205, 'max_leaf_nodes': 160, 'max_depth': 34, 'min_samples_leaf': 102, 'l2_regularization': 0.8, 'random_state': 42}. Best is trial 0 with value: 0.023940416871471065.\u001b[0m\n",
            "\u001b[32m[I 2023-02-08 04:49:56,363]\u001b[0m Trial 2 finished with value: 0.023947563531495124 and parameters: {'learning_rate': 0.029, 'max_iter': 167, 'max_leaf_nodes': 145, 'max_depth': 24, 'min_samples_leaf': 384, 'l2_regularization': 0.45, 'random_state': 42}. Best is trial 0 with value: 0.023940416871471065.\u001b[0m\n",
            "\u001b[32m[I 2023-02-08 04:50:01,892]\u001b[0m Trial 3 finished with value: 0.023963919175723505 and parameters: {'learning_rate': 0.023000000000000003, 'max_iter': 192, 'max_leaf_nodes': 255, 'max_depth': 23, 'min_samples_leaf': 362, 'l2_regularization': 0.45, 'random_state': 42}. Best is trial 0 with value: 0.023940416871471065.\u001b[0m\n",
            "\u001b[32m[I 2023-02-08 04:50:07,520]\u001b[0m Trial 4 finished with value: 0.023957067273878346 and parameters: {'learning_rate': 0.012, 'max_iter': 600, 'max_leaf_nodes': 57, 'max_depth': 9, 'min_samples_leaf': 236, 'l2_regularization': 0.8500000000000001, 'random_state': 42}. Best is trial 0 with value: 0.023940416871471065.\u001b[0m\n",
            "\u001b[32m[I 2023-02-08 04:50:18,841]\u001b[0m Trial 5 finished with value: 0.02395860204481561 and parameters: {'learning_rate': 0.007, 'max_iter': 425, 'max_leaf_nodes': 213, 'max_depth': 19, 'min_samples_leaf': 196, 'l2_regularization': 0.75, 'random_state': 42}. Best is trial 0 with value: 0.023940416871471065.\u001b[0m\n",
            "\u001b[32m[I 2023-02-08 04:50:27,269]\u001b[0m Trial 6 finished with value: 0.02396765185421963 and parameters: {'learning_rate': 0.009000000000000001, 'max_iter': 464, 'max_leaf_nodes': 152, 'max_depth': 14, 'min_samples_leaf': 230, 'l2_regularization': 0.45, 'random_state': 42}. Best is trial 0 with value: 0.023940416871471065.\u001b[0m\n",
            "\u001b[32m[I 2023-02-08 04:50:31,064]\u001b[0m Trial 7 finished with value: 0.023863991011199327 and parameters: {'learning_rate': 0.038, 'max_iter': 275, 'max_leaf_nodes': 117, 'max_depth': 17, 'min_samples_leaf': 104, 'l2_regularization': 0.1, 'random_state': 42}. Best is trial 7 with value: 0.023863991011199327.\u001b[0m\n",
            "\u001b[32m[I 2023-02-08 04:50:33,946]\u001b[0m Trial 8 finished with value: 0.023968625085786437 and parameters: {'learning_rate': 0.026000000000000002, 'max_iter': 223, 'max_leaf_nodes': 147, 'max_depth': 9, 'min_samples_leaf': 324, 'l2_regularization': 0.4, 'random_state': 42}. Best is trial 7 with value: 0.023863991011199327.\u001b[0m\n",
            "\u001b[32m[I 2023-02-08 04:50:38,635]\u001b[0m Trial 9 finished with value: 0.02393776834791603 and parameters: {'learning_rate': 0.038, 'max_iter': 272, 'max_leaf_nodes': 222, 'max_depth': 11, 'min_samples_leaf': 87, 'l2_regularization': 0.15000000000000002, 'random_state': 42}. Best is trial 7 with value: 0.023863991011199327.\u001b[0m\n",
            "\u001b[32m[I 2023-02-08 04:50:38,655]\u001b[0m A new study created in memory with name: no-name-5117f0b7-e866-44d4-9a76-f6f4579be3ad\u001b[0m\n"
          ]
        },
        {
          "output_type": "stream",
          "name": "stdout",
          "text": [
            "HistGradientBoostingRegressor 11 Best trial: score 0.023863991011199327,\n",
            "params {'learning_rate': 0.038, 'max_iter': 275, 'max_leaf_nodes': 117, 'max_depth': 17, 'min_samples_leaf': 104, 'l2_regularization': 0.1, 'random_state': 42}\n"
          ]
        },
        {
          "output_type": "stream",
          "name": "stderr",
          "text": [
            "\u001b[32m[I 2023-02-08 04:50:42,269]\u001b[0m Trial 0 finished with value: 0.024005992361645707 and parameters: {'learning_rate': 0.01, 'max_iter': 174, 'max_leaf_nodes': 75, 'max_depth': 24, 'min_samples_leaf': 267, 'l2_regularization': 0.4, 'random_state': 42}. Best is trial 0 with value: 0.024005992361645707.\u001b[0m\n",
            "\u001b[32m[I 2023-02-08 04:50:46,559]\u001b[0m Trial 1 finished with value: 0.023974613613317073 and parameters: {'learning_rate': 0.013000000000000001, 'max_iter': 575, 'max_leaf_nodes': 65, 'max_depth': 4, 'min_samples_leaf': 15, 'l2_regularization': 0.55, 'random_state': 42}. Best is trial 1 with value: 0.023974613613317073.\u001b[0m\n",
            "\u001b[32m[I 2023-02-08 04:50:51,604]\u001b[0m Trial 2 finished with value: 0.023882450666391032 and parameters: {'learning_rate': 0.032, 'max_iter': 293, 'max_leaf_nodes': 253, 'max_depth': 38, 'min_samples_leaf': 245, 'l2_regularization': 1.0, 'random_state': 42}. Best is trial 2 with value: 0.023882450666391032.\u001b[0m\n",
            "\u001b[32m[I 2023-02-08 04:50:57,686]\u001b[0m Trial 3 finished with value: 0.023908165084777392 and parameters: {'learning_rate': 0.008, 'max_iter': 756, 'max_leaf_nodes': 28, 'max_depth': 14, 'min_samples_leaf': 81, 'l2_regularization': 0.5, 'random_state': 42}. Best is trial 2 with value: 0.023882450666391032.\u001b[0m\n",
            "\u001b[32m[I 2023-02-08 04:51:03,203]\u001b[0m Trial 4 finished with value: 0.023837853576815983 and parameters: {'learning_rate': 0.038, 'max_iter': 488, 'max_leaf_nodes': 244, 'max_depth': 21, 'min_samples_leaf': 252, 'l2_regularization': 0.5, 'random_state': 42}. Best is trial 4 with value: 0.023837853576815983.\u001b[0m\n",
            "\u001b[32m[I 2023-02-08 04:51:06,939]\u001b[0m Trial 5 finished with value: 0.023858422083695936 and parameters: {'learning_rate': 0.036, 'max_iter': 484, 'max_leaf_nodes': 101, 'max_depth': 36, 'min_samples_leaf': 234, 'l2_regularization': 0.4, 'random_state': 42}. Best is trial 4 with value: 0.023837853576815983.\u001b[0m\n",
            "\u001b[32m[I 2023-02-08 04:51:09,716]\u001b[0m Trial 6 finished with value: 0.023851298250997837 and parameters: {'learning_rate': 0.038, 'max_iter': 148, 'max_leaf_nodes': 250, 'max_depth': 17, 'min_samples_leaf': 144, 'l2_regularization': 0.9, 'random_state': 42}. Best is trial 4 with value: 0.023837853576815983.\u001b[0m\n",
            "\u001b[32m[I 2023-02-08 04:51:16,586]\u001b[0m Trial 7 finished with value: 0.023827693459295744 and parameters: {'learning_rate': 0.032, 'max_iter': 946, 'max_leaf_nodes': 108, 'max_depth': 13, 'min_samples_leaf': 103, 'l2_regularization': 0.4, 'random_state': 42}. Best is trial 7 with value: 0.023827693459295744.\u001b[0m\n",
            "\u001b[32m[I 2023-02-08 04:51:20,294]\u001b[0m Trial 8 finished with value: 0.023844907250320384 and parameters: {'learning_rate': 0.034, 'max_iter': 367, 'max_leaf_nodes': 236, 'max_depth': 21, 'min_samples_leaf': 130, 'l2_regularization': 0.05, 'random_state': 42}. Best is trial 7 with value: 0.023827693459295744.\u001b[0m\n",
            "\u001b[32m[I 2023-02-08 04:51:24,112]\u001b[0m Trial 9 finished with value: 0.023818527005980368 and parameters: {'learning_rate': 0.031000000000000003, 'max_iter': 153, 'max_leaf_nodes': 188, 'max_depth': 22, 'min_samples_leaf': 99, 'l2_regularization': 0.7000000000000001, 'random_state': 42}. Best is trial 9 with value: 0.023818527005980368.\u001b[0m\n",
            "\u001b[32m[I 2023-02-08 04:51:24,135]\u001b[0m A new study created in memory with name: no-name-8e1a19ed-53e1-4c16-af88-ef35318cc0f1\u001b[0m\n"
          ]
        },
        {
          "output_type": "stream",
          "name": "stdout",
          "text": [
            "HistGradientBoostingRegressor 12 Best trial: score 0.023818527005980368,\n",
            "params {'learning_rate': 0.031000000000000003, 'max_iter': 153, 'max_leaf_nodes': 188, 'max_depth': 22, 'min_samples_leaf': 99, 'l2_regularization': 0.7000000000000001, 'random_state': 42}\n"
          ]
        },
        {
          "output_type": "stream",
          "name": "stderr",
          "text": [
            "\u001b[32m[I 2023-02-08 04:51:29,887]\u001b[0m Trial 0 finished with value: 0.023836812909952196 and parameters: {'learning_rate': 0.023000000000000003, 'max_iter': 926, 'max_leaf_nodes': 228, 'max_depth': 12, 'min_samples_leaf': 204, 'l2_regularization': 1.0, 'random_state': 42}. Best is trial 0 with value: 0.023836812909952196.\u001b[0m\n",
            "\u001b[32m[I 2023-02-08 04:51:34,649]\u001b[0m Trial 1 finished with value: 0.02391682869190215 and parameters: {'learning_rate': 0.011, 'max_iter': 866, 'max_leaf_nodes': 28, 'max_depth': 9, 'min_samples_leaf': 48, 'l2_regularization': 0.8, 'random_state': 42}. Best is trial 0 with value: 0.023836812909952196.\u001b[0m\n",
            "\u001b[32m[I 2023-02-08 04:51:47,367]\u001b[0m Trial 2 finished with value: 0.023893355844241054 and parameters: {'learning_rate': 0.006, 'max_iter': 961, 'max_leaf_nodes': 233, 'max_depth': 13, 'min_samples_leaf': 286, 'l2_regularization': 0.35000000000000003, 'random_state': 42}. Best is trial 0 with value: 0.023836812909952196.\u001b[0m\n",
            "\u001b[32m[I 2023-02-08 04:51:53,889]\u001b[0m Trial 3 finished with value: 0.02382584299530541 and parameters: {'learning_rate': 0.028, 'max_iter': 797, 'max_leaf_nodes': 225, 'max_depth': 24, 'min_samples_leaf': 26, 'l2_regularization': 0.1, 'random_state': 42}. Best is trial 3 with value: 0.02382584299530541.\u001b[0m\n",
            "\u001b[32m[I 2023-02-08 04:51:59,263]\u001b[0m Trial 4 finished with value: 0.02396522848852713 and parameters: {'learning_rate': 0.01, 'max_iter': 325, 'max_leaf_nodes': 216, 'max_depth': 5, 'min_samples_leaf': 70, 'l2_regularization': 0.45, 'random_state': 42}. Best is trial 3 with value: 0.02382584299530541.\u001b[0m\n",
            "\u001b[32m[I 2023-02-08 04:52:00,695]\u001b[0m Trial 5 finished with value: 0.024074599352508625 and parameters: {'learning_rate': 0.021, 'max_iter': 176, 'max_leaf_nodes': 70, 'max_depth': 4, 'min_samples_leaf': 387, 'l2_regularization': 0.30000000000000004, 'random_state': 42}. Best is trial 3 with value: 0.02382584299530541.\u001b[0m\n",
            "\u001b[32m[I 2023-02-08 04:52:07,443]\u001b[0m Trial 6 finished with value: 0.023808185821907458 and parameters: {'learning_rate': 0.028, 'max_iter': 752, 'max_leaf_nodes': 159, 'max_depth': 39, 'min_samples_leaf': 42, 'l2_regularization': 1.0, 'random_state': 42}. Best is trial 6 with value: 0.023808185821907458.\u001b[0m\n",
            "\u001b[32m[I 2023-02-08 04:52:09,478]\u001b[0m Trial 7 finished with value: 0.023838605006505326 and parameters: {'learning_rate': 0.047, 'max_iter': 990, 'max_leaf_nodes': 46, 'max_depth': 39, 'min_samples_leaf': 262, 'l2_regularization': 0.6000000000000001, 'random_state': 42}. Best is trial 6 with value: 0.023808185821907458.\u001b[0m\n",
            "\u001b[32m[I 2023-02-08 04:52:12,963]\u001b[0m Trial 8 finished with value: 0.02391034478773913 and parameters: {'learning_rate': 0.019, 'max_iter': 182, 'max_leaf_nodes': 138, 'max_depth': 31, 'min_samples_leaf': 318, 'l2_regularization': 0.25, 'random_state': 42}. Best is trial 6 with value: 0.023808185821907458.\u001b[0m\n",
            "\u001b[32m[I 2023-02-08 04:52:18,080]\u001b[0m Trial 9 finished with value: 0.02386470910210459 and parameters: {'learning_rate': 0.034, 'max_iter': 915, 'max_leaf_nodes': 52, 'max_depth': 30, 'min_samples_leaf': 322, 'l2_regularization': 0.25, 'random_state': 42}. Best is trial 6 with value: 0.023808185821907458.\u001b[0m\n"
          ]
        },
        {
          "output_type": "stream",
          "name": "stdout",
          "text": [
            "HistGradientBoostingRegressor 13 Best trial: score 0.023808185821907458,\n",
            "params {'learning_rate': 0.028, 'max_iter': 752, 'max_leaf_nodes': 159, 'max_depth': 39, 'min_samples_leaf': 42, 'l2_regularization': 1.0, 'random_state': 42}\n",
            "Score :  1.9327404920458666\n"
          ]
        }
      ]
    },
    {
      "cell_type": "code",
      "source": [
        "# XGBRegressor 튜닝 진행\n",
        "start_tuning(X_train, Y_train, XGBRegressor, XGBRegressor_param, 10)"
      ],
      "metadata": {
        "id": "oE3XTJe0df9D"
      },
      "execution_count": null,
      "outputs": []
    },
    {
      "cell_type": "code",
      "source": [
        "# LGBMRegressor 튜닝 진행\n",
        "start_tuning(X_train, Y_train, LGBMRegressor, LGBMRegressor_param, 10)"
      ],
      "metadata": {
        "id": "3oLERy-zdod8"
      },
      "execution_count": null,
      "outputs": []
    },
    {
      "cell_type": "code",
      "source": [
        "# CatBoostRegressor 튜닝 진행\n",
        "start_tuning(X_train, Y_train, CatBoostRegressor, CatBoostRegressor_param, 10)"
      ],
      "metadata": {
        "id": "HWK2QfRHdsnr"
      },
      "execution_count": null,
      "outputs": []
    },
    {
      "cell_type": "markdown",
      "source": [
        "---"
      ],
      "metadata": {
        "id": "pqOWj89geOIT"
      }
    },
    {
      "cell_type": "markdown",
      "source": [
        "## **9. 모델링**"
      ],
      "metadata": {
        "id": "urEgkSCReO63"
      }
    },
    {
      "cell_type": "markdown",
      "source": [
        "  - 총 17개의 모델을 학습\n",
        "    - 13개의 모델(Linear, Ridge, Lasso, ..., XGB, LGBM, CatBoost)\n",
        "    - 하이퍼파라미터를 튜닝한 4개의 모델(HistGradientBoosting tune, XGB tune, LGBM tune, CatBoost tune)\n",
        "  \n",
        "  - 예측값에 대한 Stacking Ensemble 진행\n",
        "    - 하나의 메타 모델에 위의 모델을 넣어 각 모델의 예측값을 출력력\n",
        "    - 이들의 예측값을 앙상블하여 메타 모델 자체의 예측값을 출력"
      ],
      "metadata": {
        "id": "4rkmvDHp8lrR"
      }
    },
    {
      "cell_type": "markdown",
      "source": [
        "### **9.1 라이브러리 임포트**"
      ],
      "metadata": {
        "id": "TxsU3PmMi9wC"
      }
    },
    {
      "cell_type": "code",
      "source": [
        "import os\n",
        "import random\n",
        "import numpy as np\n",
        "import pandas as pd\n",
        "import matplotlib.pyplot as plt\n",
        "\n",
        "from sklearn.model_selection import KFold\n",
        "from sklearn.metrics import mean_squared_error\n",
        "from sklearn.decomposition import PCA\n",
        "from sklearn.linear_model import LinearRegression, Ridge, Lasso, ElasticNet, LassoLars, OrthogonalMatchingPursuit, BayesianRidge, ARDRegression\n",
        "from sklearn.ensemble import GradientBoostingRegressor, HistGradientBoostingRegressor\n",
        "\n",
        "import xgboost as xgb\n",
        "import lightgbm as lgb\n",
        "from xgboost import XGBRegressor\n",
        "from lightgbm import LGBMRegressor\n",
        "from catboost import CatBoostRegressor\n",
        "\n",
        "import optuna \n",
        "from optuna import Trial, visualization\n",
        "\n",
        "import joblib\n",
        "\n",
        "import warnings\n",
        "\n",
        "warnings.filterwarnings(\"ignore\")"
      ],
      "metadata": {
        "id": "s_TXvaw_i9QG"
      },
      "execution_count": null,
      "outputs": []
    },
    {
      "cell_type": "markdown",
      "source": [
        "### **9.2 Cross-validation을 통해 학습하는 ML class 정의**"
      ],
      "metadata": {
        "id": "g_VFVPFdeSnN"
      }
    },
    {
      "cell_type": "code",
      "source": [
        "class CV_ml_model:\n",
        "  # 머신러닝 모델, X_train, Y_train을 인자로 받음\n",
        "  def __init__(self, model, X_train, Y_train):\n",
        "    self.model = model\n",
        "    self.name = model().__class__.__name__\n",
        "    self.train_preds = [None] * 14\n",
        "    self.trained_models = [None] * 14\n",
        "    self.test_preds = [None] * 14\n",
        "    self.X_train = self.to_np(X_train)\n",
        "    self.Y_train = self.to_np(Y_train)\n",
        "\n",
        "\n",
        "  # 넘파이 변환\n",
        "  def to_np(self, input):\n",
        "    if (type(input) == pd.core.frame.DataFrame):\n",
        "      return input.to_numpy()\n",
        "    return input\n",
        "\n",
        "\n",
        "  # 이름 재설정\n",
        "  def set_name(self, name):\n",
        "    self.name = name\n",
        "\n",
        "  \n",
        "  # Y 하나에 대해 머신러닝 수행\n",
        "  def y_fit(self, n_folds, y_idx, X_train = None, param = {}, save = False):\n",
        "    # X_train 따로 설정하지 않을 시 최초 입력 데이터 적용\n",
        "    if (X_train is None):\n",
        "      X_train = self.X_train\n",
        "\n",
        "    # 이미 학습된 y_idx일시 학습 중지\n",
        "    if (self.train_preds[y_idx] is not None):\n",
        "      return\n",
        "\n",
        "    # n_folds 숫자 만큼 학습된 모델이 들어갈 리스트 생성\n",
        "    trained_y_models = [None] * n_folds\n",
        "\n",
        "    # 예측 결과를 넣을 ndarray 생성\n",
        "    train_fold_pred = np.zeros((X_train.shape[0], 1))\n",
        "\n",
        "    kf = KFold(n_splits=n_folds, shuffle=True, random_state=42)\n",
        "\n",
        "    for folder_counter , (train_index, valid_index) in enumerate(kf.split(X_train)):\n",
        "      #입력된 학습 데이터에서 기반 모델이 학습/예측할 폴드 데이터 셋 추출 \n",
        "      X_tr = X_train[train_index]\n",
        "      y_tr = self.Y_train[:,y_idx][train_index]\n",
        "      X_val = X_train[valid_index]\n",
        "\n",
        "      # 폴드 세트 내부에서 만들어진 학습 데이터로 기반 모델의 학습 수행.\n",
        "      trained_model = self.model(**param).fit(X_tr , y_tr)  \n",
        "      # 폴드 세트 내부에서 만들어진 검증 데이터로 기반 모델 예측 후 데이터 저장.\n",
        "      train_fold_pred[valid_index, :] = trained_model.predict(X_val).reshape(-1,1)\n",
        "      # 학습 완료된 모델 리스트 내에 저장\n",
        "      trained_y_models[folder_counter] = trained_model\n",
        "    \n",
        "    # 예측 결과 class 내 저장\n",
        "    self.train_preds[y_idx] = train_fold_pred\n",
        "    # 학습 완료된 모델 class 내 저장\n",
        "    self.trained_models[y_idx] = trained_y_models\n",
        "\n",
        "    # 학습 완료시 모델을 파일로 저장\n",
        "    if (save):\n",
        "      self.save()\n",
        "\n",
        "  \n",
        "  # 모델 경량화\n",
        "  def slim_y_fit(self, n_folds, y_idx, X_train = None, param = {}, save = False):\n",
        "    # X_train 따로 설정하지 않을 시 최초 입력 데이터 적용\n",
        "    if (X_train is None):\n",
        "      X_train = self.X_train\n",
        "\n",
        "    # 이미 학습된 y_idx일시 학습 중지\n",
        "    if (self.train_preds[y_idx] is not None):\n",
        "      return\n",
        "\n",
        "    # 예측 결과를 넣을 ndarray 생성\n",
        "    train_fold_pred = np.zeros((X_train.shape[0], 1))\n",
        "\n",
        "    kf = KFold(n_splits=n_folds, shuffle=True, random_state=42)\n",
        "\n",
        "    for folder_counter , (train_index, valid_index) in enumerate(kf.split(X_train)):\n",
        "      #입력된 학습 데이터에서 기반 모델이 학습/예측할 폴드 데이터 셋 추출 \n",
        "      X_tr = X_train[train_index] \n",
        "      y_tr = self.Y_train[:,y_idx][train_index] \n",
        "      X_val = X_train[valid_index]  \n",
        "\n",
        "      #폴드 세트 내부에서 다시 만들어진 학습 데이터로 기반 모델의 학습 수행.\n",
        "      trained_model = self.model(**param).fit(X_tr , y_tr)  \n",
        "      #폴드 세트 내부에서 다시 만들어진 검증 데이터로 기반 모델 예측 후 데이터 저장.\n",
        "      train_fold_pred[valid_index, :] = trained_model.predict(X_val).reshape(-1,1)\n",
        "    \n",
        "    # 예측 결과 class 내 저장\n",
        "    self.train_preds[y_idx] = train_fold_pred\n",
        "    # 학습 데이터 전체로 모델 학습 후 학습 완료된 모델 class 내 저장\n",
        "    self.trained_models[y_idx] = [self.model(**param).fit(X_train , self.Y_train[:,y_idx])]\n",
        "\n",
        "    # 학습 완료시 모델을 파일로 저장\n",
        "    if (save):\n",
        "      self.save()\n",
        "  \n",
        "\n",
        "  # Y 하나에 대해 예측 수행\n",
        "  def y_predict(self, X_test, y_idx):\n",
        "    # 학습 완료된 모델 갯수 확인\n",
        "    size = len(self.trained_models[y_idx])\n",
        "    # 예측 결과를 넣을 ndarray 생성\n",
        "    test_pred = np.zeros((X_test.shape[0], size))\n",
        "\n",
        "    # 학습 완료된 모델 갯수만큼 예측 수행 \n",
        "    for counter in range(size):\n",
        "      test_pred[:, counter] = self.trained_models[y_idx][counter].predict(X_test)\n",
        "\n",
        "    # 예측된 결과값에 대해 평균을 구함\n",
        "    test_pred_mean = np.mean(test_pred, axis=1).reshape(-1,1)\n",
        "\n",
        "    # 예측된 결과값을 class 내 저장\n",
        "    self.test_preds[y_idx] = test_pred_mean\n",
        "\n",
        "    return test_pred_mean\n",
        "  \n",
        "\n",
        "  # 머신러닝 훈련 실행\n",
        "  # 파라미터 직접 적용시 동일 파라미터가 전체 적용\n",
        "  # 불러오기 적용시 개별 적용\n",
        "  def fit(self, n_folds, use_params = False, params = None, save = False):\n",
        "    print(self.name, 'Started')\n",
        "\n",
        "    # use_params이 참이고, params가 없을 시 class 이름으로 하이퍼파라미터 튜닝된 파라미터 불러오기\n",
        "    if (use_params):\n",
        "      if (params is None):\n",
        "        params = self.load_params(self.name)\n",
        "        print('Params Loaded!')\n",
        "        for y_idx in range(14):\n",
        "          print(y_idx, end= ' ')\n",
        "          self.y_fit(n_folds, y_idx, None, params[y_idx], save)\n",
        "\n",
        "      # use_params이 참이고, params이 존재할 시 모델 전체에 동일 params 적용\n",
        "      else:\n",
        "        for y_idx in range(14):\n",
        "          print(y_idx, end= ' ')\n",
        "          self.y_fit(n_folds, y_idx, None, params, save)\n",
        "    \n",
        "    # 파라미터 미적용\n",
        "    else:\n",
        "      for y_idx in range(14):\n",
        "        print(y_idx, end= ' ')\n",
        "        self.y_fit(n_folds, y_idx, save = save)\n",
        "    \n",
        "    print(self.name, 'Trained!')\n",
        "\n",
        "\n",
        "  # 머신러닝 훈련 실행\n",
        "  # 모델 저장시 하나의 모델로 저장하여 모델 경량화\n",
        "  def slim_fit(self, n_folds, use_params = False, params = None, save = False):\n",
        "    print(self.name, 'Started')\n",
        "\n",
        "    # use_params이 참이고, params가 없을 시 class 이름으로 하이퍼파라미터 튜닝된 파라미터 불러오기\n",
        "    if (use_params):\n",
        "      if (params is None):\n",
        "        params = self.load_params(self.name)\n",
        "        print('Params Loaded!')\n",
        "        for y_idx in range(14):\n",
        "          print(y_idx, end= ' ')\n",
        "          self.slim_y_fit(n_folds, y_idx, None, params[y_idx], save)\n",
        "\n",
        "      # use_params이 참이고, params이 존재할 시 모델 전체에 동일 params 적용\n",
        "      else:\n",
        "        for y_idx in range(14):\n",
        "          print(y_idx, end= ' ')\n",
        "          self.slim_y_fit(n_folds, y_idx, None, params, save)\n",
        "    \n",
        "    # 파라미터 미적용\n",
        "    else:\n",
        "      for y_idx in range(14):\n",
        "        print(y_idx, end= ' ')\n",
        "        self.slim_y_fit(n_folds, y_idx, save = save)\n",
        "    \n",
        "    print(self.name, 'Slim!')\n",
        "\n",
        "\n",
        "  # 학습된 모델을 통해 예측\n",
        "  def predict(self, X_test):\n",
        "    for y_idx in range(14):\n",
        "      self.y_predict(X_test, y_idx)\n",
        "\n",
        "    return np.hstack(self.test_preds)\n",
        "\n",
        "\n",
        "  # 예측된 Y_train 결과 반환\n",
        "  def get_train_preds(self):\n",
        "    return np.hstack(self.train_preds)\n",
        "\n",
        "\n",
        "  # 예측된 Y_test 결과 반환\n",
        "  def get_test_preds(self):\n",
        "    return np.hstack(self.test_preds)\n",
        "\n",
        "\n",
        "  # nrmse 값 반환\n",
        "  def nrmse(self, y_idx):\n",
        "    rmse = mean_squared_error(self.Y_train[:,y_idx], self.train_preds[y_idx], squared=False)\n",
        "    nrmse = rmse/np.mean(np.abs(self.Y_train[:,y_idx]))\n",
        "    return nrmse\n",
        "\n",
        "\n",
        "  # 모델의 Cross-validation 점수 반환\n",
        "  def score(self):\n",
        "    all_nrmse = [None] * 14\n",
        "    for y_idx in range(14):\n",
        "      all_nrmse[y_idx] = self.nrmse(y_idx)\n",
        "\n",
        "    score = 1.2 * np.sum(all_nrmse[:7]) + 1.0 * np.sum(all_nrmse[7:14])\n",
        "    return score\n",
        "  \n",
        "\n",
        "  # 모델을 현재 이름으로 저장\n",
        "  def save(self):\n",
        "    saved_data = self.model, self.name, self.train_preds, self.trained_models, self.test_preds\n",
        "    try:\n",
        "      os.mkdir('/content/gdrive/MyDrive/[22-2] ESAA 스터디' + \"ML_model\")\n",
        "    except:\n",
        "      pass\n",
        "    joblib.dump(saved_data, '/content/gdrive/MyDrive/[22-2] ESAA 스터디' + \"ML_model/saved_\" + self.name + \".pkl\")\n",
        "    # print(self.name, 'Saved!')\n",
        "\n",
        "\n",
        "  # 모델을 현재 이름 혹은 입력한 이름으로 불러오기\n",
        "  def load(self, name = None):\n",
        "    if (not name):\n",
        "      name = self.name\n",
        "    try:\n",
        "      loaded_data = joblib.load('/content/gdrive/MyDrive/[22-2] ESAA 스터디' + \"ML_model/saved_\" + name + \".pkl\")\n",
        "      self.model, self.name, self.train_preds, self.trained_models, self.test_preds = loaded_data\n",
        "      print(self.name, 'Loaded!')\n",
        "\n",
        "      # 학습 전체가 완료된 모델일시 참 반환, 학습이 남은 모델일시 거짓 반환\n",
        "      if (self.trained_models[13] is None):\n",
        "        return False\n",
        "      else:\n",
        "        return True\n",
        "    except:\n",
        "      print(self.name, 'didnt loaded')\n",
        "      return False\n",
        "\n",
        "\n",
        "  # 파라미터 불러오기\n",
        "  def load_params(self, name):\n",
        "    params = [None] * 14\n",
        "    for y_idx in range(14):\n",
        "      try:\n",
        "        load_study = joblib.load('/content/gdrive/MyDrive/[22-2] ESAA 스터디' + \"tune_param/\" + name + \"/tune_\" + str(y_idx) + \".pkl\")\n",
        "        params[y_idx] = load_study.best_trial.params\n",
        "      except:\n",
        "        print(name, y_idx,'params didnt loaded')\n",
        "\n",
        "    return params"
      ],
      "metadata": {
        "id": "ZFir-QljeOZM"
      },
      "execution_count": null,
      "outputs": []
    },
    {
      "cell_type": "markdown",
      "source": [
        "### **9.3 CV_ml_model을 확장한 Stacking ensemble을 위한 Meta Learning class 정의**"
      ],
      "metadata": {
        "id": "QpZIIlgog6OG"
      }
    },
    {
      "cell_type": "code",
      "source": [
        "class meta_ml_model(CV_ml_model):\n",
        "  def __init__(self, model, X_train, Y_train):\n",
        "    super().__init__(model, X_train, Y_train)\n",
        "    self.ml_models = []\n",
        "    self.trained = []\n",
        "\n",
        "  \n",
        "  # 머신러닝 모델 추가\n",
        "  # 훈련된 CV_ml_model을 받음\n",
        "  def add_trained_ml_models(self, *models:CV_ml_model):\n",
        "    for model in models:\n",
        "      self.ml_models.append(model)\n",
        "      self.trained.append(True)\n",
        "\n",
        "\n",
        "  # 머신러닝 모델 추가\n",
        "  # 훈련안된 머신러닝 모델 함수를 받음\n",
        "  def add_new_ml_models(self, *models):\n",
        "    for model in models:\n",
        "      new_model = CV_ml_model(model, self.X_train, self.Y_train)\n",
        "      self.ml_models.append(new_model)\n",
        "      self.trained.append(False)\n",
        "\n",
        "\n",
        "  # 머신러닝 모델 전체 훈련\n",
        "  # 훈련되어있지 않은 모델만 훈련함\n",
        "  def fit_ml_model(self, n_folds, save = False):\n",
        "    for idx, model in enumerate(self.ml_models):\n",
        "      if (not self.trained[idx]):\n",
        "        model.fit(n_folds, save=save)\n",
        "        self.trained[idx] = True\n",
        "\n",
        "\n",
        "  # class 내에 추가된 머신러닝 모델 전체 불러오기\n",
        "  def load_all_models(self):\n",
        "    for idx, model in enumerate(self.ml_models):\n",
        "      self.trained[idx] = model.load()\n",
        "\n",
        "\n",
        "  # class 내에 추가된 머신러닝 모델 전체 저장\n",
        "  def save_all_models(self):\n",
        "    for model in self.ml_models:\n",
        "      model.save()\n",
        "\n",
        "\n",
        "  # 훈련 여부 수동 체크\n",
        "  def trained_check(self, idx):\n",
        "    self.trained[idx] = True\n",
        "\n",
        "\n",
        "  # 머신러닝 모델 하나 훈련 (파라미터 입력 가능)\n",
        "  def fit_one_ml_model(self, n_folds, model_idx, use_params = False, params = None, save=False):\n",
        "    self.ml_models[model_idx].fit(n_folds, use_params, params, save)\n",
        "    self.trained[model_idx] = True\n",
        "\n",
        "\n",
        "  # 머신러닝 모델 하나 경량 훈련 (파라미터 입력 가능)\n",
        "  def slim_fit_one_ml_model(self, n_folds, model_idx, use_params = False, params = None, save=False):\n",
        "    self.ml_models[model_idx].slim_fit(n_folds, use_params, params, save)\n",
        "    self.trained[model_idx] = True\n",
        "\n",
        "  \n",
        "  # 모델 전체 입력값 예측\n",
        "  def predict_ml_model(self, X_test):\n",
        "    for model in self.ml_models:\n",
        "      model.predict(X_test)\n",
        "\n",
        "  \n",
        "  # 모델 이름 변경\n",
        "  def set_ml_name(self, model_idx, name):\n",
        "    self.ml_models[model_idx].set_name(name)\n",
        "\n",
        "\n",
        "  # 메타 훈련을 위해 해당 Y인덱스만 남기고 훈련\n",
        "  # 훈련되지 않은 모델은 훈련 진행\n",
        "  def meta_fit(self, n_folds):\n",
        "    Y_preds = []\n",
        "\n",
        "    # X_train, Y_train을 통해 학습된 Y_pred를 Y_preds에 추가\n",
        "    for idx, model in enumerate(self.ml_models):\n",
        "      if (not self.trained[idx]):\n",
        "        model.fit(n_folds)\n",
        "        self.trained[idx] = True\n",
        "      Y_preds.append(model.get_train_preds())\n",
        "\n",
        "    Y_preds = np.hstack(Y_preds)\n",
        "\n",
        "    for y_idx in range(14):\n",
        "      print(y_idx, end= ' ')\n",
        "      # y_idx와 동일한 y_pred만을 메타 러닝\n",
        "      X_meta_train = Y_preds[:, [i for i in range(Y_preds.shape[1]) if i % 14 == y_idx]]\n",
        "      super().y_fit(n_folds, y_idx, X_meta_train)\n",
        "\n",
        "    print('Meta', self.name, 'Trained!')\n",
        "\n",
        "\n",
        "  # 학습된 모델을 통해 메타 예측\n",
        "  # meta_fit 선행 필수\n",
        "  def meta_predict(self, X_test):\n",
        "    Y_preds = []\n",
        "    X_test = super().to_np(X_test)\n",
        "\n",
        "    # X_test를 통해 예측된 Y_pred를 Y_preds에 추가\n",
        "    for idx, model in enumerate(self.ml_models):\n",
        "      print(model.name, 'Predict Started!')\n",
        "      model.predict(X_test)\n",
        "      Y_preds.append(model.get_test_preds())\n",
        "\n",
        "    Y_preds = np.hstack(Y_preds)\n",
        "\n",
        "    print('Meta Train Started!')\n",
        "\n",
        "    for y_idx in range(14):\n",
        "      # y_idx와 동일한 y_pred만을 통해 예측\n",
        "      X_meta_test = Y_preds[:, [i for i in range(Y_preds.shape[1]) if i % 14 == y_idx]]\n",
        "      super().y_predict(X_meta_test, y_idx)\n",
        "\n",
        "    return np.hstack(self.test_preds)\n",
        "  \n",
        "  \n",
        "  # 전체 모델에 대한 점수 확인\n",
        "  def scores(self):\n",
        "    scores = {}\n",
        "    for model in self.ml_models:\n",
        "      scores[model.name] = model.score()\n",
        "    return scores"
      ],
      "metadata": {
        "id": "qsxZhb2hg5TK"
      },
      "execution_count": null,
      "outputs": []
    },
    {
      "cell_type": "markdown",
      "source": [
        "### **9.4 Stacking ensemble 수행**"
      ],
      "metadata": {
        "id": "xXeNzjttheD-"
      }
    },
    {
      "cell_type": "markdown",
      "source": [
        "> 메타 모델 생성"
      ],
      "metadata": {
        "id": "3n8CKRiPhhDT"
      }
    },
    {
      "cell_type": "code",
      "source": [
        "# 메타 모델 생성\n",
        "meta_model = meta_ml_model(Ridge, X_train, Y_train)\n",
        "meta_model.set_name('Meta_Ridge')"
      ],
      "metadata": {
        "id": "W0ynei1DhnzK"
      },
      "execution_count": null,
      "outputs": []
    },
    {
      "cell_type": "markdown",
      "source": [
        "> 메타 모델 내에 기반 모델 추가"
      ],
      "metadata": {
        "id": "z2SOKErVhvHx"
      }
    },
    {
      "cell_type": "code",
      "source": [
        "# 메타 모델 내에 튜닝되지 않은 기반 모델 추가\n",
        "meta_model.add_new_ml_models(\n",
        "    LinearRegression, Ridge, Lasso, ElasticNet, LassoLars,\n",
        "    OrthogonalMatchingPursuit, BayesianRidge, ARDRegression, GradientBoostingRegressor,\n",
        "    HistGradientBoostingRegressor, XGBRegressor, LGBMRegressor, CatBoostRegressor\n",
        ")"
      ],
      "metadata": {
        "id": "wClZO8ZEhuq4"
      },
      "execution_count": null,
      "outputs": []
    },
    {
      "cell_type": "code",
      "source": [
        "# 메타 모댈 내에 하이퍼파라미터 튜닝된 기반 모델 추가\n",
        "meta_model.add_new_ml_models(\n",
        "    HistGradientBoostingRegressor, XGBRegressor, LGBMRegressor, CatBoostRegressor\n",
        ")\n",
        "\n",
        "meta_model.set_ml_name(13, 'HistGradientBoostingRegressor_tune')\n",
        "meta_model.set_ml_name(14, 'XGBRegressor_tune')\n",
        "meta_model.set_ml_name(15, 'LGBMRegressor_tune')\n",
        "meta_model.set_ml_name(16, 'CatBoostRegressor_tune')"
      ],
      "metadata": {
        "id": "WMXsJLh3iEEY"
      },
      "execution_count": null,
      "outputs": []
    },
    {
      "cell_type": "markdown",
      "source": [
        "> 학습된 모델을 불러오거나 직접 학습"
      ],
      "metadata": {
        "id": "2u3cCJThiZl7"
      }
    },
    {
      "cell_type": "code",
      "source": [
        "# 학습된 모델 불러오기\n",
        "meta_model.load_all_models()\n",
        "meta_model.load()"
      ],
      "metadata": {
        "id": "tpYquEvwia_3"
      },
      "execution_count": null,
      "outputs": []
    },
    {
      "cell_type": "code",
      "source": [
        "# 학습된 모델을 불러오지 않고 직접 학습하기\n",
        "\n",
        "# GradientBoostingRegressor에 대해 경량화 훈련\n",
        "meta_model.slim_fit_one_ml_model(10, 8)\n",
        "\n",
        "# HistGradientBoostingRegressor에 대해 경량화 훈련\n",
        "meta_model.slim_fit_one_ml_model(10, 9)\n",
        "\n",
        "# XGBRegressor에 대해 경량화 훈련\n",
        "meta_model.slim_fit_one_ml_model(10, 10, True, {'objective': 'reg:squarederror', 'random_state': SEED})\n",
        "\n",
        "# LGBMRegressor에 대해 경량화 훈련\n",
        "meta_model.slim_fit_one_ml_model(10, 11, True, {'random_state': SEED, 'verbose': -1, 'device': 'gpu'})\n",
        "\n",
        "# CatBoostRegressor에 대해 경량화 훈련\n",
        "meta_model.slim_fit_one_ml_model(10, 12, True, {'loss_function': 'RMSE', 'logging_level': 'Silent', 'random_state': SEED})\n",
        "\n",
        "# HistGradientBoostingRegressor_tune에 대해 하이퍼파라미터 튜닝된 경량화 훈련\n",
        "meta_model.slim_fit_one_ml_model(10, 13, True)\n",
        "\n",
        "# XGBRegressor_tune에 대해 하이퍼파라미터 튜닝된 경량화 훈련\n",
        "meta_model.slim_fit_one_ml_model(10, 14, True)\n",
        "\n",
        "# LGBMRegressor_tune에 대해 하이퍼파라미터 튜닝된 경량화 훈련\n",
        "meta_model.slim_fit_one_ml_model(5, 15, True)\n",
        "\n",
        "# CatBoostRegressor_tune에 대해 하이퍼파라미터 튜닝된 경량화 훈련\n",
        "meta_model.slim_fit_one_ml_model(10, 16, True)\n",
        "\n",
        "# 학습 안된 기반 모델 학습\n",
        "meta_model.fit_ml_model(10)\n",
        "\n",
        "# 기반 모델의 예측 결과를 최종 데이터 세트로 하여 메타 모델 학습\n",
        "meta_model.meta_fit(10)"
      ],
      "metadata": {
        "id": "wGYGjfdbigNH"
      },
      "execution_count": null,
      "outputs": []
    },
    {
      "cell_type": "markdown",
      "source": [
        "---"
      ],
      "metadata": {
        "id": "TWEVzSWmjMb0"
      }
    },
    {
      "cell_type": "markdown",
      "source": [
        "## **10. 성능 평가**"
      ],
      "metadata": {
        "id": "o9VQ3wDgjNHa"
      }
    },
    {
      "cell_type": "markdown",
      "source": [
        "  - 메타 모델 내의 기반 모델별 성능 평가 (Cross-validation)"
      ],
      "metadata": {
        "id": "0se_zbySjXHj"
      }
    },
    {
      "cell_type": "code",
      "source": [
        "meta_model.scores()"
      ],
      "metadata": {
        "id": "QABcKcuvjMru"
      },
      "execution_count": null,
      "outputs": []
    },
    {
      "cell_type": "markdown",
      "source": [
        "  - 메타 모델 전체 성능 평가 (Cross-validation)"
      ],
      "metadata": {
        "id": "TDd4286QjVUp"
      }
    },
    {
      "cell_type": "code",
      "source": [
        "meta_model.score()"
      ],
      "metadata": {
        "id": "_4cRSfvXjT-Y"
      },
      "execution_count": null,
      "outputs": []
    },
    {
      "cell_type": "markdown",
      "source": [
        "---"
      ],
      "metadata": {
        "id": "U8WH36EhlowP"
      }
    },
    {
      "cell_type": "markdown",
      "source": [
        "## **11. 테스트 데이터 예측**"
      ],
      "metadata": {
        "id": "Caoqy3XulpWP"
      }
    },
    {
      "cell_type": "code",
      "source": [
        "# 테스트 데이터 로딩\n",
        "test = pd.read_csv('/content/test.csv').drop(columns = ['ID'])"
      ],
      "metadata": {
        "id": "n0bQNBWnlpDW"
      },
      "execution_count": null,
      "outputs": []
    },
    {
      "cell_type": "code",
      "source": [
        "# 영향 없는 인자 제거\n",
        "X_test = test.drop(['X_02', 'X_04', 'X_10', 'X_11', 'X_23', 'X_47', 'X_48'], axis=1)"
      ],
      "metadata": {
        "id": "vOJm585cl30g"
      },
      "execution_count": null,
      "outputs": []
    },
    {
      "cell_type": "code",
      "source": [
        "# Optuna로 최적화된 PCA 파라미터 적용\n",
        "pca_5 = PCA_transform()\n",
        "X_train = pca_5.fit_transform(X_train, ['X_13', 'X_14', 'X_15', 'X_16', 'X_17', 'X_18'], 5)\n",
        "X_train = pca_5.fit_transform(X_train, ['X_19', 'X_20', 'X_21', 'X_22'], 3)\n",
        "X_train = pca_5.fit_transform(X_train, ['X_24', 'X_25', 'X_26', 'X_27', 'X_28', 'X_29'], 2)\n",
        "X_train = pca_5.fit_transform(X_train, ['X_30', 'X_31', 'X_32', 'X_33'], 3)\n",
        "X_train = pca_5.fit_transform(X_train, ['X_34', 'X_35', 'X_36', 'X_37'], 1)\n",
        "X_train = pca_5.fit_transform(X_train, ['X_38', 'X_39', 'X_40'], 1)"
      ],
      "metadata": {
        "id": "OROvhHtMm4Oy"
      },
      "execution_count": null,
      "outputs": []
    },
    {
      "cell_type": "code",
      "source": [
        "# PCA 변환\n",
        "X_test = pca_5.transform(X_test)"
      ],
      "metadata": {
        "id": "pHvckjNOl80G"
      },
      "execution_count": null,
      "outputs": []
    },
    {
      "cell_type": "code",
      "source": [
        "%%time\n",
        "\n",
        "Y_pred = meta_model.meta_predict(X_test)"
      ],
      "metadata": {
        "id": "kJbIVVWwmAPK"
      },
      "execution_count": null,
      "outputs": []
    },
    {
      "cell_type": "code",
      "source": [
        "# csv 파일로 저장\n",
        "def result(test, name = ''):\n",
        "  submit = pd.read_csv('/content/gdrive/MyDrive/[22-2] ESAA 스터디' +'sample_submission.csv')\n",
        "\n",
        "  for idx, col in enumerate(submit.columns):\n",
        "      if col=='ID':\n",
        "          continue\n",
        "      submit[col] = test[:,idx-1]\n",
        "\n",
        "  submit.to_csv('/content/gdrive/MyDrive/[22-2] ESAA 스터디' + f'submission{name}.csv', index=False)\n",
        "  print('Done.')"
      ],
      "metadata": {
        "id": "oV4aSonXmC6D"
      },
      "execution_count": null,
      "outputs": []
    },
    {
      "cell_type": "code",
      "source": [
        "result(Y_pred)"
      ],
      "metadata": {
        "id": "b2nMtr48mF-e"
      },
      "execution_count": null,
      "outputs": []
    }
  ],
  "metadata": {
    "colab": {
      "provenance": [],
      "include_colab_link": true
    },
    "kernelspec": {
      "display_name": "Python 3",
      "name": "python3"
    },
    "language_info": {
      "name": "python"
    },
    "accelerator": "GPU",
    "gpuClass": "standard"
  },
  "nbformat": 4,
  "nbformat_minor": 0
}